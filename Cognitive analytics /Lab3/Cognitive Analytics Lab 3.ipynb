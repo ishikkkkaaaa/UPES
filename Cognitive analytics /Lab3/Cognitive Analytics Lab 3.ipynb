{
 "cells": [
  {
   "cell_type": "markdown",
   "id": "db22e438",
   "metadata": {},
   "source": [
    "### Ishika Kesarwani\n",
    "\n",
    "# 500075359\n",
    "\n",
    "# AIML BATCH 4"
   ]
  },
  {
   "cell_type": "code",
   "execution_count": 12,
   "id": "b5531725",
   "metadata": {},
   "outputs": [],
   "source": [
    "import numpy as np\n",
    "import matplotlib.pyplot as plt\n",
    "import pandas as pd"
   ]
  },
  {
   "cell_type": "code",
   "execution_count": 14,
   "id": "225d6ac9",
   "metadata": {},
   "outputs": [
    {
     "data": {
      "text/html": [
       "<div>\n",
       "<style scoped>\n",
       "    .dataframe tbody tr th:only-of-type {\n",
       "        vertical-align: middle;\n",
       "    }\n",
       "\n",
       "    .dataframe tbody tr th {\n",
       "        vertical-align: top;\n",
       "    }\n",
       "\n",
       "    .dataframe thead th {\n",
       "        text-align: right;\n",
       "    }\n",
       "</style>\n",
       "<table border=\"1\" class=\"dataframe\">\n",
       "  <thead>\n",
       "    <tr style=\"text-align: right;\">\n",
       "      <th></th>\n",
       "      <th>YearsExperience</th>\n",
       "      <th>Salary</th>\n",
       "    </tr>\n",
       "  </thead>\n",
       "  <tbody>\n",
       "    <tr>\n",
       "      <th>0</th>\n",
       "      <td>1.1</td>\n",
       "      <td>39343</td>\n",
       "    </tr>\n",
       "    <tr>\n",
       "      <th>1</th>\n",
       "      <td>1.3</td>\n",
       "      <td>46205</td>\n",
       "    </tr>\n",
       "    <tr>\n",
       "      <th>2</th>\n",
       "      <td>1.5</td>\n",
       "      <td>37731</td>\n",
       "    </tr>\n",
       "    <tr>\n",
       "      <th>3</th>\n",
       "      <td>2.0</td>\n",
       "      <td>43525</td>\n",
       "    </tr>\n",
       "    <tr>\n",
       "      <th>4</th>\n",
       "      <td>2.2</td>\n",
       "      <td>39891</td>\n",
       "    </tr>\n",
       "    <tr>\n",
       "      <th>5</th>\n",
       "      <td>2.9</td>\n",
       "      <td>56642</td>\n",
       "    </tr>\n",
       "    <tr>\n",
       "      <th>6</th>\n",
       "      <td>3.0</td>\n",
       "      <td>60150</td>\n",
       "    </tr>\n",
       "    <tr>\n",
       "      <th>7</th>\n",
       "      <td>3.2</td>\n",
       "      <td>54445</td>\n",
       "    </tr>\n",
       "    <tr>\n",
       "      <th>8</th>\n",
       "      <td>3.2</td>\n",
       "      <td>64445</td>\n",
       "    </tr>\n",
       "    <tr>\n",
       "      <th>9</th>\n",
       "      <td>3.7</td>\n",
       "      <td>57189</td>\n",
       "    </tr>\n",
       "    <tr>\n",
       "      <th>10</th>\n",
       "      <td>3.9</td>\n",
       "      <td>63218</td>\n",
       "    </tr>\n",
       "    <tr>\n",
       "      <th>11</th>\n",
       "      <td>4.0</td>\n",
       "      <td>55794</td>\n",
       "    </tr>\n",
       "    <tr>\n",
       "      <th>12</th>\n",
       "      <td>4.0</td>\n",
       "      <td>56957</td>\n",
       "    </tr>\n",
       "    <tr>\n",
       "      <th>13</th>\n",
       "      <td>4.1</td>\n",
       "      <td>57081</td>\n",
       "    </tr>\n",
       "    <tr>\n",
       "      <th>14</th>\n",
       "      <td>4.5</td>\n",
       "      <td>61111</td>\n",
       "    </tr>\n",
       "    <tr>\n",
       "      <th>15</th>\n",
       "      <td>4.9</td>\n",
       "      <td>67938</td>\n",
       "    </tr>\n",
       "    <tr>\n",
       "      <th>16</th>\n",
       "      <td>5.1</td>\n",
       "      <td>66029</td>\n",
       "    </tr>\n",
       "    <tr>\n",
       "      <th>17</th>\n",
       "      <td>5.3</td>\n",
       "      <td>83088</td>\n",
       "    </tr>\n",
       "    <tr>\n",
       "      <th>18</th>\n",
       "      <td>5.9</td>\n",
       "      <td>81363</td>\n",
       "    </tr>\n",
       "    <tr>\n",
       "      <th>19</th>\n",
       "      <td>6.0</td>\n",
       "      <td>93940</td>\n",
       "    </tr>\n",
       "    <tr>\n",
       "      <th>20</th>\n",
       "      <td>6.8</td>\n",
       "      <td>91738</td>\n",
       "    </tr>\n",
       "    <tr>\n",
       "      <th>21</th>\n",
       "      <td>7.1</td>\n",
       "      <td>98273</td>\n",
       "    </tr>\n",
       "    <tr>\n",
       "      <th>22</th>\n",
       "      <td>7.9</td>\n",
       "      <td>101302</td>\n",
       "    </tr>\n",
       "    <tr>\n",
       "      <th>23</th>\n",
       "      <td>8.2</td>\n",
       "      <td>113812</td>\n",
       "    </tr>\n",
       "    <tr>\n",
       "      <th>24</th>\n",
       "      <td>8.7</td>\n",
       "      <td>109431</td>\n",
       "    </tr>\n",
       "    <tr>\n",
       "      <th>25</th>\n",
       "      <td>9.0</td>\n",
       "      <td>105582</td>\n",
       "    </tr>\n",
       "    <tr>\n",
       "      <th>26</th>\n",
       "      <td>9.5</td>\n",
       "      <td>116969</td>\n",
       "    </tr>\n",
       "    <tr>\n",
       "      <th>27</th>\n",
       "      <td>9.6</td>\n",
       "      <td>112635</td>\n",
       "    </tr>\n",
       "    <tr>\n",
       "      <th>28</th>\n",
       "      <td>10.3</td>\n",
       "      <td>122391</td>\n",
       "    </tr>\n",
       "    <tr>\n",
       "      <th>29</th>\n",
       "      <td>10.5</td>\n",
       "      <td>121872</td>\n",
       "    </tr>\n",
       "  </tbody>\n",
       "</table>\n",
       "</div>"
      ],
      "text/plain": [
       "    YearsExperience  Salary\n",
       "0               1.1   39343\n",
       "1               1.3   46205\n",
       "2               1.5   37731\n",
       "3               2.0   43525\n",
       "4               2.2   39891\n",
       "5               2.9   56642\n",
       "6               3.0   60150\n",
       "7               3.2   54445\n",
       "8               3.2   64445\n",
       "9               3.7   57189\n",
       "10              3.9   63218\n",
       "11              4.0   55794\n",
       "12              4.0   56957\n",
       "13              4.1   57081\n",
       "14              4.5   61111\n",
       "15              4.9   67938\n",
       "16              5.1   66029\n",
       "17              5.3   83088\n",
       "18              5.9   81363\n",
       "19              6.0   93940\n",
       "20              6.8   91738\n",
       "21              7.1   98273\n",
       "22              7.9  101302\n",
       "23              8.2  113812\n",
       "24              8.7  109431\n",
       "25              9.0  105582\n",
       "26              9.5  116969\n",
       "27              9.6  112635\n",
       "28             10.3  122391\n",
       "29             10.5  121872"
      ]
     },
     "execution_count": 14,
     "metadata": {},
     "output_type": "execute_result"
    }
   ],
   "source": [
    "dataset = pd.read_csv(r'C:\\Users\\HP\\OneDrive\\Desktop\\500075359\\SEM 6\\Cognitive Analytics LAB\\salary_data.csv')\n",
    "dataset"
   ]
  },
  {
   "cell_type": "code",
   "execution_count": 15,
   "id": "6ddfc4ca",
   "metadata": {},
   "outputs": [],
   "source": [
    "X=dataset[\"YearsExperience\"].values\n",
    "y=dataset[\"Salary\"].values"
   ]
  },
  {
   "cell_type": "code",
   "execution_count": 17,
   "id": "21ad78d9",
   "metadata": {},
   "outputs": [],
   "source": [
    "def extractDigits(lst):\n",
    "    return [[el] for el in lst]"
   ]
  },
  {
   "cell_type": "code",
   "execution_count": 18,
   "id": "3a19d7db",
   "metadata": {},
   "outputs": [],
   "source": [
    "X_l=extractDigits(X)\n",
    "X_l = np.array(X_l)"
   ]
  },
  {
   "cell_type": "code",
   "execution_count": 20,
   "id": "f951243a",
   "metadata": {},
   "outputs": [],
   "source": [
    "class PolynomailRegression() :\n",
    "    def __init__(self, degree, learning_rate, iterations):\n",
    "        self.degree = degree\n",
    "        self.learning_rate = learning_rate\n",
    "        self.iterations = iterations\n",
    "        \n",
    "    def transformVector(self, X):\n",
    "        X_transform = np.ones((self.m, 1))\n",
    "        j = 0\n",
    "        for j in range(self.degree + 1):\n",
    "            if j != 0:\n",
    "                x_pow = np.power(X, j)\n",
    "                X_transform = np.append( X_transform, x_pow.reshape(-1, 1),axis=1)\n",
    "        return X_transform\n",
    "    \n",
    "    def normalizeVector(self, X):\n",
    "        X[:, 1:] = (X[:, 1:] - np.mean(X[:, 1:], axis=0))/np.std(X[:, 1:],axis=0)\n",
    "        return X\n",
    "    \n",
    "    def run(self,X,Y):\n",
    "        self.X = X\n",
    "        self.Y = Y\n",
    "        self.m, self.n = self.X.shape\n",
    "        self.W = np.zeros(self.degree + 1)\n",
    "        X_transform = self.transformVector(self.X)\n",
    "        X_normalize = self.normalizeVector(X_transform)\n",
    "        for i in range(self.iterations): #gradient descent\n",
    "            h = self.getResults(self.X)\n",
    "            error = h - self.Y\n",
    "            self.W = self.W - self.learning_rate * (1/self.m)*np.dot(X_normalize.T,error)\n",
    "        return self\n",
    "\n",
    "    def getResults(self,X):\n",
    "        X_transform = self.transformVector(X)\n",
    "        X_normalize = self.normalizeVector(X_transform)\n",
    "        return np.dot(X_transform, self.W)\n"
   ]
  },
  {
   "cell_type": "code",
   "execution_count": 21,
   "id": "0440e0eb",
   "metadata": {},
   "outputs": [
    {
     "data": {
      "text/plain": [
       "<__main__.PolynomailRegression at 0x2cbf4ae3640>"
      ]
     },
     "execution_count": 21,
     "metadata": {},
     "output_type": "execute_result"
    }
   ],
   "source": [
    "model = PolynomailRegression(degree = 2, learning_rate = 0.02, iterations = 750)\n",
    "model.run(X_l,y)"
   ]
  },
  {
   "cell_type": "code",
   "execution_count": 22,
   "id": "6cd5b266",
   "metadata": {},
   "outputs": [
    {
     "name": "stdout",
     "output_type": "stream",
     "text": [
      "[ 40563.14370746  41909.86656564  43279.48950948  46803.73474387\n",
      "  48253.50798753  53508.05251497  54281.60181884  55845.87549083\n",
      "  55845.87549083  59856.74754559  61501.1715174   62331.97103543\n",
      "  62331.97103543  63168.49557488  66571.84394683  70066.79266144\n",
      "  71848.61714724  73653.3417187   79204.91594709  80150.21589344\n",
      "  87918.71623525  90926.36671679  99198.66894321 102395.24513149\n",
      " 107837.37254027 111171.34924253 116842.47750795 117993.87822529\n",
      " 126213.98384627 128614.11064501]\n"
     ]
    }
   ],
   "source": [
    "y_pred = model.getResults(X)\n",
    "print(y_pred)"
   ]
  },
  {
   "cell_type": "code",
   "execution_count": 23,
   "id": "9ba8eafa",
   "metadata": {},
   "outputs": [
    {
     "data": {
      "image/png": "[encoded data removed]",
      "text/plain": [
       "<Figure size 432x288 with 1 Axes>"
      ]
     },
     "metadata": {
      "needs_background": "light"
     },
     "output_type": "display_data"
    }
   ],
   "source": [
    "plt.scatter(X,y,color='Blue')\n",
    "plt.plot(X,y_pred,color='Red')\n",
    "plt.show()"
   ]
  },
  {
   "cell_type": "code",
   "execution_count": null,
   "id": "736d5399",
   "metadata": {},
   "outputs": [],
   "source": []
  }
 ],
 "metadata": {
  "kernelspec": {
   "display_name": "Python 3",
   "language": "python",
   "name": "python3"
  },
  "language_info": {
   "codemirror_mode": {
    "name": "ipython",
    "version": 3
   },
   "file_extension": ".py",
   "mimetype": "text/x-python",
   "name": "python",
   "nbconvert_exporter": "python",
   "pygments_lexer": "ipython3",
   "version": "3.8.8"
  }
 },
 "nbformat": 4,
 "nbformat_minor": 5
}
