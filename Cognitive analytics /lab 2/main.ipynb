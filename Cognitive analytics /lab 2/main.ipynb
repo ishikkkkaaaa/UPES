{
 "cells": [
  {
   "cell_type": "markdown",
   "source": [
    "# EXPERIMENT 1\n",
    "## NAME - ISHIKA KESARWANI\n",
    "## SAP ID - 500076373\n",
    "## ROLL NO. - 92\n",
    "## BRANCH - AIML B3\n",
    "\n",
    "<b>Implement the simple linear regression from the scratch  without using any library fuction. Use the concept of variance and covariance of data points to find the required parameters</b>"
   ],
   "metadata": {}
  },
  {
   "cell_type": "code",
   "execution_count": 3,
   "source": [
    "# implement linear regression from scratch without any library \n",
    "# and plot the result"
   ],
   "outputs": [],
   "metadata": {}
  },
  {
   "cell_type": "code",
   "execution_count": 5,
   "source": [
    "import pandas as pd                       \n",
    "data = pd.read_csv(\"train.csv\")     \n",
    "print(data.head()) "
   ],
   "outputs": [
    {
     "output_type": "stream",
     "name": "stdout",
     "text": [
      "      x          y\n",
      "0  24.0  21.549452\n",
      "1  50.0  47.464463\n",
      "2  15.0  17.218656\n",
      "3  38.0  36.586398\n",
      "4  87.0  87.288984\n"
     ]
    }
   ],
   "metadata": {}
  },
  {
   "cell_type": "code",
   "execution_count": 6,
   "source": [
    "X = data['x']\n",
    "Y = data['y']"
   ],
   "outputs": [],
   "metadata": {}
  },
  {
   "cell_type": "code",
   "execution_count": 7,
   "source": [
    "# converting pandas series to python list\n",
    "X = X.tolist()\n",
    "Y = Y.tolist()"
   ],
   "outputs": [],
   "metadata": {}
  },
  {
   "cell_type": "code",
   "execution_count": 8,
   "source": [
    "# visualization\n",
    "import matplotlib.pyplot as plt\n",
    "plt.scatter(X, Y)\n",
    "plt.grid()\n",
    "plt.xlabel(\"x values\")\n",
    "plt.ylabel(\"y values\")\n",
    "plt.show()"
   ],
   "outputs": [
    {
     "output_type": "display_data",
     "data": {
      "image/png": "[encoded data removed]",
      "text/plain": [
       "<Figure size 432x288 with 1 Axes>"
      ]
     },
     "metadata": {
      "needs_background": "light"
     }
    }
   ],
   "metadata": {}
  },
  {
   "cell_type": "code",
   "execution_count": 10,
   "source": [
    "# cost function\n",
    "def cost_function (X, Y, w, b):\n",
    "    N = len(X)\n",
    "    total_error = 0.0\n",
    "    for i in range(N):\n",
    "        total_error += ((w*X[i] - b) - Y[i])**2\n",
    "    return total_error / (2*float(N))"
   ],
   "outputs": [],
   "metadata": {}
  },
  {
   "cell_type": "code",
   "execution_count": 11,
   "source": [
    "# gradient descent\n",
    "#alpha - learning rate\n",
    "#N - number of samples in the dataset\n",
    "def gradient_descent(X, Y, w, b, alpha):\n",
    " \n",
    "    dl_dw = 0.0       \n",
    "    dl_db = 0.0       \n",
    "    N = len(X)\n",
    "    for i in range(N):\n",
    "        dl_dw += -1*X[i] * (Y[i] - (w*X[i] + b))\n",
    "        dl_db += -1*(Y[i] - (w*X[i] + b))\n",
    "    w = w - (1/float(N)) * dl_dw * alpha\n",
    "    b = b - (1/float(N)) * dl_db * alpha\n",
    "    return w, b"
   ],
   "outputs": [],
   "metadata": {}
  },
  {
   "cell_type": "code",
   "execution_count": 12,
   "source": [
    "# train function \n",
    "def train(X, Y, w, b, alpha, n_iter):\n",
    "    for i in range(n_iter):\n",
    "        w, b = gradient_descent(X, Y, w, b, alpha)\n",
    "        if i % 400 == 0:\n",
    "            print(\"iteration:\", i, \"cost: \", cost_function(X,Y,w,b))\n",
    "    return w, b"
   ],
   "outputs": [],
   "metadata": {}
  },
  {
   "cell_type": "code",
   "execution_count": 13,
   "source": [
    "# predict function\n",
    "def predict(x, w, b):\n",
    "    return x*w + b"
   ],
   "outputs": [],
   "metadata": {}
  },
  {
   "cell_type": "code",
   "execution_count": 14,
   "source": [
    "# call function \n",
    "w, b = train(X, Y, 0.0, 0.0, 0.0001, 7000)"
   ],
   "outputs": [
    {
     "output_type": "stream",
     "name": "stdout",
     "text": [
      "iteration: 0 cost:  nan\n",
      "iteration: 400 cost:  nan\n",
      "iteration: 800 cost:  nan\n",
      "iteration: 1200 cost:  nan\n",
      "iteration: 1600 cost:  nan\n",
      "iteration: 2000 cost:  nan\n",
      "iteration: 2400 cost:  nan\n",
      "iteration: 2800 cost:  nan\n",
      "iteration: 3200 cost:  nan\n",
      "iteration: 3600 cost:  nan\n",
      "iteration: 4000 cost:  nan\n",
      "iteration: 4400 cost:  nan\n",
      "iteration: 4800 cost:  nan\n",
      "iteration: 5200 cost:  nan\n",
      "iteration: 5600 cost:  nan\n",
      "iteration: 6000 cost:  nan\n",
      "iteration: 6400 cost:  nan\n",
      "iteration: 6800 cost:  nan\n"
     ]
    }
   ],
   "metadata": {}
  }
 ],
 "metadata": {
  "orig_nbformat": 4,
  "language_info": {
   "name": "python",
   "version": "3.8.10",
   "mimetype": "text/x-python",
   "codemirror_mode": {
    "name": "ipython",
    "version": 3
   },
   "pygments_lexer": "ipython3",
   "nbconvert_exporter": "python",
   "file_extension": ".py"
  },
  "kernelspec": {
   "name": "python3",
   "display_name": "Python 3.8.10 64-bit ('base': conda)"
  },
  "interpreter": {
   "hash": "c591623d2ecdb9339840be0fbf8d42d377f147dd7921c41681af6db0cadcbc7e"
  }
 },
 "nbformat": 4,
 "nbformat_minor": 2
}