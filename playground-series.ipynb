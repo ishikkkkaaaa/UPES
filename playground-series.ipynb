{
 "cells": [
  {
   "cell_type": "code",
   "execution_count": 1,
   "id": "7e114dbc",
   "metadata": {
    "_cell_guid": "b1076dfc-b9ad-4769-8c92-a6c4dae69d19",
    "_uuid": "8f2839f25d086af736a60e9eeb907d3b93b6e0e5",
    "execution": {
     "iopub.execute_input": "2022-03-21T08:53:45.847840Z",
     "iopub.status.busy": "2022-03-21T08:53:45.847067Z",
     "iopub.status.idle": "2022-03-21T08:53:45.864666Z",
     "shell.execute_reply": "2022-03-21T08:53:45.863814Z",
     "shell.execute_reply.started": "2022-03-21T08:44:41.852703Z"
    },
    "papermill": {
     "duration": 0.060824,
     "end_time": "2022-03-21T08:53:45.864860",
     "exception": false,
     "start_time": "2022-03-21T08:53:45.804036",
     "status": "completed"
    },
    "tags": []
   },
   "outputs": [
    {
     "name": "stdout",
     "output_type": "stream",
     "text": [
      "/kaggle/input/tabular-playground-series-jan-2022/sample_submission.csv\n",
      "/kaggle/input/tabular-playground-series-jan-2022/train.csv\n",
      "/kaggle/input/tabular-playground-series-jan-2022/test.csv\n"
     ]
    }
   ],
   "source": [
    "# This Python 3 environment comes with many helpful analytics libraries installed\n",
    "# It is defined by the kaggle/python Docker image: https://github.com/kaggle/docker-python\n",
    "# For example, here's several helpful packages to load\n",
    "\n",
    "import numpy as np # linear algebra\n",
    "import pandas as pd # data processing, CSV file I/O (e.g. pd.read_csv)\n",
    "\n",
    "# Input data files are available in the read-only \"../input/\" directory\n",
    "# For example, running this (by clicking run or pressing Shift+Enter) will list all files under the input directory\n",
    "\n",
    "import os\n",
    "for dirname, _, filenames in os.walk('/kaggle/input'):\n",
    "    for filename in filenames:\n",
    "        print(os.path.join(dirname, filename))\n",
    "\n",
    "# You can write up to 20GB to the current directory (/kaggle/working/) that gets preserved as output when you create a version using \"Save & Run All\" \n",
    "# You can also write temporary files to /kaggle/temp/, but they won't be saved outside of the current session"
   ]
  },
  {
   "cell_type": "code",
   "execution_count": 2,
   "id": "afa24459",
   "metadata": {
    "execution": {
     "iopub.execute_input": "2022-03-21T08:53:45.925790Z",
     "iopub.status.busy": "2022-03-21T08:53:45.925030Z",
     "iopub.status.idle": "2022-03-21T08:53:45.990005Z",
     "shell.execute_reply": "2022-03-21T08:53:45.991005Z",
     "shell.execute_reply.started": "2022-03-21T08:44:41.867565Z"
    },
    "papermill": {
     "duration": 0.098639,
     "end_time": "2022-03-21T08:53:45.991197",
     "exception": false,
     "start_time": "2022-03-21T08:53:45.892558",
     "status": "completed"
    },
    "tags": []
   },
   "outputs": [],
   "source": [
    "df = pd.read_csv(\"../input/tabular-playground-series-jan-2022/train.csv\")\n",
    "df1 = pd.read_csv(\"../input/tabular-playground-series-jan-2022/test.csv\")\n"
   ]
  },
  {
   "cell_type": "code",
   "execution_count": 3,
   "id": "5e5f8b8d",
   "metadata": {
    "execution": {
     "iopub.execute_input": "2022-03-21T08:53:46.054737Z",
     "iopub.status.busy": "2022-03-21T08:53:46.049849Z",
     "iopub.status.idle": "2022-03-21T08:53:46.067858Z",
     "shell.execute_reply": "2022-03-21T08:53:46.068742Z",
     "shell.execute_reply.started": "2022-03-21T08:44:41.934968Z"
    },
    "papermill": {
     "duration": 0.051916,
     "end_time": "2022-03-21T08:53:46.068914",
     "exception": false,
     "start_time": "2022-03-21T08:53:46.016998",
     "status": "completed"
    },
    "tags": []
   },
   "outputs": [
    {
     "data": {
      "text/html": [
       "<div>\n",
       "<style scoped>\n",
       "    .dataframe tbody tr th:only-of-type {\n",
       "        vertical-align: middle;\n",
       "    }\n",
       "\n",
       "    .dataframe tbody tr th {\n",
       "        vertical-align: top;\n",
       "    }\n",
       "\n",
       "    .dataframe thead th {\n",
       "        text-align: right;\n",
       "    }\n",
       "</style>\n",
       "<table border=\"1\" class=\"dataframe\">\n",
       "  <thead>\n",
       "    <tr style=\"text-align: right;\">\n",
       "      <th></th>\n",
       "      <th>row_id</th>\n",
       "      <th>date</th>\n",
       "      <th>country</th>\n",
       "      <th>store</th>\n",
       "      <th>product</th>\n",
       "      <th>num_sold</th>\n",
       "    </tr>\n",
       "  </thead>\n",
       "  <tbody>\n",
       "    <tr>\n",
       "      <th>0</th>\n",
       "      <td>0</td>\n",
       "      <td>2015-01-01</td>\n",
       "      <td>Finland</td>\n",
       "      <td>KaggleMart</td>\n",
       "      <td>Kaggle Mug</td>\n",
       "      <td>329</td>\n",
       "    </tr>\n",
       "    <tr>\n",
       "      <th>1</th>\n",
       "      <td>1</td>\n",
       "      <td>2015-01-01</td>\n",
       "      <td>Finland</td>\n",
       "      <td>KaggleMart</td>\n",
       "      <td>Kaggle Hat</td>\n",
       "      <td>520</td>\n",
       "    </tr>\n",
       "    <tr>\n",
       "      <th>2</th>\n",
       "      <td>2</td>\n",
       "      <td>2015-01-01</td>\n",
       "      <td>Finland</td>\n",
       "      <td>KaggleMart</td>\n",
       "      <td>Kaggle Sticker</td>\n",
       "      <td>146</td>\n",
       "    </tr>\n",
       "    <tr>\n",
       "      <th>3</th>\n",
       "      <td>3</td>\n",
       "      <td>2015-01-01</td>\n",
       "      <td>Finland</td>\n",
       "      <td>KaggleRama</td>\n",
       "      <td>Kaggle Mug</td>\n",
       "      <td>572</td>\n",
       "    </tr>\n",
       "    <tr>\n",
       "      <th>4</th>\n",
       "      <td>4</td>\n",
       "      <td>2015-01-01</td>\n",
       "      <td>Finland</td>\n",
       "      <td>KaggleRama</td>\n",
       "      <td>Kaggle Hat</td>\n",
       "      <td>911</td>\n",
       "    </tr>\n",
       "  </tbody>\n",
       "</table>\n",
       "</div>"
      ],
      "text/plain": [
       "   row_id        date  country       store         product  num_sold\n",
       "0       0  2015-01-01  Finland  KaggleMart      Kaggle Mug       329\n",
       "1       1  2015-01-01  Finland  KaggleMart      Kaggle Hat       520\n",
       "2       2  2015-01-01  Finland  KaggleMart  Kaggle Sticker       146\n",
       "3       3  2015-01-01  Finland  KaggleRama      Kaggle Mug       572\n",
       "4       4  2015-01-01  Finland  KaggleRama      Kaggle Hat       911"
      ]
     },
     "execution_count": 3,
     "metadata": {},
     "output_type": "execute_result"
    }
   ],
   "source": [
    "df.head()"
   ]
  },
  {
   "cell_type": "code",
   "execution_count": 4,
   "id": "172bd5b0",
   "metadata": {
    "execution": {
     "iopub.execute_input": "2022-03-21T08:53:46.145501Z",
     "iopub.status.busy": "2022-03-21T08:53:46.143528Z",
     "iopub.status.idle": "2022-03-21T08:53:46.176029Z",
     "shell.execute_reply": "2022-03-21T08:53:46.176975Z",
     "shell.execute_reply.started": "2022-03-21T08:44:41.959222Z"
    },
    "papermill": {
     "duration": 0.078803,
     "end_time": "2022-03-21T08:53:46.177152",
     "exception": false,
     "start_time": "2022-03-21T08:53:46.098349",
     "status": "completed"
    },
    "tags": []
   },
   "outputs": [
    {
     "name": "stdout",
     "output_type": "stream",
     "text": [
      "<class 'pandas.core.frame.DataFrame'>\n",
      "RangeIndex: 26298 entries, 0 to 26297\n",
      "Data columns (total 6 columns):\n",
      " #   Column    Non-Null Count  Dtype \n",
      "---  ------    --------------  ----- \n",
      " 0   row_id    26298 non-null  int64 \n",
      " 1   date      26298 non-null  object\n",
      " 2   country   26298 non-null  object\n",
      " 3   store     26298 non-null  object\n",
      " 4   product   26298 non-null  object\n",
      " 5   num_sold  26298 non-null  int64 \n",
      "dtypes: int64(2), object(4)\n",
      "memory usage: 1.2+ MB\n"
     ]
    }
   ],
   "source": [
    "df.info()"
   ]
  },
  {
   "cell_type": "code",
   "execution_count": 5,
   "id": "1ae05f04",
   "metadata": {
    "execution": {
     "iopub.execute_input": "2022-03-21T08:53:46.236829Z",
     "iopub.status.busy": "2022-03-21T08:53:46.233984Z",
     "iopub.status.idle": "2022-03-21T08:53:46.253656Z",
     "shell.execute_reply": "2022-03-21T08:53:46.254828Z",
     "shell.execute_reply.started": "2022-03-21T08:44:41.994670Z"
    },
    "papermill": {
     "duration": 0.051026,
     "end_time": "2022-03-21T08:53:46.255033",
     "exception": false,
     "start_time": "2022-03-21T08:53:46.204007",
     "status": "completed"
    },
    "tags": []
   },
   "outputs": [
    {
     "data": {
      "text/html": [
       "<div>\n",
       "<style scoped>\n",
       "    .dataframe tbody tr th:only-of-type {\n",
       "        vertical-align: middle;\n",
       "    }\n",
       "\n",
       "    .dataframe tbody tr th {\n",
       "        vertical-align: top;\n",
       "    }\n",
       "\n",
       "    .dataframe thead th {\n",
       "        text-align: right;\n",
       "    }\n",
       "</style>\n",
       "<table border=\"1\" class=\"dataframe\">\n",
       "  <thead>\n",
       "    <tr style=\"text-align: right;\">\n",
       "      <th></th>\n",
       "      <th>row_id</th>\n",
       "      <th>num_sold</th>\n",
       "    </tr>\n",
       "  </thead>\n",
       "  <tbody>\n",
       "    <tr>\n",
       "      <th>count</th>\n",
       "      <td>26298.000000</td>\n",
       "      <td>26298.000000</td>\n",
       "    </tr>\n",
       "    <tr>\n",
       "      <th>mean</th>\n",
       "      <td>13148.500000</td>\n",
       "      <td>387.533577</td>\n",
       "    </tr>\n",
       "    <tr>\n",
       "      <th>std</th>\n",
       "      <td>7591.723026</td>\n",
       "      <td>266.076193</td>\n",
       "    </tr>\n",
       "    <tr>\n",
       "      <th>min</th>\n",
       "      <td>0.000000</td>\n",
       "      <td>70.000000</td>\n",
       "    </tr>\n",
       "    <tr>\n",
       "      <th>25%</th>\n",
       "      <td>6574.250000</td>\n",
       "      <td>190.000000</td>\n",
       "    </tr>\n",
       "    <tr>\n",
       "      <th>50%</th>\n",
       "      <td>13148.500000</td>\n",
       "      <td>315.000000</td>\n",
       "    </tr>\n",
       "    <tr>\n",
       "      <th>75%</th>\n",
       "      <td>19722.750000</td>\n",
       "      <td>510.000000</td>\n",
       "    </tr>\n",
       "    <tr>\n",
       "      <th>max</th>\n",
       "      <td>26297.000000</td>\n",
       "      <td>2884.000000</td>\n",
       "    </tr>\n",
       "  </tbody>\n",
       "</table>\n",
       "</div>"
      ],
      "text/plain": [
       "             row_id      num_sold\n",
       "count  26298.000000  26298.000000\n",
       "mean   13148.500000    387.533577\n",
       "std     7591.723026    266.076193\n",
       "min        0.000000     70.000000\n",
       "25%     6574.250000    190.000000\n",
       "50%    13148.500000    315.000000\n",
       "75%    19722.750000    510.000000\n",
       "max    26297.000000   2884.000000"
      ]
     },
     "execution_count": 5,
     "metadata": {},
     "output_type": "execute_result"
    }
   ],
   "source": [
    "df.describe()"
   ]
  },
  {
   "cell_type": "code",
   "execution_count": 6,
   "id": "8c2f35b6",
   "metadata": {
    "execution": {
     "iopub.execute_input": "2022-03-21T08:53:46.327889Z",
     "iopub.status.busy": "2022-03-21T08:53:46.325766Z",
     "iopub.status.idle": "2022-03-21T08:53:46.353214Z",
     "shell.execute_reply": "2022-03-21T08:53:46.353836Z",
     "shell.execute_reply.started": "2022-03-21T08:44:42.020739Z"
    },
    "papermill": {
     "duration": 0.067316,
     "end_time": "2022-03-21T08:53:46.354027",
     "exception": false,
     "start_time": "2022-03-21T08:53:46.286711",
     "status": "completed"
    },
    "tags": []
   },
   "outputs": [
    {
     "data": {
      "text/html": [
       "<div>\n",
       "<style scoped>\n",
       "    .dataframe tbody tr th:only-of-type {\n",
       "        vertical-align: middle;\n",
       "    }\n",
       "\n",
       "    .dataframe tbody tr th {\n",
       "        vertical-align: top;\n",
       "    }\n",
       "\n",
       "    .dataframe thead th {\n",
       "        text-align: right;\n",
       "    }\n",
       "</style>\n",
       "<table border=\"1\" class=\"dataframe\">\n",
       "  <thead>\n",
       "    <tr style=\"text-align: right;\">\n",
       "      <th></th>\n",
       "      <th>date</th>\n",
       "      <th>country</th>\n",
       "      <th>store</th>\n",
       "      <th>product</th>\n",
       "      <th>num_sold</th>\n",
       "    </tr>\n",
       "  </thead>\n",
       "  <tbody>\n",
       "    <tr>\n",
       "      <th>0</th>\n",
       "      <td>2015-01-01</td>\n",
       "      <td>Finland</td>\n",
       "      <td>KaggleMart</td>\n",
       "      <td>Kaggle Mug</td>\n",
       "      <td>329</td>\n",
       "    </tr>\n",
       "    <tr>\n",
       "      <th>1</th>\n",
       "      <td>2015-01-01</td>\n",
       "      <td>Finland</td>\n",
       "      <td>KaggleMart</td>\n",
       "      <td>Kaggle Hat</td>\n",
       "      <td>520</td>\n",
       "    </tr>\n",
       "    <tr>\n",
       "      <th>2</th>\n",
       "      <td>2015-01-01</td>\n",
       "      <td>Finland</td>\n",
       "      <td>KaggleMart</td>\n",
       "      <td>Kaggle Sticker</td>\n",
       "      <td>146</td>\n",
       "    </tr>\n",
       "    <tr>\n",
       "      <th>3</th>\n",
       "      <td>2015-01-01</td>\n",
       "      <td>Finland</td>\n",
       "      <td>KaggleRama</td>\n",
       "      <td>Kaggle Mug</td>\n",
       "      <td>572</td>\n",
       "    </tr>\n",
       "    <tr>\n",
       "      <th>4</th>\n",
       "      <td>2015-01-01</td>\n",
       "      <td>Finland</td>\n",
       "      <td>KaggleRama</td>\n",
       "      <td>Kaggle Hat</td>\n",
       "      <td>911</td>\n",
       "    </tr>\n",
       "  </tbody>\n",
       "</table>\n",
       "</div>"
      ],
      "text/plain": [
       "         date  country       store         product  num_sold\n",
       "0  2015-01-01  Finland  KaggleMart      Kaggle Mug       329\n",
       "1  2015-01-01  Finland  KaggleMart      Kaggle Hat       520\n",
       "2  2015-01-01  Finland  KaggleMart  Kaggle Sticker       146\n",
       "3  2015-01-01  Finland  KaggleRama      Kaggle Mug       572\n",
       "4  2015-01-01  Finland  KaggleRama      Kaggle Hat       911"
      ]
     },
     "execution_count": 6,
     "metadata": {},
     "output_type": "execute_result"
    }
   ],
   "source": [
    "df = df.iloc[:, 1:]\n",
    "df.head()"
   ]
  },
  {
   "cell_type": "code",
   "execution_count": 7,
   "id": "c88c3378",
   "metadata": {
    "execution": {
     "iopub.execute_input": "2022-03-21T08:53:46.431775Z",
     "iopub.status.busy": "2022-03-21T08:53:46.430872Z",
     "iopub.status.idle": "2022-03-21T08:53:46.453624Z",
     "shell.execute_reply": "2022-03-21T08:53:46.452920Z",
     "shell.execute_reply.started": "2022-03-21T08:44:42.035640Z"
    },
    "papermill": {
     "duration": 0.072339,
     "end_time": "2022-03-21T08:53:46.453781",
     "exception": false,
     "start_time": "2022-03-21T08:53:46.381442",
     "status": "completed"
    },
    "tags": []
   },
   "outputs": [
    {
     "data": {
      "text/html": [
       "<div>\n",
       "<style scoped>\n",
       "    .dataframe tbody tr th:only-of-type {\n",
       "        vertical-align: middle;\n",
       "    }\n",
       "\n",
       "    .dataframe tbody tr th {\n",
       "        vertical-align: top;\n",
       "    }\n",
       "\n",
       "    .dataframe thead th {\n",
       "        text-align: right;\n",
       "    }\n",
       "</style>\n",
       "<table border=\"1\" class=\"dataframe\">\n",
       "  <thead>\n",
       "    <tr style=\"text-align: right;\">\n",
       "      <th></th>\n",
       "      <th>num_sold</th>\n",
       "    </tr>\n",
       "  </thead>\n",
       "  <tbody>\n",
       "    <tr>\n",
       "      <th>count</th>\n",
       "      <td>26298.000000</td>\n",
       "    </tr>\n",
       "    <tr>\n",
       "      <th>mean</th>\n",
       "      <td>387.533577</td>\n",
       "    </tr>\n",
       "    <tr>\n",
       "      <th>std</th>\n",
       "      <td>266.076193</td>\n",
       "    </tr>\n",
       "    <tr>\n",
       "      <th>min</th>\n",
       "      <td>70.000000</td>\n",
       "    </tr>\n",
       "    <tr>\n",
       "      <th>25%</th>\n",
       "      <td>190.000000</td>\n",
       "    </tr>\n",
       "    <tr>\n",
       "      <th>50%</th>\n",
       "      <td>315.000000</td>\n",
       "    </tr>\n",
       "    <tr>\n",
       "      <th>75%</th>\n",
       "      <td>510.000000</td>\n",
       "    </tr>\n",
       "    <tr>\n",
       "      <th>max</th>\n",
       "      <td>2884.000000</td>\n",
       "    </tr>\n",
       "  </tbody>\n",
       "</table>\n",
       "</div>"
      ],
      "text/plain": [
       "           num_sold\n",
       "count  26298.000000\n",
       "mean     387.533577\n",
       "std      266.076193\n",
       "min       70.000000\n",
       "25%      190.000000\n",
       "50%      315.000000\n",
       "75%      510.000000\n",
       "max     2884.000000"
      ]
     },
     "execution_count": 7,
     "metadata": {},
     "output_type": "execute_result"
    }
   ],
   "source": [
    "df.describe()"
   ]
  },
  {
   "cell_type": "code",
   "execution_count": 8,
   "id": "3abc9076",
   "metadata": {
    "execution": {
     "iopub.execute_input": "2022-03-21T08:53:46.518846Z",
     "iopub.status.busy": "2022-03-21T08:53:46.518068Z",
     "iopub.status.idle": "2022-03-21T08:53:46.526139Z",
     "shell.execute_reply": "2022-03-21T08:53:46.525728Z",
     "shell.execute_reply.started": "2022-03-21T08:44:42.058520Z"
    },
    "papermill": {
     "duration": 0.043672,
     "end_time": "2022-03-21T08:53:46.526241",
     "exception": false,
     "start_time": "2022-03-21T08:53:46.482569",
     "status": "completed"
    },
    "tags": []
   },
   "outputs": [
    {
     "data": {
      "text/plain": [
       "Finland    8766\n",
       "Norway     8766\n",
       "Sweden     8766\n",
       "Name: country, dtype: int64"
      ]
     },
     "execution_count": 8,
     "metadata": {},
     "output_type": "execute_result"
    }
   ],
   "source": [
    "df['country'].value_counts()"
   ]
  },
  {
   "cell_type": "code",
   "execution_count": 9,
   "id": "82245f4f",
   "metadata": {
    "execution": {
     "iopub.execute_input": "2022-03-21T08:53:46.610933Z",
     "iopub.status.busy": "2022-03-21T08:53:46.610088Z",
     "iopub.status.idle": "2022-03-21T08:53:47.149620Z",
     "shell.execute_reply": "2022-03-21T08:53:47.150083Z",
     "shell.execute_reply.started": "2022-03-21T08:44:42.072530Z"
    },
    "papermill": {
     "duration": 0.596058,
     "end_time": "2022-03-21T08:53:47.150259",
     "exception": false,
     "start_time": "2022-03-21T08:53:46.554201",
     "status": "completed"
    },
    "tags": []
   },
   "outputs": [
    {
     "data": {
      "image/png": "[encoded data removed]",
      "text/plain": [
       "<Figure size 432x288 with 1 Axes>"
      ]
     },
     "metadata": {
      "needs_background": "light"
     },
     "output_type": "display_data"
    }
   ],
   "source": [
    "import matplotlib.pyplot as plt\n",
    "\n",
    "df.hist(bins=50)\n",
    "plt.show()"
   ]
  },
  {
   "cell_type": "code",
   "execution_count": 10,
   "id": "1dfe7591",
   "metadata": {
    "execution": {
     "iopub.execute_input": "2022-03-21T08:53:47.210076Z",
     "iopub.status.busy": "2022-03-21T08:53:47.194301Z",
     "iopub.status.idle": "2022-03-21T08:53:47.381370Z",
     "shell.execute_reply": "2022-03-21T08:53:47.381745Z",
     "shell.execute_reply.started": "2022-03-21T08:44:42.387016Z"
    },
    "papermill": {
     "duration": 0.213229,
     "end_time": "2022-03-21T08:53:47.381871",
     "exception": false,
     "start_time": "2022-03-21T08:53:47.168642",
     "status": "completed"
    },
    "tags": []
   },
   "outputs": [
    {
     "data": {
      "image/png": "[encoded data removed]",
      "text/plain": [
       "<Figure size 432x288 with 1 Axes>"
      ]
     },
     "metadata": {
      "needs_background": "light"
     },
     "output_type": "display_data"
    }
   ],
   "source": [
    "df.hist()\n",
    "plt.show()"
   ]
  },
  {
   "cell_type": "code",
   "execution_count": 11,
   "id": "4fed72e4",
   "metadata": {
    "execution": {
     "iopub.execute_input": "2022-03-21T08:53:47.428818Z",
     "iopub.status.busy": "2022-03-21T08:53:47.425969Z",
     "iopub.status.idle": "2022-03-21T08:53:47.470927Z",
     "shell.execute_reply": "2022-03-21T08:53:47.470505Z",
     "shell.execute_reply.started": "2022-03-21T08:44:42.603776Z"
    },
    "papermill": {
     "duration": 0.070444,
     "end_time": "2022-03-21T08:53:47.471054",
     "exception": false,
     "start_time": "2022-03-21T08:53:47.400610",
     "status": "completed"
    },
    "tags": []
   },
   "outputs": [],
   "source": [
    "df['country'].replace(['Finland', 'Norway', 'Sweden'], [1, 2, 3], inplace=True)\n",
    "df['store'].replace(['KaggleMart', 'KaggleRama'], [1, 2], inplace=True)\n",
    "df['product'].replace(['Kaggle Mug', 'Kaggle Hat', 'Kaggle Sticker'], [1, 2, 3], inplace=True)"
   ]
  },
  {
   "cell_type": "code",
   "execution_count": 12,
   "id": "37f1832f",
   "metadata": {
    "execution": {
     "iopub.execute_input": "2022-03-21T08:53:47.513516Z",
     "iopub.status.busy": "2022-03-21T08:53:47.512973Z",
     "iopub.status.idle": "2022-03-21T08:53:48.320470Z",
     "shell.execute_reply": "2022-03-21T08:53:48.321169Z",
     "shell.execute_reply.started": "2022-03-21T08:44:42.660102Z"
    },
    "papermill": {
     "duration": 0.830937,
     "end_time": "2022-03-21T08:53:48.321400",
     "exception": false,
     "start_time": "2022-03-21T08:53:47.490463",
     "status": "completed"
    },
    "tags": []
   },
   "outputs": [],
   "source": [
    "from sklearn.model_selection import train_test_split\n",
    "X = df.drop(['date', 'num_sold'], axis=1)  \n",
    "y = df['num_sold']\n",
    "\n",
    "X_train, X_test, y_train, y_test = train_test_split(X, y, test_size=0.2)"
   ]
  },
  {
   "cell_type": "code",
   "execution_count": 13,
   "id": "24c5d9a8",
   "metadata": {
    "execution": {
     "iopub.execute_input": "2022-03-21T08:53:48.398681Z",
     "iopub.status.busy": "2022-03-21T08:53:48.397919Z",
     "iopub.status.idle": "2022-03-21T08:53:48.403713Z",
     "shell.execute_reply": "2022-03-21T08:53:48.404314Z",
     "shell.execute_reply.started": "2022-03-21T08:44:42.673540Z"
    },
    "papermill": {
     "duration": 0.048888,
     "end_time": "2022-03-21T08:53:48.404606",
     "exception": false,
     "start_time": "2022-03-21T08:53:48.355718",
     "status": "completed"
    },
    "tags": []
   },
   "outputs": [
    {
     "data": {
      "text/html": [
       "<div>\n",
       "<style scoped>\n",
       "    .dataframe tbody tr th:only-of-type {\n",
       "        vertical-align: middle;\n",
       "    }\n",
       "\n",
       "    .dataframe tbody tr th {\n",
       "        vertical-align: top;\n",
       "    }\n",
       "\n",
       "    .dataframe thead th {\n",
       "        text-align: right;\n",
       "    }\n",
       "</style>\n",
       "<table border=\"1\" class=\"dataframe\">\n",
       "  <thead>\n",
       "    <tr style=\"text-align: right;\">\n",
       "      <th></th>\n",
       "      <th>country</th>\n",
       "      <th>store</th>\n",
       "      <th>product</th>\n",
       "    </tr>\n",
       "  </thead>\n",
       "  <tbody>\n",
       "    <tr>\n",
       "      <th>0</th>\n",
       "      <td>1</td>\n",
       "      <td>1</td>\n",
       "      <td>1</td>\n",
       "    </tr>\n",
       "    <tr>\n",
       "      <th>1</th>\n",
       "      <td>1</td>\n",
       "      <td>1</td>\n",
       "      <td>2</td>\n",
       "    </tr>\n",
       "    <tr>\n",
       "      <th>2</th>\n",
       "      <td>1</td>\n",
       "      <td>1</td>\n",
       "      <td>3</td>\n",
       "    </tr>\n",
       "    <tr>\n",
       "      <th>3</th>\n",
       "      <td>1</td>\n",
       "      <td>2</td>\n",
       "      <td>1</td>\n",
       "    </tr>\n",
       "    <tr>\n",
       "      <th>4</th>\n",
       "      <td>1</td>\n",
       "      <td>2</td>\n",
       "      <td>2</td>\n",
       "    </tr>\n",
       "  </tbody>\n",
       "</table>\n",
       "</div>"
      ],
      "text/plain": [
       "   country  store  product\n",
       "0        1      1        1\n",
       "1        1      1        2\n",
       "2        1      1        3\n",
       "3        1      2        1\n",
       "4        1      2        2"
      ]
     },
     "execution_count": 13,
     "metadata": {},
     "output_type": "execute_result"
    }
   ],
   "source": [
    "X.head()"
   ]
  },
  {
   "cell_type": "code",
   "execution_count": 14,
   "id": "922634c0",
   "metadata": {
    "execution": {
     "iopub.execute_input": "2022-03-21T08:53:48.476731Z",
     "iopub.status.busy": "2022-03-21T08:53:48.475860Z",
     "iopub.status.idle": "2022-03-21T08:53:48.547652Z",
     "shell.execute_reply": "2022-03-21T08:53:48.547175Z",
     "shell.execute_reply.started": "2022-03-21T08:44:42.688022Z"
    },
    "papermill": {
     "duration": 0.109751,
     "end_time": "2022-03-21T08:53:48.547774",
     "exception": false,
     "start_time": "2022-03-21T08:53:48.438023",
     "status": "completed"
    },
    "tags": []
   },
   "outputs": [],
   "source": [
    "from sklearn.linear_model import LogisticRegression\n",
    "LR = LogisticRegression(solver='liblinear',max_iter=100)"
   ]
  },
  {
   "cell_type": "code",
   "execution_count": 15,
   "id": "395ea828",
   "metadata": {
    "execution": {
     "iopub.execute_input": "2022-03-21T08:53:48.591787Z",
     "iopub.status.busy": "2022-03-21T08:53:48.591045Z",
     "iopub.status.idle": "2022-03-21T08:54:19.833169Z",
     "shell.execute_reply": "2022-03-21T08:54:19.833807Z",
     "shell.execute_reply.started": "2022-03-21T08:44:42.696755Z"
    },
    "papermill": {
     "duration": 31.266414,
     "end_time": "2022-03-21T08:54:19.833997",
     "exception": false,
     "start_time": "2022-03-21T08:53:48.567583",
     "status": "completed"
    },
    "tags": []
   },
   "outputs": [
    {
     "data": {
      "text/plain": [
       "LogisticRegression(solver='liblinear')"
      ]
     },
     "execution_count": 15,
     "metadata": {},
     "output_type": "execute_result"
    }
   ],
   "source": [
    "#Training\n",
    "LR.fit(X_train,y_train)"
   ]
  },
  {
   "cell_type": "code",
   "execution_count": 16,
   "id": "6e7c1200",
   "metadata": {
    "execution": {
     "iopub.execute_input": "2022-03-21T08:54:19.920851Z",
     "iopub.status.busy": "2022-03-21T08:54:19.904723Z",
     "iopub.status.idle": "2022-03-21T08:54:19.997144Z",
     "shell.execute_reply": "2022-03-21T08:54:19.998567Z",
     "shell.execute_reply.started": "2022-03-21T08:45:15.909786Z"
    },
    "papermill": {
     "duration": 0.132253,
     "end_time": "2022-03-21T08:54:19.998777",
     "exception": false,
     "start_time": "2022-03-21T08:54:19.866524",
     "status": "completed"
    },
    "tags": []
   },
   "outputs": [],
   "source": [
    "pred=LR.predict(X_test)"
   ]
  },
  {
   "cell_type": "code",
   "execution_count": 17,
   "id": "c7dcaa12",
   "metadata": {
    "execution": {
     "iopub.execute_input": "2022-03-21T08:54:20.079893Z",
     "iopub.status.busy": "2022-03-21T08:54:20.079069Z",
     "iopub.status.idle": "2022-03-21T08:54:20.083797Z",
     "shell.execute_reply": "2022-03-21T08:54:20.084225Z",
     "shell.execute_reply.started": "2022-03-21T08:49:00.491031Z"
    },
    "papermill": {
     "duration": 0.034859,
     "end_time": "2022-03-21T08:54:20.084381",
     "exception": false,
     "start_time": "2022-03-21T08:54:20.049522",
     "status": "completed"
    },
    "tags": []
   },
   "outputs": [
    {
     "data": {
      "text/plain": [
       "0.004372623574144487"
      ]
     },
     "execution_count": 17,
     "metadata": {},
     "output_type": "execute_result"
    }
   ],
   "source": [
    "from sklearn.metrics import accuracy_score\n",
    "accuracy_score(y_test, pred)"
   ]
  }
 ],
 "metadata": {
  "kernelspec": {
   "display_name": "Python 3",
   "language": "python",
   "name": "python3"
  },
  "language_info": {
   "codemirror_mode": {
    "name": "ipython",
    "version": 3
   },
   "file_extension": ".py",
   "mimetype": "text/x-python",
   "name": "python",
   "nbconvert_exporter": "python",
   "pygments_lexer": "ipython3",
   "version": "3.7.12"
  },
  "papermill": {
   "default_parameters": {},
   "duration": 42.53743,
   "end_time": "2022-03-21T08:54:20.612521",
   "environment_variables": {},
   "exception": null,
   "input_path": "__notebook__.ipynb",
   "output_path": "__notebook__.ipynb",
   "parameters": {},
   "start_time": "2022-03-21T08:53:38.075091",
   "version": "2.3.3"
  }
 },
 "nbformat": 4,
 "nbformat_minor": 5
}
