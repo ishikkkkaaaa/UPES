{
  "nbformat": 4,
  "nbformat_minor": 0,
  "metadata": {
    "colab": {
      "name": "main.ipynb",
      "provenance": []
    },
    "kernelspec": {
      "name": "python3",
      "display_name": "Python 3"
    },
    "language_info": {
      "name": "python"
    }
  },
  "cells": [
    {
      "cell_type": "markdown",
      "metadata": {
        "id": "n6mPAY9g-sbc"
      },
      "source": [
        "# Lab 13 - DECISION TREE\n",
        "### Name - Ishika Kesarwani\n",
        "### SAP ID - 500076373\n",
        "### Roll no. - 92\n",
        "### Branch - AIML B3"
      ]
    },
    {
      "cell_type": "markdown",
      "metadata": {
        "id": "iTtx7gce_CPM"
      },
      "source": [
        "- Decision Trees\n",
        "  - https://www.youtube.com/watch?v=ZVR2Way4nwQ\n",
        "\n",
        "\n",
        "- Random forest\n",
        "  - https://www.youtube.com/watch?v=v6VJ2RO66Ag\n",
        "\n",
        "- RF Sci-kit learn\n",
        "  - https://www.youtube.com/watch?v=ok2s1vV9XW0\n",
        "\n",
        "- Sci-kit learn page Random forest\n",
        "  - https://scikit-learn.org/stable/modules/generated/sklearn.ensemble.RandomForestClassifier.html#sklearn.ensemble.RandomForestClassifier"
      ]
    },
    {
      "cell_type": "code",
      "metadata": {
        "id": "oSHOHGu19Bhs"
      },
      "source": [
        "from sklearn.ensemble import RandomForestClassifier as RFC\n",
        "from sklearn.datasets import make_classification"
      ],
      "execution_count": 2,
      "outputs": []
    },
    {
      "cell_type": "code",
      "metadata": {
        "id": "PSQx1Apy9G8Q"
      },
      "source": [
        "X, y = make_classification(n_samples=100, n_classes=5, n_features = 20, random_state=6, n_informative = 4)"
      ],
      "execution_count": 3,
      "outputs": []
    },
    {
      "cell_type": "code",
      "metadata": {
        "colab": {
          "base_uri": "https://localhost:8080/",
          "height": 0
        },
        "id": "m-kuEG_R9O1B",
        "outputId": "cbe7ea73-e3fd-4dec-c276-c34d1ea26d82"
      },
      "source": [
        "clf = RFC(max_depth=2, random_state=0)\n",
        "clf.fit(X, y)"
      ],
      "execution_count": 4,
      "outputs": [
        {
          "output_type": "execute_result",
          "data": {
            "text/plain": [
              "RandomForestClassifier(max_depth=2, random_state=0)"
            ]
          },
          "metadata": {},
          "execution_count": 4
        }
      ]
    },
    {
      "cell_type": "code",
      "metadata": {
        "id": "V4o27Xg29Sa7"
      },
      "source": [
        "from sklearn.model_selection import GridSearchCV"
      ],
      "execution_count": 5,
      "outputs": []
    },
    {
      "cell_type": "code",
      "metadata": {
        "id": "foytRbzI9VrK"
      },
      "source": [
        "model = RFC()\n",
        "model.fit(X,y)\n",
        "param_grid = { 'criterion': ['gini', 'entropy'],\n",
        "'max_depth': [2, 3, 5],\n",
        "'max_features': ['auto', 'sqrt', 'log2'],\n",
        "'bootstrap': [True, False],\n",
        "'warm_start': [False, True],\n",
        "'class_weight': ['balanced', 'balanced_subsample'],\n",
        "}"
      ],
      "execution_count": 6,
      "outputs": []
    },
    {
      "cell_type": "code",
      "metadata": {
        "id": "aPrC60xo9YRH"
      },
      "source": [
        "grid = GridSearchCV(RFC(), param_grid, refit=True, verbose = 3)"
      ],
      "execution_count": 7,
      "outputs": []
    },
    {
      "cell_type": "code",
      "metadata": {
        "colab": {
          "base_uri": "https://localhost:8080/",
          "height": 0
        },
        "id": "6OYOkE7M9agU",
        "outputId": "083136f3-6860-4ce9-ba43-d1e12b19f2a7"
      },
      "source": [
        "grid.fit(X, y)"
      ],
      "execution_count": 8,
      "outputs": [
        {
          "output_type": "stream",
          "name": "stdout",
          "text": [
            "Fitting 5 folds for each of 144 candidates, totalling 720 fits\n",
            "[CV 1/5] END bootstrap=True, class_weight=balanced, criterion=gini, max_depth=2, max_features=auto, warm_start=False;, score=0.400 total time=   0.2s\n",
            "[CV 2/5] END bootstrap=True, class_weight=balanced, criterion=gini, max_depth=2, max_features=auto, warm_start=False;, score=0.400 total time=   0.2s\n",
            "[CV 3/5] END bootstrap=True, class_weight=balanced, criterion=gini, max_depth=2, max_features=auto, warm_start=False;, score=0.350 total time=   0.1s\n",
            "[CV 4/5] END bootstrap=True, class_weight=balanced, criterion=gini, max_depth=2, max_features=auto, warm_start=False;, score=0.450 total time=   0.1s\n",
            "[CV 5/5] END bootstrap=True, class_weight=balanced, criterion=gini, max_depth=2, max_features=auto, warm_start=False;, score=0.350 total time=   0.2s\n"
          ]
        },
        {
          "output_type": "stream",
          "name": "stderr",
          "text": [
            "/usr/local/lib/python3.7/dist-packages/sklearn/ensemble/_forest.py:756: UserWarning: class_weight presets \"balanced\" or \"balanced_subsample\" are not recommended for warm_start if the fitted data differs from the full dataset. In order to use \"balanced\" weights, use compute_class_weight (\"balanced\", classes, y). In place of y you can use a large enough sample of the full training set target to properly estimate the class frequency distributions. Pass the resulting weights as the class_weight parameter.\n",
            "  'class_weight presets \"balanced\" or '\n",
            "/usr/local/lib/python3.7/dist-packages/sklearn/ensemble/_forest.py:756: UserWarning: class_weight presets \"balanced\" or \"balanced_subsample\" are not recommended for warm_start if the fitted data differs from the full dataset. In order to use \"balanced\" weights, use compute_class_weight (\"balanced\", classes, y). In place of y you can use a large enough sample of the full training set target to properly estimate the class frequency distributions. Pass the resulting weights as the class_weight parameter.\n",
            "  'class_weight presets \"balanced\" or '\n"
          ]
        },
        {
          "output_type": "stream",
          "name": "stdout",
          "text": [
            "[CV 1/5] END bootstrap=True, class_weight=balanced, criterion=gini, max_depth=2, max_features=auto, warm_start=True;, score=0.450 total time=   0.2s\n",
            "[CV 2/5] END bootstrap=True, class_weight=balanced, criterion=gini, max_depth=2, max_features=auto, warm_start=True;, score=0.350 total time=   0.2s\n"
          ]
        },
        {
          "output_type": "stream",
          "name": "stderr",
          "text": [
            "/usr/local/lib/python3.7/dist-packages/sklearn/ensemble/_forest.py:756: UserWarning: class_weight presets \"balanced\" or \"balanced_subsample\" are not recommended for warm_start if the fitted data differs from the full dataset. In order to use \"balanced\" weights, use compute_class_weight (\"balanced\", classes, y). In place of y you can use a large enough sample of the full training set target to properly estimate the class frequency distributions. Pass the resulting weights as the class_weight parameter.\n",
            "  'class_weight presets \"balanced\" or '\n",
            "/usr/local/lib/python3.7/dist-packages/sklearn/ensemble/_forest.py:756: UserWarning: class_weight presets \"balanced\" or \"balanced_subsample\" are not recommended for warm_start if the fitted data differs from the full dataset. In order to use \"balanced\" weights, use compute_class_weight (\"balanced\", classes, y). In place of y you can use a large enough sample of the full training set target to properly estimate the class frequency distributions. Pass the resulting weights as the class_weight parameter.\n",
            "  'class_weight presets \"balanced\" or '\n"
          ]
        },
        {
          "output_type": "stream",
          "name": "stdout",
          "text": [
            "[CV 3/5] END bootstrap=True, class_weight=balanced, criterion=gini, max_depth=2, max_features=auto, warm_start=True;, score=0.350 total time=   0.2s\n",
            "[CV 4/5] END bootstrap=True, class_weight=balanced, criterion=gini, max_depth=2, max_features=auto, warm_start=True;, score=0.350 total time=   0.1s\n"
          ]
        },
        {
          "output_type": "stream",
          "name": "stderr",
          "text": [
            "/usr/local/lib/python3.7/dist-packages/sklearn/ensemble/_forest.py:756: UserWarning: class_weight presets \"balanced\" or \"balanced_subsample\" are not recommended for warm_start if the fitted data differs from the full dataset. In order to use \"balanced\" weights, use compute_class_weight (\"balanced\", classes, y). In place of y you can use a large enough sample of the full training set target to properly estimate the class frequency distributions. Pass the resulting weights as the class_weight parameter.\n",
            "  'class_weight presets \"balanced\" or '\n"
          ]
        },
        {
          "output_type": "stream",
          "name": "stdout",
          "text": [
            "[CV 5/5] END bootstrap=True, class_weight=balanced, criterion=gini, max_depth=2, max_features=auto, warm_start=True;, score=0.350 total time=   0.2s\n",
            "[CV 1/5] END bootstrap=True, class_weight=balanced, criterion=gini, max_depth=2, max_features=sqrt, warm_start=False;, score=0.400 total time=   0.2s\n",
            "[CV 2/5] END bootstrap=True, class_weight=balanced, criterion=gini, max_depth=2, max_features=sqrt, warm_start=False;, score=0.500 total time=   0.1s\n",
            "[CV 3/5] END bootstrap=True, class_weight=balanced, criterion=gini, max_depth=2, max_features=sqrt, warm_start=False;, score=0.300 total time=   0.2s\n",
            "[CV 4/5] END bootstrap=True, class_weight=balanced, criterion=gini, max_depth=2, max_features=sqrt, warm_start=False;, score=0.300 total time=   0.2s\n",
            "[CV 5/5] END bootstrap=True, class_weight=balanced, criterion=gini, max_depth=2, max_features=sqrt, warm_start=False;, score=0.250 total time=   0.1s\n"
          ]
        },
        {
          "output_type": "stream",
          "name": "stderr",
          "text": [
            "/usr/local/lib/python3.7/dist-packages/sklearn/ensemble/_forest.py:756: UserWarning: class_weight presets \"balanced\" or \"balanced_subsample\" are not recommended for warm_start if the fitted data differs from the full dataset. In order to use \"balanced\" weights, use compute_class_weight (\"balanced\", classes, y). In place of y you can use a large enough sample of the full training set target to properly estimate the class frequency distributions. Pass the resulting weights as the class_weight parameter.\n",
            "  'class_weight presets \"balanced\" or '\n",
            "/usr/local/lib/python3.7/dist-packages/sklearn/ensemble/_forest.py:756: UserWarning: class_weight presets \"balanced\" or \"balanced_subsample\" are not recommended for warm_start if the fitted data differs from the full dataset. In order to use \"balanced\" weights, use compute_class_weight (\"balanced\", classes, y). In place of y you can use a large enough sample of the full training set target to properly estimate the class frequency distributions. Pass the resulting weights as the class_weight parameter.\n",
            "  'class_weight presets \"balanced\" or '\n"
          ]
        },
        {
          "output_type": "stream",
          "name": "stdout",
          "text": [
            "[CV 1/5] END bootstrap=True, class_weight=balanced, criterion=gini, max_depth=2, max_features=sqrt, warm_start=True;, score=0.450 total time=   0.2s\n",
            "[CV 2/5] END bootstrap=True, class_weight=balanced, criterion=gini, max_depth=2, max_features=sqrt, warm_start=True;, score=0.500 total time=   0.2s\n"
          ]
        },
        {
          "output_type": "stream",
          "name": "stderr",
          "text": [
            "/usr/local/lib/python3.7/dist-packages/sklearn/ensemble/_forest.py:756: UserWarning: class_weight presets \"balanced\" or \"balanced_subsample\" are not recommended for warm_start if the fitted data differs from the full dataset. In order to use \"balanced\" weights, use compute_class_weight (\"balanced\", classes, y). In place of y you can use a large enough sample of the full training set target to properly estimate the class frequency distributions. Pass the resulting weights as the class_weight parameter.\n",
            "  'class_weight presets \"balanced\" or '\n",
            "/usr/local/lib/python3.7/dist-packages/sklearn/ensemble/_forest.py:756: UserWarning: class_weight presets \"balanced\" or \"balanced_subsample\" are not recommended for warm_start if the fitted data differs from the full dataset. In order to use \"balanced\" weights, use compute_class_weight (\"balanced\", classes, y). In place of y you can use a large enough sample of the full training set target to properly estimate the class frequency distributions. Pass the resulting weights as the class_weight parameter.\n",
            "  'class_weight presets \"balanced\" or '\n"
          ]
        },
        {
          "output_type": "stream",
          "name": "stdout",
          "text": [
            "[CV 3/5] END bootstrap=True, class_weight=balanced, criterion=gini, max_depth=2, max_features=sqrt, warm_start=True;, score=0.400 total time=   0.2s\n",
            "[CV 4/5] END bootstrap=True, class_weight=balanced, criterion=gini, max_depth=2, max_features=sqrt, warm_start=True;, score=0.350 total time=   0.1s\n"
          ]
        },
        {
          "output_type": "stream",
          "name": "stderr",
          "text": [
            "/usr/local/lib/python3.7/dist-packages/sklearn/ensemble/_forest.py:756: UserWarning: class_weight presets \"balanced\" or \"balanced_subsample\" are not recommended for warm_start if the fitted data differs from the full dataset. In order to use \"balanced\" weights, use compute_class_weight (\"balanced\", classes, y). In place of y you can use a large enough sample of the full training set target to properly estimate the class frequency distributions. Pass the resulting weights as the class_weight parameter.\n",
            "  'class_weight presets \"balanced\" or '\n"
          ]
        },
        {
          "output_type": "stream",
          "name": "stdout",
          "text": [
            "[CV 5/5] END bootstrap=True, class_weight=balanced, criterion=gini, max_depth=2, max_features=sqrt, warm_start=True;, score=0.350 total time=   0.2s\n",
            "[CV 1/5] END bootstrap=True, class_weight=balanced, criterion=gini, max_depth=2, max_features=log2, warm_start=False;, score=0.350 total time=   0.2s\n",
            "[CV 2/5] END bootstrap=True, class_weight=balanced, criterion=gini, max_depth=2, max_features=log2, warm_start=False;, score=0.550 total time=   0.2s\n",
            "[CV 3/5] END bootstrap=True, class_weight=balanced, criterion=gini, max_depth=2, max_features=log2, warm_start=False;, score=0.400 total time=   0.1s\n",
            "[CV 4/5] END bootstrap=True, class_weight=balanced, criterion=gini, max_depth=2, max_features=log2, warm_start=False;, score=0.400 total time=   0.2s\n",
            "[CV 5/5] END bootstrap=True, class_weight=balanced, criterion=gini, max_depth=2, max_features=log2, warm_start=False;, score=0.350 total time=   0.1s\n"
          ]
        },
        {
          "output_type": "stream",
          "name": "stderr",
          "text": [
            "/usr/local/lib/python3.7/dist-packages/sklearn/ensemble/_forest.py:756: UserWarning: class_weight presets \"balanced\" or \"balanced_subsample\" are not recommended for warm_start if the fitted data differs from the full dataset. In order to use \"balanced\" weights, use compute_class_weight (\"balanced\", classes, y). In place of y you can use a large enough sample of the full training set target to properly estimate the class frequency distributions. Pass the resulting weights as the class_weight parameter.\n",
            "  'class_weight presets \"balanced\" or '\n",
            "/usr/local/lib/python3.7/dist-packages/sklearn/ensemble/_forest.py:756: UserWarning: class_weight presets \"balanced\" or \"balanced_subsample\" are not recommended for warm_start if the fitted data differs from the full dataset. In order to use \"balanced\" weights, use compute_class_weight (\"balanced\", classes, y). In place of y you can use a large enough sample of the full training set target to properly estimate the class frequency distributions. Pass the resulting weights as the class_weight parameter.\n",
            "  'class_weight presets \"balanced\" or '\n"
          ]
        },
        {
          "output_type": "stream",
          "name": "stdout",
          "text": [
            "[CV 1/5] END bootstrap=True, class_weight=balanced, criterion=gini, max_depth=2, max_features=log2, warm_start=True;, score=0.350 total time=   0.2s\n",
            "[CV 2/5] END bootstrap=True, class_weight=balanced, criterion=gini, max_depth=2, max_features=log2, warm_start=True;, score=0.350 total time=   0.2s\n"
          ]
        },
        {
          "output_type": "stream",
          "name": "stderr",
          "text": [
            "/usr/local/lib/python3.7/dist-packages/sklearn/ensemble/_forest.py:756: UserWarning: class_weight presets \"balanced\" or \"balanced_subsample\" are not recommended for warm_start if the fitted data differs from the full dataset. In order to use \"balanced\" weights, use compute_class_weight (\"balanced\", classes, y). In place of y you can use a large enough sample of the full training set target to properly estimate the class frequency distributions. Pass the resulting weights as the class_weight parameter.\n",
            "  'class_weight presets \"balanced\" or '\n",
            "/usr/local/lib/python3.7/dist-packages/sklearn/ensemble/_forest.py:756: UserWarning: class_weight presets \"balanced\" or \"balanced_subsample\" are not recommended for warm_start if the fitted data differs from the full dataset. In order to use \"balanced\" weights, use compute_class_weight (\"balanced\", classes, y). In place of y you can use a large enough sample of the full training set target to properly estimate the class frequency distributions. Pass the resulting weights as the class_weight parameter.\n",
            "  'class_weight presets \"balanced\" or '\n"
          ]
        },
        {
          "output_type": "stream",
          "name": "stdout",
          "text": [
            "[CV 3/5] END bootstrap=True, class_weight=balanced, criterion=gini, max_depth=2, max_features=log2, warm_start=True;, score=0.400 total time=   0.2s\n",
            "[CV 4/5] END bootstrap=True, class_weight=balanced, criterion=gini, max_depth=2, max_features=log2, warm_start=True;, score=0.400 total time=   0.2s\n"
          ]
        },
        {
          "output_type": "stream",
          "name": "stderr",
          "text": [
            "/usr/local/lib/python3.7/dist-packages/sklearn/ensemble/_forest.py:756: UserWarning: class_weight presets \"balanced\" or \"balanced_subsample\" are not recommended for warm_start if the fitted data differs from the full dataset. In order to use \"balanced\" weights, use compute_class_weight (\"balanced\", classes, y). In place of y you can use a large enough sample of the full training set target to properly estimate the class frequency distributions. Pass the resulting weights as the class_weight parameter.\n",
            "  'class_weight presets \"balanced\" or '\n"
          ]
        },
        {
          "output_type": "stream",
          "name": "stdout",
          "text": [
            "[CV 5/5] END bootstrap=True, class_weight=balanced, criterion=gini, max_depth=2, max_features=log2, warm_start=True;, score=0.250 total time=   0.2s\n",
            "[CV 1/5] END bootstrap=True, class_weight=balanced, criterion=gini, max_depth=3, max_features=auto, warm_start=False;, score=0.400 total time=   0.2s\n",
            "[CV 2/5] END bootstrap=True, class_weight=balanced, criterion=gini, max_depth=3, max_features=auto, warm_start=False;, score=0.550 total time=   0.2s\n",
            "[CV 3/5] END bootstrap=True, class_weight=balanced, criterion=gini, max_depth=3, max_features=auto, warm_start=False;, score=0.350 total time=   0.2s\n",
            "[CV 4/5] END bootstrap=True, class_weight=balanced, criterion=gini, max_depth=3, max_features=auto, warm_start=False;, score=0.300 total time=   0.2s\n",
            "[CV 5/5] END bootstrap=True, class_weight=balanced, criterion=gini, max_depth=3, max_features=auto, warm_start=False;, score=0.350 total time=   0.2s\n"
          ]
        },
        {
          "output_type": "stream",
          "name": "stderr",
          "text": [
            "/usr/local/lib/python3.7/dist-packages/sklearn/ensemble/_forest.py:756: UserWarning: class_weight presets \"balanced\" or \"balanced_subsample\" are not recommended for warm_start if the fitted data differs from the full dataset. In order to use \"balanced\" weights, use compute_class_weight (\"balanced\", classes, y). In place of y you can use a large enough sample of the full training set target to properly estimate the class frequency distributions. Pass the resulting weights as the class_weight parameter.\n",
            "  'class_weight presets \"balanced\" or '\n",
            "/usr/local/lib/python3.7/dist-packages/sklearn/ensemble/_forest.py:756: UserWarning: class_weight presets \"balanced\" or \"balanced_subsample\" are not recommended for warm_start if the fitted data differs from the full dataset. In order to use \"balanced\" weights, use compute_class_weight (\"balanced\", classes, y). In place of y you can use a large enough sample of the full training set target to properly estimate the class frequency distributions. Pass the resulting weights as the class_weight parameter.\n",
            "  'class_weight presets \"balanced\" or '\n"
          ]
        },
        {
          "output_type": "stream",
          "name": "stdout",
          "text": [
            "[CV 1/5] END bootstrap=True, class_weight=balanced, criterion=gini, max_depth=3, max_features=auto, warm_start=True;, score=0.450 total time=   0.2s\n",
            "[CV 2/5] END bootstrap=True, class_weight=balanced, criterion=gini, max_depth=3, max_features=auto, warm_start=True;, score=0.400 total time=   0.2s\n"
          ]
        },
        {
          "output_type": "stream",
          "name": "stderr",
          "text": [
            "/usr/local/lib/python3.7/dist-packages/sklearn/ensemble/_forest.py:756: UserWarning: class_weight presets \"balanced\" or \"balanced_subsample\" are not recommended for warm_start if the fitted data differs from the full dataset. In order to use \"balanced\" weights, use compute_class_weight (\"balanced\", classes, y). In place of y you can use a large enough sample of the full training set target to properly estimate the class frequency distributions. Pass the resulting weights as the class_weight parameter.\n",
            "  'class_weight presets \"balanced\" or '\n",
            "/usr/local/lib/python3.7/dist-packages/sklearn/ensemble/_forest.py:756: UserWarning: class_weight presets \"balanced\" or \"balanced_subsample\" are not recommended for warm_start if the fitted data differs from the full dataset. In order to use \"balanced\" weights, use compute_class_weight (\"balanced\", classes, y). In place of y you can use a large enough sample of the full training set target to properly estimate the class frequency distributions. Pass the resulting weights as the class_weight parameter.\n",
            "  'class_weight presets \"balanced\" or '\n"
          ]
        },
        {
          "output_type": "stream",
          "name": "stdout",
          "text": [
            "[CV 3/5] END bootstrap=True, class_weight=balanced, criterion=gini, max_depth=3, max_features=auto, warm_start=True;, score=0.300 total time=   0.2s\n",
            "[CV 4/5] END bootstrap=True, class_weight=balanced, criterion=gini, max_depth=3, max_features=auto, warm_start=True;, score=0.350 total time=   0.2s\n"
          ]
        },
        {
          "output_type": "stream",
          "name": "stderr",
          "text": [
            "/usr/local/lib/python3.7/dist-packages/sklearn/ensemble/_forest.py:756: UserWarning: class_weight presets \"balanced\" or \"balanced_subsample\" are not recommended for warm_start if the fitted data differs from the full dataset. In order to use \"balanced\" weights, use compute_class_weight (\"balanced\", classes, y). In place of y you can use a large enough sample of the full training set target to properly estimate the class frequency distributions. Pass the resulting weights as the class_weight parameter.\n",
            "  'class_weight presets \"balanced\" or '\n"
          ]
        },
        {
          "output_type": "stream",
          "name": "stdout",
          "text": [
            "[CV 5/5] END bootstrap=True, class_weight=balanced, criterion=gini, max_depth=3, max_features=auto, warm_start=True;, score=0.400 total time=   0.2s\n",
            "[CV 1/5] END bootstrap=True, class_weight=balanced, criterion=gini, max_depth=3, max_features=sqrt, warm_start=False;, score=0.450 total time=   0.2s\n",
            "[CV 2/5] END bootstrap=True, class_weight=balanced, criterion=gini, max_depth=3, max_features=sqrt, warm_start=False;, score=0.600 total time=   0.2s\n",
            "[CV 3/5] END bootstrap=True, class_weight=balanced, criterion=gini, max_depth=3, max_features=sqrt, warm_start=False;, score=0.400 total time=   0.1s\n",
            "[CV 4/5] END bootstrap=True, class_weight=balanced, criterion=gini, max_depth=3, max_features=sqrt, warm_start=False;, score=0.350 total time=   0.1s\n",
            "[CV 5/5] END bootstrap=True, class_weight=balanced, criterion=gini, max_depth=3, max_features=sqrt, warm_start=False;, score=0.350 total time=   0.2s\n"
          ]
        },
        {
          "output_type": "stream",
          "name": "stderr",
          "text": [
            "/usr/local/lib/python3.7/dist-packages/sklearn/ensemble/_forest.py:756: UserWarning: class_weight presets \"balanced\" or \"balanced_subsample\" are not recommended for warm_start if the fitted data differs from the full dataset. In order to use \"balanced\" weights, use compute_class_weight (\"balanced\", classes, y). In place of y you can use a large enough sample of the full training set target to properly estimate the class frequency distributions. Pass the resulting weights as the class_weight parameter.\n",
            "  'class_weight presets \"balanced\" or '\n",
            "/usr/local/lib/python3.7/dist-packages/sklearn/ensemble/_forest.py:756: UserWarning: class_weight presets \"balanced\" or \"balanced_subsample\" are not recommended for warm_start if the fitted data differs from the full dataset. In order to use \"balanced\" weights, use compute_class_weight (\"balanced\", classes, y). In place of y you can use a large enough sample of the full training set target to properly estimate the class frequency distributions. Pass the resulting weights as the class_weight parameter.\n",
            "  'class_weight presets \"balanced\" or '\n"
          ]
        },
        {
          "output_type": "stream",
          "name": "stdout",
          "text": [
            "[CV 1/5] END bootstrap=True, class_weight=balanced, criterion=gini, max_depth=3, max_features=sqrt, warm_start=True;, score=0.450 total time=   0.2s\n",
            "[CV 2/5] END bootstrap=True, class_weight=balanced, criterion=gini, max_depth=3, max_features=sqrt, warm_start=True;, score=0.350 total time=   0.2s\n"
          ]
        },
        {
          "output_type": "stream",
          "name": "stderr",
          "text": [
            "/usr/local/lib/python3.7/dist-packages/sklearn/ensemble/_forest.py:756: UserWarning: class_weight presets \"balanced\" or \"balanced_subsample\" are not recommended for warm_start if the fitted data differs from the full dataset. In order to use \"balanced\" weights, use compute_class_weight (\"balanced\", classes, y). In place of y you can use a large enough sample of the full training set target to properly estimate the class frequency distributions. Pass the resulting weights as the class_weight parameter.\n",
            "  'class_weight presets \"balanced\" or '\n",
            "/usr/local/lib/python3.7/dist-packages/sklearn/ensemble/_forest.py:756: UserWarning: class_weight presets \"balanced\" or \"balanced_subsample\" are not recommended for warm_start if the fitted data differs from the full dataset. In order to use \"balanced\" weights, use compute_class_weight (\"balanced\", classes, y). In place of y you can use a large enough sample of the full training set target to properly estimate the class frequency distributions. Pass the resulting weights as the class_weight parameter.\n",
            "  'class_weight presets \"balanced\" or '\n"
          ]
        },
        {
          "output_type": "stream",
          "name": "stdout",
          "text": [
            "[CV 3/5] END bootstrap=True, class_weight=balanced, criterion=gini, max_depth=3, max_features=sqrt, warm_start=True;, score=0.400 total time=   0.1s\n",
            "[CV 4/5] END bootstrap=True, class_weight=balanced, criterion=gini, max_depth=3, max_features=sqrt, warm_start=True;, score=0.450 total time=   0.2s\n"
          ]
        },
        {
          "output_type": "stream",
          "name": "stderr",
          "text": [
            "/usr/local/lib/python3.7/dist-packages/sklearn/ensemble/_forest.py:756: UserWarning: class_weight presets \"balanced\" or \"balanced_subsample\" are not recommended for warm_start if the fitted data differs from the full dataset. In order to use \"balanced\" weights, use compute_class_weight (\"balanced\", classes, y). In place of y you can use a large enough sample of the full training set target to properly estimate the class frequency distributions. Pass the resulting weights as the class_weight parameter.\n",
            "  'class_weight presets \"balanced\" or '\n"
          ]
        },
        {
          "output_type": "stream",
          "name": "stdout",
          "text": [
            "[CV 5/5] END bootstrap=True, class_weight=balanced, criterion=gini, max_depth=3, max_features=sqrt, warm_start=True;, score=0.450 total time=   0.2s\n",
            "[CV 1/5] END bootstrap=True, class_weight=balanced, criterion=gini, max_depth=3, max_features=log2, warm_start=False;, score=0.450 total time=   0.1s\n",
            "[CV 2/5] END bootstrap=True, class_weight=balanced, criterion=gini, max_depth=3, max_features=log2, warm_start=False;, score=0.450 total time=   0.2s\n",
            "[CV 3/5] END bootstrap=True, class_weight=balanced, criterion=gini, max_depth=3, max_features=log2, warm_start=False;, score=0.400 total time=   0.2s\n",
            "[CV 4/5] END bootstrap=True, class_weight=balanced, criterion=gini, max_depth=3, max_features=log2, warm_start=False;, score=0.450 total time=   0.2s\n",
            "[CV 5/5] END bootstrap=True, class_weight=balanced, criterion=gini, max_depth=3, max_features=log2, warm_start=False;, score=0.400 total time=   0.2s\n"
          ]
        },
        {
          "output_type": "stream",
          "name": "stderr",
          "text": [
            "/usr/local/lib/python3.7/dist-packages/sklearn/ensemble/_forest.py:756: UserWarning: class_weight presets \"balanced\" or \"balanced_subsample\" are not recommended for warm_start if the fitted data differs from the full dataset. In order to use \"balanced\" weights, use compute_class_weight (\"balanced\", classes, y). In place of y you can use a large enough sample of the full training set target to properly estimate the class frequency distributions. Pass the resulting weights as the class_weight parameter.\n",
            "  'class_weight presets \"balanced\" or '\n",
            "/usr/local/lib/python3.7/dist-packages/sklearn/ensemble/_forest.py:756: UserWarning: class_weight presets \"balanced\" or \"balanced_subsample\" are not recommended for warm_start if the fitted data differs from the full dataset. In order to use \"balanced\" weights, use compute_class_weight (\"balanced\", classes, y). In place of y you can use a large enough sample of the full training set target to properly estimate the class frequency distributions. Pass the resulting weights as the class_weight parameter.\n",
            "  'class_weight presets \"balanced\" or '\n"
          ]
        },
        {
          "output_type": "stream",
          "name": "stdout",
          "text": [
            "[CV 1/5] END bootstrap=True, class_weight=balanced, criterion=gini, max_depth=3, max_features=log2, warm_start=True;, score=0.500 total time=   0.2s\n",
            "[CV 2/5] END bootstrap=True, class_weight=balanced, criterion=gini, max_depth=3, max_features=log2, warm_start=True;, score=0.500 total time=   0.1s\n"
          ]
        },
        {
          "output_type": "stream",
          "name": "stderr",
          "text": [
            "/usr/local/lib/python3.7/dist-packages/sklearn/ensemble/_forest.py:756: UserWarning: class_weight presets \"balanced\" or \"balanced_subsample\" are not recommended for warm_start if the fitted data differs from the full dataset. In order to use \"balanced\" weights, use compute_class_weight (\"balanced\", classes, y). In place of y you can use a large enough sample of the full training set target to properly estimate the class frequency distributions. Pass the resulting weights as the class_weight parameter.\n",
            "  'class_weight presets \"balanced\" or '\n",
            "/usr/local/lib/python3.7/dist-packages/sklearn/ensemble/_forest.py:756: UserWarning: class_weight presets \"balanced\" or \"balanced_subsample\" are not recommended for warm_start if the fitted data differs from the full dataset. In order to use \"balanced\" weights, use compute_class_weight (\"balanced\", classes, y). In place of y you can use a large enough sample of the full training set target to properly estimate the class frequency distributions. Pass the resulting weights as the class_weight parameter.\n",
            "  'class_weight presets \"balanced\" or '\n"
          ]
        },
        {
          "output_type": "stream",
          "name": "stdout",
          "text": [
            "[CV 3/5] END bootstrap=True, class_weight=balanced, criterion=gini, max_depth=3, max_features=log2, warm_start=True;, score=0.450 total time=   0.2s\n",
            "[CV 4/5] END bootstrap=True, class_weight=balanced, criterion=gini, max_depth=3, max_features=log2, warm_start=True;, score=0.350 total time=   0.2s\n"
          ]
        },
        {
          "output_type": "stream",
          "name": "stderr",
          "text": [
            "/usr/local/lib/python3.7/dist-packages/sklearn/ensemble/_forest.py:756: UserWarning: class_weight presets \"balanced\" or \"balanced_subsample\" are not recommended for warm_start if the fitted data differs from the full dataset. In order to use \"balanced\" weights, use compute_class_weight (\"balanced\", classes, y). In place of y you can use a large enough sample of the full training set target to properly estimate the class frequency distributions. Pass the resulting weights as the class_weight parameter.\n",
            "  'class_weight presets \"balanced\" or '\n"
          ]
        },
        {
          "output_type": "stream",
          "name": "stdout",
          "text": [
            "[CV 5/5] END bootstrap=True, class_weight=balanced, criterion=gini, max_depth=3, max_features=log2, warm_start=True;, score=0.400 total time=   0.2s\n",
            "[CV 1/5] END bootstrap=True, class_weight=balanced, criterion=gini, max_depth=5, max_features=auto, warm_start=False;, score=0.500 total time=   0.2s\n",
            "[CV 2/5] END bootstrap=True, class_weight=balanced, criterion=gini, max_depth=5, max_features=auto, warm_start=False;, score=0.450 total time=   0.2s\n",
            "[CV 3/5] END bootstrap=True, class_weight=balanced, criterion=gini, max_depth=5, max_features=auto, warm_start=False;, score=0.400 total time=   0.2s\n",
            "[CV 4/5] END bootstrap=True, class_weight=balanced, criterion=gini, max_depth=5, max_features=auto, warm_start=False;, score=0.400 total time=   0.2s\n",
            "[CV 5/5] END bootstrap=True, class_weight=balanced, criterion=gini, max_depth=5, max_features=auto, warm_start=False;, score=0.450 total time=   0.2s\n"
          ]
        },
        {
          "output_type": "stream",
          "name": "stderr",
          "text": [
            "/usr/local/lib/python3.7/dist-packages/sklearn/ensemble/_forest.py:756: UserWarning: class_weight presets \"balanced\" or \"balanced_subsample\" are not recommended for warm_start if the fitted data differs from the full dataset. In order to use \"balanced\" weights, use compute_class_weight (\"balanced\", classes, y). In place of y you can use a large enough sample of the full training set target to properly estimate the class frequency distributions. Pass the resulting weights as the class_weight parameter.\n",
            "  'class_weight presets \"balanced\" or '\n",
            "/usr/local/lib/python3.7/dist-packages/sklearn/ensemble/_forest.py:756: UserWarning: class_weight presets \"balanced\" or \"balanced_subsample\" are not recommended for warm_start if the fitted data differs from the full dataset. In order to use \"balanced\" weights, use compute_class_weight (\"balanced\", classes, y). In place of y you can use a large enough sample of the full training set target to properly estimate the class frequency distributions. Pass the resulting weights as the class_weight parameter.\n",
            "  'class_weight presets \"balanced\" or '\n"
          ]
        },
        {
          "output_type": "stream",
          "name": "stdout",
          "text": [
            "[CV 1/5] END bootstrap=True, class_weight=balanced, criterion=gini, max_depth=5, max_features=auto, warm_start=True;, score=0.500 total time=   0.2s\n",
            "[CV 2/5] END bootstrap=True, class_weight=balanced, criterion=gini, max_depth=5, max_features=auto, warm_start=True;, score=0.400 total time=   0.2s\n"
          ]
        },
        {
          "output_type": "stream",
          "name": "stderr",
          "text": [
            "/usr/local/lib/python3.7/dist-packages/sklearn/ensemble/_forest.py:756: UserWarning: class_weight presets \"balanced\" or \"balanced_subsample\" are not recommended for warm_start if the fitted data differs from the full dataset. In order to use \"balanced\" weights, use compute_class_weight (\"balanced\", classes, y). In place of y you can use a large enough sample of the full training set target to properly estimate the class frequency distributions. Pass the resulting weights as the class_weight parameter.\n",
            "  'class_weight presets \"balanced\" or '\n",
            "/usr/local/lib/python3.7/dist-packages/sklearn/ensemble/_forest.py:756: UserWarning: class_weight presets \"balanced\" or \"balanced_subsample\" are not recommended for warm_start if the fitted data differs from the full dataset. In order to use \"balanced\" weights, use compute_class_weight (\"balanced\", classes, y). In place of y you can use a large enough sample of the full training set target to properly estimate the class frequency distributions. Pass the resulting weights as the class_weight parameter.\n",
            "  'class_weight presets \"balanced\" or '\n"
          ]
        },
        {
          "output_type": "stream",
          "name": "stdout",
          "text": [
            "[CV 3/5] END bootstrap=True, class_weight=balanced, criterion=gini, max_depth=5, max_features=auto, warm_start=True;, score=0.300 total time=   0.2s\n",
            "[CV 4/5] END bootstrap=True, class_weight=balanced, criterion=gini, max_depth=5, max_features=auto, warm_start=True;, score=0.500 total time=   0.2s\n"
          ]
        },
        {
          "output_type": "stream",
          "name": "stderr",
          "text": [
            "/usr/local/lib/python3.7/dist-packages/sklearn/ensemble/_forest.py:756: UserWarning: class_weight presets \"balanced\" or \"balanced_subsample\" are not recommended for warm_start if the fitted data differs from the full dataset. In order to use \"balanced\" weights, use compute_class_weight (\"balanced\", classes, y). In place of y you can use a large enough sample of the full training set target to properly estimate the class frequency distributions. Pass the resulting weights as the class_weight parameter.\n",
            "  'class_weight presets \"balanced\" or '\n"
          ]
        },
        {
          "output_type": "stream",
          "name": "stdout",
          "text": [
            "[CV 5/5] END bootstrap=True, class_weight=balanced, criterion=gini, max_depth=5, max_features=auto, warm_start=True;, score=0.400 total time=   0.2s\n",
            "[CV 1/5] END bootstrap=True, class_weight=balanced, criterion=gini, max_depth=5, max_features=sqrt, warm_start=False;, score=0.450 total time=   0.2s\n",
            "[CV 2/5] END bootstrap=True, class_weight=balanced, criterion=gini, max_depth=5, max_features=sqrt, warm_start=False;, score=0.300 total time=   0.2s\n",
            "[CV 3/5] END bootstrap=True, class_weight=balanced, criterion=gini, max_depth=5, max_features=sqrt, warm_start=False;, score=0.450 total time=   0.2s\n",
            "[CV 4/5] END bootstrap=True, class_weight=balanced, criterion=gini, max_depth=5, max_features=sqrt, warm_start=False;, score=0.500 total time=   0.2s\n",
            "[CV 5/5] END bootstrap=True, class_weight=balanced, criterion=gini, max_depth=5, max_features=sqrt, warm_start=False;, score=0.400 total time=   0.2s\n"
          ]
        },
        {
          "output_type": "stream",
          "name": "stderr",
          "text": [
            "/usr/local/lib/python3.7/dist-packages/sklearn/ensemble/_forest.py:756: UserWarning: class_weight presets \"balanced\" or \"balanced_subsample\" are not recommended for warm_start if the fitted data differs from the full dataset. In order to use \"balanced\" weights, use compute_class_weight (\"balanced\", classes, y). In place of y you can use a large enough sample of the full training set target to properly estimate the class frequency distributions. Pass the resulting weights as the class_weight parameter.\n",
            "  'class_weight presets \"balanced\" or '\n",
            "/usr/local/lib/python3.7/dist-packages/sklearn/ensemble/_forest.py:756: UserWarning: class_weight presets \"balanced\" or \"balanced_subsample\" are not recommended for warm_start if the fitted data differs from the full dataset. In order to use \"balanced\" weights, use compute_class_weight (\"balanced\", classes, y). In place of y you can use a large enough sample of the full training set target to properly estimate the class frequency distributions. Pass the resulting weights as the class_weight parameter.\n",
            "  'class_weight presets \"balanced\" or '\n"
          ]
        },
        {
          "output_type": "stream",
          "name": "stdout",
          "text": [
            "[CV 1/5] END bootstrap=True, class_weight=balanced, criterion=gini, max_depth=5, max_features=sqrt, warm_start=True;, score=0.350 total time=   0.2s\n",
            "[CV 2/5] END bootstrap=True, class_weight=balanced, criterion=gini, max_depth=5, max_features=sqrt, warm_start=True;, score=0.450 total time=   0.2s\n"
          ]
        },
        {
          "output_type": "stream",
          "name": "stderr",
          "text": [
            "/usr/local/lib/python3.7/dist-packages/sklearn/ensemble/_forest.py:756: UserWarning: class_weight presets \"balanced\" or \"balanced_subsample\" are not recommended for warm_start if the fitted data differs from the full dataset. In order to use \"balanced\" weights, use compute_class_weight (\"balanced\", classes, y). In place of y you can use a large enough sample of the full training set target to properly estimate the class frequency distributions. Pass the resulting weights as the class_weight parameter.\n",
            "  'class_weight presets \"balanced\" or '\n",
            "/usr/local/lib/python3.7/dist-packages/sklearn/ensemble/_forest.py:756: UserWarning: class_weight presets \"balanced\" or \"balanced_subsample\" are not recommended for warm_start if the fitted data differs from the full dataset. In order to use \"balanced\" weights, use compute_class_weight (\"balanced\", classes, y). In place of y you can use a large enough sample of the full training set target to properly estimate the class frequency distributions. Pass the resulting weights as the class_weight parameter.\n",
            "  'class_weight presets \"balanced\" or '\n"
          ]
        },
        {
          "output_type": "stream",
          "name": "stdout",
          "text": [
            "[CV 3/5] END bootstrap=True, class_weight=balanced, criterion=gini, max_depth=5, max_features=sqrt, warm_start=True;, score=0.300 total time=   0.2s\n",
            "[CV 4/5] END bootstrap=True, class_weight=balanced, criterion=gini, max_depth=5, max_features=sqrt, warm_start=True;, score=0.400 total time=   0.2s\n"
          ]
        },
        {
          "output_type": "stream",
          "name": "stderr",
          "text": [
            "/usr/local/lib/python3.7/dist-packages/sklearn/ensemble/_forest.py:756: UserWarning: class_weight presets \"balanced\" or \"balanced_subsample\" are not recommended for warm_start if the fitted data differs from the full dataset. In order to use \"balanced\" weights, use compute_class_weight (\"balanced\", classes, y). In place of y you can use a large enough sample of the full training set target to properly estimate the class frequency distributions. Pass the resulting weights as the class_weight parameter.\n",
            "  'class_weight presets \"balanced\" or '\n"
          ]
        },
        {
          "output_type": "stream",
          "name": "stdout",
          "text": [
            "[CV 5/5] END bootstrap=True, class_weight=balanced, criterion=gini, max_depth=5, max_features=sqrt, warm_start=True;, score=0.350 total time=   0.2s\n",
            "[CV 1/5] END bootstrap=True, class_weight=balanced, criterion=gini, max_depth=5, max_features=log2, warm_start=False;, score=0.350 total time=   0.2s\n",
            "[CV 2/5] END bootstrap=True, class_weight=balanced, criterion=gini, max_depth=5, max_features=log2, warm_start=False;, score=0.550 total time=   0.2s\n",
            "[CV 3/5] END bootstrap=True, class_weight=balanced, criterion=gini, max_depth=5, max_features=log2, warm_start=False;, score=0.300 total time=   0.2s\n",
            "[CV 4/5] END bootstrap=True, class_weight=balanced, criterion=gini, max_depth=5, max_features=log2, warm_start=False;, score=0.350 total time=   0.2s\n",
            "[CV 5/5] END bootstrap=True, class_weight=balanced, criterion=gini, max_depth=5, max_features=log2, warm_start=False;, score=0.400 total time=   0.2s\n"
          ]
        },
        {
          "output_type": "stream",
          "name": "stderr",
          "text": [
            "/usr/local/lib/python3.7/dist-packages/sklearn/ensemble/_forest.py:756: UserWarning: class_weight presets \"balanced\" or \"balanced_subsample\" are not recommended for warm_start if the fitted data differs from the full dataset. In order to use \"balanced\" weights, use compute_class_weight (\"balanced\", classes, y). In place of y you can use a large enough sample of the full training set target to properly estimate the class frequency distributions. Pass the resulting weights as the class_weight parameter.\n",
            "  'class_weight presets \"balanced\" or '\n",
            "/usr/local/lib/python3.7/dist-packages/sklearn/ensemble/_forest.py:756: UserWarning: class_weight presets \"balanced\" or \"balanced_subsample\" are not recommended for warm_start if the fitted data differs from the full dataset. In order to use \"balanced\" weights, use compute_class_weight (\"balanced\", classes, y). In place of y you can use a large enough sample of the full training set target to properly estimate the class frequency distributions. Pass the resulting weights as the class_weight parameter.\n",
            "  'class_weight presets \"balanced\" or '\n"
          ]
        },
        {
          "output_type": "stream",
          "name": "stdout",
          "text": [
            "[CV 1/5] END bootstrap=True, class_weight=balanced, criterion=gini, max_depth=5, max_features=log2, warm_start=True;, score=0.450 total time=   0.2s\n",
            "[CV 2/5] END bootstrap=True, class_weight=balanced, criterion=gini, max_depth=5, max_features=log2, warm_start=True;, score=0.300 total time=   0.2s\n"
          ]
        },
        {
          "output_type": "stream",
          "name": "stderr",
          "text": [
            "/usr/local/lib/python3.7/dist-packages/sklearn/ensemble/_forest.py:756: UserWarning: class_weight presets \"balanced\" or \"balanced_subsample\" are not recommended for warm_start if the fitted data differs from the full dataset. In order to use \"balanced\" weights, use compute_class_weight (\"balanced\", classes, y). In place of y you can use a large enough sample of the full training set target to properly estimate the class frequency distributions. Pass the resulting weights as the class_weight parameter.\n",
            "  'class_weight presets \"balanced\" or '\n",
            "/usr/local/lib/python3.7/dist-packages/sklearn/ensemble/_forest.py:756: UserWarning: class_weight presets \"balanced\" or \"balanced_subsample\" are not recommended for warm_start if the fitted data differs from the full dataset. In order to use \"balanced\" weights, use compute_class_weight (\"balanced\", classes, y). In place of y you can use a large enough sample of the full training set target to properly estimate the class frequency distributions. Pass the resulting weights as the class_weight parameter.\n",
            "  'class_weight presets \"balanced\" or '\n"
          ]
        },
        {
          "output_type": "stream",
          "name": "stdout",
          "text": [
            "[CV 3/5] END bootstrap=True, class_weight=balanced, criterion=gini, max_depth=5, max_features=log2, warm_start=True;, score=0.400 total time=   0.2s\n",
            "[CV 4/5] END bootstrap=True, class_weight=balanced, criterion=gini, max_depth=5, max_features=log2, warm_start=True;, score=0.400 total time=   0.2s\n"
          ]
        },
        {
          "output_type": "stream",
          "name": "stderr",
          "text": [
            "/usr/local/lib/python3.7/dist-packages/sklearn/ensemble/_forest.py:756: UserWarning: class_weight presets \"balanced\" or \"balanced_subsample\" are not recommended for warm_start if the fitted data differs from the full dataset. In order to use \"balanced\" weights, use compute_class_weight (\"balanced\", classes, y). In place of y you can use a large enough sample of the full training set target to properly estimate the class frequency distributions. Pass the resulting weights as the class_weight parameter.\n",
            "  'class_weight presets \"balanced\" or '\n"
          ]
        },
        {
          "output_type": "stream",
          "name": "stdout",
          "text": [
            "[CV 5/5] END bootstrap=True, class_weight=balanced, criterion=gini, max_depth=5, max_features=log2, warm_start=True;, score=0.350 total time=   0.2s\n",
            "[CV 1/5] END bootstrap=True, class_weight=balanced, criterion=entropy, max_depth=2, max_features=auto, warm_start=False;, score=0.450 total time=   0.2s\n",
            "[CV 2/5] END bootstrap=True, class_weight=balanced, criterion=entropy, max_depth=2, max_features=auto, warm_start=False;, score=0.400 total time=   0.2s\n",
            "[CV 3/5] END bootstrap=True, class_weight=balanced, criterion=entropy, max_depth=2, max_features=auto, warm_start=False;, score=0.450 total time=   0.2s\n",
            "[CV 4/5] END bootstrap=True, class_weight=balanced, criterion=entropy, max_depth=2, max_features=auto, warm_start=False;, score=0.400 total time=   0.2s\n",
            "[CV 5/5] END bootstrap=True, class_weight=balanced, criterion=entropy, max_depth=2, max_features=auto, warm_start=False;, score=0.300 total time=   0.2s\n"
          ]
        },
        {
          "output_type": "stream",
          "name": "stderr",
          "text": [
            "/usr/local/lib/python3.7/dist-packages/sklearn/ensemble/_forest.py:756: UserWarning: class_weight presets \"balanced\" or \"balanced_subsample\" are not recommended for warm_start if the fitted data differs from the full dataset. In order to use \"balanced\" weights, use compute_class_weight (\"balanced\", classes, y). In place of y you can use a large enough sample of the full training set target to properly estimate the class frequency distributions. Pass the resulting weights as the class_weight parameter.\n",
            "  'class_weight presets \"balanced\" or '\n",
            "/usr/local/lib/python3.7/dist-packages/sklearn/ensemble/_forest.py:756: UserWarning: class_weight presets \"balanced\" or \"balanced_subsample\" are not recommended for warm_start if the fitted data differs from the full dataset. In order to use \"balanced\" weights, use compute_class_weight (\"balanced\", classes, y). In place of y you can use a large enough sample of the full training set target to properly estimate the class frequency distributions. Pass the resulting weights as the class_weight parameter.\n",
            "  'class_weight presets \"balanced\" or '\n"
          ]
        },
        {
          "output_type": "stream",
          "name": "stdout",
          "text": [
            "[CV 1/5] END bootstrap=True, class_weight=balanced, criterion=entropy, max_depth=2, max_features=auto, warm_start=True;, score=0.450 total time=   0.2s\n",
            "[CV 2/5] END bootstrap=True, class_weight=balanced, criterion=entropy, max_depth=2, max_features=auto, warm_start=True;, score=0.450 total time=   0.2s\n"
          ]
        },
        {
          "output_type": "stream",
          "name": "stderr",
          "text": [
            "/usr/local/lib/python3.7/dist-packages/sklearn/ensemble/_forest.py:756: UserWarning: class_weight presets \"balanced\" or \"balanced_subsample\" are not recommended for warm_start if the fitted data differs from the full dataset. In order to use \"balanced\" weights, use compute_class_weight (\"balanced\", classes, y). In place of y you can use a large enough sample of the full training set target to properly estimate the class frequency distributions. Pass the resulting weights as the class_weight parameter.\n",
            "  'class_weight presets \"balanced\" or '\n",
            "/usr/local/lib/python3.7/dist-packages/sklearn/ensemble/_forest.py:756: UserWarning: class_weight presets \"balanced\" or \"balanced_subsample\" are not recommended for warm_start if the fitted data differs from the full dataset. In order to use \"balanced\" weights, use compute_class_weight (\"balanced\", classes, y). In place of y you can use a large enough sample of the full training set target to properly estimate the class frequency distributions. Pass the resulting weights as the class_weight parameter.\n",
            "  'class_weight presets \"balanced\" or '\n"
          ]
        },
        {
          "output_type": "stream",
          "name": "stdout",
          "text": [
            "[CV 3/5] END bootstrap=True, class_weight=balanced, criterion=entropy, max_depth=2, max_features=auto, warm_start=True;, score=0.350 total time=   0.2s\n",
            "[CV 4/5] END bootstrap=True, class_weight=balanced, criterion=entropy, max_depth=2, max_features=auto, warm_start=True;, score=0.500 total time=   0.2s\n"
          ]
        },
        {
          "output_type": "stream",
          "name": "stderr",
          "text": [
            "/usr/local/lib/python3.7/dist-packages/sklearn/ensemble/_forest.py:756: UserWarning: class_weight presets \"balanced\" or \"balanced_subsample\" are not recommended for warm_start if the fitted data differs from the full dataset. In order to use \"balanced\" weights, use compute_class_weight (\"balanced\", classes, y). In place of y you can use a large enough sample of the full training set target to properly estimate the class frequency distributions. Pass the resulting weights as the class_weight parameter.\n",
            "  'class_weight presets \"balanced\" or '\n"
          ]
        },
        {
          "output_type": "stream",
          "name": "stdout",
          "text": [
            "[CV 5/5] END bootstrap=True, class_weight=balanced, criterion=entropy, max_depth=2, max_features=auto, warm_start=True;, score=0.250 total time=   0.2s\n",
            "[CV 1/5] END bootstrap=True, class_weight=balanced, criterion=entropy, max_depth=2, max_features=sqrt, warm_start=False;, score=0.450 total time=   0.2s\n",
            "[CV 2/5] END bootstrap=True, class_weight=balanced, criterion=entropy, max_depth=2, max_features=sqrt, warm_start=False;, score=0.550 total time=   0.2s\n",
            "[CV 3/5] END bootstrap=True, class_weight=balanced, criterion=entropy, max_depth=2, max_features=sqrt, warm_start=False;, score=0.350 total time=   0.2s\n",
            "[CV 4/5] END bootstrap=True, class_weight=balanced, criterion=entropy, max_depth=2, max_features=sqrt, warm_start=False;, score=0.550 total time=   0.2s\n",
            "[CV 5/5] END bootstrap=True, class_weight=balanced, criterion=entropy, max_depth=2, max_features=sqrt, warm_start=False;, score=0.350 total time=   0.2s\n"
          ]
        },
        {
          "output_type": "stream",
          "name": "stderr",
          "text": [
            "/usr/local/lib/python3.7/dist-packages/sklearn/ensemble/_forest.py:756: UserWarning: class_weight presets \"balanced\" or \"balanced_subsample\" are not recommended for warm_start if the fitted data differs from the full dataset. In order to use \"balanced\" weights, use compute_class_weight (\"balanced\", classes, y). In place of y you can use a large enough sample of the full training set target to properly estimate the class frequency distributions. Pass the resulting weights as the class_weight parameter.\n",
            "  'class_weight presets \"balanced\" or '\n",
            "/usr/local/lib/python3.7/dist-packages/sklearn/ensemble/_forest.py:756: UserWarning: class_weight presets \"balanced\" or \"balanced_subsample\" are not recommended for warm_start if the fitted data differs from the full dataset. In order to use \"balanced\" weights, use compute_class_weight (\"balanced\", classes, y). In place of y you can use a large enough sample of the full training set target to properly estimate the class frequency distributions. Pass the resulting weights as the class_weight parameter.\n",
            "  'class_weight presets \"balanced\" or '\n"
          ]
        },
        {
          "output_type": "stream",
          "name": "stdout",
          "text": [
            "[CV 1/5] END bootstrap=True, class_weight=balanced, criterion=entropy, max_depth=2, max_features=sqrt, warm_start=True;, score=0.400 total time=   0.2s\n",
            "[CV 2/5] END bootstrap=True, class_weight=balanced, criterion=entropy, max_depth=2, max_features=sqrt, warm_start=True;, score=0.550 total time=   0.2s\n"
          ]
        },
        {
          "output_type": "stream",
          "name": "stderr",
          "text": [
            "/usr/local/lib/python3.7/dist-packages/sklearn/ensemble/_forest.py:756: UserWarning: class_weight presets \"balanced\" or \"balanced_subsample\" are not recommended for warm_start if the fitted data differs from the full dataset. In order to use \"balanced\" weights, use compute_class_weight (\"balanced\", classes, y). In place of y you can use a large enough sample of the full training set target to properly estimate the class frequency distributions. Pass the resulting weights as the class_weight parameter.\n",
            "  'class_weight presets \"balanced\" or '\n",
            "/usr/local/lib/python3.7/dist-packages/sklearn/ensemble/_forest.py:756: UserWarning: class_weight presets \"balanced\" or \"balanced_subsample\" are not recommended for warm_start if the fitted data differs from the full dataset. In order to use \"balanced\" weights, use compute_class_weight (\"balanced\", classes, y). In place of y you can use a large enough sample of the full training set target to properly estimate the class frequency distributions. Pass the resulting weights as the class_weight parameter.\n",
            "  'class_weight presets \"balanced\" or '\n"
          ]
        },
        {
          "output_type": "stream",
          "name": "stdout",
          "text": [
            "[CV 3/5] END bootstrap=True, class_weight=balanced, criterion=entropy, max_depth=2, max_features=sqrt, warm_start=True;, score=0.450 total time=   0.2s\n",
            "[CV 4/5] END bootstrap=True, class_weight=balanced, criterion=entropy, max_depth=2, max_features=sqrt, warm_start=True;, score=0.450 total time=   0.2s\n"
          ]
        },
        {
          "output_type": "stream",
          "name": "stderr",
          "text": [
            "/usr/local/lib/python3.7/dist-packages/sklearn/ensemble/_forest.py:756: UserWarning: class_weight presets \"balanced\" or \"balanced_subsample\" are not recommended for warm_start if the fitted data differs from the full dataset. In order to use \"balanced\" weights, use compute_class_weight (\"balanced\", classes, y). In place of y you can use a large enough sample of the full training set target to properly estimate the class frequency distributions. Pass the resulting weights as the class_weight parameter.\n",
            "  'class_weight presets \"balanced\" or '\n"
          ]
        },
        {
          "output_type": "stream",
          "name": "stdout",
          "text": [
            "[CV 5/5] END bootstrap=True, class_weight=balanced, criterion=entropy, max_depth=2, max_features=sqrt, warm_start=True;, score=0.300 total time=   0.2s\n",
            "[CV 1/5] END bootstrap=True, class_weight=balanced, criterion=entropy, max_depth=2, max_features=log2, warm_start=False;, score=0.450 total time=   0.2s\n",
            "[CV 2/5] END bootstrap=True, class_weight=balanced, criterion=entropy, max_depth=2, max_features=log2, warm_start=False;, score=0.400 total time=   0.2s\n",
            "[CV 3/5] END bootstrap=True, class_weight=balanced, criterion=entropy, max_depth=2, max_features=log2, warm_start=False;, score=0.350 total time=   0.2s\n",
            "[CV 4/5] END bootstrap=True, class_weight=balanced, criterion=entropy, max_depth=2, max_features=log2, warm_start=False;, score=0.450 total time=   0.2s\n",
            "[CV 5/5] END bootstrap=True, class_weight=balanced, criterion=entropy, max_depth=2, max_features=log2, warm_start=False;, score=0.300 total time=   0.2s\n"
          ]
        },
        {
          "output_type": "stream",
          "name": "stderr",
          "text": [
            "/usr/local/lib/python3.7/dist-packages/sklearn/ensemble/_forest.py:756: UserWarning: class_weight presets \"balanced\" or \"balanced_subsample\" are not recommended for warm_start if the fitted data differs from the full dataset. In order to use \"balanced\" weights, use compute_class_weight (\"balanced\", classes, y). In place of y you can use a large enough sample of the full training set target to properly estimate the class frequency distributions. Pass the resulting weights as the class_weight parameter.\n",
            "  'class_weight presets \"balanced\" or '\n",
            "/usr/local/lib/python3.7/dist-packages/sklearn/ensemble/_forest.py:756: UserWarning: class_weight presets \"balanced\" or \"balanced_subsample\" are not recommended for warm_start if the fitted data differs from the full dataset. In order to use \"balanced\" weights, use compute_class_weight (\"balanced\", classes, y). In place of y you can use a large enough sample of the full training set target to properly estimate the class frequency distributions. Pass the resulting weights as the class_weight parameter.\n",
            "  'class_weight presets \"balanced\" or '\n"
          ]
        },
        {
          "output_type": "stream",
          "name": "stdout",
          "text": [
            "[CV 1/5] END bootstrap=True, class_weight=balanced, criterion=entropy, max_depth=2, max_features=log2, warm_start=True;, score=0.350 total time=   0.2s\n",
            "[CV 2/5] END bootstrap=True, class_weight=balanced, criterion=entropy, max_depth=2, max_features=log2, warm_start=True;, score=0.550 total time=   0.2s\n"
          ]
        },
        {
          "output_type": "stream",
          "name": "stderr",
          "text": [
            "/usr/local/lib/python3.7/dist-packages/sklearn/ensemble/_forest.py:756: UserWarning: class_weight presets \"balanced\" or \"balanced_subsample\" are not recommended for warm_start if the fitted data differs from the full dataset. In order to use \"balanced\" weights, use compute_class_weight (\"balanced\", classes, y). In place of y you can use a large enough sample of the full training set target to properly estimate the class frequency distributions. Pass the resulting weights as the class_weight parameter.\n",
            "  'class_weight presets \"balanced\" or '\n",
            "/usr/local/lib/python3.7/dist-packages/sklearn/ensemble/_forest.py:756: UserWarning: class_weight presets \"balanced\" or \"balanced_subsample\" are not recommended for warm_start if the fitted data differs from the full dataset. In order to use \"balanced\" weights, use compute_class_weight (\"balanced\", classes, y). In place of y you can use a large enough sample of the full training set target to properly estimate the class frequency distributions. Pass the resulting weights as the class_weight parameter.\n",
            "  'class_weight presets \"balanced\" or '\n"
          ]
        },
        {
          "output_type": "stream",
          "name": "stdout",
          "text": [
            "[CV 3/5] END bootstrap=True, class_weight=balanced, criterion=entropy, max_depth=2, max_features=log2, warm_start=True;, score=0.350 total time=   0.2s\n",
            "[CV 4/5] END bootstrap=True, class_weight=balanced, criterion=entropy, max_depth=2, max_features=log2, warm_start=True;, score=0.450 total time=   0.2s\n"
          ]
        },
        {
          "output_type": "stream",
          "name": "stderr",
          "text": [
            "/usr/local/lib/python3.7/dist-packages/sklearn/ensemble/_forest.py:756: UserWarning: class_weight presets \"balanced\" or \"balanced_subsample\" are not recommended for warm_start if the fitted data differs from the full dataset. In order to use \"balanced\" weights, use compute_class_weight (\"balanced\", classes, y). In place of y you can use a large enough sample of the full training set target to properly estimate the class frequency distributions. Pass the resulting weights as the class_weight parameter.\n",
            "  'class_weight presets \"balanced\" or '\n"
          ]
        },
        {
          "output_type": "stream",
          "name": "stdout",
          "text": [
            "[CV 5/5] END bootstrap=True, class_weight=balanced, criterion=entropy, max_depth=2, max_features=log2, warm_start=True;, score=0.400 total time=   0.2s\n",
            "[CV 1/5] END bootstrap=True, class_weight=balanced, criterion=entropy, max_depth=3, max_features=auto, warm_start=False;, score=0.450 total time=   0.2s\n",
            "[CV 2/5] END bootstrap=True, class_weight=balanced, criterion=entropy, max_depth=3, max_features=auto, warm_start=False;, score=0.450 total time=   0.2s\n",
            "[CV 3/5] END bootstrap=True, class_weight=balanced, criterion=entropy, max_depth=3, max_features=auto, warm_start=False;, score=0.400 total time=   0.2s\n",
            "[CV 4/5] END bootstrap=True, class_weight=balanced, criterion=entropy, max_depth=3, max_features=auto, warm_start=False;, score=0.450 total time=   0.2s\n",
            "[CV 5/5] END bootstrap=True, class_weight=balanced, criterion=entropy, max_depth=3, max_features=auto, warm_start=False;, score=0.350 total time=   0.2s\n"
          ]
        },
        {
          "output_type": "stream",
          "name": "stderr",
          "text": [
            "/usr/local/lib/python3.7/dist-packages/sklearn/ensemble/_forest.py:756: UserWarning: class_weight presets \"balanced\" or \"balanced_subsample\" are not recommended for warm_start if the fitted data differs from the full dataset. In order to use \"balanced\" weights, use compute_class_weight (\"balanced\", classes, y). In place of y you can use a large enough sample of the full training set target to properly estimate the class frequency distributions. Pass the resulting weights as the class_weight parameter.\n",
            "  'class_weight presets \"balanced\" or '\n",
            "/usr/local/lib/python3.7/dist-packages/sklearn/ensemble/_forest.py:756: UserWarning: class_weight presets \"balanced\" or \"balanced_subsample\" are not recommended for warm_start if the fitted data differs from the full dataset. In order to use \"balanced\" weights, use compute_class_weight (\"balanced\", classes, y). In place of y you can use a large enough sample of the full training set target to properly estimate the class frequency distributions. Pass the resulting weights as the class_weight parameter.\n",
            "  'class_weight presets \"balanced\" or '\n"
          ]
        },
        {
          "output_type": "stream",
          "name": "stdout",
          "text": [
            "[CV 1/5] END bootstrap=True, class_weight=balanced, criterion=entropy, max_depth=3, max_features=auto, warm_start=True;, score=0.450 total time=   0.2s\n",
            "[CV 2/5] END bootstrap=True, class_weight=balanced, criterion=entropy, max_depth=3, max_features=auto, warm_start=True;, score=0.500 total time=   0.2s\n"
          ]
        },
        {
          "output_type": "stream",
          "name": "stderr",
          "text": [
            "/usr/local/lib/python3.7/dist-packages/sklearn/ensemble/_forest.py:756: UserWarning: class_weight presets \"balanced\" or \"balanced_subsample\" are not recommended for warm_start if the fitted data differs from the full dataset. In order to use \"balanced\" weights, use compute_class_weight (\"balanced\", classes, y). In place of y you can use a large enough sample of the full training set target to properly estimate the class frequency distributions. Pass the resulting weights as the class_weight parameter.\n",
            "  'class_weight presets \"balanced\" or '\n",
            "/usr/local/lib/python3.7/dist-packages/sklearn/ensemble/_forest.py:756: UserWarning: class_weight presets \"balanced\" or \"balanced_subsample\" are not recommended for warm_start if the fitted data differs from the full dataset. In order to use \"balanced\" weights, use compute_class_weight (\"balanced\", classes, y). In place of y you can use a large enough sample of the full training set target to properly estimate the class frequency distributions. Pass the resulting weights as the class_weight parameter.\n",
            "  'class_weight presets \"balanced\" or '\n"
          ]
        },
        {
          "output_type": "stream",
          "name": "stdout",
          "text": [
            "[CV 3/5] END bootstrap=True, class_weight=balanced, criterion=entropy, max_depth=3, max_features=auto, warm_start=True;, score=0.400 total time=   0.2s\n",
            "[CV 4/5] END bootstrap=True, class_weight=balanced, criterion=entropy, max_depth=3, max_features=auto, warm_start=True;, score=0.450 total time=   0.2s\n"
          ]
        },
        {
          "output_type": "stream",
          "name": "stderr",
          "text": [
            "/usr/local/lib/python3.7/dist-packages/sklearn/ensemble/_forest.py:756: UserWarning: class_weight presets \"balanced\" or \"balanced_subsample\" are not recommended for warm_start if the fitted data differs from the full dataset. In order to use \"balanced\" weights, use compute_class_weight (\"balanced\", classes, y). In place of y you can use a large enough sample of the full training set target to properly estimate the class frequency distributions. Pass the resulting weights as the class_weight parameter.\n",
            "  'class_weight presets \"balanced\" or '\n"
          ]
        },
        {
          "output_type": "stream",
          "name": "stdout",
          "text": [
            "[CV 5/5] END bootstrap=True, class_weight=balanced, criterion=entropy, max_depth=3, max_features=auto, warm_start=True;, score=0.400 total time=   0.2s\n",
            "[CV 1/5] END bootstrap=True, class_weight=balanced, criterion=entropy, max_depth=3, max_features=sqrt, warm_start=False;, score=0.400 total time=   0.2s\n",
            "[CV 2/5] END bootstrap=True, class_weight=balanced, criterion=entropy, max_depth=3, max_features=sqrt, warm_start=False;, score=0.500 total time=   0.2s\n",
            "[CV 3/5] END bootstrap=True, class_weight=balanced, criterion=entropy, max_depth=3, max_features=sqrt, warm_start=False;, score=0.400 total time=   0.2s\n",
            "[CV 4/5] END bootstrap=True, class_weight=balanced, criterion=entropy, max_depth=3, max_features=sqrt, warm_start=False;, score=0.350 total time=   0.2s\n",
            "[CV 5/5] END bootstrap=True, class_weight=balanced, criterion=entropy, max_depth=3, max_features=sqrt, warm_start=False;, score=0.300 total time=   0.2s\n"
          ]
        },
        {
          "output_type": "stream",
          "name": "stderr",
          "text": [
            "/usr/local/lib/python3.7/dist-packages/sklearn/ensemble/_forest.py:756: UserWarning: class_weight presets \"balanced\" or \"balanced_subsample\" are not recommended for warm_start if the fitted data differs from the full dataset. In order to use \"balanced\" weights, use compute_class_weight (\"balanced\", classes, y). In place of y you can use a large enough sample of the full training set target to properly estimate the class frequency distributions. Pass the resulting weights as the class_weight parameter.\n",
            "  'class_weight presets \"balanced\" or '\n",
            "/usr/local/lib/python3.7/dist-packages/sklearn/ensemble/_forest.py:756: UserWarning: class_weight presets \"balanced\" or \"balanced_subsample\" are not recommended for warm_start if the fitted data differs from the full dataset. In order to use \"balanced\" weights, use compute_class_weight (\"balanced\", classes, y). In place of y you can use a large enough sample of the full training set target to properly estimate the class frequency distributions. Pass the resulting weights as the class_weight parameter.\n",
            "  'class_weight presets \"balanced\" or '\n"
          ]
        },
        {
          "output_type": "stream",
          "name": "stdout",
          "text": [
            "[CV 1/5] END bootstrap=True, class_weight=balanced, criterion=entropy, max_depth=3, max_features=sqrt, warm_start=True;, score=0.450 total time=   0.2s\n",
            "[CV 2/5] END bootstrap=True, class_weight=balanced, criterion=entropy, max_depth=3, max_features=sqrt, warm_start=True;, score=0.650 total time=   0.2s\n"
          ]
        },
        {
          "output_type": "stream",
          "name": "stderr",
          "text": [
            "/usr/local/lib/python3.7/dist-packages/sklearn/ensemble/_forest.py:756: UserWarning: class_weight presets \"balanced\" or \"balanced_subsample\" are not recommended for warm_start if the fitted data differs from the full dataset. In order to use \"balanced\" weights, use compute_class_weight (\"balanced\", classes, y). In place of y you can use a large enough sample of the full training set target to properly estimate the class frequency distributions. Pass the resulting weights as the class_weight parameter.\n",
            "  'class_weight presets \"balanced\" or '\n",
            "/usr/local/lib/python3.7/dist-packages/sklearn/ensemble/_forest.py:756: UserWarning: class_weight presets \"balanced\" or \"balanced_subsample\" are not recommended for warm_start if the fitted data differs from the full dataset. In order to use \"balanced\" weights, use compute_class_weight (\"balanced\", classes, y). In place of y you can use a large enough sample of the full training set target to properly estimate the class frequency distributions. Pass the resulting weights as the class_weight parameter.\n",
            "  'class_weight presets \"balanced\" or '\n"
          ]
        },
        {
          "output_type": "stream",
          "name": "stdout",
          "text": [
            "[CV 3/5] END bootstrap=True, class_weight=balanced, criterion=entropy, max_depth=3, max_features=sqrt, warm_start=True;, score=0.350 total time=   0.2s\n",
            "[CV 4/5] END bootstrap=True, class_weight=balanced, criterion=entropy, max_depth=3, max_features=sqrt, warm_start=True;, score=0.450 total time=   0.2s\n"
          ]
        },
        {
          "output_type": "stream",
          "name": "stderr",
          "text": [
            "/usr/local/lib/python3.7/dist-packages/sklearn/ensemble/_forest.py:756: UserWarning: class_weight presets \"balanced\" or \"balanced_subsample\" are not recommended for warm_start if the fitted data differs from the full dataset. In order to use \"balanced\" weights, use compute_class_weight (\"balanced\", classes, y). In place of y you can use a large enough sample of the full training set target to properly estimate the class frequency distributions. Pass the resulting weights as the class_weight parameter.\n",
            "  'class_weight presets \"balanced\" or '\n"
          ]
        },
        {
          "output_type": "stream",
          "name": "stdout",
          "text": [
            "[CV 5/5] END bootstrap=True, class_weight=balanced, criterion=entropy, max_depth=3, max_features=sqrt, warm_start=True;, score=0.400 total time=   0.2s\n",
            "[CV 1/5] END bootstrap=True, class_weight=balanced, criterion=entropy, max_depth=3, max_features=log2, warm_start=False;, score=0.500 total time=   0.2s\n",
            "[CV 2/5] END bootstrap=True, class_weight=balanced, criterion=entropy, max_depth=3, max_features=log2, warm_start=False;, score=0.300 total time=   0.2s\n",
            "[CV 3/5] END bootstrap=True, class_weight=balanced, criterion=entropy, max_depth=3, max_features=log2, warm_start=False;, score=0.400 total time=   0.2s\n",
            "[CV 4/5] END bootstrap=True, class_weight=balanced, criterion=entropy, max_depth=3, max_features=log2, warm_start=False;, score=0.450 total time=   0.2s\n",
            "[CV 5/5] END bootstrap=True, class_weight=balanced, criterion=entropy, max_depth=3, max_features=log2, warm_start=False;, score=0.350 total time=   0.2s\n"
          ]
        },
        {
          "output_type": "stream",
          "name": "stderr",
          "text": [
            "/usr/local/lib/python3.7/dist-packages/sklearn/ensemble/_forest.py:756: UserWarning: class_weight presets \"balanced\" or \"balanced_subsample\" are not recommended for warm_start if the fitted data differs from the full dataset. In order to use \"balanced\" weights, use compute_class_weight (\"balanced\", classes, y). In place of y you can use a large enough sample of the full training set target to properly estimate the class frequency distributions. Pass the resulting weights as the class_weight parameter.\n",
            "  'class_weight presets \"balanced\" or '\n",
            "/usr/local/lib/python3.7/dist-packages/sklearn/ensemble/_forest.py:756: UserWarning: class_weight presets \"balanced\" or \"balanced_subsample\" are not recommended for warm_start if the fitted data differs from the full dataset. In order to use \"balanced\" weights, use compute_class_weight (\"balanced\", classes, y). In place of y you can use a large enough sample of the full training set target to properly estimate the class frequency distributions. Pass the resulting weights as the class_weight parameter.\n",
            "  'class_weight presets \"balanced\" or '\n"
          ]
        },
        {
          "output_type": "stream",
          "name": "stdout",
          "text": [
            "[CV 1/5] END bootstrap=True, class_weight=balanced, criterion=entropy, max_depth=3, max_features=log2, warm_start=True;, score=0.450 total time=   0.2s\n",
            "[CV 2/5] END bootstrap=True, class_weight=balanced, criterion=entropy, max_depth=3, max_features=log2, warm_start=True;, score=0.500 total time=   0.2s\n"
          ]
        },
        {
          "output_type": "stream",
          "name": "stderr",
          "text": [
            "/usr/local/lib/python3.7/dist-packages/sklearn/ensemble/_forest.py:756: UserWarning: class_weight presets \"balanced\" or \"balanced_subsample\" are not recommended for warm_start if the fitted data differs from the full dataset. In order to use \"balanced\" weights, use compute_class_weight (\"balanced\", classes, y). In place of y you can use a large enough sample of the full training set target to properly estimate the class frequency distributions. Pass the resulting weights as the class_weight parameter.\n",
            "  'class_weight presets \"balanced\" or '\n",
            "/usr/local/lib/python3.7/dist-packages/sklearn/ensemble/_forest.py:756: UserWarning: class_weight presets \"balanced\" or \"balanced_subsample\" are not recommended for warm_start if the fitted data differs from the full dataset. In order to use \"balanced\" weights, use compute_class_weight (\"balanced\", classes, y). In place of y you can use a large enough sample of the full training set target to properly estimate the class frequency distributions. Pass the resulting weights as the class_weight parameter.\n",
            "  'class_weight presets \"balanced\" or '\n"
          ]
        },
        {
          "output_type": "stream",
          "name": "stdout",
          "text": [
            "[CV 3/5] END bootstrap=True, class_weight=balanced, criterion=entropy, max_depth=3, max_features=log2, warm_start=True;, score=0.400 total time=   0.2s\n",
            "[CV 4/5] END bootstrap=True, class_weight=balanced, criterion=entropy, max_depth=3, max_features=log2, warm_start=True;, score=0.600 total time=   0.2s\n"
          ]
        },
        {
          "output_type": "stream",
          "name": "stderr",
          "text": [
            "/usr/local/lib/python3.7/dist-packages/sklearn/ensemble/_forest.py:756: UserWarning: class_weight presets \"balanced\" or \"balanced_subsample\" are not recommended for warm_start if the fitted data differs from the full dataset. In order to use \"balanced\" weights, use compute_class_weight (\"balanced\", classes, y). In place of y you can use a large enough sample of the full training set target to properly estimate the class frequency distributions. Pass the resulting weights as the class_weight parameter.\n",
            "  'class_weight presets \"balanced\" or '\n"
          ]
        },
        {
          "output_type": "stream",
          "name": "stdout",
          "text": [
            "[CV 5/5] END bootstrap=True, class_weight=balanced, criterion=entropy, max_depth=3, max_features=log2, warm_start=True;, score=0.400 total time=   0.2s\n",
            "[CV 1/5] END bootstrap=True, class_weight=balanced, criterion=entropy, max_depth=5, max_features=auto, warm_start=False;, score=0.450 total time=   0.2s\n",
            "[CV 2/5] END bootstrap=True, class_weight=balanced, criterion=entropy, max_depth=5, max_features=auto, warm_start=False;, score=0.600 total time=   0.2s\n",
            "[CV 3/5] END bootstrap=True, class_weight=balanced, criterion=entropy, max_depth=5, max_features=auto, warm_start=False;, score=0.350 total time=   0.2s\n",
            "[CV 4/5] END bootstrap=True, class_weight=balanced, criterion=entropy, max_depth=5, max_features=auto, warm_start=False;, score=0.450 total time=   0.2s\n",
            "[CV 5/5] END bootstrap=True, class_weight=balanced, criterion=entropy, max_depth=5, max_features=auto, warm_start=False;, score=0.350 total time=   0.2s\n"
          ]
        },
        {
          "output_type": "stream",
          "name": "stderr",
          "text": [
            "/usr/local/lib/python3.7/dist-packages/sklearn/ensemble/_forest.py:756: UserWarning: class_weight presets \"balanced\" or \"balanced_subsample\" are not recommended for warm_start if the fitted data differs from the full dataset. In order to use \"balanced\" weights, use compute_class_weight (\"balanced\", classes, y). In place of y you can use a large enough sample of the full training set target to properly estimate the class frequency distributions. Pass the resulting weights as the class_weight parameter.\n",
            "  'class_weight presets \"balanced\" or '\n",
            "/usr/local/lib/python3.7/dist-packages/sklearn/ensemble/_forest.py:756: UserWarning: class_weight presets \"balanced\" or \"balanced_subsample\" are not recommended for warm_start if the fitted data differs from the full dataset. In order to use \"balanced\" weights, use compute_class_weight (\"balanced\", classes, y). In place of y you can use a large enough sample of the full training set target to properly estimate the class frequency distributions. Pass the resulting weights as the class_weight parameter.\n",
            "  'class_weight presets \"balanced\" or '\n"
          ]
        },
        {
          "output_type": "stream",
          "name": "stdout",
          "text": [
            "[CV 1/5] END bootstrap=True, class_weight=balanced, criterion=entropy, max_depth=5, max_features=auto, warm_start=True;, score=0.400 total time=   0.2s\n",
            "[CV 2/5] END bootstrap=True, class_weight=balanced, criterion=entropy, max_depth=5, max_features=auto, warm_start=True;, score=0.500 total time=   0.2s\n"
          ]
        },
        {
          "output_type": "stream",
          "name": "stderr",
          "text": [
            "/usr/local/lib/python3.7/dist-packages/sklearn/ensemble/_forest.py:756: UserWarning: class_weight presets \"balanced\" or \"balanced_subsample\" are not recommended for warm_start if the fitted data differs from the full dataset. In order to use \"balanced\" weights, use compute_class_weight (\"balanced\", classes, y). In place of y you can use a large enough sample of the full training set target to properly estimate the class frequency distributions. Pass the resulting weights as the class_weight parameter.\n",
            "  'class_weight presets \"balanced\" or '\n",
            "/usr/local/lib/python3.7/dist-packages/sklearn/ensemble/_forest.py:756: UserWarning: class_weight presets \"balanced\" or \"balanced_subsample\" are not recommended for warm_start if the fitted data differs from the full dataset. In order to use \"balanced\" weights, use compute_class_weight (\"balanced\", classes, y). In place of y you can use a large enough sample of the full training set target to properly estimate the class frequency distributions. Pass the resulting weights as the class_weight parameter.\n",
            "  'class_weight presets \"balanced\" or '\n"
          ]
        },
        {
          "output_type": "stream",
          "name": "stdout",
          "text": [
            "[CV 3/5] END bootstrap=True, class_weight=balanced, criterion=entropy, max_depth=5, max_features=auto, warm_start=True;, score=0.400 total time=   0.2s\n",
            "[CV 4/5] END bootstrap=True, class_weight=balanced, criterion=entropy, max_depth=5, max_features=auto, warm_start=True;, score=0.350 total time=   0.2s\n"
          ]
        },
        {
          "output_type": "stream",
          "name": "stderr",
          "text": [
            "/usr/local/lib/python3.7/dist-packages/sklearn/ensemble/_forest.py:756: UserWarning: class_weight presets \"balanced\" or \"balanced_subsample\" are not recommended for warm_start if the fitted data differs from the full dataset. In order to use \"balanced\" weights, use compute_class_weight (\"balanced\", classes, y). In place of y you can use a large enough sample of the full training set target to properly estimate the class frequency distributions. Pass the resulting weights as the class_weight parameter.\n",
            "  'class_weight presets \"balanced\" or '\n"
          ]
        },
        {
          "output_type": "stream",
          "name": "stdout",
          "text": [
            "[CV 5/5] END bootstrap=True, class_weight=balanced, criterion=entropy, max_depth=5, max_features=auto, warm_start=True;, score=0.300 total time=   0.2s\n",
            "[CV 1/5] END bootstrap=True, class_weight=balanced, criterion=entropy, max_depth=5, max_features=sqrt, warm_start=False;, score=0.450 total time=   0.2s\n",
            "[CV 2/5] END bootstrap=True, class_weight=balanced, criterion=entropy, max_depth=5, max_features=sqrt, warm_start=False;, score=0.500 total time=   0.2s\n",
            "[CV 3/5] END bootstrap=True, class_weight=balanced, criterion=entropy, max_depth=5, max_features=sqrt, warm_start=False;, score=0.400 total time=   0.2s\n",
            "[CV 4/5] END bootstrap=True, class_weight=balanced, criterion=entropy, max_depth=5, max_features=sqrt, warm_start=False;, score=0.450 total time=   0.2s\n",
            "[CV 5/5] END bootstrap=True, class_weight=balanced, criterion=entropy, max_depth=5, max_features=sqrt, warm_start=False;, score=0.350 total time=   0.2s\n"
          ]
        },
        {
          "output_type": "stream",
          "name": "stderr",
          "text": [
            "/usr/local/lib/python3.7/dist-packages/sklearn/ensemble/_forest.py:756: UserWarning: class_weight presets \"balanced\" or \"balanced_subsample\" are not recommended for warm_start if the fitted data differs from the full dataset. In order to use \"balanced\" weights, use compute_class_weight (\"balanced\", classes, y). In place of y you can use a large enough sample of the full training set target to properly estimate the class frequency distributions. Pass the resulting weights as the class_weight parameter.\n",
            "  'class_weight presets \"balanced\" or '\n",
            "/usr/local/lib/python3.7/dist-packages/sklearn/ensemble/_forest.py:756: UserWarning: class_weight presets \"balanced\" or \"balanced_subsample\" are not recommended for warm_start if the fitted data differs from the full dataset. In order to use \"balanced\" weights, use compute_class_weight (\"balanced\", classes, y). In place of y you can use a large enough sample of the full training set target to properly estimate the class frequency distributions. Pass the resulting weights as the class_weight parameter.\n",
            "  'class_weight presets \"balanced\" or '\n"
          ]
        },
        {
          "output_type": "stream",
          "name": "stdout",
          "text": [
            "[CV 1/5] END bootstrap=True, class_weight=balanced, criterion=entropy, max_depth=5, max_features=sqrt, warm_start=True;, score=0.400 total time=   0.2s\n",
            "[CV 2/5] END bootstrap=True, class_weight=balanced, criterion=entropy, max_depth=5, max_features=sqrt, warm_start=True;, score=0.350 total time=   0.2s\n"
          ]
        },
        {
          "output_type": "stream",
          "name": "stderr",
          "text": [
            "/usr/local/lib/python3.7/dist-packages/sklearn/ensemble/_forest.py:756: UserWarning: class_weight presets \"balanced\" or \"balanced_subsample\" are not recommended for warm_start if the fitted data differs from the full dataset. In order to use \"balanced\" weights, use compute_class_weight (\"balanced\", classes, y). In place of y you can use a large enough sample of the full training set target to properly estimate the class frequency distributions. Pass the resulting weights as the class_weight parameter.\n",
            "  'class_weight presets \"balanced\" or '\n",
            "/usr/local/lib/python3.7/dist-packages/sklearn/ensemble/_forest.py:756: UserWarning: class_weight presets \"balanced\" or \"balanced_subsample\" are not recommended for warm_start if the fitted data differs from the full dataset. In order to use \"balanced\" weights, use compute_class_weight (\"balanced\", classes, y). In place of y you can use a large enough sample of the full training set target to properly estimate the class frequency distributions. Pass the resulting weights as the class_weight parameter.\n",
            "  'class_weight presets \"balanced\" or '\n"
          ]
        },
        {
          "output_type": "stream",
          "name": "stdout",
          "text": [
            "[CV 3/5] END bootstrap=True, class_weight=balanced, criterion=entropy, max_depth=5, max_features=sqrt, warm_start=True;, score=0.450 total time=   0.2s\n",
            "[CV 4/5] END bootstrap=True, class_weight=balanced, criterion=entropy, max_depth=5, max_features=sqrt, warm_start=True;, score=0.450 total time=   0.2s\n"
          ]
        },
        {
          "output_type": "stream",
          "name": "stderr",
          "text": [
            "/usr/local/lib/python3.7/dist-packages/sklearn/ensemble/_forest.py:756: UserWarning: class_weight presets \"balanced\" or \"balanced_subsample\" are not recommended for warm_start if the fitted data differs from the full dataset. In order to use \"balanced\" weights, use compute_class_weight (\"balanced\", classes, y). In place of y you can use a large enough sample of the full training set target to properly estimate the class frequency distributions. Pass the resulting weights as the class_weight parameter.\n",
            "  'class_weight presets \"balanced\" or '\n"
          ]
        },
        {
          "output_type": "stream",
          "name": "stdout",
          "text": [
            "[CV 5/5] END bootstrap=True, class_weight=balanced, criterion=entropy, max_depth=5, max_features=sqrt, warm_start=True;, score=0.300 total time=   0.2s\n",
            "[CV 1/5] END bootstrap=True, class_weight=balanced, criterion=entropy, max_depth=5, max_features=log2, warm_start=False;, score=0.400 total time=   0.2s\n",
            "[CV 2/5] END bootstrap=True, class_weight=balanced, criterion=entropy, max_depth=5, max_features=log2, warm_start=False;, score=0.500 total time=   0.2s\n",
            "[CV 3/5] END bootstrap=True, class_weight=balanced, criterion=entropy, max_depth=5, max_features=log2, warm_start=False;, score=0.450 total time=   0.2s\n",
            "[CV 4/5] END bootstrap=True, class_weight=balanced, criterion=entropy, max_depth=5, max_features=log2, warm_start=False;, score=0.400 total time=   0.2s\n",
            "[CV 5/5] END bootstrap=True, class_weight=balanced, criterion=entropy, max_depth=5, max_features=log2, warm_start=False;, score=0.400 total time=   0.2s\n"
          ]
        },
        {
          "output_type": "stream",
          "name": "stderr",
          "text": [
            "/usr/local/lib/python3.7/dist-packages/sklearn/ensemble/_forest.py:756: UserWarning: class_weight presets \"balanced\" or \"balanced_subsample\" are not recommended for warm_start if the fitted data differs from the full dataset. In order to use \"balanced\" weights, use compute_class_weight (\"balanced\", classes, y). In place of y you can use a large enough sample of the full training set target to properly estimate the class frequency distributions. Pass the resulting weights as the class_weight parameter.\n",
            "  'class_weight presets \"balanced\" or '\n",
            "/usr/local/lib/python3.7/dist-packages/sklearn/ensemble/_forest.py:756: UserWarning: class_weight presets \"balanced\" or \"balanced_subsample\" are not recommended for warm_start if the fitted data differs from the full dataset. In order to use \"balanced\" weights, use compute_class_weight (\"balanced\", classes, y). In place of y you can use a large enough sample of the full training set target to properly estimate the class frequency distributions. Pass the resulting weights as the class_weight parameter.\n",
            "  'class_weight presets \"balanced\" or '\n"
          ]
        },
        {
          "output_type": "stream",
          "name": "stdout",
          "text": [
            "[CV 1/5] END bootstrap=True, class_weight=balanced, criterion=entropy, max_depth=5, max_features=log2, warm_start=True;, score=0.550 total time=   0.2s\n",
            "[CV 2/5] END bootstrap=True, class_weight=balanced, criterion=entropy, max_depth=5, max_features=log2, warm_start=True;, score=0.200 total time=   0.2s\n"
          ]
        },
        {
          "output_type": "stream",
          "name": "stderr",
          "text": [
            "/usr/local/lib/python3.7/dist-packages/sklearn/ensemble/_forest.py:756: UserWarning: class_weight presets \"balanced\" or \"balanced_subsample\" are not recommended for warm_start if the fitted data differs from the full dataset. In order to use \"balanced\" weights, use compute_class_weight (\"balanced\", classes, y). In place of y you can use a large enough sample of the full training set target to properly estimate the class frequency distributions. Pass the resulting weights as the class_weight parameter.\n",
            "  'class_weight presets \"balanced\" or '\n",
            "/usr/local/lib/python3.7/dist-packages/sklearn/ensemble/_forest.py:756: UserWarning: class_weight presets \"balanced\" or \"balanced_subsample\" are not recommended for warm_start if the fitted data differs from the full dataset. In order to use \"balanced\" weights, use compute_class_weight (\"balanced\", classes, y). In place of y you can use a large enough sample of the full training set target to properly estimate the class frequency distributions. Pass the resulting weights as the class_weight parameter.\n",
            "  'class_weight presets \"balanced\" or '\n"
          ]
        },
        {
          "output_type": "stream",
          "name": "stdout",
          "text": [
            "[CV 3/5] END bootstrap=True, class_weight=balanced, criterion=entropy, max_depth=5, max_features=log2, warm_start=True;, score=0.500 total time=   0.2s\n",
            "[CV 4/5] END bootstrap=True, class_weight=balanced, criterion=entropy, max_depth=5, max_features=log2, warm_start=True;, score=0.400 total time=   0.2s\n"
          ]
        },
        {
          "output_type": "stream",
          "name": "stderr",
          "text": [
            "/usr/local/lib/python3.7/dist-packages/sklearn/ensemble/_forest.py:756: UserWarning: class_weight presets \"balanced\" or \"balanced_subsample\" are not recommended for warm_start if the fitted data differs from the full dataset. In order to use \"balanced\" weights, use compute_class_weight (\"balanced\", classes, y). In place of y you can use a large enough sample of the full training set target to properly estimate the class frequency distributions. Pass the resulting weights as the class_weight parameter.\n",
            "  'class_weight presets \"balanced\" or '\n"
          ]
        },
        {
          "output_type": "stream",
          "name": "stdout",
          "text": [
            "[CV 5/5] END bootstrap=True, class_weight=balanced, criterion=entropy, max_depth=5, max_features=log2, warm_start=True;, score=0.350 total time=   0.2s\n",
            "[CV 1/5] END bootstrap=True, class_weight=balanced_subsample, criterion=gini, max_depth=2, max_features=auto, warm_start=False;, score=0.350 total time=   0.2s\n",
            "[CV 2/5] END bootstrap=True, class_weight=balanced_subsample, criterion=gini, max_depth=2, max_features=auto, warm_start=False;, score=0.450 total time=   0.2s\n",
            "[CV 3/5] END bootstrap=True, class_weight=balanced_subsample, criterion=gini, max_depth=2, max_features=auto, warm_start=False;, score=0.300 total time=   0.2s\n",
            "[CV 4/5] END bootstrap=True, class_weight=balanced_subsample, criterion=gini, max_depth=2, max_features=auto, warm_start=False;, score=0.450 total time=   0.2s\n",
            "[CV 5/5] END bootstrap=True, class_weight=balanced_subsample, criterion=gini, max_depth=2, max_features=auto, warm_start=False;, score=0.400 total time=   0.2s\n"
          ]
        },
        {
          "output_type": "stream",
          "name": "stderr",
          "text": [
            "/usr/local/lib/python3.7/dist-packages/sklearn/ensemble/_forest.py:756: UserWarning: class_weight presets \"balanced\" or \"balanced_subsample\" are not recommended for warm_start if the fitted data differs from the full dataset. In order to use \"balanced\" weights, use compute_class_weight (\"balanced\", classes, y). In place of y you can use a large enough sample of the full training set target to properly estimate the class frequency distributions. Pass the resulting weights as the class_weight parameter.\n",
            "  'class_weight presets \"balanced\" or '\n",
            "/usr/local/lib/python3.7/dist-packages/sklearn/ensemble/_forest.py:756: UserWarning: class_weight presets \"balanced\" or \"balanced_subsample\" are not recommended for warm_start if the fitted data differs from the full dataset. In order to use \"balanced\" weights, use compute_class_weight (\"balanced\", classes, y). In place of y you can use a large enough sample of the full training set target to properly estimate the class frequency distributions. Pass the resulting weights as the class_weight parameter.\n",
            "  'class_weight presets \"balanced\" or '\n"
          ]
        },
        {
          "output_type": "stream",
          "name": "stdout",
          "text": [
            "[CV 1/5] END bootstrap=True, class_weight=balanced_subsample, criterion=gini, max_depth=2, max_features=auto, warm_start=True;, score=0.450 total time=   0.2s\n",
            "[CV 2/5] END bootstrap=True, class_weight=balanced_subsample, criterion=gini, max_depth=2, max_features=auto, warm_start=True;, score=0.500 total time=   0.2s\n"
          ]
        },
        {
          "output_type": "stream",
          "name": "stderr",
          "text": [
            "/usr/local/lib/python3.7/dist-packages/sklearn/ensemble/_forest.py:756: UserWarning: class_weight presets \"balanced\" or \"balanced_subsample\" are not recommended for warm_start if the fitted data differs from the full dataset. In order to use \"balanced\" weights, use compute_class_weight (\"balanced\", classes, y). In place of y you can use a large enough sample of the full training set target to properly estimate the class frequency distributions. Pass the resulting weights as the class_weight parameter.\n",
            "  'class_weight presets \"balanced\" or '\n",
            "/usr/local/lib/python3.7/dist-packages/sklearn/ensemble/_forest.py:756: UserWarning: class_weight presets \"balanced\" or \"balanced_subsample\" are not recommended for warm_start if the fitted data differs from the full dataset. In order to use \"balanced\" weights, use compute_class_weight (\"balanced\", classes, y). In place of y you can use a large enough sample of the full training set target to properly estimate the class frequency distributions. Pass the resulting weights as the class_weight parameter.\n",
            "  'class_weight presets \"balanced\" or '\n"
          ]
        },
        {
          "output_type": "stream",
          "name": "stdout",
          "text": [
            "[CV 3/5] END bootstrap=True, class_weight=balanced_subsample, criterion=gini, max_depth=2, max_features=auto, warm_start=True;, score=0.400 total time=   0.2s\n",
            "[CV 4/5] END bootstrap=True, class_weight=balanced_subsample, criterion=gini, max_depth=2, max_features=auto, warm_start=True;, score=0.300 total time=   0.2s\n"
          ]
        },
        {
          "output_type": "stream",
          "name": "stderr",
          "text": [
            "/usr/local/lib/python3.7/dist-packages/sklearn/ensemble/_forest.py:756: UserWarning: class_weight presets \"balanced\" or \"balanced_subsample\" are not recommended for warm_start if the fitted data differs from the full dataset. In order to use \"balanced\" weights, use compute_class_weight (\"balanced\", classes, y). In place of y you can use a large enough sample of the full training set target to properly estimate the class frequency distributions. Pass the resulting weights as the class_weight parameter.\n",
            "  'class_weight presets \"balanced\" or '\n"
          ]
        },
        {
          "output_type": "stream",
          "name": "stdout",
          "text": [
            "[CV 5/5] END bootstrap=True, class_weight=balanced_subsample, criterion=gini, max_depth=2, max_features=auto, warm_start=True;, score=0.350 total time=   0.2s\n",
            "[CV 1/5] END bootstrap=True, class_weight=balanced_subsample, criterion=gini, max_depth=2, max_features=sqrt, warm_start=False;, score=0.350 total time=   0.2s\n",
            "[CV 2/5] END bootstrap=True, class_weight=balanced_subsample, criterion=gini, max_depth=2, max_features=sqrt, warm_start=False;, score=0.500 total time=   0.2s\n",
            "[CV 3/5] END bootstrap=True, class_weight=balanced_subsample, criterion=gini, max_depth=2, max_features=sqrt, warm_start=False;, score=0.400 total time=   0.2s\n",
            "[CV 4/5] END bootstrap=True, class_weight=balanced_subsample, criterion=gini, max_depth=2, max_features=sqrt, warm_start=False;, score=0.400 total time=   0.2s\n",
            "[CV 5/5] END bootstrap=True, class_weight=balanced_subsample, criterion=gini, max_depth=2, max_features=sqrt, warm_start=False;, score=0.350 total time=   0.2s\n"
          ]
        },
        {
          "output_type": "stream",
          "name": "stderr",
          "text": [
            "/usr/local/lib/python3.7/dist-packages/sklearn/ensemble/_forest.py:756: UserWarning: class_weight presets \"balanced\" or \"balanced_subsample\" are not recommended for warm_start if the fitted data differs from the full dataset. In order to use \"balanced\" weights, use compute_class_weight (\"balanced\", classes, y). In place of y you can use a large enough sample of the full training set target to properly estimate the class frequency distributions. Pass the resulting weights as the class_weight parameter.\n",
            "  'class_weight presets \"balanced\" or '\n",
            "/usr/local/lib/python3.7/dist-packages/sklearn/ensemble/_forest.py:756: UserWarning: class_weight presets \"balanced\" or \"balanced_subsample\" are not recommended for warm_start if the fitted data differs from the full dataset. In order to use \"balanced\" weights, use compute_class_weight (\"balanced\", classes, y). In place of y you can use a large enough sample of the full training set target to properly estimate the class frequency distributions. Pass the resulting weights as the class_weight parameter.\n",
            "  'class_weight presets \"balanced\" or '\n"
          ]
        },
        {
          "output_type": "stream",
          "name": "stdout",
          "text": [
            "[CV 1/5] END bootstrap=True, class_weight=balanced_subsample, criterion=gini, max_depth=2, max_features=sqrt, warm_start=True;, score=0.350 total time=   0.2s\n",
            "[CV 2/5] END bootstrap=True, class_weight=balanced_subsample, criterion=gini, max_depth=2, max_features=sqrt, warm_start=True;, score=0.500 total time=   0.2s\n"
          ]
        },
        {
          "output_type": "stream",
          "name": "stderr",
          "text": [
            "/usr/local/lib/python3.7/dist-packages/sklearn/ensemble/_forest.py:756: UserWarning: class_weight presets \"balanced\" or \"balanced_subsample\" are not recommended for warm_start if the fitted data differs from the full dataset. In order to use \"balanced\" weights, use compute_class_weight (\"balanced\", classes, y). In place of y you can use a large enough sample of the full training set target to properly estimate the class frequency distributions. Pass the resulting weights as the class_weight parameter.\n",
            "  'class_weight presets \"balanced\" or '\n",
            "/usr/local/lib/python3.7/dist-packages/sklearn/ensemble/_forest.py:756: UserWarning: class_weight presets \"balanced\" or \"balanced_subsample\" are not recommended for warm_start if the fitted data differs from the full dataset. In order to use \"balanced\" weights, use compute_class_weight (\"balanced\", classes, y). In place of y you can use a large enough sample of the full training set target to properly estimate the class frequency distributions. Pass the resulting weights as the class_weight parameter.\n",
            "  'class_weight presets \"balanced\" or '\n"
          ]
        },
        {
          "output_type": "stream",
          "name": "stdout",
          "text": [
            "[CV 3/5] END bootstrap=True, class_weight=balanced_subsample, criterion=gini, max_depth=2, max_features=sqrt, warm_start=True;, score=0.300 total time=   0.2s\n",
            "[CV 4/5] END bootstrap=True, class_weight=balanced_subsample, criterion=gini, max_depth=2, max_features=sqrt, warm_start=True;, score=0.450 total time=   0.2s\n"
          ]
        },
        {
          "output_type": "stream",
          "name": "stderr",
          "text": [
            "/usr/local/lib/python3.7/dist-packages/sklearn/ensemble/_forest.py:756: UserWarning: class_weight presets \"balanced\" or \"balanced_subsample\" are not recommended for warm_start if the fitted data differs from the full dataset. In order to use \"balanced\" weights, use compute_class_weight (\"balanced\", classes, y). In place of y you can use a large enough sample of the full training set target to properly estimate the class frequency distributions. Pass the resulting weights as the class_weight parameter.\n",
            "  'class_weight presets \"balanced\" or '\n"
          ]
        },
        {
          "output_type": "stream",
          "name": "stdout",
          "text": [
            "[CV 5/5] END bootstrap=True, class_weight=balanced_subsample, criterion=gini, max_depth=2, max_features=sqrt, warm_start=True;, score=0.350 total time=   0.2s\n",
            "[CV 1/5] END bootstrap=True, class_weight=balanced_subsample, criterion=gini, max_depth=2, max_features=log2, warm_start=False;, score=0.500 total time=   0.2s\n",
            "[CV 2/5] END bootstrap=True, class_weight=balanced_subsample, criterion=gini, max_depth=2, max_features=log2, warm_start=False;, score=0.450 total time=   0.2s\n",
            "[CV 3/5] END bootstrap=True, class_weight=balanced_subsample, criterion=gini, max_depth=2, max_features=log2, warm_start=False;, score=0.350 total time=   0.2s\n",
            "[CV 4/5] END bootstrap=True, class_weight=balanced_subsample, criterion=gini, max_depth=2, max_features=log2, warm_start=False;, score=0.350 total time=   0.2s\n",
            "[CV 5/5] END bootstrap=True, class_weight=balanced_subsample, criterion=gini, max_depth=2, max_features=log2, warm_start=False;, score=0.400 total time=   0.2s\n"
          ]
        },
        {
          "output_type": "stream",
          "name": "stderr",
          "text": [
            "/usr/local/lib/python3.7/dist-packages/sklearn/ensemble/_forest.py:756: UserWarning: class_weight presets \"balanced\" or \"balanced_subsample\" are not recommended for warm_start if the fitted data differs from the full dataset. In order to use \"balanced\" weights, use compute_class_weight (\"balanced\", classes, y). In place of y you can use a large enough sample of the full training set target to properly estimate the class frequency distributions. Pass the resulting weights as the class_weight parameter.\n",
            "  'class_weight presets \"balanced\" or '\n",
            "/usr/local/lib/python3.7/dist-packages/sklearn/ensemble/_forest.py:756: UserWarning: class_weight presets \"balanced\" or \"balanced_subsample\" are not recommended for warm_start if the fitted data differs from the full dataset. In order to use \"balanced\" weights, use compute_class_weight (\"balanced\", classes, y). In place of y you can use a large enough sample of the full training set target to properly estimate the class frequency distributions. Pass the resulting weights as the class_weight parameter.\n",
            "  'class_weight presets \"balanced\" or '\n"
          ]
        },
        {
          "output_type": "stream",
          "name": "stdout",
          "text": [
            "[CV 1/5] END bootstrap=True, class_weight=balanced_subsample, criterion=gini, max_depth=2, max_features=log2, warm_start=True;, score=0.400 total time=   0.2s\n",
            "[CV 2/5] END bootstrap=True, class_weight=balanced_subsample, criterion=gini, max_depth=2, max_features=log2, warm_start=True;, score=0.400 total time=   0.2s\n"
          ]
        },
        {
          "output_type": "stream",
          "name": "stderr",
          "text": [
            "/usr/local/lib/python3.7/dist-packages/sklearn/ensemble/_forest.py:756: UserWarning: class_weight presets \"balanced\" or \"balanced_subsample\" are not recommended for warm_start if the fitted data differs from the full dataset. In order to use \"balanced\" weights, use compute_class_weight (\"balanced\", classes, y). In place of y you can use a large enough sample of the full training set target to properly estimate the class frequency distributions. Pass the resulting weights as the class_weight parameter.\n",
            "  'class_weight presets \"balanced\" or '\n",
            "/usr/local/lib/python3.7/dist-packages/sklearn/ensemble/_forest.py:756: UserWarning: class_weight presets \"balanced\" or \"balanced_subsample\" are not recommended for warm_start if the fitted data differs from the full dataset. In order to use \"balanced\" weights, use compute_class_weight (\"balanced\", classes, y). In place of y you can use a large enough sample of the full training set target to properly estimate the class frequency distributions. Pass the resulting weights as the class_weight parameter.\n",
            "  'class_weight presets \"balanced\" or '\n"
          ]
        },
        {
          "output_type": "stream",
          "name": "stdout",
          "text": [
            "[CV 3/5] END bootstrap=True, class_weight=balanced_subsample, criterion=gini, max_depth=2, max_features=log2, warm_start=True;, score=0.350 total time=   0.2s\n",
            "[CV 4/5] END bootstrap=True, class_weight=balanced_subsample, criterion=gini, max_depth=2, max_features=log2, warm_start=True;, score=0.350 total time=   0.2s\n"
          ]
        },
        {
          "output_type": "stream",
          "name": "stderr",
          "text": [
            "/usr/local/lib/python3.7/dist-packages/sklearn/ensemble/_forest.py:756: UserWarning: class_weight presets \"balanced\" or \"balanced_subsample\" are not recommended for warm_start if the fitted data differs from the full dataset. In order to use \"balanced\" weights, use compute_class_weight (\"balanced\", classes, y). In place of y you can use a large enough sample of the full training set target to properly estimate the class frequency distributions. Pass the resulting weights as the class_weight parameter.\n",
            "  'class_weight presets \"balanced\" or '\n"
          ]
        },
        {
          "output_type": "stream",
          "name": "stdout",
          "text": [
            "[CV 5/5] END bootstrap=True, class_weight=balanced_subsample, criterion=gini, max_depth=2, max_features=log2, warm_start=True;, score=0.250 total time=   0.2s\n",
            "[CV 1/5] END bootstrap=True, class_weight=balanced_subsample, criterion=gini, max_depth=3, max_features=auto, warm_start=False;, score=0.400 total time=   0.2s\n",
            "[CV 2/5] END bootstrap=True, class_weight=balanced_subsample, criterion=gini, max_depth=3, max_features=auto, warm_start=False;, score=0.500 total time=   0.2s\n",
            "[CV 3/5] END bootstrap=True, class_weight=balanced_subsample, criterion=gini, max_depth=3, max_features=auto, warm_start=False;, score=0.350 total time=   0.2s\n",
            "[CV 4/5] END bootstrap=True, class_weight=balanced_subsample, criterion=gini, max_depth=3, max_features=auto, warm_start=False;, score=0.400 total time=   0.2s\n",
            "[CV 5/5] END bootstrap=True, class_weight=balanced_subsample, criterion=gini, max_depth=3, max_features=auto, warm_start=False;, score=0.350 total time=   0.2s\n"
          ]
        },
        {
          "output_type": "stream",
          "name": "stderr",
          "text": [
            "/usr/local/lib/python3.7/dist-packages/sklearn/ensemble/_forest.py:756: UserWarning: class_weight presets \"balanced\" or \"balanced_subsample\" are not recommended for warm_start if the fitted data differs from the full dataset. In order to use \"balanced\" weights, use compute_class_weight (\"balanced\", classes, y). In place of y you can use a large enough sample of the full training set target to properly estimate the class frequency distributions. Pass the resulting weights as the class_weight parameter.\n",
            "  'class_weight presets \"balanced\" or '\n",
            "/usr/local/lib/python3.7/dist-packages/sklearn/ensemble/_forest.py:756: UserWarning: class_weight presets \"balanced\" or \"balanced_subsample\" are not recommended for warm_start if the fitted data differs from the full dataset. In order to use \"balanced\" weights, use compute_class_weight (\"balanced\", classes, y). In place of y you can use a large enough sample of the full training set target to properly estimate the class frequency distributions. Pass the resulting weights as the class_weight parameter.\n",
            "  'class_weight presets \"balanced\" or '\n"
          ]
        },
        {
          "output_type": "stream",
          "name": "stdout",
          "text": [
            "[CV 1/5] END bootstrap=True, class_weight=balanced_subsample, criterion=gini, max_depth=3, max_features=auto, warm_start=True;, score=0.450 total time=   0.2s\n",
            "[CV 2/5] END bootstrap=True, class_weight=balanced_subsample, criterion=gini, max_depth=3, max_features=auto, warm_start=True;, score=0.500 total time=   0.2s\n"
          ]
        },
        {
          "output_type": "stream",
          "name": "stderr",
          "text": [
            "/usr/local/lib/python3.7/dist-packages/sklearn/ensemble/_forest.py:756: UserWarning: class_weight presets \"balanced\" or \"balanced_subsample\" are not recommended for warm_start if the fitted data differs from the full dataset. In order to use \"balanced\" weights, use compute_class_weight (\"balanced\", classes, y). In place of y you can use a large enough sample of the full training set target to properly estimate the class frequency distributions. Pass the resulting weights as the class_weight parameter.\n",
            "  'class_weight presets \"balanced\" or '\n",
            "/usr/local/lib/python3.7/dist-packages/sklearn/ensemble/_forest.py:756: UserWarning: class_weight presets \"balanced\" or \"balanced_subsample\" are not recommended for warm_start if the fitted data differs from the full dataset. In order to use \"balanced\" weights, use compute_class_weight (\"balanced\", classes, y). In place of y you can use a large enough sample of the full training set target to properly estimate the class frequency distributions. Pass the resulting weights as the class_weight parameter.\n",
            "  'class_weight presets \"balanced\" or '\n"
          ]
        },
        {
          "output_type": "stream",
          "name": "stdout",
          "text": [
            "[CV 3/5] END bootstrap=True, class_weight=balanced_subsample, criterion=gini, max_depth=3, max_features=auto, warm_start=True;, score=0.350 total time=   0.2s\n",
            "[CV 4/5] END bootstrap=True, class_weight=balanced_subsample, criterion=gini, max_depth=3, max_features=auto, warm_start=True;, score=0.500 total time=   0.2s\n"
          ]
        },
        {
          "output_type": "stream",
          "name": "stderr",
          "text": [
            "/usr/local/lib/python3.7/dist-packages/sklearn/ensemble/_forest.py:756: UserWarning: class_weight presets \"balanced\" or \"balanced_subsample\" are not recommended for warm_start if the fitted data differs from the full dataset. In order to use \"balanced\" weights, use compute_class_weight (\"balanced\", classes, y). In place of y you can use a large enough sample of the full training set target to properly estimate the class frequency distributions. Pass the resulting weights as the class_weight parameter.\n",
            "  'class_weight presets \"balanced\" or '\n"
          ]
        },
        {
          "output_type": "stream",
          "name": "stdout",
          "text": [
            "[CV 5/5] END bootstrap=True, class_weight=balanced_subsample, criterion=gini, max_depth=3, max_features=auto, warm_start=True;, score=0.400 total time=   0.2s\n",
            "[CV 1/5] END bootstrap=True, class_weight=balanced_subsample, criterion=gini, max_depth=3, max_features=sqrt, warm_start=False;, score=0.450 total time=   0.2s\n",
            "[CV 2/5] END bootstrap=True, class_weight=balanced_subsample, criterion=gini, max_depth=3, max_features=sqrt, warm_start=False;, score=0.400 total time=   0.2s\n",
            "[CV 3/5] END bootstrap=True, class_weight=balanced_subsample, criterion=gini, max_depth=3, max_features=sqrt, warm_start=False;, score=0.450 total time=   0.2s\n",
            "[CV 4/5] END bootstrap=True, class_weight=balanced_subsample, criterion=gini, max_depth=3, max_features=sqrt, warm_start=False;, score=0.450 total time=   0.2s\n",
            "[CV 5/5] END bootstrap=True, class_weight=balanced_subsample, criterion=gini, max_depth=3, max_features=sqrt, warm_start=False;, score=0.350 total time=   0.2s\n"
          ]
        },
        {
          "output_type": "stream",
          "name": "stderr",
          "text": [
            "/usr/local/lib/python3.7/dist-packages/sklearn/ensemble/_forest.py:756: UserWarning: class_weight presets \"balanced\" or \"balanced_subsample\" are not recommended for warm_start if the fitted data differs from the full dataset. In order to use \"balanced\" weights, use compute_class_weight (\"balanced\", classes, y). In place of y you can use a large enough sample of the full training set target to properly estimate the class frequency distributions. Pass the resulting weights as the class_weight parameter.\n",
            "  'class_weight presets \"balanced\" or '\n",
            "/usr/local/lib/python3.7/dist-packages/sklearn/ensemble/_forest.py:756: UserWarning: class_weight presets \"balanced\" or \"balanced_subsample\" are not recommended for warm_start if the fitted data differs from the full dataset. In order to use \"balanced\" weights, use compute_class_weight (\"balanced\", classes, y). In place of y you can use a large enough sample of the full training set target to properly estimate the class frequency distributions. Pass the resulting weights as the class_weight parameter.\n",
            "  'class_weight presets \"balanced\" or '\n"
          ]
        },
        {
          "output_type": "stream",
          "name": "stdout",
          "text": [
            "[CV 1/5] END bootstrap=True, class_weight=balanced_subsample, criterion=gini, max_depth=3, max_features=sqrt, warm_start=True;, score=0.500 total time=   0.2s\n",
            "[CV 2/5] END bootstrap=True, class_weight=balanced_subsample, criterion=gini, max_depth=3, max_features=sqrt, warm_start=True;, score=0.500 total time=   0.2s\n"
          ]
        },
        {
          "output_type": "stream",
          "name": "stderr",
          "text": [
            "/usr/local/lib/python3.7/dist-packages/sklearn/ensemble/_forest.py:756: UserWarning: class_weight presets \"balanced\" or \"balanced_subsample\" are not recommended for warm_start if the fitted data differs from the full dataset. In order to use \"balanced\" weights, use compute_class_weight (\"balanced\", classes, y). In place of y you can use a large enough sample of the full training set target to properly estimate the class frequency distributions. Pass the resulting weights as the class_weight parameter.\n",
            "  'class_weight presets \"balanced\" or '\n",
            "/usr/local/lib/python3.7/dist-packages/sklearn/ensemble/_forest.py:756: UserWarning: class_weight presets \"balanced\" or \"balanced_subsample\" are not recommended for warm_start if the fitted data differs from the full dataset. In order to use \"balanced\" weights, use compute_class_weight (\"balanced\", classes, y). In place of y you can use a large enough sample of the full training set target to properly estimate the class frequency distributions. Pass the resulting weights as the class_weight parameter.\n",
            "  'class_weight presets \"balanced\" or '\n"
          ]
        },
        {
          "output_type": "stream",
          "name": "stdout",
          "text": [
            "[CV 3/5] END bootstrap=True, class_weight=balanced_subsample, criterion=gini, max_depth=3, max_features=sqrt, warm_start=True;, score=0.300 total time=   0.2s\n",
            "[CV 4/5] END bootstrap=True, class_weight=balanced_subsample, criterion=gini, max_depth=3, max_features=sqrt, warm_start=True;, score=0.300 total time=   0.2s\n"
          ]
        },
        {
          "output_type": "stream",
          "name": "stderr",
          "text": [
            "/usr/local/lib/python3.7/dist-packages/sklearn/ensemble/_forest.py:756: UserWarning: class_weight presets \"balanced\" or \"balanced_subsample\" are not recommended for warm_start if the fitted data differs from the full dataset. In order to use \"balanced\" weights, use compute_class_weight (\"balanced\", classes, y). In place of y you can use a large enough sample of the full training set target to properly estimate the class frequency distributions. Pass the resulting weights as the class_weight parameter.\n",
            "  'class_weight presets \"balanced\" or '\n"
          ]
        },
        {
          "output_type": "stream",
          "name": "stdout",
          "text": [
            "[CV 5/5] END bootstrap=True, class_weight=balanced_subsample, criterion=gini, max_depth=3, max_features=sqrt, warm_start=True;, score=0.400 total time=   0.2s\n",
            "[CV 1/5] END bootstrap=True, class_weight=balanced_subsample, criterion=gini, max_depth=3, max_features=log2, warm_start=False;, score=0.350 total time=   0.2s\n",
            "[CV 2/5] END bootstrap=True, class_weight=balanced_subsample, criterion=gini, max_depth=3, max_features=log2, warm_start=False;, score=0.400 total time=   0.2s\n",
            "[CV 3/5] END bootstrap=True, class_weight=balanced_subsample, criterion=gini, max_depth=3, max_features=log2, warm_start=False;, score=0.400 total time=   0.2s\n",
            "[CV 4/5] END bootstrap=True, class_weight=balanced_subsample, criterion=gini, max_depth=3, max_features=log2, warm_start=False;, score=0.400 total time=   0.2s\n",
            "[CV 5/5] END bootstrap=True, class_weight=balanced_subsample, criterion=gini, max_depth=3, max_features=log2, warm_start=False;, score=0.400 total time=   0.2s\n"
          ]
        },
        {
          "output_type": "stream",
          "name": "stderr",
          "text": [
            "/usr/local/lib/python3.7/dist-packages/sklearn/ensemble/_forest.py:756: UserWarning: class_weight presets \"balanced\" or \"balanced_subsample\" are not recommended for warm_start if the fitted data differs from the full dataset. In order to use \"balanced\" weights, use compute_class_weight (\"balanced\", classes, y). In place of y you can use a large enough sample of the full training set target to properly estimate the class frequency distributions. Pass the resulting weights as the class_weight parameter.\n",
            "  'class_weight presets \"balanced\" or '\n",
            "/usr/local/lib/python3.7/dist-packages/sklearn/ensemble/_forest.py:756: UserWarning: class_weight presets \"balanced\" or \"balanced_subsample\" are not recommended for warm_start if the fitted data differs from the full dataset. In order to use \"balanced\" weights, use compute_class_weight (\"balanced\", classes, y). In place of y you can use a large enough sample of the full training set target to properly estimate the class frequency distributions. Pass the resulting weights as the class_weight parameter.\n",
            "  'class_weight presets \"balanced\" or '\n"
          ]
        },
        {
          "output_type": "stream",
          "name": "stdout",
          "text": [
            "[CV 1/5] END bootstrap=True, class_weight=balanced_subsample, criterion=gini, max_depth=3, max_features=log2, warm_start=True;, score=0.400 total time=   0.2s\n",
            "[CV 2/5] END bootstrap=True, class_weight=balanced_subsample, criterion=gini, max_depth=3, max_features=log2, warm_start=True;, score=0.400 total time=   0.2s\n"
          ]
        },
        {
          "output_type": "stream",
          "name": "stderr",
          "text": [
            "/usr/local/lib/python3.7/dist-packages/sklearn/ensemble/_forest.py:756: UserWarning: class_weight presets \"balanced\" or \"balanced_subsample\" are not recommended for warm_start if the fitted data differs from the full dataset. In order to use \"balanced\" weights, use compute_class_weight (\"balanced\", classes, y). In place of y you can use a large enough sample of the full training set target to properly estimate the class frequency distributions. Pass the resulting weights as the class_weight parameter.\n",
            "  'class_weight presets \"balanced\" or '\n",
            "/usr/local/lib/python3.7/dist-packages/sklearn/ensemble/_forest.py:756: UserWarning: class_weight presets \"balanced\" or \"balanced_subsample\" are not recommended for warm_start if the fitted data differs from the full dataset. In order to use \"balanced\" weights, use compute_class_weight (\"balanced\", classes, y). In place of y you can use a large enough sample of the full training set target to properly estimate the class frequency distributions. Pass the resulting weights as the class_weight parameter.\n",
            "  'class_weight presets \"balanced\" or '\n"
          ]
        },
        {
          "output_type": "stream",
          "name": "stdout",
          "text": [
            "[CV 3/5] END bootstrap=True, class_weight=balanced_subsample, criterion=gini, max_depth=3, max_features=log2, warm_start=True;, score=0.450 total time=   0.2s\n",
            "[CV 4/5] END bootstrap=True, class_weight=balanced_subsample, criterion=gini, max_depth=3, max_features=log2, warm_start=True;, score=0.300 total time=   0.2s\n"
          ]
        },
        {
          "output_type": "stream",
          "name": "stderr",
          "text": [
            "/usr/local/lib/python3.7/dist-packages/sklearn/ensemble/_forest.py:756: UserWarning: class_weight presets \"balanced\" or \"balanced_subsample\" are not recommended for warm_start if the fitted data differs from the full dataset. In order to use \"balanced\" weights, use compute_class_weight (\"balanced\", classes, y). In place of y you can use a large enough sample of the full training set target to properly estimate the class frequency distributions. Pass the resulting weights as the class_weight parameter.\n",
            "  'class_weight presets \"balanced\" or '\n"
          ]
        },
        {
          "output_type": "stream",
          "name": "stdout",
          "text": [
            "[CV 5/5] END bootstrap=True, class_weight=balanced_subsample, criterion=gini, max_depth=3, max_features=log2, warm_start=True;, score=0.350 total time=   0.2s\n",
            "[CV 1/5] END bootstrap=True, class_weight=balanced_subsample, criterion=gini, max_depth=5, max_features=auto, warm_start=False;, score=0.450 total time=   0.2s\n",
            "[CV 2/5] END bootstrap=True, class_weight=balanced_subsample, criterion=gini, max_depth=5, max_features=auto, warm_start=False;, score=0.350 total time=   0.2s\n",
            "[CV 3/5] END bootstrap=True, class_weight=balanced_subsample, criterion=gini, max_depth=5, max_features=auto, warm_start=False;, score=0.450 total time=   0.2s\n",
            "[CV 4/5] END bootstrap=True, class_weight=balanced_subsample, criterion=gini, max_depth=5, max_features=auto, warm_start=False;, score=0.450 total time=   0.2s\n",
            "[CV 5/5] END bootstrap=True, class_weight=balanced_subsample, criterion=gini, max_depth=5, max_features=auto, warm_start=False;, score=0.350 total time=   0.2s\n"
          ]
        },
        {
          "output_type": "stream",
          "name": "stderr",
          "text": [
            "/usr/local/lib/python3.7/dist-packages/sklearn/ensemble/_forest.py:756: UserWarning: class_weight presets \"balanced\" or \"balanced_subsample\" are not recommended for warm_start if the fitted data differs from the full dataset. In order to use \"balanced\" weights, use compute_class_weight (\"balanced\", classes, y). In place of y you can use a large enough sample of the full training set target to properly estimate the class frequency distributions. Pass the resulting weights as the class_weight parameter.\n",
            "  'class_weight presets \"balanced\" or '\n",
            "/usr/local/lib/python3.7/dist-packages/sklearn/ensemble/_forest.py:756: UserWarning: class_weight presets \"balanced\" or \"balanced_subsample\" are not recommended for warm_start if the fitted data differs from the full dataset. In order to use \"balanced\" weights, use compute_class_weight (\"balanced\", classes, y). In place of y you can use a large enough sample of the full training set target to properly estimate the class frequency distributions. Pass the resulting weights as the class_weight parameter.\n",
            "  'class_weight presets \"balanced\" or '\n"
          ]
        },
        {
          "output_type": "stream",
          "name": "stdout",
          "text": [
            "[CV 1/5] END bootstrap=True, class_weight=balanced_subsample, criterion=gini, max_depth=5, max_features=auto, warm_start=True;, score=0.400 total time=   0.2s\n",
            "[CV 2/5] END bootstrap=True, class_weight=balanced_subsample, criterion=gini, max_depth=5, max_features=auto, warm_start=True;, score=0.400 total time=   0.2s\n"
          ]
        },
        {
          "output_type": "stream",
          "name": "stderr",
          "text": [
            "/usr/local/lib/python3.7/dist-packages/sklearn/ensemble/_forest.py:756: UserWarning: class_weight presets \"balanced\" or \"balanced_subsample\" are not recommended for warm_start if the fitted data differs from the full dataset. In order to use \"balanced\" weights, use compute_class_weight (\"balanced\", classes, y). In place of y you can use a large enough sample of the full training set target to properly estimate the class frequency distributions. Pass the resulting weights as the class_weight parameter.\n",
            "  'class_weight presets \"balanced\" or '\n",
            "/usr/local/lib/python3.7/dist-packages/sklearn/ensemble/_forest.py:756: UserWarning: class_weight presets \"balanced\" or \"balanced_subsample\" are not recommended for warm_start if the fitted data differs from the full dataset. In order to use \"balanced\" weights, use compute_class_weight (\"balanced\", classes, y). In place of y you can use a large enough sample of the full training set target to properly estimate the class frequency distributions. Pass the resulting weights as the class_weight parameter.\n",
            "  'class_weight presets \"balanced\" or '\n"
          ]
        },
        {
          "output_type": "stream",
          "name": "stdout",
          "text": [
            "[CV 3/5] END bootstrap=True, class_weight=balanced_subsample, criterion=gini, max_depth=5, max_features=auto, warm_start=True;, score=0.300 total time=   0.2s\n",
            "[CV 4/5] END bootstrap=True, class_weight=balanced_subsample, criterion=gini, max_depth=5, max_features=auto, warm_start=True;, score=0.450 total time=   0.2s\n"
          ]
        },
        {
          "output_type": "stream",
          "name": "stderr",
          "text": [
            "/usr/local/lib/python3.7/dist-packages/sklearn/ensemble/_forest.py:756: UserWarning: class_weight presets \"balanced\" or \"balanced_subsample\" are not recommended for warm_start if the fitted data differs from the full dataset. In order to use \"balanced\" weights, use compute_class_weight (\"balanced\", classes, y). In place of y you can use a large enough sample of the full training set target to properly estimate the class frequency distributions. Pass the resulting weights as the class_weight parameter.\n",
            "  'class_weight presets \"balanced\" or '\n"
          ]
        },
        {
          "output_type": "stream",
          "name": "stdout",
          "text": [
            "[CV 5/5] END bootstrap=True, class_weight=balanced_subsample, criterion=gini, max_depth=5, max_features=auto, warm_start=True;, score=0.400 total time=   0.2s\n",
            "[CV 1/5] END bootstrap=True, class_weight=balanced_subsample, criterion=gini, max_depth=5, max_features=sqrt, warm_start=False;, score=0.450 total time=   0.2s\n",
            "[CV 2/5] END bootstrap=True, class_weight=balanced_subsample, criterion=gini, max_depth=5, max_features=sqrt, warm_start=False;, score=0.450 total time=   0.2s\n",
            "[CV 3/5] END bootstrap=True, class_weight=balanced_subsample, criterion=gini, max_depth=5, max_features=sqrt, warm_start=False;, score=0.500 total time=   0.2s\n",
            "[CV 4/5] END bootstrap=True, class_weight=balanced_subsample, criterion=gini, max_depth=5, max_features=sqrt, warm_start=False;, score=0.350 total time=   0.2s\n",
            "[CV 5/5] END bootstrap=True, class_weight=balanced_subsample, criterion=gini, max_depth=5, max_features=sqrt, warm_start=False;, score=0.400 total time=   0.2s\n"
          ]
        },
        {
          "output_type": "stream",
          "name": "stderr",
          "text": [
            "/usr/local/lib/python3.7/dist-packages/sklearn/ensemble/_forest.py:756: UserWarning: class_weight presets \"balanced\" or \"balanced_subsample\" are not recommended for warm_start if the fitted data differs from the full dataset. In order to use \"balanced\" weights, use compute_class_weight (\"balanced\", classes, y). In place of y you can use a large enough sample of the full training set target to properly estimate the class frequency distributions. Pass the resulting weights as the class_weight parameter.\n",
            "  'class_weight presets \"balanced\" or '\n",
            "/usr/local/lib/python3.7/dist-packages/sklearn/ensemble/_forest.py:756: UserWarning: class_weight presets \"balanced\" or \"balanced_subsample\" are not recommended for warm_start if the fitted data differs from the full dataset. In order to use \"balanced\" weights, use compute_class_weight (\"balanced\", classes, y). In place of y you can use a large enough sample of the full training set target to properly estimate the class frequency distributions. Pass the resulting weights as the class_weight parameter.\n",
            "  'class_weight presets \"balanced\" or '\n"
          ]
        },
        {
          "output_type": "stream",
          "name": "stdout",
          "text": [
            "[CV 1/5] END bootstrap=True, class_weight=balanced_subsample, criterion=gini, max_depth=5, max_features=sqrt, warm_start=True;, score=0.400 total time=   0.2s\n",
            "[CV 2/5] END bootstrap=True, class_weight=balanced_subsample, criterion=gini, max_depth=5, max_features=sqrt, warm_start=True;, score=0.450 total time=   0.2s\n"
          ]
        },
        {
          "output_type": "stream",
          "name": "stderr",
          "text": [
            "/usr/local/lib/python3.7/dist-packages/sklearn/ensemble/_forest.py:756: UserWarning: class_weight presets \"balanced\" or \"balanced_subsample\" are not recommended for warm_start if the fitted data differs from the full dataset. In order to use \"balanced\" weights, use compute_class_weight (\"balanced\", classes, y). In place of y you can use a large enough sample of the full training set target to properly estimate the class frequency distributions. Pass the resulting weights as the class_weight parameter.\n",
            "  'class_weight presets \"balanced\" or '\n",
            "/usr/local/lib/python3.7/dist-packages/sklearn/ensemble/_forest.py:756: UserWarning: class_weight presets \"balanced\" or \"balanced_subsample\" are not recommended for warm_start if the fitted data differs from the full dataset. In order to use \"balanced\" weights, use compute_class_weight (\"balanced\", classes, y). In place of y you can use a large enough sample of the full training set target to properly estimate the class frequency distributions. Pass the resulting weights as the class_weight parameter.\n",
            "  'class_weight presets \"balanced\" or '\n"
          ]
        },
        {
          "output_type": "stream",
          "name": "stdout",
          "text": [
            "[CV 3/5] END bootstrap=True, class_weight=balanced_subsample, criterion=gini, max_depth=5, max_features=sqrt, warm_start=True;, score=0.400 total time=   0.2s\n",
            "[CV 4/5] END bootstrap=True, class_weight=balanced_subsample, criterion=gini, max_depth=5, max_features=sqrt, warm_start=True;, score=0.400 total time=   0.2s\n"
          ]
        },
        {
          "output_type": "stream",
          "name": "stderr",
          "text": [
            "/usr/local/lib/python3.7/dist-packages/sklearn/ensemble/_forest.py:756: UserWarning: class_weight presets \"balanced\" or \"balanced_subsample\" are not recommended for warm_start if the fitted data differs from the full dataset. In order to use \"balanced\" weights, use compute_class_weight (\"balanced\", classes, y). In place of y you can use a large enough sample of the full training set target to properly estimate the class frequency distributions. Pass the resulting weights as the class_weight parameter.\n",
            "  'class_weight presets \"balanced\" or '\n"
          ]
        },
        {
          "output_type": "stream",
          "name": "stdout",
          "text": [
            "[CV 5/5] END bootstrap=True, class_weight=balanced_subsample, criterion=gini, max_depth=5, max_features=sqrt, warm_start=True;, score=0.400 total time=   0.2s\n",
            "[CV 1/5] END bootstrap=True, class_weight=balanced_subsample, criterion=gini, max_depth=5, max_features=log2, warm_start=False;, score=0.550 total time=   0.2s\n",
            "[CV 2/5] END bootstrap=True, class_weight=balanced_subsample, criterion=gini, max_depth=5, max_features=log2, warm_start=False;, score=0.450 total time=   0.2s\n",
            "[CV 3/5] END bootstrap=True, class_weight=balanced_subsample, criterion=gini, max_depth=5, max_features=log2, warm_start=False;, score=0.350 total time=   0.2s\n",
            "[CV 4/5] END bootstrap=True, class_weight=balanced_subsample, criterion=gini, max_depth=5, max_features=log2, warm_start=False;, score=0.400 total time=   0.2s\n",
            "[CV 5/5] END bootstrap=True, class_weight=balanced_subsample, criterion=gini, max_depth=5, max_features=log2, warm_start=False;, score=0.500 total time=   0.2s\n"
          ]
        },
        {
          "output_type": "stream",
          "name": "stderr",
          "text": [
            "/usr/local/lib/python3.7/dist-packages/sklearn/ensemble/_forest.py:756: UserWarning: class_weight presets \"balanced\" or \"balanced_subsample\" are not recommended for warm_start if the fitted data differs from the full dataset. In order to use \"balanced\" weights, use compute_class_weight (\"balanced\", classes, y). In place of y you can use a large enough sample of the full training set target to properly estimate the class frequency distributions. Pass the resulting weights as the class_weight parameter.\n",
            "  'class_weight presets \"balanced\" or '\n",
            "/usr/local/lib/python3.7/dist-packages/sklearn/ensemble/_forest.py:756: UserWarning: class_weight presets \"balanced\" or \"balanced_subsample\" are not recommended for warm_start if the fitted data differs from the full dataset. In order to use \"balanced\" weights, use compute_class_weight (\"balanced\", classes, y). In place of y you can use a large enough sample of the full training set target to properly estimate the class frequency distributions. Pass the resulting weights as the class_weight parameter.\n",
            "  'class_weight presets \"balanced\" or '\n"
          ]
        },
        {
          "output_type": "stream",
          "name": "stdout",
          "text": [
            "[CV 1/5] END bootstrap=True, class_weight=balanced_subsample, criterion=gini, max_depth=5, max_features=log2, warm_start=True;, score=0.450 total time=   0.2s\n",
            "[CV 2/5] END bootstrap=True, class_weight=balanced_subsample, criterion=gini, max_depth=5, max_features=log2, warm_start=True;, score=0.550 total time=   0.2s\n"
          ]
        },
        {
          "output_type": "stream",
          "name": "stderr",
          "text": [
            "/usr/local/lib/python3.7/dist-packages/sklearn/ensemble/_forest.py:756: UserWarning: class_weight presets \"balanced\" or \"balanced_subsample\" are not recommended for warm_start if the fitted data differs from the full dataset. In order to use \"balanced\" weights, use compute_class_weight (\"balanced\", classes, y). In place of y you can use a large enough sample of the full training set target to properly estimate the class frequency distributions. Pass the resulting weights as the class_weight parameter.\n",
            "  'class_weight presets \"balanced\" or '\n",
            "/usr/local/lib/python3.7/dist-packages/sklearn/ensemble/_forest.py:756: UserWarning: class_weight presets \"balanced\" or \"balanced_subsample\" are not recommended for warm_start if the fitted data differs from the full dataset. In order to use \"balanced\" weights, use compute_class_weight (\"balanced\", classes, y). In place of y you can use a large enough sample of the full training set target to properly estimate the class frequency distributions. Pass the resulting weights as the class_weight parameter.\n",
            "  'class_weight presets \"balanced\" or '\n"
          ]
        },
        {
          "output_type": "stream",
          "name": "stdout",
          "text": [
            "[CV 3/5] END bootstrap=True, class_weight=balanced_subsample, criterion=gini, max_depth=5, max_features=log2, warm_start=True;, score=0.400 total time=   0.2s\n",
            "[CV 4/5] END bootstrap=True, class_weight=balanced_subsample, criterion=gini, max_depth=5, max_features=log2, warm_start=True;, score=0.500 total time=   0.2s\n"
          ]
        },
        {
          "output_type": "stream",
          "name": "stderr",
          "text": [
            "/usr/local/lib/python3.7/dist-packages/sklearn/ensemble/_forest.py:756: UserWarning: class_weight presets \"balanced\" or \"balanced_subsample\" are not recommended for warm_start if the fitted data differs from the full dataset. In order to use \"balanced\" weights, use compute_class_weight (\"balanced\", classes, y). In place of y you can use a large enough sample of the full training set target to properly estimate the class frequency distributions. Pass the resulting weights as the class_weight parameter.\n",
            "  'class_weight presets \"balanced\" or '\n"
          ]
        },
        {
          "output_type": "stream",
          "name": "stdout",
          "text": [
            "[CV 5/5] END bootstrap=True, class_weight=balanced_subsample, criterion=gini, max_depth=5, max_features=log2, warm_start=True;, score=0.350 total time=   0.2s\n",
            "[CV 1/5] END bootstrap=True, class_weight=balanced_subsample, criterion=entropy, max_depth=2, max_features=auto, warm_start=False;, score=0.500 total time=   0.2s\n",
            "[CV 2/5] END bootstrap=True, class_weight=balanced_subsample, criterion=entropy, max_depth=2, max_features=auto, warm_start=False;, score=0.500 total time=   0.2s\n",
            "[CV 3/5] END bootstrap=True, class_weight=balanced_subsample, criterion=entropy, max_depth=2, max_features=auto, warm_start=False;, score=0.250 total time=   0.2s\n",
            "[CV 4/5] END bootstrap=True, class_weight=balanced_subsample, criterion=entropy, max_depth=2, max_features=auto, warm_start=False;, score=0.450 total time=   0.2s\n",
            "[CV 5/5] END bootstrap=True, class_weight=balanced_subsample, criterion=entropy, max_depth=2, max_features=auto, warm_start=False;, score=0.300 total time=   0.2s\n",
            "[CV 1/5] END bootstrap=True, class_weight=balanced_subsample, criterion=entropy, max_depth=2, max_features=auto, warm_start=True;, score=0.450 total time=   0.2s\n"
          ]
        },
        {
          "output_type": "stream",
          "name": "stderr",
          "text": [
            "/usr/local/lib/python3.7/dist-packages/sklearn/ensemble/_forest.py:756: UserWarning: class_weight presets \"balanced\" or \"balanced_subsample\" are not recommended for warm_start if the fitted data differs from the full dataset. In order to use \"balanced\" weights, use compute_class_weight (\"balanced\", classes, y). In place of y you can use a large enough sample of the full training set target to properly estimate the class frequency distributions. Pass the resulting weights as the class_weight parameter.\n",
            "  'class_weight presets \"balanced\" or '\n",
            "/usr/local/lib/python3.7/dist-packages/sklearn/ensemble/_forest.py:756: UserWarning: class_weight presets \"balanced\" or \"balanced_subsample\" are not recommended for warm_start if the fitted data differs from the full dataset. In order to use \"balanced\" weights, use compute_class_weight (\"balanced\", classes, y). In place of y you can use a large enough sample of the full training set target to properly estimate the class frequency distributions. Pass the resulting weights as the class_weight parameter.\n",
            "  'class_weight presets \"balanced\" or '\n"
          ]
        },
        {
          "output_type": "stream",
          "name": "stdout",
          "text": [
            "[CV 2/5] END bootstrap=True, class_weight=balanced_subsample, criterion=entropy, max_depth=2, max_features=auto, warm_start=True;, score=0.500 total time=   0.2s\n",
            "[CV 3/5] END bootstrap=True, class_weight=balanced_subsample, criterion=entropy, max_depth=2, max_features=auto, warm_start=True;, score=0.300 total time=   0.2s\n"
          ]
        },
        {
          "output_type": "stream",
          "name": "stderr",
          "text": [
            "/usr/local/lib/python3.7/dist-packages/sklearn/ensemble/_forest.py:756: UserWarning: class_weight presets \"balanced\" or \"balanced_subsample\" are not recommended for warm_start if the fitted data differs from the full dataset. In order to use \"balanced\" weights, use compute_class_weight (\"balanced\", classes, y). In place of y you can use a large enough sample of the full training set target to properly estimate the class frequency distributions. Pass the resulting weights as the class_weight parameter.\n",
            "  'class_weight presets \"balanced\" or '\n",
            "/usr/local/lib/python3.7/dist-packages/sklearn/ensemble/_forest.py:756: UserWarning: class_weight presets \"balanced\" or \"balanced_subsample\" are not recommended for warm_start if the fitted data differs from the full dataset. In order to use \"balanced\" weights, use compute_class_weight (\"balanced\", classes, y). In place of y you can use a large enough sample of the full training set target to properly estimate the class frequency distributions. Pass the resulting weights as the class_weight parameter.\n",
            "  'class_weight presets \"balanced\" or '\n"
          ]
        },
        {
          "output_type": "stream",
          "name": "stdout",
          "text": [
            "[CV 4/5] END bootstrap=True, class_weight=balanced_subsample, criterion=entropy, max_depth=2, max_features=auto, warm_start=True;, score=0.450 total time=   0.2s\n",
            "[CV 5/5] END bootstrap=True, class_weight=balanced_subsample, criterion=entropy, max_depth=2, max_features=auto, warm_start=True;, score=0.300 total time=   0.2s\n"
          ]
        },
        {
          "output_type": "stream",
          "name": "stderr",
          "text": [
            "/usr/local/lib/python3.7/dist-packages/sklearn/ensemble/_forest.py:756: UserWarning: class_weight presets \"balanced\" or \"balanced_subsample\" are not recommended for warm_start if the fitted data differs from the full dataset. In order to use \"balanced\" weights, use compute_class_weight (\"balanced\", classes, y). In place of y you can use a large enough sample of the full training set target to properly estimate the class frequency distributions. Pass the resulting weights as the class_weight parameter.\n",
            "  'class_weight presets \"balanced\" or '\n"
          ]
        },
        {
          "output_type": "stream",
          "name": "stdout",
          "text": [
            "[CV 1/5] END bootstrap=True, class_weight=balanced_subsample, criterion=entropy, max_depth=2, max_features=sqrt, warm_start=False;, score=0.400 total time=   0.2s\n",
            "[CV 2/5] END bootstrap=True, class_weight=balanced_subsample, criterion=entropy, max_depth=2, max_features=sqrt, warm_start=False;, score=0.550 total time=   0.2s\n",
            "[CV 3/5] END bootstrap=True, class_weight=balanced_subsample, criterion=entropy, max_depth=2, max_features=sqrt, warm_start=False;, score=0.400 total time=   0.2s\n",
            "[CV 4/5] END bootstrap=True, class_weight=balanced_subsample, criterion=entropy, max_depth=2, max_features=sqrt, warm_start=False;, score=0.350 total time=   0.2s\n",
            "[CV 5/5] END bootstrap=True, class_weight=balanced_subsample, criterion=entropy, max_depth=2, max_features=sqrt, warm_start=False;, score=0.350 total time=   0.2s\n"
          ]
        },
        {
          "output_type": "stream",
          "name": "stderr",
          "text": [
            "/usr/local/lib/python3.7/dist-packages/sklearn/ensemble/_forest.py:756: UserWarning: class_weight presets \"balanced\" or \"balanced_subsample\" are not recommended for warm_start if the fitted data differs from the full dataset. In order to use \"balanced\" weights, use compute_class_weight (\"balanced\", classes, y). In place of y you can use a large enough sample of the full training set target to properly estimate the class frequency distributions. Pass the resulting weights as the class_weight parameter.\n",
            "  'class_weight presets \"balanced\" or '\n"
          ]
        },
        {
          "output_type": "stream",
          "name": "stdout",
          "text": [
            "[CV 1/5] END bootstrap=True, class_weight=balanced_subsample, criterion=entropy, max_depth=2, max_features=sqrt, warm_start=True;, score=0.250 total time=   0.2s\n",
            "[CV 2/5] END bootstrap=True, class_weight=balanced_subsample, criterion=entropy, max_depth=2, max_features=sqrt, warm_start=True;, score=0.450 total time=   0.2s"
          ]
        },
        {
          "output_type": "stream",
          "name": "stderr",
          "text": [
            "/usr/local/lib/python3.7/dist-packages/sklearn/ensemble/_forest.py:756: UserWarning: class_weight presets \"balanced\" or \"balanced_subsample\" are not recommended for warm_start if the fitted data differs from the full dataset. In order to use \"balanced\" weights, use compute_class_weight (\"balanced\", classes, y). In place of y you can use a large enough sample of the full training set target to properly estimate the class frequency distributions. Pass the resulting weights as the class_weight parameter.\n",
            "  'class_weight presets \"balanced\" or '\n"
          ]
        },
        {
          "output_type": "stream",
          "name": "stdout",
          "text": [
            "\n",
            "[CV 3/5] END bootstrap=True, class_weight=balanced_subsample, criterion=entropy, max_depth=2, max_features=sqrt, warm_start=True;, score=0.400 total time=   0.2s\n"
          ]
        },
        {
          "output_type": "stream",
          "name": "stderr",
          "text": [
            "/usr/local/lib/python3.7/dist-packages/sklearn/ensemble/_forest.py:756: UserWarning: class_weight presets \"balanced\" or \"balanced_subsample\" are not recommended for warm_start if the fitted data differs from the full dataset. In order to use \"balanced\" weights, use compute_class_weight (\"balanced\", classes, y). In place of y you can use a large enough sample of the full training set target to properly estimate the class frequency distributions. Pass the resulting weights as the class_weight parameter.\n",
            "  'class_weight presets \"balanced\" or '\n",
            "/usr/local/lib/python3.7/dist-packages/sklearn/ensemble/_forest.py:756: UserWarning: class_weight presets \"balanced\" or \"balanced_subsample\" are not recommended for warm_start if the fitted data differs from the full dataset. In order to use \"balanced\" weights, use compute_class_weight (\"balanced\", classes, y). In place of y you can use a large enough sample of the full training set target to properly estimate the class frequency distributions. Pass the resulting weights as the class_weight parameter.\n",
            "  'class_weight presets \"balanced\" or '\n"
          ]
        },
        {
          "output_type": "stream",
          "name": "stdout",
          "text": [
            "[CV 4/5] END bootstrap=True, class_weight=balanced_subsample, criterion=entropy, max_depth=2, max_features=sqrt, warm_start=True;, score=0.600 total time=   0.2s\n",
            "[CV 5/5] END bootstrap=True, class_weight=balanced_subsample, criterion=entropy, max_depth=2, max_features=sqrt, warm_start=True;, score=0.300 total time=   0.2s\n"
          ]
        },
        {
          "output_type": "stream",
          "name": "stderr",
          "text": [
            "/usr/local/lib/python3.7/dist-packages/sklearn/ensemble/_forest.py:756: UserWarning: class_weight presets \"balanced\" or \"balanced_subsample\" are not recommended for warm_start if the fitted data differs from the full dataset. In order to use \"balanced\" weights, use compute_class_weight (\"balanced\", classes, y). In place of y you can use a large enough sample of the full training set target to properly estimate the class frequency distributions. Pass the resulting weights as the class_weight parameter.\n",
            "  'class_weight presets \"balanced\" or '\n"
          ]
        },
        {
          "output_type": "stream",
          "name": "stdout",
          "text": [
            "[CV 1/5] END bootstrap=True, class_weight=balanced_subsample, criterion=entropy, max_depth=2, max_features=log2, warm_start=False;, score=0.400 total time=   0.2s\n",
            "[CV 2/5] END bootstrap=True, class_weight=balanced_subsample, criterion=entropy, max_depth=2, max_features=log2, warm_start=False;, score=0.550 total time=   0.2s\n",
            "[CV 3/5] END bootstrap=True, class_weight=balanced_subsample, criterion=entropy, max_depth=2, max_features=log2, warm_start=False;, score=0.300 total time=   0.2s\n",
            "[CV 4/5] END bootstrap=True, class_weight=balanced_subsample, criterion=entropy, max_depth=2, max_features=log2, warm_start=False;, score=0.400 total time=   0.2s\n",
            "[CV 5/5] END bootstrap=True, class_weight=balanced_subsample, criterion=entropy, max_depth=2, max_features=log2, warm_start=False;, score=0.350 total time=   0.2s\n",
            "[CV 1/5] END bootstrap=True, class_weight=balanced_subsample, criterion=entropy, max_depth=2, max_features=log2, warm_start=True;, score=0.450 total time=   0.2s\n"
          ]
        },
        {
          "output_type": "stream",
          "name": "stderr",
          "text": [
            "/usr/local/lib/python3.7/dist-packages/sklearn/ensemble/_forest.py:756: UserWarning: class_weight presets \"balanced\" or \"balanced_subsample\" are not recommended for warm_start if the fitted data differs from the full dataset. In order to use \"balanced\" weights, use compute_class_weight (\"balanced\", classes, y). In place of y you can use a large enough sample of the full training set target to properly estimate the class frequency distributions. Pass the resulting weights as the class_weight parameter.\n",
            "  'class_weight presets \"balanced\" or '\n",
            "/usr/local/lib/python3.7/dist-packages/sklearn/ensemble/_forest.py:756: UserWarning: class_weight presets \"balanced\" or \"balanced_subsample\" are not recommended for warm_start if the fitted data differs from the full dataset. In order to use \"balanced\" weights, use compute_class_weight (\"balanced\", classes, y). In place of y you can use a large enough sample of the full training set target to properly estimate the class frequency distributions. Pass the resulting weights as the class_weight parameter.\n",
            "  'class_weight presets \"balanced\" or '\n"
          ]
        },
        {
          "output_type": "stream",
          "name": "stdout",
          "text": [
            "[CV 2/5] END bootstrap=True, class_weight=balanced_subsample, criterion=entropy, max_depth=2, max_features=log2, warm_start=True;, score=0.450 total time=   0.2s\n",
            "[CV 3/5] END bootstrap=True, class_weight=balanced_subsample, criterion=entropy, max_depth=2, max_features=log2, warm_start=True;, score=0.350 total time=   0.2s\n"
          ]
        },
        {
          "output_type": "stream",
          "name": "stderr",
          "text": [
            "/usr/local/lib/python3.7/dist-packages/sklearn/ensemble/_forest.py:756: UserWarning: class_weight presets \"balanced\" or \"balanced_subsample\" are not recommended for warm_start if the fitted data differs from the full dataset. In order to use \"balanced\" weights, use compute_class_weight (\"balanced\", classes, y). In place of y you can use a large enough sample of the full training set target to properly estimate the class frequency distributions. Pass the resulting weights as the class_weight parameter.\n",
            "  'class_weight presets \"balanced\" or '\n",
            "/usr/local/lib/python3.7/dist-packages/sklearn/ensemble/_forest.py:756: UserWarning: class_weight presets \"balanced\" or \"balanced_subsample\" are not recommended for warm_start if the fitted data differs from the full dataset. In order to use \"balanced\" weights, use compute_class_weight (\"balanced\", classes, y). In place of y you can use a large enough sample of the full training set target to properly estimate the class frequency distributions. Pass the resulting weights as the class_weight parameter.\n",
            "  'class_weight presets \"balanced\" or '\n"
          ]
        },
        {
          "output_type": "stream",
          "name": "stdout",
          "text": [
            "[CV 4/5] END bootstrap=True, class_weight=balanced_subsample, criterion=entropy, max_depth=2, max_features=log2, warm_start=True;, score=0.450 total time=   0.2s\n",
            "[CV 5/5] END bootstrap=True, class_weight=balanced_subsample, criterion=entropy, max_depth=2, max_features=log2, warm_start=True;, score=0.300 total time=   0.2s\n"
          ]
        },
        {
          "output_type": "stream",
          "name": "stderr",
          "text": [
            "/usr/local/lib/python3.7/dist-packages/sklearn/ensemble/_forest.py:756: UserWarning: class_weight presets \"balanced\" or \"balanced_subsample\" are not recommended for warm_start if the fitted data differs from the full dataset. In order to use \"balanced\" weights, use compute_class_weight (\"balanced\", classes, y). In place of y you can use a large enough sample of the full training set target to properly estimate the class frequency distributions. Pass the resulting weights as the class_weight parameter.\n",
            "  'class_weight presets \"balanced\" or '\n"
          ]
        },
        {
          "output_type": "stream",
          "name": "stdout",
          "text": [
            "[CV 1/5] END bootstrap=True, class_weight=balanced_subsample, criterion=entropy, max_depth=3, max_features=auto, warm_start=False;, score=0.400 total time=   0.2s\n",
            "[CV 2/5] END bootstrap=True, class_weight=balanced_subsample, criterion=entropy, max_depth=3, max_features=auto, warm_start=False;, score=0.500 total time=   0.2s\n",
            "[CV 3/5] END bootstrap=True, class_weight=balanced_subsample, criterion=entropy, max_depth=3, max_features=auto, warm_start=False;, score=0.400 total time=   0.2s\n",
            "[CV 4/5] END bootstrap=True, class_weight=balanced_subsample, criterion=entropy, max_depth=3, max_features=auto, warm_start=False;, score=0.400 total time=   0.2s\n",
            "[CV 5/5] END bootstrap=True, class_weight=balanced_subsample, criterion=entropy, max_depth=3, max_features=auto, warm_start=False;, score=0.400 total time=   0.2s\n",
            "[CV 1/5] END bootstrap=True, class_weight=balanced_subsample, criterion=entropy, max_depth=3, max_features=auto, warm_start=True;, score=0.450 total time=   0.2s\n"
          ]
        },
        {
          "output_type": "stream",
          "name": "stderr",
          "text": [
            "/usr/local/lib/python3.7/dist-packages/sklearn/ensemble/_forest.py:756: UserWarning: class_weight presets \"balanced\" or \"balanced_subsample\" are not recommended for warm_start if the fitted data differs from the full dataset. In order to use \"balanced\" weights, use compute_class_weight (\"balanced\", classes, y). In place of y you can use a large enough sample of the full training set target to properly estimate the class frequency distributions. Pass the resulting weights as the class_weight parameter.\n",
            "  'class_weight presets \"balanced\" or '\n",
            "/usr/local/lib/python3.7/dist-packages/sklearn/ensemble/_forest.py:756: UserWarning: class_weight presets \"balanced\" or \"balanced_subsample\" are not recommended for warm_start if the fitted data differs from the full dataset. In order to use \"balanced\" weights, use compute_class_weight (\"balanced\", classes, y). In place of y you can use a large enough sample of the full training set target to properly estimate the class frequency distributions. Pass the resulting weights as the class_weight parameter.\n",
            "  'class_weight presets \"balanced\" or '\n"
          ]
        },
        {
          "output_type": "stream",
          "name": "stdout",
          "text": [
            "[CV 2/5] END bootstrap=True, class_weight=balanced_subsample, criterion=entropy, max_depth=3, max_features=auto, warm_start=True;, score=0.450 total time=   0.2s\n",
            "[CV 3/5] END bootstrap=True, class_weight=balanced_subsample, criterion=entropy, max_depth=3, max_features=auto, warm_start=True;, score=0.350 total time=   0.2s\n"
          ]
        },
        {
          "output_type": "stream",
          "name": "stderr",
          "text": [
            "/usr/local/lib/python3.7/dist-packages/sklearn/ensemble/_forest.py:756: UserWarning: class_weight presets \"balanced\" or \"balanced_subsample\" are not recommended for warm_start if the fitted data differs from the full dataset. In order to use \"balanced\" weights, use compute_class_weight (\"balanced\", classes, y). In place of y you can use a large enough sample of the full training set target to properly estimate the class frequency distributions. Pass the resulting weights as the class_weight parameter.\n",
            "  'class_weight presets \"balanced\" or '\n",
            "/usr/local/lib/python3.7/dist-packages/sklearn/ensemble/_forest.py:756: UserWarning: class_weight presets \"balanced\" or \"balanced_subsample\" are not recommended for warm_start if the fitted data differs from the full dataset. In order to use \"balanced\" weights, use compute_class_weight (\"balanced\", classes, y). In place of y you can use a large enough sample of the full training set target to properly estimate the class frequency distributions. Pass the resulting weights as the class_weight parameter.\n",
            "  'class_weight presets \"balanced\" or '\n"
          ]
        },
        {
          "output_type": "stream",
          "name": "stdout",
          "text": [
            "[CV 4/5] END bootstrap=True, class_weight=balanced_subsample, criterion=entropy, max_depth=3, max_features=auto, warm_start=True;, score=0.450 total time=   0.2s\n",
            "[CV 5/5] END bootstrap=True, class_weight=balanced_subsample, criterion=entropy, max_depth=3, max_features=auto, warm_start=True;, score=0.400 total time=   0.2s\n"
          ]
        },
        {
          "output_type": "stream",
          "name": "stderr",
          "text": [
            "/usr/local/lib/python3.7/dist-packages/sklearn/ensemble/_forest.py:756: UserWarning: class_weight presets \"balanced\" or \"balanced_subsample\" are not recommended for warm_start if the fitted data differs from the full dataset. In order to use \"balanced\" weights, use compute_class_weight (\"balanced\", classes, y). In place of y you can use a large enough sample of the full training set target to properly estimate the class frequency distributions. Pass the resulting weights as the class_weight parameter.\n",
            "  'class_weight presets \"balanced\" or '\n"
          ]
        },
        {
          "output_type": "stream",
          "name": "stdout",
          "text": [
            "[CV 1/5] END bootstrap=True, class_weight=balanced_subsample, criterion=entropy, max_depth=3, max_features=sqrt, warm_start=False;, score=0.400 total time=   0.2s\n",
            "[CV 2/5] END bootstrap=True, class_weight=balanced_subsample, criterion=entropy, max_depth=3, max_features=sqrt, warm_start=False;, score=0.500 total time=   0.2s\n",
            "[CV 3/5] END bootstrap=True, class_weight=balanced_subsample, criterion=entropy, max_depth=3, max_features=sqrt, warm_start=False;, score=0.400 total time=   0.2s\n",
            "[CV 4/5] END bootstrap=True, class_weight=balanced_subsample, criterion=entropy, max_depth=3, max_features=sqrt, warm_start=False;, score=0.350 total time=   0.2s\n",
            "[CV 5/5] END bootstrap=True, class_weight=balanced_subsample, criterion=entropy, max_depth=3, max_features=sqrt, warm_start=False;, score=0.300 total time=   0.2s\n",
            "[CV 1/5] END bootstrap=True, class_weight=balanced_subsample, criterion=entropy, max_depth=3, max_features=sqrt, warm_start=True;, score=0.500 total time=   0.2s\n"
          ]
        },
        {
          "output_type": "stream",
          "name": "stderr",
          "text": [
            "/usr/local/lib/python3.7/dist-packages/sklearn/ensemble/_forest.py:756: UserWarning: class_weight presets \"balanced\" or \"balanced_subsample\" are not recommended for warm_start if the fitted data differs from the full dataset. In order to use \"balanced\" weights, use compute_class_weight (\"balanced\", classes, y). In place of y you can use a large enough sample of the full training set target to properly estimate the class frequency distributions. Pass the resulting weights as the class_weight parameter.\n",
            "  'class_weight presets \"balanced\" or '\n"
          ]
        },
        {
          "output_type": "stream",
          "name": "stdout",
          "text": [
            "[CV 2/5] END bootstrap=True, class_weight=balanced_subsample, criterion=entropy, max_depth=3, max_features=sqrt, warm_start=True;, score=0.450 total time=   0.2s\n",
            "[CV 3/5] END bootstrap=True, class_weight=balanced_subsample, criterion=entropy, max_depth=3, max_features=sqrt, warm_start=True;, score=0.350 total time=   0.2s\n"
          ]
        },
        {
          "output_type": "stream",
          "name": "stderr",
          "text": [
            "/usr/local/lib/python3.7/dist-packages/sklearn/ensemble/_forest.py:756: UserWarning: class_weight presets \"balanced\" or \"balanced_subsample\" are not recommended for warm_start if the fitted data differs from the full dataset. In order to use \"balanced\" weights, use compute_class_weight (\"balanced\", classes, y). In place of y you can use a large enough sample of the full training set target to properly estimate the class frequency distributions. Pass the resulting weights as the class_weight parameter.\n",
            "  'class_weight presets \"balanced\" or '\n",
            "/usr/local/lib/python3.7/dist-packages/sklearn/ensemble/_forest.py:756: UserWarning: class_weight presets \"balanced\" or \"balanced_subsample\" are not recommended for warm_start if the fitted data differs from the full dataset. In order to use \"balanced\" weights, use compute_class_weight (\"balanced\", classes, y). In place of y you can use a large enough sample of the full training set target to properly estimate the class frequency distributions. Pass the resulting weights as the class_weight parameter.\n",
            "  'class_weight presets \"balanced\" or '\n",
            "/usr/local/lib/python3.7/dist-packages/sklearn/ensemble/_forest.py:756: UserWarning: class_weight presets \"balanced\" or \"balanced_subsample\" are not recommended for warm_start if the fitted data differs from the full dataset. In order to use \"balanced\" weights, use compute_class_weight (\"balanced\", classes, y). In place of y you can use a large enough sample of the full training set target to properly estimate the class frequency distributions. Pass the resulting weights as the class_weight parameter.\n",
            "  'class_weight presets \"balanced\" or '\n"
          ]
        },
        {
          "output_type": "stream",
          "name": "stdout",
          "text": [
            "[CV 4/5] END bootstrap=True, class_weight=balanced_subsample, criterion=entropy, max_depth=3, max_features=sqrt, warm_start=True;, score=0.600 total time=   0.2s\n",
            "[CV 5/5] END bootstrap=True, class_weight=balanced_subsample, criterion=entropy, max_depth=3, max_features=sqrt, warm_start=True;, score=0.400 total time=   0.2s\n"
          ]
        },
        {
          "output_type": "stream",
          "name": "stderr",
          "text": [
            "/usr/local/lib/python3.7/dist-packages/sklearn/ensemble/_forest.py:756: UserWarning: class_weight presets \"balanced\" or \"balanced_subsample\" are not recommended for warm_start if the fitted data differs from the full dataset. In order to use \"balanced\" weights, use compute_class_weight (\"balanced\", classes, y). In place of y you can use a large enough sample of the full training set target to properly estimate the class frequency distributions. Pass the resulting weights as the class_weight parameter.\n",
            "  'class_weight presets \"balanced\" or '\n"
          ]
        },
        {
          "output_type": "stream",
          "name": "stdout",
          "text": [
            "[CV 1/5] END bootstrap=True, class_weight=balanced_subsample, criterion=entropy, max_depth=3, max_features=log2, warm_start=False;, score=0.450 total time=   0.2s\n",
            "[CV 2/5] END bootstrap=True, class_weight=balanced_subsample, criterion=entropy, max_depth=3, max_features=log2, warm_start=False;, score=0.550 total time=   0.2s\n",
            "[CV 3/5] END bootstrap=True, class_weight=balanced_subsample, criterion=entropy, max_depth=3, max_features=log2, warm_start=False;, score=0.400 total time=   0.2s\n",
            "[CV 4/5] END bootstrap=True, class_weight=balanced_subsample, criterion=entropy, max_depth=3, max_features=log2, warm_start=False;, score=0.600 total time=   0.2s\n",
            "[CV 5/5] END bootstrap=True, class_weight=balanced_subsample, criterion=entropy, max_depth=3, max_features=log2, warm_start=False;, score=0.450 total time=   0.2s\n"
          ]
        },
        {
          "output_type": "stream",
          "name": "stderr",
          "text": [
            "/usr/local/lib/python3.7/dist-packages/sklearn/ensemble/_forest.py:756: UserWarning: class_weight presets \"balanced\" or \"balanced_subsample\" are not recommended for warm_start if the fitted data differs from the full dataset. In order to use \"balanced\" weights, use compute_class_weight (\"balanced\", classes, y). In place of y you can use a large enough sample of the full training set target to properly estimate the class frequency distributions. Pass the resulting weights as the class_weight parameter.\n",
            "  'class_weight presets \"balanced\" or '\n"
          ]
        },
        {
          "output_type": "stream",
          "name": "stdout",
          "text": [
            "[CV 1/5] END bootstrap=True, class_weight=balanced_subsample, criterion=entropy, max_depth=3, max_features=log2, warm_start=True;, score=0.400 total time=   0.2s\n",
            "[CV 2/5] END bootstrap=True, class_weight=balanced_subsample, criterion=entropy, max_depth=3, max_features=log2, warm_start=True;, score=0.500 total time=   0.2s\n",
            "[CV 3/5] END bootstrap=True, class_weight=balanced_subsample, criterion=entropy, max_depth=3, max_features=log2, warm_start=True;, score=0.400 total time=   0.2s\n"
          ]
        },
        {
          "output_type": "stream",
          "name": "stderr",
          "text": [
            "/usr/local/lib/python3.7/dist-packages/sklearn/ensemble/_forest.py:756: UserWarning: class_weight presets \"balanced\" or \"balanced_subsample\" are not recommended for warm_start if the fitted data differs from the full dataset. In order to use \"balanced\" weights, use compute_class_weight (\"balanced\", classes, y). In place of y you can use a large enough sample of the full training set target to properly estimate the class frequency distributions. Pass the resulting weights as the class_weight parameter.\n",
            "  'class_weight presets \"balanced\" or '\n",
            "/usr/local/lib/python3.7/dist-packages/sklearn/ensemble/_forest.py:756: UserWarning: class_weight presets \"balanced\" or \"balanced_subsample\" are not recommended for warm_start if the fitted data differs from the full dataset. In order to use \"balanced\" weights, use compute_class_weight (\"balanced\", classes, y). In place of y you can use a large enough sample of the full training set target to properly estimate the class frequency distributions. Pass the resulting weights as the class_weight parameter.\n",
            "  'class_weight presets \"balanced\" or '\n",
            "/usr/local/lib/python3.7/dist-packages/sklearn/ensemble/_forest.py:756: UserWarning: class_weight presets \"balanced\" or \"balanced_subsample\" are not recommended for warm_start if the fitted data differs from the full dataset. In order to use \"balanced\" weights, use compute_class_weight (\"balanced\", classes, y). In place of y you can use a large enough sample of the full training set target to properly estimate the class frequency distributions. Pass the resulting weights as the class_weight parameter.\n",
            "  'class_weight presets \"balanced\" or '\n"
          ]
        },
        {
          "output_type": "stream",
          "name": "stdout",
          "text": [
            "[CV 4/5] END bootstrap=True, class_weight=balanced_subsample, criterion=entropy, max_depth=3, max_features=log2, warm_start=True;, score=0.500 total time=   0.2s\n",
            "[CV 5/5] END bootstrap=True, class_weight=balanced_subsample, criterion=entropy, max_depth=3, max_features=log2, warm_start=True;, score=0.350 total time=   0.2s\n"
          ]
        },
        {
          "output_type": "stream",
          "name": "stderr",
          "text": [
            "/usr/local/lib/python3.7/dist-packages/sklearn/ensemble/_forest.py:756: UserWarning: class_weight presets \"balanced\" or \"balanced_subsample\" are not recommended for warm_start if the fitted data differs from the full dataset. In order to use \"balanced\" weights, use compute_class_weight (\"balanced\", classes, y). In place of y you can use a large enough sample of the full training set target to properly estimate the class frequency distributions. Pass the resulting weights as the class_weight parameter.\n",
            "  'class_weight presets \"balanced\" or '\n"
          ]
        },
        {
          "output_type": "stream",
          "name": "stdout",
          "text": [
            "[CV 1/5] END bootstrap=True, class_weight=balanced_subsample, criterion=entropy, max_depth=5, max_features=auto, warm_start=False;, score=0.350 total time=   0.2s\n",
            "[CV 2/5] END bootstrap=True, class_weight=balanced_subsample, criterion=entropy, max_depth=5, max_features=auto, warm_start=False;, score=0.450 total time=   0.2s\n",
            "[CV 3/5] END bootstrap=True, class_weight=balanced_subsample, criterion=entropy, max_depth=5, max_features=auto, warm_start=False;, score=0.450 total time=   0.2s\n",
            "[CV 4/5] END bootstrap=True, class_weight=balanced_subsample, criterion=entropy, max_depth=5, max_features=auto, warm_start=False;, score=0.400 total time=   0.2s\n",
            "[CV 5/5] END bootstrap=True, class_weight=balanced_subsample, criterion=entropy, max_depth=5, max_features=auto, warm_start=False;, score=0.350 total time=   0.2s\n"
          ]
        },
        {
          "output_type": "stream",
          "name": "stderr",
          "text": [
            "/usr/local/lib/python3.7/dist-packages/sklearn/ensemble/_forest.py:756: UserWarning: class_weight presets \"balanced\" or \"balanced_subsample\" are not recommended for warm_start if the fitted data differs from the full dataset. In order to use \"balanced\" weights, use compute_class_weight (\"balanced\", classes, y). In place of y you can use a large enough sample of the full training set target to properly estimate the class frequency distributions. Pass the resulting weights as the class_weight parameter.\n",
            "  'class_weight presets \"balanced\" or '\n"
          ]
        },
        {
          "output_type": "stream",
          "name": "stdout",
          "text": [
            "[CV 1/5] END bootstrap=True, class_weight=balanced_subsample, criterion=entropy, max_depth=5, max_features=auto, warm_start=True;, score=0.600 total time=   0.2s\n"
          ]
        },
        {
          "output_type": "stream",
          "name": "stderr",
          "text": [
            "/usr/local/lib/python3.7/dist-packages/sklearn/ensemble/_forest.py:756: UserWarning: class_weight presets \"balanced\" or \"balanced_subsample\" are not recommended for warm_start if the fitted data differs from the full dataset. In order to use \"balanced\" weights, use compute_class_weight (\"balanced\", classes, y). In place of y you can use a large enough sample of the full training set target to properly estimate the class frequency distributions. Pass the resulting weights as the class_weight parameter.\n",
            "  'class_weight presets \"balanced\" or '\n"
          ]
        },
        {
          "output_type": "stream",
          "name": "stdout",
          "text": [
            "[CV 2/5] END bootstrap=True, class_weight=balanced_subsample, criterion=entropy, max_depth=5, max_features=auto, warm_start=True;, score=0.450 total time=   0.2s\n"
          ]
        },
        {
          "output_type": "stream",
          "name": "stderr",
          "text": [
            "/usr/local/lib/python3.7/dist-packages/sklearn/ensemble/_forest.py:756: UserWarning: class_weight presets \"balanced\" or \"balanced_subsample\" are not recommended for warm_start if the fitted data differs from the full dataset. In order to use \"balanced\" weights, use compute_class_weight (\"balanced\", classes, y). In place of y you can use a large enough sample of the full training set target to properly estimate the class frequency distributions. Pass the resulting weights as the class_weight parameter.\n",
            "  'class_weight presets \"balanced\" or '\n"
          ]
        },
        {
          "output_type": "stream",
          "name": "stdout",
          "text": [
            "[CV 3/5] END bootstrap=True, class_weight=balanced_subsample, criterion=entropy, max_depth=5, max_features=auto, warm_start=True;, score=0.400 total time=   0.2s\n"
          ]
        },
        {
          "output_type": "stream",
          "name": "stderr",
          "text": [
            "/usr/local/lib/python3.7/dist-packages/sklearn/ensemble/_forest.py:756: UserWarning: class_weight presets \"balanced\" or \"balanced_subsample\" are not recommended for warm_start if the fitted data differs from the full dataset. In order to use \"balanced\" weights, use compute_class_weight (\"balanced\", classes, y). In place of y you can use a large enough sample of the full training set target to properly estimate the class frequency distributions. Pass the resulting weights as the class_weight parameter.\n",
            "  'class_weight presets \"balanced\" or '\n"
          ]
        },
        {
          "output_type": "stream",
          "name": "stdout",
          "text": [
            "[CV 4/5] END bootstrap=True, class_weight=balanced_subsample, criterion=entropy, max_depth=5, max_features=auto, warm_start=True;, score=0.400 total time=   0.2s\n",
            "[CV 5/5] END bootstrap=True, class_weight=balanced_subsample, criterion=entropy, max_depth=5, max_features=auto, warm_start=True;, score=0.350 total time=   0.2s"
          ]
        },
        {
          "output_type": "stream",
          "name": "stderr",
          "text": [
            "/usr/local/lib/python3.7/dist-packages/sklearn/ensemble/_forest.py:756: UserWarning: class_weight presets \"balanced\" or \"balanced_subsample\" are not recommended for warm_start if the fitted data differs from the full dataset. In order to use \"balanced\" weights, use compute_class_weight (\"balanced\", classes, y). In place of y you can use a large enough sample of the full training set target to properly estimate the class frequency distributions. Pass the resulting weights as the class_weight parameter.\n",
            "  'class_weight presets \"balanced\" or '\n"
          ]
        },
        {
          "output_type": "stream",
          "name": "stdout",
          "text": [
            "\n",
            "[CV 1/5] END bootstrap=True, class_weight=balanced_subsample, criterion=entropy, max_depth=5, max_features=sqrt, warm_start=False;, score=0.400 total time=   0.2s\n",
            "[CV 2/5] END bootstrap=True, class_weight=balanced_subsample, criterion=entropy, max_depth=5, max_features=sqrt, warm_start=False;, score=0.450 total time=   0.2s\n",
            "[CV 3/5] END bootstrap=True, class_weight=balanced_subsample, criterion=entropy, max_depth=5, max_features=sqrt, warm_start=False;, score=0.500 total time=   0.2s\n",
            "[CV 4/5] END bootstrap=True, class_weight=balanced_subsample, criterion=entropy, max_depth=5, max_features=sqrt, warm_start=False;, score=0.400 total time=   0.2s\n",
            "[CV 5/5] END bootstrap=True, class_weight=balanced_subsample, criterion=entropy, max_depth=5, max_features=sqrt, warm_start=False;, score=0.350 total time=   0.2s\n"
          ]
        },
        {
          "output_type": "stream",
          "name": "stderr",
          "text": [
            "/usr/local/lib/python3.7/dist-packages/sklearn/ensemble/_forest.py:756: UserWarning: class_weight presets \"balanced\" or \"balanced_subsample\" are not recommended for warm_start if the fitted data differs from the full dataset. In order to use \"balanced\" weights, use compute_class_weight (\"balanced\", classes, y). In place of y you can use a large enough sample of the full training set target to properly estimate the class frequency distributions. Pass the resulting weights as the class_weight parameter.\n",
            "  'class_weight presets \"balanced\" or '\n"
          ]
        },
        {
          "output_type": "stream",
          "name": "stdout",
          "text": [
            "[CV 1/5] END bootstrap=True, class_weight=balanced_subsample, criterion=entropy, max_depth=5, max_features=sqrt, warm_start=True;, score=0.400 total time=   0.2s\n"
          ]
        },
        {
          "output_type": "stream",
          "name": "stderr",
          "text": [
            "/usr/local/lib/python3.7/dist-packages/sklearn/ensemble/_forest.py:756: UserWarning: class_weight presets \"balanced\" or \"balanced_subsample\" are not recommended for warm_start if the fitted data differs from the full dataset. In order to use \"balanced\" weights, use compute_class_weight (\"balanced\", classes, y). In place of y you can use a large enough sample of the full training set target to properly estimate the class frequency distributions. Pass the resulting weights as the class_weight parameter.\n",
            "  'class_weight presets \"balanced\" or '\n"
          ]
        },
        {
          "output_type": "stream",
          "name": "stdout",
          "text": [
            "[CV 2/5] END bootstrap=True, class_weight=balanced_subsample, criterion=entropy, max_depth=5, max_features=sqrt, warm_start=True;, score=0.350 total time=   0.2s\n"
          ]
        },
        {
          "output_type": "stream",
          "name": "stderr",
          "text": [
            "/usr/local/lib/python3.7/dist-packages/sklearn/ensemble/_forest.py:756: UserWarning: class_weight presets \"balanced\" or \"balanced_subsample\" are not recommended for warm_start if the fitted data differs from the full dataset. In order to use \"balanced\" weights, use compute_class_weight (\"balanced\", classes, y). In place of y you can use a large enough sample of the full training set target to properly estimate the class frequency distributions. Pass the resulting weights as the class_weight parameter.\n",
            "  'class_weight presets \"balanced\" or '\n"
          ]
        },
        {
          "output_type": "stream",
          "name": "stdout",
          "text": [
            "[CV 3/5] END bootstrap=True, class_weight=balanced_subsample, criterion=entropy, max_depth=5, max_features=sqrt, warm_start=True;, score=0.400 total time=   0.2s\n"
          ]
        },
        {
          "output_type": "stream",
          "name": "stderr",
          "text": [
            "/usr/local/lib/python3.7/dist-packages/sklearn/ensemble/_forest.py:756: UserWarning: class_weight presets \"balanced\" or \"balanced_subsample\" are not recommended for warm_start if the fitted data differs from the full dataset. In order to use \"balanced\" weights, use compute_class_weight (\"balanced\", classes, y). In place of y you can use a large enough sample of the full training set target to properly estimate the class frequency distributions. Pass the resulting weights as the class_weight parameter.\n",
            "  'class_weight presets \"balanced\" or '\n"
          ]
        },
        {
          "output_type": "stream",
          "name": "stdout",
          "text": [
            "[CV 4/5] END bootstrap=True, class_weight=balanced_subsample, criterion=entropy, max_depth=5, max_features=sqrt, warm_start=True;, score=0.350 total time=   0.2s\n"
          ]
        },
        {
          "output_type": "stream",
          "name": "stderr",
          "text": [
            "/usr/local/lib/python3.7/dist-packages/sklearn/ensemble/_forest.py:756: UserWarning: class_weight presets \"balanced\" or \"balanced_subsample\" are not recommended for warm_start if the fitted data differs from the full dataset. In order to use \"balanced\" weights, use compute_class_weight (\"balanced\", classes, y). In place of y you can use a large enough sample of the full training set target to properly estimate the class frequency distributions. Pass the resulting weights as the class_weight parameter.\n",
            "  'class_weight presets \"balanced\" or '\n"
          ]
        },
        {
          "output_type": "stream",
          "name": "stdout",
          "text": [
            "[CV 5/5] END bootstrap=True, class_weight=balanced_subsample, criterion=entropy, max_depth=5, max_features=sqrt, warm_start=True;, score=0.350 total time=   0.2s\n",
            "[CV 1/5] END bootstrap=True, class_weight=balanced_subsample, criterion=entropy, max_depth=5, max_features=log2, warm_start=False;, score=0.400 total time=   0.2s\n",
            "[CV 2/5] END bootstrap=True, class_weight=balanced_subsample, criterion=entropy, max_depth=5, max_features=log2, warm_start=False;, score=0.600 total time=   0.2s\n",
            "[CV 3/5] END bootstrap=True, class_weight=balanced_subsample, criterion=entropy, max_depth=5, max_features=log2, warm_start=False;, score=0.450 total time=   0.2s\n",
            "[CV 4/5] END bootstrap=True, class_weight=balanced_subsample, criterion=entropy, max_depth=5, max_features=log2, warm_start=False;, score=0.500 total time=   0.2s\n",
            "[CV 5/5] END bootstrap=True, class_weight=balanced_subsample, criterion=entropy, max_depth=5, max_features=log2, warm_start=False;, score=0.350 total time=   0.2s\n"
          ]
        },
        {
          "output_type": "stream",
          "name": "stderr",
          "text": [
            "/usr/local/lib/python3.7/dist-packages/sklearn/ensemble/_forest.py:756: UserWarning: class_weight presets \"balanced\" or \"balanced_subsample\" are not recommended for warm_start if the fitted data differs from the full dataset. In order to use \"balanced\" weights, use compute_class_weight (\"balanced\", classes, y). In place of y you can use a large enough sample of the full training set target to properly estimate the class frequency distributions. Pass the resulting weights as the class_weight parameter.\n",
            "  'class_weight presets \"balanced\" or '\n"
          ]
        },
        {
          "output_type": "stream",
          "name": "stdout",
          "text": [
            "[CV 1/5] END bootstrap=True, class_weight=balanced_subsample, criterion=entropy, max_depth=5, max_features=log2, warm_start=True;, score=0.500 total time=   0.2s\n"
          ]
        },
        {
          "output_type": "stream",
          "name": "stderr",
          "text": [
            "/usr/local/lib/python3.7/dist-packages/sklearn/ensemble/_forest.py:756: UserWarning: class_weight presets \"balanced\" or \"balanced_subsample\" are not recommended for warm_start if the fitted data differs from the full dataset. In order to use \"balanced\" weights, use compute_class_weight (\"balanced\", classes, y). In place of y you can use a large enough sample of the full training set target to properly estimate the class frequency distributions. Pass the resulting weights as the class_weight parameter.\n",
            "  'class_weight presets \"balanced\" or '\n"
          ]
        },
        {
          "output_type": "stream",
          "name": "stdout",
          "text": [
            "[CV 2/5] END bootstrap=True, class_weight=balanced_subsample, criterion=entropy, max_depth=5, max_features=log2, warm_start=True;, score=0.550 total time=   0.2s\n"
          ]
        },
        {
          "output_type": "stream",
          "name": "stderr",
          "text": [
            "/usr/local/lib/python3.7/dist-packages/sklearn/ensemble/_forest.py:756: UserWarning: class_weight presets \"balanced\" or \"balanced_subsample\" are not recommended for warm_start if the fitted data differs from the full dataset. In order to use \"balanced\" weights, use compute_class_weight (\"balanced\", classes, y). In place of y you can use a large enough sample of the full training set target to properly estimate the class frequency distributions. Pass the resulting weights as the class_weight parameter.\n",
            "  'class_weight presets \"balanced\" or '\n"
          ]
        },
        {
          "output_type": "stream",
          "name": "stdout",
          "text": [
            "[CV 3/5] END bootstrap=True, class_weight=balanced_subsample, criterion=entropy, max_depth=5, max_features=log2, warm_start=True;, score=0.400 total time=   0.2s\n"
          ]
        },
        {
          "output_type": "stream",
          "name": "stderr",
          "text": [
            "/usr/local/lib/python3.7/dist-packages/sklearn/ensemble/_forest.py:756: UserWarning: class_weight presets \"balanced\" or \"balanced_subsample\" are not recommended for warm_start if the fitted data differs from the full dataset. In order to use \"balanced\" weights, use compute_class_weight (\"balanced\", classes, y). In place of y you can use a large enough sample of the full training set target to properly estimate the class frequency distributions. Pass the resulting weights as the class_weight parameter.\n",
            "  'class_weight presets \"balanced\" or '\n"
          ]
        },
        {
          "output_type": "stream",
          "name": "stdout",
          "text": [
            "[CV 4/5] END bootstrap=True, class_weight=balanced_subsample, criterion=entropy, max_depth=5, max_features=log2, warm_start=True;, score=0.500 total time=   0.2s\n"
          ]
        },
        {
          "output_type": "stream",
          "name": "stderr",
          "text": [
            "/usr/local/lib/python3.7/dist-packages/sklearn/ensemble/_forest.py:756: UserWarning: class_weight presets \"balanced\" or \"balanced_subsample\" are not recommended for warm_start if the fitted data differs from the full dataset. In order to use \"balanced\" weights, use compute_class_weight (\"balanced\", classes, y). In place of y you can use a large enough sample of the full training set target to properly estimate the class frequency distributions. Pass the resulting weights as the class_weight parameter.\n",
            "  'class_weight presets \"balanced\" or '\n"
          ]
        },
        {
          "output_type": "stream",
          "name": "stdout",
          "text": [
            "[CV 5/5] END bootstrap=True, class_weight=balanced_subsample, criterion=entropy, max_depth=5, max_features=log2, warm_start=True;, score=0.400 total time=   0.2s\n",
            "[CV 1/5] END bootstrap=False, class_weight=balanced, criterion=gini, max_depth=2, max_features=auto, warm_start=False;, score=0.300 total time=   0.1s\n",
            "[CV 2/5] END bootstrap=False, class_weight=balanced, criterion=gini, max_depth=2, max_features=auto, warm_start=False;, score=0.350 total time=   0.1s\n",
            "[CV 3/5] END bootstrap=False, class_weight=balanced, criterion=gini, max_depth=2, max_features=auto, warm_start=False;, score=0.350 total time=   0.1s\n",
            "[CV 4/5] END bootstrap=False, class_weight=balanced, criterion=gini, max_depth=2, max_features=auto, warm_start=False;, score=0.450 total time=   0.1s\n",
            "[CV 5/5] END bootstrap=False, class_weight=balanced, criterion=gini, max_depth=2, max_features=auto, warm_start=False;, score=0.300 total time=   0.1s\n"
          ]
        },
        {
          "output_type": "stream",
          "name": "stderr",
          "text": [
            "/usr/local/lib/python3.7/dist-packages/sklearn/ensemble/_forest.py:756: UserWarning: class_weight presets \"balanced\" or \"balanced_subsample\" are not recommended for warm_start if the fitted data differs from the full dataset. In order to use \"balanced\" weights, use compute_class_weight (\"balanced\", classes, y). In place of y you can use a large enough sample of the full training set target to properly estimate the class frequency distributions. Pass the resulting weights as the class_weight parameter.\n",
            "  'class_weight presets \"balanced\" or '\n",
            "/usr/local/lib/python3.7/dist-packages/sklearn/ensemble/_forest.py:756: UserWarning: class_weight presets \"balanced\" or \"balanced_subsample\" are not recommended for warm_start if the fitted data differs from the full dataset. In order to use \"balanced\" weights, use compute_class_weight (\"balanced\", classes, y). In place of y you can use a large enough sample of the full training set target to properly estimate the class frequency distributions. Pass the resulting weights as the class_weight parameter.\n",
            "  'class_weight presets \"balanced\" or '\n"
          ]
        },
        {
          "output_type": "stream",
          "name": "stdout",
          "text": [
            "[CV 1/5] END bootstrap=False, class_weight=balanced, criterion=gini, max_depth=2, max_features=auto, warm_start=True;, score=0.300 total time=   0.1s\n",
            "[CV 2/5] END bootstrap=False, class_weight=balanced, criterion=gini, max_depth=2, max_features=auto, warm_start=True;, score=0.350 total time=   0.1s\n"
          ]
        },
        {
          "output_type": "stream",
          "name": "stderr",
          "text": [
            "/usr/local/lib/python3.7/dist-packages/sklearn/ensemble/_forest.py:756: UserWarning: class_weight presets \"balanced\" or \"balanced_subsample\" are not recommended for warm_start if the fitted data differs from the full dataset. In order to use \"balanced\" weights, use compute_class_weight (\"balanced\", classes, y). In place of y you can use a large enough sample of the full training set target to properly estimate the class frequency distributions. Pass the resulting weights as the class_weight parameter.\n",
            "  'class_weight presets \"balanced\" or '\n",
            "/usr/local/lib/python3.7/dist-packages/sklearn/ensemble/_forest.py:756: UserWarning: class_weight presets \"balanced\" or \"balanced_subsample\" are not recommended for warm_start if the fitted data differs from the full dataset. In order to use \"balanced\" weights, use compute_class_weight (\"balanced\", classes, y). In place of y you can use a large enough sample of the full training set target to properly estimate the class frequency distributions. Pass the resulting weights as the class_weight parameter.\n",
            "  'class_weight presets \"balanced\" or '\n"
          ]
        },
        {
          "output_type": "stream",
          "name": "stdout",
          "text": [
            "[CV 3/5] END bootstrap=False, class_weight=balanced, criterion=gini, max_depth=2, max_features=auto, warm_start=True;, score=0.400 total time=   0.1s\n",
            "[CV 4/5] END bootstrap=False, class_weight=balanced, criterion=gini, max_depth=2, max_features=auto, warm_start=True;, score=0.600 total time=   0.1s\n"
          ]
        },
        {
          "output_type": "stream",
          "name": "stderr",
          "text": [
            "/usr/local/lib/python3.7/dist-packages/sklearn/ensemble/_forest.py:756: UserWarning: class_weight presets \"balanced\" or \"balanced_subsample\" are not recommended for warm_start if the fitted data differs from the full dataset. In order to use \"balanced\" weights, use compute_class_weight (\"balanced\", classes, y). In place of y you can use a large enough sample of the full training set target to properly estimate the class frequency distributions. Pass the resulting weights as the class_weight parameter.\n",
            "  'class_weight presets \"balanced\" or '\n"
          ]
        },
        {
          "output_type": "stream",
          "name": "stdout",
          "text": [
            "[CV 5/5] END bootstrap=False, class_weight=balanced, criterion=gini, max_depth=2, max_features=auto, warm_start=True;, score=0.300 total time=   0.1s\n",
            "[CV 1/5] END bootstrap=False, class_weight=balanced, criterion=gini, max_depth=2, max_features=sqrt, warm_start=False;, score=0.450 total time=   0.1s\n",
            "[CV 2/5] END bootstrap=False, class_weight=balanced, criterion=gini, max_depth=2, max_features=sqrt, warm_start=False;, score=0.400 total time=   0.1s\n",
            "[CV 3/5] END bootstrap=False, class_weight=balanced, criterion=gini, max_depth=2, max_features=sqrt, warm_start=False;, score=0.400 total time=   0.1s\n",
            "[CV 4/5] END bootstrap=False, class_weight=balanced, criterion=gini, max_depth=2, max_features=sqrt, warm_start=False;, score=0.500 total time=   0.1s\n",
            "[CV 5/5] END bootstrap=False, class_weight=balanced, criterion=gini, max_depth=2, max_features=sqrt, warm_start=False;, score=0.350 total time=   0.1s\n"
          ]
        },
        {
          "output_type": "stream",
          "name": "stderr",
          "text": [
            "/usr/local/lib/python3.7/dist-packages/sklearn/ensemble/_forest.py:756: UserWarning: class_weight presets \"balanced\" or \"balanced_subsample\" are not recommended for warm_start if the fitted data differs from the full dataset. In order to use \"balanced\" weights, use compute_class_weight (\"balanced\", classes, y). In place of y you can use a large enough sample of the full training set target to properly estimate the class frequency distributions. Pass the resulting weights as the class_weight parameter.\n",
            "  'class_weight presets \"balanced\" or '\n",
            "/usr/local/lib/python3.7/dist-packages/sklearn/ensemble/_forest.py:756: UserWarning: class_weight presets \"balanced\" or \"balanced_subsample\" are not recommended for warm_start if the fitted data differs from the full dataset. In order to use \"balanced\" weights, use compute_class_weight (\"balanced\", classes, y). In place of y you can use a large enough sample of the full training set target to properly estimate the class frequency distributions. Pass the resulting weights as the class_weight parameter.\n",
            "  'class_weight presets \"balanced\" or '\n"
          ]
        },
        {
          "output_type": "stream",
          "name": "stdout",
          "text": [
            "[CV 1/5] END bootstrap=False, class_weight=balanced, criterion=gini, max_depth=2, max_features=sqrt, warm_start=True;, score=0.400 total time=   0.1s\n",
            "[CV 2/5] END bootstrap=False, class_weight=balanced, criterion=gini, max_depth=2, max_features=sqrt, warm_start=True;, score=0.400 total time=   0.1s\n"
          ]
        },
        {
          "output_type": "stream",
          "name": "stderr",
          "text": [
            "/usr/local/lib/python3.7/dist-packages/sklearn/ensemble/_forest.py:756: UserWarning: class_weight presets \"balanced\" or \"balanced_subsample\" are not recommended for warm_start if the fitted data differs from the full dataset. In order to use \"balanced\" weights, use compute_class_weight (\"balanced\", classes, y). In place of y you can use a large enough sample of the full training set target to properly estimate the class frequency distributions. Pass the resulting weights as the class_weight parameter.\n",
            "  'class_weight presets \"balanced\" or '\n",
            "/usr/local/lib/python3.7/dist-packages/sklearn/ensemble/_forest.py:756: UserWarning: class_weight presets \"balanced\" or \"balanced_subsample\" are not recommended for warm_start if the fitted data differs from the full dataset. In order to use \"balanced\" weights, use compute_class_weight (\"balanced\", classes, y). In place of y you can use a large enough sample of the full training set target to properly estimate the class frequency distributions. Pass the resulting weights as the class_weight parameter.\n",
            "  'class_weight presets \"balanced\" or '\n"
          ]
        },
        {
          "output_type": "stream",
          "name": "stdout",
          "text": [
            "[CV 3/5] END bootstrap=False, class_weight=balanced, criterion=gini, max_depth=2, max_features=sqrt, warm_start=True;, score=0.400 total time=   0.1s\n",
            "[CV 4/5] END bootstrap=False, class_weight=balanced, criterion=gini, max_depth=2, max_features=sqrt, warm_start=True;, score=0.550 total time=   0.1s\n"
          ]
        },
        {
          "output_type": "stream",
          "name": "stderr",
          "text": [
            "/usr/local/lib/python3.7/dist-packages/sklearn/ensemble/_forest.py:756: UserWarning: class_weight presets \"balanced\" or \"balanced_subsample\" are not recommended for warm_start if the fitted data differs from the full dataset. In order to use \"balanced\" weights, use compute_class_weight (\"balanced\", classes, y). In place of y you can use a large enough sample of the full training set target to properly estimate the class frequency distributions. Pass the resulting weights as the class_weight parameter.\n",
            "  'class_weight presets \"balanced\" or '\n"
          ]
        },
        {
          "output_type": "stream",
          "name": "stdout",
          "text": [
            "[CV 5/5] END bootstrap=False, class_weight=balanced, criterion=gini, max_depth=2, max_features=sqrt, warm_start=True;, score=0.350 total time=   0.1s\n",
            "[CV 1/5] END bootstrap=False, class_weight=balanced, criterion=gini, max_depth=2, max_features=log2, warm_start=False;, score=0.400 total time=   0.1s\n",
            "[CV 2/5] END bootstrap=False, class_weight=balanced, criterion=gini, max_depth=2, max_features=log2, warm_start=False;, score=0.300 total time=   0.1s\n",
            "[CV 3/5] END bootstrap=False, class_weight=balanced, criterion=gini, max_depth=2, max_features=log2, warm_start=False;, score=0.400 total time=   0.1s\n",
            "[CV 4/5] END bootstrap=False, class_weight=balanced, criterion=gini, max_depth=2, max_features=log2, warm_start=False;, score=0.500 total time=   0.1s\n",
            "[CV 5/5] END bootstrap=False, class_weight=balanced, criterion=gini, max_depth=2, max_features=log2, warm_start=False;, score=0.350 total time=   0.1s\n"
          ]
        },
        {
          "output_type": "stream",
          "name": "stderr",
          "text": [
            "/usr/local/lib/python3.7/dist-packages/sklearn/ensemble/_forest.py:756: UserWarning: class_weight presets \"balanced\" or \"balanced_subsample\" are not recommended for warm_start if the fitted data differs from the full dataset. In order to use \"balanced\" weights, use compute_class_weight (\"balanced\", classes, y). In place of y you can use a large enough sample of the full training set target to properly estimate the class frequency distributions. Pass the resulting weights as the class_weight parameter.\n",
            "  'class_weight presets \"balanced\" or '\n",
            "/usr/local/lib/python3.7/dist-packages/sklearn/ensemble/_forest.py:756: UserWarning: class_weight presets \"balanced\" or \"balanced_subsample\" are not recommended for warm_start if the fitted data differs from the full dataset. In order to use \"balanced\" weights, use compute_class_weight (\"balanced\", classes, y). In place of y you can use a large enough sample of the full training set target to properly estimate the class frequency distributions. Pass the resulting weights as the class_weight parameter.\n",
            "  'class_weight presets \"balanced\" or '\n"
          ]
        },
        {
          "output_type": "stream",
          "name": "stdout",
          "text": [
            "[CV 1/5] END bootstrap=False, class_weight=balanced, criterion=gini, max_depth=2, max_features=log2, warm_start=True;, score=0.350 total time=   0.1s\n",
            "[CV 2/5] END bootstrap=False, class_weight=balanced, criterion=gini, max_depth=2, max_features=log2, warm_start=True;, score=0.400 total time=   0.1s\n"
          ]
        },
        {
          "output_type": "stream",
          "name": "stderr",
          "text": [
            "/usr/local/lib/python3.7/dist-packages/sklearn/ensemble/_forest.py:756: UserWarning: class_weight presets \"balanced\" or \"balanced_subsample\" are not recommended for warm_start if the fitted data differs from the full dataset. In order to use \"balanced\" weights, use compute_class_weight (\"balanced\", classes, y). In place of y you can use a large enough sample of the full training set target to properly estimate the class frequency distributions. Pass the resulting weights as the class_weight parameter.\n",
            "  'class_weight presets \"balanced\" or '\n",
            "/usr/local/lib/python3.7/dist-packages/sklearn/ensemble/_forest.py:756: UserWarning: class_weight presets \"balanced\" or \"balanced_subsample\" are not recommended for warm_start if the fitted data differs from the full dataset. In order to use \"balanced\" weights, use compute_class_weight (\"balanced\", classes, y). In place of y you can use a large enough sample of the full training set target to properly estimate the class frequency distributions. Pass the resulting weights as the class_weight parameter.\n",
            "  'class_weight presets \"balanced\" or '\n"
          ]
        },
        {
          "output_type": "stream",
          "name": "stdout",
          "text": [
            "[CV 3/5] END bootstrap=False, class_weight=balanced, criterion=gini, max_depth=2, max_features=log2, warm_start=True;, score=0.400 total time=   0.1s\n",
            "[CV 4/5] END bootstrap=False, class_weight=balanced, criterion=gini, max_depth=2, max_features=log2, warm_start=True;, score=0.450 total time=   0.1s\n"
          ]
        },
        {
          "output_type": "stream",
          "name": "stderr",
          "text": [
            "/usr/local/lib/python3.7/dist-packages/sklearn/ensemble/_forest.py:756: UserWarning: class_weight presets \"balanced\" or \"balanced_subsample\" are not recommended for warm_start if the fitted data differs from the full dataset. In order to use \"balanced\" weights, use compute_class_weight (\"balanced\", classes, y). In place of y you can use a large enough sample of the full training set target to properly estimate the class frequency distributions. Pass the resulting weights as the class_weight parameter.\n",
            "  'class_weight presets \"balanced\" or '\n"
          ]
        },
        {
          "output_type": "stream",
          "name": "stdout",
          "text": [
            "[CV 5/5] END bootstrap=False, class_weight=balanced, criterion=gini, max_depth=2, max_features=log2, warm_start=True;, score=0.250 total time=   0.1s\n",
            "[CV 1/5] END bootstrap=False, class_weight=balanced, criterion=gini, max_depth=3, max_features=auto, warm_start=False;, score=0.450 total time=   0.1s\n",
            "[CV 2/5] END bootstrap=False, class_weight=balanced, criterion=gini, max_depth=3, max_features=auto, warm_start=False;, score=0.400 total time=   0.1s\n",
            "[CV 3/5] END bootstrap=False, class_weight=balanced, criterion=gini, max_depth=3, max_features=auto, warm_start=False;, score=0.450 total time=   0.1s\n",
            "[CV 4/5] END bootstrap=False, class_weight=balanced, criterion=gini, max_depth=3, max_features=auto, warm_start=False;, score=0.400 total time=   0.1s\n",
            "[CV 5/5] END bootstrap=False, class_weight=balanced, criterion=gini, max_depth=3, max_features=auto, warm_start=False;, score=0.450 total time=   0.1s\n"
          ]
        },
        {
          "output_type": "stream",
          "name": "stderr",
          "text": [
            "/usr/local/lib/python3.7/dist-packages/sklearn/ensemble/_forest.py:756: UserWarning: class_weight presets \"balanced\" or \"balanced_subsample\" are not recommended for warm_start if the fitted data differs from the full dataset. In order to use \"balanced\" weights, use compute_class_weight (\"balanced\", classes, y). In place of y you can use a large enough sample of the full training set target to properly estimate the class frequency distributions. Pass the resulting weights as the class_weight parameter.\n",
            "  'class_weight presets \"balanced\" or '\n",
            "/usr/local/lib/python3.7/dist-packages/sklearn/ensemble/_forest.py:756: UserWarning: class_weight presets \"balanced\" or \"balanced_subsample\" are not recommended for warm_start if the fitted data differs from the full dataset. In order to use \"balanced\" weights, use compute_class_weight (\"balanced\", classes, y). In place of y you can use a large enough sample of the full training set target to properly estimate the class frequency distributions. Pass the resulting weights as the class_weight parameter.\n",
            "  'class_weight presets \"balanced\" or '\n"
          ]
        },
        {
          "output_type": "stream",
          "name": "stdout",
          "text": [
            "[CV 1/5] END bootstrap=False, class_weight=balanced, criterion=gini, max_depth=3, max_features=auto, warm_start=True;, score=0.350 total time=   0.1s\n",
            "[CV 2/5] END bootstrap=False, class_weight=balanced, criterion=gini, max_depth=3, max_features=auto, warm_start=True;, score=0.450 total time=   0.1s\n"
          ]
        },
        {
          "output_type": "stream",
          "name": "stderr",
          "text": [
            "/usr/local/lib/python3.7/dist-packages/sklearn/ensemble/_forest.py:756: UserWarning: class_weight presets \"balanced\" or \"balanced_subsample\" are not recommended for warm_start if the fitted data differs from the full dataset. In order to use \"balanced\" weights, use compute_class_weight (\"balanced\", classes, y). In place of y you can use a large enough sample of the full training set target to properly estimate the class frequency distributions. Pass the resulting weights as the class_weight parameter.\n",
            "  'class_weight presets \"balanced\" or '\n",
            "/usr/local/lib/python3.7/dist-packages/sklearn/ensemble/_forest.py:756: UserWarning: class_weight presets \"balanced\" or \"balanced_subsample\" are not recommended for warm_start if the fitted data differs from the full dataset. In order to use \"balanced\" weights, use compute_class_weight (\"balanced\", classes, y). In place of y you can use a large enough sample of the full training set target to properly estimate the class frequency distributions. Pass the resulting weights as the class_weight parameter.\n",
            "  'class_weight presets \"balanced\" or '\n"
          ]
        },
        {
          "output_type": "stream",
          "name": "stdout",
          "text": [
            "[CV 3/5] END bootstrap=False, class_weight=balanced, criterion=gini, max_depth=3, max_features=auto, warm_start=True;, score=0.400 total time=   0.1s\n",
            "[CV 4/5] END bootstrap=False, class_weight=balanced, criterion=gini, max_depth=3, max_features=auto, warm_start=True;, score=0.550 total time=   0.1s\n"
          ]
        },
        {
          "output_type": "stream",
          "name": "stderr",
          "text": [
            "/usr/local/lib/python3.7/dist-packages/sklearn/ensemble/_forest.py:756: UserWarning: class_weight presets \"balanced\" or \"balanced_subsample\" are not recommended for warm_start if the fitted data differs from the full dataset. In order to use \"balanced\" weights, use compute_class_weight (\"balanced\", classes, y). In place of y you can use a large enough sample of the full training set target to properly estimate the class frequency distributions. Pass the resulting weights as the class_weight parameter.\n",
            "  'class_weight presets \"balanced\" or '\n"
          ]
        },
        {
          "output_type": "stream",
          "name": "stdout",
          "text": [
            "[CV 5/5] END bootstrap=False, class_weight=balanced, criterion=gini, max_depth=3, max_features=auto, warm_start=True;, score=0.400 total time=   0.1s\n",
            "[CV 1/5] END bootstrap=False, class_weight=balanced, criterion=gini, max_depth=3, max_features=sqrt, warm_start=False;, score=0.500 total time=   0.1s\n",
            "[CV 2/5] END bootstrap=False, class_weight=balanced, criterion=gini, max_depth=3, max_features=sqrt, warm_start=False;, score=0.500 total time=   0.1s\n",
            "[CV 3/5] END bootstrap=False, class_weight=balanced, criterion=gini, max_depth=3, max_features=sqrt, warm_start=False;, score=0.400 total time=   0.1s\n",
            "[CV 4/5] END bootstrap=False, class_weight=balanced, criterion=gini, max_depth=3, max_features=sqrt, warm_start=False;, score=0.450 total time=   0.1s\n",
            "[CV 5/5] END bootstrap=False, class_weight=balanced, criterion=gini, max_depth=3, max_features=sqrt, warm_start=False;, score=0.400 total time=   0.1s\n"
          ]
        },
        {
          "output_type": "stream",
          "name": "stderr",
          "text": [
            "/usr/local/lib/python3.7/dist-packages/sklearn/ensemble/_forest.py:756: UserWarning: class_weight presets \"balanced\" or \"balanced_subsample\" are not recommended for warm_start if the fitted data differs from the full dataset. In order to use \"balanced\" weights, use compute_class_weight (\"balanced\", classes, y). In place of y you can use a large enough sample of the full training set target to properly estimate the class frequency distributions. Pass the resulting weights as the class_weight parameter.\n",
            "  'class_weight presets \"balanced\" or '\n",
            "/usr/local/lib/python3.7/dist-packages/sklearn/ensemble/_forest.py:756: UserWarning: class_weight presets \"balanced\" or \"balanced_subsample\" are not recommended for warm_start if the fitted data differs from the full dataset. In order to use \"balanced\" weights, use compute_class_weight (\"balanced\", classes, y). In place of y you can use a large enough sample of the full training set target to properly estimate the class frequency distributions. Pass the resulting weights as the class_weight parameter.\n",
            "  'class_weight presets \"balanced\" or '\n"
          ]
        },
        {
          "output_type": "stream",
          "name": "stdout",
          "text": [
            "[CV 1/5] END bootstrap=False, class_weight=balanced, criterion=gini, max_depth=3, max_features=sqrt, warm_start=True;, score=0.450 total time=   0.1s\n",
            "[CV 2/5] END bootstrap=False, class_weight=balanced, criterion=gini, max_depth=3, max_features=sqrt, warm_start=True;, score=0.500 total time=   0.1s\n"
          ]
        },
        {
          "output_type": "stream",
          "name": "stderr",
          "text": [
            "/usr/local/lib/python3.7/dist-packages/sklearn/ensemble/_forest.py:756: UserWarning: class_weight presets \"balanced\" or \"balanced_subsample\" are not recommended for warm_start if the fitted data differs from the full dataset. In order to use \"balanced\" weights, use compute_class_weight (\"balanced\", classes, y). In place of y you can use a large enough sample of the full training set target to properly estimate the class frequency distributions. Pass the resulting weights as the class_weight parameter.\n",
            "  'class_weight presets \"balanced\" or '\n",
            "/usr/local/lib/python3.7/dist-packages/sklearn/ensemble/_forest.py:756: UserWarning: class_weight presets \"balanced\" or \"balanced_subsample\" are not recommended for warm_start if the fitted data differs from the full dataset. In order to use \"balanced\" weights, use compute_class_weight (\"balanced\", classes, y). In place of y you can use a large enough sample of the full training set target to properly estimate the class frequency distributions. Pass the resulting weights as the class_weight parameter.\n",
            "  'class_weight presets \"balanced\" or '\n"
          ]
        },
        {
          "output_type": "stream",
          "name": "stdout",
          "text": [
            "[CV 3/5] END bootstrap=False, class_weight=balanced, criterion=gini, max_depth=3, max_features=sqrt, warm_start=True;, score=0.450 total time=   0.1s\n",
            "[CV 4/5] END bootstrap=False, class_weight=balanced, criterion=gini, max_depth=3, max_features=sqrt, warm_start=True;, score=0.400 total time=   0.1s\n"
          ]
        },
        {
          "output_type": "stream",
          "name": "stderr",
          "text": [
            "/usr/local/lib/python3.7/dist-packages/sklearn/ensemble/_forest.py:756: UserWarning: class_weight presets \"balanced\" or \"balanced_subsample\" are not recommended for warm_start if the fitted data differs from the full dataset. In order to use \"balanced\" weights, use compute_class_weight (\"balanced\", classes, y). In place of y you can use a large enough sample of the full training set target to properly estimate the class frequency distributions. Pass the resulting weights as the class_weight parameter.\n",
            "  'class_weight presets \"balanced\" or '\n"
          ]
        },
        {
          "output_type": "stream",
          "name": "stdout",
          "text": [
            "[CV 5/5] END bootstrap=False, class_weight=balanced, criterion=gini, max_depth=3, max_features=sqrt, warm_start=True;, score=0.350 total time=   0.1s\n",
            "[CV 1/5] END bootstrap=False, class_weight=balanced, criterion=gini, max_depth=3, max_features=log2, warm_start=False;, score=0.400 total time=   0.1s\n",
            "[CV 2/5] END bootstrap=False, class_weight=balanced, criterion=gini, max_depth=3, max_features=log2, warm_start=False;, score=0.500 total time=   0.1s\n",
            "[CV 3/5] END bootstrap=False, class_weight=balanced, criterion=gini, max_depth=3, max_features=log2, warm_start=False;, score=0.450 total time=   0.1s\n",
            "[CV 4/5] END bootstrap=False, class_weight=balanced, criterion=gini, max_depth=3, max_features=log2, warm_start=False;, score=0.450 total time=   0.1s\n",
            "[CV 5/5] END bootstrap=False, class_weight=balanced, criterion=gini, max_depth=3, max_features=log2, warm_start=False;, score=0.400 total time=   0.1s\n"
          ]
        },
        {
          "output_type": "stream",
          "name": "stderr",
          "text": [
            "/usr/local/lib/python3.7/dist-packages/sklearn/ensemble/_forest.py:756: UserWarning: class_weight presets \"balanced\" or \"balanced_subsample\" are not recommended for warm_start if the fitted data differs from the full dataset. In order to use \"balanced\" weights, use compute_class_weight (\"balanced\", classes, y). In place of y you can use a large enough sample of the full training set target to properly estimate the class frequency distributions. Pass the resulting weights as the class_weight parameter.\n",
            "  'class_weight presets \"balanced\" or '\n",
            "/usr/local/lib/python3.7/dist-packages/sklearn/ensemble/_forest.py:756: UserWarning: class_weight presets \"balanced\" or \"balanced_subsample\" are not recommended for warm_start if the fitted data differs from the full dataset. In order to use \"balanced\" weights, use compute_class_weight (\"balanced\", classes, y). In place of y you can use a large enough sample of the full training set target to properly estimate the class frequency distributions. Pass the resulting weights as the class_weight parameter.\n",
            "  'class_weight presets \"balanced\" or '\n"
          ]
        },
        {
          "output_type": "stream",
          "name": "stdout",
          "text": [
            "[CV 1/5] END bootstrap=False, class_weight=balanced, criterion=gini, max_depth=3, max_features=log2, warm_start=True;, score=0.400 total time=   0.1s\n",
            "[CV 2/5] END bootstrap=False, class_weight=balanced, criterion=gini, max_depth=3, max_features=log2, warm_start=True;, score=0.500 total time=   0.1s\n"
          ]
        },
        {
          "output_type": "stream",
          "name": "stderr",
          "text": [
            "/usr/local/lib/python3.7/dist-packages/sklearn/ensemble/_forest.py:756: UserWarning: class_weight presets \"balanced\" or \"balanced_subsample\" are not recommended for warm_start if the fitted data differs from the full dataset. In order to use \"balanced\" weights, use compute_class_weight (\"balanced\", classes, y). In place of y you can use a large enough sample of the full training set target to properly estimate the class frequency distributions. Pass the resulting weights as the class_weight parameter.\n",
            "  'class_weight presets \"balanced\" or '\n",
            "/usr/local/lib/python3.7/dist-packages/sklearn/ensemble/_forest.py:756: UserWarning: class_weight presets \"balanced\" or \"balanced_subsample\" are not recommended for warm_start if the fitted data differs from the full dataset. In order to use \"balanced\" weights, use compute_class_weight (\"balanced\", classes, y). In place of y you can use a large enough sample of the full training set target to properly estimate the class frequency distributions. Pass the resulting weights as the class_weight parameter.\n",
            "  'class_weight presets \"balanced\" or '\n"
          ]
        },
        {
          "output_type": "stream",
          "name": "stdout",
          "text": [
            "[CV 3/5] END bootstrap=False, class_weight=balanced, criterion=gini, max_depth=3, max_features=log2, warm_start=True;, score=0.400 total time=   0.1s\n",
            "[CV 4/5] END bootstrap=False, class_weight=balanced, criterion=gini, max_depth=3, max_features=log2, warm_start=True;, score=0.450 total time=   0.1s\n"
          ]
        },
        {
          "output_type": "stream",
          "name": "stderr",
          "text": [
            "/usr/local/lib/python3.7/dist-packages/sklearn/ensemble/_forest.py:756: UserWarning: class_weight presets \"balanced\" or \"balanced_subsample\" are not recommended for warm_start if the fitted data differs from the full dataset. In order to use \"balanced\" weights, use compute_class_weight (\"balanced\", classes, y). In place of y you can use a large enough sample of the full training set target to properly estimate the class frequency distributions. Pass the resulting weights as the class_weight parameter.\n",
            "  'class_weight presets \"balanced\" or '\n"
          ]
        },
        {
          "output_type": "stream",
          "name": "stdout",
          "text": [
            "[CV 5/5] END bootstrap=False, class_weight=balanced, criterion=gini, max_depth=3, max_features=log2, warm_start=True;, score=0.300 total time=   0.1s\n",
            "[CV 1/5] END bootstrap=False, class_weight=balanced, criterion=gini, max_depth=5, max_features=auto, warm_start=False;, score=0.400 total time=   0.1s\n",
            "[CV 2/5] END bootstrap=False, class_weight=balanced, criterion=gini, max_depth=5, max_features=auto, warm_start=False;, score=0.550 total time=   0.1s\n",
            "[CV 3/5] END bootstrap=False, class_weight=balanced, criterion=gini, max_depth=5, max_features=auto, warm_start=False;, score=0.500 total time=   0.1s\n",
            "[CV 4/5] END bootstrap=False, class_weight=balanced, criterion=gini, max_depth=5, max_features=auto, warm_start=False;, score=0.450 total time=   0.1s\n",
            "[CV 5/5] END bootstrap=False, class_weight=balanced, criterion=gini, max_depth=5, max_features=auto, warm_start=False;, score=0.450 total time=   0.1s\n"
          ]
        },
        {
          "output_type": "stream",
          "name": "stderr",
          "text": [
            "/usr/local/lib/python3.7/dist-packages/sklearn/ensemble/_forest.py:756: UserWarning: class_weight presets \"balanced\" or \"balanced_subsample\" are not recommended for warm_start if the fitted data differs from the full dataset. In order to use \"balanced\" weights, use compute_class_weight (\"balanced\", classes, y). In place of y you can use a large enough sample of the full training set target to properly estimate the class frequency distributions. Pass the resulting weights as the class_weight parameter.\n",
            "  'class_weight presets \"balanced\" or '\n",
            "/usr/local/lib/python3.7/dist-packages/sklearn/ensemble/_forest.py:756: UserWarning: class_weight presets \"balanced\" or \"balanced_subsample\" are not recommended for warm_start if the fitted data differs from the full dataset. In order to use \"balanced\" weights, use compute_class_weight (\"balanced\", classes, y). In place of y you can use a large enough sample of the full training set target to properly estimate the class frequency distributions. Pass the resulting weights as the class_weight parameter.\n",
            "  'class_weight presets \"balanced\" or '\n"
          ]
        },
        {
          "output_type": "stream",
          "name": "stdout",
          "text": [
            "[CV 1/5] END bootstrap=False, class_weight=balanced, criterion=gini, max_depth=5, max_features=auto, warm_start=True;, score=0.400 total time=   0.1s\n",
            "[CV 2/5] END bootstrap=False, class_weight=balanced, criterion=gini, max_depth=5, max_features=auto, warm_start=True;, score=0.450 total time=   0.1s\n"
          ]
        },
        {
          "output_type": "stream",
          "name": "stderr",
          "text": [
            "/usr/local/lib/python3.7/dist-packages/sklearn/ensemble/_forest.py:756: UserWarning: class_weight presets \"balanced\" or \"balanced_subsample\" are not recommended for warm_start if the fitted data differs from the full dataset. In order to use \"balanced\" weights, use compute_class_weight (\"balanced\", classes, y). In place of y you can use a large enough sample of the full training set target to properly estimate the class frequency distributions. Pass the resulting weights as the class_weight parameter.\n",
            "  'class_weight presets \"balanced\" or '\n",
            "/usr/local/lib/python3.7/dist-packages/sklearn/ensemble/_forest.py:756: UserWarning: class_weight presets \"balanced\" or \"balanced_subsample\" are not recommended for warm_start if the fitted data differs from the full dataset. In order to use \"balanced\" weights, use compute_class_weight (\"balanced\", classes, y). In place of y you can use a large enough sample of the full training set target to properly estimate the class frequency distributions. Pass the resulting weights as the class_weight parameter.\n",
            "  'class_weight presets \"balanced\" or '\n"
          ]
        },
        {
          "output_type": "stream",
          "name": "stdout",
          "text": [
            "[CV 3/5] END bootstrap=False, class_weight=balanced, criterion=gini, max_depth=5, max_features=auto, warm_start=True;, score=0.450 total time=   0.1s\n",
            "[CV 4/5] END bootstrap=False, class_weight=balanced, criterion=gini, max_depth=5, max_features=auto, warm_start=True;, score=0.500 total time=   0.1s\n"
          ]
        },
        {
          "output_type": "stream",
          "name": "stderr",
          "text": [
            "/usr/local/lib/python3.7/dist-packages/sklearn/ensemble/_forest.py:756: UserWarning: class_weight presets \"balanced\" or \"balanced_subsample\" are not recommended for warm_start if the fitted data differs from the full dataset. In order to use \"balanced\" weights, use compute_class_weight (\"balanced\", classes, y). In place of y you can use a large enough sample of the full training set target to properly estimate the class frequency distributions. Pass the resulting weights as the class_weight parameter.\n",
            "  'class_weight presets \"balanced\" or '\n"
          ]
        },
        {
          "output_type": "stream",
          "name": "stdout",
          "text": [
            "[CV 5/5] END bootstrap=False, class_weight=balanced, criterion=gini, max_depth=5, max_features=auto, warm_start=True;, score=0.450 total time=   0.1s\n",
            "[CV 1/5] END bootstrap=False, class_weight=balanced, criterion=gini, max_depth=5, max_features=sqrt, warm_start=False;, score=0.400 total time=   0.1s\n",
            "[CV 2/5] END bootstrap=False, class_weight=balanced, criterion=gini, max_depth=5, max_features=sqrt, warm_start=False;, score=0.500 total time=   0.1s\n",
            "[CV 3/5] END bootstrap=False, class_weight=balanced, criterion=gini, max_depth=5, max_features=sqrt, warm_start=False;, score=0.450 total time=   0.1s\n",
            "[CV 4/5] END bootstrap=False, class_weight=balanced, criterion=gini, max_depth=5, max_features=sqrt, warm_start=False;, score=0.450 total time=   0.1s\n",
            "[CV 5/5] END bootstrap=False, class_weight=balanced, criterion=gini, max_depth=5, max_features=sqrt, warm_start=False;, score=0.400 total time=   0.1s\n"
          ]
        },
        {
          "output_type": "stream",
          "name": "stderr",
          "text": [
            "/usr/local/lib/python3.7/dist-packages/sklearn/ensemble/_forest.py:756: UserWarning: class_weight presets \"balanced\" or \"balanced_subsample\" are not recommended for warm_start if the fitted data differs from the full dataset. In order to use \"balanced\" weights, use compute_class_weight (\"balanced\", classes, y). In place of y you can use a large enough sample of the full training set target to properly estimate the class frequency distributions. Pass the resulting weights as the class_weight parameter.\n",
            "  'class_weight presets \"balanced\" or '\n",
            "/usr/local/lib/python3.7/dist-packages/sklearn/ensemble/_forest.py:756: UserWarning: class_weight presets \"balanced\" or \"balanced_subsample\" are not recommended for warm_start if the fitted data differs from the full dataset. In order to use \"balanced\" weights, use compute_class_weight (\"balanced\", classes, y). In place of y you can use a large enough sample of the full training set target to properly estimate the class frequency distributions. Pass the resulting weights as the class_weight parameter.\n",
            "  'class_weight presets \"balanced\" or '\n"
          ]
        },
        {
          "output_type": "stream",
          "name": "stdout",
          "text": [
            "[CV 1/5] END bootstrap=False, class_weight=balanced, criterion=gini, max_depth=5, max_features=sqrt, warm_start=True;, score=0.500 total time=   0.1s\n",
            "[CV 2/5] END bootstrap=False, class_weight=balanced, criterion=gini, max_depth=5, max_features=sqrt, warm_start=True;, score=0.550 total time=   0.1s\n"
          ]
        },
        {
          "output_type": "stream",
          "name": "stderr",
          "text": [
            "/usr/local/lib/python3.7/dist-packages/sklearn/ensemble/_forest.py:756: UserWarning: class_weight presets \"balanced\" or \"balanced_subsample\" are not recommended for warm_start if the fitted data differs from the full dataset. In order to use \"balanced\" weights, use compute_class_weight (\"balanced\", classes, y). In place of y you can use a large enough sample of the full training set target to properly estimate the class frequency distributions. Pass the resulting weights as the class_weight parameter.\n",
            "  'class_weight presets \"balanced\" or '\n",
            "/usr/local/lib/python3.7/dist-packages/sklearn/ensemble/_forest.py:756: UserWarning: class_weight presets \"balanced\" or \"balanced_subsample\" are not recommended for warm_start if the fitted data differs from the full dataset. In order to use \"balanced\" weights, use compute_class_weight (\"balanced\", classes, y). In place of y you can use a large enough sample of the full training set target to properly estimate the class frequency distributions. Pass the resulting weights as the class_weight parameter.\n",
            "  'class_weight presets \"balanced\" or '\n"
          ]
        },
        {
          "output_type": "stream",
          "name": "stdout",
          "text": [
            "[CV 3/5] END bootstrap=False, class_weight=balanced, criterion=gini, max_depth=5, max_features=sqrt, warm_start=True;, score=0.400 total time=   0.1s\n",
            "[CV 4/5] END bootstrap=False, class_weight=balanced, criterion=gini, max_depth=5, max_features=sqrt, warm_start=True;, score=0.400 total time=   0.1s\n"
          ]
        },
        {
          "output_type": "stream",
          "name": "stderr",
          "text": [
            "/usr/local/lib/python3.7/dist-packages/sklearn/ensemble/_forest.py:756: UserWarning: class_weight presets \"balanced\" or \"balanced_subsample\" are not recommended for warm_start if the fitted data differs from the full dataset. In order to use \"balanced\" weights, use compute_class_weight (\"balanced\", classes, y). In place of y you can use a large enough sample of the full training set target to properly estimate the class frequency distributions. Pass the resulting weights as the class_weight parameter.\n",
            "  'class_weight presets \"balanced\" or '\n"
          ]
        },
        {
          "output_type": "stream",
          "name": "stdout",
          "text": [
            "[CV 5/5] END bootstrap=False, class_weight=balanced, criterion=gini, max_depth=5, max_features=sqrt, warm_start=True;, score=0.450 total time=   0.1s\n",
            "[CV 1/5] END bootstrap=False, class_weight=balanced, criterion=gini, max_depth=5, max_features=log2, warm_start=False;, score=0.500 total time=   0.1s\n",
            "[CV 2/5] END bootstrap=False, class_weight=balanced, criterion=gini, max_depth=5, max_features=log2, warm_start=False;, score=0.450 total time=   0.1s\n",
            "[CV 3/5] END bootstrap=False, class_weight=balanced, criterion=gini, max_depth=5, max_features=log2, warm_start=False;, score=0.450 total time=   0.1s\n",
            "[CV 4/5] END bootstrap=False, class_weight=balanced, criterion=gini, max_depth=5, max_features=log2, warm_start=False;, score=0.400 total time=   0.1s\n",
            "[CV 5/5] END bootstrap=False, class_weight=balanced, criterion=gini, max_depth=5, max_features=log2, warm_start=False;, score=0.450 total time=   0.1s\n"
          ]
        },
        {
          "output_type": "stream",
          "name": "stderr",
          "text": [
            "/usr/local/lib/python3.7/dist-packages/sklearn/ensemble/_forest.py:756: UserWarning: class_weight presets \"balanced\" or \"balanced_subsample\" are not recommended for warm_start if the fitted data differs from the full dataset. In order to use \"balanced\" weights, use compute_class_weight (\"balanced\", classes, y). In place of y you can use a large enough sample of the full training set target to properly estimate the class frequency distributions. Pass the resulting weights as the class_weight parameter.\n",
            "  'class_weight presets \"balanced\" or '\n",
            "/usr/local/lib/python3.7/dist-packages/sklearn/ensemble/_forest.py:756: UserWarning: class_weight presets \"balanced\" or \"balanced_subsample\" are not recommended for warm_start if the fitted data differs from the full dataset. In order to use \"balanced\" weights, use compute_class_weight (\"balanced\", classes, y). In place of y you can use a large enough sample of the full training set target to properly estimate the class frequency distributions. Pass the resulting weights as the class_weight parameter.\n",
            "  'class_weight presets \"balanced\" or '\n"
          ]
        },
        {
          "output_type": "stream",
          "name": "stdout",
          "text": [
            "[CV 1/5] END bootstrap=False, class_weight=balanced, criterion=gini, max_depth=5, max_features=log2, warm_start=True;, score=0.450 total time=   0.1s\n",
            "[CV 2/5] END bootstrap=False, class_weight=balanced, criterion=gini, max_depth=5, max_features=log2, warm_start=True;, score=0.450 total time=   0.1s\n"
          ]
        },
        {
          "output_type": "stream",
          "name": "stderr",
          "text": [
            "/usr/local/lib/python3.7/dist-packages/sklearn/ensemble/_forest.py:756: UserWarning: class_weight presets \"balanced\" or \"balanced_subsample\" are not recommended for warm_start if the fitted data differs from the full dataset. In order to use \"balanced\" weights, use compute_class_weight (\"balanced\", classes, y). In place of y you can use a large enough sample of the full training set target to properly estimate the class frequency distributions. Pass the resulting weights as the class_weight parameter.\n",
            "  'class_weight presets \"balanced\" or '\n",
            "/usr/local/lib/python3.7/dist-packages/sklearn/ensemble/_forest.py:756: UserWarning: class_weight presets \"balanced\" or \"balanced_subsample\" are not recommended for warm_start if the fitted data differs from the full dataset. In order to use \"balanced\" weights, use compute_class_weight (\"balanced\", classes, y). In place of y you can use a large enough sample of the full training set target to properly estimate the class frequency distributions. Pass the resulting weights as the class_weight parameter.\n",
            "  'class_weight presets \"balanced\" or '\n"
          ]
        },
        {
          "output_type": "stream",
          "name": "stdout",
          "text": [
            "[CV 3/5] END bootstrap=False, class_weight=balanced, criterion=gini, max_depth=5, max_features=log2, warm_start=True;, score=0.450 total time=   0.1s\n",
            "[CV 4/5] END bootstrap=False, class_weight=balanced, criterion=gini, max_depth=5, max_features=log2, warm_start=True;, score=0.450 total time=   0.1s\n"
          ]
        },
        {
          "output_type": "stream",
          "name": "stderr",
          "text": [
            "/usr/local/lib/python3.7/dist-packages/sklearn/ensemble/_forest.py:756: UserWarning: class_weight presets \"balanced\" or \"balanced_subsample\" are not recommended for warm_start if the fitted data differs from the full dataset. In order to use \"balanced\" weights, use compute_class_weight (\"balanced\", classes, y). In place of y you can use a large enough sample of the full training set target to properly estimate the class frequency distributions. Pass the resulting weights as the class_weight parameter.\n",
            "  'class_weight presets \"balanced\" or '\n"
          ]
        },
        {
          "output_type": "stream",
          "name": "stdout",
          "text": [
            "[CV 5/5] END bootstrap=False, class_weight=balanced, criterion=gini, max_depth=5, max_features=log2, warm_start=True;, score=0.400 total time=   0.2s\n",
            "[CV 1/5] END bootstrap=False, class_weight=balanced, criterion=entropy, max_depth=2, max_features=auto, warm_start=False;, score=0.400 total time=   0.2s\n",
            "[CV 2/5] END bootstrap=False, class_weight=balanced, criterion=entropy, max_depth=2, max_features=auto, warm_start=False;, score=0.350 total time=   0.2s\n",
            "[CV 3/5] END bootstrap=False, class_weight=balanced, criterion=entropy, max_depth=2, max_features=auto, warm_start=False;, score=0.350 total time=   0.1s\n",
            "[CV 4/5] END bootstrap=False, class_weight=balanced, criterion=entropy, max_depth=2, max_features=auto, warm_start=False;, score=0.500 total time=   0.2s\n",
            "[CV 5/5] END bootstrap=False, class_weight=balanced, criterion=entropy, max_depth=2, max_features=auto, warm_start=False;, score=0.400 total time=   0.1s\n"
          ]
        },
        {
          "output_type": "stream",
          "name": "stderr",
          "text": [
            "/usr/local/lib/python3.7/dist-packages/sklearn/ensemble/_forest.py:756: UserWarning: class_weight presets \"balanced\" or \"balanced_subsample\" are not recommended for warm_start if the fitted data differs from the full dataset. In order to use \"balanced\" weights, use compute_class_weight (\"balanced\", classes, y). In place of y you can use a large enough sample of the full training set target to properly estimate the class frequency distributions. Pass the resulting weights as the class_weight parameter.\n",
            "  'class_weight presets \"balanced\" or '\n",
            "/usr/local/lib/python3.7/dist-packages/sklearn/ensemble/_forest.py:756: UserWarning: class_weight presets \"balanced\" or \"balanced_subsample\" are not recommended for warm_start if the fitted data differs from the full dataset. In order to use \"balanced\" weights, use compute_class_weight (\"balanced\", classes, y). In place of y you can use a large enough sample of the full training set target to properly estimate the class frequency distributions. Pass the resulting weights as the class_weight parameter.\n",
            "  'class_weight presets \"balanced\" or '\n"
          ]
        },
        {
          "output_type": "stream",
          "name": "stdout",
          "text": [
            "[CV 1/5] END bootstrap=False, class_weight=balanced, criterion=entropy, max_depth=2, max_features=auto, warm_start=True;, score=0.400 total time=   0.1s\n",
            "[CV 2/5] END bootstrap=False, class_weight=balanced, criterion=entropy, max_depth=2, max_features=auto, warm_start=True;, score=0.400 total time=   0.1s\n"
          ]
        },
        {
          "output_type": "stream",
          "name": "stderr",
          "text": [
            "/usr/local/lib/python3.7/dist-packages/sklearn/ensemble/_forest.py:756: UserWarning: class_weight presets \"balanced\" or \"balanced_subsample\" are not recommended for warm_start if the fitted data differs from the full dataset. In order to use \"balanced\" weights, use compute_class_weight (\"balanced\", classes, y). In place of y you can use a large enough sample of the full training set target to properly estimate the class frequency distributions. Pass the resulting weights as the class_weight parameter.\n",
            "  'class_weight presets \"balanced\" or '\n",
            "/usr/local/lib/python3.7/dist-packages/sklearn/ensemble/_forest.py:756: UserWarning: class_weight presets \"balanced\" or \"balanced_subsample\" are not recommended for warm_start if the fitted data differs from the full dataset. In order to use \"balanced\" weights, use compute_class_weight (\"balanced\", classes, y). In place of y you can use a large enough sample of the full training set target to properly estimate the class frequency distributions. Pass the resulting weights as the class_weight parameter.\n",
            "  'class_weight presets \"balanced\" or '\n"
          ]
        },
        {
          "output_type": "stream",
          "name": "stdout",
          "text": [
            "[CV 3/5] END bootstrap=False, class_weight=balanced, criterion=entropy, max_depth=2, max_features=auto, warm_start=True;, score=0.450 total time=   0.2s\n",
            "[CV 4/5] END bootstrap=False, class_weight=balanced, criterion=entropy, max_depth=2, max_features=auto, warm_start=True;, score=0.450 total time=   0.2s\n"
          ]
        },
        {
          "output_type": "stream",
          "name": "stderr",
          "text": [
            "/usr/local/lib/python3.7/dist-packages/sklearn/ensemble/_forest.py:756: UserWarning: class_weight presets \"balanced\" or \"balanced_subsample\" are not recommended for warm_start if the fitted data differs from the full dataset. In order to use \"balanced\" weights, use compute_class_weight (\"balanced\", classes, y). In place of y you can use a large enough sample of the full training set target to properly estimate the class frequency distributions. Pass the resulting weights as the class_weight parameter.\n",
            "  'class_weight presets \"balanced\" or '\n"
          ]
        },
        {
          "output_type": "stream",
          "name": "stdout",
          "text": [
            "[CV 5/5] END bootstrap=False, class_weight=balanced, criterion=entropy, max_depth=2, max_features=auto, warm_start=True;, score=0.350 total time=   0.1s\n",
            "[CV 1/5] END bootstrap=False, class_weight=balanced, criterion=entropy, max_depth=2, max_features=sqrt, warm_start=False;, score=0.350 total time=   0.1s\n",
            "[CV 2/5] END bootstrap=False, class_weight=balanced, criterion=entropy, max_depth=2, max_features=sqrt, warm_start=False;, score=0.300 total time=   0.1s\n",
            "[CV 3/5] END bootstrap=False, class_weight=balanced, criterion=entropy, max_depth=2, max_features=sqrt, warm_start=False;, score=0.500 total time=   0.1s\n",
            "[CV 4/5] END bootstrap=False, class_weight=balanced, criterion=entropy, max_depth=2, max_features=sqrt, warm_start=False;, score=0.400 total time=   0.2s\n",
            "[CV 5/5] END bootstrap=False, class_weight=balanced, criterion=entropy, max_depth=2, max_features=sqrt, warm_start=False;, score=0.350 total time=   0.1s\n"
          ]
        },
        {
          "output_type": "stream",
          "name": "stderr",
          "text": [
            "/usr/local/lib/python3.7/dist-packages/sklearn/ensemble/_forest.py:756: UserWarning: class_weight presets \"balanced\" or \"balanced_subsample\" are not recommended for warm_start if the fitted data differs from the full dataset. In order to use \"balanced\" weights, use compute_class_weight (\"balanced\", classes, y). In place of y you can use a large enough sample of the full training set target to properly estimate the class frequency distributions. Pass the resulting weights as the class_weight parameter.\n",
            "  'class_weight presets \"balanced\" or '\n",
            "/usr/local/lib/python3.7/dist-packages/sklearn/ensemble/_forest.py:756: UserWarning: class_weight presets \"balanced\" or \"balanced_subsample\" are not recommended for warm_start if the fitted data differs from the full dataset. In order to use \"balanced\" weights, use compute_class_weight (\"balanced\", classes, y). In place of y you can use a large enough sample of the full training set target to properly estimate the class frequency distributions. Pass the resulting weights as the class_weight parameter.\n",
            "  'class_weight presets \"balanced\" or '\n"
          ]
        },
        {
          "output_type": "stream",
          "name": "stdout",
          "text": [
            "[CV 1/5] END bootstrap=False, class_weight=balanced, criterion=entropy, max_depth=2, max_features=sqrt, warm_start=True;, score=0.400 total time=   0.1s\n",
            "[CV 2/5] END bootstrap=False, class_weight=balanced, criterion=entropy, max_depth=2, max_features=sqrt, warm_start=True;, score=0.400 total time=   0.1s\n"
          ]
        },
        {
          "output_type": "stream",
          "name": "stderr",
          "text": [
            "/usr/local/lib/python3.7/dist-packages/sklearn/ensemble/_forest.py:756: UserWarning: class_weight presets \"balanced\" or \"balanced_subsample\" are not recommended for warm_start if the fitted data differs from the full dataset. In order to use \"balanced\" weights, use compute_class_weight (\"balanced\", classes, y). In place of y you can use a large enough sample of the full training set target to properly estimate the class frequency distributions. Pass the resulting weights as the class_weight parameter.\n",
            "  'class_weight presets \"balanced\" or '\n",
            "/usr/local/lib/python3.7/dist-packages/sklearn/ensemble/_forest.py:756: UserWarning: class_weight presets \"balanced\" or \"balanced_subsample\" are not recommended for warm_start if the fitted data differs from the full dataset. In order to use \"balanced\" weights, use compute_class_weight (\"balanced\", classes, y). In place of y you can use a large enough sample of the full training set target to properly estimate the class frequency distributions. Pass the resulting weights as the class_weight parameter.\n",
            "  'class_weight presets \"balanced\" or '\n"
          ]
        },
        {
          "output_type": "stream",
          "name": "stdout",
          "text": [
            "[CV 3/5] END bootstrap=False, class_weight=balanced, criterion=entropy, max_depth=2, max_features=sqrt, warm_start=True;, score=0.400 total time=   0.1s\n",
            "[CV 4/5] END bootstrap=False, class_weight=balanced, criterion=entropy, max_depth=2, max_features=sqrt, warm_start=True;, score=0.450 total time=   0.2s\n"
          ]
        },
        {
          "output_type": "stream",
          "name": "stderr",
          "text": [
            "/usr/local/lib/python3.7/dist-packages/sklearn/ensemble/_forest.py:756: UserWarning: class_weight presets \"balanced\" or \"balanced_subsample\" are not recommended for warm_start if the fitted data differs from the full dataset. In order to use \"balanced\" weights, use compute_class_weight (\"balanced\", classes, y). In place of y you can use a large enough sample of the full training set target to properly estimate the class frequency distributions. Pass the resulting weights as the class_weight parameter.\n",
            "  'class_weight presets \"balanced\" or '\n"
          ]
        },
        {
          "output_type": "stream",
          "name": "stdout",
          "text": [
            "[CV 5/5] END bootstrap=False, class_weight=balanced, criterion=entropy, max_depth=2, max_features=sqrt, warm_start=True;, score=0.350 total time=   0.1s\n",
            "[CV 1/5] END bootstrap=False, class_weight=balanced, criterion=entropy, max_depth=2, max_features=log2, warm_start=False;, score=0.300 total time=   0.1s\n",
            "[CV 2/5] END bootstrap=False, class_weight=balanced, criterion=entropy, max_depth=2, max_features=log2, warm_start=False;, score=0.450 total time=   0.2s\n",
            "[CV 3/5] END bootstrap=False, class_weight=balanced, criterion=entropy, max_depth=2, max_features=log2, warm_start=False;, score=0.400 total time=   0.2s\n",
            "[CV 4/5] END bootstrap=False, class_weight=balanced, criterion=entropy, max_depth=2, max_features=log2, warm_start=False;, score=0.500 total time=   0.2s\n",
            "[CV 5/5] END bootstrap=False, class_weight=balanced, criterion=entropy, max_depth=2, max_features=log2, warm_start=False;, score=0.350 total time=   0.1s\n"
          ]
        },
        {
          "output_type": "stream",
          "name": "stderr",
          "text": [
            "/usr/local/lib/python3.7/dist-packages/sklearn/ensemble/_forest.py:756: UserWarning: class_weight presets \"balanced\" or \"balanced_subsample\" are not recommended for warm_start if the fitted data differs from the full dataset. In order to use \"balanced\" weights, use compute_class_weight (\"balanced\", classes, y). In place of y you can use a large enough sample of the full training set target to properly estimate the class frequency distributions. Pass the resulting weights as the class_weight parameter.\n",
            "  'class_weight presets \"balanced\" or '\n",
            "/usr/local/lib/python3.7/dist-packages/sklearn/ensemble/_forest.py:756: UserWarning: class_weight presets \"balanced\" or \"balanced_subsample\" are not recommended for warm_start if the fitted data differs from the full dataset. In order to use \"balanced\" weights, use compute_class_weight (\"balanced\", classes, y). In place of y you can use a large enough sample of the full training set target to properly estimate the class frequency distributions. Pass the resulting weights as the class_weight parameter.\n",
            "  'class_weight presets \"balanced\" or '\n"
          ]
        },
        {
          "output_type": "stream",
          "name": "stdout",
          "text": [
            "[CV 1/5] END bootstrap=False, class_weight=balanced, criterion=entropy, max_depth=2, max_features=log2, warm_start=True;, score=0.400 total time=   0.2s\n",
            "[CV 2/5] END bootstrap=False, class_weight=balanced, criterion=entropy, max_depth=2, max_features=log2, warm_start=True;, score=0.400 total time=   0.2s\n"
          ]
        },
        {
          "output_type": "stream",
          "name": "stderr",
          "text": [
            "/usr/local/lib/python3.7/dist-packages/sklearn/ensemble/_forest.py:756: UserWarning: class_weight presets \"balanced\" or \"balanced_subsample\" are not recommended for warm_start if the fitted data differs from the full dataset. In order to use \"balanced\" weights, use compute_class_weight (\"balanced\", classes, y). In place of y you can use a large enough sample of the full training set target to properly estimate the class frequency distributions. Pass the resulting weights as the class_weight parameter.\n",
            "  'class_weight presets \"balanced\" or '\n",
            "/usr/local/lib/python3.7/dist-packages/sklearn/ensemble/_forest.py:756: UserWarning: class_weight presets \"balanced\" or \"balanced_subsample\" are not recommended for warm_start if the fitted data differs from the full dataset. In order to use \"balanced\" weights, use compute_class_weight (\"balanced\", classes, y). In place of y you can use a large enough sample of the full training set target to properly estimate the class frequency distributions. Pass the resulting weights as the class_weight parameter.\n",
            "  'class_weight presets \"balanced\" or '\n"
          ]
        },
        {
          "output_type": "stream",
          "name": "stdout",
          "text": [
            "[CV 3/5] END bootstrap=False, class_weight=balanced, criterion=entropy, max_depth=2, max_features=log2, warm_start=True;, score=0.450 total time=   0.2s\n",
            "[CV 4/5] END bootstrap=False, class_weight=balanced, criterion=entropy, max_depth=2, max_features=log2, warm_start=True;, score=0.500 total time=   0.2s\n"
          ]
        },
        {
          "output_type": "stream",
          "name": "stderr",
          "text": [
            "/usr/local/lib/python3.7/dist-packages/sklearn/ensemble/_forest.py:756: UserWarning: class_weight presets \"balanced\" or \"balanced_subsample\" are not recommended for warm_start if the fitted data differs from the full dataset. In order to use \"balanced\" weights, use compute_class_weight (\"balanced\", classes, y). In place of y you can use a large enough sample of the full training set target to properly estimate the class frequency distributions. Pass the resulting weights as the class_weight parameter.\n",
            "  'class_weight presets \"balanced\" or '\n"
          ]
        },
        {
          "output_type": "stream",
          "name": "stdout",
          "text": [
            "[CV 5/5] END bootstrap=False, class_weight=balanced, criterion=entropy, max_depth=2, max_features=log2, warm_start=True;, score=0.350 total time=   0.2s\n",
            "[CV 1/5] END bootstrap=False, class_weight=balanced, criterion=entropy, max_depth=3, max_features=auto, warm_start=False;, score=0.400 total time=   0.2s\n",
            "[CV 2/5] END bootstrap=False, class_weight=balanced, criterion=entropy, max_depth=3, max_features=auto, warm_start=False;, score=0.550 total time=   0.2s\n",
            "[CV 3/5] END bootstrap=False, class_weight=balanced, criterion=entropy, max_depth=3, max_features=auto, warm_start=False;, score=0.400 total time=   0.1s\n",
            "[CV 4/5] END bootstrap=False, class_weight=balanced, criterion=entropy, max_depth=3, max_features=auto, warm_start=False;, score=0.400 total time=   0.2s\n",
            "[CV 5/5] END bootstrap=False, class_weight=balanced, criterion=entropy, max_depth=3, max_features=auto, warm_start=False;, score=0.400 total time=   0.2s\n"
          ]
        },
        {
          "output_type": "stream",
          "name": "stderr",
          "text": [
            "/usr/local/lib/python3.7/dist-packages/sklearn/ensemble/_forest.py:756: UserWarning: class_weight presets \"balanced\" or \"balanced_subsample\" are not recommended for warm_start if the fitted data differs from the full dataset. In order to use \"balanced\" weights, use compute_class_weight (\"balanced\", classes, y). In place of y you can use a large enough sample of the full training set target to properly estimate the class frequency distributions. Pass the resulting weights as the class_weight parameter.\n",
            "  'class_weight presets \"balanced\" or '\n",
            "/usr/local/lib/python3.7/dist-packages/sklearn/ensemble/_forest.py:756: UserWarning: class_weight presets \"balanced\" or \"balanced_subsample\" are not recommended for warm_start if the fitted data differs from the full dataset. In order to use \"balanced\" weights, use compute_class_weight (\"balanced\", classes, y). In place of y you can use a large enough sample of the full training set target to properly estimate the class frequency distributions. Pass the resulting weights as the class_weight parameter.\n",
            "  'class_weight presets \"balanced\" or '\n"
          ]
        },
        {
          "output_type": "stream",
          "name": "stdout",
          "text": [
            "[CV 1/5] END bootstrap=False, class_weight=balanced, criterion=entropy, max_depth=3, max_features=auto, warm_start=True;, score=0.450 total time=   0.2s\n",
            "[CV 2/5] END bootstrap=False, class_weight=balanced, criterion=entropy, max_depth=3, max_features=auto, warm_start=True;, score=0.550 total time=   0.2s\n"
          ]
        },
        {
          "output_type": "stream",
          "name": "stderr",
          "text": [
            "/usr/local/lib/python3.7/dist-packages/sklearn/ensemble/_forest.py:756: UserWarning: class_weight presets \"balanced\" or \"balanced_subsample\" are not recommended for warm_start if the fitted data differs from the full dataset. In order to use \"balanced\" weights, use compute_class_weight (\"balanced\", classes, y). In place of y you can use a large enough sample of the full training set target to properly estimate the class frequency distributions. Pass the resulting weights as the class_weight parameter.\n",
            "  'class_weight presets \"balanced\" or '\n",
            "/usr/local/lib/python3.7/dist-packages/sklearn/ensemble/_forest.py:756: UserWarning: class_weight presets \"balanced\" or \"balanced_subsample\" are not recommended for warm_start if the fitted data differs from the full dataset. In order to use \"balanced\" weights, use compute_class_weight (\"balanced\", classes, y). In place of y you can use a large enough sample of the full training set target to properly estimate the class frequency distributions. Pass the resulting weights as the class_weight parameter.\n",
            "  'class_weight presets \"balanced\" or '\n"
          ]
        },
        {
          "output_type": "stream",
          "name": "stdout",
          "text": [
            "[CV 3/5] END bootstrap=False, class_weight=balanced, criterion=entropy, max_depth=3, max_features=auto, warm_start=True;, score=0.400 total time=   0.2s\n",
            "[CV 4/5] END bootstrap=False, class_weight=balanced, criterion=entropy, max_depth=3, max_features=auto, warm_start=True;, score=0.500 total time=   0.2s\n"
          ]
        },
        {
          "output_type": "stream",
          "name": "stderr",
          "text": [
            "/usr/local/lib/python3.7/dist-packages/sklearn/ensemble/_forest.py:756: UserWarning: class_weight presets \"balanced\" or \"balanced_subsample\" are not recommended for warm_start if the fitted data differs from the full dataset. In order to use \"balanced\" weights, use compute_class_weight (\"balanced\", classes, y). In place of y you can use a large enough sample of the full training set target to properly estimate the class frequency distributions. Pass the resulting weights as the class_weight parameter.\n",
            "  'class_weight presets \"balanced\" or '\n"
          ]
        },
        {
          "output_type": "stream",
          "name": "stdout",
          "text": [
            "[CV 5/5] END bootstrap=False, class_weight=balanced, criterion=entropy, max_depth=3, max_features=auto, warm_start=True;, score=0.400 total time=   0.2s\n",
            "[CV 1/5] END bootstrap=False, class_weight=balanced, criterion=entropy, max_depth=3, max_features=sqrt, warm_start=False;, score=0.450 total time=   0.2s\n",
            "[CV 2/5] END bootstrap=False, class_weight=balanced, criterion=entropy, max_depth=3, max_features=sqrt, warm_start=False;, score=0.400 total time=   0.2s\n",
            "[CV 3/5] END bootstrap=False, class_weight=balanced, criterion=entropy, max_depth=3, max_features=sqrt, warm_start=False;, score=0.400 total time=   0.2s\n",
            "[CV 4/5] END bootstrap=False, class_weight=balanced, criterion=entropy, max_depth=3, max_features=sqrt, warm_start=False;, score=0.500 total time=   0.2s\n",
            "[CV 5/5] END bootstrap=False, class_weight=balanced, criterion=entropy, max_depth=3, max_features=sqrt, warm_start=False;, score=0.400 total time=   0.2s\n"
          ]
        },
        {
          "output_type": "stream",
          "name": "stderr",
          "text": [
            "/usr/local/lib/python3.7/dist-packages/sklearn/ensemble/_forest.py:756: UserWarning: class_weight presets \"balanced\" or \"balanced_subsample\" are not recommended for warm_start if the fitted data differs from the full dataset. In order to use \"balanced\" weights, use compute_class_weight (\"balanced\", classes, y). In place of y you can use a large enough sample of the full training set target to properly estimate the class frequency distributions. Pass the resulting weights as the class_weight parameter.\n",
            "  'class_weight presets \"balanced\" or '\n",
            "/usr/local/lib/python3.7/dist-packages/sklearn/ensemble/_forest.py:756: UserWarning: class_weight presets \"balanced\" or \"balanced_subsample\" are not recommended for warm_start if the fitted data differs from the full dataset. In order to use \"balanced\" weights, use compute_class_weight (\"balanced\", classes, y). In place of y you can use a large enough sample of the full training set target to properly estimate the class frequency distributions. Pass the resulting weights as the class_weight parameter.\n",
            "  'class_weight presets \"balanced\" or '\n"
          ]
        },
        {
          "output_type": "stream",
          "name": "stdout",
          "text": [
            "[CV 1/5] END bootstrap=False, class_weight=balanced, criterion=entropy, max_depth=3, max_features=sqrt, warm_start=True;, score=0.400 total time=   0.2s\n",
            "[CV 2/5] END bootstrap=False, class_weight=balanced, criterion=entropy, max_depth=3, max_features=sqrt, warm_start=True;, score=0.450 total time=   0.2s\n"
          ]
        },
        {
          "output_type": "stream",
          "name": "stderr",
          "text": [
            "/usr/local/lib/python3.7/dist-packages/sklearn/ensemble/_forest.py:756: UserWarning: class_weight presets \"balanced\" or \"balanced_subsample\" are not recommended for warm_start if the fitted data differs from the full dataset. In order to use \"balanced\" weights, use compute_class_weight (\"balanced\", classes, y). In place of y you can use a large enough sample of the full training set target to properly estimate the class frequency distributions. Pass the resulting weights as the class_weight parameter.\n",
            "  'class_weight presets \"balanced\" or '\n",
            "/usr/local/lib/python3.7/dist-packages/sklearn/ensemble/_forest.py:756: UserWarning: class_weight presets \"balanced\" or \"balanced_subsample\" are not recommended for warm_start if the fitted data differs from the full dataset. In order to use \"balanced\" weights, use compute_class_weight (\"balanced\", classes, y). In place of y you can use a large enough sample of the full training set target to properly estimate the class frequency distributions. Pass the resulting weights as the class_weight parameter.\n",
            "  'class_weight presets \"balanced\" or '\n"
          ]
        },
        {
          "output_type": "stream",
          "name": "stdout",
          "text": [
            "[CV 3/5] END bootstrap=False, class_weight=balanced, criterion=entropy, max_depth=3, max_features=sqrt, warm_start=True;, score=0.400 total time=   0.2s\n",
            "[CV 4/5] END bootstrap=False, class_weight=balanced, criterion=entropy, max_depth=3, max_features=sqrt, warm_start=True;, score=0.500 total time=   0.2s\n"
          ]
        },
        {
          "output_type": "stream",
          "name": "stderr",
          "text": [
            "/usr/local/lib/python3.7/dist-packages/sklearn/ensemble/_forest.py:756: UserWarning: class_weight presets \"balanced\" or \"balanced_subsample\" are not recommended for warm_start if the fitted data differs from the full dataset. In order to use \"balanced\" weights, use compute_class_weight (\"balanced\", classes, y). In place of y you can use a large enough sample of the full training set target to properly estimate the class frequency distributions. Pass the resulting weights as the class_weight parameter.\n",
            "  'class_weight presets \"balanced\" or '\n"
          ]
        },
        {
          "output_type": "stream",
          "name": "stdout",
          "text": [
            "[CV 5/5] END bootstrap=False, class_weight=balanced, criterion=entropy, max_depth=3, max_features=sqrt, warm_start=True;, score=0.350 total time=   0.2s\n",
            "[CV 1/5] END bootstrap=False, class_weight=balanced, criterion=entropy, max_depth=3, max_features=log2, warm_start=False;, score=0.450 total time=   0.2s\n",
            "[CV 2/5] END bootstrap=False, class_weight=balanced, criterion=entropy, max_depth=3, max_features=log2, warm_start=False;, score=0.450 total time=   0.2s\n",
            "[CV 3/5] END bootstrap=False, class_weight=balanced, criterion=entropy, max_depth=3, max_features=log2, warm_start=False;, score=0.500 total time=   0.2s\n",
            "[CV 4/5] END bootstrap=False, class_weight=balanced, criterion=entropy, max_depth=3, max_features=log2, warm_start=False;, score=0.450 total time=   0.2s\n",
            "[CV 5/5] END bootstrap=False, class_weight=balanced, criterion=entropy, max_depth=3, max_features=log2, warm_start=False;, score=0.450 total time=   0.2s\n"
          ]
        },
        {
          "output_type": "stream",
          "name": "stderr",
          "text": [
            "/usr/local/lib/python3.7/dist-packages/sklearn/ensemble/_forest.py:756: UserWarning: class_weight presets \"balanced\" or \"balanced_subsample\" are not recommended for warm_start if the fitted data differs from the full dataset. In order to use \"balanced\" weights, use compute_class_weight (\"balanced\", classes, y). In place of y you can use a large enough sample of the full training set target to properly estimate the class frequency distributions. Pass the resulting weights as the class_weight parameter.\n",
            "  'class_weight presets \"balanced\" or '\n",
            "/usr/local/lib/python3.7/dist-packages/sklearn/ensemble/_forest.py:756: UserWarning: class_weight presets \"balanced\" or \"balanced_subsample\" are not recommended for warm_start if the fitted data differs from the full dataset. In order to use \"balanced\" weights, use compute_class_weight (\"balanced\", classes, y). In place of y you can use a large enough sample of the full training set target to properly estimate the class frequency distributions. Pass the resulting weights as the class_weight parameter.\n",
            "  'class_weight presets \"balanced\" or '\n"
          ]
        },
        {
          "output_type": "stream",
          "name": "stdout",
          "text": [
            "[CV 1/5] END bootstrap=False, class_weight=balanced, criterion=entropy, max_depth=3, max_features=log2, warm_start=True;, score=0.450 total time=   0.2s\n",
            "[CV 2/5] END bootstrap=False, class_weight=balanced, criterion=entropy, max_depth=3, max_features=log2, warm_start=True;, score=0.500 total time=   0.2s\n"
          ]
        },
        {
          "output_type": "stream",
          "name": "stderr",
          "text": [
            "/usr/local/lib/python3.7/dist-packages/sklearn/ensemble/_forest.py:756: UserWarning: class_weight presets \"balanced\" or \"balanced_subsample\" are not recommended for warm_start if the fitted data differs from the full dataset. In order to use \"balanced\" weights, use compute_class_weight (\"balanced\", classes, y). In place of y you can use a large enough sample of the full training set target to properly estimate the class frequency distributions. Pass the resulting weights as the class_weight parameter.\n",
            "  'class_weight presets \"balanced\" or '\n",
            "/usr/local/lib/python3.7/dist-packages/sklearn/ensemble/_forest.py:756: UserWarning: class_weight presets \"balanced\" or \"balanced_subsample\" are not recommended for warm_start if the fitted data differs from the full dataset. In order to use \"balanced\" weights, use compute_class_weight (\"balanced\", classes, y). In place of y you can use a large enough sample of the full training set target to properly estimate the class frequency distributions. Pass the resulting weights as the class_weight parameter.\n",
            "  'class_weight presets \"balanced\" or '\n"
          ]
        },
        {
          "output_type": "stream",
          "name": "stdout",
          "text": [
            "[CV 3/5] END bootstrap=False, class_weight=balanced, criterion=entropy, max_depth=3, max_features=log2, warm_start=True;, score=0.400 total time=   0.2s\n",
            "[CV 4/5] END bootstrap=False, class_weight=balanced, criterion=entropy, max_depth=3, max_features=log2, warm_start=True;, score=0.500 total time=   0.2s\n"
          ]
        },
        {
          "output_type": "stream",
          "name": "stderr",
          "text": [
            "/usr/local/lib/python3.7/dist-packages/sklearn/ensemble/_forest.py:756: UserWarning: class_weight presets \"balanced\" or \"balanced_subsample\" are not recommended for warm_start if the fitted data differs from the full dataset. In order to use \"balanced\" weights, use compute_class_weight (\"balanced\", classes, y). In place of y you can use a large enough sample of the full training set target to properly estimate the class frequency distributions. Pass the resulting weights as the class_weight parameter.\n",
            "  'class_weight presets \"balanced\" or '\n"
          ]
        },
        {
          "output_type": "stream",
          "name": "stdout",
          "text": [
            "[CV 5/5] END bootstrap=False, class_weight=balanced, criterion=entropy, max_depth=3, max_features=log2, warm_start=True;, score=0.450 total time=   0.2s\n",
            "[CV 1/5] END bootstrap=False, class_weight=balanced, criterion=entropy, max_depth=5, max_features=auto, warm_start=False;, score=0.450 total time=   0.2s\n",
            "[CV 2/5] END bootstrap=False, class_weight=balanced, criterion=entropy, max_depth=5, max_features=auto, warm_start=False;, score=0.450 total time=   0.2s\n",
            "[CV 3/5] END bootstrap=False, class_weight=balanced, criterion=entropy, max_depth=5, max_features=auto, warm_start=False;, score=0.400 total time=   0.2s\n",
            "[CV 4/5] END bootstrap=False, class_weight=balanced, criterion=entropy, max_depth=5, max_features=auto, warm_start=False;, score=0.550 total time=   0.2s\n",
            "[CV 5/5] END bootstrap=False, class_weight=balanced, criterion=entropy, max_depth=5, max_features=auto, warm_start=False;, score=0.400 total time=   0.2s\n"
          ]
        },
        {
          "output_type": "stream",
          "name": "stderr",
          "text": [
            "/usr/local/lib/python3.7/dist-packages/sklearn/ensemble/_forest.py:756: UserWarning: class_weight presets \"balanced\" or \"balanced_subsample\" are not recommended for warm_start if the fitted data differs from the full dataset. In order to use \"balanced\" weights, use compute_class_weight (\"balanced\", classes, y). In place of y you can use a large enough sample of the full training set target to properly estimate the class frequency distributions. Pass the resulting weights as the class_weight parameter.\n",
            "  'class_weight presets \"balanced\" or '\n",
            "/usr/local/lib/python3.7/dist-packages/sklearn/ensemble/_forest.py:756: UserWarning: class_weight presets \"balanced\" or \"balanced_subsample\" are not recommended for warm_start if the fitted data differs from the full dataset. In order to use \"balanced\" weights, use compute_class_weight (\"balanced\", classes, y). In place of y you can use a large enough sample of the full training set target to properly estimate the class frequency distributions. Pass the resulting weights as the class_weight parameter.\n",
            "  'class_weight presets \"balanced\" or '\n"
          ]
        },
        {
          "output_type": "stream",
          "name": "stdout",
          "text": [
            "[CV 1/5] END bootstrap=False, class_weight=balanced, criterion=entropy, max_depth=5, max_features=auto, warm_start=True;, score=0.500 total time=   0.2s\n",
            "[CV 2/5] END bootstrap=False, class_weight=balanced, criterion=entropy, max_depth=5, max_features=auto, warm_start=True;, score=0.400 total time=   0.2s\n"
          ]
        },
        {
          "output_type": "stream",
          "name": "stderr",
          "text": [
            "/usr/local/lib/python3.7/dist-packages/sklearn/ensemble/_forest.py:756: UserWarning: class_weight presets \"balanced\" or \"balanced_subsample\" are not recommended for warm_start if the fitted data differs from the full dataset. In order to use \"balanced\" weights, use compute_class_weight (\"balanced\", classes, y). In place of y you can use a large enough sample of the full training set target to properly estimate the class frequency distributions. Pass the resulting weights as the class_weight parameter.\n",
            "  'class_weight presets \"balanced\" or '\n",
            "/usr/local/lib/python3.7/dist-packages/sklearn/ensemble/_forest.py:756: UserWarning: class_weight presets \"balanced\" or \"balanced_subsample\" are not recommended for warm_start if the fitted data differs from the full dataset. In order to use \"balanced\" weights, use compute_class_weight (\"balanced\", classes, y). In place of y you can use a large enough sample of the full training set target to properly estimate the class frequency distributions. Pass the resulting weights as the class_weight parameter.\n",
            "  'class_weight presets \"balanced\" or '\n"
          ]
        },
        {
          "output_type": "stream",
          "name": "stdout",
          "text": [
            "[CV 3/5] END bootstrap=False, class_weight=balanced, criterion=entropy, max_depth=5, max_features=auto, warm_start=True;, score=0.400 total time=   0.2s\n",
            "[CV 4/5] END bootstrap=False, class_weight=balanced, criterion=entropy, max_depth=5, max_features=auto, warm_start=True;, score=0.400 total time=   0.2s\n"
          ]
        },
        {
          "output_type": "stream",
          "name": "stderr",
          "text": [
            "/usr/local/lib/python3.7/dist-packages/sklearn/ensemble/_forest.py:756: UserWarning: class_weight presets \"balanced\" or \"balanced_subsample\" are not recommended for warm_start if the fitted data differs from the full dataset. In order to use \"balanced\" weights, use compute_class_weight (\"balanced\", classes, y). In place of y you can use a large enough sample of the full training set target to properly estimate the class frequency distributions. Pass the resulting weights as the class_weight parameter.\n",
            "  'class_weight presets \"balanced\" or '\n"
          ]
        },
        {
          "output_type": "stream",
          "name": "stdout",
          "text": [
            "[CV 5/5] END bootstrap=False, class_weight=balanced, criterion=entropy, max_depth=5, max_features=auto, warm_start=True;, score=0.450 total time=   0.2s\n",
            "[CV 1/5] END bootstrap=False, class_weight=balanced, criterion=entropy, max_depth=5, max_features=sqrt, warm_start=False;, score=0.450 total time=   0.2s\n",
            "[CV 2/5] END bootstrap=False, class_weight=balanced, criterion=entropy, max_depth=5, max_features=sqrt, warm_start=False;, score=0.500 total time=   0.2s\n",
            "[CV 3/5] END bootstrap=False, class_weight=balanced, criterion=entropy, max_depth=5, max_features=sqrt, warm_start=False;, score=0.400 total time=   0.2s\n",
            "[CV 4/5] END bootstrap=False, class_weight=balanced, criterion=entropy, max_depth=5, max_features=sqrt, warm_start=False;, score=0.500 total time=   0.2s\n",
            "[CV 5/5] END bootstrap=False, class_weight=balanced, criterion=entropy, max_depth=5, max_features=sqrt, warm_start=False;, score=0.400 total time=   0.2s\n"
          ]
        },
        {
          "output_type": "stream",
          "name": "stderr",
          "text": [
            "/usr/local/lib/python3.7/dist-packages/sklearn/ensemble/_forest.py:756: UserWarning: class_weight presets \"balanced\" or \"balanced_subsample\" are not recommended for warm_start if the fitted data differs from the full dataset. In order to use \"balanced\" weights, use compute_class_weight (\"balanced\", classes, y). In place of y you can use a large enough sample of the full training set target to properly estimate the class frequency distributions. Pass the resulting weights as the class_weight parameter.\n",
            "  'class_weight presets \"balanced\" or '\n",
            "/usr/local/lib/python3.7/dist-packages/sklearn/ensemble/_forest.py:756: UserWarning: class_weight presets \"balanced\" or \"balanced_subsample\" are not recommended for warm_start if the fitted data differs from the full dataset. In order to use \"balanced\" weights, use compute_class_weight (\"balanced\", classes, y). In place of y you can use a large enough sample of the full training set target to properly estimate the class frequency distributions. Pass the resulting weights as the class_weight parameter.\n",
            "  'class_weight presets \"balanced\" or '\n"
          ]
        },
        {
          "output_type": "stream",
          "name": "stdout",
          "text": [
            "[CV 1/5] END bootstrap=False, class_weight=balanced, criterion=entropy, max_depth=5, max_features=sqrt, warm_start=True;, score=0.500 total time=   0.2s\n",
            "[CV 2/5] END bootstrap=False, class_weight=balanced, criterion=entropy, max_depth=5, max_features=sqrt, warm_start=True;, score=0.550 total time=   0.2s\n"
          ]
        },
        {
          "output_type": "stream",
          "name": "stderr",
          "text": [
            "/usr/local/lib/python3.7/dist-packages/sklearn/ensemble/_forest.py:756: UserWarning: class_weight presets \"balanced\" or \"balanced_subsample\" are not recommended for warm_start if the fitted data differs from the full dataset. In order to use \"balanced\" weights, use compute_class_weight (\"balanced\", classes, y). In place of y you can use a large enough sample of the full training set target to properly estimate the class frequency distributions. Pass the resulting weights as the class_weight parameter.\n",
            "  'class_weight presets \"balanced\" or '\n",
            "/usr/local/lib/python3.7/dist-packages/sklearn/ensemble/_forest.py:756: UserWarning: class_weight presets \"balanced\" or \"balanced_subsample\" are not recommended for warm_start if the fitted data differs from the full dataset. In order to use \"balanced\" weights, use compute_class_weight (\"balanced\", classes, y). In place of y you can use a large enough sample of the full training set target to properly estimate the class frequency distributions. Pass the resulting weights as the class_weight parameter.\n",
            "  'class_weight presets \"balanced\" or '\n"
          ]
        },
        {
          "output_type": "stream",
          "name": "stdout",
          "text": [
            "[CV 3/5] END bootstrap=False, class_weight=balanced, criterion=entropy, max_depth=5, max_features=sqrt, warm_start=True;, score=0.350 total time=   0.2s\n",
            "[CV 4/5] END bootstrap=False, class_weight=balanced, criterion=entropy, max_depth=5, max_features=sqrt, warm_start=True;, score=0.550 total time=   0.2s\n"
          ]
        },
        {
          "output_type": "stream",
          "name": "stderr",
          "text": [
            "/usr/local/lib/python3.7/dist-packages/sklearn/ensemble/_forest.py:756: UserWarning: class_weight presets \"balanced\" or \"balanced_subsample\" are not recommended for warm_start if the fitted data differs from the full dataset. In order to use \"balanced\" weights, use compute_class_weight (\"balanced\", classes, y). In place of y you can use a large enough sample of the full training set target to properly estimate the class frequency distributions. Pass the resulting weights as the class_weight parameter.\n",
            "  'class_weight presets \"balanced\" or '\n"
          ]
        },
        {
          "output_type": "stream",
          "name": "stdout",
          "text": [
            "[CV 5/5] END bootstrap=False, class_weight=balanced, criterion=entropy, max_depth=5, max_features=sqrt, warm_start=True;, score=0.350 total time=   0.2s\n",
            "[CV 1/5] END bootstrap=False, class_weight=balanced, criterion=entropy, max_depth=5, max_features=log2, warm_start=False;, score=0.500 total time=   0.2s\n",
            "[CV 2/5] END bootstrap=False, class_weight=balanced, criterion=entropy, max_depth=5, max_features=log2, warm_start=False;, score=0.550 total time=   0.2s\n",
            "[CV 3/5] END bootstrap=False, class_weight=balanced, criterion=entropy, max_depth=5, max_features=log2, warm_start=False;, score=0.400 total time=   0.2s\n",
            "[CV 4/5] END bootstrap=False, class_weight=balanced, criterion=entropy, max_depth=5, max_features=log2, warm_start=False;, score=0.550 total time=   0.2s\n",
            "[CV 5/5] END bootstrap=False, class_weight=balanced, criterion=entropy, max_depth=5, max_features=log2, warm_start=False;, score=0.450 total time=   0.2s\n"
          ]
        },
        {
          "output_type": "stream",
          "name": "stderr",
          "text": [
            "/usr/local/lib/python3.7/dist-packages/sklearn/ensemble/_forest.py:756: UserWarning: class_weight presets \"balanced\" or \"balanced_subsample\" are not recommended for warm_start if the fitted data differs from the full dataset. In order to use \"balanced\" weights, use compute_class_weight (\"balanced\", classes, y). In place of y you can use a large enough sample of the full training set target to properly estimate the class frequency distributions. Pass the resulting weights as the class_weight parameter.\n",
            "  'class_weight presets \"balanced\" or '\n",
            "/usr/local/lib/python3.7/dist-packages/sklearn/ensemble/_forest.py:756: UserWarning: class_weight presets \"balanced\" or \"balanced_subsample\" are not recommended for warm_start if the fitted data differs from the full dataset. In order to use \"balanced\" weights, use compute_class_weight (\"balanced\", classes, y). In place of y you can use a large enough sample of the full training set target to properly estimate the class frequency distributions. Pass the resulting weights as the class_weight parameter.\n",
            "  'class_weight presets \"balanced\" or '\n"
          ]
        },
        {
          "output_type": "stream",
          "name": "stdout",
          "text": [
            "[CV 1/5] END bootstrap=False, class_weight=balanced, criterion=entropy, max_depth=5, max_features=log2, warm_start=True;, score=0.450 total time=   0.2s\n",
            "[CV 2/5] END bootstrap=False, class_weight=balanced, criterion=entropy, max_depth=5, max_features=log2, warm_start=True;, score=0.500 total time=   0.2s\n"
          ]
        },
        {
          "output_type": "stream",
          "name": "stderr",
          "text": [
            "/usr/local/lib/python3.7/dist-packages/sklearn/ensemble/_forest.py:756: UserWarning: class_weight presets \"balanced\" or \"balanced_subsample\" are not recommended for warm_start if the fitted data differs from the full dataset. In order to use \"balanced\" weights, use compute_class_weight (\"balanced\", classes, y). In place of y you can use a large enough sample of the full training set target to properly estimate the class frequency distributions. Pass the resulting weights as the class_weight parameter.\n",
            "  'class_weight presets \"balanced\" or '\n",
            "/usr/local/lib/python3.7/dist-packages/sklearn/ensemble/_forest.py:756: UserWarning: class_weight presets \"balanced\" or \"balanced_subsample\" are not recommended for warm_start if the fitted data differs from the full dataset. In order to use \"balanced\" weights, use compute_class_weight (\"balanced\", classes, y). In place of y you can use a large enough sample of the full training set target to properly estimate the class frequency distributions. Pass the resulting weights as the class_weight parameter.\n",
            "  'class_weight presets \"balanced\" or '\n"
          ]
        },
        {
          "output_type": "stream",
          "name": "stdout",
          "text": [
            "[CV 3/5] END bootstrap=False, class_weight=balanced, criterion=entropy, max_depth=5, max_features=log2, warm_start=True;, score=0.400 total time=   0.2s\n",
            "[CV 4/5] END bootstrap=False, class_weight=balanced, criterion=entropy, max_depth=5, max_features=log2, warm_start=True;, score=0.500 total time=   0.2s\n"
          ]
        },
        {
          "output_type": "stream",
          "name": "stderr",
          "text": [
            "/usr/local/lib/python3.7/dist-packages/sklearn/ensemble/_forest.py:756: UserWarning: class_weight presets \"balanced\" or \"balanced_subsample\" are not recommended for warm_start if the fitted data differs from the full dataset. In order to use \"balanced\" weights, use compute_class_weight (\"balanced\", classes, y). In place of y you can use a large enough sample of the full training set target to properly estimate the class frequency distributions. Pass the resulting weights as the class_weight parameter.\n",
            "  'class_weight presets \"balanced\" or '\n"
          ]
        },
        {
          "output_type": "stream",
          "name": "stdout",
          "text": [
            "[CV 5/5] END bootstrap=False, class_weight=balanced, criterion=entropy, max_depth=5, max_features=log2, warm_start=True;, score=0.450 total time=   0.2s\n",
            "[CV 1/5] END bootstrap=False, class_weight=balanced_subsample, criterion=gini, max_depth=2, max_features=auto, warm_start=False;, score=0.400 total time=   0.1s\n",
            "[CV 2/5] END bootstrap=False, class_weight=balanced_subsample, criterion=gini, max_depth=2, max_features=auto, warm_start=False;, score=0.350 total time=   0.1s\n",
            "[CV 3/5] END bootstrap=False, class_weight=balanced_subsample, criterion=gini, max_depth=2, max_features=auto, warm_start=False;, score=0.400 total time=   0.1s\n",
            "[CV 4/5] END bootstrap=False, class_weight=balanced_subsample, criterion=gini, max_depth=2, max_features=auto, warm_start=False;, score=0.550 total time=   0.1s\n",
            "[CV 5/5] END bootstrap=False, class_weight=balanced_subsample, criterion=gini, max_depth=2, max_features=auto, warm_start=False;, score=0.400 total time=   0.1s\n"
          ]
        },
        {
          "output_type": "stream",
          "name": "stderr",
          "text": [
            "/usr/local/lib/python3.7/dist-packages/sklearn/ensemble/_forest.py:756: UserWarning: class_weight presets \"balanced\" or \"balanced_subsample\" are not recommended for warm_start if the fitted data differs from the full dataset. In order to use \"balanced\" weights, use compute_class_weight (\"balanced\", classes, y). In place of y you can use a large enough sample of the full training set target to properly estimate the class frequency distributions. Pass the resulting weights as the class_weight parameter.\n",
            "  'class_weight presets \"balanced\" or '\n",
            "/usr/local/lib/python3.7/dist-packages/sklearn/ensemble/_forest.py:756: UserWarning: class_weight presets \"balanced\" or \"balanced_subsample\" are not recommended for warm_start if the fitted data differs from the full dataset. In order to use \"balanced\" weights, use compute_class_weight (\"balanced\", classes, y). In place of y you can use a large enough sample of the full training set target to properly estimate the class frequency distributions. Pass the resulting weights as the class_weight parameter.\n",
            "  'class_weight presets \"balanced\" or '\n"
          ]
        },
        {
          "output_type": "stream",
          "name": "stdout",
          "text": [
            "[CV 1/5] END bootstrap=False, class_weight=balanced_subsample, criterion=gini, max_depth=2, max_features=auto, warm_start=True;, score=0.400 total time=   0.1s\n",
            "[CV 2/5] END bootstrap=False, class_weight=balanced_subsample, criterion=gini, max_depth=2, max_features=auto, warm_start=True;, score=0.350 total time=   0.1s\n"
          ]
        },
        {
          "output_type": "stream",
          "name": "stderr",
          "text": [
            "/usr/local/lib/python3.7/dist-packages/sklearn/ensemble/_forest.py:756: UserWarning: class_weight presets \"balanced\" or \"balanced_subsample\" are not recommended for warm_start if the fitted data differs from the full dataset. In order to use \"balanced\" weights, use compute_class_weight (\"balanced\", classes, y). In place of y you can use a large enough sample of the full training set target to properly estimate the class frequency distributions. Pass the resulting weights as the class_weight parameter.\n",
            "  'class_weight presets \"balanced\" or '\n",
            "/usr/local/lib/python3.7/dist-packages/sklearn/ensemble/_forest.py:756: UserWarning: class_weight presets \"balanced\" or \"balanced_subsample\" are not recommended for warm_start if the fitted data differs from the full dataset. In order to use \"balanced\" weights, use compute_class_weight (\"balanced\", classes, y). In place of y you can use a large enough sample of the full training set target to properly estimate the class frequency distributions. Pass the resulting weights as the class_weight parameter.\n",
            "  'class_weight presets \"balanced\" or '\n"
          ]
        },
        {
          "output_type": "stream",
          "name": "stdout",
          "text": [
            "[CV 3/5] END bootstrap=False, class_weight=balanced_subsample, criterion=gini, max_depth=2, max_features=auto, warm_start=True;, score=0.400 total time=   0.1s\n",
            "[CV 4/5] END bootstrap=False, class_weight=balanced_subsample, criterion=gini, max_depth=2, max_features=auto, warm_start=True;, score=0.450 total time=   0.1s\n"
          ]
        },
        {
          "output_type": "stream",
          "name": "stderr",
          "text": [
            "/usr/local/lib/python3.7/dist-packages/sklearn/ensemble/_forest.py:756: UserWarning: class_weight presets \"balanced\" or \"balanced_subsample\" are not recommended for warm_start if the fitted data differs from the full dataset. In order to use \"balanced\" weights, use compute_class_weight (\"balanced\", classes, y). In place of y you can use a large enough sample of the full training set target to properly estimate the class frequency distributions. Pass the resulting weights as the class_weight parameter.\n",
            "  'class_weight presets \"balanced\" or '\n"
          ]
        },
        {
          "output_type": "stream",
          "name": "stdout",
          "text": [
            "[CV 5/5] END bootstrap=False, class_weight=balanced_subsample, criterion=gini, max_depth=2, max_features=auto, warm_start=True;, score=0.300 total time=   0.1s\n",
            "[CV 1/5] END bootstrap=False, class_weight=balanced_subsample, criterion=gini, max_depth=2, max_features=sqrt, warm_start=False;, score=0.350 total time=   0.1s\n",
            "[CV 2/5] END bootstrap=False, class_weight=balanced_subsample, criterion=gini, max_depth=2, max_features=sqrt, warm_start=False;, score=0.350 total time=   0.1s\n",
            "[CV 3/5] END bootstrap=False, class_weight=balanced_subsample, criterion=gini, max_depth=2, max_features=sqrt, warm_start=False;, score=0.400 total time=   0.1s\n",
            "[CV 4/5] END bootstrap=False, class_weight=balanced_subsample, criterion=gini, max_depth=2, max_features=sqrt, warm_start=False;, score=0.500 total time=   0.1s\n",
            "[CV 5/5] END bootstrap=False, class_weight=balanced_subsample, criterion=gini, max_depth=2, max_features=sqrt, warm_start=False;, score=0.350 total time=   0.1s\n"
          ]
        },
        {
          "output_type": "stream",
          "name": "stderr",
          "text": [
            "/usr/local/lib/python3.7/dist-packages/sklearn/ensemble/_forest.py:756: UserWarning: class_weight presets \"balanced\" or \"balanced_subsample\" are not recommended for warm_start if the fitted data differs from the full dataset. In order to use \"balanced\" weights, use compute_class_weight (\"balanced\", classes, y). In place of y you can use a large enough sample of the full training set target to properly estimate the class frequency distributions. Pass the resulting weights as the class_weight parameter.\n",
            "  'class_weight presets \"balanced\" or '\n",
            "/usr/local/lib/python3.7/dist-packages/sklearn/ensemble/_forest.py:756: UserWarning: class_weight presets \"balanced\" or \"balanced_subsample\" are not recommended for warm_start if the fitted data differs from the full dataset. In order to use \"balanced\" weights, use compute_class_weight (\"balanced\", classes, y). In place of y you can use a large enough sample of the full training set target to properly estimate the class frequency distributions. Pass the resulting weights as the class_weight parameter.\n",
            "  'class_weight presets \"balanced\" or '\n"
          ]
        },
        {
          "output_type": "stream",
          "name": "stdout",
          "text": [
            "[CV 1/5] END bootstrap=False, class_weight=balanced_subsample, criterion=gini, max_depth=2, max_features=sqrt, warm_start=True;, score=0.350 total time=   0.1s\n",
            "[CV 2/5] END bootstrap=False, class_weight=balanced_subsample, criterion=gini, max_depth=2, max_features=sqrt, warm_start=True;, score=0.350 total time=   0.1s\n"
          ]
        },
        {
          "output_type": "stream",
          "name": "stderr",
          "text": [
            "/usr/local/lib/python3.7/dist-packages/sklearn/ensemble/_forest.py:756: UserWarning: class_weight presets \"balanced\" or \"balanced_subsample\" are not recommended for warm_start if the fitted data differs from the full dataset. In order to use \"balanced\" weights, use compute_class_weight (\"balanced\", classes, y). In place of y you can use a large enough sample of the full training set target to properly estimate the class frequency distributions. Pass the resulting weights as the class_weight parameter.\n",
            "  'class_weight presets \"balanced\" or '\n",
            "/usr/local/lib/python3.7/dist-packages/sklearn/ensemble/_forest.py:756: UserWarning: class_weight presets \"balanced\" or \"balanced_subsample\" are not recommended for warm_start if the fitted data differs from the full dataset. In order to use \"balanced\" weights, use compute_class_weight (\"balanced\", classes, y). In place of y you can use a large enough sample of the full training set target to properly estimate the class frequency distributions. Pass the resulting weights as the class_weight parameter.\n",
            "  'class_weight presets \"balanced\" or '\n"
          ]
        },
        {
          "output_type": "stream",
          "name": "stdout",
          "text": [
            "[CV 3/5] END bootstrap=False, class_weight=balanced_subsample, criterion=gini, max_depth=2, max_features=sqrt, warm_start=True;, score=0.450 total time=   0.1s\n",
            "[CV 4/5] END bootstrap=False, class_weight=balanced_subsample, criterion=gini, max_depth=2, max_features=sqrt, warm_start=True;, score=0.550 total time=   0.1s\n"
          ]
        },
        {
          "output_type": "stream",
          "name": "stderr",
          "text": [
            "/usr/local/lib/python3.7/dist-packages/sklearn/ensemble/_forest.py:756: UserWarning: class_weight presets \"balanced\" or \"balanced_subsample\" are not recommended for warm_start if the fitted data differs from the full dataset. In order to use \"balanced\" weights, use compute_class_weight (\"balanced\", classes, y). In place of y you can use a large enough sample of the full training set target to properly estimate the class frequency distributions. Pass the resulting weights as the class_weight parameter.\n",
            "  'class_weight presets \"balanced\" or '\n"
          ]
        },
        {
          "output_type": "stream",
          "name": "stdout",
          "text": [
            "[CV 5/5] END bootstrap=False, class_weight=balanced_subsample, criterion=gini, max_depth=2, max_features=sqrt, warm_start=True;, score=0.400 total time=   0.1s\n",
            "[CV 1/5] END bootstrap=False, class_weight=balanced_subsample, criterion=gini, max_depth=2, max_features=log2, warm_start=False;, score=0.400 total time=   0.1s\n",
            "[CV 2/5] END bootstrap=False, class_weight=balanced_subsample, criterion=gini, max_depth=2, max_features=log2, warm_start=False;, score=0.350 total time=   0.1s\n",
            "[CV 3/5] END bootstrap=False, class_weight=balanced_subsample, criterion=gini, max_depth=2, max_features=log2, warm_start=False;, score=0.350 total time=   0.1s\n",
            "[CV 4/5] END bootstrap=False, class_weight=balanced_subsample, criterion=gini, max_depth=2, max_features=log2, warm_start=False;, score=0.450 total time=   0.1s\n",
            "[CV 5/5] END bootstrap=False, class_weight=balanced_subsample, criterion=gini, max_depth=2, max_features=log2, warm_start=False;, score=0.350 total time=   0.1s\n"
          ]
        },
        {
          "output_type": "stream",
          "name": "stderr",
          "text": [
            "/usr/local/lib/python3.7/dist-packages/sklearn/ensemble/_forest.py:756: UserWarning: class_weight presets \"balanced\" or \"balanced_subsample\" are not recommended for warm_start if the fitted data differs from the full dataset. In order to use \"balanced\" weights, use compute_class_weight (\"balanced\", classes, y). In place of y you can use a large enough sample of the full training set target to properly estimate the class frequency distributions. Pass the resulting weights as the class_weight parameter.\n",
            "  'class_weight presets \"balanced\" or '\n",
            "/usr/local/lib/python3.7/dist-packages/sklearn/ensemble/_forest.py:756: UserWarning: class_weight presets \"balanced\" or \"balanced_subsample\" are not recommended for warm_start if the fitted data differs from the full dataset. In order to use \"balanced\" weights, use compute_class_weight (\"balanced\", classes, y). In place of y you can use a large enough sample of the full training set target to properly estimate the class frequency distributions. Pass the resulting weights as the class_weight parameter.\n",
            "  'class_weight presets \"balanced\" or '\n"
          ]
        },
        {
          "output_type": "stream",
          "name": "stdout",
          "text": [
            "[CV 1/5] END bootstrap=False, class_weight=balanced_subsample, criterion=gini, max_depth=2, max_features=log2, warm_start=True;, score=0.350 total time=   0.1s\n",
            "[CV 2/5] END bootstrap=False, class_weight=balanced_subsample, criterion=gini, max_depth=2, max_features=log2, warm_start=True;, score=0.300 total time=   0.1s\n"
          ]
        },
        {
          "output_type": "stream",
          "name": "stderr",
          "text": [
            "/usr/local/lib/python3.7/dist-packages/sklearn/ensemble/_forest.py:756: UserWarning: class_weight presets \"balanced\" or \"balanced_subsample\" are not recommended for warm_start if the fitted data differs from the full dataset. In order to use \"balanced\" weights, use compute_class_weight (\"balanced\", classes, y). In place of y you can use a large enough sample of the full training set target to properly estimate the class frequency distributions. Pass the resulting weights as the class_weight parameter.\n",
            "  'class_weight presets \"balanced\" or '\n",
            "/usr/local/lib/python3.7/dist-packages/sklearn/ensemble/_forest.py:756: UserWarning: class_weight presets \"balanced\" or \"balanced_subsample\" are not recommended for warm_start if the fitted data differs from the full dataset. In order to use \"balanced\" weights, use compute_class_weight (\"balanced\", classes, y). In place of y you can use a large enough sample of the full training set target to properly estimate the class frequency distributions. Pass the resulting weights as the class_weight parameter.\n",
            "  'class_weight presets \"balanced\" or '\n"
          ]
        },
        {
          "output_type": "stream",
          "name": "stdout",
          "text": [
            "[CV 3/5] END bootstrap=False, class_weight=balanced_subsample, criterion=gini, max_depth=2, max_features=log2, warm_start=True;, score=0.450 total time=   0.1s\n",
            "[CV 4/5] END bootstrap=False, class_weight=balanced_subsample, criterion=gini, max_depth=2, max_features=log2, warm_start=True;, score=0.600 total time=   0.1s\n"
          ]
        },
        {
          "output_type": "stream",
          "name": "stderr",
          "text": [
            "/usr/local/lib/python3.7/dist-packages/sklearn/ensemble/_forest.py:756: UserWarning: class_weight presets \"balanced\" or \"balanced_subsample\" are not recommended for warm_start if the fitted data differs from the full dataset. In order to use \"balanced\" weights, use compute_class_weight (\"balanced\", classes, y). In place of y you can use a large enough sample of the full training set target to properly estimate the class frequency distributions. Pass the resulting weights as the class_weight parameter.\n",
            "  'class_weight presets \"balanced\" or '\n"
          ]
        },
        {
          "output_type": "stream",
          "name": "stdout",
          "text": [
            "[CV 5/5] END bootstrap=False, class_weight=balanced_subsample, criterion=gini, max_depth=2, max_features=log2, warm_start=True;, score=0.300 total time=   0.1s\n",
            "[CV 1/5] END bootstrap=False, class_weight=balanced_subsample, criterion=gini, max_depth=3, max_features=auto, warm_start=False;, score=0.450 total time=   0.1s\n",
            "[CV 2/5] END bootstrap=False, class_weight=balanced_subsample, criterion=gini, max_depth=3, max_features=auto, warm_start=False;, score=0.500 total time=   0.1s\n",
            "[CV 3/5] END bootstrap=False, class_weight=balanced_subsample, criterion=gini, max_depth=3, max_features=auto, warm_start=False;, score=0.450 total time=   0.1s\n",
            "[CV 4/5] END bootstrap=False, class_weight=balanced_subsample, criterion=gini, max_depth=3, max_features=auto, warm_start=False;, score=0.450 total time=   0.1s\n",
            "[CV 5/5] END bootstrap=False, class_weight=balanced_subsample, criterion=gini, max_depth=3, max_features=auto, warm_start=False;, score=0.400 total time=   0.1s\n"
          ]
        },
        {
          "output_type": "stream",
          "name": "stderr",
          "text": [
            "/usr/local/lib/python3.7/dist-packages/sklearn/ensemble/_forest.py:756: UserWarning: class_weight presets \"balanced\" or \"balanced_subsample\" are not recommended for warm_start if the fitted data differs from the full dataset. In order to use \"balanced\" weights, use compute_class_weight (\"balanced\", classes, y). In place of y you can use a large enough sample of the full training set target to properly estimate the class frequency distributions. Pass the resulting weights as the class_weight parameter.\n",
            "  'class_weight presets \"balanced\" or '\n",
            "/usr/local/lib/python3.7/dist-packages/sklearn/ensemble/_forest.py:756: UserWarning: class_weight presets \"balanced\" or \"balanced_subsample\" are not recommended for warm_start if the fitted data differs from the full dataset. In order to use \"balanced\" weights, use compute_class_weight (\"balanced\", classes, y). In place of y you can use a large enough sample of the full training set target to properly estimate the class frequency distributions. Pass the resulting weights as the class_weight parameter.\n",
            "  'class_weight presets \"balanced\" or '\n"
          ]
        },
        {
          "output_type": "stream",
          "name": "stdout",
          "text": [
            "[CV 1/5] END bootstrap=False, class_weight=balanced_subsample, criterion=gini, max_depth=3, max_features=auto, warm_start=True;, score=0.350 total time=   0.1s\n",
            "[CV 2/5] END bootstrap=False, class_weight=balanced_subsample, criterion=gini, max_depth=3, max_features=auto, warm_start=True;, score=0.500 total time=   0.1s\n"
          ]
        },
        {
          "output_type": "stream",
          "name": "stderr",
          "text": [
            "/usr/local/lib/python3.7/dist-packages/sklearn/ensemble/_forest.py:756: UserWarning: class_weight presets \"balanced\" or \"balanced_subsample\" are not recommended for warm_start if the fitted data differs from the full dataset. In order to use \"balanced\" weights, use compute_class_weight (\"balanced\", classes, y). In place of y you can use a large enough sample of the full training set target to properly estimate the class frequency distributions. Pass the resulting weights as the class_weight parameter.\n",
            "  'class_weight presets \"balanced\" or '\n",
            "/usr/local/lib/python3.7/dist-packages/sklearn/ensemble/_forest.py:756: UserWarning: class_weight presets \"balanced\" or \"balanced_subsample\" are not recommended for warm_start if the fitted data differs from the full dataset. In order to use \"balanced\" weights, use compute_class_weight (\"balanced\", classes, y). In place of y you can use a large enough sample of the full training set target to properly estimate the class frequency distributions. Pass the resulting weights as the class_weight parameter.\n",
            "  'class_weight presets \"balanced\" or '\n"
          ]
        },
        {
          "output_type": "stream",
          "name": "stdout",
          "text": [
            "[CV 3/5] END bootstrap=False, class_weight=balanced_subsample, criterion=gini, max_depth=3, max_features=auto, warm_start=True;, score=0.400 total time=   0.1s\n",
            "[CV 4/5] END bootstrap=False, class_weight=balanced_subsample, criterion=gini, max_depth=3, max_features=auto, warm_start=True;, score=0.500 total time=   0.1s\n"
          ]
        },
        {
          "output_type": "stream",
          "name": "stderr",
          "text": [
            "/usr/local/lib/python3.7/dist-packages/sklearn/ensemble/_forest.py:756: UserWarning: class_weight presets \"balanced\" or \"balanced_subsample\" are not recommended for warm_start if the fitted data differs from the full dataset. In order to use \"balanced\" weights, use compute_class_weight (\"balanced\", classes, y). In place of y you can use a large enough sample of the full training set target to properly estimate the class frequency distributions. Pass the resulting weights as the class_weight parameter.\n",
            "  'class_weight presets \"balanced\" or '\n"
          ]
        },
        {
          "output_type": "stream",
          "name": "stdout",
          "text": [
            "[CV 5/5] END bootstrap=False, class_weight=balanced_subsample, criterion=gini, max_depth=3, max_features=auto, warm_start=True;, score=0.400 total time=   0.1s\n",
            "[CV 1/5] END bootstrap=False, class_weight=balanced_subsample, criterion=gini, max_depth=3, max_features=sqrt, warm_start=False;, score=0.450 total time=   0.1s\n",
            "[CV 2/5] END bootstrap=False, class_weight=balanced_subsample, criterion=gini, max_depth=3, max_features=sqrt, warm_start=False;, score=0.550 total time=   0.1s\n",
            "[CV 3/5] END bootstrap=False, class_weight=balanced_subsample, criterion=gini, max_depth=3, max_features=sqrt, warm_start=False;, score=0.400 total time=   0.1s\n",
            "[CV 4/5] END bootstrap=False, class_weight=balanced_subsample, criterion=gini, max_depth=3, max_features=sqrt, warm_start=False;, score=0.450 total time=   0.1s\n",
            "[CV 5/5] END bootstrap=False, class_weight=balanced_subsample, criterion=gini, max_depth=3, max_features=sqrt, warm_start=False;, score=0.350 total time=   0.1s\n"
          ]
        },
        {
          "output_type": "stream",
          "name": "stderr",
          "text": [
            "/usr/local/lib/python3.7/dist-packages/sklearn/ensemble/_forest.py:756: UserWarning: class_weight presets \"balanced\" or \"balanced_subsample\" are not recommended for warm_start if the fitted data differs from the full dataset. In order to use \"balanced\" weights, use compute_class_weight (\"balanced\", classes, y). In place of y you can use a large enough sample of the full training set target to properly estimate the class frequency distributions. Pass the resulting weights as the class_weight parameter.\n",
            "  'class_weight presets \"balanced\" or '\n",
            "/usr/local/lib/python3.7/dist-packages/sklearn/ensemble/_forest.py:756: UserWarning: class_weight presets \"balanced\" or \"balanced_subsample\" are not recommended for warm_start if the fitted data differs from the full dataset. In order to use \"balanced\" weights, use compute_class_weight (\"balanced\", classes, y). In place of y you can use a large enough sample of the full training set target to properly estimate the class frequency distributions. Pass the resulting weights as the class_weight parameter.\n",
            "  'class_weight presets \"balanced\" or '\n"
          ]
        },
        {
          "output_type": "stream",
          "name": "stdout",
          "text": [
            "[CV 1/5] END bootstrap=False, class_weight=balanced_subsample, criterion=gini, max_depth=3, max_features=sqrt, warm_start=True;, score=0.350 total time=   0.1s\n",
            "[CV 2/5] END bootstrap=False, class_weight=balanced_subsample, criterion=gini, max_depth=3, max_features=sqrt, warm_start=True;, score=0.400 total time=   0.1s\n"
          ]
        },
        {
          "output_type": "stream",
          "name": "stderr",
          "text": [
            "/usr/local/lib/python3.7/dist-packages/sklearn/ensemble/_forest.py:756: UserWarning: class_weight presets \"balanced\" or \"balanced_subsample\" are not recommended for warm_start if the fitted data differs from the full dataset. In order to use \"balanced\" weights, use compute_class_weight (\"balanced\", classes, y). In place of y you can use a large enough sample of the full training set target to properly estimate the class frequency distributions. Pass the resulting weights as the class_weight parameter.\n",
            "  'class_weight presets \"balanced\" or '\n",
            "/usr/local/lib/python3.7/dist-packages/sklearn/ensemble/_forest.py:756: UserWarning: class_weight presets \"balanced\" or \"balanced_subsample\" are not recommended for warm_start if the fitted data differs from the full dataset. In order to use \"balanced\" weights, use compute_class_weight (\"balanced\", classes, y). In place of y you can use a large enough sample of the full training set target to properly estimate the class frequency distributions. Pass the resulting weights as the class_weight parameter.\n",
            "  'class_weight presets \"balanced\" or '\n"
          ]
        },
        {
          "output_type": "stream",
          "name": "stdout",
          "text": [
            "[CV 3/5] END bootstrap=False, class_weight=balanced_subsample, criterion=gini, max_depth=3, max_features=sqrt, warm_start=True;, score=0.350 total time=   0.1s\n",
            "[CV 4/5] END bootstrap=False, class_weight=balanced_subsample, criterion=gini, max_depth=3, max_features=sqrt, warm_start=True;, score=0.450 total time=   0.1s\n"
          ]
        },
        {
          "output_type": "stream",
          "name": "stderr",
          "text": [
            "/usr/local/lib/python3.7/dist-packages/sklearn/ensemble/_forest.py:756: UserWarning: class_weight presets \"balanced\" or \"balanced_subsample\" are not recommended for warm_start if the fitted data differs from the full dataset. In order to use \"balanced\" weights, use compute_class_weight (\"balanced\", classes, y). In place of y you can use a large enough sample of the full training set target to properly estimate the class frequency distributions. Pass the resulting weights as the class_weight parameter.\n",
            "  'class_weight presets \"balanced\" or '\n"
          ]
        },
        {
          "output_type": "stream",
          "name": "stdout",
          "text": [
            "[CV 5/5] END bootstrap=False, class_weight=balanced_subsample, criterion=gini, max_depth=3, max_features=sqrt, warm_start=True;, score=0.350 total time=   0.1s\n",
            "[CV 1/5] END bootstrap=False, class_weight=balanced_subsample, criterion=gini, max_depth=3, max_features=log2, warm_start=False;, score=0.400 total time=   0.1s\n",
            "[CV 2/5] END bootstrap=False, class_weight=balanced_subsample, criterion=gini, max_depth=3, max_features=log2, warm_start=False;, score=0.500 total time=   0.1s\n",
            "[CV 3/5] END bootstrap=False, class_weight=balanced_subsample, criterion=gini, max_depth=3, max_features=log2, warm_start=False;, score=0.350 total time=   0.1s\n",
            "[CV 4/5] END bootstrap=False, class_weight=balanced_subsample, criterion=gini, max_depth=3, max_features=log2, warm_start=False;, score=0.400 total time=   0.1s\n",
            "[CV 5/5] END bootstrap=False, class_weight=balanced_subsample, criterion=gini, max_depth=3, max_features=log2, warm_start=False;, score=0.450 total time=   0.1s\n"
          ]
        },
        {
          "output_type": "stream",
          "name": "stderr",
          "text": [
            "/usr/local/lib/python3.7/dist-packages/sklearn/ensemble/_forest.py:756: UserWarning: class_weight presets \"balanced\" or \"balanced_subsample\" are not recommended for warm_start if the fitted data differs from the full dataset. In order to use \"balanced\" weights, use compute_class_weight (\"balanced\", classes, y). In place of y you can use a large enough sample of the full training set target to properly estimate the class frequency distributions. Pass the resulting weights as the class_weight parameter.\n",
            "  'class_weight presets \"balanced\" or '\n",
            "/usr/local/lib/python3.7/dist-packages/sklearn/ensemble/_forest.py:756: UserWarning: class_weight presets \"balanced\" or \"balanced_subsample\" are not recommended for warm_start if the fitted data differs from the full dataset. In order to use \"balanced\" weights, use compute_class_weight (\"balanced\", classes, y). In place of y you can use a large enough sample of the full training set target to properly estimate the class frequency distributions. Pass the resulting weights as the class_weight parameter.\n",
            "  'class_weight presets \"balanced\" or '\n"
          ]
        },
        {
          "output_type": "stream",
          "name": "stdout",
          "text": [
            "[CV 1/5] END bootstrap=False, class_weight=balanced_subsample, criterion=gini, max_depth=3, max_features=log2, warm_start=True;, score=0.450 total time=   0.1s\n",
            "[CV 2/5] END bootstrap=False, class_weight=balanced_subsample, criterion=gini, max_depth=3, max_features=log2, warm_start=True;, score=0.450 total time=   0.1s\n"
          ]
        },
        {
          "output_type": "stream",
          "name": "stderr",
          "text": [
            "/usr/local/lib/python3.7/dist-packages/sklearn/ensemble/_forest.py:756: UserWarning: class_weight presets \"balanced\" or \"balanced_subsample\" are not recommended for warm_start if the fitted data differs from the full dataset. In order to use \"balanced\" weights, use compute_class_weight (\"balanced\", classes, y). In place of y you can use a large enough sample of the full training set target to properly estimate the class frequency distributions. Pass the resulting weights as the class_weight parameter.\n",
            "  'class_weight presets \"balanced\" or '\n",
            "/usr/local/lib/python3.7/dist-packages/sklearn/ensemble/_forest.py:756: UserWarning: class_weight presets \"balanced\" or \"balanced_subsample\" are not recommended for warm_start if the fitted data differs from the full dataset. In order to use \"balanced\" weights, use compute_class_weight (\"balanced\", classes, y). In place of y you can use a large enough sample of the full training set target to properly estimate the class frequency distributions. Pass the resulting weights as the class_weight parameter.\n",
            "  'class_weight presets \"balanced\" or '\n"
          ]
        },
        {
          "output_type": "stream",
          "name": "stdout",
          "text": [
            "[CV 3/5] END bootstrap=False, class_weight=balanced_subsample, criterion=gini, max_depth=3, max_features=log2, warm_start=True;, score=0.350 total time=   0.1s\n",
            "[CV 4/5] END bootstrap=False, class_weight=balanced_subsample, criterion=gini, max_depth=3, max_features=log2, warm_start=True;, score=0.550 total time=   0.1s\n"
          ]
        },
        {
          "output_type": "stream",
          "name": "stderr",
          "text": [
            "/usr/local/lib/python3.7/dist-packages/sklearn/ensemble/_forest.py:756: UserWarning: class_weight presets \"balanced\" or \"balanced_subsample\" are not recommended for warm_start if the fitted data differs from the full dataset. In order to use \"balanced\" weights, use compute_class_weight (\"balanced\", classes, y). In place of y you can use a large enough sample of the full training set target to properly estimate the class frequency distributions. Pass the resulting weights as the class_weight parameter.\n",
            "  'class_weight presets \"balanced\" or '\n"
          ]
        },
        {
          "output_type": "stream",
          "name": "stdout",
          "text": [
            "[CV 5/5] END bootstrap=False, class_weight=balanced_subsample, criterion=gini, max_depth=3, max_features=log2, warm_start=True;, score=0.350 total time=   0.1s\n",
            "[CV 1/5] END bootstrap=False, class_weight=balanced_subsample, criterion=gini, max_depth=5, max_features=auto, warm_start=False;, score=0.450 total time=   0.1s\n",
            "[CV 2/5] END bootstrap=False, class_weight=balanced_subsample, criterion=gini, max_depth=5, max_features=auto, warm_start=False;, score=0.650 total time=   0.1s\n",
            "[CV 3/5] END bootstrap=False, class_weight=balanced_subsample, criterion=gini, max_depth=5, max_features=auto, warm_start=False;, score=0.450 total time=   0.1s\n",
            "[CV 4/5] END bootstrap=False, class_weight=balanced_subsample, criterion=gini, max_depth=5, max_features=auto, warm_start=False;, score=0.350 total time=   0.1s\n",
            "[CV 5/5] END bootstrap=False, class_weight=balanced_subsample, criterion=gini, max_depth=5, max_features=auto, warm_start=False;, score=0.400 total time=   0.1s\n"
          ]
        },
        {
          "output_type": "stream",
          "name": "stderr",
          "text": [
            "/usr/local/lib/python3.7/dist-packages/sklearn/ensemble/_forest.py:756: UserWarning: class_weight presets \"balanced\" or \"balanced_subsample\" are not recommended for warm_start if the fitted data differs from the full dataset. In order to use \"balanced\" weights, use compute_class_weight (\"balanced\", classes, y). In place of y you can use a large enough sample of the full training set target to properly estimate the class frequency distributions. Pass the resulting weights as the class_weight parameter.\n",
            "  'class_weight presets \"balanced\" or '\n",
            "/usr/local/lib/python3.7/dist-packages/sklearn/ensemble/_forest.py:756: UserWarning: class_weight presets \"balanced\" or \"balanced_subsample\" are not recommended for warm_start if the fitted data differs from the full dataset. In order to use \"balanced\" weights, use compute_class_weight (\"balanced\", classes, y). In place of y you can use a large enough sample of the full training set target to properly estimate the class frequency distributions. Pass the resulting weights as the class_weight parameter.\n",
            "  'class_weight presets \"balanced\" or '\n"
          ]
        },
        {
          "output_type": "stream",
          "name": "stdout",
          "text": [
            "[CV 1/5] END bootstrap=False, class_weight=balanced_subsample, criterion=gini, max_depth=5, max_features=auto, warm_start=True;, score=0.400 total time=   0.1s\n",
            "[CV 2/5] END bootstrap=False, class_weight=balanced_subsample, criterion=gini, max_depth=5, max_features=auto, warm_start=True;, score=0.600 total time=   0.1s\n"
          ]
        },
        {
          "output_type": "stream",
          "name": "stderr",
          "text": [
            "/usr/local/lib/python3.7/dist-packages/sklearn/ensemble/_forest.py:756: UserWarning: class_weight presets \"balanced\" or \"balanced_subsample\" are not recommended for warm_start if the fitted data differs from the full dataset. In order to use \"balanced\" weights, use compute_class_weight (\"balanced\", classes, y). In place of y you can use a large enough sample of the full training set target to properly estimate the class frequency distributions. Pass the resulting weights as the class_weight parameter.\n",
            "  'class_weight presets \"balanced\" or '\n",
            "/usr/local/lib/python3.7/dist-packages/sklearn/ensemble/_forest.py:756: UserWarning: class_weight presets \"balanced\" or \"balanced_subsample\" are not recommended for warm_start if the fitted data differs from the full dataset. In order to use \"balanced\" weights, use compute_class_weight (\"balanced\", classes, y). In place of y you can use a large enough sample of the full training set target to properly estimate the class frequency distributions. Pass the resulting weights as the class_weight parameter.\n",
            "  'class_weight presets \"balanced\" or '\n"
          ]
        },
        {
          "output_type": "stream",
          "name": "stdout",
          "text": [
            "[CV 3/5] END bootstrap=False, class_weight=balanced_subsample, criterion=gini, max_depth=5, max_features=auto, warm_start=True;, score=0.400 total time=   0.1s\n",
            "[CV 4/5] END bootstrap=False, class_weight=balanced_subsample, criterion=gini, max_depth=5, max_features=auto, warm_start=True;, score=0.350 total time=   0.1s\n"
          ]
        },
        {
          "output_type": "stream",
          "name": "stderr",
          "text": [
            "/usr/local/lib/python3.7/dist-packages/sklearn/ensemble/_forest.py:756: UserWarning: class_weight presets \"balanced\" or \"balanced_subsample\" are not recommended for warm_start if the fitted data differs from the full dataset. In order to use \"balanced\" weights, use compute_class_weight (\"balanced\", classes, y). In place of y you can use a large enough sample of the full training set target to properly estimate the class frequency distributions. Pass the resulting weights as the class_weight parameter.\n",
            "  'class_weight presets \"balanced\" or '\n"
          ]
        },
        {
          "output_type": "stream",
          "name": "stdout",
          "text": [
            "[CV 5/5] END bootstrap=False, class_weight=balanced_subsample, criterion=gini, max_depth=5, max_features=auto, warm_start=True;, score=0.450 total time=   0.1s\n",
            "[CV 1/5] END bootstrap=False, class_weight=balanced_subsample, criterion=gini, max_depth=5, max_features=sqrt, warm_start=False;, score=0.450 total time=   0.1s\n",
            "[CV 2/5] END bootstrap=False, class_weight=balanced_subsample, criterion=gini, max_depth=5, max_features=sqrt, warm_start=False;, score=0.500 total time=   0.1s\n",
            "[CV 3/5] END bootstrap=False, class_weight=balanced_subsample, criterion=gini, max_depth=5, max_features=sqrt, warm_start=False;, score=0.400 total time=   0.1s\n",
            "[CV 4/5] END bootstrap=False, class_weight=balanced_subsample, criterion=gini, max_depth=5, max_features=sqrt, warm_start=False;, score=0.400 total time=   0.1s\n",
            "[CV 5/5] END bootstrap=False, class_weight=balanced_subsample, criterion=gini, max_depth=5, max_features=sqrt, warm_start=False;, score=0.400 total time=   0.1s\n"
          ]
        },
        {
          "output_type": "stream",
          "name": "stderr",
          "text": [
            "/usr/local/lib/python3.7/dist-packages/sklearn/ensemble/_forest.py:756: UserWarning: class_weight presets \"balanced\" or \"balanced_subsample\" are not recommended for warm_start if the fitted data differs from the full dataset. In order to use \"balanced\" weights, use compute_class_weight (\"balanced\", classes, y). In place of y you can use a large enough sample of the full training set target to properly estimate the class frequency distributions. Pass the resulting weights as the class_weight parameter.\n",
            "  'class_weight presets \"balanced\" or '\n",
            "/usr/local/lib/python3.7/dist-packages/sklearn/ensemble/_forest.py:756: UserWarning: class_weight presets \"balanced\" or \"balanced_subsample\" are not recommended for warm_start if the fitted data differs from the full dataset. In order to use \"balanced\" weights, use compute_class_weight (\"balanced\", classes, y). In place of y you can use a large enough sample of the full training set target to properly estimate the class frequency distributions. Pass the resulting weights as the class_weight parameter.\n",
            "  'class_weight presets \"balanced\" or '\n"
          ]
        },
        {
          "output_type": "stream",
          "name": "stdout",
          "text": [
            "[CV 1/5] END bootstrap=False, class_weight=balanced_subsample, criterion=gini, max_depth=5, max_features=sqrt, warm_start=True;, score=0.450 total time=   0.1s\n",
            "[CV 2/5] END bootstrap=False, class_weight=balanced_subsample, criterion=gini, max_depth=5, max_features=sqrt, warm_start=True;, score=0.550 total time=   0.1s\n"
          ]
        },
        {
          "output_type": "stream",
          "name": "stderr",
          "text": [
            "/usr/local/lib/python3.7/dist-packages/sklearn/ensemble/_forest.py:756: UserWarning: class_weight presets \"balanced\" or \"balanced_subsample\" are not recommended for warm_start if the fitted data differs from the full dataset. In order to use \"balanced\" weights, use compute_class_weight (\"balanced\", classes, y). In place of y you can use a large enough sample of the full training set target to properly estimate the class frequency distributions. Pass the resulting weights as the class_weight parameter.\n",
            "  'class_weight presets \"balanced\" or '\n",
            "/usr/local/lib/python3.7/dist-packages/sklearn/ensemble/_forest.py:756: UserWarning: class_weight presets \"balanced\" or \"balanced_subsample\" are not recommended for warm_start if the fitted data differs from the full dataset. In order to use \"balanced\" weights, use compute_class_weight (\"balanced\", classes, y). In place of y you can use a large enough sample of the full training set target to properly estimate the class frequency distributions. Pass the resulting weights as the class_weight parameter.\n",
            "  'class_weight presets \"balanced\" or '\n"
          ]
        },
        {
          "output_type": "stream",
          "name": "stdout",
          "text": [
            "[CV 3/5] END bootstrap=False, class_weight=balanced_subsample, criterion=gini, max_depth=5, max_features=sqrt, warm_start=True;, score=0.450 total time=   0.2s\n",
            "[CV 4/5] END bootstrap=False, class_weight=balanced_subsample, criterion=gini, max_depth=5, max_features=sqrt, warm_start=True;, score=0.400 total time=   0.1s\n"
          ]
        },
        {
          "output_type": "stream",
          "name": "stderr",
          "text": [
            "/usr/local/lib/python3.7/dist-packages/sklearn/ensemble/_forest.py:756: UserWarning: class_weight presets \"balanced\" or \"balanced_subsample\" are not recommended for warm_start if the fitted data differs from the full dataset. In order to use \"balanced\" weights, use compute_class_weight (\"balanced\", classes, y). In place of y you can use a large enough sample of the full training set target to properly estimate the class frequency distributions. Pass the resulting weights as the class_weight parameter.\n",
            "  'class_weight presets \"balanced\" or '\n"
          ]
        },
        {
          "output_type": "stream",
          "name": "stdout",
          "text": [
            "[CV 5/5] END bootstrap=False, class_weight=balanced_subsample, criterion=gini, max_depth=5, max_features=sqrt, warm_start=True;, score=0.450 total time=   0.1s\n",
            "[CV 1/5] END bootstrap=False, class_weight=balanced_subsample, criterion=gini, max_depth=5, max_features=log2, warm_start=False;, score=0.450 total time=   0.1s\n",
            "[CV 2/5] END bootstrap=False, class_weight=balanced_subsample, criterion=gini, max_depth=5, max_features=log2, warm_start=False;, score=0.600 total time=   0.1s\n",
            "[CV 3/5] END bootstrap=False, class_weight=balanced_subsample, criterion=gini, max_depth=5, max_features=log2, warm_start=False;, score=0.400 total time=   0.1s\n",
            "[CV 4/5] END bootstrap=False, class_weight=balanced_subsample, criterion=gini, max_depth=5, max_features=log2, warm_start=False;, score=0.400 total time=   0.1s\n",
            "[CV 5/5] END bootstrap=False, class_weight=balanced_subsample, criterion=gini, max_depth=5, max_features=log2, warm_start=False;, score=0.450 total time=   0.1s\n"
          ]
        },
        {
          "output_type": "stream",
          "name": "stderr",
          "text": [
            "/usr/local/lib/python3.7/dist-packages/sklearn/ensemble/_forest.py:756: UserWarning: class_weight presets \"balanced\" or \"balanced_subsample\" are not recommended for warm_start if the fitted data differs from the full dataset. In order to use \"balanced\" weights, use compute_class_weight (\"balanced\", classes, y). In place of y you can use a large enough sample of the full training set target to properly estimate the class frequency distributions. Pass the resulting weights as the class_weight parameter.\n",
            "  'class_weight presets \"balanced\" or '\n",
            "/usr/local/lib/python3.7/dist-packages/sklearn/ensemble/_forest.py:756: UserWarning: class_weight presets \"balanced\" or \"balanced_subsample\" are not recommended for warm_start if the fitted data differs from the full dataset. In order to use \"balanced\" weights, use compute_class_weight (\"balanced\", classes, y). In place of y you can use a large enough sample of the full training set target to properly estimate the class frequency distributions. Pass the resulting weights as the class_weight parameter.\n",
            "  'class_weight presets \"balanced\" or '\n"
          ]
        },
        {
          "output_type": "stream",
          "name": "stdout",
          "text": [
            "[CV 1/5] END bootstrap=False, class_weight=balanced_subsample, criterion=gini, max_depth=5, max_features=log2, warm_start=True;, score=0.400 total time=   0.1s\n",
            "[CV 2/5] END bootstrap=False, class_weight=balanced_subsample, criterion=gini, max_depth=5, max_features=log2, warm_start=True;, score=0.550 total time=   0.1s\n"
          ]
        },
        {
          "output_type": "stream",
          "name": "stderr",
          "text": [
            "/usr/local/lib/python3.7/dist-packages/sklearn/ensemble/_forest.py:756: UserWarning: class_weight presets \"balanced\" or \"balanced_subsample\" are not recommended for warm_start if the fitted data differs from the full dataset. In order to use \"balanced\" weights, use compute_class_weight (\"balanced\", classes, y). In place of y you can use a large enough sample of the full training set target to properly estimate the class frequency distributions. Pass the resulting weights as the class_weight parameter.\n",
            "  'class_weight presets \"balanced\" or '\n",
            "/usr/local/lib/python3.7/dist-packages/sklearn/ensemble/_forest.py:756: UserWarning: class_weight presets \"balanced\" or \"balanced_subsample\" are not recommended for warm_start if the fitted data differs from the full dataset. In order to use \"balanced\" weights, use compute_class_weight (\"balanced\", classes, y). In place of y you can use a large enough sample of the full training set target to properly estimate the class frequency distributions. Pass the resulting weights as the class_weight parameter.\n",
            "  'class_weight presets \"balanced\" or '\n"
          ]
        },
        {
          "output_type": "stream",
          "name": "stdout",
          "text": [
            "[CV 3/5] END bootstrap=False, class_weight=balanced_subsample, criterion=gini, max_depth=5, max_features=log2, warm_start=True;, score=0.400 total time=   0.1s\n",
            "[CV 4/5] END bootstrap=False, class_weight=balanced_subsample, criterion=gini, max_depth=5, max_features=log2, warm_start=True;, score=0.450 total time=   0.1s\n"
          ]
        },
        {
          "output_type": "stream",
          "name": "stderr",
          "text": [
            "/usr/local/lib/python3.7/dist-packages/sklearn/ensemble/_forest.py:756: UserWarning: class_weight presets \"balanced\" or \"balanced_subsample\" are not recommended for warm_start if the fitted data differs from the full dataset. In order to use \"balanced\" weights, use compute_class_weight (\"balanced\", classes, y). In place of y you can use a large enough sample of the full training set target to properly estimate the class frequency distributions. Pass the resulting weights as the class_weight parameter.\n",
            "  'class_weight presets \"balanced\" or '\n"
          ]
        },
        {
          "output_type": "stream",
          "name": "stdout",
          "text": [
            "[CV 5/5] END bootstrap=False, class_weight=balanced_subsample, criterion=gini, max_depth=5, max_features=log2, warm_start=True;, score=0.450 total time=   0.1s\n",
            "[CV 1/5] END bootstrap=False, class_weight=balanced_subsample, criterion=entropy, max_depth=2, max_features=auto, warm_start=False;, score=0.400 total time=   0.1s\n",
            "[CV 2/5] END bootstrap=False, class_weight=balanced_subsample, criterion=entropy, max_depth=2, max_features=auto, warm_start=False;, score=0.600 total time=   0.2s\n",
            "[CV 3/5] END bootstrap=False, class_weight=balanced_subsample, criterion=entropy, max_depth=2, max_features=auto, warm_start=False;, score=0.400 total time=   0.1s\n",
            "[CV 4/5] END bootstrap=False, class_weight=balanced_subsample, criterion=entropy, max_depth=2, max_features=auto, warm_start=False;, score=0.450 total time=   0.2s\n",
            "[CV 5/5] END bootstrap=False, class_weight=balanced_subsample, criterion=entropy, max_depth=2, max_features=auto, warm_start=False;, score=0.400 total time=   0.2s\n"
          ]
        },
        {
          "output_type": "stream",
          "name": "stderr",
          "text": [
            "/usr/local/lib/python3.7/dist-packages/sklearn/ensemble/_forest.py:756: UserWarning: class_weight presets \"balanced\" or \"balanced_subsample\" are not recommended for warm_start if the fitted data differs from the full dataset. In order to use \"balanced\" weights, use compute_class_weight (\"balanced\", classes, y). In place of y you can use a large enough sample of the full training set target to properly estimate the class frequency distributions. Pass the resulting weights as the class_weight parameter.\n",
            "  'class_weight presets \"balanced\" or '\n",
            "/usr/local/lib/python3.7/dist-packages/sklearn/ensemble/_forest.py:756: UserWarning: class_weight presets \"balanced\" or \"balanced_subsample\" are not recommended for warm_start if the fitted data differs from the full dataset. In order to use \"balanced\" weights, use compute_class_weight (\"balanced\", classes, y). In place of y you can use a large enough sample of the full training set target to properly estimate the class frequency distributions. Pass the resulting weights as the class_weight parameter.\n",
            "  'class_weight presets \"balanced\" or '\n"
          ]
        },
        {
          "output_type": "stream",
          "name": "stdout",
          "text": [
            "[CV 1/5] END bootstrap=False, class_weight=balanced_subsample, criterion=entropy, max_depth=2, max_features=auto, warm_start=True;, score=0.400 total time=   0.1s\n",
            "[CV 2/5] END bootstrap=False, class_weight=balanced_subsample, criterion=entropy, max_depth=2, max_features=auto, warm_start=True;, score=0.500 total time=   0.1s\n"
          ]
        },
        {
          "output_type": "stream",
          "name": "stderr",
          "text": [
            "/usr/local/lib/python3.7/dist-packages/sklearn/ensemble/_forest.py:756: UserWarning: class_weight presets \"balanced\" or \"balanced_subsample\" are not recommended for warm_start if the fitted data differs from the full dataset. In order to use \"balanced\" weights, use compute_class_weight (\"balanced\", classes, y). In place of y you can use a large enough sample of the full training set target to properly estimate the class frequency distributions. Pass the resulting weights as the class_weight parameter.\n",
            "  'class_weight presets \"balanced\" or '\n",
            "/usr/local/lib/python3.7/dist-packages/sklearn/ensemble/_forest.py:756: UserWarning: class_weight presets \"balanced\" or \"balanced_subsample\" are not recommended for warm_start if the fitted data differs from the full dataset. In order to use \"balanced\" weights, use compute_class_weight (\"balanced\", classes, y). In place of y you can use a large enough sample of the full training set target to properly estimate the class frequency distributions. Pass the resulting weights as the class_weight parameter.\n",
            "  'class_weight presets \"balanced\" or '\n"
          ]
        },
        {
          "output_type": "stream",
          "name": "stdout",
          "text": [
            "[CV 3/5] END bootstrap=False, class_weight=balanced_subsample, criterion=entropy, max_depth=2, max_features=auto, warm_start=True;, score=0.400 total time=   0.2s\n",
            "[CV 4/5] END bootstrap=False, class_weight=balanced_subsample, criterion=entropy, max_depth=2, max_features=auto, warm_start=True;, score=0.500 total time=   0.2s\n"
          ]
        },
        {
          "output_type": "stream",
          "name": "stderr",
          "text": [
            "/usr/local/lib/python3.7/dist-packages/sklearn/ensemble/_forest.py:756: UserWarning: class_weight presets \"balanced\" or \"balanced_subsample\" are not recommended for warm_start if the fitted data differs from the full dataset. In order to use \"balanced\" weights, use compute_class_weight (\"balanced\", classes, y). In place of y you can use a large enough sample of the full training set target to properly estimate the class frequency distributions. Pass the resulting weights as the class_weight parameter.\n",
            "  'class_weight presets \"balanced\" or '\n"
          ]
        },
        {
          "output_type": "stream",
          "name": "stdout",
          "text": [
            "[CV 5/5] END bootstrap=False, class_weight=balanced_subsample, criterion=entropy, max_depth=2, max_features=auto, warm_start=True;, score=0.400 total time=   0.2s\n",
            "[CV 1/5] END bootstrap=False, class_weight=balanced_subsample, criterion=entropy, max_depth=2, max_features=sqrt, warm_start=False;, score=0.400 total time=   0.1s\n",
            "[CV 2/5] END bootstrap=False, class_weight=balanced_subsample, criterion=entropy, max_depth=2, max_features=sqrt, warm_start=False;, score=0.250 total time=   0.2s\n",
            "[CV 3/5] END bootstrap=False, class_weight=balanced_subsample, criterion=entropy, max_depth=2, max_features=sqrt, warm_start=False;, score=0.450 total time=   0.1s\n",
            "[CV 4/5] END bootstrap=False, class_weight=balanced_subsample, criterion=entropy, max_depth=2, max_features=sqrt, warm_start=False;, score=0.450 total time=   0.1s\n",
            "[CV 5/5] END bootstrap=False, class_weight=balanced_subsample, criterion=entropy, max_depth=2, max_features=sqrt, warm_start=False;, score=0.350 total time=   0.1s\n"
          ]
        },
        {
          "output_type": "stream",
          "name": "stderr",
          "text": [
            "/usr/local/lib/python3.7/dist-packages/sklearn/ensemble/_forest.py:756: UserWarning: class_weight presets \"balanced\" or \"balanced_subsample\" are not recommended for warm_start if the fitted data differs from the full dataset. In order to use \"balanced\" weights, use compute_class_weight (\"balanced\", classes, y). In place of y you can use a large enough sample of the full training set target to properly estimate the class frequency distributions. Pass the resulting weights as the class_weight parameter.\n",
            "  'class_weight presets \"balanced\" or '\n",
            "/usr/local/lib/python3.7/dist-packages/sklearn/ensemble/_forest.py:756: UserWarning: class_weight presets \"balanced\" or \"balanced_subsample\" are not recommended for warm_start if the fitted data differs from the full dataset. In order to use \"balanced\" weights, use compute_class_weight (\"balanced\", classes, y). In place of y you can use a large enough sample of the full training set target to properly estimate the class frequency distributions. Pass the resulting weights as the class_weight parameter.\n",
            "  'class_weight presets \"balanced\" or '\n"
          ]
        },
        {
          "output_type": "stream",
          "name": "stdout",
          "text": [
            "[CV 1/5] END bootstrap=False, class_weight=balanced_subsample, criterion=entropy, max_depth=2, max_features=sqrt, warm_start=True;, score=0.350 total time=   0.1s\n",
            "[CV 2/5] END bootstrap=False, class_weight=balanced_subsample, criterion=entropy, max_depth=2, max_features=sqrt, warm_start=True;, score=0.400 total time=   0.1s\n"
          ]
        },
        {
          "output_type": "stream",
          "name": "stderr",
          "text": [
            "/usr/local/lib/python3.7/dist-packages/sklearn/ensemble/_forest.py:756: UserWarning: class_weight presets \"balanced\" or \"balanced_subsample\" are not recommended for warm_start if the fitted data differs from the full dataset. In order to use \"balanced\" weights, use compute_class_weight (\"balanced\", classes, y). In place of y you can use a large enough sample of the full training set target to properly estimate the class frequency distributions. Pass the resulting weights as the class_weight parameter.\n",
            "  'class_weight presets \"balanced\" or '\n",
            "/usr/local/lib/python3.7/dist-packages/sklearn/ensemble/_forest.py:756: UserWarning: class_weight presets \"balanced\" or \"balanced_subsample\" are not recommended for warm_start if the fitted data differs from the full dataset. In order to use \"balanced\" weights, use compute_class_weight (\"balanced\", classes, y). In place of y you can use a large enough sample of the full training set target to properly estimate the class frequency distributions. Pass the resulting weights as the class_weight parameter.\n",
            "  'class_weight presets \"balanced\" or '\n"
          ]
        },
        {
          "output_type": "stream",
          "name": "stdout",
          "text": [
            "[CV 3/5] END bootstrap=False, class_weight=balanced_subsample, criterion=entropy, max_depth=2, max_features=sqrt, warm_start=True;, score=0.450 total time=   0.1s\n",
            "[CV 4/5] END bootstrap=False, class_weight=balanced_subsample, criterion=entropy, max_depth=2, max_features=sqrt, warm_start=True;, score=0.500 total time=   0.1s\n"
          ]
        },
        {
          "output_type": "stream",
          "name": "stderr",
          "text": [
            "/usr/local/lib/python3.7/dist-packages/sklearn/ensemble/_forest.py:756: UserWarning: class_weight presets \"balanced\" or \"balanced_subsample\" are not recommended for warm_start if the fitted data differs from the full dataset. In order to use \"balanced\" weights, use compute_class_weight (\"balanced\", classes, y). In place of y you can use a large enough sample of the full training set target to properly estimate the class frequency distributions. Pass the resulting weights as the class_weight parameter.\n",
            "  'class_weight presets \"balanced\" or '\n"
          ]
        },
        {
          "output_type": "stream",
          "name": "stdout",
          "text": [
            "[CV 5/5] END bootstrap=False, class_weight=balanced_subsample, criterion=entropy, max_depth=2, max_features=sqrt, warm_start=True;, score=0.350 total time=   0.1s\n",
            "[CV 1/5] END bootstrap=False, class_weight=balanced_subsample, criterion=entropy, max_depth=2, max_features=log2, warm_start=False;, score=0.350 total time=   0.2s\n",
            "[CV 2/5] END bootstrap=False, class_weight=balanced_subsample, criterion=entropy, max_depth=2, max_features=log2, warm_start=False;, score=0.350 total time=   0.1s\n",
            "[CV 3/5] END bootstrap=False, class_weight=balanced_subsample, criterion=entropy, max_depth=2, max_features=log2, warm_start=False;, score=0.350 total time=   0.1s\n",
            "[CV 4/5] END bootstrap=False, class_weight=balanced_subsample, criterion=entropy, max_depth=2, max_features=log2, warm_start=False;, score=0.500 total time=   0.2s\n",
            "[CV 5/5] END bootstrap=False, class_weight=balanced_subsample, criterion=entropy, max_depth=2, max_features=log2, warm_start=False;, score=0.400 total time=   0.1s\n"
          ]
        },
        {
          "output_type": "stream",
          "name": "stderr",
          "text": [
            "/usr/local/lib/python3.7/dist-packages/sklearn/ensemble/_forest.py:756: UserWarning: class_weight presets \"balanced\" or \"balanced_subsample\" are not recommended for warm_start if the fitted data differs from the full dataset. In order to use \"balanced\" weights, use compute_class_weight (\"balanced\", classes, y). In place of y you can use a large enough sample of the full training set target to properly estimate the class frequency distributions. Pass the resulting weights as the class_weight parameter.\n",
            "  'class_weight presets \"balanced\" or '\n",
            "/usr/local/lib/python3.7/dist-packages/sklearn/ensemble/_forest.py:756: UserWarning: class_weight presets \"balanced\" or \"balanced_subsample\" are not recommended for warm_start if the fitted data differs from the full dataset. In order to use \"balanced\" weights, use compute_class_weight (\"balanced\", classes, y). In place of y you can use a large enough sample of the full training set target to properly estimate the class frequency distributions. Pass the resulting weights as the class_weight parameter.\n",
            "  'class_weight presets \"balanced\" or '\n"
          ]
        },
        {
          "output_type": "stream",
          "name": "stdout",
          "text": [
            "[CV 1/5] END bootstrap=False, class_weight=balanced_subsample, criterion=entropy, max_depth=2, max_features=log2, warm_start=True;, score=0.300 total time=   0.2s\n",
            "[CV 2/5] END bootstrap=False, class_weight=balanced_subsample, criterion=entropy, max_depth=2, max_features=log2, warm_start=True;, score=0.300 total time=   0.2s\n"
          ]
        },
        {
          "output_type": "stream",
          "name": "stderr",
          "text": [
            "/usr/local/lib/python3.7/dist-packages/sklearn/ensemble/_forest.py:756: UserWarning: class_weight presets \"balanced\" or \"balanced_subsample\" are not recommended for warm_start if the fitted data differs from the full dataset. In order to use \"balanced\" weights, use compute_class_weight (\"balanced\", classes, y). In place of y you can use a large enough sample of the full training set target to properly estimate the class frequency distributions. Pass the resulting weights as the class_weight parameter.\n",
            "  'class_weight presets \"balanced\" or '\n",
            "/usr/local/lib/python3.7/dist-packages/sklearn/ensemble/_forest.py:756: UserWarning: class_weight presets \"balanced\" or \"balanced_subsample\" are not recommended for warm_start if the fitted data differs from the full dataset. In order to use \"balanced\" weights, use compute_class_weight (\"balanced\", classes, y). In place of y you can use a large enough sample of the full training set target to properly estimate the class frequency distributions. Pass the resulting weights as the class_weight parameter.\n",
            "  'class_weight presets \"balanced\" or '\n"
          ]
        },
        {
          "output_type": "stream",
          "name": "stdout",
          "text": [
            "[CV 3/5] END bootstrap=False, class_weight=balanced_subsample, criterion=entropy, max_depth=2, max_features=log2, warm_start=True;, score=0.400 total time=   0.1s\n",
            "[CV 4/5] END bootstrap=False, class_weight=balanced_subsample, criterion=entropy, max_depth=2, max_features=log2, warm_start=True;, score=0.400 total time=   0.2s\n"
          ]
        },
        {
          "output_type": "stream",
          "name": "stderr",
          "text": [
            "/usr/local/lib/python3.7/dist-packages/sklearn/ensemble/_forest.py:756: UserWarning: class_weight presets \"balanced\" or \"balanced_subsample\" are not recommended for warm_start if the fitted data differs from the full dataset. In order to use \"balanced\" weights, use compute_class_weight (\"balanced\", classes, y). In place of y you can use a large enough sample of the full training set target to properly estimate the class frequency distributions. Pass the resulting weights as the class_weight parameter.\n",
            "  'class_weight presets \"balanced\" or '\n"
          ]
        },
        {
          "output_type": "stream",
          "name": "stdout",
          "text": [
            "[CV 5/5] END bootstrap=False, class_weight=balanced_subsample, criterion=entropy, max_depth=2, max_features=log2, warm_start=True;, score=0.350 total time=   0.2s\n",
            "[CV 1/5] END bootstrap=False, class_weight=balanced_subsample, criterion=entropy, max_depth=3, max_features=auto, warm_start=False;, score=0.400 total time=   0.2s\n",
            "[CV 2/5] END bootstrap=False, class_weight=balanced_subsample, criterion=entropy, max_depth=3, max_features=auto, warm_start=False;, score=0.450 total time=   0.2s\n",
            "[CV 3/5] END bootstrap=False, class_weight=balanced_subsample, criterion=entropy, max_depth=3, max_features=auto, warm_start=False;, score=0.400 total time=   0.2s\n",
            "[CV 4/5] END bootstrap=False, class_weight=balanced_subsample, criterion=entropy, max_depth=3, max_features=auto, warm_start=False;, score=0.500 total time=   0.2s\n",
            "[CV 5/5] END bootstrap=False, class_weight=balanced_subsample, criterion=entropy, max_depth=3, max_features=auto, warm_start=False;, score=0.400 total time=   0.2s\n"
          ]
        },
        {
          "output_type": "stream",
          "name": "stderr",
          "text": [
            "/usr/local/lib/python3.7/dist-packages/sklearn/ensemble/_forest.py:756: UserWarning: class_weight presets \"balanced\" or \"balanced_subsample\" are not recommended for warm_start if the fitted data differs from the full dataset. In order to use \"balanced\" weights, use compute_class_weight (\"balanced\", classes, y). In place of y you can use a large enough sample of the full training set target to properly estimate the class frequency distributions. Pass the resulting weights as the class_weight parameter.\n",
            "  'class_weight presets \"balanced\" or '\n",
            "/usr/local/lib/python3.7/dist-packages/sklearn/ensemble/_forest.py:756: UserWarning: class_weight presets \"balanced\" or \"balanced_subsample\" are not recommended for warm_start if the fitted data differs from the full dataset. In order to use \"balanced\" weights, use compute_class_weight (\"balanced\", classes, y). In place of y you can use a large enough sample of the full training set target to properly estimate the class frequency distributions. Pass the resulting weights as the class_weight parameter.\n",
            "  'class_weight presets \"balanced\" or '\n"
          ]
        },
        {
          "output_type": "stream",
          "name": "stdout",
          "text": [
            "[CV 1/5] END bootstrap=False, class_weight=balanced_subsample, criterion=entropy, max_depth=3, max_features=auto, warm_start=True;, score=0.400 total time=   0.2s\n",
            "[CV 2/5] END bootstrap=False, class_weight=balanced_subsample, criterion=entropy, max_depth=3, max_features=auto, warm_start=True;, score=0.500 total time=   0.2s\n"
          ]
        },
        {
          "output_type": "stream",
          "name": "stderr",
          "text": [
            "/usr/local/lib/python3.7/dist-packages/sklearn/ensemble/_forest.py:756: UserWarning: class_weight presets \"balanced\" or \"balanced_subsample\" are not recommended for warm_start if the fitted data differs from the full dataset. In order to use \"balanced\" weights, use compute_class_weight (\"balanced\", classes, y). In place of y you can use a large enough sample of the full training set target to properly estimate the class frequency distributions. Pass the resulting weights as the class_weight parameter.\n",
            "  'class_weight presets \"balanced\" or '\n",
            "/usr/local/lib/python3.7/dist-packages/sklearn/ensemble/_forest.py:756: UserWarning: class_weight presets \"balanced\" or \"balanced_subsample\" are not recommended for warm_start if the fitted data differs from the full dataset. In order to use \"balanced\" weights, use compute_class_weight (\"balanced\", classes, y). In place of y you can use a large enough sample of the full training set target to properly estimate the class frequency distributions. Pass the resulting weights as the class_weight parameter.\n",
            "  'class_weight presets \"balanced\" or '\n"
          ]
        },
        {
          "output_type": "stream",
          "name": "stdout",
          "text": [
            "[CV 3/5] END bootstrap=False, class_weight=balanced_subsample, criterion=entropy, max_depth=3, max_features=auto, warm_start=True;, score=0.450 total time=   0.2s\n",
            "[CV 4/5] END bootstrap=False, class_weight=balanced_subsample, criterion=entropy, max_depth=3, max_features=auto, warm_start=True;, score=0.500 total time=   0.2s\n"
          ]
        },
        {
          "output_type": "stream",
          "name": "stderr",
          "text": [
            "/usr/local/lib/python3.7/dist-packages/sklearn/ensemble/_forest.py:756: UserWarning: class_weight presets \"balanced\" or \"balanced_subsample\" are not recommended for warm_start if the fitted data differs from the full dataset. In order to use \"balanced\" weights, use compute_class_weight (\"balanced\", classes, y). In place of y you can use a large enough sample of the full training set target to properly estimate the class frequency distributions. Pass the resulting weights as the class_weight parameter.\n",
            "  'class_weight presets \"balanced\" or '\n"
          ]
        },
        {
          "output_type": "stream",
          "name": "stdout",
          "text": [
            "[CV 5/5] END bootstrap=False, class_weight=balanced_subsample, criterion=entropy, max_depth=3, max_features=auto, warm_start=True;, score=0.450 total time=   0.2s\n",
            "[CV 1/5] END bootstrap=False, class_weight=balanced_subsample, criterion=entropy, max_depth=3, max_features=sqrt, warm_start=False;, score=0.400 total time=   0.2s\n",
            "[CV 2/5] END bootstrap=False, class_weight=balanced_subsample, criterion=entropy, max_depth=3, max_features=sqrt, warm_start=False;, score=0.450 total time=   0.2s\n",
            "[CV 3/5] END bootstrap=False, class_weight=balanced_subsample, criterion=entropy, max_depth=3, max_features=sqrt, warm_start=False;, score=0.450 total time=   0.2s\n",
            "[CV 4/5] END bootstrap=False, class_weight=balanced_subsample, criterion=entropy, max_depth=3, max_features=sqrt, warm_start=False;, score=0.500 total time=   0.2s\n",
            "[CV 5/5] END bootstrap=False, class_weight=balanced_subsample, criterion=entropy, max_depth=3, max_features=sqrt, warm_start=False;, score=0.400 total time=   0.2s\n"
          ]
        },
        {
          "output_type": "stream",
          "name": "stderr",
          "text": [
            "/usr/local/lib/python3.7/dist-packages/sklearn/ensemble/_forest.py:756: UserWarning: class_weight presets \"balanced\" or \"balanced_subsample\" are not recommended for warm_start if the fitted data differs from the full dataset. In order to use \"balanced\" weights, use compute_class_weight (\"balanced\", classes, y). In place of y you can use a large enough sample of the full training set target to properly estimate the class frequency distributions. Pass the resulting weights as the class_weight parameter.\n",
            "  'class_weight presets \"balanced\" or '\n",
            "/usr/local/lib/python3.7/dist-packages/sklearn/ensemble/_forest.py:756: UserWarning: class_weight presets \"balanced\" or \"balanced_subsample\" are not recommended for warm_start if the fitted data differs from the full dataset. In order to use \"balanced\" weights, use compute_class_weight (\"balanced\", classes, y). In place of y you can use a large enough sample of the full training set target to properly estimate the class frequency distributions. Pass the resulting weights as the class_weight parameter.\n",
            "  'class_weight presets \"balanced\" or '\n"
          ]
        },
        {
          "output_type": "stream",
          "name": "stdout",
          "text": [
            "[CV 1/5] END bootstrap=False, class_weight=balanced_subsample, criterion=entropy, max_depth=3, max_features=sqrt, warm_start=True;, score=0.450 total time=   0.2s\n",
            "[CV 2/5] END bootstrap=False, class_weight=balanced_subsample, criterion=entropy, max_depth=3, max_features=sqrt, warm_start=True;, score=0.450 total time=   0.2s\n"
          ]
        },
        {
          "output_type": "stream",
          "name": "stderr",
          "text": [
            "/usr/local/lib/python3.7/dist-packages/sklearn/ensemble/_forest.py:756: UserWarning: class_weight presets \"balanced\" or \"balanced_subsample\" are not recommended for warm_start if the fitted data differs from the full dataset. In order to use \"balanced\" weights, use compute_class_weight (\"balanced\", classes, y). In place of y you can use a large enough sample of the full training set target to properly estimate the class frequency distributions. Pass the resulting weights as the class_weight parameter.\n",
            "  'class_weight presets \"balanced\" or '\n",
            "/usr/local/lib/python3.7/dist-packages/sklearn/ensemble/_forest.py:756: UserWarning: class_weight presets \"balanced\" or \"balanced_subsample\" are not recommended for warm_start if the fitted data differs from the full dataset. In order to use \"balanced\" weights, use compute_class_weight (\"balanced\", classes, y). In place of y you can use a large enough sample of the full training set target to properly estimate the class frequency distributions. Pass the resulting weights as the class_weight parameter.\n",
            "  'class_weight presets \"balanced\" or '\n"
          ]
        },
        {
          "output_type": "stream",
          "name": "stdout",
          "text": [
            "[CV 3/5] END bootstrap=False, class_weight=balanced_subsample, criterion=entropy, max_depth=3, max_features=sqrt, warm_start=True;, score=0.400 total time=   0.2s\n",
            "[CV 4/5] END bootstrap=False, class_weight=balanced_subsample, criterion=entropy, max_depth=3, max_features=sqrt, warm_start=True;, score=0.550 total time=   0.2s\n"
          ]
        },
        {
          "output_type": "stream",
          "name": "stderr",
          "text": [
            "/usr/local/lib/python3.7/dist-packages/sklearn/ensemble/_forest.py:756: UserWarning: class_weight presets \"balanced\" or \"balanced_subsample\" are not recommended for warm_start if the fitted data differs from the full dataset. In order to use \"balanced\" weights, use compute_class_weight (\"balanced\", classes, y). In place of y you can use a large enough sample of the full training set target to properly estimate the class frequency distributions. Pass the resulting weights as the class_weight parameter.\n",
            "  'class_weight presets \"balanced\" or '\n"
          ]
        },
        {
          "output_type": "stream",
          "name": "stdout",
          "text": [
            "[CV 5/5] END bootstrap=False, class_weight=balanced_subsample, criterion=entropy, max_depth=3, max_features=sqrt, warm_start=True;, score=0.350 total time=   0.2s\n",
            "[CV 1/5] END bootstrap=False, class_weight=balanced_subsample, criterion=entropy, max_depth=3, max_features=log2, warm_start=False;, score=0.400 total time=   0.2s\n",
            "[CV 2/5] END bootstrap=False, class_weight=balanced_subsample, criterion=entropy, max_depth=3, max_features=log2, warm_start=False;, score=0.450 total time=   0.2s\n",
            "[CV 3/5] END bootstrap=False, class_weight=balanced_subsample, criterion=entropy, max_depth=3, max_features=log2, warm_start=False;, score=0.450 total time=   0.2s\n",
            "[CV 4/5] END bootstrap=False, class_weight=balanced_subsample, criterion=entropy, max_depth=3, max_features=log2, warm_start=False;, score=0.450 total time=   0.2s\n",
            "[CV 5/5] END bootstrap=False, class_weight=balanced_subsample, criterion=entropy, max_depth=3, max_features=log2, warm_start=False;, score=0.350 total time=   0.2s\n"
          ]
        },
        {
          "output_type": "stream",
          "name": "stderr",
          "text": [
            "/usr/local/lib/python3.7/dist-packages/sklearn/ensemble/_forest.py:756: UserWarning: class_weight presets \"balanced\" or \"balanced_subsample\" are not recommended for warm_start if the fitted data differs from the full dataset. In order to use \"balanced\" weights, use compute_class_weight (\"balanced\", classes, y). In place of y you can use a large enough sample of the full training set target to properly estimate the class frequency distributions. Pass the resulting weights as the class_weight parameter.\n",
            "  'class_weight presets \"balanced\" or '\n",
            "/usr/local/lib/python3.7/dist-packages/sklearn/ensemble/_forest.py:756: UserWarning: class_weight presets \"balanced\" or \"balanced_subsample\" are not recommended for warm_start if the fitted data differs from the full dataset. In order to use \"balanced\" weights, use compute_class_weight (\"balanced\", classes, y). In place of y you can use a large enough sample of the full training set target to properly estimate the class frequency distributions. Pass the resulting weights as the class_weight parameter.\n",
            "  'class_weight presets \"balanced\" or '\n"
          ]
        },
        {
          "output_type": "stream",
          "name": "stdout",
          "text": [
            "[CV 1/5] END bootstrap=False, class_weight=balanced_subsample, criterion=entropy, max_depth=3, max_features=log2, warm_start=True;, score=0.450 total time=   0.2s\n",
            "[CV 2/5] END bootstrap=False, class_weight=balanced_subsample, criterion=entropy, max_depth=3, max_features=log2, warm_start=True;, score=0.450 total time=   0.2s\n"
          ]
        },
        {
          "output_type": "stream",
          "name": "stderr",
          "text": [
            "/usr/local/lib/python3.7/dist-packages/sklearn/ensemble/_forest.py:756: UserWarning: class_weight presets \"balanced\" or \"balanced_subsample\" are not recommended for warm_start if the fitted data differs from the full dataset. In order to use \"balanced\" weights, use compute_class_weight (\"balanced\", classes, y). In place of y you can use a large enough sample of the full training set target to properly estimate the class frequency distributions. Pass the resulting weights as the class_weight parameter.\n",
            "  'class_weight presets \"balanced\" or '\n",
            "/usr/local/lib/python3.7/dist-packages/sklearn/ensemble/_forest.py:756: UserWarning: class_weight presets \"balanced\" or \"balanced_subsample\" are not recommended for warm_start if the fitted data differs from the full dataset. In order to use \"balanced\" weights, use compute_class_weight (\"balanced\", classes, y). In place of y you can use a large enough sample of the full training set target to properly estimate the class frequency distributions. Pass the resulting weights as the class_weight parameter.\n",
            "  'class_weight presets \"balanced\" or '\n"
          ]
        },
        {
          "output_type": "stream",
          "name": "stdout",
          "text": [
            "[CV 3/5] END bootstrap=False, class_weight=balanced_subsample, criterion=entropy, max_depth=3, max_features=log2, warm_start=True;, score=0.400 total time=   0.2s\n",
            "[CV 4/5] END bootstrap=False, class_weight=balanced_subsample, criterion=entropy, max_depth=3, max_features=log2, warm_start=True;, score=0.500 total time=   0.2s\n"
          ]
        },
        {
          "output_type": "stream",
          "name": "stderr",
          "text": [
            "/usr/local/lib/python3.7/dist-packages/sklearn/ensemble/_forest.py:756: UserWarning: class_weight presets \"balanced\" or \"balanced_subsample\" are not recommended for warm_start if the fitted data differs from the full dataset. In order to use \"balanced\" weights, use compute_class_weight (\"balanced\", classes, y). In place of y you can use a large enough sample of the full training set target to properly estimate the class frequency distributions. Pass the resulting weights as the class_weight parameter.\n",
            "  'class_weight presets \"balanced\" or '\n"
          ]
        },
        {
          "output_type": "stream",
          "name": "stdout",
          "text": [
            "[CV 5/5] END bootstrap=False, class_weight=balanced_subsample, criterion=entropy, max_depth=3, max_features=log2, warm_start=True;, score=0.350 total time=   0.2s\n",
            "[CV 1/5] END bootstrap=False, class_weight=balanced_subsample, criterion=entropy, max_depth=5, max_features=auto, warm_start=False;, score=0.450 total time=   0.2s\n",
            "[CV 2/5] END bootstrap=False, class_weight=balanced_subsample, criterion=entropy, max_depth=5, max_features=auto, warm_start=False;, score=0.550 total time=   0.2s\n",
            "[CV 3/5] END bootstrap=False, class_weight=balanced_subsample, criterion=entropy, max_depth=5, max_features=auto, warm_start=False;, score=0.400 total time=   0.2s\n",
            "[CV 4/5] END bootstrap=False, class_weight=balanced_subsample, criterion=entropy, max_depth=5, max_features=auto, warm_start=False;, score=0.550 total time=   0.2s\n",
            "[CV 5/5] END bootstrap=False, class_weight=balanced_subsample, criterion=entropy, max_depth=5, max_features=auto, warm_start=False;, score=0.450 total time=   0.2s\n"
          ]
        },
        {
          "output_type": "stream",
          "name": "stderr",
          "text": [
            "/usr/local/lib/python3.7/dist-packages/sklearn/ensemble/_forest.py:756: UserWarning: class_weight presets \"balanced\" or \"balanced_subsample\" are not recommended for warm_start if the fitted data differs from the full dataset. In order to use \"balanced\" weights, use compute_class_weight (\"balanced\", classes, y). In place of y you can use a large enough sample of the full training set target to properly estimate the class frequency distributions. Pass the resulting weights as the class_weight parameter.\n",
            "  'class_weight presets \"balanced\" or '\n",
            "/usr/local/lib/python3.7/dist-packages/sklearn/ensemble/_forest.py:756: UserWarning: class_weight presets \"balanced\" or \"balanced_subsample\" are not recommended for warm_start if the fitted data differs from the full dataset. In order to use \"balanced\" weights, use compute_class_weight (\"balanced\", classes, y). In place of y you can use a large enough sample of the full training set target to properly estimate the class frequency distributions. Pass the resulting weights as the class_weight parameter.\n",
            "  'class_weight presets \"balanced\" or '\n"
          ]
        },
        {
          "output_type": "stream",
          "name": "stdout",
          "text": [
            "[CV 1/5] END bootstrap=False, class_weight=balanced_subsample, criterion=entropy, max_depth=5, max_features=auto, warm_start=True;, score=0.500 total time=   0.2s\n",
            "[CV 2/5] END bootstrap=False, class_weight=balanced_subsample, criterion=entropy, max_depth=5, max_features=auto, warm_start=True;, score=0.500 total time=   0.2s\n"
          ]
        },
        {
          "output_type": "stream",
          "name": "stderr",
          "text": [
            "/usr/local/lib/python3.7/dist-packages/sklearn/ensemble/_forest.py:756: UserWarning: class_weight presets \"balanced\" or \"balanced_subsample\" are not recommended for warm_start if the fitted data differs from the full dataset. In order to use \"balanced\" weights, use compute_class_weight (\"balanced\", classes, y). In place of y you can use a large enough sample of the full training set target to properly estimate the class frequency distributions. Pass the resulting weights as the class_weight parameter.\n",
            "  'class_weight presets \"balanced\" or '\n",
            "/usr/local/lib/python3.7/dist-packages/sklearn/ensemble/_forest.py:756: UserWarning: class_weight presets \"balanced\" or \"balanced_subsample\" are not recommended for warm_start if the fitted data differs from the full dataset. In order to use \"balanced\" weights, use compute_class_weight (\"balanced\", classes, y). In place of y you can use a large enough sample of the full training set target to properly estimate the class frequency distributions. Pass the resulting weights as the class_weight parameter.\n",
            "  'class_weight presets \"balanced\" or '\n"
          ]
        },
        {
          "output_type": "stream",
          "name": "stdout",
          "text": [
            "[CV 3/5] END bootstrap=False, class_weight=balanced_subsample, criterion=entropy, max_depth=5, max_features=auto, warm_start=True;, score=0.400 total time=   0.2s\n",
            "[CV 4/5] END bootstrap=False, class_weight=balanced_subsample, criterion=entropy, max_depth=5, max_features=auto, warm_start=True;, score=0.700 total time=   0.2s\n"
          ]
        },
        {
          "output_type": "stream",
          "name": "stderr",
          "text": [
            "/usr/local/lib/python3.7/dist-packages/sklearn/ensemble/_forest.py:756: UserWarning: class_weight presets \"balanced\" or \"balanced_subsample\" are not recommended for warm_start if the fitted data differs from the full dataset. In order to use \"balanced\" weights, use compute_class_weight (\"balanced\", classes, y). In place of y you can use a large enough sample of the full training set target to properly estimate the class frequency distributions. Pass the resulting weights as the class_weight parameter.\n",
            "  'class_weight presets \"balanced\" or '\n"
          ]
        },
        {
          "output_type": "stream",
          "name": "stdout",
          "text": [
            "[CV 5/5] END bootstrap=False, class_weight=balanced_subsample, criterion=entropy, max_depth=5, max_features=auto, warm_start=True;, score=0.450 total time=   0.2s\n",
            "[CV 1/5] END bootstrap=False, class_weight=balanced_subsample, criterion=entropy, max_depth=5, max_features=sqrt, warm_start=False;, score=0.450 total time=   0.2s\n",
            "[CV 2/5] END bootstrap=False, class_weight=balanced_subsample, criterion=entropy, max_depth=5, max_features=sqrt, warm_start=False;, score=0.550 total time=   0.2s\n",
            "[CV 3/5] END bootstrap=False, class_weight=balanced_subsample, criterion=entropy, max_depth=5, max_features=sqrt, warm_start=False;, score=0.400 total time=   0.2s\n",
            "[CV 4/5] END bootstrap=False, class_weight=balanced_subsample, criterion=entropy, max_depth=5, max_features=sqrt, warm_start=False;, score=0.550 total time=   0.2s\n",
            "[CV 5/5] END bootstrap=False, class_weight=balanced_subsample, criterion=entropy, max_depth=5, max_features=sqrt, warm_start=False;, score=0.450 total time=   0.2s\n"
          ]
        },
        {
          "output_type": "stream",
          "name": "stderr",
          "text": [
            "/usr/local/lib/python3.7/dist-packages/sklearn/ensemble/_forest.py:756: UserWarning: class_weight presets \"balanced\" or \"balanced_subsample\" are not recommended for warm_start if the fitted data differs from the full dataset. In order to use \"balanced\" weights, use compute_class_weight (\"balanced\", classes, y). In place of y you can use a large enough sample of the full training set target to properly estimate the class frequency distributions. Pass the resulting weights as the class_weight parameter.\n",
            "  'class_weight presets \"balanced\" or '\n",
            "/usr/local/lib/python3.7/dist-packages/sklearn/ensemble/_forest.py:756: UserWarning: class_weight presets \"balanced\" or \"balanced_subsample\" are not recommended for warm_start if the fitted data differs from the full dataset. In order to use \"balanced\" weights, use compute_class_weight (\"balanced\", classes, y). In place of y you can use a large enough sample of the full training set target to properly estimate the class frequency distributions. Pass the resulting weights as the class_weight parameter.\n",
            "  'class_weight presets \"balanced\" or '\n"
          ]
        },
        {
          "output_type": "stream",
          "name": "stdout",
          "text": [
            "[CV 1/5] END bootstrap=False, class_weight=balanced_subsample, criterion=entropy, max_depth=5, max_features=sqrt, warm_start=True;, score=0.400 total time=   0.2s\n",
            "[CV 2/5] END bootstrap=False, class_weight=balanced_subsample, criterion=entropy, max_depth=5, max_features=sqrt, warm_start=True;, score=0.500 total time=   0.2s\n"
          ]
        },
        {
          "output_type": "stream",
          "name": "stderr",
          "text": [
            "/usr/local/lib/python3.7/dist-packages/sklearn/ensemble/_forest.py:756: UserWarning: class_weight presets \"balanced\" or \"balanced_subsample\" are not recommended for warm_start if the fitted data differs from the full dataset. In order to use \"balanced\" weights, use compute_class_weight (\"balanced\", classes, y). In place of y you can use a large enough sample of the full training set target to properly estimate the class frequency distributions. Pass the resulting weights as the class_weight parameter.\n",
            "  'class_weight presets \"balanced\" or '\n",
            "/usr/local/lib/python3.7/dist-packages/sklearn/ensemble/_forest.py:756: UserWarning: class_weight presets \"balanced\" or \"balanced_subsample\" are not recommended for warm_start if the fitted data differs from the full dataset. In order to use \"balanced\" weights, use compute_class_weight (\"balanced\", classes, y). In place of y you can use a large enough sample of the full training set target to properly estimate the class frequency distributions. Pass the resulting weights as the class_weight parameter.\n",
            "  'class_weight presets \"balanced\" or '\n"
          ]
        },
        {
          "output_type": "stream",
          "name": "stdout",
          "text": [
            "[CV 3/5] END bootstrap=False, class_weight=balanced_subsample, criterion=entropy, max_depth=5, max_features=sqrt, warm_start=True;, score=0.400 total time=   0.2s\n",
            "[CV 4/5] END bootstrap=False, class_weight=balanced_subsample, criterion=entropy, max_depth=5, max_features=sqrt, warm_start=True;, score=0.600 total time=   0.2s\n"
          ]
        },
        {
          "output_type": "stream",
          "name": "stderr",
          "text": [
            "/usr/local/lib/python3.7/dist-packages/sklearn/ensemble/_forest.py:756: UserWarning: class_weight presets \"balanced\" or \"balanced_subsample\" are not recommended for warm_start if the fitted data differs from the full dataset. In order to use \"balanced\" weights, use compute_class_weight (\"balanced\", classes, y). In place of y you can use a large enough sample of the full training set target to properly estimate the class frequency distributions. Pass the resulting weights as the class_weight parameter.\n",
            "  'class_weight presets \"balanced\" or '\n"
          ]
        },
        {
          "output_type": "stream",
          "name": "stdout",
          "text": [
            "[CV 5/5] END bootstrap=False, class_weight=balanced_subsample, criterion=entropy, max_depth=5, max_features=sqrt, warm_start=True;, score=0.400 total time=   0.2s\n",
            "[CV 1/5] END bootstrap=False, class_weight=balanced_subsample, criterion=entropy, max_depth=5, max_features=log2, warm_start=False;, score=0.450 total time=   0.2s\n",
            "[CV 2/5] END bootstrap=False, class_weight=balanced_subsample, criterion=entropy, max_depth=5, max_features=log2, warm_start=False;, score=0.550 total time=   0.2s\n",
            "[CV 3/5] END bootstrap=False, class_weight=balanced_subsample, criterion=entropy, max_depth=5, max_features=log2, warm_start=False;, score=0.350 total time=   0.2s\n",
            "[CV 4/5] END bootstrap=False, class_weight=balanced_subsample, criterion=entropy, max_depth=5, max_features=log2, warm_start=False;, score=0.400 total time=   0.2s\n",
            "[CV 5/5] END bootstrap=False, class_weight=balanced_subsample, criterion=entropy, max_depth=5, max_features=log2, warm_start=False;, score=0.400 total time=   0.2s\n"
          ]
        },
        {
          "output_type": "stream",
          "name": "stderr",
          "text": [
            "/usr/local/lib/python3.7/dist-packages/sklearn/ensemble/_forest.py:756: UserWarning: class_weight presets \"balanced\" or \"balanced_subsample\" are not recommended for warm_start if the fitted data differs from the full dataset. In order to use \"balanced\" weights, use compute_class_weight (\"balanced\", classes, y). In place of y you can use a large enough sample of the full training set target to properly estimate the class frequency distributions. Pass the resulting weights as the class_weight parameter.\n",
            "  'class_weight presets \"balanced\" or '\n",
            "/usr/local/lib/python3.7/dist-packages/sklearn/ensemble/_forest.py:756: UserWarning: class_weight presets \"balanced\" or \"balanced_subsample\" are not recommended for warm_start if the fitted data differs from the full dataset. In order to use \"balanced\" weights, use compute_class_weight (\"balanced\", classes, y). In place of y you can use a large enough sample of the full training set target to properly estimate the class frequency distributions. Pass the resulting weights as the class_weight parameter.\n",
            "  'class_weight presets \"balanced\" or '\n"
          ]
        },
        {
          "output_type": "stream",
          "name": "stdout",
          "text": [
            "[CV 1/5] END bootstrap=False, class_weight=balanced_subsample, criterion=entropy, max_depth=5, max_features=log2, warm_start=True;, score=0.450 total time=   0.2s\n",
            "[CV 2/5] END bootstrap=False, class_weight=balanced_subsample, criterion=entropy, max_depth=5, max_features=log2, warm_start=True;, score=0.500 total time=   0.2s\n"
          ]
        },
        {
          "output_type": "stream",
          "name": "stderr",
          "text": [
            "/usr/local/lib/python3.7/dist-packages/sklearn/ensemble/_forest.py:756: UserWarning: class_weight presets \"balanced\" or \"balanced_subsample\" are not recommended for warm_start if the fitted data differs from the full dataset. In order to use \"balanced\" weights, use compute_class_weight (\"balanced\", classes, y). In place of y you can use a large enough sample of the full training set target to properly estimate the class frequency distributions. Pass the resulting weights as the class_weight parameter.\n",
            "  'class_weight presets \"balanced\" or '\n",
            "/usr/local/lib/python3.7/dist-packages/sklearn/ensemble/_forest.py:756: UserWarning: class_weight presets \"balanced\" or \"balanced_subsample\" are not recommended for warm_start if the fitted data differs from the full dataset. In order to use \"balanced\" weights, use compute_class_weight (\"balanced\", classes, y). In place of y you can use a large enough sample of the full training set target to properly estimate the class frequency distributions. Pass the resulting weights as the class_weight parameter.\n",
            "  'class_weight presets \"balanced\" or '\n"
          ]
        },
        {
          "output_type": "stream",
          "name": "stdout",
          "text": [
            "[CV 3/5] END bootstrap=False, class_weight=balanced_subsample, criterion=entropy, max_depth=5, max_features=log2, warm_start=True;, score=0.450 total time=   0.2s\n",
            "[CV 4/5] END bootstrap=False, class_weight=balanced_subsample, criterion=entropy, max_depth=5, max_features=log2, warm_start=True;, score=0.500 total time=   0.2s\n"
          ]
        },
        {
          "output_type": "stream",
          "name": "stderr",
          "text": [
            "/usr/local/lib/python3.7/dist-packages/sklearn/ensemble/_forest.py:756: UserWarning: class_weight presets \"balanced\" or \"balanced_subsample\" are not recommended for warm_start if the fitted data differs from the full dataset. In order to use \"balanced\" weights, use compute_class_weight (\"balanced\", classes, y). In place of y you can use a large enough sample of the full training set target to properly estimate the class frequency distributions. Pass the resulting weights as the class_weight parameter.\n",
            "  'class_weight presets \"balanced\" or '\n",
            "/usr/local/lib/python3.7/dist-packages/sklearn/ensemble/_forest.py:756: UserWarning: class_weight presets \"balanced\" or \"balanced_subsample\" are not recommended for warm_start if the fitted data differs from the full dataset. In order to use \"balanced\" weights, use compute_class_weight (\"balanced\", classes, y). In place of y you can use a large enough sample of the full training set target to properly estimate the class frequency distributions. Pass the resulting weights as the class_weight parameter.\n",
            "  'class_weight presets \"balanced\" or '\n"
          ]
        },
        {
          "output_type": "stream",
          "name": "stdout",
          "text": [
            "[CV 5/5] END bootstrap=False, class_weight=balanced_subsample, criterion=entropy, max_depth=5, max_features=log2, warm_start=True;, score=0.400 total time=   0.2s\n"
          ]
        },
        {
          "output_type": "execute_result",
          "data": {
            "text/plain": [
              "GridSearchCV(estimator=RandomForestClassifier(),\n",
              "             param_grid={'bootstrap': [True, False],\n",
              "                         'class_weight': ['balanced', 'balanced_subsample'],\n",
              "                         'criterion': ['gini', 'entropy'],\n",
              "                         'max_depth': [2, 3, 5],\n",
              "                         'max_features': ['auto', 'sqrt', 'log2'],\n",
              "                         'warm_start': [False, True]},\n",
              "             verbose=3)"
            ]
          },
          "metadata": {},
          "execution_count": 8
        }
      ]
    },
    {
      "cell_type": "code",
      "metadata": {
        "colab": {
          "base_uri": "https://localhost:8080/",
          "height": 0
        },
        "id": "39SX1fiV9ceV",
        "outputId": "d77582c2-4743-4224-bc73-349705a727a4"
      },
      "source": [
        "print(grid.best_params_)\n",
        "print(grid.best_estimator_)"
      ],
      "execution_count": 10,
      "outputs": [
        {
          "output_type": "stream",
          "name": "stdout",
          "text": [
            "{'bootstrap': False, 'class_weight': 'balanced_subsample', 'criterion': 'entropy', 'max_depth': 5, 'max_features': 'auto', 'warm_start': True}\n",
            "RandomForestClassifier(bootstrap=False, class_weight='balanced_subsample',\n",
            "                       criterion='entropy', max_depth=5, warm_start=True)\n"
          ]
        }
      ]
    },
    {
      "cell_type": "markdown",
      "metadata": {
        "id": "PXIUKlmC-Wn9"
      },
      "source": [
        "# multi class classification"
      ]
    },
    {
      "cell_type": "code",
      "metadata": {
        "id": "4JmDyEKb-CFl"
      },
      "source": [
        "from sklearn.ensemble import RandomForestClassifier as RFC\n",
        "from sklearn.datasets import make_classification\n"
      ],
      "execution_count": 11,
      "outputs": []
    },
    {
      "cell_type": "code",
      "metadata": {
        "id": "oSnmibzB-dxp"
      },
      "source": [
        "X, y = make_classification(n_samples=1000, n_classes=5, n_features = 20, random_state=6, n_informative = 4)"
      ],
      "execution_count": 12,
      "outputs": []
    },
    {
      "cell_type": "code",
      "metadata": {
        "colab": {
          "base_uri": "https://localhost:8080/",
          "height": 0
        },
        "id": "mmYlJrXW-fIZ",
        "outputId": "96270d07-e7ea-4f71-da94-4c3f838d3ca6"
      },
      "source": [
        "clf = RFC(max_depth=2, random_state=0)\n",
        "clf.fit(X, y)"
      ],
      "execution_count": 13,
      "outputs": [
        {
          "output_type": "execute_result",
          "data": {
            "text/plain": [
              "RandomForestClassifier(max_depth=2, random_state=0)"
            ]
          },
          "metadata": {},
          "execution_count": 13
        }
      ]
    },
    {
      "cell_type": "code",
      "metadata": {
        "id": "XzuyX9fG-hiV"
      },
      "source": [
        "from sklearn.model_selection import GridSearchCV"
      ],
      "execution_count": 14,
      "outputs": []
    },
    {
      "cell_type": "code",
      "metadata": {
        "id": "N4lNanYh-kKR"
      },
      "source": [
        "model = RFC()\n",
        "model.fit(X,y)\n",
        "param_grid = { 'criterion': ['gini', 'entropy'],\n",
        "'max_depth': [2, 3, 5],\n",
        "'max_features': ['auto', 'sqrt', 'log2'],\n",
        "'bootstrap': [True, False],\n",
        "'warm_start': [False, True],\n",
        "'class_weight': ['balanced', 'balanced_subsample'],\n",
        "}"
      ],
      "execution_count": 15,
      "outputs": []
    },
    {
      "cell_type": "code",
      "metadata": {
        "colab": {
          "base_uri": "https://localhost:8080/",
          "height": 0
        },
        "id": "qI7sn8hW-lnH",
        "outputId": "7d445a79-0b86-43cc-9d32-9a355bddc790"
      },
      "source": [
        "grid = GridSearchCV(RFC(), param_grid, refit=True, verbose = 3)\n",
        "grid.fit(X, y)\n",
        "print(grid.best_params_)\n",
        "print(grid.best_estimator_)"
      ],
      "execution_count": 16,
      "outputs": [
        {
          "output_type": "stream",
          "name": "stdout",
          "text": [
            "Fitting 5 folds for each of 144 candidates, totalling 720 fits\n",
            "[CV 1/5] END bootstrap=True, class_weight=balanced, criterion=gini, max_depth=2, max_features=auto, warm_start=False;, score=0.600 total time=   0.2s\n",
            "[CV 2/5] END bootstrap=True, class_weight=balanced, criterion=gini, max_depth=2, max_features=auto, warm_start=False;, score=0.620 total time=   0.2s\n",
            "[CV 3/5] END bootstrap=True, class_weight=balanced, criterion=gini, max_depth=2, max_features=auto, warm_start=False;, score=0.525 total time=   0.2s\n",
            "[CV 4/5] END bootstrap=True, class_weight=balanced, criterion=gini, max_depth=2, max_features=auto, warm_start=False;, score=0.465 total time=   0.2s\n",
            "[CV 5/5] END bootstrap=True, class_weight=balanced, criterion=gini, max_depth=2, max_features=auto, warm_start=False;, score=0.480 total time=   0.2s\n"
          ]
        },
        {
          "output_type": "stream",
          "name": "stderr",
          "text": [
            "/usr/local/lib/python3.7/dist-packages/sklearn/ensemble/_forest.py:756: UserWarning: class_weight presets \"balanced\" or \"balanced_subsample\" are not recommended for warm_start if the fitted data differs from the full dataset. In order to use \"balanced\" weights, use compute_class_weight (\"balanced\", classes, y). In place of y you can use a large enough sample of the full training set target to properly estimate the class frequency distributions. Pass the resulting weights as the class_weight parameter.\n",
            "  'class_weight presets \"balanced\" or '\n"
          ]
        },
        {
          "output_type": "stream",
          "name": "stdout",
          "text": [
            "[CV 1/5] END bootstrap=True, class_weight=balanced, criterion=gini, max_depth=2, max_features=auto, warm_start=True;, score=0.560 total time=   0.2s\n"
          ]
        },
        {
          "output_type": "stream",
          "name": "stderr",
          "text": [
            "/usr/local/lib/python3.7/dist-packages/sklearn/ensemble/_forest.py:756: UserWarning: class_weight presets \"balanced\" or \"balanced_subsample\" are not recommended for warm_start if the fitted data differs from the full dataset. In order to use \"balanced\" weights, use compute_class_weight (\"balanced\", classes, y). In place of y you can use a large enough sample of the full training set target to properly estimate the class frequency distributions. Pass the resulting weights as the class_weight parameter.\n",
            "  'class_weight presets \"balanced\" or '\n"
          ]
        },
        {
          "output_type": "stream",
          "name": "stdout",
          "text": [
            "[CV 2/5] END bootstrap=True, class_weight=balanced, criterion=gini, max_depth=2, max_features=auto, warm_start=True;, score=0.585 total time=   0.2s\n"
          ]
        },
        {
          "output_type": "stream",
          "name": "stderr",
          "text": [
            "/usr/local/lib/python3.7/dist-packages/sklearn/ensemble/_forest.py:756: UserWarning: class_weight presets \"balanced\" or \"balanced_subsample\" are not recommended for warm_start if the fitted data differs from the full dataset. In order to use \"balanced\" weights, use compute_class_weight (\"balanced\", classes, y). In place of y you can use a large enough sample of the full training set target to properly estimate the class frequency distributions. Pass the resulting weights as the class_weight parameter.\n",
            "  'class_weight presets \"balanced\" or '\n"
          ]
        },
        {
          "output_type": "stream",
          "name": "stdout",
          "text": [
            "[CV 3/5] END bootstrap=True, class_weight=balanced, criterion=gini, max_depth=2, max_features=auto, warm_start=True;, score=0.525 total time=   0.2s\n"
          ]
        },
        {
          "output_type": "stream",
          "name": "stderr",
          "text": [
            "/usr/local/lib/python3.7/dist-packages/sklearn/ensemble/_forest.py:756: UserWarning: class_weight presets \"balanced\" or \"balanced_subsample\" are not recommended for warm_start if the fitted data differs from the full dataset. In order to use \"balanced\" weights, use compute_class_weight (\"balanced\", classes, y). In place of y you can use a large enough sample of the full training set target to properly estimate the class frequency distributions. Pass the resulting weights as the class_weight parameter.\n",
            "  'class_weight presets \"balanced\" or '\n"
          ]
        },
        {
          "output_type": "stream",
          "name": "stdout",
          "text": [
            "[CV 4/5] END bootstrap=True, class_weight=balanced, criterion=gini, max_depth=2, max_features=auto, warm_start=True;, score=0.525 total time=   0.2s\n"
          ]
        },
        {
          "output_type": "stream",
          "name": "stderr",
          "text": [
            "/usr/local/lib/python3.7/dist-packages/sklearn/ensemble/_forest.py:756: UserWarning: class_weight presets \"balanced\" or \"balanced_subsample\" are not recommended for warm_start if the fitted data differs from the full dataset. In order to use \"balanced\" weights, use compute_class_weight (\"balanced\", classes, y). In place of y you can use a large enough sample of the full training set target to properly estimate the class frequency distributions. Pass the resulting weights as the class_weight parameter.\n",
            "  'class_weight presets \"balanced\" or '\n"
          ]
        },
        {
          "output_type": "stream",
          "name": "stdout",
          "text": [
            "[CV 5/5] END bootstrap=True, class_weight=balanced, criterion=gini, max_depth=2, max_features=auto, warm_start=True;, score=0.520 total time=   0.2s\n",
            "[CV 1/5] END bootstrap=True, class_weight=balanced, criterion=gini, max_depth=2, max_features=sqrt, warm_start=False;, score=0.600 total time=   0.2s\n",
            "[CV 2/5] END bootstrap=True, class_weight=balanced, criterion=gini, max_depth=2, max_features=sqrt, warm_start=False;, score=0.575 total time=   0.2s\n",
            "[CV 3/5] END bootstrap=True, class_weight=balanced, criterion=gini, max_depth=2, max_features=sqrt, warm_start=False;, score=0.520 total time=   0.2s\n",
            "[CV 4/5] END bootstrap=True, class_weight=balanced, criterion=gini, max_depth=2, max_features=sqrt, warm_start=False;, score=0.510 total time=   0.2s\n",
            "[CV 5/5] END bootstrap=True, class_weight=balanced, criterion=gini, max_depth=2, max_features=sqrt, warm_start=False;, score=0.485 total time=   0.2s\n"
          ]
        },
        {
          "output_type": "stream",
          "name": "stderr",
          "text": [
            "/usr/local/lib/python3.7/dist-packages/sklearn/ensemble/_forest.py:756: UserWarning: class_weight presets \"balanced\" or \"balanced_subsample\" are not recommended for warm_start if the fitted data differs from the full dataset. In order to use \"balanced\" weights, use compute_class_weight (\"balanced\", classes, y). In place of y you can use a large enough sample of the full training set target to properly estimate the class frequency distributions. Pass the resulting weights as the class_weight parameter.\n",
            "  'class_weight presets \"balanced\" or '\n",
            "/usr/local/lib/python3.7/dist-packages/sklearn/ensemble/_forest.py:756: UserWarning: class_weight presets \"balanced\" or \"balanced_subsample\" are not recommended for warm_start if the fitted data differs from the full dataset. In order to use \"balanced\" weights, use compute_class_weight (\"balanced\", classes, y). In place of y you can use a large enough sample of the full training set target to properly estimate the class frequency distributions. Pass the resulting weights as the class_weight parameter.\n",
            "  'class_weight presets \"balanced\" or '\n"
          ]
        },
        {
          "output_type": "stream",
          "name": "stdout",
          "text": [
            "[CV 1/5] END bootstrap=True, class_weight=balanced, criterion=gini, max_depth=2, max_features=sqrt, warm_start=True;, score=0.575 total time=   0.2s\n",
            "[CV 2/5] END bootstrap=True, class_weight=balanced, criterion=gini, max_depth=2, max_features=sqrt, warm_start=True;, score=0.565 total time=   0.2s\n"
          ]
        },
        {
          "output_type": "stream",
          "name": "stderr",
          "text": [
            "/usr/local/lib/python3.7/dist-packages/sklearn/ensemble/_forest.py:756: UserWarning: class_weight presets \"balanced\" or \"balanced_subsample\" are not recommended for warm_start if the fitted data differs from the full dataset. In order to use \"balanced\" weights, use compute_class_weight (\"balanced\", classes, y). In place of y you can use a large enough sample of the full training set target to properly estimate the class frequency distributions. Pass the resulting weights as the class_weight parameter.\n",
            "  'class_weight presets \"balanced\" or '\n"
          ]
        },
        {
          "output_type": "stream",
          "name": "stdout",
          "text": [
            "[CV 3/5] END bootstrap=True, class_weight=balanced, criterion=gini, max_depth=2, max_features=sqrt, warm_start=True;, score=0.515 total time=   0.2s\n",
            "[CV 4/5] END bootstrap=True, class_weight=balanced, criterion=gini, max_depth=2, max_features=sqrt, warm_start=True;, score=0.490 total time=   0.2s\n"
          ]
        },
        {
          "output_type": "stream",
          "name": "stderr",
          "text": [
            "/usr/local/lib/python3.7/dist-packages/sklearn/ensemble/_forest.py:756: UserWarning: class_weight presets \"balanced\" or \"balanced_subsample\" are not recommended for warm_start if the fitted data differs from the full dataset. In order to use \"balanced\" weights, use compute_class_weight (\"balanced\", classes, y). In place of y you can use a large enough sample of the full training set target to properly estimate the class frequency distributions. Pass the resulting weights as the class_weight parameter.\n",
            "  'class_weight presets \"balanced\" or '\n",
            "/usr/local/lib/python3.7/dist-packages/sklearn/ensemble/_forest.py:756: UserWarning: class_weight presets \"balanced\" or \"balanced_subsample\" are not recommended for warm_start if the fitted data differs from the full dataset. In order to use \"balanced\" weights, use compute_class_weight (\"balanced\", classes, y). In place of y you can use a large enough sample of the full training set target to properly estimate the class frequency distributions. Pass the resulting weights as the class_weight parameter.\n",
            "  'class_weight presets \"balanced\" or '\n"
          ]
        },
        {
          "output_type": "stream",
          "name": "stdout",
          "text": [
            "[CV 5/5] END bootstrap=True, class_weight=balanced, criterion=gini, max_depth=2, max_features=sqrt, warm_start=True;, score=0.530 total time=   0.2s\n",
            "[CV 1/5] END bootstrap=True, class_weight=balanced, criterion=gini, max_depth=2, max_features=log2, warm_start=False;, score=0.630 total time=   0.2s\n",
            "[CV 2/5] END bootstrap=True, class_weight=balanced, criterion=gini, max_depth=2, max_features=log2, warm_start=False;, score=0.560 total time=   0.2s\n",
            "[CV 3/5] END bootstrap=True, class_weight=balanced, criterion=gini, max_depth=2, max_features=log2, warm_start=False;, score=0.510 total time=   0.2s\n",
            "[CV 4/5] END bootstrap=True, class_weight=balanced, criterion=gini, max_depth=2, max_features=log2, warm_start=False;, score=0.525 total time=   0.2s\n",
            "[CV 5/5] END bootstrap=True, class_weight=balanced, criterion=gini, max_depth=2, max_features=log2, warm_start=False;, score=0.490 total time=   0.2s\n"
          ]
        },
        {
          "output_type": "stream",
          "name": "stderr",
          "text": [
            "/usr/local/lib/python3.7/dist-packages/sklearn/ensemble/_forest.py:756: UserWarning: class_weight presets \"balanced\" or \"balanced_subsample\" are not recommended for warm_start if the fitted data differs from the full dataset. In order to use \"balanced\" weights, use compute_class_weight (\"balanced\", classes, y). In place of y you can use a large enough sample of the full training set target to properly estimate the class frequency distributions. Pass the resulting weights as the class_weight parameter.\n",
            "  'class_weight presets \"balanced\" or '\n"
          ]
        },
        {
          "output_type": "stream",
          "name": "stdout",
          "text": [
            "[CV 1/5] END bootstrap=True, class_weight=balanced, criterion=gini, max_depth=2, max_features=log2, warm_start=True;, score=0.565 total time=   0.2s\n"
          ]
        },
        {
          "output_type": "stream",
          "name": "stderr",
          "text": [
            "/usr/local/lib/python3.7/dist-packages/sklearn/ensemble/_forest.py:756: UserWarning: class_weight presets \"balanced\" or \"balanced_subsample\" are not recommended for warm_start if the fitted data differs from the full dataset. In order to use \"balanced\" weights, use compute_class_weight (\"balanced\", classes, y). In place of y you can use a large enough sample of the full training set target to properly estimate the class frequency distributions. Pass the resulting weights as the class_weight parameter.\n",
            "  'class_weight presets \"balanced\" or '\n"
          ]
        },
        {
          "output_type": "stream",
          "name": "stdout",
          "text": [
            "[CV 2/5] END bootstrap=True, class_weight=balanced, criterion=gini, max_depth=2, max_features=log2, warm_start=True;, score=0.565 total time=   0.2s\n"
          ]
        },
        {
          "output_type": "stream",
          "name": "stderr",
          "text": [
            "/usr/local/lib/python3.7/dist-packages/sklearn/ensemble/_forest.py:756: UserWarning: class_weight presets \"balanced\" or \"balanced_subsample\" are not recommended for warm_start if the fitted data differs from the full dataset. In order to use \"balanced\" weights, use compute_class_weight (\"balanced\", classes, y). In place of y you can use a large enough sample of the full training set target to properly estimate the class frequency distributions. Pass the resulting weights as the class_weight parameter.\n",
            "  'class_weight presets \"balanced\" or '\n"
          ]
        },
        {
          "output_type": "stream",
          "name": "stdout",
          "text": [
            "[CV 3/5] END bootstrap=True, class_weight=balanced, criterion=gini, max_depth=2, max_features=log2, warm_start=True;, score=0.460 total time=   0.2s\n",
            "[CV 4/5] END bootstrap=True, class_weight=balanced, criterion=gini, max_depth=2, max_features=log2, warm_start=True;, score=0.525 total time=   0.2s\n"
          ]
        },
        {
          "output_type": "stream",
          "name": "stderr",
          "text": [
            "/usr/local/lib/python3.7/dist-packages/sklearn/ensemble/_forest.py:756: UserWarning: class_weight presets \"balanced\" or \"balanced_subsample\" are not recommended for warm_start if the fitted data differs from the full dataset. In order to use \"balanced\" weights, use compute_class_weight (\"balanced\", classes, y). In place of y you can use a large enough sample of the full training set target to properly estimate the class frequency distributions. Pass the resulting weights as the class_weight parameter.\n",
            "  'class_weight presets \"balanced\" or '\n",
            "/usr/local/lib/python3.7/dist-packages/sklearn/ensemble/_forest.py:756: UserWarning: class_weight presets \"balanced\" or \"balanced_subsample\" are not recommended for warm_start if the fitted data differs from the full dataset. In order to use \"balanced\" weights, use compute_class_weight (\"balanced\", classes, y). In place of y you can use a large enough sample of the full training set target to properly estimate the class frequency distributions. Pass the resulting weights as the class_weight parameter.\n",
            "  'class_weight presets \"balanced\" or '\n"
          ]
        },
        {
          "output_type": "stream",
          "name": "stdout",
          "text": [
            "[CV 5/5] END bootstrap=True, class_weight=balanced, criterion=gini, max_depth=2, max_features=log2, warm_start=True;, score=0.515 total time=   0.2s\n",
            "[CV 1/5] END bootstrap=True, class_weight=balanced, criterion=gini, max_depth=3, max_features=auto, warm_start=False;, score=0.645 total time=   0.2s\n",
            "[CV 2/5] END bootstrap=True, class_weight=balanced, criterion=gini, max_depth=3, max_features=auto, warm_start=False;, score=0.615 total time=   0.2s\n",
            "[CV 3/5] END bootstrap=True, class_weight=balanced, criterion=gini, max_depth=3, max_features=auto, warm_start=False;, score=0.545 total time=   0.2s\n",
            "[CV 4/5] END bootstrap=True, class_weight=balanced, criterion=gini, max_depth=3, max_features=auto, warm_start=False;, score=0.550 total time=   0.2s\n",
            "[CV 5/5] END bootstrap=True, class_weight=balanced, criterion=gini, max_depth=3, max_features=auto, warm_start=False;, score=0.555 total time=   0.2s\n"
          ]
        },
        {
          "output_type": "stream",
          "name": "stderr",
          "text": [
            "/usr/local/lib/python3.7/dist-packages/sklearn/ensemble/_forest.py:756: UserWarning: class_weight presets \"balanced\" or \"balanced_subsample\" are not recommended for warm_start if the fitted data differs from the full dataset. In order to use \"balanced\" weights, use compute_class_weight (\"balanced\", classes, y). In place of y you can use a large enough sample of the full training set target to properly estimate the class frequency distributions. Pass the resulting weights as the class_weight parameter.\n",
            "  'class_weight presets \"balanced\" or '\n"
          ]
        },
        {
          "output_type": "stream",
          "name": "stdout",
          "text": [
            "[CV 1/5] END bootstrap=True, class_weight=balanced, criterion=gini, max_depth=3, max_features=auto, warm_start=True;, score=0.645 total time=   0.2s\n"
          ]
        },
        {
          "output_type": "stream",
          "name": "stderr",
          "text": [
            "/usr/local/lib/python3.7/dist-packages/sklearn/ensemble/_forest.py:756: UserWarning: class_weight presets \"balanced\" or \"balanced_subsample\" are not recommended for warm_start if the fitted data differs from the full dataset. In order to use \"balanced\" weights, use compute_class_weight (\"balanced\", classes, y). In place of y you can use a large enough sample of the full training set target to properly estimate the class frequency distributions. Pass the resulting weights as the class_weight parameter.\n",
            "  'class_weight presets \"balanced\" or '\n"
          ]
        },
        {
          "output_type": "stream",
          "name": "stdout",
          "text": [
            "[CV 2/5] END bootstrap=True, class_weight=balanced, criterion=gini, max_depth=3, max_features=auto, warm_start=True;, score=0.605 total time=   0.2s\n"
          ]
        },
        {
          "output_type": "stream",
          "name": "stderr",
          "text": [
            "/usr/local/lib/python3.7/dist-packages/sklearn/ensemble/_forest.py:756: UserWarning: class_weight presets \"balanced\" or \"balanced_subsample\" are not recommended for warm_start if the fitted data differs from the full dataset. In order to use \"balanced\" weights, use compute_class_weight (\"balanced\", classes, y). In place of y you can use a large enough sample of the full training set target to properly estimate the class frequency distributions. Pass the resulting weights as the class_weight parameter.\n",
            "  'class_weight presets \"balanced\" or '\n"
          ]
        },
        {
          "output_type": "stream",
          "name": "stdout",
          "text": [
            "[CV 3/5] END bootstrap=True, class_weight=balanced, criterion=gini, max_depth=3, max_features=auto, warm_start=True;, score=0.575 total time=   0.2s\n"
          ]
        },
        {
          "output_type": "stream",
          "name": "stderr",
          "text": [
            "/usr/local/lib/python3.7/dist-packages/sklearn/ensemble/_forest.py:756: UserWarning: class_weight presets \"balanced\" or \"balanced_subsample\" are not recommended for warm_start if the fitted data differs from the full dataset. In order to use \"balanced\" weights, use compute_class_weight (\"balanced\", classes, y). In place of y you can use a large enough sample of the full training set target to properly estimate the class frequency distributions. Pass the resulting weights as the class_weight parameter.\n",
            "  'class_weight presets \"balanced\" or '\n"
          ]
        },
        {
          "output_type": "stream",
          "name": "stdout",
          "text": [
            "[CV 4/5] END bootstrap=True, class_weight=balanced, criterion=gini, max_depth=3, max_features=auto, warm_start=True;, score=0.570 total time=   0.2s\n"
          ]
        },
        {
          "output_type": "stream",
          "name": "stderr",
          "text": [
            "/usr/local/lib/python3.7/dist-packages/sklearn/ensemble/_forest.py:756: UserWarning: class_weight presets \"balanced\" or \"balanced_subsample\" are not recommended for warm_start if the fitted data differs from the full dataset. In order to use \"balanced\" weights, use compute_class_weight (\"balanced\", classes, y). In place of y you can use a large enough sample of the full training set target to properly estimate the class frequency distributions. Pass the resulting weights as the class_weight parameter.\n",
            "  'class_weight presets \"balanced\" or '\n"
          ]
        },
        {
          "output_type": "stream",
          "name": "stdout",
          "text": [
            "[CV 5/5] END bootstrap=True, class_weight=balanced, criterion=gini, max_depth=3, max_features=auto, warm_start=True;, score=0.565 total time=   0.2s\n",
            "[CV 1/5] END bootstrap=True, class_weight=balanced, criterion=gini, max_depth=3, max_features=sqrt, warm_start=False;, score=0.655 total time=   0.2s\n",
            "[CV 2/5] END bootstrap=True, class_weight=balanced, criterion=gini, max_depth=3, max_features=sqrt, warm_start=False;, score=0.605 total time=   0.2s\n",
            "[CV 3/5] END bootstrap=True, class_weight=balanced, criterion=gini, max_depth=3, max_features=sqrt, warm_start=False;, score=0.530 total time=   0.2s\n",
            "[CV 4/5] END bootstrap=True, class_weight=balanced, criterion=gini, max_depth=3, max_features=sqrt, warm_start=False;, score=0.540 total time=   0.2s\n",
            "[CV 5/5] END bootstrap=True, class_weight=balanced, criterion=gini, max_depth=3, max_features=sqrt, warm_start=False;, score=0.555 total time=   0.2s\n"
          ]
        },
        {
          "output_type": "stream",
          "name": "stderr",
          "text": [
            "/usr/local/lib/python3.7/dist-packages/sklearn/ensemble/_forest.py:756: UserWarning: class_weight presets \"balanced\" or \"balanced_subsample\" are not recommended for warm_start if the fitted data differs from the full dataset. In order to use \"balanced\" weights, use compute_class_weight (\"balanced\", classes, y). In place of y you can use a large enough sample of the full training set target to properly estimate the class frequency distributions. Pass the resulting weights as the class_weight parameter.\n",
            "  'class_weight presets \"balanced\" or '\n"
          ]
        },
        {
          "output_type": "stream",
          "name": "stdout",
          "text": [
            "[CV 1/5] END bootstrap=True, class_weight=balanced, criterion=gini, max_depth=3, max_features=sqrt, warm_start=True;, score=0.660 total time=   0.2s\n"
          ]
        },
        {
          "output_type": "stream",
          "name": "stderr",
          "text": [
            "/usr/local/lib/python3.7/dist-packages/sklearn/ensemble/_forest.py:756: UserWarning: class_weight presets \"balanced\" or \"balanced_subsample\" are not recommended for warm_start if the fitted data differs from the full dataset. In order to use \"balanced\" weights, use compute_class_weight (\"balanced\", classes, y). In place of y you can use a large enough sample of the full training set target to properly estimate the class frequency distributions. Pass the resulting weights as the class_weight parameter.\n",
            "  'class_weight presets \"balanced\" or '\n"
          ]
        },
        {
          "output_type": "stream",
          "name": "stdout",
          "text": [
            "[CV 2/5] END bootstrap=True, class_weight=balanced, criterion=gini, max_depth=3, max_features=sqrt, warm_start=True;, score=0.585 total time=   0.2s\n"
          ]
        },
        {
          "output_type": "stream",
          "name": "stderr",
          "text": [
            "/usr/local/lib/python3.7/dist-packages/sklearn/ensemble/_forest.py:756: UserWarning: class_weight presets \"balanced\" or \"balanced_subsample\" are not recommended for warm_start if the fitted data differs from the full dataset. In order to use \"balanced\" weights, use compute_class_weight (\"balanced\", classes, y). In place of y you can use a large enough sample of the full training set target to properly estimate the class frequency distributions. Pass the resulting weights as the class_weight parameter.\n",
            "  'class_weight presets \"balanced\" or '\n"
          ]
        },
        {
          "output_type": "stream",
          "name": "stdout",
          "text": [
            "[CV 3/5] END bootstrap=True, class_weight=balanced, criterion=gini, max_depth=3, max_features=sqrt, warm_start=True;, score=0.510 total time=   0.2s\n"
          ]
        },
        {
          "output_type": "stream",
          "name": "stderr",
          "text": [
            "/usr/local/lib/python3.7/dist-packages/sklearn/ensemble/_forest.py:756: UserWarning: class_weight presets \"balanced\" or \"balanced_subsample\" are not recommended for warm_start if the fitted data differs from the full dataset. In order to use \"balanced\" weights, use compute_class_weight (\"balanced\", classes, y). In place of y you can use a large enough sample of the full training set target to properly estimate the class frequency distributions. Pass the resulting weights as the class_weight parameter.\n",
            "  'class_weight presets \"balanced\" or '\n"
          ]
        },
        {
          "output_type": "stream",
          "name": "stdout",
          "text": [
            "[CV 4/5] END bootstrap=True, class_weight=balanced, criterion=gini, max_depth=3, max_features=sqrt, warm_start=True;, score=0.550 total time=   0.2s\n"
          ]
        },
        {
          "output_type": "stream",
          "name": "stderr",
          "text": [
            "/usr/local/lib/python3.7/dist-packages/sklearn/ensemble/_forest.py:756: UserWarning: class_weight presets \"balanced\" or \"balanced_subsample\" are not recommended for warm_start if the fitted data differs from the full dataset. In order to use \"balanced\" weights, use compute_class_weight (\"balanced\", classes, y). In place of y you can use a large enough sample of the full training set target to properly estimate the class frequency distributions. Pass the resulting weights as the class_weight parameter.\n",
            "  'class_weight presets \"balanced\" or '\n"
          ]
        },
        {
          "output_type": "stream",
          "name": "stdout",
          "text": [
            "[CV 5/5] END bootstrap=True, class_weight=balanced, criterion=gini, max_depth=3, max_features=sqrt, warm_start=True;, score=0.565 total time=   0.2s\n",
            "[CV 1/5] END bootstrap=True, class_weight=balanced, criterion=gini, max_depth=3, max_features=log2, warm_start=False;, score=0.650 total time=   0.2s\n",
            "[CV 2/5] END bootstrap=True, class_weight=balanced, criterion=gini, max_depth=3, max_features=log2, warm_start=False;, score=0.605 total time=   0.2s\n",
            "[CV 3/5] END bootstrap=True, class_weight=balanced, criterion=gini, max_depth=3, max_features=log2, warm_start=False;, score=0.530 total time=   0.2s\n",
            "[CV 4/5] END bootstrap=True, class_weight=balanced, criterion=gini, max_depth=3, max_features=log2, warm_start=False;, score=0.550 total time=   0.2s\n",
            "[CV 5/5] END bootstrap=True, class_weight=balanced, criterion=gini, max_depth=3, max_features=log2, warm_start=False;, score=0.550 total time=   0.2s\n"
          ]
        },
        {
          "output_type": "stream",
          "name": "stderr",
          "text": [
            "/usr/local/lib/python3.7/dist-packages/sklearn/ensemble/_forest.py:756: UserWarning: class_weight presets \"balanced\" or \"balanced_subsample\" are not recommended for warm_start if the fitted data differs from the full dataset. In order to use \"balanced\" weights, use compute_class_weight (\"balanced\", classes, y). In place of y you can use a large enough sample of the full training set target to properly estimate the class frequency distributions. Pass the resulting weights as the class_weight parameter.\n",
            "  'class_weight presets \"balanced\" or '\n"
          ]
        },
        {
          "output_type": "stream",
          "name": "stdout",
          "text": [
            "[CV 1/5] END bootstrap=True, class_weight=balanced, criterion=gini, max_depth=3, max_features=log2, warm_start=True;, score=0.640 total time=   0.2s\n"
          ]
        },
        {
          "output_type": "stream",
          "name": "stderr",
          "text": [
            "/usr/local/lib/python3.7/dist-packages/sklearn/ensemble/_forest.py:756: UserWarning: class_weight presets \"balanced\" or \"balanced_subsample\" are not recommended for warm_start if the fitted data differs from the full dataset. In order to use \"balanced\" weights, use compute_class_weight (\"balanced\", classes, y). In place of y you can use a large enough sample of the full training set target to properly estimate the class frequency distributions. Pass the resulting weights as the class_weight parameter.\n",
            "  'class_weight presets \"balanced\" or '\n"
          ]
        },
        {
          "output_type": "stream",
          "name": "stdout",
          "text": [
            "[CV 2/5] END bootstrap=True, class_weight=balanced, criterion=gini, max_depth=3, max_features=log2, warm_start=True;, score=0.615 total time=   0.2s\n"
          ]
        },
        {
          "output_type": "stream",
          "name": "stderr",
          "text": [
            "/usr/local/lib/python3.7/dist-packages/sklearn/ensemble/_forest.py:756: UserWarning: class_weight presets \"balanced\" or \"balanced_subsample\" are not recommended for warm_start if the fitted data differs from the full dataset. In order to use \"balanced\" weights, use compute_class_weight (\"balanced\", classes, y). In place of y you can use a large enough sample of the full training set target to properly estimate the class frequency distributions. Pass the resulting weights as the class_weight parameter.\n",
            "  'class_weight presets \"balanced\" or '\n"
          ]
        },
        {
          "output_type": "stream",
          "name": "stdout",
          "text": [
            "[CV 3/5] END bootstrap=True, class_weight=balanced, criterion=gini, max_depth=3, max_features=log2, warm_start=True;, score=0.535 total time=   0.2s\n"
          ]
        },
        {
          "output_type": "stream",
          "name": "stderr",
          "text": [
            "/usr/local/lib/python3.7/dist-packages/sklearn/ensemble/_forest.py:756: UserWarning: class_weight presets \"balanced\" or \"balanced_subsample\" are not recommended for warm_start if the fitted data differs from the full dataset. In order to use \"balanced\" weights, use compute_class_weight (\"balanced\", classes, y). In place of y you can use a large enough sample of the full training set target to properly estimate the class frequency distributions. Pass the resulting weights as the class_weight parameter.\n",
            "  'class_weight presets \"balanced\" or '\n"
          ]
        },
        {
          "output_type": "stream",
          "name": "stdout",
          "text": [
            "[CV 4/5] END bootstrap=True, class_weight=balanced, criterion=gini, max_depth=3, max_features=log2, warm_start=True;, score=0.565 total time=   0.2s\n"
          ]
        },
        {
          "output_type": "stream",
          "name": "stderr",
          "text": [
            "/usr/local/lib/python3.7/dist-packages/sklearn/ensemble/_forest.py:756: UserWarning: class_weight presets \"balanced\" or \"balanced_subsample\" are not recommended for warm_start if the fitted data differs from the full dataset. In order to use \"balanced\" weights, use compute_class_weight (\"balanced\", classes, y). In place of y you can use a large enough sample of the full training set target to properly estimate the class frequency distributions. Pass the resulting weights as the class_weight parameter.\n",
            "  'class_weight presets \"balanced\" or '\n"
          ]
        },
        {
          "output_type": "stream",
          "name": "stdout",
          "text": [
            "[CV 5/5] END bootstrap=True, class_weight=balanced, criterion=gini, max_depth=3, max_features=log2, warm_start=True;, score=0.590 total time=   0.2s\n",
            "[CV 1/5] END bootstrap=True, class_weight=balanced, criterion=gini, max_depth=5, max_features=auto, warm_start=False;, score=0.690 total time=   0.3s\n",
            "[CV 2/5] END bootstrap=True, class_weight=balanced, criterion=gini, max_depth=5, max_features=auto, warm_start=False;, score=0.630 total time=   0.3s\n",
            "[CV 3/5] END bootstrap=True, class_weight=balanced, criterion=gini, max_depth=5, max_features=auto, warm_start=False;, score=0.605 total time=   0.3s\n",
            "[CV 4/5] END bootstrap=True, class_weight=balanced, criterion=gini, max_depth=5, max_features=auto, warm_start=False;, score=0.595 total time=   0.3s\n",
            "[CV 5/5] END bootstrap=True, class_weight=balanced, criterion=gini, max_depth=5, max_features=auto, warm_start=False;, score=0.615 total time=   0.3s\n"
          ]
        },
        {
          "output_type": "stream",
          "name": "stderr",
          "text": [
            "/usr/local/lib/python3.7/dist-packages/sklearn/ensemble/_forest.py:756: UserWarning: class_weight presets \"balanced\" or \"balanced_subsample\" are not recommended for warm_start if the fitted data differs from the full dataset. In order to use \"balanced\" weights, use compute_class_weight (\"balanced\", classes, y). In place of y you can use a large enough sample of the full training set target to properly estimate the class frequency distributions. Pass the resulting weights as the class_weight parameter.\n",
            "  'class_weight presets \"balanced\" or '\n"
          ]
        },
        {
          "output_type": "stream",
          "name": "stdout",
          "text": [
            "[CV 1/5] END bootstrap=True, class_weight=balanced, criterion=gini, max_depth=5, max_features=auto, warm_start=True;, score=0.700 total time=   0.3s\n"
          ]
        },
        {
          "output_type": "stream",
          "name": "stderr",
          "text": [
            "/usr/local/lib/python3.7/dist-packages/sklearn/ensemble/_forest.py:756: UserWarning: class_weight presets \"balanced\" or \"balanced_subsample\" are not recommended for warm_start if the fitted data differs from the full dataset. In order to use \"balanced\" weights, use compute_class_weight (\"balanced\", classes, y). In place of y you can use a large enough sample of the full training set target to properly estimate the class frequency distributions. Pass the resulting weights as the class_weight parameter.\n",
            "  'class_weight presets \"balanced\" or '\n"
          ]
        },
        {
          "output_type": "stream",
          "name": "stdout",
          "text": [
            "[CV 2/5] END bootstrap=True, class_weight=balanced, criterion=gini, max_depth=5, max_features=auto, warm_start=True;, score=0.670 total time=   0.3s\n"
          ]
        },
        {
          "output_type": "stream",
          "name": "stderr",
          "text": [
            "/usr/local/lib/python3.7/dist-packages/sklearn/ensemble/_forest.py:756: UserWarning: class_weight presets \"balanced\" or \"balanced_subsample\" are not recommended for warm_start if the fitted data differs from the full dataset. In order to use \"balanced\" weights, use compute_class_weight (\"balanced\", classes, y). In place of y you can use a large enough sample of the full training set target to properly estimate the class frequency distributions. Pass the resulting weights as the class_weight parameter.\n",
            "  'class_weight presets \"balanced\" or '\n"
          ]
        },
        {
          "output_type": "stream",
          "name": "stdout",
          "text": [
            "[CV 3/5] END bootstrap=True, class_weight=balanced, criterion=gini, max_depth=5, max_features=auto, warm_start=True;, score=0.575 total time=   0.3s\n"
          ]
        },
        {
          "output_type": "stream",
          "name": "stderr",
          "text": [
            "/usr/local/lib/python3.7/dist-packages/sklearn/ensemble/_forest.py:756: UserWarning: class_weight presets \"balanced\" or \"balanced_subsample\" are not recommended for warm_start if the fitted data differs from the full dataset. In order to use \"balanced\" weights, use compute_class_weight (\"balanced\", classes, y). In place of y you can use a large enough sample of the full training set target to properly estimate the class frequency distributions. Pass the resulting weights as the class_weight parameter.\n",
            "  'class_weight presets \"balanced\" or '\n"
          ]
        },
        {
          "output_type": "stream",
          "name": "stdout",
          "text": [
            "[CV 4/5] END bootstrap=True, class_weight=balanced, criterion=gini, max_depth=5, max_features=auto, warm_start=True;, score=0.600 total time=   0.3s\n"
          ]
        },
        {
          "output_type": "stream",
          "name": "stderr",
          "text": [
            "/usr/local/lib/python3.7/dist-packages/sklearn/ensemble/_forest.py:756: UserWarning: class_weight presets \"balanced\" or \"balanced_subsample\" are not recommended for warm_start if the fitted data differs from the full dataset. In order to use \"balanced\" weights, use compute_class_weight (\"balanced\", classes, y). In place of y you can use a large enough sample of the full training set target to properly estimate the class frequency distributions. Pass the resulting weights as the class_weight parameter.\n",
            "  'class_weight presets \"balanced\" or '\n"
          ]
        },
        {
          "output_type": "stream",
          "name": "stdout",
          "text": [
            "[CV 5/5] END bootstrap=True, class_weight=balanced, criterion=gini, max_depth=5, max_features=auto, warm_start=True;, score=0.645 total time=   0.3s\n",
            "[CV 1/5] END bootstrap=True, class_weight=balanced, criterion=gini, max_depth=5, max_features=sqrt, warm_start=False;, score=0.690 total time=   0.3s\n",
            "[CV 2/5] END bootstrap=True, class_weight=balanced, criterion=gini, max_depth=5, max_features=sqrt, warm_start=False;, score=0.645 total time=   0.3s\n",
            "[CV 3/5] END bootstrap=True, class_weight=balanced, criterion=gini, max_depth=5, max_features=sqrt, warm_start=False;, score=0.600 total time=   0.3s\n",
            "[CV 4/5] END bootstrap=True, class_weight=balanced, criterion=gini, max_depth=5, max_features=sqrt, warm_start=False;, score=0.590 total time=   0.3s\n",
            "[CV 5/5] END bootstrap=True, class_weight=balanced, criterion=gini, max_depth=5, max_features=sqrt, warm_start=False;, score=0.630 total time=   0.3s\n"
          ]
        },
        {
          "output_type": "stream",
          "name": "stderr",
          "text": [
            "/usr/local/lib/python3.7/dist-packages/sklearn/ensemble/_forest.py:756: UserWarning: class_weight presets \"balanced\" or \"balanced_subsample\" are not recommended for warm_start if the fitted data differs from the full dataset. In order to use \"balanced\" weights, use compute_class_weight (\"balanced\", classes, y). In place of y you can use a large enough sample of the full training set target to properly estimate the class frequency distributions. Pass the resulting weights as the class_weight parameter.\n",
            "  'class_weight presets \"balanced\" or '\n"
          ]
        },
        {
          "output_type": "stream",
          "name": "stdout",
          "text": [
            "[CV 1/5] END bootstrap=True, class_weight=balanced, criterion=gini, max_depth=5, max_features=sqrt, warm_start=True;, score=0.665 total time=   0.3s\n"
          ]
        },
        {
          "output_type": "stream",
          "name": "stderr",
          "text": [
            "/usr/local/lib/python3.7/dist-packages/sklearn/ensemble/_forest.py:756: UserWarning: class_weight presets \"balanced\" or \"balanced_subsample\" are not recommended for warm_start if the fitted data differs from the full dataset. In order to use \"balanced\" weights, use compute_class_weight (\"balanced\", classes, y). In place of y you can use a large enough sample of the full training set target to properly estimate the class frequency distributions. Pass the resulting weights as the class_weight parameter.\n",
            "  'class_weight presets \"balanced\" or '\n"
          ]
        },
        {
          "output_type": "stream",
          "name": "stdout",
          "text": [
            "[CV 2/5] END bootstrap=True, class_weight=balanced, criterion=gini, max_depth=5, max_features=sqrt, warm_start=True;, score=0.665 total time=   0.3s\n"
          ]
        },
        {
          "output_type": "stream",
          "name": "stderr",
          "text": [
            "/usr/local/lib/python3.7/dist-packages/sklearn/ensemble/_forest.py:756: UserWarning: class_weight presets \"balanced\" or \"balanced_subsample\" are not recommended for warm_start if the fitted data differs from the full dataset. In order to use \"balanced\" weights, use compute_class_weight (\"balanced\", classes, y). In place of y you can use a large enough sample of the full training set target to properly estimate the class frequency distributions. Pass the resulting weights as the class_weight parameter.\n",
            "  'class_weight presets \"balanced\" or '\n"
          ]
        },
        {
          "output_type": "stream",
          "name": "stdout",
          "text": [
            "[CV 3/5] END bootstrap=True, class_weight=balanced, criterion=gini, max_depth=5, max_features=sqrt, warm_start=True;, score=0.610 total time=   0.3s\n"
          ]
        },
        {
          "output_type": "stream",
          "name": "stderr",
          "text": [
            "/usr/local/lib/python3.7/dist-packages/sklearn/ensemble/_forest.py:756: UserWarning: class_weight presets \"balanced\" or \"balanced_subsample\" are not recommended for warm_start if the fitted data differs from the full dataset. In order to use \"balanced\" weights, use compute_class_weight (\"balanced\", classes, y). In place of y you can use a large enough sample of the full training set target to properly estimate the class frequency distributions. Pass the resulting weights as the class_weight parameter.\n",
            "  'class_weight presets \"balanced\" or '\n"
          ]
        },
        {
          "output_type": "stream",
          "name": "stdout",
          "text": [
            "[CV 4/5] END bootstrap=True, class_weight=balanced, criterion=gini, max_depth=5, max_features=sqrt, warm_start=True;, score=0.610 total time=   0.3s\n"
          ]
        },
        {
          "output_type": "stream",
          "name": "stderr",
          "text": [
            "/usr/local/lib/python3.7/dist-packages/sklearn/ensemble/_forest.py:756: UserWarning: class_weight presets \"balanced\" or \"balanced_subsample\" are not recommended for warm_start if the fitted data differs from the full dataset. In order to use \"balanced\" weights, use compute_class_weight (\"balanced\", classes, y). In place of y you can use a large enough sample of the full training set target to properly estimate the class frequency distributions. Pass the resulting weights as the class_weight parameter.\n",
            "  'class_weight presets \"balanced\" or '\n"
          ]
        },
        {
          "output_type": "stream",
          "name": "stdout",
          "text": [
            "[CV 5/5] END bootstrap=True, class_weight=balanced, criterion=gini, max_depth=5, max_features=sqrt, warm_start=True;, score=0.630 total time=   0.3s\n",
            "[CV 1/5] END bootstrap=True, class_weight=balanced, criterion=gini, max_depth=5, max_features=log2, warm_start=False;, score=0.670 total time=   0.3s\n",
            "[CV 2/5] END bootstrap=True, class_weight=balanced, criterion=gini, max_depth=5, max_features=log2, warm_start=False;, score=0.645 total time=   0.3s\n",
            "[CV 3/5] END bootstrap=True, class_weight=balanced, criterion=gini, max_depth=5, max_features=log2, warm_start=False;, score=0.565 total time=   0.3s\n",
            "[CV 4/5] END bootstrap=True, class_weight=balanced, criterion=gini, max_depth=5, max_features=log2, warm_start=False;, score=0.615 total time=   0.3s\n",
            "[CV 5/5] END bootstrap=True, class_weight=balanced, criterion=gini, max_depth=5, max_features=log2, warm_start=False;, score=0.635 total time=   0.3s\n"
          ]
        },
        {
          "output_type": "stream",
          "name": "stderr",
          "text": [
            "/usr/local/lib/python3.7/dist-packages/sklearn/ensemble/_forest.py:756: UserWarning: class_weight presets \"balanced\" or \"balanced_subsample\" are not recommended for warm_start if the fitted data differs from the full dataset. In order to use \"balanced\" weights, use compute_class_weight (\"balanced\", classes, y). In place of y you can use a large enough sample of the full training set target to properly estimate the class frequency distributions. Pass the resulting weights as the class_weight parameter.\n",
            "  'class_weight presets \"balanced\" or '\n"
          ]
        },
        {
          "output_type": "stream",
          "name": "stdout",
          "text": [
            "[CV 1/5] END bootstrap=True, class_weight=balanced, criterion=gini, max_depth=5, max_features=log2, warm_start=True;, score=0.690 total time=   0.3s\n"
          ]
        },
        {
          "output_type": "stream",
          "name": "stderr",
          "text": [
            "/usr/local/lib/python3.7/dist-packages/sklearn/ensemble/_forest.py:756: UserWarning: class_weight presets \"balanced\" or \"balanced_subsample\" are not recommended for warm_start if the fitted data differs from the full dataset. In order to use \"balanced\" weights, use compute_class_weight (\"balanced\", classes, y). In place of y you can use a large enough sample of the full training set target to properly estimate the class frequency distributions. Pass the resulting weights as the class_weight parameter.\n",
            "  'class_weight presets \"balanced\" or '\n"
          ]
        },
        {
          "output_type": "stream",
          "name": "stdout",
          "text": [
            "[CV 2/5] END bootstrap=True, class_weight=balanced, criterion=gini, max_depth=5, max_features=log2, warm_start=True;, score=0.640 total time=   0.3s\n"
          ]
        },
        {
          "output_type": "stream",
          "name": "stderr",
          "text": [
            "/usr/local/lib/python3.7/dist-packages/sklearn/ensemble/_forest.py:756: UserWarning: class_weight presets \"balanced\" or \"balanced_subsample\" are not recommended for warm_start if the fitted data differs from the full dataset. In order to use \"balanced\" weights, use compute_class_weight (\"balanced\", classes, y). In place of y you can use a large enough sample of the full training set target to properly estimate the class frequency distributions. Pass the resulting weights as the class_weight parameter.\n",
            "  'class_weight presets \"balanced\" or '\n"
          ]
        },
        {
          "output_type": "stream",
          "name": "stdout",
          "text": [
            "[CV 3/5] END bootstrap=True, class_weight=balanced, criterion=gini, max_depth=5, max_features=log2, warm_start=True;, score=0.565 total time=   0.3s\n"
          ]
        },
        {
          "output_type": "stream",
          "name": "stderr",
          "text": [
            "/usr/local/lib/python3.7/dist-packages/sklearn/ensemble/_forest.py:756: UserWarning: class_weight presets \"balanced\" or \"balanced_subsample\" are not recommended for warm_start if the fitted data differs from the full dataset. In order to use \"balanced\" weights, use compute_class_weight (\"balanced\", classes, y). In place of y you can use a large enough sample of the full training set target to properly estimate the class frequency distributions. Pass the resulting weights as the class_weight parameter.\n",
            "  'class_weight presets \"balanced\" or '\n"
          ]
        },
        {
          "output_type": "stream",
          "name": "stdout",
          "text": [
            "[CV 4/5] END bootstrap=True, class_weight=balanced, criterion=gini, max_depth=5, max_features=log2, warm_start=True;, score=0.585 total time=   0.3s\n"
          ]
        },
        {
          "output_type": "stream",
          "name": "stderr",
          "text": [
            "/usr/local/lib/python3.7/dist-packages/sklearn/ensemble/_forest.py:756: UserWarning: class_weight presets \"balanced\" or \"balanced_subsample\" are not recommended for warm_start if the fitted data differs from the full dataset. In order to use \"balanced\" weights, use compute_class_weight (\"balanced\", classes, y). In place of y you can use a large enough sample of the full training set target to properly estimate the class frequency distributions. Pass the resulting weights as the class_weight parameter.\n",
            "  'class_weight presets \"balanced\" or '\n"
          ]
        },
        {
          "output_type": "stream",
          "name": "stdout",
          "text": [
            "[CV 5/5] END bootstrap=True, class_weight=balanced, criterion=gini, max_depth=5, max_features=log2, warm_start=True;, score=0.630 total time=   0.3s\n",
            "[CV 1/5] END bootstrap=True, class_weight=balanced, criterion=entropy, max_depth=2, max_features=auto, warm_start=False;, score=0.595 total time=   0.3s\n",
            "[CV 2/5] END bootstrap=True, class_weight=balanced, criterion=entropy, max_depth=2, max_features=auto, warm_start=False;, score=0.510 total time=   0.3s\n",
            "[CV 3/5] END bootstrap=True, class_weight=balanced, criterion=entropy, max_depth=2, max_features=auto, warm_start=False;, score=0.505 total time=   0.3s\n",
            "[CV 4/5] END bootstrap=True, class_weight=balanced, criterion=entropy, max_depth=2, max_features=auto, warm_start=False;, score=0.505 total time=   0.3s\n",
            "[CV 5/5] END bootstrap=True, class_weight=balanced, criterion=entropy, max_depth=2, max_features=auto, warm_start=False;, score=0.515 total time=   0.3s\n"
          ]
        },
        {
          "output_type": "stream",
          "name": "stderr",
          "text": [
            "/usr/local/lib/python3.7/dist-packages/sklearn/ensemble/_forest.py:756: UserWarning: class_weight presets \"balanced\" or \"balanced_subsample\" are not recommended for warm_start if the fitted data differs from the full dataset. In order to use \"balanced\" weights, use compute_class_weight (\"balanced\", classes, y). In place of y you can use a large enough sample of the full training set target to properly estimate the class frequency distributions. Pass the resulting weights as the class_weight parameter.\n",
            "  'class_weight presets \"balanced\" or '\n"
          ]
        },
        {
          "output_type": "stream",
          "name": "stdout",
          "text": [
            "[CV 1/5] END bootstrap=True, class_weight=balanced, criterion=entropy, max_depth=2, max_features=auto, warm_start=True;, score=0.580 total time=   0.3s\n"
          ]
        },
        {
          "output_type": "stream",
          "name": "stderr",
          "text": [
            "/usr/local/lib/python3.7/dist-packages/sklearn/ensemble/_forest.py:756: UserWarning: class_weight presets \"balanced\" or \"balanced_subsample\" are not recommended for warm_start if the fitted data differs from the full dataset. In order to use \"balanced\" weights, use compute_class_weight (\"balanced\", classes, y). In place of y you can use a large enough sample of the full training set target to properly estimate the class frequency distributions. Pass the resulting weights as the class_weight parameter.\n",
            "  'class_weight presets \"balanced\" or '\n"
          ]
        },
        {
          "output_type": "stream",
          "name": "stdout",
          "text": [
            "[CV 2/5] END bootstrap=True, class_weight=balanced, criterion=entropy, max_depth=2, max_features=auto, warm_start=True;, score=0.490 total time=   0.3s\n"
          ]
        },
        {
          "output_type": "stream",
          "name": "stderr",
          "text": [
            "/usr/local/lib/python3.7/dist-packages/sklearn/ensemble/_forest.py:756: UserWarning: class_weight presets \"balanced\" or \"balanced_subsample\" are not recommended for warm_start if the fitted data differs from the full dataset. In order to use \"balanced\" weights, use compute_class_weight (\"balanced\", classes, y). In place of y you can use a large enough sample of the full training set target to properly estimate the class frequency distributions. Pass the resulting weights as the class_weight parameter.\n",
            "  'class_weight presets \"balanced\" or '\n"
          ]
        },
        {
          "output_type": "stream",
          "name": "stdout",
          "text": [
            "[CV 3/5] END bootstrap=True, class_weight=balanced, criterion=entropy, max_depth=2, max_features=auto, warm_start=True;, score=0.545 total time=   0.3s\n"
          ]
        },
        {
          "output_type": "stream",
          "name": "stderr",
          "text": [
            "/usr/local/lib/python3.7/dist-packages/sklearn/ensemble/_forest.py:756: UserWarning: class_weight presets \"balanced\" or \"balanced_subsample\" are not recommended for warm_start if the fitted data differs from the full dataset. In order to use \"balanced\" weights, use compute_class_weight (\"balanced\", classes, y). In place of y you can use a large enough sample of the full training set target to properly estimate the class frequency distributions. Pass the resulting weights as the class_weight parameter.\n",
            "  'class_weight presets \"balanced\" or '\n"
          ]
        },
        {
          "output_type": "stream",
          "name": "stdout",
          "text": [
            "[CV 4/5] END bootstrap=True, class_weight=balanced, criterion=entropy, max_depth=2, max_features=auto, warm_start=True;, score=0.515 total time=   0.3s\n"
          ]
        },
        {
          "output_type": "stream",
          "name": "stderr",
          "text": [
            "/usr/local/lib/python3.7/dist-packages/sklearn/ensemble/_forest.py:756: UserWarning: class_weight presets \"balanced\" or \"balanced_subsample\" are not recommended for warm_start if the fitted data differs from the full dataset. In order to use \"balanced\" weights, use compute_class_weight (\"balanced\", classes, y). In place of y you can use a large enough sample of the full training set target to properly estimate the class frequency distributions. Pass the resulting weights as the class_weight parameter.\n",
            "  'class_weight presets \"balanced\" or '\n"
          ]
        },
        {
          "output_type": "stream",
          "name": "stdout",
          "text": [
            "[CV 5/5] END bootstrap=True, class_weight=balanced, criterion=entropy, max_depth=2, max_features=auto, warm_start=True;, score=0.515 total time=   0.3s\n",
            "[CV 1/5] END bootstrap=True, class_weight=balanced, criterion=entropy, max_depth=2, max_features=sqrt, warm_start=False;, score=0.545 total time=   0.3s\n",
            "[CV 2/5] END bootstrap=True, class_weight=balanced, criterion=entropy, max_depth=2, max_features=sqrt, warm_start=False;, score=0.570 total time=   0.3s\n",
            "[CV 3/5] END bootstrap=True, class_weight=balanced, criterion=entropy, max_depth=2, max_features=sqrt, warm_start=False;, score=0.500 total time=   0.3s\n",
            "[CV 4/5] END bootstrap=True, class_weight=balanced, criterion=entropy, max_depth=2, max_features=sqrt, warm_start=False;, score=0.510 total time=   0.3s\n",
            "[CV 5/5] END bootstrap=True, class_weight=balanced, criterion=entropy, max_depth=2, max_features=sqrt, warm_start=False;, score=0.505 total time=   0.3s\n"
          ]
        },
        {
          "output_type": "stream",
          "name": "stderr",
          "text": [
            "/usr/local/lib/python3.7/dist-packages/sklearn/ensemble/_forest.py:756: UserWarning: class_weight presets \"balanced\" or \"balanced_subsample\" are not recommended for warm_start if the fitted data differs from the full dataset. In order to use \"balanced\" weights, use compute_class_weight (\"balanced\", classes, y). In place of y you can use a large enough sample of the full training set target to properly estimate the class frequency distributions. Pass the resulting weights as the class_weight parameter.\n",
            "  'class_weight presets \"balanced\" or '\n"
          ]
        },
        {
          "output_type": "stream",
          "name": "stdout",
          "text": [
            "[CV 1/5] END bootstrap=True, class_weight=balanced, criterion=entropy, max_depth=2, max_features=sqrt, warm_start=True;, score=0.570 total time=   0.3s\n"
          ]
        },
        {
          "output_type": "stream",
          "name": "stderr",
          "text": [
            "/usr/local/lib/python3.7/dist-packages/sklearn/ensemble/_forest.py:756: UserWarning: class_weight presets \"balanced\" or \"balanced_subsample\" are not recommended for warm_start if the fitted data differs from the full dataset. In order to use \"balanced\" weights, use compute_class_weight (\"balanced\", classes, y). In place of y you can use a large enough sample of the full training set target to properly estimate the class frequency distributions. Pass the resulting weights as the class_weight parameter.\n",
            "  'class_weight presets \"balanced\" or '\n"
          ]
        },
        {
          "output_type": "stream",
          "name": "stdout",
          "text": [
            "[CV 2/5] END bootstrap=True, class_weight=balanced, criterion=entropy, max_depth=2, max_features=sqrt, warm_start=True;, score=0.500 total time=   0.3s\n"
          ]
        },
        {
          "output_type": "stream",
          "name": "stderr",
          "text": [
            "/usr/local/lib/python3.7/dist-packages/sklearn/ensemble/_forest.py:756: UserWarning: class_weight presets \"balanced\" or \"balanced_subsample\" are not recommended for warm_start if the fitted data differs from the full dataset. In order to use \"balanced\" weights, use compute_class_weight (\"balanced\", classes, y). In place of y you can use a large enough sample of the full training set target to properly estimate the class frequency distributions. Pass the resulting weights as the class_weight parameter.\n",
            "  'class_weight presets \"balanced\" or '\n"
          ]
        },
        {
          "output_type": "stream",
          "name": "stdout",
          "text": [
            "[CV 3/5] END bootstrap=True, class_weight=balanced, criterion=entropy, max_depth=2, max_features=sqrt, warm_start=True;, score=0.520 total time=   0.3s\n"
          ]
        },
        {
          "output_type": "stream",
          "name": "stderr",
          "text": [
            "/usr/local/lib/python3.7/dist-packages/sklearn/ensemble/_forest.py:756: UserWarning: class_weight presets \"balanced\" or \"balanced_subsample\" are not recommended for warm_start if the fitted data differs from the full dataset. In order to use \"balanced\" weights, use compute_class_weight (\"balanced\", classes, y). In place of y you can use a large enough sample of the full training set target to properly estimate the class frequency distributions. Pass the resulting weights as the class_weight parameter.\n",
            "  'class_weight presets \"balanced\" or '\n"
          ]
        },
        {
          "output_type": "stream",
          "name": "stdout",
          "text": [
            "[CV 4/5] END bootstrap=True, class_weight=balanced, criterion=entropy, max_depth=2, max_features=sqrt, warm_start=True;, score=0.510 total time=   0.3s\n"
          ]
        },
        {
          "output_type": "stream",
          "name": "stderr",
          "text": [
            "/usr/local/lib/python3.7/dist-packages/sklearn/ensemble/_forest.py:756: UserWarning: class_weight presets \"balanced\" or \"balanced_subsample\" are not recommended for warm_start if the fitted data differs from the full dataset. In order to use \"balanced\" weights, use compute_class_weight (\"balanced\", classes, y). In place of y you can use a large enough sample of the full training set target to properly estimate the class frequency distributions. Pass the resulting weights as the class_weight parameter.\n",
            "  'class_weight presets \"balanced\" or '\n"
          ]
        },
        {
          "output_type": "stream",
          "name": "stdout",
          "text": [
            "[CV 5/5] END bootstrap=True, class_weight=balanced, criterion=entropy, max_depth=2, max_features=sqrt, warm_start=True;, score=0.520 total time=   0.3s\n",
            "[CV 1/5] END bootstrap=True, class_weight=balanced, criterion=entropy, max_depth=2, max_features=log2, warm_start=False;, score=0.555 total time=   0.3s\n",
            "[CV 2/5] END bootstrap=True, class_weight=balanced, criterion=entropy, max_depth=2, max_features=log2, warm_start=False;, score=0.580 total time=   0.3s\n",
            "[CV 3/5] END bootstrap=True, class_weight=balanced, criterion=entropy, max_depth=2, max_features=log2, warm_start=False;, score=0.535 total time=   0.3s\n",
            "[CV 4/5] END bootstrap=True, class_weight=balanced, criterion=entropy, max_depth=2, max_features=log2, warm_start=False;, score=0.535 total time=   0.3s\n",
            "[CV 5/5] END bootstrap=True, class_weight=balanced, criterion=entropy, max_depth=2, max_features=log2, warm_start=False;, score=0.530 total time=   0.3s\n"
          ]
        },
        {
          "output_type": "stream",
          "name": "stderr",
          "text": [
            "/usr/local/lib/python3.7/dist-packages/sklearn/ensemble/_forest.py:756: UserWarning: class_weight presets \"balanced\" or \"balanced_subsample\" are not recommended for warm_start if the fitted data differs from the full dataset. In order to use \"balanced\" weights, use compute_class_weight (\"balanced\", classes, y). In place of y you can use a large enough sample of the full training set target to properly estimate the class frequency distributions. Pass the resulting weights as the class_weight parameter.\n",
            "  'class_weight presets \"balanced\" or '\n"
          ]
        },
        {
          "output_type": "stream",
          "name": "stdout",
          "text": [
            "[CV 1/5] END bootstrap=True, class_weight=balanced, criterion=entropy, max_depth=2, max_features=log2, warm_start=True;, score=0.605 total time=   0.3s\n"
          ]
        },
        {
          "output_type": "stream",
          "name": "stderr",
          "text": [
            "/usr/local/lib/python3.7/dist-packages/sklearn/ensemble/_forest.py:756: UserWarning: class_weight presets \"balanced\" or \"balanced_subsample\" are not recommended for warm_start if the fitted data differs from the full dataset. In order to use \"balanced\" weights, use compute_class_weight (\"balanced\", classes, y). In place of y you can use a large enough sample of the full training set target to properly estimate the class frequency distributions. Pass the resulting weights as the class_weight parameter.\n",
            "  'class_weight presets \"balanced\" or '\n"
          ]
        },
        {
          "output_type": "stream",
          "name": "stdout",
          "text": [
            "[CV 2/5] END bootstrap=True, class_weight=balanced, criterion=entropy, max_depth=2, max_features=log2, warm_start=True;, score=0.590 total time=   0.3s\n"
          ]
        },
        {
          "output_type": "stream",
          "name": "stderr",
          "text": [
            "/usr/local/lib/python3.7/dist-packages/sklearn/ensemble/_forest.py:756: UserWarning: class_weight presets \"balanced\" or \"balanced_subsample\" are not recommended for warm_start if the fitted data differs from the full dataset. In order to use \"balanced\" weights, use compute_class_weight (\"balanced\", classes, y). In place of y you can use a large enough sample of the full training set target to properly estimate the class frequency distributions. Pass the resulting weights as the class_weight parameter.\n",
            "  'class_weight presets \"balanced\" or '\n"
          ]
        },
        {
          "output_type": "stream",
          "name": "stdout",
          "text": [
            "[CV 3/5] END bootstrap=True, class_weight=balanced, criterion=entropy, max_depth=2, max_features=log2, warm_start=True;, score=0.485 total time=   0.3s\n"
          ]
        },
        {
          "output_type": "stream",
          "name": "stderr",
          "text": [
            "/usr/local/lib/python3.7/dist-packages/sklearn/ensemble/_forest.py:756: UserWarning: class_weight presets \"balanced\" or \"balanced_subsample\" are not recommended for warm_start if the fitted data differs from the full dataset. In order to use \"balanced\" weights, use compute_class_weight (\"balanced\", classes, y). In place of y you can use a large enough sample of the full training set target to properly estimate the class frequency distributions. Pass the resulting weights as the class_weight parameter.\n",
            "  'class_weight presets \"balanced\" or '\n"
          ]
        },
        {
          "output_type": "stream",
          "name": "stdout",
          "text": [
            "[CV 4/5] END bootstrap=True, class_weight=balanced, criterion=entropy, max_depth=2, max_features=log2, warm_start=True;, score=0.520 total time=   0.3s\n"
          ]
        },
        {
          "output_type": "stream",
          "name": "stderr",
          "text": [
            "/usr/local/lib/python3.7/dist-packages/sklearn/ensemble/_forest.py:756: UserWarning: class_weight presets \"balanced\" or \"balanced_subsample\" are not recommended for warm_start if the fitted data differs from the full dataset. In order to use \"balanced\" weights, use compute_class_weight (\"balanced\", classes, y). In place of y you can use a large enough sample of the full training set target to properly estimate the class frequency distributions. Pass the resulting weights as the class_weight parameter.\n",
            "  'class_weight presets \"balanced\" or '\n"
          ]
        },
        {
          "output_type": "stream",
          "name": "stdout",
          "text": [
            "[CV 5/5] END bootstrap=True, class_weight=balanced, criterion=entropy, max_depth=2, max_features=log2, warm_start=True;, score=0.510 total time=   0.3s\n",
            "[CV 1/5] END bootstrap=True, class_weight=balanced, criterion=entropy, max_depth=3, max_features=auto, warm_start=False;, score=0.655 total time=   0.4s\n",
            "[CV 2/5] END bootstrap=True, class_weight=balanced, criterion=entropy, max_depth=3, max_features=auto, warm_start=False;, score=0.610 total time=   0.4s\n",
            "[CV 3/5] END bootstrap=True, class_weight=balanced, criterion=entropy, max_depth=3, max_features=auto, warm_start=False;, score=0.610 total time=   0.4s\n",
            "[CV 4/5] END bootstrap=True, class_weight=balanced, criterion=entropy, max_depth=3, max_features=auto, warm_start=False;, score=0.585 total time=   0.4s\n",
            "[CV 5/5] END bootstrap=True, class_weight=balanced, criterion=entropy, max_depth=3, max_features=auto, warm_start=False;, score=0.570 total time=   0.4s\n"
          ]
        },
        {
          "output_type": "stream",
          "name": "stderr",
          "text": [
            "/usr/local/lib/python3.7/dist-packages/sklearn/ensemble/_forest.py:756: UserWarning: class_weight presets \"balanced\" or \"balanced_subsample\" are not recommended for warm_start if the fitted data differs from the full dataset. In order to use \"balanced\" weights, use compute_class_weight (\"balanced\", classes, y). In place of y you can use a large enough sample of the full training set target to properly estimate the class frequency distributions. Pass the resulting weights as the class_weight parameter.\n",
            "  'class_weight presets \"balanced\" or '\n"
          ]
        },
        {
          "output_type": "stream",
          "name": "stdout",
          "text": [
            "[CV 1/5] END bootstrap=True, class_weight=balanced, criterion=entropy, max_depth=3, max_features=auto, warm_start=True;, score=0.635 total time=   0.4s\n"
          ]
        },
        {
          "output_type": "stream",
          "name": "stderr",
          "text": [
            "/usr/local/lib/python3.7/dist-packages/sklearn/ensemble/_forest.py:756: UserWarning: class_weight presets \"balanced\" or \"balanced_subsample\" are not recommended for warm_start if the fitted data differs from the full dataset. In order to use \"balanced\" weights, use compute_class_weight (\"balanced\", classes, y). In place of y you can use a large enough sample of the full training set target to properly estimate the class frequency distributions. Pass the resulting weights as the class_weight parameter.\n",
            "  'class_weight presets \"balanced\" or '\n"
          ]
        },
        {
          "output_type": "stream",
          "name": "stdout",
          "text": [
            "[CV 2/5] END bootstrap=True, class_weight=balanced, criterion=entropy, max_depth=3, max_features=auto, warm_start=True;, score=0.595 total time=   0.4s\n"
          ]
        },
        {
          "output_type": "stream",
          "name": "stderr",
          "text": [
            "/usr/local/lib/python3.7/dist-packages/sklearn/ensemble/_forest.py:756: UserWarning: class_weight presets \"balanced\" or \"balanced_subsample\" are not recommended for warm_start if the fitted data differs from the full dataset. In order to use \"balanced\" weights, use compute_class_weight (\"balanced\", classes, y). In place of y you can use a large enough sample of the full training set target to properly estimate the class frequency distributions. Pass the resulting weights as the class_weight parameter.\n",
            "  'class_weight presets \"balanced\" or '\n"
          ]
        },
        {
          "output_type": "stream",
          "name": "stdout",
          "text": [
            "[CV 3/5] END bootstrap=True, class_weight=balanced, criterion=entropy, max_depth=3, max_features=auto, warm_start=True;, score=0.545 total time=   0.4s\n"
          ]
        },
        {
          "output_type": "stream",
          "name": "stderr",
          "text": [
            "/usr/local/lib/python3.7/dist-packages/sklearn/ensemble/_forest.py:756: UserWarning: class_weight presets \"balanced\" or \"balanced_subsample\" are not recommended for warm_start if the fitted data differs from the full dataset. In order to use \"balanced\" weights, use compute_class_weight (\"balanced\", classes, y). In place of y you can use a large enough sample of the full training set target to properly estimate the class frequency distributions. Pass the resulting weights as the class_weight parameter.\n",
            "  'class_weight presets \"balanced\" or '\n"
          ]
        },
        {
          "output_type": "stream",
          "name": "stdout",
          "text": [
            "[CV 4/5] END bootstrap=True, class_weight=balanced, criterion=entropy, max_depth=3, max_features=auto, warm_start=True;, score=0.525 total time=   0.4s\n"
          ]
        },
        {
          "output_type": "stream",
          "name": "stderr",
          "text": [
            "/usr/local/lib/python3.7/dist-packages/sklearn/ensemble/_forest.py:756: UserWarning: class_weight presets \"balanced\" or \"balanced_subsample\" are not recommended for warm_start if the fitted data differs from the full dataset. In order to use \"balanced\" weights, use compute_class_weight (\"balanced\", classes, y). In place of y you can use a large enough sample of the full training set target to properly estimate the class frequency distributions. Pass the resulting weights as the class_weight parameter.\n",
            "  'class_weight presets \"balanced\" or '\n"
          ]
        },
        {
          "output_type": "stream",
          "name": "stdout",
          "text": [
            "[CV 5/5] END bootstrap=True, class_weight=balanced, criterion=entropy, max_depth=3, max_features=auto, warm_start=True;, score=0.555 total time=   0.4s\n",
            "[CV 1/5] END bootstrap=True, class_weight=balanced, criterion=entropy, max_depth=3, max_features=sqrt, warm_start=False;, score=0.650 total time=   0.4s\n",
            "[CV 2/5] END bootstrap=True, class_weight=balanced, criterion=entropy, max_depth=3, max_features=sqrt, warm_start=False;, score=0.635 total time=   0.4s\n",
            "[CV 3/5] END bootstrap=True, class_weight=balanced, criterion=entropy, max_depth=3, max_features=sqrt, warm_start=False;, score=0.570 total time=   0.4s\n",
            "[CV 4/5] END bootstrap=True, class_weight=balanced, criterion=entropy, max_depth=3, max_features=sqrt, warm_start=False;, score=0.580 total time=   0.4s\n",
            "[CV 5/5] END bootstrap=True, class_weight=balanced, criterion=entropy, max_depth=3, max_features=sqrt, warm_start=False;, score=0.565 total time=   0.4s\n"
          ]
        },
        {
          "output_type": "stream",
          "name": "stderr",
          "text": [
            "/usr/local/lib/python3.7/dist-packages/sklearn/ensemble/_forest.py:756: UserWarning: class_weight presets \"balanced\" or \"balanced_subsample\" are not recommended for warm_start if the fitted data differs from the full dataset. In order to use \"balanced\" weights, use compute_class_weight (\"balanced\", classes, y). In place of y you can use a large enough sample of the full training set target to properly estimate the class frequency distributions. Pass the resulting weights as the class_weight parameter.\n",
            "  'class_weight presets \"balanced\" or '\n"
          ]
        },
        {
          "output_type": "stream",
          "name": "stdout",
          "text": [
            "[CV 1/5] END bootstrap=True, class_weight=balanced, criterion=entropy, max_depth=3, max_features=sqrt, warm_start=True;, score=0.655 total time=   0.4s\n"
          ]
        },
        {
          "output_type": "stream",
          "name": "stderr",
          "text": [
            "/usr/local/lib/python3.7/dist-packages/sklearn/ensemble/_forest.py:756: UserWarning: class_weight presets \"balanced\" or \"balanced_subsample\" are not recommended for warm_start if the fitted data differs from the full dataset. In order to use \"balanced\" weights, use compute_class_weight (\"balanced\", classes, y). In place of y you can use a large enough sample of the full training set target to properly estimate the class frequency distributions. Pass the resulting weights as the class_weight parameter.\n",
            "  'class_weight presets \"balanced\" or '\n"
          ]
        },
        {
          "output_type": "stream",
          "name": "stdout",
          "text": [
            "[CV 2/5] END bootstrap=True, class_weight=balanced, criterion=entropy, max_depth=3, max_features=sqrt, warm_start=True;, score=0.630 total time=   0.4s\n"
          ]
        },
        {
          "output_type": "stream",
          "name": "stderr",
          "text": [
            "/usr/local/lib/python3.7/dist-packages/sklearn/ensemble/_forest.py:756: UserWarning: class_weight presets \"balanced\" or \"balanced_subsample\" are not recommended for warm_start if the fitted data differs from the full dataset. In order to use \"balanced\" weights, use compute_class_weight (\"balanced\", classes, y). In place of y you can use a large enough sample of the full training set target to properly estimate the class frequency distributions. Pass the resulting weights as the class_weight parameter.\n",
            "  'class_weight presets \"balanced\" or '\n"
          ]
        },
        {
          "output_type": "stream",
          "name": "stdout",
          "text": [
            "[CV 3/5] END bootstrap=True, class_weight=balanced, criterion=entropy, max_depth=3, max_features=sqrt, warm_start=True;, score=0.520 total time=   0.4s\n"
          ]
        },
        {
          "output_type": "stream",
          "name": "stderr",
          "text": [
            "/usr/local/lib/python3.7/dist-packages/sklearn/ensemble/_forest.py:756: UserWarning: class_weight presets \"balanced\" or \"balanced_subsample\" are not recommended for warm_start if the fitted data differs from the full dataset. In order to use \"balanced\" weights, use compute_class_weight (\"balanced\", classes, y). In place of y you can use a large enough sample of the full training set target to properly estimate the class frequency distributions. Pass the resulting weights as the class_weight parameter.\n",
            "  'class_weight presets \"balanced\" or '\n"
          ]
        },
        {
          "output_type": "stream",
          "name": "stdout",
          "text": [
            "[CV 4/5] END bootstrap=True, class_weight=balanced, criterion=entropy, max_depth=3, max_features=sqrt, warm_start=True;, score=0.590 total time=   0.4s\n"
          ]
        },
        {
          "output_type": "stream",
          "name": "stderr",
          "text": [
            "/usr/local/lib/python3.7/dist-packages/sklearn/ensemble/_forest.py:756: UserWarning: class_weight presets \"balanced\" or \"balanced_subsample\" are not recommended for warm_start if the fitted data differs from the full dataset. In order to use \"balanced\" weights, use compute_class_weight (\"balanced\", classes, y). In place of y you can use a large enough sample of the full training set target to properly estimate the class frequency distributions. Pass the resulting weights as the class_weight parameter.\n",
            "  'class_weight presets \"balanced\" or '\n"
          ]
        },
        {
          "output_type": "stream",
          "name": "stdout",
          "text": [
            "[CV 5/5] END bootstrap=True, class_weight=balanced, criterion=entropy, max_depth=3, max_features=sqrt, warm_start=True;, score=0.585 total time=   0.4s\n",
            "[CV 1/5] END bootstrap=True, class_weight=balanced, criterion=entropy, max_depth=3, max_features=log2, warm_start=False;, score=0.620 total time=   0.4s\n",
            "[CV 2/5] END bootstrap=True, class_weight=balanced, criterion=entropy, max_depth=3, max_features=log2, warm_start=False;, score=0.605 total time=   0.4s\n",
            "[CV 3/5] END bootstrap=True, class_weight=balanced, criterion=entropy, max_depth=3, max_features=log2, warm_start=False;, score=0.525 total time=   0.4s\n",
            "[CV 4/5] END bootstrap=True, class_weight=balanced, criterion=entropy, max_depth=3, max_features=log2, warm_start=False;, score=0.565 total time=   0.4s\n",
            "[CV 5/5] END bootstrap=True, class_weight=balanced, criterion=entropy, max_depth=3, max_features=log2, warm_start=False;, score=0.610 total time=   0.4s\n"
          ]
        },
        {
          "output_type": "stream",
          "name": "stderr",
          "text": [
            "/usr/local/lib/python3.7/dist-packages/sklearn/ensemble/_forest.py:756: UserWarning: class_weight presets \"balanced\" or \"balanced_subsample\" are not recommended for warm_start if the fitted data differs from the full dataset. In order to use \"balanced\" weights, use compute_class_weight (\"balanced\", classes, y). In place of y you can use a large enough sample of the full training set target to properly estimate the class frequency distributions. Pass the resulting weights as the class_weight parameter.\n",
            "  'class_weight presets \"balanced\" or '\n"
          ]
        },
        {
          "output_type": "stream",
          "name": "stdout",
          "text": [
            "[CV 1/5] END bootstrap=True, class_weight=balanced, criterion=entropy, max_depth=3, max_features=log2, warm_start=True;, score=0.635 total time=   0.4s\n"
          ]
        },
        {
          "output_type": "stream",
          "name": "stderr",
          "text": [
            "/usr/local/lib/python3.7/dist-packages/sklearn/ensemble/_forest.py:756: UserWarning: class_weight presets \"balanced\" or \"balanced_subsample\" are not recommended for warm_start if the fitted data differs from the full dataset. In order to use \"balanced\" weights, use compute_class_weight (\"balanced\", classes, y). In place of y you can use a large enough sample of the full training set target to properly estimate the class frequency distributions. Pass the resulting weights as the class_weight parameter.\n",
            "  'class_weight presets \"balanced\" or '\n"
          ]
        },
        {
          "output_type": "stream",
          "name": "stdout",
          "text": [
            "[CV 2/5] END bootstrap=True, class_weight=balanced, criterion=entropy, max_depth=3, max_features=log2, warm_start=True;, score=0.620 total time=   0.4s\n"
          ]
        },
        {
          "output_type": "stream",
          "name": "stderr",
          "text": [
            "/usr/local/lib/python3.7/dist-packages/sklearn/ensemble/_forest.py:756: UserWarning: class_weight presets \"balanced\" or \"balanced_subsample\" are not recommended for warm_start if the fitted data differs from the full dataset. In order to use \"balanced\" weights, use compute_class_weight (\"balanced\", classes, y). In place of y you can use a large enough sample of the full training set target to properly estimate the class frequency distributions. Pass the resulting weights as the class_weight parameter.\n",
            "  'class_weight presets \"balanced\" or '\n"
          ]
        },
        {
          "output_type": "stream",
          "name": "stdout",
          "text": [
            "[CV 3/5] END bootstrap=True, class_weight=balanced, criterion=entropy, max_depth=3, max_features=log2, warm_start=True;, score=0.535 total time=   0.4s\n"
          ]
        },
        {
          "output_type": "stream",
          "name": "stderr",
          "text": [
            "/usr/local/lib/python3.7/dist-packages/sklearn/ensemble/_forest.py:756: UserWarning: class_weight presets \"balanced\" or \"balanced_subsample\" are not recommended for warm_start if the fitted data differs from the full dataset. In order to use \"balanced\" weights, use compute_class_weight (\"balanced\", classes, y). In place of y you can use a large enough sample of the full training set target to properly estimate the class frequency distributions. Pass the resulting weights as the class_weight parameter.\n",
            "  'class_weight presets \"balanced\" or '\n"
          ]
        },
        {
          "output_type": "stream",
          "name": "stdout",
          "text": [
            "[CV 4/5] END bootstrap=True, class_weight=balanced, criterion=entropy, max_depth=3, max_features=log2, warm_start=True;, score=0.535 total time=   0.4s\n"
          ]
        },
        {
          "output_type": "stream",
          "name": "stderr",
          "text": [
            "/usr/local/lib/python3.7/dist-packages/sklearn/ensemble/_forest.py:756: UserWarning: class_weight presets \"balanced\" or \"balanced_subsample\" are not recommended for warm_start if the fitted data differs from the full dataset. In order to use \"balanced\" weights, use compute_class_weight (\"balanced\", classes, y). In place of y you can use a large enough sample of the full training set target to properly estimate the class frequency distributions. Pass the resulting weights as the class_weight parameter.\n",
            "  'class_weight presets \"balanced\" or '\n"
          ]
        },
        {
          "output_type": "stream",
          "name": "stdout",
          "text": [
            "[CV 5/5] END bootstrap=True, class_weight=balanced, criterion=entropy, max_depth=3, max_features=log2, warm_start=True;, score=0.575 total time=   0.4s\n",
            "[CV 1/5] END bootstrap=True, class_weight=balanced, criterion=entropy, max_depth=5, max_features=auto, warm_start=False;, score=0.695 total time=   0.6s\n",
            "[CV 2/5] END bootstrap=True, class_weight=balanced, criterion=entropy, max_depth=5, max_features=auto, warm_start=False;, score=0.670 total time=   0.6s\n",
            "[CV 3/5] END bootstrap=True, class_weight=balanced, criterion=entropy, max_depth=5, max_features=auto, warm_start=False;, score=0.585 total time=   0.6s\n",
            "[CV 4/5] END bootstrap=True, class_weight=balanced, criterion=entropy, max_depth=5, max_features=auto, warm_start=False;, score=0.650 total time=   0.6s\n",
            "[CV 5/5] END bootstrap=True, class_weight=balanced, criterion=entropy, max_depth=5, max_features=auto, warm_start=False;, score=0.630 total time=   0.5s\n"
          ]
        },
        {
          "output_type": "stream",
          "name": "stderr",
          "text": [
            "/usr/local/lib/python3.7/dist-packages/sklearn/ensemble/_forest.py:756: UserWarning: class_weight presets \"balanced\" or \"balanced_subsample\" are not recommended for warm_start if the fitted data differs from the full dataset. In order to use \"balanced\" weights, use compute_class_weight (\"balanced\", classes, y). In place of y you can use a large enough sample of the full training set target to properly estimate the class frequency distributions. Pass the resulting weights as the class_weight parameter.\n",
            "  'class_weight presets \"balanced\" or '\n"
          ]
        },
        {
          "output_type": "stream",
          "name": "stdout",
          "text": [
            "[CV 1/5] END bootstrap=True, class_weight=balanced, criterion=entropy, max_depth=5, max_features=auto, warm_start=True;, score=0.685 total time=   0.6s\n"
          ]
        },
        {
          "output_type": "stream",
          "name": "stderr",
          "text": [
            "/usr/local/lib/python3.7/dist-packages/sklearn/ensemble/_forest.py:756: UserWarning: class_weight presets \"balanced\" or \"balanced_subsample\" are not recommended for warm_start if the fitted data differs from the full dataset. In order to use \"balanced\" weights, use compute_class_weight (\"balanced\", classes, y). In place of y you can use a large enough sample of the full training set target to properly estimate the class frequency distributions. Pass the resulting weights as the class_weight parameter.\n",
            "  'class_weight presets \"balanced\" or '\n"
          ]
        },
        {
          "output_type": "stream",
          "name": "stdout",
          "text": [
            "[CV 2/5] END bootstrap=True, class_weight=balanced, criterion=entropy, max_depth=5, max_features=auto, warm_start=True;, score=0.675 total time=   0.6s\n"
          ]
        },
        {
          "output_type": "stream",
          "name": "stderr",
          "text": [
            "/usr/local/lib/python3.7/dist-packages/sklearn/ensemble/_forest.py:756: UserWarning: class_weight presets \"balanced\" or \"balanced_subsample\" are not recommended for warm_start if the fitted data differs from the full dataset. In order to use \"balanced\" weights, use compute_class_weight (\"balanced\", classes, y). In place of y you can use a large enough sample of the full training set target to properly estimate the class frequency distributions. Pass the resulting weights as the class_weight parameter.\n",
            "  'class_weight presets \"balanced\" or '\n"
          ]
        },
        {
          "output_type": "stream",
          "name": "stdout",
          "text": [
            "[CV 3/5] END bootstrap=True, class_weight=balanced, criterion=entropy, max_depth=5, max_features=auto, warm_start=True;, score=0.585 total time=   0.6s\n"
          ]
        },
        {
          "output_type": "stream",
          "name": "stderr",
          "text": [
            "/usr/local/lib/python3.7/dist-packages/sklearn/ensemble/_forest.py:756: UserWarning: class_weight presets \"balanced\" or \"balanced_subsample\" are not recommended for warm_start if the fitted data differs from the full dataset. In order to use \"balanced\" weights, use compute_class_weight (\"balanced\", classes, y). In place of y you can use a large enough sample of the full training set target to properly estimate the class frequency distributions. Pass the resulting weights as the class_weight parameter.\n",
            "  'class_weight presets \"balanced\" or '\n"
          ]
        },
        {
          "output_type": "stream",
          "name": "stdout",
          "text": [
            "[CV 4/5] END bootstrap=True, class_weight=balanced, criterion=entropy, max_depth=5, max_features=auto, warm_start=True;, score=0.605 total time=   0.6s\n"
          ]
        },
        {
          "output_type": "stream",
          "name": "stderr",
          "text": [
            "/usr/local/lib/python3.7/dist-packages/sklearn/ensemble/_forest.py:756: UserWarning: class_weight presets \"balanced\" or \"balanced_subsample\" are not recommended for warm_start if the fitted data differs from the full dataset. In order to use \"balanced\" weights, use compute_class_weight (\"balanced\", classes, y). In place of y you can use a large enough sample of the full training set target to properly estimate the class frequency distributions. Pass the resulting weights as the class_weight parameter.\n",
            "  'class_weight presets \"balanced\" or '\n"
          ]
        },
        {
          "output_type": "stream",
          "name": "stdout",
          "text": [
            "[CV 5/5] END bootstrap=True, class_weight=balanced, criterion=entropy, max_depth=5, max_features=auto, warm_start=True;, score=0.655 total time=   0.6s\n",
            "[CV 1/5] END bootstrap=True, class_weight=balanced, criterion=entropy, max_depth=5, max_features=sqrt, warm_start=False;, score=0.705 total time=   0.6s\n",
            "[CV 2/5] END bootstrap=True, class_weight=balanced, criterion=entropy, max_depth=5, max_features=sqrt, warm_start=False;, score=0.660 total time=   0.6s\n",
            "[CV 3/5] END bootstrap=True, class_weight=balanced, criterion=entropy, max_depth=5, max_features=sqrt, warm_start=False;, score=0.590 total time=   0.6s\n",
            "[CV 4/5] END bootstrap=True, class_weight=balanced, criterion=entropy, max_depth=5, max_features=sqrt, warm_start=False;, score=0.625 total time=   0.5s\n",
            "[CV 5/5] END bootstrap=True, class_weight=balanced, criterion=entropy, max_depth=5, max_features=sqrt, warm_start=False;, score=0.620 total time=   0.6s\n"
          ]
        },
        {
          "output_type": "stream",
          "name": "stderr",
          "text": [
            "/usr/local/lib/python3.7/dist-packages/sklearn/ensemble/_forest.py:756: UserWarning: class_weight presets \"balanced\" or \"balanced_subsample\" are not recommended for warm_start if the fitted data differs from the full dataset. In order to use \"balanced\" weights, use compute_class_weight (\"balanced\", classes, y). In place of y you can use a large enough sample of the full training set target to properly estimate the class frequency distributions. Pass the resulting weights as the class_weight parameter.\n",
            "  'class_weight presets \"balanced\" or '\n"
          ]
        },
        {
          "output_type": "stream",
          "name": "stdout",
          "text": [
            "[CV 1/5] END bootstrap=True, class_weight=balanced, criterion=entropy, max_depth=5, max_features=sqrt, warm_start=True;, score=0.710 total time=   0.6s\n"
          ]
        },
        {
          "output_type": "stream",
          "name": "stderr",
          "text": [
            "/usr/local/lib/python3.7/dist-packages/sklearn/ensemble/_forest.py:756: UserWarning: class_weight presets \"balanced\" or \"balanced_subsample\" are not recommended for warm_start if the fitted data differs from the full dataset. In order to use \"balanced\" weights, use compute_class_weight (\"balanced\", classes, y). In place of y you can use a large enough sample of the full training set target to properly estimate the class frequency distributions. Pass the resulting weights as the class_weight parameter.\n",
            "  'class_weight presets \"balanced\" or '\n"
          ]
        },
        {
          "output_type": "stream",
          "name": "stdout",
          "text": [
            "[CV 2/5] END bootstrap=True, class_weight=balanced, criterion=entropy, max_depth=5, max_features=sqrt, warm_start=True;, score=0.675 total time=   0.6s\n"
          ]
        },
        {
          "output_type": "stream",
          "name": "stderr",
          "text": [
            "/usr/local/lib/python3.7/dist-packages/sklearn/ensemble/_forest.py:756: UserWarning: class_weight presets \"balanced\" or \"balanced_subsample\" are not recommended for warm_start if the fitted data differs from the full dataset. In order to use \"balanced\" weights, use compute_class_weight (\"balanced\", classes, y). In place of y you can use a large enough sample of the full training set target to properly estimate the class frequency distributions. Pass the resulting weights as the class_weight parameter.\n",
            "  'class_weight presets \"balanced\" or '\n"
          ]
        },
        {
          "output_type": "stream",
          "name": "stdout",
          "text": [
            "[CV 3/5] END bootstrap=True, class_weight=balanced, criterion=entropy, max_depth=5, max_features=sqrt, warm_start=True;, score=0.590 total time=   0.6s\n"
          ]
        },
        {
          "output_type": "stream",
          "name": "stderr",
          "text": [
            "/usr/local/lib/python3.7/dist-packages/sklearn/ensemble/_forest.py:756: UserWarning: class_weight presets \"balanced\" or \"balanced_subsample\" are not recommended for warm_start if the fitted data differs from the full dataset. In order to use \"balanced\" weights, use compute_class_weight (\"balanced\", classes, y). In place of y you can use a large enough sample of the full training set target to properly estimate the class frequency distributions. Pass the resulting weights as the class_weight parameter.\n",
            "  'class_weight presets \"balanced\" or '\n"
          ]
        },
        {
          "output_type": "stream",
          "name": "stdout",
          "text": [
            "[CV 4/5] END bootstrap=True, class_weight=balanced, criterion=entropy, max_depth=5, max_features=sqrt, warm_start=True;, score=0.620 total time=   0.6s\n"
          ]
        },
        {
          "output_type": "stream",
          "name": "stderr",
          "text": [
            "/usr/local/lib/python3.7/dist-packages/sklearn/ensemble/_forest.py:756: UserWarning: class_weight presets \"balanced\" or \"balanced_subsample\" are not recommended for warm_start if the fitted data differs from the full dataset. In order to use \"balanced\" weights, use compute_class_weight (\"balanced\", classes, y). In place of y you can use a large enough sample of the full training set target to properly estimate the class frequency distributions. Pass the resulting weights as the class_weight parameter.\n",
            "  'class_weight presets \"balanced\" or '\n"
          ]
        },
        {
          "output_type": "stream",
          "name": "stdout",
          "text": [
            "[CV 5/5] END bootstrap=True, class_weight=balanced, criterion=entropy, max_depth=5, max_features=sqrt, warm_start=True;, score=0.630 total time=   0.6s\n",
            "[CV 1/5] END bootstrap=True, class_weight=balanced, criterion=entropy, max_depth=5, max_features=log2, warm_start=False;, score=0.690 total time=   0.6s\n",
            "[CV 2/5] END bootstrap=True, class_weight=balanced, criterion=entropy, max_depth=5, max_features=log2, warm_start=False;, score=0.605 total time=   0.6s\n",
            "[CV 3/5] END bootstrap=True, class_weight=balanced, criterion=entropy, max_depth=5, max_features=log2, warm_start=False;, score=0.595 total time=   0.6s\n",
            "[CV 4/5] END bootstrap=True, class_weight=balanced, criterion=entropy, max_depth=5, max_features=log2, warm_start=False;, score=0.630 total time=   0.6s\n",
            "[CV 5/5] END bootstrap=True, class_weight=balanced, criterion=entropy, max_depth=5, max_features=log2, warm_start=False;, score=0.630 total time=   0.6s\n"
          ]
        },
        {
          "output_type": "stream",
          "name": "stderr",
          "text": [
            "/usr/local/lib/python3.7/dist-packages/sklearn/ensemble/_forest.py:756: UserWarning: class_weight presets \"balanced\" or \"balanced_subsample\" are not recommended for warm_start if the fitted data differs from the full dataset. In order to use \"balanced\" weights, use compute_class_weight (\"balanced\", classes, y). In place of y you can use a large enough sample of the full training set target to properly estimate the class frequency distributions. Pass the resulting weights as the class_weight parameter.\n",
            "  'class_weight presets \"balanced\" or '\n"
          ]
        },
        {
          "output_type": "stream",
          "name": "stdout",
          "text": [
            "[CV 1/5] END bootstrap=True, class_weight=balanced, criterion=entropy, max_depth=5, max_features=log2, warm_start=True;, score=0.695 total time=   0.6s\n"
          ]
        },
        {
          "output_type": "stream",
          "name": "stderr",
          "text": [
            "/usr/local/lib/python3.7/dist-packages/sklearn/ensemble/_forest.py:756: UserWarning: class_weight presets \"balanced\" or \"balanced_subsample\" are not recommended for warm_start if the fitted data differs from the full dataset. In order to use \"balanced\" weights, use compute_class_weight (\"balanced\", classes, y). In place of y you can use a large enough sample of the full training set target to properly estimate the class frequency distributions. Pass the resulting weights as the class_weight parameter.\n",
            "  'class_weight presets \"balanced\" or '\n"
          ]
        },
        {
          "output_type": "stream",
          "name": "stdout",
          "text": [
            "[CV 2/5] END bootstrap=True, class_weight=balanced, criterion=entropy, max_depth=5, max_features=log2, warm_start=True;, score=0.680 total time=   0.6s\n"
          ]
        },
        {
          "output_type": "stream",
          "name": "stderr",
          "text": [
            "/usr/local/lib/python3.7/dist-packages/sklearn/ensemble/_forest.py:756: UserWarning: class_weight presets \"balanced\" or \"balanced_subsample\" are not recommended for warm_start if the fitted data differs from the full dataset. In order to use \"balanced\" weights, use compute_class_weight (\"balanced\", classes, y). In place of y you can use a large enough sample of the full training set target to properly estimate the class frequency distributions. Pass the resulting weights as the class_weight parameter.\n",
            "  'class_weight presets \"balanced\" or '\n"
          ]
        },
        {
          "output_type": "stream",
          "name": "stdout",
          "text": [
            "[CV 3/5] END bootstrap=True, class_weight=balanced, criterion=entropy, max_depth=5, max_features=log2, warm_start=True;, score=0.635 total time=   0.6s\n"
          ]
        },
        {
          "output_type": "stream",
          "name": "stderr",
          "text": [
            "/usr/local/lib/python3.7/dist-packages/sklearn/ensemble/_forest.py:756: UserWarning: class_weight presets \"balanced\" or \"balanced_subsample\" are not recommended for warm_start if the fitted data differs from the full dataset. In order to use \"balanced\" weights, use compute_class_weight (\"balanced\", classes, y). In place of y you can use a large enough sample of the full training set target to properly estimate the class frequency distributions. Pass the resulting weights as the class_weight parameter.\n",
            "  'class_weight presets \"balanced\" or '\n"
          ]
        },
        {
          "output_type": "stream",
          "name": "stdout",
          "text": [
            "[CV 4/5] END bootstrap=True, class_weight=balanced, criterion=entropy, max_depth=5, max_features=log2, warm_start=True;, score=0.595 total time=   0.6s\n"
          ]
        },
        {
          "output_type": "stream",
          "name": "stderr",
          "text": [
            "/usr/local/lib/python3.7/dist-packages/sklearn/ensemble/_forest.py:756: UserWarning: class_weight presets \"balanced\" or \"balanced_subsample\" are not recommended for warm_start if the fitted data differs from the full dataset. In order to use \"balanced\" weights, use compute_class_weight (\"balanced\", classes, y). In place of y you can use a large enough sample of the full training set target to properly estimate the class frequency distributions. Pass the resulting weights as the class_weight parameter.\n",
            "  'class_weight presets \"balanced\" or '\n"
          ]
        },
        {
          "output_type": "stream",
          "name": "stdout",
          "text": [
            "[CV 5/5] END bootstrap=True, class_weight=balanced, criterion=entropy, max_depth=5, max_features=log2, warm_start=True;, score=0.620 total time=   0.6s\n",
            "[CV 1/5] END bootstrap=True, class_weight=balanced_subsample, criterion=gini, max_depth=2, max_features=auto, warm_start=False;, score=0.535 total time=   0.3s\n",
            "[CV 2/5] END bootstrap=True, class_weight=balanced_subsample, criterion=gini, max_depth=2, max_features=auto, warm_start=False;, score=0.500 total time=   0.3s\n",
            "[CV 3/5] END bootstrap=True, class_weight=balanced_subsample, criterion=gini, max_depth=2, max_features=auto, warm_start=False;, score=0.525 total time=   0.3s\n",
            "[CV 4/5] END bootstrap=True, class_weight=balanced_subsample, criterion=gini, max_depth=2, max_features=auto, warm_start=False;, score=0.470 total time=   0.3s\n",
            "[CV 5/5] END bootstrap=True, class_weight=balanced_subsample, criterion=gini, max_depth=2, max_features=auto, warm_start=False;, score=0.505 total time=   0.3s\n"
          ]
        },
        {
          "output_type": "stream",
          "name": "stderr",
          "text": [
            "/usr/local/lib/python3.7/dist-packages/sklearn/ensemble/_forest.py:756: UserWarning: class_weight presets \"balanced\" or \"balanced_subsample\" are not recommended for warm_start if the fitted data differs from the full dataset. In order to use \"balanced\" weights, use compute_class_weight (\"balanced\", classes, y). In place of y you can use a large enough sample of the full training set target to properly estimate the class frequency distributions. Pass the resulting weights as the class_weight parameter.\n",
            "  'class_weight presets \"balanced\" or '\n"
          ]
        },
        {
          "output_type": "stream",
          "name": "stdout",
          "text": [
            "[CV 1/5] END bootstrap=True, class_weight=balanced_subsample, criterion=gini, max_depth=2, max_features=auto, warm_start=True;, score=0.565 total time=   0.3s\n"
          ]
        },
        {
          "output_type": "stream",
          "name": "stderr",
          "text": [
            "/usr/local/lib/python3.7/dist-packages/sklearn/ensemble/_forest.py:756: UserWarning: class_weight presets \"balanced\" or \"balanced_subsample\" are not recommended for warm_start if the fitted data differs from the full dataset. In order to use \"balanced\" weights, use compute_class_weight (\"balanced\", classes, y). In place of y you can use a large enough sample of the full training set target to properly estimate the class frequency distributions. Pass the resulting weights as the class_weight parameter.\n",
            "  'class_weight presets \"balanced\" or '\n"
          ]
        },
        {
          "output_type": "stream",
          "name": "stdout",
          "text": [
            "[CV 2/5] END bootstrap=True, class_weight=balanced_subsample, criterion=gini, max_depth=2, max_features=auto, warm_start=True;, score=0.525 total time=   0.3s\n"
          ]
        },
        {
          "output_type": "stream",
          "name": "stderr",
          "text": [
            "/usr/local/lib/python3.7/dist-packages/sklearn/ensemble/_forest.py:756: UserWarning: class_weight presets \"balanced\" or \"balanced_subsample\" are not recommended for warm_start if the fitted data differs from the full dataset. In order to use \"balanced\" weights, use compute_class_weight (\"balanced\", classes, y). In place of y you can use a large enough sample of the full training set target to properly estimate the class frequency distributions. Pass the resulting weights as the class_weight parameter.\n",
            "  'class_weight presets \"balanced\" or '\n"
          ]
        },
        {
          "output_type": "stream",
          "name": "stdout",
          "text": [
            "[CV 3/5] END bootstrap=True, class_weight=balanced_subsample, criterion=gini, max_depth=2, max_features=auto, warm_start=True;, score=0.515 total time=   0.3s\n"
          ]
        },
        {
          "output_type": "stream",
          "name": "stderr",
          "text": [
            "/usr/local/lib/python3.7/dist-packages/sklearn/ensemble/_forest.py:756: UserWarning: class_weight presets \"balanced\" or \"balanced_subsample\" are not recommended for warm_start if the fitted data differs from the full dataset. In order to use \"balanced\" weights, use compute_class_weight (\"balanced\", classes, y). In place of y you can use a large enough sample of the full training set target to properly estimate the class frequency distributions. Pass the resulting weights as the class_weight parameter.\n",
            "  'class_weight presets \"balanced\" or '\n"
          ]
        },
        {
          "output_type": "stream",
          "name": "stdout",
          "text": [
            "[CV 4/5] END bootstrap=True, class_weight=balanced_subsample, criterion=gini, max_depth=2, max_features=auto, warm_start=True;, score=0.520 total time=   0.3s\n"
          ]
        },
        {
          "output_type": "stream",
          "name": "stderr",
          "text": [
            "/usr/local/lib/python3.7/dist-packages/sklearn/ensemble/_forest.py:756: UserWarning: class_weight presets \"balanced\" or \"balanced_subsample\" are not recommended for warm_start if the fitted data differs from the full dataset. In order to use \"balanced\" weights, use compute_class_weight (\"balanced\", classes, y). In place of y you can use a large enough sample of the full training set target to properly estimate the class frequency distributions. Pass the resulting weights as the class_weight parameter.\n",
            "  'class_weight presets \"balanced\" or '\n"
          ]
        },
        {
          "output_type": "stream",
          "name": "stdout",
          "text": [
            "[CV 5/5] END bootstrap=True, class_weight=balanced_subsample, criterion=gini, max_depth=2, max_features=auto, warm_start=True;, score=0.525 total time=   0.3s\n",
            "[CV 1/5] END bootstrap=True, class_weight=balanced_subsample, criterion=gini, max_depth=2, max_features=sqrt, warm_start=False;, score=0.585 total time=   0.3s\n",
            "[CV 2/5] END bootstrap=True, class_weight=balanced_subsample, criterion=gini, max_depth=2, max_features=sqrt, warm_start=False;, score=0.565 total time=   0.3s\n",
            "[CV 3/5] END bootstrap=True, class_weight=balanced_subsample, criterion=gini, max_depth=2, max_features=sqrt, warm_start=False;, score=0.530 total time=   0.3s\n",
            "[CV 4/5] END bootstrap=True, class_weight=balanced_subsample, criterion=gini, max_depth=2, max_features=sqrt, warm_start=False;, score=0.495 total time=   0.3s\n",
            "[CV 5/5] END bootstrap=True, class_weight=balanced_subsample, criterion=gini, max_depth=2, max_features=sqrt, warm_start=False;, score=0.500 total time=   0.3s\n"
          ]
        },
        {
          "output_type": "stream",
          "name": "stderr",
          "text": [
            "/usr/local/lib/python3.7/dist-packages/sklearn/ensemble/_forest.py:756: UserWarning: class_weight presets \"balanced\" or \"balanced_subsample\" are not recommended for warm_start if the fitted data differs from the full dataset. In order to use \"balanced\" weights, use compute_class_weight (\"balanced\", classes, y). In place of y you can use a large enough sample of the full training set target to properly estimate the class frequency distributions. Pass the resulting weights as the class_weight parameter.\n",
            "  'class_weight presets \"balanced\" or '\n"
          ]
        },
        {
          "output_type": "stream",
          "name": "stdout",
          "text": [
            "[CV 1/5] END bootstrap=True, class_weight=balanced_subsample, criterion=gini, max_depth=2, max_features=sqrt, warm_start=True;, score=0.575 total time=   0.3s\n"
          ]
        },
        {
          "output_type": "stream",
          "name": "stderr",
          "text": [
            "/usr/local/lib/python3.7/dist-packages/sklearn/ensemble/_forest.py:756: UserWarning: class_weight presets \"balanced\" or \"balanced_subsample\" are not recommended for warm_start if the fitted data differs from the full dataset. In order to use \"balanced\" weights, use compute_class_weight (\"balanced\", classes, y). In place of y you can use a large enough sample of the full training set target to properly estimate the class frequency distributions. Pass the resulting weights as the class_weight parameter.\n",
            "  'class_weight presets \"balanced\" or '\n"
          ]
        },
        {
          "output_type": "stream",
          "name": "stdout",
          "text": [
            "[CV 2/5] END bootstrap=True, class_weight=balanced_subsample, criterion=gini, max_depth=2, max_features=sqrt, warm_start=True;, score=0.570 total time=   0.3s\n"
          ]
        },
        {
          "output_type": "stream",
          "name": "stderr",
          "text": [
            "/usr/local/lib/python3.7/dist-packages/sklearn/ensemble/_forest.py:756: UserWarning: class_weight presets \"balanced\" or \"balanced_subsample\" are not recommended for warm_start if the fitted data differs from the full dataset. In order to use \"balanced\" weights, use compute_class_weight (\"balanced\", classes, y). In place of y you can use a large enough sample of the full training set target to properly estimate the class frequency distributions. Pass the resulting weights as the class_weight parameter.\n",
            "  'class_weight presets \"balanced\" or '\n"
          ]
        },
        {
          "output_type": "stream",
          "name": "stdout",
          "text": [
            "[CV 3/5] END bootstrap=True, class_weight=balanced_subsample, criterion=gini, max_depth=2, max_features=sqrt, warm_start=True;, score=0.520 total time=   0.3s\n"
          ]
        },
        {
          "output_type": "stream",
          "name": "stderr",
          "text": [
            "/usr/local/lib/python3.7/dist-packages/sklearn/ensemble/_forest.py:756: UserWarning: class_weight presets \"balanced\" or \"balanced_subsample\" are not recommended for warm_start if the fitted data differs from the full dataset. In order to use \"balanced\" weights, use compute_class_weight (\"balanced\", classes, y). In place of y you can use a large enough sample of the full training set target to properly estimate the class frequency distributions. Pass the resulting weights as the class_weight parameter.\n",
            "  'class_weight presets \"balanced\" or '\n"
          ]
        },
        {
          "output_type": "stream",
          "name": "stdout",
          "text": [
            "[CV 4/5] END bootstrap=True, class_weight=balanced_subsample, criterion=gini, max_depth=2, max_features=sqrt, warm_start=True;, score=0.510 total time=   0.3s\n"
          ]
        },
        {
          "output_type": "stream",
          "name": "stderr",
          "text": [
            "/usr/local/lib/python3.7/dist-packages/sklearn/ensemble/_forest.py:756: UserWarning: class_weight presets \"balanced\" or \"balanced_subsample\" are not recommended for warm_start if the fitted data differs from the full dataset. In order to use \"balanced\" weights, use compute_class_weight (\"balanced\", classes, y). In place of y you can use a large enough sample of the full training set target to properly estimate the class frequency distributions. Pass the resulting weights as the class_weight parameter.\n",
            "  'class_weight presets \"balanced\" or '\n"
          ]
        },
        {
          "output_type": "stream",
          "name": "stdout",
          "text": [
            "[CV 5/5] END bootstrap=True, class_weight=balanced_subsample, criterion=gini, max_depth=2, max_features=sqrt, warm_start=True;, score=0.535 total time=   0.3s\n",
            "[CV 1/5] END bootstrap=True, class_weight=balanced_subsample, criterion=gini, max_depth=2, max_features=log2, warm_start=False;, score=0.635 total time=   0.3s\n",
            "[CV 2/5] END bootstrap=True, class_weight=balanced_subsample, criterion=gini, max_depth=2, max_features=log2, warm_start=False;, score=0.580 total time=   0.3s\n",
            "[CV 3/5] END bootstrap=True, class_weight=balanced_subsample, criterion=gini, max_depth=2, max_features=log2, warm_start=False;, score=0.500 total time=   0.3s\n",
            "[CV 4/5] END bootstrap=True, class_weight=balanced_subsample, criterion=gini, max_depth=2, max_features=log2, warm_start=False;, score=0.495 total time=   0.3s\n",
            "[CV 5/5] END bootstrap=True, class_weight=balanced_subsample, criterion=gini, max_depth=2, max_features=log2, warm_start=False;, score=0.520 total time=   0.3s\n"
          ]
        },
        {
          "output_type": "stream",
          "name": "stderr",
          "text": [
            "/usr/local/lib/python3.7/dist-packages/sklearn/ensemble/_forest.py:756: UserWarning: class_weight presets \"balanced\" or \"balanced_subsample\" are not recommended for warm_start if the fitted data differs from the full dataset. In order to use \"balanced\" weights, use compute_class_weight (\"balanced\", classes, y). In place of y you can use a large enough sample of the full training set target to properly estimate the class frequency distributions. Pass the resulting weights as the class_weight parameter.\n",
            "  'class_weight presets \"balanced\" or '\n"
          ]
        },
        {
          "output_type": "stream",
          "name": "stdout",
          "text": [
            "[CV 1/5] END bootstrap=True, class_weight=balanced_subsample, criterion=gini, max_depth=2, max_features=log2, warm_start=True;, score=0.605 total time=   0.3s\n"
          ]
        },
        {
          "output_type": "stream",
          "name": "stderr",
          "text": [
            "/usr/local/lib/python3.7/dist-packages/sklearn/ensemble/_forest.py:756: UserWarning: class_weight presets \"balanced\" or \"balanced_subsample\" are not recommended for warm_start if the fitted data differs from the full dataset. In order to use \"balanced\" weights, use compute_class_weight (\"balanced\", classes, y). In place of y you can use a large enough sample of the full training set target to properly estimate the class frequency distributions. Pass the resulting weights as the class_weight parameter.\n",
            "  'class_weight presets \"balanced\" or '\n"
          ]
        },
        {
          "output_type": "stream",
          "name": "stdout",
          "text": [
            "[CV 2/5] END bootstrap=True, class_weight=balanced_subsample, criterion=gini, max_depth=2, max_features=log2, warm_start=True;, score=0.535 total time=   0.3s\n"
          ]
        },
        {
          "output_type": "stream",
          "name": "stderr",
          "text": [
            "/usr/local/lib/python3.7/dist-packages/sklearn/ensemble/_forest.py:756: UserWarning: class_weight presets \"balanced\" or \"balanced_subsample\" are not recommended for warm_start if the fitted data differs from the full dataset. In order to use \"balanced\" weights, use compute_class_weight (\"balanced\", classes, y). In place of y you can use a large enough sample of the full training set target to properly estimate the class frequency distributions. Pass the resulting weights as the class_weight parameter.\n",
            "  'class_weight presets \"balanced\" or '\n"
          ]
        },
        {
          "output_type": "stream",
          "name": "stdout",
          "text": [
            "[CV 3/5] END bootstrap=True, class_weight=balanced_subsample, criterion=gini, max_depth=2, max_features=log2, warm_start=True;, score=0.510 total time=   0.3s\n"
          ]
        },
        {
          "output_type": "stream",
          "name": "stderr",
          "text": [
            "/usr/local/lib/python3.7/dist-packages/sklearn/ensemble/_forest.py:756: UserWarning: class_weight presets \"balanced\" or \"balanced_subsample\" are not recommended for warm_start if the fitted data differs from the full dataset. In order to use \"balanced\" weights, use compute_class_weight (\"balanced\", classes, y). In place of y you can use a large enough sample of the full training set target to properly estimate the class frequency distributions. Pass the resulting weights as the class_weight parameter.\n",
            "  'class_weight presets \"balanced\" or '\n"
          ]
        },
        {
          "output_type": "stream",
          "name": "stdout",
          "text": [
            "[CV 4/5] END bootstrap=True, class_weight=balanced_subsample, criterion=gini, max_depth=2, max_features=log2, warm_start=True;, score=0.495 total time=   0.3s\n"
          ]
        },
        {
          "output_type": "stream",
          "name": "stderr",
          "text": [
            "/usr/local/lib/python3.7/dist-packages/sklearn/ensemble/_forest.py:756: UserWarning: class_weight presets \"balanced\" or \"balanced_subsample\" are not recommended for warm_start if the fitted data differs from the full dataset. In order to use \"balanced\" weights, use compute_class_weight (\"balanced\", classes, y). In place of y you can use a large enough sample of the full training set target to properly estimate the class frequency distributions. Pass the resulting weights as the class_weight parameter.\n",
            "  'class_weight presets \"balanced\" or '\n"
          ]
        },
        {
          "output_type": "stream",
          "name": "stdout",
          "text": [
            "[CV 5/5] END bootstrap=True, class_weight=balanced_subsample, criterion=gini, max_depth=2, max_features=log2, warm_start=True;, score=0.505 total time=   0.3s\n",
            "[CV 1/5] END bootstrap=True, class_weight=balanced_subsample, criterion=gini, max_depth=3, max_features=auto, warm_start=False;, score=0.655 total time=   0.3s\n",
            "[CV 2/5] END bootstrap=True, class_weight=balanced_subsample, criterion=gini, max_depth=3, max_features=auto, warm_start=False;, score=0.605 total time=   0.3s\n",
            "[CV 3/5] END bootstrap=True, class_weight=balanced_subsample, criterion=gini, max_depth=3, max_features=auto, warm_start=False;, score=0.540 total time=   0.3s\n",
            "[CV 4/5] END bootstrap=True, class_weight=balanced_subsample, criterion=gini, max_depth=3, max_features=auto, warm_start=False;, score=0.565 total time=   0.3s\n",
            "[CV 5/5] END bootstrap=True, class_weight=balanced_subsample, criterion=gini, max_depth=3, max_features=auto, warm_start=False;, score=0.595 total time=   0.3s\n"
          ]
        },
        {
          "output_type": "stream",
          "name": "stderr",
          "text": [
            "/usr/local/lib/python3.7/dist-packages/sklearn/ensemble/_forest.py:756: UserWarning: class_weight presets \"balanced\" or \"balanced_subsample\" are not recommended for warm_start if the fitted data differs from the full dataset. In order to use \"balanced\" weights, use compute_class_weight (\"balanced\", classes, y). In place of y you can use a large enough sample of the full training set target to properly estimate the class frequency distributions. Pass the resulting weights as the class_weight parameter.\n",
            "  'class_weight presets \"balanced\" or '\n"
          ]
        },
        {
          "output_type": "stream",
          "name": "stdout",
          "text": [
            "[CV 1/5] END bootstrap=True, class_weight=balanced_subsample, criterion=gini, max_depth=3, max_features=auto, warm_start=True;, score=0.620 total time=   0.3s\n"
          ]
        },
        {
          "output_type": "stream",
          "name": "stderr",
          "text": [
            "/usr/local/lib/python3.7/dist-packages/sklearn/ensemble/_forest.py:756: UserWarning: class_weight presets \"balanced\" or \"balanced_subsample\" are not recommended for warm_start if the fitted data differs from the full dataset. In order to use \"balanced\" weights, use compute_class_weight (\"balanced\", classes, y). In place of y you can use a large enough sample of the full training set target to properly estimate the class frequency distributions. Pass the resulting weights as the class_weight parameter.\n",
            "  'class_weight presets \"balanced\" or '\n"
          ]
        },
        {
          "output_type": "stream",
          "name": "stdout",
          "text": [
            "[CV 2/5] END bootstrap=True, class_weight=balanced_subsample, criterion=gini, max_depth=3, max_features=auto, warm_start=True;, score=0.620 total time=   0.3s\n"
          ]
        },
        {
          "output_type": "stream",
          "name": "stderr",
          "text": [
            "/usr/local/lib/python3.7/dist-packages/sklearn/ensemble/_forest.py:756: UserWarning: class_weight presets \"balanced\" or \"balanced_subsample\" are not recommended for warm_start if the fitted data differs from the full dataset. In order to use \"balanced\" weights, use compute_class_weight (\"balanced\", classes, y). In place of y you can use a large enough sample of the full training set target to properly estimate the class frequency distributions. Pass the resulting weights as the class_weight parameter.\n",
            "  'class_weight presets \"balanced\" or '\n"
          ]
        },
        {
          "output_type": "stream",
          "name": "stdout",
          "text": [
            "[CV 3/5] END bootstrap=True, class_weight=balanced_subsample, criterion=gini, max_depth=3, max_features=auto, warm_start=True;, score=0.505 total time=   0.3s\n"
          ]
        },
        {
          "output_type": "stream",
          "name": "stderr",
          "text": [
            "/usr/local/lib/python3.7/dist-packages/sklearn/ensemble/_forest.py:756: UserWarning: class_weight presets \"balanced\" or \"balanced_subsample\" are not recommended for warm_start if the fitted data differs from the full dataset. In order to use \"balanced\" weights, use compute_class_weight (\"balanced\", classes, y). In place of y you can use a large enough sample of the full training set target to properly estimate the class frequency distributions. Pass the resulting weights as the class_weight parameter.\n",
            "  'class_weight presets \"balanced\" or '\n"
          ]
        },
        {
          "output_type": "stream",
          "name": "stdout",
          "text": [
            "[CV 4/5] END bootstrap=True, class_weight=balanced_subsample, criterion=gini, max_depth=3, max_features=auto, warm_start=True;, score=0.575 total time=   0.3s\n"
          ]
        },
        {
          "output_type": "stream",
          "name": "stderr",
          "text": [
            "/usr/local/lib/python3.7/dist-packages/sklearn/ensemble/_forest.py:756: UserWarning: class_weight presets \"balanced\" or \"balanced_subsample\" are not recommended for warm_start if the fitted data differs from the full dataset. In order to use \"balanced\" weights, use compute_class_weight (\"balanced\", classes, y). In place of y you can use a large enough sample of the full training set target to properly estimate the class frequency distributions. Pass the resulting weights as the class_weight parameter.\n",
            "  'class_weight presets \"balanced\" or '\n"
          ]
        },
        {
          "output_type": "stream",
          "name": "stdout",
          "text": [
            "[CV 5/5] END bootstrap=True, class_weight=balanced_subsample, criterion=gini, max_depth=3, max_features=auto, warm_start=True;, score=0.575 total time=   0.3s\n",
            "[CV 1/5] END bootstrap=True, class_weight=balanced_subsample, criterion=gini, max_depth=3, max_features=sqrt, warm_start=False;, score=0.635 total time=   0.3s\n",
            "[CV 2/5] END bootstrap=True, class_weight=balanced_subsample, criterion=gini, max_depth=3, max_features=sqrt, warm_start=False;, score=0.635 total time=   0.3s\n",
            "[CV 3/5] END bootstrap=True, class_weight=balanced_subsample, criterion=gini, max_depth=3, max_features=sqrt, warm_start=False;, score=0.535 total time=   0.3s\n",
            "[CV 4/5] END bootstrap=True, class_weight=balanced_subsample, criterion=gini, max_depth=3, max_features=sqrt, warm_start=False;, score=0.530 total time=   0.3s\n",
            "[CV 5/5] END bootstrap=True, class_weight=balanced_subsample, criterion=gini, max_depth=3, max_features=sqrt, warm_start=False;, score=0.580 total time=   0.3s\n"
          ]
        },
        {
          "output_type": "stream",
          "name": "stderr",
          "text": [
            "/usr/local/lib/python3.7/dist-packages/sklearn/ensemble/_forest.py:756: UserWarning: class_weight presets \"balanced\" or \"balanced_subsample\" are not recommended for warm_start if the fitted data differs from the full dataset. In order to use \"balanced\" weights, use compute_class_weight (\"balanced\", classes, y). In place of y you can use a large enough sample of the full training set target to properly estimate the class frequency distributions. Pass the resulting weights as the class_weight parameter.\n",
            "  'class_weight presets \"balanced\" or '\n"
          ]
        },
        {
          "output_type": "stream",
          "name": "stdout",
          "text": [
            "[CV 1/5] END bootstrap=True, class_weight=balanced_subsample, criterion=gini, max_depth=3, max_features=sqrt, warm_start=True;, score=0.660 total time=   0.3s\n"
          ]
        },
        {
          "output_type": "stream",
          "name": "stderr",
          "text": [
            "/usr/local/lib/python3.7/dist-packages/sklearn/ensemble/_forest.py:756: UserWarning: class_weight presets \"balanced\" or \"balanced_subsample\" are not recommended for warm_start if the fitted data differs from the full dataset. In order to use \"balanced\" weights, use compute_class_weight (\"balanced\", classes, y). In place of y you can use a large enough sample of the full training set target to properly estimate the class frequency distributions. Pass the resulting weights as the class_weight parameter.\n",
            "  'class_weight presets \"balanced\" or '\n"
          ]
        },
        {
          "output_type": "stream",
          "name": "stdout",
          "text": [
            "[CV 2/5] END bootstrap=True, class_weight=balanced_subsample, criterion=gini, max_depth=3, max_features=sqrt, warm_start=True;, score=0.615 total time=   0.3s\n"
          ]
        },
        {
          "output_type": "stream",
          "name": "stderr",
          "text": [
            "/usr/local/lib/python3.7/dist-packages/sklearn/ensemble/_forest.py:756: UserWarning: class_weight presets \"balanced\" or \"balanced_subsample\" are not recommended for warm_start if the fitted data differs from the full dataset. In order to use \"balanced\" weights, use compute_class_weight (\"balanced\", classes, y). In place of y you can use a large enough sample of the full training set target to properly estimate the class frequency distributions. Pass the resulting weights as the class_weight parameter.\n",
            "  'class_weight presets \"balanced\" or '\n"
          ]
        },
        {
          "output_type": "stream",
          "name": "stdout",
          "text": [
            "[CV 3/5] END bootstrap=True, class_weight=balanced_subsample, criterion=gini, max_depth=3, max_features=sqrt, warm_start=True;, score=0.550 total time=   0.3s\n"
          ]
        },
        {
          "output_type": "stream",
          "name": "stderr",
          "text": [
            "/usr/local/lib/python3.7/dist-packages/sklearn/ensemble/_forest.py:756: UserWarning: class_weight presets \"balanced\" or \"balanced_subsample\" are not recommended for warm_start if the fitted data differs from the full dataset. In order to use \"balanced\" weights, use compute_class_weight (\"balanced\", classes, y). In place of y you can use a large enough sample of the full training set target to properly estimate the class frequency distributions. Pass the resulting weights as the class_weight parameter.\n",
            "  'class_weight presets \"balanced\" or '\n"
          ]
        },
        {
          "output_type": "stream",
          "name": "stdout",
          "text": [
            "[CV 4/5] END bootstrap=True, class_weight=balanced_subsample, criterion=gini, max_depth=3, max_features=sqrt, warm_start=True;, score=0.545 total time=   0.3s\n"
          ]
        },
        {
          "output_type": "stream",
          "name": "stderr",
          "text": [
            "/usr/local/lib/python3.7/dist-packages/sklearn/ensemble/_forest.py:756: UserWarning: class_weight presets \"balanced\" or \"balanced_subsample\" are not recommended for warm_start if the fitted data differs from the full dataset. In order to use \"balanced\" weights, use compute_class_weight (\"balanced\", classes, y). In place of y you can use a large enough sample of the full training set target to properly estimate the class frequency distributions. Pass the resulting weights as the class_weight parameter.\n",
            "  'class_weight presets \"balanced\" or '\n"
          ]
        },
        {
          "output_type": "stream",
          "name": "stdout",
          "text": [
            "[CV 5/5] END bootstrap=True, class_weight=balanced_subsample, criterion=gini, max_depth=3, max_features=sqrt, warm_start=True;, score=0.570 total time=   0.3s\n",
            "[CV 1/5] END bootstrap=True, class_weight=balanced_subsample, criterion=gini, max_depth=3, max_features=log2, warm_start=False;, score=0.630 total time=   0.3s\n",
            "[CV 2/5] END bootstrap=True, class_weight=balanced_subsample, criterion=gini, max_depth=3, max_features=log2, warm_start=False;, score=0.590 total time=   0.3s\n",
            "[CV 3/5] END bootstrap=True, class_weight=balanced_subsample, criterion=gini, max_depth=3, max_features=log2, warm_start=False;, score=0.535 total time=   0.3s\n",
            "[CV 4/5] END bootstrap=True, class_weight=balanced_subsample, criterion=gini, max_depth=3, max_features=log2, warm_start=False;, score=0.550 total time=   0.3s\n",
            "[CV 5/5] END bootstrap=True, class_weight=balanced_subsample, criterion=gini, max_depth=3, max_features=log2, warm_start=False;, score=0.550 total time=   0.3s\n"
          ]
        },
        {
          "output_type": "stream",
          "name": "stderr",
          "text": [
            "/usr/local/lib/python3.7/dist-packages/sklearn/ensemble/_forest.py:756: UserWarning: class_weight presets \"balanced\" or \"balanced_subsample\" are not recommended for warm_start if the fitted data differs from the full dataset. In order to use \"balanced\" weights, use compute_class_weight (\"balanced\", classes, y). In place of y you can use a large enough sample of the full training set target to properly estimate the class frequency distributions. Pass the resulting weights as the class_weight parameter.\n",
            "  'class_weight presets \"balanced\" or '\n"
          ]
        },
        {
          "output_type": "stream",
          "name": "stdout",
          "text": [
            "[CV 1/5] END bootstrap=True, class_weight=balanced_subsample, criterion=gini, max_depth=3, max_features=log2, warm_start=True;, score=0.630 total time=   0.3s\n"
          ]
        },
        {
          "output_type": "stream",
          "name": "stderr",
          "text": [
            "/usr/local/lib/python3.7/dist-packages/sklearn/ensemble/_forest.py:756: UserWarning: class_weight presets \"balanced\" or \"balanced_subsample\" are not recommended for warm_start if the fitted data differs from the full dataset. In order to use \"balanced\" weights, use compute_class_weight (\"balanced\", classes, y). In place of y you can use a large enough sample of the full training set target to properly estimate the class frequency distributions. Pass the resulting weights as the class_weight parameter.\n",
            "  'class_weight presets \"balanced\" or '\n"
          ]
        },
        {
          "output_type": "stream",
          "name": "stdout",
          "text": [
            "[CV 2/5] END bootstrap=True, class_weight=balanced_subsample, criterion=gini, max_depth=3, max_features=log2, warm_start=True;, score=0.595 total time=   0.3s\n"
          ]
        },
        {
          "output_type": "stream",
          "name": "stderr",
          "text": [
            "/usr/local/lib/python3.7/dist-packages/sklearn/ensemble/_forest.py:756: UserWarning: class_weight presets \"balanced\" or \"balanced_subsample\" are not recommended for warm_start if the fitted data differs from the full dataset. In order to use \"balanced\" weights, use compute_class_weight (\"balanced\", classes, y). In place of y you can use a large enough sample of the full training set target to properly estimate the class frequency distributions. Pass the resulting weights as the class_weight parameter.\n",
            "  'class_weight presets \"balanced\" or '\n"
          ]
        },
        {
          "output_type": "stream",
          "name": "stdout",
          "text": [
            "[CV 3/5] END bootstrap=True, class_weight=balanced_subsample, criterion=gini, max_depth=3, max_features=log2, warm_start=True;, score=0.530 total time=   0.3s\n"
          ]
        },
        {
          "output_type": "stream",
          "name": "stderr",
          "text": [
            "/usr/local/lib/python3.7/dist-packages/sklearn/ensemble/_forest.py:756: UserWarning: class_weight presets \"balanced\" or \"balanced_subsample\" are not recommended for warm_start if the fitted data differs from the full dataset. In order to use \"balanced\" weights, use compute_class_weight (\"balanced\", classes, y). In place of y you can use a large enough sample of the full training set target to properly estimate the class frequency distributions. Pass the resulting weights as the class_weight parameter.\n",
            "  'class_weight presets \"balanced\" or '\n"
          ]
        },
        {
          "output_type": "stream",
          "name": "stdout",
          "text": [
            "[CV 4/5] END bootstrap=True, class_weight=balanced_subsample, criterion=gini, max_depth=3, max_features=log2, warm_start=True;, score=0.540 total time=   0.3s\n"
          ]
        },
        {
          "output_type": "stream",
          "name": "stderr",
          "text": [
            "/usr/local/lib/python3.7/dist-packages/sklearn/ensemble/_forest.py:756: UserWarning: class_weight presets \"balanced\" or \"balanced_subsample\" are not recommended for warm_start if the fitted data differs from the full dataset. In order to use \"balanced\" weights, use compute_class_weight (\"balanced\", classes, y). In place of y you can use a large enough sample of the full training set target to properly estimate the class frequency distributions. Pass the resulting weights as the class_weight parameter.\n",
            "  'class_weight presets \"balanced\" or '\n"
          ]
        },
        {
          "output_type": "stream",
          "name": "stdout",
          "text": [
            "[CV 5/5] END bootstrap=True, class_weight=balanced_subsample, criterion=gini, max_depth=3, max_features=log2, warm_start=True;, score=0.595 total time=   0.3s\n",
            "[CV 1/5] END bootstrap=True, class_weight=balanced_subsample, criterion=gini, max_depth=5, max_features=auto, warm_start=False;, score=0.660 total time=   0.3s\n",
            "[CV 2/5] END bootstrap=True, class_weight=balanced_subsample, criterion=gini, max_depth=5, max_features=auto, warm_start=False;, score=0.655 total time=   0.3s\n",
            "[CV 3/5] END bootstrap=True, class_weight=balanced_subsample, criterion=gini, max_depth=5, max_features=auto, warm_start=False;, score=0.590 total time=   0.3s\n",
            "[CV 4/5] END bootstrap=True, class_weight=balanced_subsample, criterion=gini, max_depth=5, max_features=auto, warm_start=False;, score=0.615 total time=   0.3s\n",
            "[CV 5/5] END bootstrap=True, class_weight=balanced_subsample, criterion=gini, max_depth=5, max_features=auto, warm_start=False;, score=0.625 total time=   0.3s\n"
          ]
        },
        {
          "output_type": "stream",
          "name": "stderr",
          "text": [
            "/usr/local/lib/python3.7/dist-packages/sklearn/ensemble/_forest.py:756: UserWarning: class_weight presets \"balanced\" or \"balanced_subsample\" are not recommended for warm_start if the fitted data differs from the full dataset. In order to use \"balanced\" weights, use compute_class_weight (\"balanced\", classes, y). In place of y you can use a large enough sample of the full training set target to properly estimate the class frequency distributions. Pass the resulting weights as the class_weight parameter.\n",
            "  'class_weight presets \"balanced\" or '\n"
          ]
        },
        {
          "output_type": "stream",
          "name": "stdout",
          "text": [
            "[CV 1/5] END bootstrap=True, class_weight=balanced_subsample, criterion=gini, max_depth=5, max_features=auto, warm_start=True;, score=0.685 total time=   0.3s\n"
          ]
        },
        {
          "output_type": "stream",
          "name": "stderr",
          "text": [
            "/usr/local/lib/python3.7/dist-packages/sklearn/ensemble/_forest.py:756: UserWarning: class_weight presets \"balanced\" or \"balanced_subsample\" are not recommended for warm_start if the fitted data differs from the full dataset. In order to use \"balanced\" weights, use compute_class_weight (\"balanced\", classes, y). In place of y you can use a large enough sample of the full training set target to properly estimate the class frequency distributions. Pass the resulting weights as the class_weight parameter.\n",
            "  'class_weight presets \"balanced\" or '\n"
          ]
        },
        {
          "output_type": "stream",
          "name": "stdout",
          "text": [
            "[CV 2/5] END bootstrap=True, class_weight=balanced_subsample, criterion=gini, max_depth=5, max_features=auto, warm_start=True;, score=0.650 total time=   0.4s\n"
          ]
        },
        {
          "output_type": "stream",
          "name": "stderr",
          "text": [
            "/usr/local/lib/python3.7/dist-packages/sklearn/ensemble/_forest.py:756: UserWarning: class_weight presets \"balanced\" or \"balanced_subsample\" are not recommended for warm_start if the fitted data differs from the full dataset. In order to use \"balanced\" weights, use compute_class_weight (\"balanced\", classes, y). In place of y you can use a large enough sample of the full training set target to properly estimate the class frequency distributions. Pass the resulting weights as the class_weight parameter.\n",
            "  'class_weight presets \"balanced\" or '\n"
          ]
        },
        {
          "output_type": "stream",
          "name": "stdout",
          "text": [
            "[CV 3/5] END bootstrap=True, class_weight=balanced_subsample, criterion=gini, max_depth=5, max_features=auto, warm_start=True;, score=0.620 total time=   0.3s\n"
          ]
        },
        {
          "output_type": "stream",
          "name": "stderr",
          "text": [
            "/usr/local/lib/python3.7/dist-packages/sklearn/ensemble/_forest.py:756: UserWarning: class_weight presets \"balanced\" or \"balanced_subsample\" are not recommended for warm_start if the fitted data differs from the full dataset. In order to use \"balanced\" weights, use compute_class_weight (\"balanced\", classes, y). In place of y you can use a large enough sample of the full training set target to properly estimate the class frequency distributions. Pass the resulting weights as the class_weight parameter.\n",
            "  'class_weight presets \"balanced\" or '\n"
          ]
        },
        {
          "output_type": "stream",
          "name": "stdout",
          "text": [
            "[CV 4/5] END bootstrap=True, class_weight=balanced_subsample, criterion=gini, max_depth=5, max_features=auto, warm_start=True;, score=0.605 total time=   0.3s\n"
          ]
        },
        {
          "output_type": "stream",
          "name": "stderr",
          "text": [
            "/usr/local/lib/python3.7/dist-packages/sklearn/ensemble/_forest.py:756: UserWarning: class_weight presets \"balanced\" or \"balanced_subsample\" are not recommended for warm_start if the fitted data differs from the full dataset. In order to use \"balanced\" weights, use compute_class_weight (\"balanced\", classes, y). In place of y you can use a large enough sample of the full training set target to properly estimate the class frequency distributions. Pass the resulting weights as the class_weight parameter.\n",
            "  'class_weight presets \"balanced\" or '\n"
          ]
        },
        {
          "output_type": "stream",
          "name": "stdout",
          "text": [
            "[CV 5/5] END bootstrap=True, class_weight=balanced_subsample, criterion=gini, max_depth=5, max_features=auto, warm_start=True;, score=0.630 total time=   0.3s\n",
            "[CV 1/5] END bootstrap=True, class_weight=balanced_subsample, criterion=gini, max_depth=5, max_features=sqrt, warm_start=False;, score=0.685 total time=   0.3s\n",
            "[CV 2/5] END bootstrap=True, class_weight=balanced_subsample, criterion=gini, max_depth=5, max_features=sqrt, warm_start=False;, score=0.660 total time=   0.3s\n",
            "[CV 3/5] END bootstrap=True, class_weight=balanced_subsample, criterion=gini, max_depth=5, max_features=sqrt, warm_start=False;, score=0.590 total time=   0.3s\n",
            "[CV 4/5] END bootstrap=True, class_weight=balanced_subsample, criterion=gini, max_depth=5, max_features=sqrt, warm_start=False;, score=0.610 total time=   0.3s\n",
            "[CV 5/5] END bootstrap=True, class_weight=balanced_subsample, criterion=gini, max_depth=5, max_features=sqrt, warm_start=False;, score=0.605 total time=   0.3s\n"
          ]
        },
        {
          "output_type": "stream",
          "name": "stderr",
          "text": [
            "/usr/local/lib/python3.7/dist-packages/sklearn/ensemble/_forest.py:756: UserWarning: class_weight presets \"balanced\" or \"balanced_subsample\" are not recommended for warm_start if the fitted data differs from the full dataset. In order to use \"balanced\" weights, use compute_class_weight (\"balanced\", classes, y). In place of y you can use a large enough sample of the full training set target to properly estimate the class frequency distributions. Pass the resulting weights as the class_weight parameter.\n",
            "  'class_weight presets \"balanced\" or '\n"
          ]
        },
        {
          "output_type": "stream",
          "name": "stdout",
          "text": [
            "[CV 1/5] END bootstrap=True, class_weight=balanced_subsample, criterion=gini, max_depth=5, max_features=sqrt, warm_start=True;, score=0.690 total time=   0.3s\n"
          ]
        },
        {
          "output_type": "stream",
          "name": "stderr",
          "text": [
            "/usr/local/lib/python3.7/dist-packages/sklearn/ensemble/_forest.py:756: UserWarning: class_weight presets \"balanced\" or \"balanced_subsample\" are not recommended for warm_start if the fitted data differs from the full dataset. In order to use \"balanced\" weights, use compute_class_weight (\"balanced\", classes, y). In place of y you can use a large enough sample of the full training set target to properly estimate the class frequency distributions. Pass the resulting weights as the class_weight parameter.\n",
            "  'class_weight presets \"balanced\" or '\n"
          ]
        },
        {
          "output_type": "stream",
          "name": "stdout",
          "text": [
            "[CV 2/5] END bootstrap=True, class_weight=balanced_subsample, criterion=gini, max_depth=5, max_features=sqrt, warm_start=True;, score=0.650 total time=   0.3s\n"
          ]
        },
        {
          "output_type": "stream",
          "name": "stderr",
          "text": [
            "/usr/local/lib/python3.7/dist-packages/sklearn/ensemble/_forest.py:756: UserWarning: class_weight presets \"balanced\" or \"balanced_subsample\" are not recommended for warm_start if the fitted data differs from the full dataset. In order to use \"balanced\" weights, use compute_class_weight (\"balanced\", classes, y). In place of y you can use a large enough sample of the full training set target to properly estimate the class frequency distributions. Pass the resulting weights as the class_weight parameter.\n",
            "  'class_weight presets \"balanced\" or '\n"
          ]
        },
        {
          "output_type": "stream",
          "name": "stdout",
          "text": [
            "[CV 3/5] END bootstrap=True, class_weight=balanced_subsample, criterion=gini, max_depth=5, max_features=sqrt, warm_start=True;, score=0.580 total time=   0.3s\n"
          ]
        },
        {
          "output_type": "stream",
          "name": "stderr",
          "text": [
            "/usr/local/lib/python3.7/dist-packages/sklearn/ensemble/_forest.py:756: UserWarning: class_weight presets \"balanced\" or \"balanced_subsample\" are not recommended for warm_start if the fitted data differs from the full dataset. In order to use \"balanced\" weights, use compute_class_weight (\"balanced\", classes, y). In place of y you can use a large enough sample of the full training set target to properly estimate the class frequency distributions. Pass the resulting weights as the class_weight parameter.\n",
            "  'class_weight presets \"balanced\" or '\n"
          ]
        },
        {
          "output_type": "stream",
          "name": "stdout",
          "text": [
            "[CV 4/5] END bootstrap=True, class_weight=balanced_subsample, criterion=gini, max_depth=5, max_features=sqrt, warm_start=True;, score=0.595 total time=   0.4s\n"
          ]
        },
        {
          "output_type": "stream",
          "name": "stderr",
          "text": [
            "/usr/local/lib/python3.7/dist-packages/sklearn/ensemble/_forest.py:756: UserWarning: class_weight presets \"balanced\" or \"balanced_subsample\" are not recommended for warm_start if the fitted data differs from the full dataset. In order to use \"balanced\" weights, use compute_class_weight (\"balanced\", classes, y). In place of y you can use a large enough sample of the full training set target to properly estimate the class frequency distributions. Pass the resulting weights as the class_weight parameter.\n",
            "  'class_weight presets \"balanced\" or '\n"
          ]
        },
        {
          "output_type": "stream",
          "name": "stdout",
          "text": [
            "[CV 5/5] END bootstrap=True, class_weight=balanced_subsample, criterion=gini, max_depth=5, max_features=sqrt, warm_start=True;, score=0.645 total time=   0.3s\n",
            "[CV 1/5] END bootstrap=True, class_weight=balanced_subsample, criterion=gini, max_depth=5, max_features=log2, warm_start=False;, score=0.710 total time=   0.3s\n",
            "[CV 2/5] END bootstrap=True, class_weight=balanced_subsample, criterion=gini, max_depth=5, max_features=log2, warm_start=False;, score=0.635 total time=   0.3s\n",
            "[CV 3/5] END bootstrap=True, class_weight=balanced_subsample, criterion=gini, max_depth=5, max_features=log2, warm_start=False;, score=0.575 total time=   0.3s\n",
            "[CV 4/5] END bootstrap=True, class_weight=balanced_subsample, criterion=gini, max_depth=5, max_features=log2, warm_start=False;, score=0.605 total time=   0.3s\n",
            "[CV 5/5] END bootstrap=True, class_weight=balanced_subsample, criterion=gini, max_depth=5, max_features=log2, warm_start=False;, score=0.645 total time=   0.3s\n"
          ]
        },
        {
          "output_type": "stream",
          "name": "stderr",
          "text": [
            "/usr/local/lib/python3.7/dist-packages/sklearn/ensemble/_forest.py:756: UserWarning: class_weight presets \"balanced\" or \"balanced_subsample\" are not recommended for warm_start if the fitted data differs from the full dataset. In order to use \"balanced\" weights, use compute_class_weight (\"balanced\", classes, y). In place of y you can use a large enough sample of the full training set target to properly estimate the class frequency distributions. Pass the resulting weights as the class_weight parameter.\n",
            "  'class_weight presets \"balanced\" or '\n"
          ]
        },
        {
          "output_type": "stream",
          "name": "stdout",
          "text": [
            "[CV 1/5] END bootstrap=True, class_weight=balanced_subsample, criterion=gini, max_depth=5, max_features=log2, warm_start=True;, score=0.695 total time=   0.3s\n"
          ]
        },
        {
          "output_type": "stream",
          "name": "stderr",
          "text": [
            "/usr/local/lib/python3.7/dist-packages/sklearn/ensemble/_forest.py:756: UserWarning: class_weight presets \"balanced\" or \"balanced_subsample\" are not recommended for warm_start if the fitted data differs from the full dataset. In order to use \"balanced\" weights, use compute_class_weight (\"balanced\", classes, y). In place of y you can use a large enough sample of the full training set target to properly estimate the class frequency distributions. Pass the resulting weights as the class_weight parameter.\n",
            "  'class_weight presets \"balanced\" or '\n"
          ]
        },
        {
          "output_type": "stream",
          "name": "stdout",
          "text": [
            "[CV 2/5] END bootstrap=True, class_weight=balanced_subsample, criterion=gini, max_depth=5, max_features=log2, warm_start=True;, score=0.640 total time=   0.4s\n"
          ]
        },
        {
          "output_type": "stream",
          "name": "stderr",
          "text": [
            "/usr/local/lib/python3.7/dist-packages/sklearn/ensemble/_forest.py:756: UserWarning: class_weight presets \"balanced\" or \"balanced_subsample\" are not recommended for warm_start if the fitted data differs from the full dataset. In order to use \"balanced\" weights, use compute_class_weight (\"balanced\", classes, y). In place of y you can use a large enough sample of the full training set target to properly estimate the class frequency distributions. Pass the resulting weights as the class_weight parameter.\n",
            "  'class_weight presets \"balanced\" or '\n"
          ]
        },
        {
          "output_type": "stream",
          "name": "stdout",
          "text": [
            "[CV 3/5] END bootstrap=True, class_weight=balanced_subsample, criterion=gini, max_depth=5, max_features=log2, warm_start=True;, score=0.580 total time=   0.3s\n"
          ]
        },
        {
          "output_type": "stream",
          "name": "stderr",
          "text": [
            "/usr/local/lib/python3.7/dist-packages/sklearn/ensemble/_forest.py:756: UserWarning: class_weight presets \"balanced\" or \"balanced_subsample\" are not recommended for warm_start if the fitted data differs from the full dataset. In order to use \"balanced\" weights, use compute_class_weight (\"balanced\", classes, y). In place of y you can use a large enough sample of the full training set target to properly estimate the class frequency distributions. Pass the resulting weights as the class_weight parameter.\n",
            "  'class_weight presets \"balanced\" or '\n"
          ]
        },
        {
          "output_type": "stream",
          "name": "stdout",
          "text": [
            "[CV 4/5] END bootstrap=True, class_weight=balanced_subsample, criterion=gini, max_depth=5, max_features=log2, warm_start=True;, score=0.590 total time=   0.3s\n"
          ]
        },
        {
          "output_type": "stream",
          "name": "stderr",
          "text": [
            "/usr/local/lib/python3.7/dist-packages/sklearn/ensemble/_forest.py:756: UserWarning: class_weight presets \"balanced\" or \"balanced_subsample\" are not recommended for warm_start if the fitted data differs from the full dataset. In order to use \"balanced\" weights, use compute_class_weight (\"balanced\", classes, y). In place of y you can use a large enough sample of the full training set target to properly estimate the class frequency distributions. Pass the resulting weights as the class_weight parameter.\n",
            "  'class_weight presets \"balanced\" or '\n"
          ]
        },
        {
          "output_type": "stream",
          "name": "stdout",
          "text": [
            "[CV 5/5] END bootstrap=True, class_weight=balanced_subsample, criterion=gini, max_depth=5, max_features=log2, warm_start=True;, score=0.620 total time=   0.3s\n",
            "[CV 1/5] END bootstrap=True, class_weight=balanced_subsample, criterion=entropy, max_depth=2, max_features=auto, warm_start=False;, score=0.585 total time=   0.4s\n",
            "[CV 2/5] END bootstrap=True, class_weight=balanced_subsample, criterion=entropy, max_depth=2, max_features=auto, warm_start=False;, score=0.555 total time=   0.4s\n",
            "[CV 3/5] END bootstrap=True, class_weight=balanced_subsample, criterion=entropy, max_depth=2, max_features=auto, warm_start=False;, score=0.480 total time=   0.4s\n",
            "[CV 4/5] END bootstrap=True, class_weight=balanced_subsample, criterion=entropy, max_depth=2, max_features=auto, warm_start=False;, score=0.485 total time=   0.4s\n",
            "[CV 5/5] END bootstrap=True, class_weight=balanced_subsample, criterion=entropy, max_depth=2, max_features=auto, warm_start=False;, score=0.480 total time=   0.4s\n"
          ]
        },
        {
          "output_type": "stream",
          "name": "stderr",
          "text": [
            "/usr/local/lib/python3.7/dist-packages/sklearn/ensemble/_forest.py:756: UserWarning: class_weight presets \"balanced\" or \"balanced_subsample\" are not recommended for warm_start if the fitted data differs from the full dataset. In order to use \"balanced\" weights, use compute_class_weight (\"balanced\", classes, y). In place of y you can use a large enough sample of the full training set target to properly estimate the class frequency distributions. Pass the resulting weights as the class_weight parameter.\n",
            "  'class_weight presets \"balanced\" or '\n"
          ]
        },
        {
          "output_type": "stream",
          "name": "stdout",
          "text": [
            "[CV 1/5] END bootstrap=True, class_weight=balanced_subsample, criterion=entropy, max_depth=2, max_features=auto, warm_start=True;, score=0.605 total time=   0.4s\n"
          ]
        },
        {
          "output_type": "stream",
          "name": "stderr",
          "text": [
            "/usr/local/lib/python3.7/dist-packages/sklearn/ensemble/_forest.py:756: UserWarning: class_weight presets \"balanced\" or \"balanced_subsample\" are not recommended for warm_start if the fitted data differs from the full dataset. In order to use \"balanced\" weights, use compute_class_weight (\"balanced\", classes, y). In place of y you can use a large enough sample of the full training set target to properly estimate the class frequency distributions. Pass the resulting weights as the class_weight parameter.\n",
            "  'class_weight presets \"balanced\" or '\n"
          ]
        },
        {
          "output_type": "stream",
          "name": "stdout",
          "text": [
            "[CV 2/5] END bootstrap=True, class_weight=balanced_subsample, criterion=entropy, max_depth=2, max_features=auto, warm_start=True;, score=0.545 total time=   0.4s\n"
          ]
        },
        {
          "output_type": "stream",
          "name": "stderr",
          "text": [
            "/usr/local/lib/python3.7/dist-packages/sklearn/ensemble/_forest.py:756: UserWarning: class_weight presets \"balanced\" or \"balanced_subsample\" are not recommended for warm_start if the fitted data differs from the full dataset. In order to use \"balanced\" weights, use compute_class_weight (\"balanced\", classes, y). In place of y you can use a large enough sample of the full training set target to properly estimate the class frequency distributions. Pass the resulting weights as the class_weight parameter.\n",
            "  'class_weight presets \"balanced\" or '\n"
          ]
        },
        {
          "output_type": "stream",
          "name": "stdout",
          "text": [
            "[CV 3/5] END bootstrap=True, class_weight=balanced_subsample, criterion=entropy, max_depth=2, max_features=auto, warm_start=True;, score=0.515 total time=   0.4s\n"
          ]
        },
        {
          "output_type": "stream",
          "name": "stderr",
          "text": [
            "/usr/local/lib/python3.7/dist-packages/sklearn/ensemble/_forest.py:756: UserWarning: class_weight presets \"balanced\" or \"balanced_subsample\" are not recommended for warm_start if the fitted data differs from the full dataset. In order to use \"balanced\" weights, use compute_class_weight (\"balanced\", classes, y). In place of y you can use a large enough sample of the full training set target to properly estimate the class frequency distributions. Pass the resulting weights as the class_weight parameter.\n",
            "  'class_weight presets \"balanced\" or '\n"
          ]
        },
        {
          "output_type": "stream",
          "name": "stdout",
          "text": [
            "[CV 4/5] END bootstrap=True, class_weight=balanced_subsample, criterion=entropy, max_depth=2, max_features=auto, warm_start=True;, score=0.550 total time=   0.4s\n"
          ]
        },
        {
          "output_type": "stream",
          "name": "stderr",
          "text": [
            "/usr/local/lib/python3.7/dist-packages/sklearn/ensemble/_forest.py:756: UserWarning: class_weight presets \"balanced\" or \"balanced_subsample\" are not recommended for warm_start if the fitted data differs from the full dataset. In order to use \"balanced\" weights, use compute_class_weight (\"balanced\", classes, y). In place of y you can use a large enough sample of the full training set target to properly estimate the class frequency distributions. Pass the resulting weights as the class_weight parameter.\n",
            "  'class_weight presets \"balanced\" or '\n"
          ]
        },
        {
          "output_type": "stream",
          "name": "stdout",
          "text": [
            "[CV 5/5] END bootstrap=True, class_weight=balanced_subsample, criterion=entropy, max_depth=2, max_features=auto, warm_start=True;, score=0.490 total time=   0.4s\n",
            "[CV 1/5] END bootstrap=True, class_weight=balanced_subsample, criterion=entropy, max_depth=2, max_features=sqrt, warm_start=False;, score=0.585 total time=   0.4s\n",
            "[CV 2/5] END bootstrap=True, class_weight=balanced_subsample, criterion=entropy, max_depth=2, max_features=sqrt, warm_start=False;, score=0.560 total time=   0.4s\n",
            "[CV 3/5] END bootstrap=True, class_weight=balanced_subsample, criterion=entropy, max_depth=2, max_features=sqrt, warm_start=False;, score=0.525 total time=   0.4s\n",
            "[CV 4/5] END bootstrap=True, class_weight=balanced_subsample, criterion=entropy, max_depth=2, max_features=sqrt, warm_start=False;, score=0.510 total time=   0.4s\n",
            "[CV 5/5] END bootstrap=True, class_weight=balanced_subsample, criterion=entropy, max_depth=2, max_features=sqrt, warm_start=False;, score=0.495 total time=   0.4s\n"
          ]
        },
        {
          "output_type": "stream",
          "name": "stderr",
          "text": [
            "/usr/local/lib/python3.7/dist-packages/sklearn/ensemble/_forest.py:756: UserWarning: class_weight presets \"balanced\" or \"balanced_subsample\" are not recommended for warm_start if the fitted data differs from the full dataset. In order to use \"balanced\" weights, use compute_class_weight (\"balanced\", classes, y). In place of y you can use a large enough sample of the full training set target to properly estimate the class frequency distributions. Pass the resulting weights as the class_weight parameter.\n",
            "  'class_weight presets \"balanced\" or '\n"
          ]
        },
        {
          "output_type": "stream",
          "name": "stdout",
          "text": [
            "[CV 1/5] END bootstrap=True, class_weight=balanced_subsample, criterion=entropy, max_depth=2, max_features=sqrt, warm_start=True;, score=0.630 total time=   0.4s\n"
          ]
        },
        {
          "output_type": "stream",
          "name": "stderr",
          "text": [
            "/usr/local/lib/python3.7/dist-packages/sklearn/ensemble/_forest.py:756: UserWarning: class_weight presets \"balanced\" or \"balanced_subsample\" are not recommended for warm_start if the fitted data differs from the full dataset. In order to use \"balanced\" weights, use compute_class_weight (\"balanced\", classes, y). In place of y you can use a large enough sample of the full training set target to properly estimate the class frequency distributions. Pass the resulting weights as the class_weight parameter.\n",
            "  'class_weight presets \"balanced\" or '\n"
          ]
        },
        {
          "output_type": "stream",
          "name": "stdout",
          "text": [
            "[CV 2/5] END bootstrap=True, class_weight=balanced_subsample, criterion=entropy, max_depth=2, max_features=sqrt, warm_start=True;, score=0.585 total time=   0.4s\n"
          ]
        },
        {
          "output_type": "stream",
          "name": "stderr",
          "text": [
            "/usr/local/lib/python3.7/dist-packages/sklearn/ensemble/_forest.py:756: UserWarning: class_weight presets \"balanced\" or \"balanced_subsample\" are not recommended for warm_start if the fitted data differs from the full dataset. In order to use \"balanced\" weights, use compute_class_weight (\"balanced\", classes, y). In place of y you can use a large enough sample of the full training set target to properly estimate the class frequency distributions. Pass the resulting weights as the class_weight parameter.\n",
            "  'class_weight presets \"balanced\" or '\n"
          ]
        },
        {
          "output_type": "stream",
          "name": "stdout",
          "text": [
            "[CV 3/5] END bootstrap=True, class_weight=balanced_subsample, criterion=entropy, max_depth=2, max_features=sqrt, warm_start=True;, score=0.530 total time=   0.4s\n"
          ]
        },
        {
          "output_type": "stream",
          "name": "stderr",
          "text": [
            "/usr/local/lib/python3.7/dist-packages/sklearn/ensemble/_forest.py:756: UserWarning: class_weight presets \"balanced\" or \"balanced_subsample\" are not recommended for warm_start if the fitted data differs from the full dataset. In order to use \"balanced\" weights, use compute_class_weight (\"balanced\", classes, y). In place of y you can use a large enough sample of the full training set target to properly estimate the class frequency distributions. Pass the resulting weights as the class_weight parameter.\n",
            "  'class_weight presets \"balanced\" or '\n"
          ]
        },
        {
          "output_type": "stream",
          "name": "stdout",
          "text": [
            "[CV 4/5] END bootstrap=True, class_weight=balanced_subsample, criterion=entropy, max_depth=2, max_features=sqrt, warm_start=True;, score=0.510 total time=   0.4s\n"
          ]
        },
        {
          "output_type": "stream",
          "name": "stderr",
          "text": [
            "/usr/local/lib/python3.7/dist-packages/sklearn/ensemble/_forest.py:756: UserWarning: class_weight presets \"balanced\" or \"balanced_subsample\" are not recommended for warm_start if the fitted data differs from the full dataset. In order to use \"balanced\" weights, use compute_class_weight (\"balanced\", classes, y). In place of y you can use a large enough sample of the full training set target to properly estimate the class frequency distributions. Pass the resulting weights as the class_weight parameter.\n",
            "  'class_weight presets \"balanced\" or '\n"
          ]
        },
        {
          "output_type": "stream",
          "name": "stdout",
          "text": [
            "[CV 5/5] END bootstrap=True, class_weight=balanced_subsample, criterion=entropy, max_depth=2, max_features=sqrt, warm_start=True;, score=0.520 total time=   0.4s\n",
            "[CV 1/5] END bootstrap=True, class_weight=balanced_subsample, criterion=entropy, max_depth=2, max_features=log2, warm_start=False;, score=0.540 total time=   0.4s\n",
            "[CV 2/5] END bootstrap=True, class_weight=balanced_subsample, criterion=entropy, max_depth=2, max_features=log2, warm_start=False;, score=0.515 total time=   0.4s\n",
            "[CV 3/5] END bootstrap=True, class_weight=balanced_subsample, criterion=entropy, max_depth=2, max_features=log2, warm_start=False;, score=0.530 total time=   0.4s\n",
            "[CV 4/5] END bootstrap=True, class_weight=balanced_subsample, criterion=entropy, max_depth=2, max_features=log2, warm_start=False;, score=0.520 total time=   0.4s\n",
            "[CV 5/5] END bootstrap=True, class_weight=balanced_subsample, criterion=entropy, max_depth=2, max_features=log2, warm_start=False;, score=0.580 total time=   0.4s\n"
          ]
        },
        {
          "output_type": "stream",
          "name": "stderr",
          "text": [
            "/usr/local/lib/python3.7/dist-packages/sklearn/ensemble/_forest.py:756: UserWarning: class_weight presets \"balanced\" or \"balanced_subsample\" are not recommended for warm_start if the fitted data differs from the full dataset. In order to use \"balanced\" weights, use compute_class_weight (\"balanced\", classes, y). In place of y you can use a large enough sample of the full training set target to properly estimate the class frequency distributions. Pass the resulting weights as the class_weight parameter.\n",
            "  'class_weight presets \"balanced\" or '\n"
          ]
        },
        {
          "output_type": "stream",
          "name": "stdout",
          "text": [
            "[CV 1/5] END bootstrap=True, class_weight=balanced_subsample, criterion=entropy, max_depth=2, max_features=log2, warm_start=True;, score=0.540 total time=   0.4s\n"
          ]
        },
        {
          "output_type": "stream",
          "name": "stderr",
          "text": [
            "/usr/local/lib/python3.7/dist-packages/sklearn/ensemble/_forest.py:756: UserWarning: class_weight presets \"balanced\" or \"balanced_subsample\" are not recommended for warm_start if the fitted data differs from the full dataset. In order to use \"balanced\" weights, use compute_class_weight (\"balanced\", classes, y). In place of y you can use a large enough sample of the full training set target to properly estimate the class frequency distributions. Pass the resulting weights as the class_weight parameter.\n",
            "  'class_weight presets \"balanced\" or '\n"
          ]
        },
        {
          "output_type": "stream",
          "name": "stdout",
          "text": [
            "[CV 2/5] END bootstrap=True, class_weight=balanced_subsample, criterion=entropy, max_depth=2, max_features=log2, warm_start=True;, score=0.540 total time=   0.4s\n"
          ]
        },
        {
          "output_type": "stream",
          "name": "stderr",
          "text": [
            "/usr/local/lib/python3.7/dist-packages/sklearn/ensemble/_forest.py:756: UserWarning: class_weight presets \"balanced\" or \"balanced_subsample\" are not recommended for warm_start if the fitted data differs from the full dataset. In order to use \"balanced\" weights, use compute_class_weight (\"balanced\", classes, y). In place of y you can use a large enough sample of the full training set target to properly estimate the class frequency distributions. Pass the resulting weights as the class_weight parameter.\n",
            "  'class_weight presets \"balanced\" or '\n"
          ]
        },
        {
          "output_type": "stream",
          "name": "stdout",
          "text": [
            "[CV 3/5] END bootstrap=True, class_weight=balanced_subsample, criterion=entropy, max_depth=2, max_features=log2, warm_start=True;, score=0.515 total time=   0.4s\n"
          ]
        },
        {
          "output_type": "stream",
          "name": "stderr",
          "text": [
            "/usr/local/lib/python3.7/dist-packages/sklearn/ensemble/_forest.py:756: UserWarning: class_weight presets \"balanced\" or \"balanced_subsample\" are not recommended for warm_start if the fitted data differs from the full dataset. In order to use \"balanced\" weights, use compute_class_weight (\"balanced\", classes, y). In place of y you can use a large enough sample of the full training set target to properly estimate the class frequency distributions. Pass the resulting weights as the class_weight parameter.\n",
            "  'class_weight presets \"balanced\" or '\n"
          ]
        },
        {
          "output_type": "stream",
          "name": "stdout",
          "text": [
            "[CV 4/5] END bootstrap=True, class_weight=balanced_subsample, criterion=entropy, max_depth=2, max_features=log2, warm_start=True;, score=0.500 total time=   0.4s\n"
          ]
        },
        {
          "output_type": "stream",
          "name": "stderr",
          "text": [
            "/usr/local/lib/python3.7/dist-packages/sklearn/ensemble/_forest.py:756: UserWarning: class_weight presets \"balanced\" or \"balanced_subsample\" are not recommended for warm_start if the fitted data differs from the full dataset. In order to use \"balanced\" weights, use compute_class_weight (\"balanced\", classes, y). In place of y you can use a large enough sample of the full training set target to properly estimate the class frequency distributions. Pass the resulting weights as the class_weight parameter.\n",
            "  'class_weight presets \"balanced\" or '\n"
          ]
        },
        {
          "output_type": "stream",
          "name": "stdout",
          "text": [
            "[CV 5/5] END bootstrap=True, class_weight=balanced_subsample, criterion=entropy, max_depth=2, max_features=log2, warm_start=True;, score=0.520 total time=   0.4s\n",
            "[CV 1/5] END bootstrap=True, class_weight=balanced_subsample, criterion=entropy, max_depth=3, max_features=auto, warm_start=False;, score=0.670 total time=   0.5s\n",
            "[CV 2/5] END bootstrap=True, class_weight=balanced_subsample, criterion=entropy, max_depth=3, max_features=auto, warm_start=False;, score=0.585 total time=   0.5s\n",
            "[CV 3/5] END bootstrap=True, class_weight=balanced_subsample, criterion=entropy, max_depth=3, max_features=auto, warm_start=False;, score=0.545 total time=   0.5s\n",
            "[CV 4/5] END bootstrap=True, class_weight=balanced_subsample, criterion=entropy, max_depth=3, max_features=auto, warm_start=False;, score=0.585 total time=   0.5s\n",
            "[CV 5/5] END bootstrap=True, class_weight=balanced_subsample, criterion=entropy, max_depth=3, max_features=auto, warm_start=False;, score=0.570 total time=   0.5s\n"
          ]
        },
        {
          "output_type": "stream",
          "name": "stderr",
          "text": [
            "/usr/local/lib/python3.7/dist-packages/sklearn/ensemble/_forest.py:756: UserWarning: class_weight presets \"balanced\" or \"balanced_subsample\" are not recommended for warm_start if the fitted data differs from the full dataset. In order to use \"balanced\" weights, use compute_class_weight (\"balanced\", classes, y). In place of y you can use a large enough sample of the full training set target to properly estimate the class frequency distributions. Pass the resulting weights as the class_weight parameter.\n",
            "  'class_weight presets \"balanced\" or '\n"
          ]
        },
        {
          "output_type": "stream",
          "name": "stdout",
          "text": [
            "[CV 1/5] END bootstrap=True, class_weight=balanced_subsample, criterion=entropy, max_depth=3, max_features=auto, warm_start=True;, score=0.635 total time=   0.5s\n"
          ]
        },
        {
          "output_type": "stream",
          "name": "stderr",
          "text": [
            "/usr/local/lib/python3.7/dist-packages/sklearn/ensemble/_forest.py:756: UserWarning: class_weight presets \"balanced\" or \"balanced_subsample\" are not recommended for warm_start if the fitted data differs from the full dataset. In order to use \"balanced\" weights, use compute_class_weight (\"balanced\", classes, y). In place of y you can use a large enough sample of the full training set target to properly estimate the class frequency distributions. Pass the resulting weights as the class_weight parameter.\n",
            "  'class_weight presets \"balanced\" or '\n"
          ]
        },
        {
          "output_type": "stream",
          "name": "stdout",
          "text": [
            "[CV 2/5] END bootstrap=True, class_weight=balanced_subsample, criterion=entropy, max_depth=3, max_features=auto, warm_start=True;, score=0.590 total time=   0.5s\n"
          ]
        },
        {
          "output_type": "stream",
          "name": "stderr",
          "text": [
            "/usr/local/lib/python3.7/dist-packages/sklearn/ensemble/_forest.py:756: UserWarning: class_weight presets \"balanced\" or \"balanced_subsample\" are not recommended for warm_start if the fitted data differs from the full dataset. In order to use \"balanced\" weights, use compute_class_weight (\"balanced\", classes, y). In place of y you can use a large enough sample of the full training set target to properly estimate the class frequency distributions. Pass the resulting weights as the class_weight parameter.\n",
            "  'class_weight presets \"balanced\" or '\n"
          ]
        },
        {
          "output_type": "stream",
          "name": "stdout",
          "text": [
            "[CV 3/5] END bootstrap=True, class_weight=balanced_subsample, criterion=entropy, max_depth=3, max_features=auto, warm_start=True;, score=0.535 total time=   0.5s\n"
          ]
        },
        {
          "output_type": "stream",
          "name": "stderr",
          "text": [
            "/usr/local/lib/python3.7/dist-packages/sklearn/ensemble/_forest.py:756: UserWarning: class_weight presets \"balanced\" or \"balanced_subsample\" are not recommended for warm_start if the fitted data differs from the full dataset. In order to use \"balanced\" weights, use compute_class_weight (\"balanced\", classes, y). In place of y you can use a large enough sample of the full training set target to properly estimate the class frequency distributions. Pass the resulting weights as the class_weight parameter.\n",
            "  'class_weight presets \"balanced\" or '\n"
          ]
        },
        {
          "output_type": "stream",
          "name": "stdout",
          "text": [
            "[CV 4/5] END bootstrap=True, class_weight=balanced_subsample, criterion=entropy, max_depth=3, max_features=auto, warm_start=True;, score=0.580 total time=   0.5s\n"
          ]
        },
        {
          "output_type": "stream",
          "name": "stderr",
          "text": [
            "/usr/local/lib/python3.7/dist-packages/sklearn/ensemble/_forest.py:756: UserWarning: class_weight presets \"balanced\" or \"balanced_subsample\" are not recommended for warm_start if the fitted data differs from the full dataset. In order to use \"balanced\" weights, use compute_class_weight (\"balanced\", classes, y). In place of y you can use a large enough sample of the full training set target to properly estimate the class frequency distributions. Pass the resulting weights as the class_weight parameter.\n",
            "  'class_weight presets \"balanced\" or '\n"
          ]
        },
        {
          "output_type": "stream",
          "name": "stdout",
          "text": [
            "[CV 5/5] END bootstrap=True, class_weight=balanced_subsample, criterion=entropy, max_depth=3, max_features=auto, warm_start=True;, score=0.605 total time=   0.5s\n",
            "[CV 1/5] END bootstrap=True, class_weight=balanced_subsample, criterion=entropy, max_depth=3, max_features=sqrt, warm_start=False;, score=0.660 total time=   0.5s\n",
            "[CV 2/5] END bootstrap=True, class_weight=balanced_subsample, criterion=entropy, max_depth=3, max_features=sqrt, warm_start=False;, score=0.620 total time=   0.5s\n",
            "[CV 3/5] END bootstrap=True, class_weight=balanced_subsample, criterion=entropy, max_depth=3, max_features=sqrt, warm_start=False;, score=0.555 total time=   0.5s\n",
            "[CV 4/5] END bootstrap=True, class_weight=balanced_subsample, criterion=entropy, max_depth=3, max_features=sqrt, warm_start=False;, score=0.545 total time=   0.5s\n",
            "[CV 5/5] END bootstrap=True, class_weight=balanced_subsample, criterion=entropy, max_depth=3, max_features=sqrt, warm_start=False;, score=0.605 total time=   0.5s\n"
          ]
        },
        {
          "output_type": "stream",
          "name": "stderr",
          "text": [
            "/usr/local/lib/python3.7/dist-packages/sklearn/ensemble/_forest.py:756: UserWarning: class_weight presets \"balanced\" or \"balanced_subsample\" are not recommended for warm_start if the fitted data differs from the full dataset. In order to use \"balanced\" weights, use compute_class_weight (\"balanced\", classes, y). In place of y you can use a large enough sample of the full training set target to properly estimate the class frequency distributions. Pass the resulting weights as the class_weight parameter.\n",
            "  'class_weight presets \"balanced\" or '\n"
          ]
        },
        {
          "output_type": "stream",
          "name": "stdout",
          "text": [
            "[CV 1/5] END bootstrap=True, class_weight=balanced_subsample, criterion=entropy, max_depth=3, max_features=sqrt, warm_start=True;, score=0.665 total time=   0.5s\n"
          ]
        },
        {
          "output_type": "stream",
          "name": "stderr",
          "text": [
            "/usr/local/lib/python3.7/dist-packages/sklearn/ensemble/_forest.py:756: UserWarning: class_weight presets \"balanced\" or \"balanced_subsample\" are not recommended for warm_start if the fitted data differs from the full dataset. In order to use \"balanced\" weights, use compute_class_weight (\"balanced\", classes, y). In place of y you can use a large enough sample of the full training set target to properly estimate the class frequency distributions. Pass the resulting weights as the class_weight parameter.\n",
            "  'class_weight presets \"balanced\" or '\n"
          ]
        },
        {
          "output_type": "stream",
          "name": "stdout",
          "text": [
            "[CV 2/5] END bootstrap=True, class_weight=balanced_subsample, criterion=entropy, max_depth=3, max_features=sqrt, warm_start=True;, score=0.630 total time=   0.5s\n"
          ]
        },
        {
          "output_type": "stream",
          "name": "stderr",
          "text": [
            "/usr/local/lib/python3.7/dist-packages/sklearn/ensemble/_forest.py:756: UserWarning: class_weight presets \"balanced\" or \"balanced_subsample\" are not recommended for warm_start if the fitted data differs from the full dataset. In order to use \"balanced\" weights, use compute_class_weight (\"balanced\", classes, y). In place of y you can use a large enough sample of the full training set target to properly estimate the class frequency distributions. Pass the resulting weights as the class_weight parameter.\n",
            "  'class_weight presets \"balanced\" or '\n"
          ]
        },
        {
          "output_type": "stream",
          "name": "stdout",
          "text": [
            "[CV 3/5] END bootstrap=True, class_weight=balanced_subsample, criterion=entropy, max_depth=3, max_features=sqrt, warm_start=True;, score=0.505 total time=   0.5s\n"
          ]
        },
        {
          "output_type": "stream",
          "name": "stderr",
          "text": [
            "/usr/local/lib/python3.7/dist-packages/sklearn/ensemble/_forest.py:756: UserWarning: class_weight presets \"balanced\" or \"balanced_subsample\" are not recommended for warm_start if the fitted data differs from the full dataset. In order to use \"balanced\" weights, use compute_class_weight (\"balanced\", classes, y). In place of y you can use a large enough sample of the full training set target to properly estimate the class frequency distributions. Pass the resulting weights as the class_weight parameter.\n",
            "  'class_weight presets \"balanced\" or '\n"
          ]
        },
        {
          "output_type": "stream",
          "name": "stdout",
          "text": [
            "[CV 4/5] END bootstrap=True, class_weight=balanced_subsample, criterion=entropy, max_depth=3, max_features=sqrt, warm_start=True;, score=0.540 total time=   0.5s\n"
          ]
        },
        {
          "output_type": "stream",
          "name": "stderr",
          "text": [
            "/usr/local/lib/python3.7/dist-packages/sklearn/ensemble/_forest.py:756: UserWarning: class_weight presets \"balanced\" or \"balanced_subsample\" are not recommended for warm_start if the fitted data differs from the full dataset. In order to use \"balanced\" weights, use compute_class_weight (\"balanced\", classes, y). In place of y you can use a large enough sample of the full training set target to properly estimate the class frequency distributions. Pass the resulting weights as the class_weight parameter.\n",
            "  'class_weight presets \"balanced\" or '\n"
          ]
        },
        {
          "output_type": "stream",
          "name": "stdout",
          "text": [
            "[CV 5/5] END bootstrap=True, class_weight=balanced_subsample, criterion=entropy, max_depth=3, max_features=sqrt, warm_start=True;, score=0.625 total time=   0.5s\n",
            "[CV 1/5] END bootstrap=True, class_weight=balanced_subsample, criterion=entropy, max_depth=3, max_features=log2, warm_start=False;, score=0.650 total time=   0.5s\n",
            "[CV 2/5] END bootstrap=True, class_weight=balanced_subsample, criterion=entropy, max_depth=3, max_features=log2, warm_start=False;, score=0.620 total time=   0.5s\n",
            "[CV 3/5] END bootstrap=True, class_weight=balanced_subsample, criterion=entropy, max_depth=3, max_features=log2, warm_start=False;, score=0.540 total time=   0.5s\n",
            "[CV 4/5] END bootstrap=True, class_weight=balanced_subsample, criterion=entropy, max_depth=3, max_features=log2, warm_start=False;, score=0.550 total time=   0.5s\n",
            "[CV 5/5] END bootstrap=True, class_weight=balanced_subsample, criterion=entropy, max_depth=3, max_features=log2, warm_start=False;, score=0.590 total time=   0.5s\n"
          ]
        },
        {
          "output_type": "stream",
          "name": "stderr",
          "text": [
            "/usr/local/lib/python3.7/dist-packages/sklearn/ensemble/_forest.py:756: UserWarning: class_weight presets \"balanced\" or \"balanced_subsample\" are not recommended for warm_start if the fitted data differs from the full dataset. In order to use \"balanced\" weights, use compute_class_weight (\"balanced\", classes, y). In place of y you can use a large enough sample of the full training set target to properly estimate the class frequency distributions. Pass the resulting weights as the class_weight parameter.\n",
            "  'class_weight presets \"balanced\" or '\n"
          ]
        },
        {
          "output_type": "stream",
          "name": "stdout",
          "text": [
            "[CV 1/5] END bootstrap=True, class_weight=balanced_subsample, criterion=entropy, max_depth=3, max_features=log2, warm_start=True;, score=0.630 total time=   0.5s\n"
          ]
        },
        {
          "output_type": "stream",
          "name": "stderr",
          "text": [
            "/usr/local/lib/python3.7/dist-packages/sklearn/ensemble/_forest.py:756: UserWarning: class_weight presets \"balanced\" or \"balanced_subsample\" are not recommended for warm_start if the fitted data differs from the full dataset. In order to use \"balanced\" weights, use compute_class_weight (\"balanced\", classes, y). In place of y you can use a large enough sample of the full training set target to properly estimate the class frequency distributions. Pass the resulting weights as the class_weight parameter.\n",
            "  'class_weight presets \"balanced\" or '\n"
          ]
        },
        {
          "output_type": "stream",
          "name": "stdout",
          "text": [
            "[CV 2/5] END bootstrap=True, class_weight=balanced_subsample, criterion=entropy, max_depth=3, max_features=log2, warm_start=True;, score=0.615 total time=   0.5s\n"
          ]
        },
        {
          "output_type": "stream",
          "name": "stderr",
          "text": [
            "/usr/local/lib/python3.7/dist-packages/sklearn/ensemble/_forest.py:756: UserWarning: class_weight presets \"balanced\" or \"balanced_subsample\" are not recommended for warm_start if the fitted data differs from the full dataset. In order to use \"balanced\" weights, use compute_class_weight (\"balanced\", classes, y). In place of y you can use a large enough sample of the full training set target to properly estimate the class frequency distributions. Pass the resulting weights as the class_weight parameter.\n",
            "  'class_weight presets \"balanced\" or '\n"
          ]
        },
        {
          "output_type": "stream",
          "name": "stdout",
          "text": [
            "[CV 3/5] END bootstrap=True, class_weight=balanced_subsample, criterion=entropy, max_depth=3, max_features=log2, warm_start=True;, score=0.550 total time=   0.5s\n"
          ]
        },
        {
          "output_type": "stream",
          "name": "stderr",
          "text": [
            "/usr/local/lib/python3.7/dist-packages/sklearn/ensemble/_forest.py:756: UserWarning: class_weight presets \"balanced\" or \"balanced_subsample\" are not recommended for warm_start if the fitted data differs from the full dataset. In order to use \"balanced\" weights, use compute_class_weight (\"balanced\", classes, y). In place of y you can use a large enough sample of the full training set target to properly estimate the class frequency distributions. Pass the resulting weights as the class_weight parameter.\n",
            "  'class_weight presets \"balanced\" or '\n"
          ]
        },
        {
          "output_type": "stream",
          "name": "stdout",
          "text": [
            "[CV 4/5] END bootstrap=True, class_weight=balanced_subsample, criterion=entropy, max_depth=3, max_features=log2, warm_start=True;, score=0.575 total time=   0.5s\n"
          ]
        },
        {
          "output_type": "stream",
          "name": "stderr",
          "text": [
            "/usr/local/lib/python3.7/dist-packages/sklearn/ensemble/_forest.py:756: UserWarning: class_weight presets \"balanced\" or \"balanced_subsample\" are not recommended for warm_start if the fitted data differs from the full dataset. In order to use \"balanced\" weights, use compute_class_weight (\"balanced\", classes, y). In place of y you can use a large enough sample of the full training set target to properly estimate the class frequency distributions. Pass the resulting weights as the class_weight parameter.\n",
            "  'class_weight presets \"balanced\" or '\n"
          ]
        },
        {
          "output_type": "stream",
          "name": "stdout",
          "text": [
            "[CV 5/5] END bootstrap=True, class_weight=balanced_subsample, criterion=entropy, max_depth=3, max_features=log2, warm_start=True;, score=0.595 total time=   0.5s\n",
            "[CV 1/5] END bootstrap=True, class_weight=balanced_subsample, criterion=entropy, max_depth=5, max_features=auto, warm_start=False;, score=0.690 total time=   0.6s\n",
            "[CV 2/5] END bootstrap=True, class_weight=balanced_subsample, criterion=entropy, max_depth=5, max_features=auto, warm_start=False;, score=0.680 total time=   0.6s\n",
            "[CV 3/5] END bootstrap=True, class_weight=balanced_subsample, criterion=entropy, max_depth=5, max_features=auto, warm_start=False;, score=0.600 total time=   0.6s\n",
            "[CV 4/5] END bootstrap=True, class_weight=balanced_subsample, criterion=entropy, max_depth=5, max_features=auto, warm_start=False;, score=0.655 total time=   0.6s\n",
            "[CV 5/5] END bootstrap=True, class_weight=balanced_subsample, criterion=entropy, max_depth=5, max_features=auto, warm_start=False;, score=0.655 total time=   0.6s\n"
          ]
        },
        {
          "output_type": "stream",
          "name": "stderr",
          "text": [
            "/usr/local/lib/python3.7/dist-packages/sklearn/ensemble/_forest.py:756: UserWarning: class_weight presets \"balanced\" or \"balanced_subsample\" are not recommended for warm_start if the fitted data differs from the full dataset. In order to use \"balanced\" weights, use compute_class_weight (\"balanced\", classes, y). In place of y you can use a large enough sample of the full training set target to properly estimate the class frequency distributions. Pass the resulting weights as the class_weight parameter.\n",
            "  'class_weight presets \"balanced\" or '\n"
          ]
        },
        {
          "output_type": "stream",
          "name": "stdout",
          "text": [
            "[CV 1/5] END bootstrap=True, class_weight=balanced_subsample, criterion=entropy, max_depth=5, max_features=auto, warm_start=True;, score=0.705 total time=   0.7s\n"
          ]
        },
        {
          "output_type": "stream",
          "name": "stderr",
          "text": [
            "/usr/local/lib/python3.7/dist-packages/sklearn/ensemble/_forest.py:756: UserWarning: class_weight presets \"balanced\" or \"balanced_subsample\" are not recommended for warm_start if the fitted data differs from the full dataset. In order to use \"balanced\" weights, use compute_class_weight (\"balanced\", classes, y). In place of y you can use a large enough sample of the full training set target to properly estimate the class frequency distributions. Pass the resulting weights as the class_weight parameter.\n",
            "  'class_weight presets \"balanced\" or '\n"
          ]
        },
        {
          "output_type": "stream",
          "name": "stdout",
          "text": [
            "[CV 2/5] END bootstrap=True, class_weight=balanced_subsample, criterion=entropy, max_depth=5, max_features=auto, warm_start=True;, score=0.680 total time=   0.6s\n"
          ]
        },
        {
          "output_type": "stream",
          "name": "stderr",
          "text": [
            "/usr/local/lib/python3.7/dist-packages/sklearn/ensemble/_forest.py:756: UserWarning: class_weight presets \"balanced\" or \"balanced_subsample\" are not recommended for warm_start if the fitted data differs from the full dataset. In order to use \"balanced\" weights, use compute_class_weight (\"balanced\", classes, y). In place of y you can use a large enough sample of the full training set target to properly estimate the class frequency distributions. Pass the resulting weights as the class_weight parameter.\n",
            "  'class_weight presets \"balanced\" or '\n"
          ]
        },
        {
          "output_type": "stream",
          "name": "stdout",
          "text": [
            "[CV 3/5] END bootstrap=True, class_weight=balanced_subsample, criterion=entropy, max_depth=5, max_features=auto, warm_start=True;, score=0.590 total time=   0.6s\n"
          ]
        },
        {
          "output_type": "stream",
          "name": "stderr",
          "text": [
            "/usr/local/lib/python3.7/dist-packages/sklearn/ensemble/_forest.py:756: UserWarning: class_weight presets \"balanced\" or \"balanced_subsample\" are not recommended for warm_start if the fitted data differs from the full dataset. In order to use \"balanced\" weights, use compute_class_weight (\"balanced\", classes, y). In place of y you can use a large enough sample of the full training set target to properly estimate the class frequency distributions. Pass the resulting weights as the class_weight parameter.\n",
            "  'class_weight presets \"balanced\" or '\n"
          ]
        },
        {
          "output_type": "stream",
          "name": "stdout",
          "text": [
            "[CV 4/5] END bootstrap=True, class_weight=balanced_subsample, criterion=entropy, max_depth=5, max_features=auto, warm_start=True;, score=0.630 total time=   0.6s\n"
          ]
        },
        {
          "output_type": "stream",
          "name": "stderr",
          "text": [
            "/usr/local/lib/python3.7/dist-packages/sklearn/ensemble/_forest.py:756: UserWarning: class_weight presets \"balanced\" or \"balanced_subsample\" are not recommended for warm_start if the fitted data differs from the full dataset. In order to use \"balanced\" weights, use compute_class_weight (\"balanced\", classes, y). In place of y you can use a large enough sample of the full training set target to properly estimate the class frequency distributions. Pass the resulting weights as the class_weight parameter.\n",
            "  'class_weight presets \"balanced\" or '\n"
          ]
        },
        {
          "output_type": "stream",
          "name": "stdout",
          "text": [
            "[CV 5/5] END bootstrap=True, class_weight=balanced_subsample, criterion=entropy, max_depth=5, max_features=auto, warm_start=True;, score=0.605 total time=   0.6s\n",
            "[CV 1/5] END bootstrap=True, class_weight=balanced_subsample, criterion=entropy, max_depth=5, max_features=sqrt, warm_start=False;, score=0.735 total time=   0.6s\n",
            "[CV 2/5] END bootstrap=True, class_weight=balanced_subsample, criterion=entropy, max_depth=5, max_features=sqrt, warm_start=False;, score=0.655 total time=   0.6s\n",
            "[CV 3/5] END bootstrap=True, class_weight=balanced_subsample, criterion=entropy, max_depth=5, max_features=sqrt, warm_start=False;, score=0.610 total time=   0.6s\n",
            "[CV 4/5] END bootstrap=True, class_weight=balanced_subsample, criterion=entropy, max_depth=5, max_features=sqrt, warm_start=False;, score=0.635 total time=   0.6s\n",
            "[CV 5/5] END bootstrap=True, class_weight=balanced_subsample, criterion=entropy, max_depth=5, max_features=sqrt, warm_start=False;, score=0.615 total time=   0.6s\n"
          ]
        },
        {
          "output_type": "stream",
          "name": "stderr",
          "text": [
            "/usr/local/lib/python3.7/dist-packages/sklearn/ensemble/_forest.py:756: UserWarning: class_weight presets \"balanced\" or \"balanced_subsample\" are not recommended for warm_start if the fitted data differs from the full dataset. In order to use \"balanced\" weights, use compute_class_weight (\"balanced\", classes, y). In place of y you can use a large enough sample of the full training set target to properly estimate the class frequency distributions. Pass the resulting weights as the class_weight parameter.\n",
            "  'class_weight presets \"balanced\" or '\n"
          ]
        },
        {
          "output_type": "stream",
          "name": "stdout",
          "text": [
            "[CV 1/5] END bootstrap=True, class_weight=balanced_subsample, criterion=entropy, max_depth=5, max_features=sqrt, warm_start=True;, score=0.685 total time=   0.7s\n"
          ]
        },
        {
          "output_type": "stream",
          "name": "stderr",
          "text": [
            "/usr/local/lib/python3.7/dist-packages/sklearn/ensemble/_forest.py:756: UserWarning: class_weight presets \"balanced\" or \"balanced_subsample\" are not recommended for warm_start if the fitted data differs from the full dataset. In order to use \"balanced\" weights, use compute_class_weight (\"balanced\", classes, y). In place of y you can use a large enough sample of the full training set target to properly estimate the class frequency distributions. Pass the resulting weights as the class_weight parameter.\n",
            "  'class_weight presets \"balanced\" or '\n"
          ]
        },
        {
          "output_type": "stream",
          "name": "stdout",
          "text": [
            "[CV 2/5] END bootstrap=True, class_weight=balanced_subsample, criterion=entropy, max_depth=5, max_features=sqrt, warm_start=True;, score=0.635 total time=   0.7s\n"
          ]
        },
        {
          "output_type": "stream",
          "name": "stderr",
          "text": [
            "/usr/local/lib/python3.7/dist-packages/sklearn/ensemble/_forest.py:756: UserWarning: class_weight presets \"balanced\" or \"balanced_subsample\" are not recommended for warm_start if the fitted data differs from the full dataset. In order to use \"balanced\" weights, use compute_class_weight (\"balanced\", classes, y). In place of y you can use a large enough sample of the full training set target to properly estimate the class frequency distributions. Pass the resulting weights as the class_weight parameter.\n",
            "  'class_weight presets \"balanced\" or '\n"
          ]
        },
        {
          "output_type": "stream",
          "name": "stdout",
          "text": [
            "[CV 3/5] END bootstrap=True, class_weight=balanced_subsample, criterion=entropy, max_depth=5, max_features=sqrt, warm_start=True;, score=0.585 total time=   0.7s\n"
          ]
        },
        {
          "output_type": "stream",
          "name": "stderr",
          "text": [
            "/usr/local/lib/python3.7/dist-packages/sklearn/ensemble/_forest.py:756: UserWarning: class_weight presets \"balanced\" or \"balanced_subsample\" are not recommended for warm_start if the fitted data differs from the full dataset. In order to use \"balanced\" weights, use compute_class_weight (\"balanced\", classes, y). In place of y you can use a large enough sample of the full training set target to properly estimate the class frequency distributions. Pass the resulting weights as the class_weight parameter.\n",
            "  'class_weight presets \"balanced\" or '\n"
          ]
        },
        {
          "output_type": "stream",
          "name": "stdout",
          "text": [
            "[CV 4/5] END bootstrap=True, class_weight=balanced_subsample, criterion=entropy, max_depth=5, max_features=sqrt, warm_start=True;, score=0.595 total time=   0.7s\n"
          ]
        },
        {
          "output_type": "stream",
          "name": "stderr",
          "text": [
            "/usr/local/lib/python3.7/dist-packages/sklearn/ensemble/_forest.py:756: UserWarning: class_weight presets \"balanced\" or \"balanced_subsample\" are not recommended for warm_start if the fitted data differs from the full dataset. In order to use \"balanced\" weights, use compute_class_weight (\"balanced\", classes, y). In place of y you can use a large enough sample of the full training set target to properly estimate the class frequency distributions. Pass the resulting weights as the class_weight parameter.\n",
            "  'class_weight presets \"balanced\" or '\n"
          ]
        },
        {
          "output_type": "stream",
          "name": "stdout",
          "text": [
            "[CV 5/5] END bootstrap=True, class_weight=balanced_subsample, criterion=entropy, max_depth=5, max_features=sqrt, warm_start=True;, score=0.630 total time=   0.7s\n",
            "[CV 1/5] END bootstrap=True, class_weight=balanced_subsample, criterion=entropy, max_depth=5, max_features=log2, warm_start=False;, score=0.700 total time=   0.7s\n",
            "[CV 2/5] END bootstrap=True, class_weight=balanced_subsample, criterion=entropy, max_depth=5, max_features=log2, warm_start=False;, score=0.660 total time=   0.7s\n",
            "[CV 3/5] END bootstrap=True, class_weight=balanced_subsample, criterion=entropy, max_depth=5, max_features=log2, warm_start=False;, score=0.590 total time=   0.7s\n",
            "[CV 4/5] END bootstrap=True, class_weight=balanced_subsample, criterion=entropy, max_depth=5, max_features=log2, warm_start=False;, score=0.620 total time=   0.7s\n",
            "[CV 5/5] END bootstrap=True, class_weight=balanced_subsample, criterion=entropy, max_depth=5, max_features=log2, warm_start=False;, score=0.650 total time=   0.7s\n"
          ]
        },
        {
          "output_type": "stream",
          "name": "stderr",
          "text": [
            "/usr/local/lib/python3.7/dist-packages/sklearn/ensemble/_forest.py:756: UserWarning: class_weight presets \"balanced\" or \"balanced_subsample\" are not recommended for warm_start if the fitted data differs from the full dataset. In order to use \"balanced\" weights, use compute_class_weight (\"balanced\", classes, y). In place of y you can use a large enough sample of the full training set target to properly estimate the class frequency distributions. Pass the resulting weights as the class_weight parameter.\n",
            "  'class_weight presets \"balanced\" or '\n"
          ]
        },
        {
          "output_type": "stream",
          "name": "stdout",
          "text": [
            "[CV 1/5] END bootstrap=True, class_weight=balanced_subsample, criterion=entropy, max_depth=5, max_features=log2, warm_start=True;, score=0.675 total time=   0.8s\n"
          ]
        },
        {
          "output_type": "stream",
          "name": "stderr",
          "text": [
            "/usr/local/lib/python3.7/dist-packages/sklearn/ensemble/_forest.py:756: UserWarning: class_weight presets \"balanced\" or \"balanced_subsample\" are not recommended for warm_start if the fitted data differs from the full dataset. In order to use \"balanced\" weights, use compute_class_weight (\"balanced\", classes, y). In place of y you can use a large enough sample of the full training set target to properly estimate the class frequency distributions. Pass the resulting weights as the class_weight parameter.\n",
            "  'class_weight presets \"balanced\" or '\n"
          ]
        },
        {
          "output_type": "stream",
          "name": "stdout",
          "text": [
            "[CV 2/5] END bootstrap=True, class_weight=balanced_subsample, criterion=entropy, max_depth=5, max_features=log2, warm_start=True;, score=0.640 total time=   0.9s\n"
          ]
        },
        {
          "output_type": "stream",
          "name": "stderr",
          "text": [
            "/usr/local/lib/python3.7/dist-packages/sklearn/ensemble/_forest.py:756: UserWarning: class_weight presets \"balanced\" or \"balanced_subsample\" are not recommended for warm_start if the fitted data differs from the full dataset. In order to use \"balanced\" weights, use compute_class_weight (\"balanced\", classes, y). In place of y you can use a large enough sample of the full training set target to properly estimate the class frequency distributions. Pass the resulting weights as the class_weight parameter.\n",
            "  'class_weight presets \"balanced\" or '\n"
          ]
        },
        {
          "output_type": "stream",
          "name": "stdout",
          "text": [
            "[CV 3/5] END bootstrap=True, class_weight=balanced_subsample, criterion=entropy, max_depth=5, max_features=log2, warm_start=True;, score=0.600 total time=   0.7s\n"
          ]
        },
        {
          "output_type": "stream",
          "name": "stderr",
          "text": [
            "/usr/local/lib/python3.7/dist-packages/sklearn/ensemble/_forest.py:756: UserWarning: class_weight presets \"balanced\" or \"balanced_subsample\" are not recommended for warm_start if the fitted data differs from the full dataset. In order to use \"balanced\" weights, use compute_class_weight (\"balanced\", classes, y). In place of y you can use a large enough sample of the full training set target to properly estimate the class frequency distributions. Pass the resulting weights as the class_weight parameter.\n",
            "  'class_weight presets \"balanced\" or '\n"
          ]
        },
        {
          "output_type": "stream",
          "name": "stdout",
          "text": [
            "[CV 4/5] END bootstrap=True, class_weight=balanced_subsample, criterion=entropy, max_depth=5, max_features=log2, warm_start=True;, score=0.635 total time=   0.6s\n"
          ]
        },
        {
          "output_type": "stream",
          "name": "stderr",
          "text": [
            "/usr/local/lib/python3.7/dist-packages/sklearn/ensemble/_forest.py:756: UserWarning: class_weight presets \"balanced\" or \"balanced_subsample\" are not recommended for warm_start if the fitted data differs from the full dataset. In order to use \"balanced\" weights, use compute_class_weight (\"balanced\", classes, y). In place of y you can use a large enough sample of the full training set target to properly estimate the class frequency distributions. Pass the resulting weights as the class_weight parameter.\n",
            "  'class_weight presets \"balanced\" or '\n"
          ]
        },
        {
          "output_type": "stream",
          "name": "stdout",
          "text": [
            "[CV 5/5] END bootstrap=True, class_weight=balanced_subsample, criterion=entropy, max_depth=5, max_features=log2, warm_start=True;, score=0.600 total time=   0.6s\n",
            "[CV 1/5] END bootstrap=False, class_weight=balanced, criterion=gini, max_depth=2, max_features=auto, warm_start=False;, score=0.615 total time=   0.2s\n",
            "[CV 2/5] END bootstrap=False, class_weight=balanced, criterion=gini, max_depth=2, max_features=auto, warm_start=False;, score=0.560 total time=   0.2s\n",
            "[CV 3/5] END bootstrap=False, class_weight=balanced, criterion=gini, max_depth=2, max_features=auto, warm_start=False;, score=0.495 total time=   0.2s\n",
            "[CV 4/5] END bootstrap=False, class_weight=balanced, criterion=gini, max_depth=2, max_features=auto, warm_start=False;, score=0.515 total time=   0.2s\n",
            "[CV 5/5] END bootstrap=False, class_weight=balanced, criterion=gini, max_depth=2, max_features=auto, warm_start=False;, score=0.515 total time=   0.2s\n"
          ]
        },
        {
          "output_type": "stream",
          "name": "stderr",
          "text": [
            "/usr/local/lib/python3.7/dist-packages/sklearn/ensemble/_forest.py:756: UserWarning: class_weight presets \"balanced\" or \"balanced_subsample\" are not recommended for warm_start if the fitted data differs from the full dataset. In order to use \"balanced\" weights, use compute_class_weight (\"balanced\", classes, y). In place of y you can use a large enough sample of the full training set target to properly estimate the class frequency distributions. Pass the resulting weights as the class_weight parameter.\n",
            "  'class_weight presets \"balanced\" or '\n"
          ]
        },
        {
          "output_type": "stream",
          "name": "stdout",
          "text": [
            "[CV 1/5] END bootstrap=False, class_weight=balanced, criterion=gini, max_depth=2, max_features=auto, warm_start=True;, score=0.640 total time=   0.2s\n"
          ]
        },
        {
          "output_type": "stream",
          "name": "stderr",
          "text": [
            "/usr/local/lib/python3.7/dist-packages/sklearn/ensemble/_forest.py:756: UserWarning: class_weight presets \"balanced\" or \"balanced_subsample\" are not recommended for warm_start if the fitted data differs from the full dataset. In order to use \"balanced\" weights, use compute_class_weight (\"balanced\", classes, y). In place of y you can use a large enough sample of the full training set target to properly estimate the class frequency distributions. Pass the resulting weights as the class_weight parameter.\n",
            "  'class_weight presets \"balanced\" or '\n"
          ]
        },
        {
          "output_type": "stream",
          "name": "stdout",
          "text": [
            "[CV 2/5] END bootstrap=False, class_weight=balanced, criterion=gini, max_depth=2, max_features=auto, warm_start=True;, score=0.495 total time=   0.2s\n"
          ]
        },
        {
          "output_type": "stream",
          "name": "stderr",
          "text": [
            "/usr/local/lib/python3.7/dist-packages/sklearn/ensemble/_forest.py:756: UserWarning: class_weight presets \"balanced\" or \"balanced_subsample\" are not recommended for warm_start if the fitted data differs from the full dataset. In order to use \"balanced\" weights, use compute_class_weight (\"balanced\", classes, y). In place of y you can use a large enough sample of the full training set target to properly estimate the class frequency distributions. Pass the resulting weights as the class_weight parameter.\n",
            "  'class_weight presets \"balanced\" or '\n"
          ]
        },
        {
          "output_type": "stream",
          "name": "stdout",
          "text": [
            "[CV 3/5] END bootstrap=False, class_weight=balanced, criterion=gini, max_depth=2, max_features=auto, warm_start=True;, score=0.550 total time=   0.2s\n"
          ]
        },
        {
          "output_type": "stream",
          "name": "stderr",
          "text": [
            "/usr/local/lib/python3.7/dist-packages/sklearn/ensemble/_forest.py:756: UserWarning: class_weight presets \"balanced\" or \"balanced_subsample\" are not recommended for warm_start if the fitted data differs from the full dataset. In order to use \"balanced\" weights, use compute_class_weight (\"balanced\", classes, y). In place of y you can use a large enough sample of the full training set target to properly estimate the class frequency distributions. Pass the resulting weights as the class_weight parameter.\n",
            "  'class_weight presets \"balanced\" or '\n"
          ]
        },
        {
          "output_type": "stream",
          "name": "stdout",
          "text": [
            "[CV 4/5] END bootstrap=False, class_weight=balanced, criterion=gini, max_depth=2, max_features=auto, warm_start=True;, score=0.485 total time=   0.2s\n"
          ]
        },
        {
          "output_type": "stream",
          "name": "stderr",
          "text": [
            "/usr/local/lib/python3.7/dist-packages/sklearn/ensemble/_forest.py:756: UserWarning: class_weight presets \"balanced\" or \"balanced_subsample\" are not recommended for warm_start if the fitted data differs from the full dataset. In order to use \"balanced\" weights, use compute_class_weight (\"balanced\", classes, y). In place of y you can use a large enough sample of the full training set target to properly estimate the class frequency distributions. Pass the resulting weights as the class_weight parameter.\n",
            "  'class_weight presets \"balanced\" or '\n"
          ]
        },
        {
          "output_type": "stream",
          "name": "stdout",
          "text": [
            "[CV 5/5] END bootstrap=False, class_weight=balanced, criterion=gini, max_depth=2, max_features=auto, warm_start=True;, score=0.535 total time=   0.2s\n",
            "[CV 1/5] END bootstrap=False, class_weight=balanced, criterion=gini, max_depth=2, max_features=sqrt, warm_start=False;, score=0.615 total time=   0.2s\n",
            "[CV 2/5] END bootstrap=False, class_weight=balanced, criterion=gini, max_depth=2, max_features=sqrt, warm_start=False;, score=0.535 total time=   0.2s\n",
            "[CV 3/5] END bootstrap=False, class_weight=balanced, criterion=gini, max_depth=2, max_features=sqrt, warm_start=False;, score=0.520 total time=   0.2s\n",
            "[CV 4/5] END bootstrap=False, class_weight=balanced, criterion=gini, max_depth=2, max_features=sqrt, warm_start=False;, score=0.495 total time=   0.2s\n",
            "[CV 5/5] END bootstrap=False, class_weight=balanced, criterion=gini, max_depth=2, max_features=sqrt, warm_start=False;, score=0.560 total time=   0.2s\n"
          ]
        },
        {
          "output_type": "stream",
          "name": "stderr",
          "text": [
            "/usr/local/lib/python3.7/dist-packages/sklearn/ensemble/_forest.py:756: UserWarning: class_weight presets \"balanced\" or \"balanced_subsample\" are not recommended for warm_start if the fitted data differs from the full dataset. In order to use \"balanced\" weights, use compute_class_weight (\"balanced\", classes, y). In place of y you can use a large enough sample of the full training set target to properly estimate the class frequency distributions. Pass the resulting weights as the class_weight parameter.\n",
            "  'class_weight presets \"balanced\" or '\n"
          ]
        },
        {
          "output_type": "stream",
          "name": "stdout",
          "text": [
            "[CV 1/5] END bootstrap=False, class_weight=balanced, criterion=gini, max_depth=2, max_features=sqrt, warm_start=True;, score=0.590 total time=   0.2s\n"
          ]
        },
        {
          "output_type": "stream",
          "name": "stderr",
          "text": [
            "/usr/local/lib/python3.7/dist-packages/sklearn/ensemble/_forest.py:756: UserWarning: class_weight presets \"balanced\" or \"balanced_subsample\" are not recommended for warm_start if the fitted data differs from the full dataset. In order to use \"balanced\" weights, use compute_class_weight (\"balanced\", classes, y). In place of y you can use a large enough sample of the full training set target to properly estimate the class frequency distributions. Pass the resulting weights as the class_weight parameter.\n",
            "  'class_weight presets \"balanced\" or '\n"
          ]
        },
        {
          "output_type": "stream",
          "name": "stdout",
          "text": [
            "[CV 2/5] END bootstrap=False, class_weight=balanced, criterion=gini, max_depth=2, max_features=sqrt, warm_start=True;, score=0.545 total time=   0.2s\n"
          ]
        },
        {
          "output_type": "stream",
          "name": "stderr",
          "text": [
            "/usr/local/lib/python3.7/dist-packages/sklearn/ensemble/_forest.py:756: UserWarning: class_weight presets \"balanced\" or \"balanced_subsample\" are not recommended for warm_start if the fitted data differs from the full dataset. In order to use \"balanced\" weights, use compute_class_weight (\"balanced\", classes, y). In place of y you can use a large enough sample of the full training set target to properly estimate the class frequency distributions. Pass the resulting weights as the class_weight parameter.\n",
            "  'class_weight presets \"balanced\" or '\n"
          ]
        },
        {
          "output_type": "stream",
          "name": "stdout",
          "text": [
            "[CV 3/5] END bootstrap=False, class_weight=balanced, criterion=gini, max_depth=2, max_features=sqrt, warm_start=True;, score=0.515 total time=   0.2s\n"
          ]
        },
        {
          "output_type": "stream",
          "name": "stderr",
          "text": [
            "/usr/local/lib/python3.7/dist-packages/sklearn/ensemble/_forest.py:756: UserWarning: class_weight presets \"balanced\" or \"balanced_subsample\" are not recommended for warm_start if the fitted data differs from the full dataset. In order to use \"balanced\" weights, use compute_class_weight (\"balanced\", classes, y). In place of y you can use a large enough sample of the full training set target to properly estimate the class frequency distributions. Pass the resulting weights as the class_weight parameter.\n",
            "  'class_weight presets \"balanced\" or '\n"
          ]
        },
        {
          "output_type": "stream",
          "name": "stdout",
          "text": [
            "[CV 4/5] END bootstrap=False, class_weight=balanced, criterion=gini, max_depth=2, max_features=sqrt, warm_start=True;, score=0.490 total time=   0.2s\n"
          ]
        },
        {
          "output_type": "stream",
          "name": "stderr",
          "text": [
            "/usr/local/lib/python3.7/dist-packages/sklearn/ensemble/_forest.py:756: UserWarning: class_weight presets \"balanced\" or \"balanced_subsample\" are not recommended for warm_start if the fitted data differs from the full dataset. In order to use \"balanced\" weights, use compute_class_weight (\"balanced\", classes, y). In place of y you can use a large enough sample of the full training set target to properly estimate the class frequency distributions. Pass the resulting weights as the class_weight parameter.\n",
            "  'class_weight presets \"balanced\" or '\n"
          ]
        },
        {
          "output_type": "stream",
          "name": "stdout",
          "text": [
            "[CV 5/5] END bootstrap=False, class_weight=balanced, criterion=gini, max_depth=2, max_features=sqrt, warm_start=True;, score=0.530 total time=   0.2s\n",
            "[CV 1/5] END bootstrap=False, class_weight=balanced, criterion=gini, max_depth=2, max_features=log2, warm_start=False;, score=0.565 total time=   0.2s\n",
            "[CV 2/5] END bootstrap=False, class_weight=balanced, criterion=gini, max_depth=2, max_features=log2, warm_start=False;, score=0.520 total time=   0.2s\n",
            "[CV 3/5] END bootstrap=False, class_weight=balanced, criterion=gini, max_depth=2, max_features=log2, warm_start=False;, score=0.525 total time=   0.2s\n",
            "[CV 4/5] END bootstrap=False, class_weight=balanced, criterion=gini, max_depth=2, max_features=log2, warm_start=False;, score=0.530 total time=   0.2s\n",
            "[CV 5/5] END bootstrap=False, class_weight=balanced, criterion=gini, max_depth=2, max_features=log2, warm_start=False;, score=0.520 total time=   0.2s\n"
          ]
        },
        {
          "output_type": "stream",
          "name": "stderr",
          "text": [
            "/usr/local/lib/python3.7/dist-packages/sklearn/ensemble/_forest.py:756: UserWarning: class_weight presets \"balanced\" or \"balanced_subsample\" are not recommended for warm_start if the fitted data differs from the full dataset. In order to use \"balanced\" weights, use compute_class_weight (\"balanced\", classes, y). In place of y you can use a large enough sample of the full training set target to properly estimate the class frequency distributions. Pass the resulting weights as the class_weight parameter.\n",
            "  'class_weight presets \"balanced\" or '\n"
          ]
        },
        {
          "output_type": "stream",
          "name": "stdout",
          "text": [
            "[CV 1/5] END bootstrap=False, class_weight=balanced, criterion=gini, max_depth=2, max_features=log2, warm_start=True;, score=0.590 total time=   0.2s\n"
          ]
        },
        {
          "output_type": "stream",
          "name": "stderr",
          "text": [
            "/usr/local/lib/python3.7/dist-packages/sklearn/ensemble/_forest.py:756: UserWarning: class_weight presets \"balanced\" or \"balanced_subsample\" are not recommended for warm_start if the fitted data differs from the full dataset. In order to use \"balanced\" weights, use compute_class_weight (\"balanced\", classes, y). In place of y you can use a large enough sample of the full training set target to properly estimate the class frequency distributions. Pass the resulting weights as the class_weight parameter.\n",
            "  'class_weight presets \"balanced\" or '\n"
          ]
        },
        {
          "output_type": "stream",
          "name": "stdout",
          "text": [
            "[CV 2/5] END bootstrap=False, class_weight=balanced, criterion=gini, max_depth=2, max_features=log2, warm_start=True;, score=0.560 total time=   0.2s\n"
          ]
        },
        {
          "output_type": "stream",
          "name": "stderr",
          "text": [
            "/usr/local/lib/python3.7/dist-packages/sklearn/ensemble/_forest.py:756: UserWarning: class_weight presets \"balanced\" or \"balanced_subsample\" are not recommended for warm_start if the fitted data differs from the full dataset. In order to use \"balanced\" weights, use compute_class_weight (\"balanced\", classes, y). In place of y you can use a large enough sample of the full training set target to properly estimate the class frequency distributions. Pass the resulting weights as the class_weight parameter.\n",
            "  'class_weight presets \"balanced\" or '\n"
          ]
        },
        {
          "output_type": "stream",
          "name": "stdout",
          "text": [
            "[CV 3/5] END bootstrap=False, class_weight=balanced, criterion=gini, max_depth=2, max_features=log2, warm_start=True;, score=0.520 total time=   0.2s\n"
          ]
        },
        {
          "output_type": "stream",
          "name": "stderr",
          "text": [
            "/usr/local/lib/python3.7/dist-packages/sklearn/ensemble/_forest.py:756: UserWarning: class_weight presets \"balanced\" or \"balanced_subsample\" are not recommended for warm_start if the fitted data differs from the full dataset. In order to use \"balanced\" weights, use compute_class_weight (\"balanced\", classes, y). In place of y you can use a large enough sample of the full training set target to properly estimate the class frequency distributions. Pass the resulting weights as the class_weight parameter.\n",
            "  'class_weight presets \"balanced\" or '\n"
          ]
        },
        {
          "output_type": "stream",
          "name": "stdout",
          "text": [
            "[CV 4/5] END bootstrap=False, class_weight=balanced, criterion=gini, max_depth=2, max_features=log2, warm_start=True;, score=0.465 total time=   0.2s\n"
          ]
        },
        {
          "output_type": "stream",
          "name": "stderr",
          "text": [
            "/usr/local/lib/python3.7/dist-packages/sklearn/ensemble/_forest.py:756: UserWarning: class_weight presets \"balanced\" or \"balanced_subsample\" are not recommended for warm_start if the fitted data differs from the full dataset. In order to use \"balanced\" weights, use compute_class_weight (\"balanced\", classes, y). In place of y you can use a large enough sample of the full training set target to properly estimate the class frequency distributions. Pass the resulting weights as the class_weight parameter.\n",
            "  'class_weight presets \"balanced\" or '\n"
          ]
        },
        {
          "output_type": "stream",
          "name": "stdout",
          "text": [
            "[CV 5/5] END bootstrap=False, class_weight=balanced, criterion=gini, max_depth=2, max_features=log2, warm_start=True;, score=0.560 total time=   0.2s\n",
            "[CV 1/5] END bootstrap=False, class_weight=balanced, criterion=gini, max_depth=3, max_features=auto, warm_start=False;, score=0.675 total time=   0.3s\n",
            "[CV 2/5] END bootstrap=False, class_weight=balanced, criterion=gini, max_depth=3, max_features=auto, warm_start=False;, score=0.605 total time=   0.3s\n",
            "[CV 3/5] END bootstrap=False, class_weight=balanced, criterion=gini, max_depth=3, max_features=auto, warm_start=False;, score=0.555 total time=   0.3s\n",
            "[CV 4/5] END bootstrap=False, class_weight=balanced, criterion=gini, max_depth=3, max_features=auto, warm_start=False;, score=0.555 total time=   0.3s\n",
            "[CV 5/5] END bootstrap=False, class_weight=balanced, criterion=gini, max_depth=3, max_features=auto, warm_start=False;, score=0.585 total time=   0.3s\n"
          ]
        },
        {
          "output_type": "stream",
          "name": "stderr",
          "text": [
            "/usr/local/lib/python3.7/dist-packages/sklearn/ensemble/_forest.py:756: UserWarning: class_weight presets \"balanced\" or \"balanced_subsample\" are not recommended for warm_start if the fitted data differs from the full dataset. In order to use \"balanced\" weights, use compute_class_weight (\"balanced\", classes, y). In place of y you can use a large enough sample of the full training set target to properly estimate the class frequency distributions. Pass the resulting weights as the class_weight parameter.\n",
            "  'class_weight presets \"balanced\" or '\n"
          ]
        },
        {
          "output_type": "stream",
          "name": "stdout",
          "text": [
            "[CV 1/5] END bootstrap=False, class_weight=balanced, criterion=gini, max_depth=3, max_features=auto, warm_start=True;, score=0.660 total time=   0.3s\n"
          ]
        },
        {
          "output_type": "stream",
          "name": "stderr",
          "text": [
            "/usr/local/lib/python3.7/dist-packages/sklearn/ensemble/_forest.py:756: UserWarning: class_weight presets \"balanced\" or \"balanced_subsample\" are not recommended for warm_start if the fitted data differs from the full dataset. In order to use \"balanced\" weights, use compute_class_weight (\"balanced\", classes, y). In place of y you can use a large enough sample of the full training set target to properly estimate the class frequency distributions. Pass the resulting weights as the class_weight parameter.\n",
            "  'class_weight presets \"balanced\" or '\n"
          ]
        },
        {
          "output_type": "stream",
          "name": "stdout",
          "text": [
            "[CV 2/5] END bootstrap=False, class_weight=balanced, criterion=gini, max_depth=3, max_features=auto, warm_start=True;, score=0.620 total time=   0.3s\n"
          ]
        },
        {
          "output_type": "stream",
          "name": "stderr",
          "text": [
            "/usr/local/lib/python3.7/dist-packages/sklearn/ensemble/_forest.py:756: UserWarning: class_weight presets \"balanced\" or \"balanced_subsample\" are not recommended for warm_start if the fitted data differs from the full dataset. In order to use \"balanced\" weights, use compute_class_weight (\"balanced\", classes, y). In place of y you can use a large enough sample of the full training set target to properly estimate the class frequency distributions. Pass the resulting weights as the class_weight parameter.\n",
            "  'class_weight presets \"balanced\" or '\n"
          ]
        },
        {
          "output_type": "stream",
          "name": "stdout",
          "text": [
            "[CV 3/5] END bootstrap=False, class_weight=balanced, criterion=gini, max_depth=3, max_features=auto, warm_start=True;, score=0.575 total time=   0.3s\n"
          ]
        },
        {
          "output_type": "stream",
          "name": "stderr",
          "text": [
            "/usr/local/lib/python3.7/dist-packages/sklearn/ensemble/_forest.py:756: UserWarning: class_weight presets \"balanced\" or \"balanced_subsample\" are not recommended for warm_start if the fitted data differs from the full dataset. In order to use \"balanced\" weights, use compute_class_weight (\"balanced\", classes, y). In place of y you can use a large enough sample of the full training set target to properly estimate the class frequency distributions. Pass the resulting weights as the class_weight parameter.\n",
            "  'class_weight presets \"balanced\" or '\n"
          ]
        },
        {
          "output_type": "stream",
          "name": "stdout",
          "text": [
            "[CV 4/5] END bootstrap=False, class_weight=balanced, criterion=gini, max_depth=3, max_features=auto, warm_start=True;, score=0.545 total time=   0.3s\n"
          ]
        },
        {
          "output_type": "stream",
          "name": "stderr",
          "text": [
            "/usr/local/lib/python3.7/dist-packages/sklearn/ensemble/_forest.py:756: UserWarning: class_weight presets \"balanced\" or \"balanced_subsample\" are not recommended for warm_start if the fitted data differs from the full dataset. In order to use \"balanced\" weights, use compute_class_weight (\"balanced\", classes, y). In place of y you can use a large enough sample of the full training set target to properly estimate the class frequency distributions. Pass the resulting weights as the class_weight parameter.\n",
            "  'class_weight presets \"balanced\" or '\n"
          ]
        },
        {
          "output_type": "stream",
          "name": "stdout",
          "text": [
            "[CV 5/5] END bootstrap=False, class_weight=balanced, criterion=gini, max_depth=3, max_features=auto, warm_start=True;, score=0.600 total time=   0.3s\n",
            "[CV 1/5] END bootstrap=False, class_weight=balanced, criterion=gini, max_depth=3, max_features=sqrt, warm_start=False;, score=0.660 total time=   0.3s\n",
            "[CV 2/5] END bootstrap=False, class_weight=balanced, criterion=gini, max_depth=3, max_features=sqrt, warm_start=False;, score=0.610 total time=   0.3s\n",
            "[CV 3/5] END bootstrap=False, class_weight=balanced, criterion=gini, max_depth=3, max_features=sqrt, warm_start=False;, score=0.515 total time=   0.3s\n",
            "[CV 4/5] END bootstrap=False, class_weight=balanced, criterion=gini, max_depth=3, max_features=sqrt, warm_start=False;, score=0.575 total time=   0.3s\n",
            "[CV 5/5] END bootstrap=False, class_weight=balanced, criterion=gini, max_depth=3, max_features=sqrt, warm_start=False;, score=0.570 total time=   0.3s\n"
          ]
        },
        {
          "output_type": "stream",
          "name": "stderr",
          "text": [
            "/usr/local/lib/python3.7/dist-packages/sklearn/ensemble/_forest.py:756: UserWarning: class_weight presets \"balanced\" or \"balanced_subsample\" are not recommended for warm_start if the fitted data differs from the full dataset. In order to use \"balanced\" weights, use compute_class_weight (\"balanced\", classes, y). In place of y you can use a large enough sample of the full training set target to properly estimate the class frequency distributions. Pass the resulting weights as the class_weight parameter.\n",
            "  'class_weight presets \"balanced\" or '\n"
          ]
        },
        {
          "output_type": "stream",
          "name": "stdout",
          "text": [
            "[CV 1/5] END bootstrap=False, class_weight=balanced, criterion=gini, max_depth=3, max_features=sqrt, warm_start=True;, score=0.665 total time=   0.3s\n"
          ]
        },
        {
          "output_type": "stream",
          "name": "stderr",
          "text": [
            "/usr/local/lib/python3.7/dist-packages/sklearn/ensemble/_forest.py:756: UserWarning: class_weight presets \"balanced\" or \"balanced_subsample\" are not recommended for warm_start if the fitted data differs from the full dataset. In order to use \"balanced\" weights, use compute_class_weight (\"balanced\", classes, y). In place of y you can use a large enough sample of the full training set target to properly estimate the class frequency distributions. Pass the resulting weights as the class_weight parameter.\n",
            "  'class_weight presets \"balanced\" or '\n"
          ]
        },
        {
          "output_type": "stream",
          "name": "stdout",
          "text": [
            "[CV 2/5] END bootstrap=False, class_weight=balanced, criterion=gini, max_depth=3, max_features=sqrt, warm_start=True;, score=0.585 total time=   0.3s\n"
          ]
        },
        {
          "output_type": "stream",
          "name": "stderr",
          "text": [
            "/usr/local/lib/python3.7/dist-packages/sklearn/ensemble/_forest.py:756: UserWarning: class_weight presets \"balanced\" or \"balanced_subsample\" are not recommended for warm_start if the fitted data differs from the full dataset. In order to use \"balanced\" weights, use compute_class_weight (\"balanced\", classes, y). In place of y you can use a large enough sample of the full training set target to properly estimate the class frequency distributions. Pass the resulting weights as the class_weight parameter.\n",
            "  'class_weight presets \"balanced\" or '\n"
          ]
        },
        {
          "output_type": "stream",
          "name": "stdout",
          "text": [
            "[CV 3/5] END bootstrap=False, class_weight=balanced, criterion=gini, max_depth=3, max_features=sqrt, warm_start=True;, score=0.545 total time=   0.3s\n"
          ]
        },
        {
          "output_type": "stream",
          "name": "stderr",
          "text": [
            "/usr/local/lib/python3.7/dist-packages/sklearn/ensemble/_forest.py:756: UserWarning: class_weight presets \"balanced\" or \"balanced_subsample\" are not recommended for warm_start if the fitted data differs from the full dataset. In order to use \"balanced\" weights, use compute_class_weight (\"balanced\", classes, y). In place of y you can use a large enough sample of the full training set target to properly estimate the class frequency distributions. Pass the resulting weights as the class_weight parameter.\n",
            "  'class_weight presets \"balanced\" or '\n"
          ]
        },
        {
          "output_type": "stream",
          "name": "stdout",
          "text": [
            "[CV 4/5] END bootstrap=False, class_weight=balanced, criterion=gini, max_depth=3, max_features=sqrt, warm_start=True;, score=0.535 total time=   0.3s\n"
          ]
        },
        {
          "output_type": "stream",
          "name": "stderr",
          "text": [
            "/usr/local/lib/python3.7/dist-packages/sklearn/ensemble/_forest.py:756: UserWarning: class_weight presets \"balanced\" or \"balanced_subsample\" are not recommended for warm_start if the fitted data differs from the full dataset. In order to use \"balanced\" weights, use compute_class_weight (\"balanced\", classes, y). In place of y you can use a large enough sample of the full training set target to properly estimate the class frequency distributions. Pass the resulting weights as the class_weight parameter.\n",
            "  'class_weight presets \"balanced\" or '\n"
          ]
        },
        {
          "output_type": "stream",
          "name": "stdout",
          "text": [
            "[CV 5/5] END bootstrap=False, class_weight=balanced, criterion=gini, max_depth=3, max_features=sqrt, warm_start=True;, score=0.610 total time=   0.3s\n",
            "[CV 1/5] END bootstrap=False, class_weight=balanced, criterion=gini, max_depth=3, max_features=log2, warm_start=False;, score=0.665 total time=   0.3s\n",
            "[CV 2/5] END bootstrap=False, class_weight=balanced, criterion=gini, max_depth=3, max_features=log2, warm_start=False;, score=0.610 total time=   0.3s\n",
            "[CV 3/5] END bootstrap=False, class_weight=balanced, criterion=gini, max_depth=3, max_features=log2, warm_start=False;, score=0.560 total time=   0.3s\n",
            "[CV 4/5] END bootstrap=False, class_weight=balanced, criterion=gini, max_depth=3, max_features=log2, warm_start=False;, score=0.570 total time=   0.2s\n",
            "[CV 5/5] END bootstrap=False, class_weight=balanced, criterion=gini, max_depth=3, max_features=log2, warm_start=False;, score=0.535 total time=   0.3s\n"
          ]
        },
        {
          "output_type": "stream",
          "name": "stderr",
          "text": [
            "/usr/local/lib/python3.7/dist-packages/sklearn/ensemble/_forest.py:756: UserWarning: class_weight presets \"balanced\" or \"balanced_subsample\" are not recommended for warm_start if the fitted data differs from the full dataset. In order to use \"balanced\" weights, use compute_class_weight (\"balanced\", classes, y). In place of y you can use a large enough sample of the full training set target to properly estimate the class frequency distributions. Pass the resulting weights as the class_weight parameter.\n",
            "  'class_weight presets \"balanced\" or '\n"
          ]
        },
        {
          "output_type": "stream",
          "name": "stdout",
          "text": [
            "[CV 1/5] END bootstrap=False, class_weight=balanced, criterion=gini, max_depth=3, max_features=log2, warm_start=True;, score=0.670 total time=   0.3s\n"
          ]
        },
        {
          "output_type": "stream",
          "name": "stderr",
          "text": [
            "/usr/local/lib/python3.7/dist-packages/sklearn/ensemble/_forest.py:756: UserWarning: class_weight presets \"balanced\" or \"balanced_subsample\" are not recommended for warm_start if the fitted data differs from the full dataset. In order to use \"balanced\" weights, use compute_class_weight (\"balanced\", classes, y). In place of y you can use a large enough sample of the full training set target to properly estimate the class frequency distributions. Pass the resulting weights as the class_weight parameter.\n",
            "  'class_weight presets \"balanced\" or '\n"
          ]
        },
        {
          "output_type": "stream",
          "name": "stdout",
          "text": [
            "[CV 2/5] END bootstrap=False, class_weight=balanced, criterion=gini, max_depth=3, max_features=log2, warm_start=True;, score=0.610 total time=   0.3s\n"
          ]
        },
        {
          "output_type": "stream",
          "name": "stderr",
          "text": [
            "/usr/local/lib/python3.7/dist-packages/sklearn/ensemble/_forest.py:756: UserWarning: class_weight presets \"balanced\" or \"balanced_subsample\" are not recommended for warm_start if the fitted data differs from the full dataset. In order to use \"balanced\" weights, use compute_class_weight (\"balanced\", classes, y). In place of y you can use a large enough sample of the full training set target to properly estimate the class frequency distributions. Pass the resulting weights as the class_weight parameter.\n",
            "  'class_weight presets \"balanced\" or '\n"
          ]
        },
        {
          "output_type": "stream",
          "name": "stdout",
          "text": [
            "[CV 3/5] END bootstrap=False, class_weight=balanced, criterion=gini, max_depth=3, max_features=log2, warm_start=True;, score=0.545 total time=   0.3s\n"
          ]
        },
        {
          "output_type": "stream",
          "name": "stderr",
          "text": [
            "/usr/local/lib/python3.7/dist-packages/sklearn/ensemble/_forest.py:756: UserWarning: class_weight presets \"balanced\" or \"balanced_subsample\" are not recommended for warm_start if the fitted data differs from the full dataset. In order to use \"balanced\" weights, use compute_class_weight (\"balanced\", classes, y). In place of y you can use a large enough sample of the full training set target to properly estimate the class frequency distributions. Pass the resulting weights as the class_weight parameter.\n",
            "  'class_weight presets \"balanced\" or '\n"
          ]
        },
        {
          "output_type": "stream",
          "name": "stdout",
          "text": [
            "[CV 4/5] END bootstrap=False, class_weight=balanced, criterion=gini, max_depth=3, max_features=log2, warm_start=True;, score=0.530 total time=   0.3s\n"
          ]
        },
        {
          "output_type": "stream",
          "name": "stderr",
          "text": [
            "/usr/local/lib/python3.7/dist-packages/sklearn/ensemble/_forest.py:756: UserWarning: class_weight presets \"balanced\" or \"balanced_subsample\" are not recommended for warm_start if the fitted data differs from the full dataset. In order to use \"balanced\" weights, use compute_class_weight (\"balanced\", classes, y). In place of y you can use a large enough sample of the full training set target to properly estimate the class frequency distributions. Pass the resulting weights as the class_weight parameter.\n",
            "  'class_weight presets \"balanced\" or '\n"
          ]
        },
        {
          "output_type": "stream",
          "name": "stdout",
          "text": [
            "[CV 5/5] END bootstrap=False, class_weight=balanced, criterion=gini, max_depth=3, max_features=log2, warm_start=True;, score=0.595 total time=   0.3s\n",
            "[CV 1/5] END bootstrap=False, class_weight=balanced, criterion=gini, max_depth=5, max_features=auto, warm_start=False;, score=0.690 total time=   0.3s\n",
            "[CV 2/5] END bootstrap=False, class_weight=balanced, criterion=gini, max_depth=5, max_features=auto, warm_start=False;, score=0.635 total time=   0.3s\n",
            "[CV 3/5] END bootstrap=False, class_weight=balanced, criterion=gini, max_depth=5, max_features=auto, warm_start=False;, score=0.595 total time=   0.3s\n",
            "[CV 4/5] END bootstrap=False, class_weight=balanced, criterion=gini, max_depth=5, max_features=auto, warm_start=False;, score=0.610 total time=   0.3s\n",
            "[CV 5/5] END bootstrap=False, class_weight=balanced, criterion=gini, max_depth=5, max_features=auto, warm_start=False;, score=0.645 total time=   0.3s\n"
          ]
        },
        {
          "output_type": "stream",
          "name": "stderr",
          "text": [
            "/usr/local/lib/python3.7/dist-packages/sklearn/ensemble/_forest.py:756: UserWarning: class_weight presets \"balanced\" or \"balanced_subsample\" are not recommended for warm_start if the fitted data differs from the full dataset. In order to use \"balanced\" weights, use compute_class_weight (\"balanced\", classes, y). In place of y you can use a large enough sample of the full training set target to properly estimate the class frequency distributions. Pass the resulting weights as the class_weight parameter.\n",
            "  'class_weight presets \"balanced\" or '\n"
          ]
        },
        {
          "output_type": "stream",
          "name": "stdout",
          "text": [
            "[CV 1/5] END bootstrap=False, class_weight=balanced, criterion=gini, max_depth=5, max_features=auto, warm_start=True;, score=0.665 total time=   0.3s\n"
          ]
        },
        {
          "output_type": "stream",
          "name": "stderr",
          "text": [
            "/usr/local/lib/python3.7/dist-packages/sklearn/ensemble/_forest.py:756: UserWarning: class_weight presets \"balanced\" or \"balanced_subsample\" are not recommended for warm_start if the fitted data differs from the full dataset. In order to use \"balanced\" weights, use compute_class_weight (\"balanced\", classes, y). In place of y you can use a large enough sample of the full training set target to properly estimate the class frequency distributions. Pass the resulting weights as the class_weight parameter.\n",
            "  'class_weight presets \"balanced\" or '\n"
          ]
        },
        {
          "output_type": "stream",
          "name": "stdout",
          "text": [
            "[CV 2/5] END bootstrap=False, class_weight=balanced, criterion=gini, max_depth=5, max_features=auto, warm_start=True;, score=0.675 total time=   0.3s\n"
          ]
        },
        {
          "output_type": "stream",
          "name": "stderr",
          "text": [
            "/usr/local/lib/python3.7/dist-packages/sklearn/ensemble/_forest.py:756: UserWarning: class_weight presets \"balanced\" or \"balanced_subsample\" are not recommended for warm_start if the fitted data differs from the full dataset. In order to use \"balanced\" weights, use compute_class_weight (\"balanced\", classes, y). In place of y you can use a large enough sample of the full training set target to properly estimate the class frequency distributions. Pass the resulting weights as the class_weight parameter.\n",
            "  'class_weight presets \"balanced\" or '\n"
          ]
        },
        {
          "output_type": "stream",
          "name": "stdout",
          "text": [
            "[CV 3/5] END bootstrap=False, class_weight=balanced, criterion=gini, max_depth=5, max_features=auto, warm_start=True;, score=0.595 total time=   0.3s\n"
          ]
        },
        {
          "output_type": "stream",
          "name": "stderr",
          "text": [
            "/usr/local/lib/python3.7/dist-packages/sklearn/ensemble/_forest.py:756: UserWarning: class_weight presets \"balanced\" or \"balanced_subsample\" are not recommended for warm_start if the fitted data differs from the full dataset. In order to use \"balanced\" weights, use compute_class_weight (\"balanced\", classes, y). In place of y you can use a large enough sample of the full training set target to properly estimate the class frequency distributions. Pass the resulting weights as the class_weight parameter.\n",
            "  'class_weight presets \"balanced\" or '\n"
          ]
        },
        {
          "output_type": "stream",
          "name": "stdout",
          "text": [
            "[CV 4/5] END bootstrap=False, class_weight=balanced, criterion=gini, max_depth=5, max_features=auto, warm_start=True;, score=0.640 total time=   0.3s\n"
          ]
        },
        {
          "output_type": "stream",
          "name": "stderr",
          "text": [
            "/usr/local/lib/python3.7/dist-packages/sklearn/ensemble/_forest.py:756: UserWarning: class_weight presets \"balanced\" or \"balanced_subsample\" are not recommended for warm_start if the fitted data differs from the full dataset. In order to use \"balanced\" weights, use compute_class_weight (\"balanced\", classes, y). In place of y you can use a large enough sample of the full training set target to properly estimate the class frequency distributions. Pass the resulting weights as the class_weight parameter.\n",
            "  'class_weight presets \"balanced\" or '\n"
          ]
        },
        {
          "output_type": "stream",
          "name": "stdout",
          "text": [
            "[CV 5/5] END bootstrap=False, class_weight=balanced, criterion=gini, max_depth=5, max_features=auto, warm_start=True;, score=0.635 total time=   0.3s\n",
            "[CV 1/5] END bootstrap=False, class_weight=balanced, criterion=gini, max_depth=5, max_features=sqrt, warm_start=False;, score=0.680 total time=   0.3s\n",
            "[CV 2/5] END bootstrap=False, class_weight=balanced, criterion=gini, max_depth=5, max_features=sqrt, warm_start=False;, score=0.665 total time=   0.3s\n",
            "[CV 3/5] END bootstrap=False, class_weight=balanced, criterion=gini, max_depth=5, max_features=sqrt, warm_start=False;, score=0.605 total time=   0.3s\n",
            "[CV 4/5] END bootstrap=False, class_weight=balanced, criterion=gini, max_depth=5, max_features=sqrt, warm_start=False;, score=0.620 total time=   0.3s\n",
            "[CV 5/5] END bootstrap=False, class_weight=balanced, criterion=gini, max_depth=5, max_features=sqrt, warm_start=False;, score=0.610 total time=   0.3s\n"
          ]
        },
        {
          "output_type": "stream",
          "name": "stderr",
          "text": [
            "/usr/local/lib/python3.7/dist-packages/sklearn/ensemble/_forest.py:756: UserWarning: class_weight presets \"balanced\" or \"balanced_subsample\" are not recommended for warm_start if the fitted data differs from the full dataset. In order to use \"balanced\" weights, use compute_class_weight (\"balanced\", classes, y). In place of y you can use a large enough sample of the full training set target to properly estimate the class frequency distributions. Pass the resulting weights as the class_weight parameter.\n",
            "  'class_weight presets \"balanced\" or '\n"
          ]
        },
        {
          "output_type": "stream",
          "name": "stdout",
          "text": [
            "[CV 1/5] END bootstrap=False, class_weight=balanced, criterion=gini, max_depth=5, max_features=sqrt, warm_start=True;, score=0.680 total time=   0.3s\n"
          ]
        },
        {
          "output_type": "stream",
          "name": "stderr",
          "text": [
            "/usr/local/lib/python3.7/dist-packages/sklearn/ensemble/_forest.py:756: UserWarning: class_weight presets \"balanced\" or \"balanced_subsample\" are not recommended for warm_start if the fitted data differs from the full dataset. In order to use \"balanced\" weights, use compute_class_weight (\"balanced\", classes, y). In place of y you can use a large enough sample of the full training set target to properly estimate the class frequency distributions. Pass the resulting weights as the class_weight parameter.\n",
            "  'class_weight presets \"balanced\" or '\n"
          ]
        },
        {
          "output_type": "stream",
          "name": "stdout",
          "text": [
            "[CV 2/5] END bootstrap=False, class_weight=balanced, criterion=gini, max_depth=5, max_features=sqrt, warm_start=True;, score=0.650 total time=   0.3s\n"
          ]
        },
        {
          "output_type": "stream",
          "name": "stderr",
          "text": [
            "/usr/local/lib/python3.7/dist-packages/sklearn/ensemble/_forest.py:756: UserWarning: class_weight presets \"balanced\" or \"balanced_subsample\" are not recommended for warm_start if the fitted data differs from the full dataset. In order to use \"balanced\" weights, use compute_class_weight (\"balanced\", classes, y). In place of y you can use a large enough sample of the full training set target to properly estimate the class frequency distributions. Pass the resulting weights as the class_weight parameter.\n",
            "  'class_weight presets \"balanced\" or '\n"
          ]
        },
        {
          "output_type": "stream",
          "name": "stdout",
          "text": [
            "[CV 3/5] END bootstrap=False, class_weight=balanced, criterion=gini, max_depth=5, max_features=sqrt, warm_start=True;, score=0.595 total time=   0.4s\n"
          ]
        },
        {
          "output_type": "stream",
          "name": "stderr",
          "text": [
            "/usr/local/lib/python3.7/dist-packages/sklearn/ensemble/_forest.py:756: UserWarning: class_weight presets \"balanced\" or \"balanced_subsample\" are not recommended for warm_start if the fitted data differs from the full dataset. In order to use \"balanced\" weights, use compute_class_weight (\"balanced\", classes, y). In place of y you can use a large enough sample of the full training set target to properly estimate the class frequency distributions. Pass the resulting weights as the class_weight parameter.\n",
            "  'class_weight presets \"balanced\" or '\n"
          ]
        },
        {
          "output_type": "stream",
          "name": "stdout",
          "text": [
            "[CV 4/5] END bootstrap=False, class_weight=balanced, criterion=gini, max_depth=5, max_features=sqrt, warm_start=True;, score=0.625 total time=   0.3s\n"
          ]
        },
        {
          "output_type": "stream",
          "name": "stderr",
          "text": [
            "/usr/local/lib/python3.7/dist-packages/sklearn/ensemble/_forest.py:756: UserWarning: class_weight presets \"balanced\" or \"balanced_subsample\" are not recommended for warm_start if the fitted data differs from the full dataset. In order to use \"balanced\" weights, use compute_class_weight (\"balanced\", classes, y). In place of y you can use a large enough sample of the full training set target to properly estimate the class frequency distributions. Pass the resulting weights as the class_weight parameter.\n",
            "  'class_weight presets \"balanced\" or '\n"
          ]
        },
        {
          "output_type": "stream",
          "name": "stdout",
          "text": [
            "[CV 5/5] END bootstrap=False, class_weight=balanced, criterion=gini, max_depth=5, max_features=sqrt, warm_start=True;, score=0.640 total time=   0.3s\n",
            "[CV 1/5] END bootstrap=False, class_weight=balanced, criterion=gini, max_depth=5, max_features=log2, warm_start=False;, score=0.695 total time=   0.3s\n",
            "[CV 2/5] END bootstrap=False, class_weight=balanced, criterion=gini, max_depth=5, max_features=log2, warm_start=False;, score=0.655 total time=   0.3s\n",
            "[CV 3/5] END bootstrap=False, class_weight=balanced, criterion=gini, max_depth=5, max_features=log2, warm_start=False;, score=0.610 total time=   0.3s\n",
            "[CV 4/5] END bootstrap=False, class_weight=balanced, criterion=gini, max_depth=5, max_features=log2, warm_start=False;, score=0.620 total time=   0.3s\n",
            "[CV 5/5] END bootstrap=False, class_weight=balanced, criterion=gini, max_depth=5, max_features=log2, warm_start=False;, score=0.650 total time=   0.3s\n"
          ]
        },
        {
          "output_type": "stream",
          "name": "stderr",
          "text": [
            "/usr/local/lib/python3.7/dist-packages/sklearn/ensemble/_forest.py:756: UserWarning: class_weight presets \"balanced\" or \"balanced_subsample\" are not recommended for warm_start if the fitted data differs from the full dataset. In order to use \"balanced\" weights, use compute_class_weight (\"balanced\", classes, y). In place of y you can use a large enough sample of the full training set target to properly estimate the class frequency distributions. Pass the resulting weights as the class_weight parameter.\n",
            "  'class_weight presets \"balanced\" or '\n"
          ]
        },
        {
          "output_type": "stream",
          "name": "stdout",
          "text": [
            "[CV 1/5] END bootstrap=False, class_weight=balanced, criterion=gini, max_depth=5, max_features=log2, warm_start=True;, score=0.675 total time=   0.3s\n"
          ]
        },
        {
          "output_type": "stream",
          "name": "stderr",
          "text": [
            "/usr/local/lib/python3.7/dist-packages/sklearn/ensemble/_forest.py:756: UserWarning: class_weight presets \"balanced\" or \"balanced_subsample\" are not recommended for warm_start if the fitted data differs from the full dataset. In order to use \"balanced\" weights, use compute_class_weight (\"balanced\", classes, y). In place of y you can use a large enough sample of the full training set target to properly estimate the class frequency distributions. Pass the resulting weights as the class_weight parameter.\n",
            "  'class_weight presets \"balanced\" or '\n"
          ]
        },
        {
          "output_type": "stream",
          "name": "stdout",
          "text": [
            "[CV 2/5] END bootstrap=False, class_weight=balanced, criterion=gini, max_depth=5, max_features=log2, warm_start=True;, score=0.640 total time=   0.3s\n"
          ]
        },
        {
          "output_type": "stream",
          "name": "stderr",
          "text": [
            "/usr/local/lib/python3.7/dist-packages/sklearn/ensemble/_forest.py:756: UserWarning: class_weight presets \"balanced\" or \"balanced_subsample\" are not recommended for warm_start if the fitted data differs from the full dataset. In order to use \"balanced\" weights, use compute_class_weight (\"balanced\", classes, y). In place of y you can use a large enough sample of the full training set target to properly estimate the class frequency distributions. Pass the resulting weights as the class_weight parameter.\n",
            "  'class_weight presets \"balanced\" or '\n"
          ]
        },
        {
          "output_type": "stream",
          "name": "stdout",
          "text": [
            "[CV 3/5] END bootstrap=False, class_weight=balanced, criterion=gini, max_depth=5, max_features=log2, warm_start=True;, score=0.590 total time=   0.3s\n"
          ]
        },
        {
          "output_type": "stream",
          "name": "stderr",
          "text": [
            "/usr/local/lib/python3.7/dist-packages/sklearn/ensemble/_forest.py:756: UserWarning: class_weight presets \"balanced\" or \"balanced_subsample\" are not recommended for warm_start if the fitted data differs from the full dataset. In order to use \"balanced\" weights, use compute_class_weight (\"balanced\", classes, y). In place of y you can use a large enough sample of the full training set target to properly estimate the class frequency distributions. Pass the resulting weights as the class_weight parameter.\n",
            "  'class_weight presets \"balanced\" or '\n"
          ]
        },
        {
          "output_type": "stream",
          "name": "stdout",
          "text": [
            "[CV 4/5] END bootstrap=False, class_weight=balanced, criterion=gini, max_depth=5, max_features=log2, warm_start=True;, score=0.605 total time=   0.3s\n"
          ]
        },
        {
          "output_type": "stream",
          "name": "stderr",
          "text": [
            "/usr/local/lib/python3.7/dist-packages/sklearn/ensemble/_forest.py:756: UserWarning: class_weight presets \"balanced\" or \"balanced_subsample\" are not recommended for warm_start if the fitted data differs from the full dataset. In order to use \"balanced\" weights, use compute_class_weight (\"balanced\", classes, y). In place of y you can use a large enough sample of the full training set target to properly estimate the class frequency distributions. Pass the resulting weights as the class_weight parameter.\n",
            "  'class_weight presets \"balanced\" or '\n"
          ]
        },
        {
          "output_type": "stream",
          "name": "stdout",
          "text": [
            "[CV 5/5] END bootstrap=False, class_weight=balanced, criterion=gini, max_depth=5, max_features=log2, warm_start=True;, score=0.635 total time=   0.3s\n",
            "[CV 1/5] END bootstrap=False, class_weight=balanced, criterion=entropy, max_depth=2, max_features=auto, warm_start=False;, score=0.620 total time=   0.4s\n",
            "[CV 2/5] END bootstrap=False, class_weight=balanced, criterion=entropy, max_depth=2, max_features=auto, warm_start=False;, score=0.530 total time=   0.4s\n",
            "[CV 3/5] END bootstrap=False, class_weight=balanced, criterion=entropy, max_depth=2, max_features=auto, warm_start=False;, score=0.520 total time=   0.4s\n",
            "[CV 4/5] END bootstrap=False, class_weight=balanced, criterion=entropy, max_depth=2, max_features=auto, warm_start=False;, score=0.525 total time=   0.4s\n",
            "[CV 5/5] END bootstrap=False, class_weight=balanced, criterion=entropy, max_depth=2, max_features=auto, warm_start=False;, score=0.540 total time=   0.4s\n"
          ]
        },
        {
          "output_type": "stream",
          "name": "stderr",
          "text": [
            "/usr/local/lib/python3.7/dist-packages/sklearn/ensemble/_forest.py:756: UserWarning: class_weight presets \"balanced\" or \"balanced_subsample\" are not recommended for warm_start if the fitted data differs from the full dataset. In order to use \"balanced\" weights, use compute_class_weight (\"balanced\", classes, y). In place of y you can use a large enough sample of the full training set target to properly estimate the class frequency distributions. Pass the resulting weights as the class_weight parameter.\n",
            "  'class_weight presets \"balanced\" or '\n"
          ]
        },
        {
          "output_type": "stream",
          "name": "stdout",
          "text": [
            "[CV 1/5] END bootstrap=False, class_weight=balanced, criterion=entropy, max_depth=2, max_features=auto, warm_start=True;, score=0.615 total time=   0.4s\n"
          ]
        },
        {
          "output_type": "stream",
          "name": "stderr",
          "text": [
            "/usr/local/lib/python3.7/dist-packages/sklearn/ensemble/_forest.py:756: UserWarning: class_weight presets \"balanced\" or \"balanced_subsample\" are not recommended for warm_start if the fitted data differs from the full dataset. In order to use \"balanced\" weights, use compute_class_weight (\"balanced\", classes, y). In place of y you can use a large enough sample of the full training set target to properly estimate the class frequency distributions. Pass the resulting weights as the class_weight parameter.\n",
            "  'class_weight presets \"balanced\" or '\n"
          ]
        },
        {
          "output_type": "stream",
          "name": "stdout",
          "text": [
            "[CV 2/5] END bootstrap=False, class_weight=balanced, criterion=entropy, max_depth=2, max_features=auto, warm_start=True;, score=0.550 total time=   0.4s\n"
          ]
        },
        {
          "output_type": "stream",
          "name": "stderr",
          "text": [
            "/usr/local/lib/python3.7/dist-packages/sklearn/ensemble/_forest.py:756: UserWarning: class_weight presets \"balanced\" or \"balanced_subsample\" are not recommended for warm_start if the fitted data differs from the full dataset. In order to use \"balanced\" weights, use compute_class_weight (\"balanced\", classes, y). In place of y you can use a large enough sample of the full training set target to properly estimate the class frequency distributions. Pass the resulting weights as the class_weight parameter.\n",
            "  'class_weight presets \"balanced\" or '\n"
          ]
        },
        {
          "output_type": "stream",
          "name": "stdout",
          "text": [
            "[CV 3/5] END bootstrap=False, class_weight=balanced, criterion=entropy, max_depth=2, max_features=auto, warm_start=True;, score=0.535 total time=   0.4s\n"
          ]
        },
        {
          "output_type": "stream",
          "name": "stderr",
          "text": [
            "/usr/local/lib/python3.7/dist-packages/sklearn/ensemble/_forest.py:756: UserWarning: class_weight presets \"balanced\" or \"balanced_subsample\" are not recommended for warm_start if the fitted data differs from the full dataset. In order to use \"balanced\" weights, use compute_class_weight (\"balanced\", classes, y). In place of y you can use a large enough sample of the full training set target to properly estimate the class frequency distributions. Pass the resulting weights as the class_weight parameter.\n",
            "  'class_weight presets \"balanced\" or '\n"
          ]
        },
        {
          "output_type": "stream",
          "name": "stdout",
          "text": [
            "[CV 4/5] END bootstrap=False, class_weight=balanced, criterion=entropy, max_depth=2, max_features=auto, warm_start=True;, score=0.510 total time=   0.4s\n"
          ]
        },
        {
          "output_type": "stream",
          "name": "stderr",
          "text": [
            "/usr/local/lib/python3.7/dist-packages/sklearn/ensemble/_forest.py:756: UserWarning: class_weight presets \"balanced\" or \"balanced_subsample\" are not recommended for warm_start if the fitted data differs from the full dataset. In order to use \"balanced\" weights, use compute_class_weight (\"balanced\", classes, y). In place of y you can use a large enough sample of the full training set target to properly estimate the class frequency distributions. Pass the resulting weights as the class_weight parameter.\n",
            "  'class_weight presets \"balanced\" or '\n"
          ]
        },
        {
          "output_type": "stream",
          "name": "stdout",
          "text": [
            "[CV 5/5] END bootstrap=False, class_weight=balanced, criterion=entropy, max_depth=2, max_features=auto, warm_start=True;, score=0.525 total time=   0.4s\n",
            "[CV 1/5] END bootstrap=False, class_weight=balanced, criterion=entropy, max_depth=2, max_features=sqrt, warm_start=False;, score=0.590 total time=   0.4s\n",
            "[CV 2/5] END bootstrap=False, class_weight=balanced, criterion=entropy, max_depth=2, max_features=sqrt, warm_start=False;, score=0.570 total time=   0.4s\n",
            "[CV 3/5] END bootstrap=False, class_weight=balanced, criterion=entropy, max_depth=2, max_features=sqrt, warm_start=False;, score=0.510 total time=   0.4s\n",
            "[CV 4/5] END bootstrap=False, class_weight=balanced, criterion=entropy, max_depth=2, max_features=sqrt, warm_start=False;, score=0.505 total time=   0.4s\n",
            "[CV 5/5] END bootstrap=False, class_weight=balanced, criterion=entropy, max_depth=2, max_features=sqrt, warm_start=False;, score=0.510 total time=   0.4s\n"
          ]
        },
        {
          "output_type": "stream",
          "name": "stderr",
          "text": [
            "/usr/local/lib/python3.7/dist-packages/sklearn/ensemble/_forest.py:756: UserWarning: class_weight presets \"balanced\" or \"balanced_subsample\" are not recommended for warm_start if the fitted data differs from the full dataset. In order to use \"balanced\" weights, use compute_class_weight (\"balanced\", classes, y). In place of y you can use a large enough sample of the full training set target to properly estimate the class frequency distributions. Pass the resulting weights as the class_weight parameter.\n",
            "  'class_weight presets \"balanced\" or '\n"
          ]
        },
        {
          "output_type": "stream",
          "name": "stdout",
          "text": [
            "[CV 1/5] END bootstrap=False, class_weight=balanced, criterion=entropy, max_depth=2, max_features=sqrt, warm_start=True;, score=0.585 total time=   0.4s\n"
          ]
        },
        {
          "output_type": "stream",
          "name": "stderr",
          "text": [
            "/usr/local/lib/python3.7/dist-packages/sklearn/ensemble/_forest.py:756: UserWarning: class_weight presets \"balanced\" or \"balanced_subsample\" are not recommended for warm_start if the fitted data differs from the full dataset. In order to use \"balanced\" weights, use compute_class_weight (\"balanced\", classes, y). In place of y you can use a large enough sample of the full training set target to properly estimate the class frequency distributions. Pass the resulting weights as the class_weight parameter.\n",
            "  'class_weight presets \"balanced\" or '\n"
          ]
        },
        {
          "output_type": "stream",
          "name": "stdout",
          "text": [
            "[CV 2/5] END bootstrap=False, class_weight=balanced, criterion=entropy, max_depth=2, max_features=sqrt, warm_start=True;, score=0.470 total time=   0.4s\n"
          ]
        },
        {
          "output_type": "stream",
          "name": "stderr",
          "text": [
            "/usr/local/lib/python3.7/dist-packages/sklearn/ensemble/_forest.py:756: UserWarning: class_weight presets \"balanced\" or \"balanced_subsample\" are not recommended for warm_start if the fitted data differs from the full dataset. In order to use \"balanced\" weights, use compute_class_weight (\"balanced\", classes, y). In place of y you can use a large enough sample of the full training set target to properly estimate the class frequency distributions. Pass the resulting weights as the class_weight parameter.\n",
            "  'class_weight presets \"balanced\" or '\n"
          ]
        },
        {
          "output_type": "stream",
          "name": "stdout",
          "text": [
            "[CV 3/5] END bootstrap=False, class_weight=balanced, criterion=entropy, max_depth=2, max_features=sqrt, warm_start=True;, score=0.535 total time=   0.4s\n"
          ]
        },
        {
          "output_type": "stream",
          "name": "stderr",
          "text": [
            "/usr/local/lib/python3.7/dist-packages/sklearn/ensemble/_forest.py:756: UserWarning: class_weight presets \"balanced\" or \"balanced_subsample\" are not recommended for warm_start if the fitted data differs from the full dataset. In order to use \"balanced\" weights, use compute_class_weight (\"balanced\", classes, y). In place of y you can use a large enough sample of the full training set target to properly estimate the class frequency distributions. Pass the resulting weights as the class_weight parameter.\n",
            "  'class_weight presets \"balanced\" or '\n"
          ]
        },
        {
          "output_type": "stream",
          "name": "stdout",
          "text": [
            "[CV 4/5] END bootstrap=False, class_weight=balanced, criterion=entropy, max_depth=2, max_features=sqrt, warm_start=True;, score=0.490 total time=   0.4s\n"
          ]
        },
        {
          "output_type": "stream",
          "name": "stderr",
          "text": [
            "/usr/local/lib/python3.7/dist-packages/sklearn/ensemble/_forest.py:756: UserWarning: class_weight presets \"balanced\" or \"balanced_subsample\" are not recommended for warm_start if the fitted data differs from the full dataset. In order to use \"balanced\" weights, use compute_class_weight (\"balanced\", classes, y). In place of y you can use a large enough sample of the full training set target to properly estimate the class frequency distributions. Pass the resulting weights as the class_weight parameter.\n",
            "  'class_weight presets \"balanced\" or '\n"
          ]
        },
        {
          "output_type": "stream",
          "name": "stdout",
          "text": [
            "[CV 5/5] END bootstrap=False, class_weight=balanced, criterion=entropy, max_depth=2, max_features=sqrt, warm_start=True;, score=0.555 total time=   0.4s\n",
            "[CV 1/5] END bootstrap=False, class_weight=balanced, criterion=entropy, max_depth=2, max_features=log2, warm_start=False;, score=0.580 total time=   0.4s\n",
            "[CV 2/5] END bootstrap=False, class_weight=balanced, criterion=entropy, max_depth=2, max_features=log2, warm_start=False;, score=0.545 total time=   0.4s\n",
            "[CV 3/5] END bootstrap=False, class_weight=balanced, criterion=entropy, max_depth=2, max_features=log2, warm_start=False;, score=0.520 total time=   0.4s\n",
            "[CV 4/5] END bootstrap=False, class_weight=balanced, criterion=entropy, max_depth=2, max_features=log2, warm_start=False;, score=0.525 total time=   0.4s\n",
            "[CV 5/5] END bootstrap=False, class_weight=balanced, criterion=entropy, max_depth=2, max_features=log2, warm_start=False;, score=0.530 total time=   0.4s\n"
          ]
        },
        {
          "output_type": "stream",
          "name": "stderr",
          "text": [
            "/usr/local/lib/python3.7/dist-packages/sklearn/ensemble/_forest.py:756: UserWarning: class_weight presets \"balanced\" or \"balanced_subsample\" are not recommended for warm_start if the fitted data differs from the full dataset. In order to use \"balanced\" weights, use compute_class_weight (\"balanced\", classes, y). In place of y you can use a large enough sample of the full training set target to properly estimate the class frequency distributions. Pass the resulting weights as the class_weight parameter.\n",
            "  'class_weight presets \"balanced\" or '\n"
          ]
        },
        {
          "output_type": "stream",
          "name": "stdout",
          "text": [
            "[CV 1/5] END bootstrap=False, class_weight=balanced, criterion=entropy, max_depth=2, max_features=log2, warm_start=True;, score=0.640 total time=   0.4s\n"
          ]
        },
        {
          "output_type": "stream",
          "name": "stderr",
          "text": [
            "/usr/local/lib/python3.7/dist-packages/sklearn/ensemble/_forest.py:756: UserWarning: class_weight presets \"balanced\" or \"balanced_subsample\" are not recommended for warm_start if the fitted data differs from the full dataset. In order to use \"balanced\" weights, use compute_class_weight (\"balanced\", classes, y). In place of y you can use a large enough sample of the full training set target to properly estimate the class frequency distributions. Pass the resulting weights as the class_weight parameter.\n",
            "  'class_weight presets \"balanced\" or '\n"
          ]
        },
        {
          "output_type": "stream",
          "name": "stdout",
          "text": [
            "[CV 2/5] END bootstrap=False, class_weight=balanced, criterion=entropy, max_depth=2, max_features=log2, warm_start=True;, score=0.550 total time=   0.4s\n"
          ]
        },
        {
          "output_type": "stream",
          "name": "stderr",
          "text": [
            "/usr/local/lib/python3.7/dist-packages/sklearn/ensemble/_forest.py:756: UserWarning: class_weight presets \"balanced\" or \"balanced_subsample\" are not recommended for warm_start if the fitted data differs from the full dataset. In order to use \"balanced\" weights, use compute_class_weight (\"balanced\", classes, y). In place of y you can use a large enough sample of the full training set target to properly estimate the class frequency distributions. Pass the resulting weights as the class_weight parameter.\n",
            "  'class_weight presets \"balanced\" or '\n"
          ]
        },
        {
          "output_type": "stream",
          "name": "stdout",
          "text": [
            "[CV 3/5] END bootstrap=False, class_weight=balanced, criterion=entropy, max_depth=2, max_features=log2, warm_start=True;, score=0.530 total time=   0.4s\n"
          ]
        },
        {
          "output_type": "stream",
          "name": "stderr",
          "text": [
            "/usr/local/lib/python3.7/dist-packages/sklearn/ensemble/_forest.py:756: UserWarning: class_weight presets \"balanced\" or \"balanced_subsample\" are not recommended for warm_start if the fitted data differs from the full dataset. In order to use \"balanced\" weights, use compute_class_weight (\"balanced\", classes, y). In place of y you can use a large enough sample of the full training set target to properly estimate the class frequency distributions. Pass the resulting weights as the class_weight parameter.\n",
            "  'class_weight presets \"balanced\" or '\n"
          ]
        },
        {
          "output_type": "stream",
          "name": "stdout",
          "text": [
            "[CV 4/5] END bootstrap=False, class_weight=balanced, criterion=entropy, max_depth=2, max_features=log2, warm_start=True;, score=0.450 total time=   0.4s\n"
          ]
        },
        {
          "output_type": "stream",
          "name": "stderr",
          "text": [
            "/usr/local/lib/python3.7/dist-packages/sklearn/ensemble/_forest.py:756: UserWarning: class_weight presets \"balanced\" or \"balanced_subsample\" are not recommended for warm_start if the fitted data differs from the full dataset. In order to use \"balanced\" weights, use compute_class_weight (\"balanced\", classes, y). In place of y you can use a large enough sample of the full training set target to properly estimate the class frequency distributions. Pass the resulting weights as the class_weight parameter.\n",
            "  'class_weight presets \"balanced\" or '\n"
          ]
        },
        {
          "output_type": "stream",
          "name": "stdout",
          "text": [
            "[CV 5/5] END bootstrap=False, class_weight=balanced, criterion=entropy, max_depth=2, max_features=log2, warm_start=True;, score=0.510 total time=   0.4s\n",
            "[CV 1/5] END bootstrap=False, class_weight=balanced, criterion=entropy, max_depth=3, max_features=auto, warm_start=False;, score=0.655 total time=   0.5s\n",
            "[CV 2/5] END bootstrap=False, class_weight=balanced, criterion=entropy, max_depth=3, max_features=auto, warm_start=False;, score=0.605 total time=   0.5s\n",
            "[CV 3/5] END bootstrap=False, class_weight=balanced, criterion=entropy, max_depth=3, max_features=auto, warm_start=False;, score=0.550 total time=   0.5s\n",
            "[CV 4/5] END bootstrap=False, class_weight=balanced, criterion=entropy, max_depth=3, max_features=auto, warm_start=False;, score=0.600 total time=   0.5s\n",
            "[CV 5/5] END bootstrap=False, class_weight=balanced, criterion=entropy, max_depth=3, max_features=auto, warm_start=False;, score=0.575 total time=   0.5s\n"
          ]
        },
        {
          "output_type": "stream",
          "name": "stderr",
          "text": [
            "/usr/local/lib/python3.7/dist-packages/sklearn/ensemble/_forest.py:756: UserWarning: class_weight presets \"balanced\" or \"balanced_subsample\" are not recommended for warm_start if the fitted data differs from the full dataset. In order to use \"balanced\" weights, use compute_class_weight (\"balanced\", classes, y). In place of y you can use a large enough sample of the full training set target to properly estimate the class frequency distributions. Pass the resulting weights as the class_weight parameter.\n",
            "  'class_weight presets \"balanced\" or '\n"
          ]
        },
        {
          "output_type": "stream",
          "name": "stdout",
          "text": [
            "[CV 1/5] END bootstrap=False, class_weight=balanced, criterion=entropy, max_depth=3, max_features=auto, warm_start=True;, score=0.660 total time=   0.5s\n"
          ]
        },
        {
          "output_type": "stream",
          "name": "stderr",
          "text": [
            "/usr/local/lib/python3.7/dist-packages/sklearn/ensemble/_forest.py:756: UserWarning: class_weight presets \"balanced\" or \"balanced_subsample\" are not recommended for warm_start if the fitted data differs from the full dataset. In order to use \"balanced\" weights, use compute_class_weight (\"balanced\", classes, y). In place of y you can use a large enough sample of the full training set target to properly estimate the class frequency distributions. Pass the resulting weights as the class_weight parameter.\n",
            "  'class_weight presets \"balanced\" or '\n"
          ]
        },
        {
          "output_type": "stream",
          "name": "stdout",
          "text": [
            "[CV 2/5] END bootstrap=False, class_weight=balanced, criterion=entropy, max_depth=3, max_features=auto, warm_start=True;, score=0.620 total time=   0.5s\n"
          ]
        },
        {
          "output_type": "stream",
          "name": "stderr",
          "text": [
            "/usr/local/lib/python3.7/dist-packages/sklearn/ensemble/_forest.py:756: UserWarning: class_weight presets \"balanced\" or \"balanced_subsample\" are not recommended for warm_start if the fitted data differs from the full dataset. In order to use \"balanced\" weights, use compute_class_weight (\"balanced\", classes, y). In place of y you can use a large enough sample of the full training set target to properly estimate the class frequency distributions. Pass the resulting weights as the class_weight parameter.\n",
            "  'class_weight presets \"balanced\" or '\n"
          ]
        },
        {
          "output_type": "stream",
          "name": "stdout",
          "text": [
            "[CV 3/5] END bootstrap=False, class_weight=balanced, criterion=entropy, max_depth=3, max_features=auto, warm_start=True;, score=0.585 total time=   0.6s\n"
          ]
        },
        {
          "output_type": "stream",
          "name": "stderr",
          "text": [
            "/usr/local/lib/python3.7/dist-packages/sklearn/ensemble/_forest.py:756: UserWarning: class_weight presets \"balanced\" or \"balanced_subsample\" are not recommended for warm_start if the fitted data differs from the full dataset. In order to use \"balanced\" weights, use compute_class_weight (\"balanced\", classes, y). In place of y you can use a large enough sample of the full training set target to properly estimate the class frequency distributions. Pass the resulting weights as the class_weight parameter.\n",
            "  'class_weight presets \"balanced\" or '\n"
          ]
        },
        {
          "output_type": "stream",
          "name": "stdout",
          "text": [
            "[CV 4/5] END bootstrap=False, class_weight=balanced, criterion=entropy, max_depth=3, max_features=auto, warm_start=True;, score=0.560 total time=   0.5s\n"
          ]
        },
        {
          "output_type": "stream",
          "name": "stderr",
          "text": [
            "/usr/local/lib/python3.7/dist-packages/sklearn/ensemble/_forest.py:756: UserWarning: class_weight presets \"balanced\" or \"balanced_subsample\" are not recommended for warm_start if the fitted data differs from the full dataset. In order to use \"balanced\" weights, use compute_class_weight (\"balanced\", classes, y). In place of y you can use a large enough sample of the full training set target to properly estimate the class frequency distributions. Pass the resulting weights as the class_weight parameter.\n",
            "  'class_weight presets \"balanced\" or '\n"
          ]
        },
        {
          "output_type": "stream",
          "name": "stdout",
          "text": [
            "[CV 5/5] END bootstrap=False, class_weight=balanced, criterion=entropy, max_depth=3, max_features=auto, warm_start=True;, score=0.580 total time=   0.5s\n",
            "[CV 1/5] END bootstrap=False, class_weight=balanced, criterion=entropy, max_depth=3, max_features=sqrt, warm_start=False;, score=0.665 total time=   0.5s\n",
            "[CV 2/5] END bootstrap=False, class_weight=balanced, criterion=entropy, max_depth=3, max_features=sqrt, warm_start=False;, score=0.605 total time=   0.5s\n",
            "[CV 3/5] END bootstrap=False, class_weight=balanced, criterion=entropy, max_depth=3, max_features=sqrt, warm_start=False;, score=0.555 total time=   0.5s\n",
            "[CV 4/5] END bootstrap=False, class_weight=balanced, criterion=entropy, max_depth=3, max_features=sqrt, warm_start=False;, score=0.590 total time=   0.5s\n",
            "[CV 5/5] END bootstrap=False, class_weight=balanced, criterion=entropy, max_depth=3, max_features=sqrt, warm_start=False;, score=0.600 total time=   0.5s\n"
          ]
        },
        {
          "output_type": "stream",
          "name": "stderr",
          "text": [
            "/usr/local/lib/python3.7/dist-packages/sklearn/ensemble/_forest.py:756: UserWarning: class_weight presets \"balanced\" or \"balanced_subsample\" are not recommended for warm_start if the fitted data differs from the full dataset. In order to use \"balanced\" weights, use compute_class_weight (\"balanced\", classes, y). In place of y you can use a large enough sample of the full training set target to properly estimate the class frequency distributions. Pass the resulting weights as the class_weight parameter.\n",
            "  'class_weight presets \"balanced\" or '\n"
          ]
        },
        {
          "output_type": "stream",
          "name": "stdout",
          "text": [
            "[CV 1/5] END bootstrap=False, class_weight=balanced, criterion=entropy, max_depth=3, max_features=sqrt, warm_start=True;, score=0.660 total time=   0.5s\n"
          ]
        },
        {
          "output_type": "stream",
          "name": "stderr",
          "text": [
            "/usr/local/lib/python3.7/dist-packages/sklearn/ensemble/_forest.py:756: UserWarning: class_weight presets \"balanced\" or \"balanced_subsample\" are not recommended for warm_start if the fitted data differs from the full dataset. In order to use \"balanced\" weights, use compute_class_weight (\"balanced\", classes, y). In place of y you can use a large enough sample of the full training set target to properly estimate the class frequency distributions. Pass the resulting weights as the class_weight parameter.\n",
            "  'class_weight presets \"balanced\" or '\n"
          ]
        },
        {
          "output_type": "stream",
          "name": "stdout",
          "text": [
            "[CV 2/5] END bootstrap=False, class_weight=balanced, criterion=entropy, max_depth=3, max_features=sqrt, warm_start=True;, score=0.615 total time=   0.5s\n"
          ]
        },
        {
          "output_type": "stream",
          "name": "stderr",
          "text": [
            "/usr/local/lib/python3.7/dist-packages/sklearn/ensemble/_forest.py:756: UserWarning: class_weight presets \"balanced\" or \"balanced_subsample\" are not recommended for warm_start if the fitted data differs from the full dataset. In order to use \"balanced\" weights, use compute_class_weight (\"balanced\", classes, y). In place of y you can use a large enough sample of the full training set target to properly estimate the class frequency distributions. Pass the resulting weights as the class_weight parameter.\n",
            "  'class_weight presets \"balanced\" or '\n"
          ]
        },
        {
          "output_type": "stream",
          "name": "stdout",
          "text": [
            "[CV 3/5] END bootstrap=False, class_weight=balanced, criterion=entropy, max_depth=3, max_features=sqrt, warm_start=True;, score=0.555 total time=   0.5s\n"
          ]
        },
        {
          "output_type": "stream",
          "name": "stderr",
          "text": [
            "/usr/local/lib/python3.7/dist-packages/sklearn/ensemble/_forest.py:756: UserWarning: class_weight presets \"balanced\" or \"balanced_subsample\" are not recommended for warm_start if the fitted data differs from the full dataset. In order to use \"balanced\" weights, use compute_class_weight (\"balanced\", classes, y). In place of y you can use a large enough sample of the full training set target to properly estimate the class frequency distributions. Pass the resulting weights as the class_weight parameter.\n",
            "  'class_weight presets \"balanced\" or '\n"
          ]
        },
        {
          "output_type": "stream",
          "name": "stdout",
          "text": [
            "[CV 4/5] END bootstrap=False, class_weight=balanced, criterion=entropy, max_depth=3, max_features=sqrt, warm_start=True;, score=0.570 total time=   0.5s\n"
          ]
        },
        {
          "output_type": "stream",
          "name": "stderr",
          "text": [
            "/usr/local/lib/python3.7/dist-packages/sklearn/ensemble/_forest.py:756: UserWarning: class_weight presets \"balanced\" or \"balanced_subsample\" are not recommended for warm_start if the fitted data differs from the full dataset. In order to use \"balanced\" weights, use compute_class_weight (\"balanced\", classes, y). In place of y you can use a large enough sample of the full training set target to properly estimate the class frequency distributions. Pass the resulting weights as the class_weight parameter.\n",
            "  'class_weight presets \"balanced\" or '\n"
          ]
        },
        {
          "output_type": "stream",
          "name": "stdout",
          "text": [
            "[CV 5/5] END bootstrap=False, class_weight=balanced, criterion=entropy, max_depth=3, max_features=sqrt, warm_start=True;, score=0.615 total time=   0.5s\n",
            "[CV 1/5] END bootstrap=False, class_weight=balanced, criterion=entropy, max_depth=3, max_features=log2, warm_start=False;, score=0.675 total time=   0.5s\n",
            "[CV 2/5] END bootstrap=False, class_weight=balanced, criterion=entropy, max_depth=3, max_features=log2, warm_start=False;, score=0.610 total time=   0.5s\n",
            "[CV 3/5] END bootstrap=False, class_weight=balanced, criterion=entropy, max_depth=3, max_features=log2, warm_start=False;, score=0.565 total time=   0.5s\n",
            "[CV 4/5] END bootstrap=False, class_weight=balanced, criterion=entropy, max_depth=3, max_features=log2, warm_start=False;, score=0.565 total time=   0.5s\n",
            "[CV 5/5] END bootstrap=False, class_weight=balanced, criterion=entropy, max_depth=3, max_features=log2, warm_start=False;, score=0.625 total time=   0.5s\n"
          ]
        },
        {
          "output_type": "stream",
          "name": "stderr",
          "text": [
            "/usr/local/lib/python3.7/dist-packages/sklearn/ensemble/_forest.py:756: UserWarning: class_weight presets \"balanced\" or \"balanced_subsample\" are not recommended for warm_start if the fitted data differs from the full dataset. In order to use \"balanced\" weights, use compute_class_weight (\"balanced\", classes, y). In place of y you can use a large enough sample of the full training set target to properly estimate the class frequency distributions. Pass the resulting weights as the class_weight parameter.\n",
            "  'class_weight presets \"balanced\" or '\n"
          ]
        },
        {
          "output_type": "stream",
          "name": "stdout",
          "text": [
            "[CV 1/5] END bootstrap=False, class_weight=balanced, criterion=entropy, max_depth=3, max_features=log2, warm_start=True;, score=0.665 total time=   0.5s\n"
          ]
        },
        {
          "output_type": "stream",
          "name": "stderr",
          "text": [
            "/usr/local/lib/python3.7/dist-packages/sklearn/ensemble/_forest.py:756: UserWarning: class_weight presets \"balanced\" or \"balanced_subsample\" are not recommended for warm_start if the fitted data differs from the full dataset. In order to use \"balanced\" weights, use compute_class_weight (\"balanced\", classes, y). In place of y you can use a large enough sample of the full training set target to properly estimate the class frequency distributions. Pass the resulting weights as the class_weight parameter.\n",
            "  'class_weight presets \"balanced\" or '\n"
          ]
        },
        {
          "output_type": "stream",
          "name": "stdout",
          "text": [
            "[CV 2/5] END bootstrap=False, class_weight=balanced, criterion=entropy, max_depth=3, max_features=log2, warm_start=True;, score=0.615 total time=   0.5s\n"
          ]
        },
        {
          "output_type": "stream",
          "name": "stderr",
          "text": [
            "/usr/local/lib/python3.7/dist-packages/sklearn/ensemble/_forest.py:756: UserWarning: class_weight presets \"balanced\" or \"balanced_subsample\" are not recommended for warm_start if the fitted data differs from the full dataset. In order to use \"balanced\" weights, use compute_class_weight (\"balanced\", classes, y). In place of y you can use a large enough sample of the full training set target to properly estimate the class frequency distributions. Pass the resulting weights as the class_weight parameter.\n",
            "  'class_weight presets \"balanced\" or '\n"
          ]
        },
        {
          "output_type": "stream",
          "name": "stdout",
          "text": [
            "[CV 3/5] END bootstrap=False, class_weight=balanced, criterion=entropy, max_depth=3, max_features=log2, warm_start=True;, score=0.570 total time=   0.5s\n"
          ]
        },
        {
          "output_type": "stream",
          "name": "stderr",
          "text": [
            "/usr/local/lib/python3.7/dist-packages/sklearn/ensemble/_forest.py:756: UserWarning: class_weight presets \"balanced\" or \"balanced_subsample\" are not recommended for warm_start if the fitted data differs from the full dataset. In order to use \"balanced\" weights, use compute_class_weight (\"balanced\", classes, y). In place of y you can use a large enough sample of the full training set target to properly estimate the class frequency distributions. Pass the resulting weights as the class_weight parameter.\n",
            "  'class_weight presets \"balanced\" or '\n"
          ]
        },
        {
          "output_type": "stream",
          "name": "stdout",
          "text": [
            "[CV 4/5] END bootstrap=False, class_weight=balanced, criterion=entropy, max_depth=3, max_features=log2, warm_start=True;, score=0.570 total time=   0.5s\n"
          ]
        },
        {
          "output_type": "stream",
          "name": "stderr",
          "text": [
            "/usr/local/lib/python3.7/dist-packages/sklearn/ensemble/_forest.py:756: UserWarning: class_weight presets \"balanced\" or \"balanced_subsample\" are not recommended for warm_start if the fitted data differs from the full dataset. In order to use \"balanced\" weights, use compute_class_weight (\"balanced\", classes, y). In place of y you can use a large enough sample of the full training set target to properly estimate the class frequency distributions. Pass the resulting weights as the class_weight parameter.\n",
            "  'class_weight presets \"balanced\" or '\n"
          ]
        },
        {
          "output_type": "stream",
          "name": "stdout",
          "text": [
            "[CV 5/5] END bootstrap=False, class_weight=balanced, criterion=entropy, max_depth=3, max_features=log2, warm_start=True;, score=0.600 total time=   0.6s\n",
            "[CV 1/5] END bootstrap=False, class_weight=balanced, criterion=entropy, max_depth=5, max_features=auto, warm_start=False;, score=0.695 total time=   0.8s\n",
            "[CV 2/5] END bootstrap=False, class_weight=balanced, criterion=entropy, max_depth=5, max_features=auto, warm_start=False;, score=0.650 total time=   0.8s\n",
            "[CV 3/5] END bootstrap=False, class_weight=balanced, criterion=entropy, max_depth=5, max_features=auto, warm_start=False;, score=0.630 total time=   0.8s\n",
            "[CV 4/5] END bootstrap=False, class_weight=balanced, criterion=entropy, max_depth=5, max_features=auto, warm_start=False;, score=0.640 total time=   0.8s\n",
            "[CV 5/5] END bootstrap=False, class_weight=balanced, criterion=entropy, max_depth=5, max_features=auto, warm_start=False;, score=0.635 total time=   0.8s\n"
          ]
        },
        {
          "output_type": "stream",
          "name": "stderr",
          "text": [
            "/usr/local/lib/python3.7/dist-packages/sklearn/ensemble/_forest.py:756: UserWarning: class_weight presets \"balanced\" or \"balanced_subsample\" are not recommended for warm_start if the fitted data differs from the full dataset. In order to use \"balanced\" weights, use compute_class_weight (\"balanced\", classes, y). In place of y you can use a large enough sample of the full training set target to properly estimate the class frequency distributions. Pass the resulting weights as the class_weight parameter.\n",
            "  'class_weight presets \"balanced\" or '\n"
          ]
        },
        {
          "output_type": "stream",
          "name": "stdout",
          "text": [
            "[CV 1/5] END bootstrap=False, class_weight=balanced, criterion=entropy, max_depth=5, max_features=auto, warm_start=True;, score=0.675 total time=   0.8s\n"
          ]
        },
        {
          "output_type": "stream",
          "name": "stderr",
          "text": [
            "/usr/local/lib/python3.7/dist-packages/sklearn/ensemble/_forest.py:756: UserWarning: class_weight presets \"balanced\" or \"balanced_subsample\" are not recommended for warm_start if the fitted data differs from the full dataset. In order to use \"balanced\" weights, use compute_class_weight (\"balanced\", classes, y). In place of y you can use a large enough sample of the full training set target to properly estimate the class frequency distributions. Pass the resulting weights as the class_weight parameter.\n",
            "  'class_weight presets \"balanced\" or '\n"
          ]
        },
        {
          "output_type": "stream",
          "name": "stdout",
          "text": [
            "[CV 2/5] END bootstrap=False, class_weight=balanced, criterion=entropy, max_depth=5, max_features=auto, warm_start=True;, score=0.660 total time=   0.8s\n"
          ]
        },
        {
          "output_type": "stream",
          "name": "stderr",
          "text": [
            "/usr/local/lib/python3.7/dist-packages/sklearn/ensemble/_forest.py:756: UserWarning: class_weight presets \"balanced\" or \"balanced_subsample\" are not recommended for warm_start if the fitted data differs from the full dataset. In order to use \"balanced\" weights, use compute_class_weight (\"balanced\", classes, y). In place of y you can use a large enough sample of the full training set target to properly estimate the class frequency distributions. Pass the resulting weights as the class_weight parameter.\n",
            "  'class_weight presets \"balanced\" or '\n"
          ]
        },
        {
          "output_type": "stream",
          "name": "stdout",
          "text": [
            "[CV 3/5] END bootstrap=False, class_weight=balanced, criterion=entropy, max_depth=5, max_features=auto, warm_start=True;, score=0.625 total time=   0.8s\n"
          ]
        },
        {
          "output_type": "stream",
          "name": "stderr",
          "text": [
            "/usr/local/lib/python3.7/dist-packages/sklearn/ensemble/_forest.py:756: UserWarning: class_weight presets \"balanced\" or \"balanced_subsample\" are not recommended for warm_start if the fitted data differs from the full dataset. In order to use \"balanced\" weights, use compute_class_weight (\"balanced\", classes, y). In place of y you can use a large enough sample of the full training set target to properly estimate the class frequency distributions. Pass the resulting weights as the class_weight parameter.\n",
            "  'class_weight presets \"balanced\" or '\n"
          ]
        },
        {
          "output_type": "stream",
          "name": "stdout",
          "text": [
            "[CV 4/5] END bootstrap=False, class_weight=balanced, criterion=entropy, max_depth=5, max_features=auto, warm_start=True;, score=0.630 total time=   0.8s\n"
          ]
        },
        {
          "output_type": "stream",
          "name": "stderr",
          "text": [
            "/usr/local/lib/python3.7/dist-packages/sklearn/ensemble/_forest.py:756: UserWarning: class_weight presets \"balanced\" or \"balanced_subsample\" are not recommended for warm_start if the fitted data differs from the full dataset. In order to use \"balanced\" weights, use compute_class_weight (\"balanced\", classes, y). In place of y you can use a large enough sample of the full training set target to properly estimate the class frequency distributions. Pass the resulting weights as the class_weight parameter.\n",
            "  'class_weight presets \"balanced\" or '\n"
          ]
        },
        {
          "output_type": "stream",
          "name": "stdout",
          "text": [
            "[CV 5/5] END bootstrap=False, class_weight=balanced, criterion=entropy, max_depth=5, max_features=auto, warm_start=True;, score=0.625 total time=   0.8s\n",
            "[CV 1/5] END bootstrap=False, class_weight=balanced, criterion=entropy, max_depth=5, max_features=sqrt, warm_start=False;, score=0.685 total time=   0.8s\n",
            "[CV 2/5] END bootstrap=False, class_weight=balanced, criterion=entropy, max_depth=5, max_features=sqrt, warm_start=False;, score=0.660 total time=   0.8s\n",
            "[CV 3/5] END bootstrap=False, class_weight=balanced, criterion=entropy, max_depth=5, max_features=sqrt, warm_start=False;, score=0.600 total time=   0.8s\n",
            "[CV 4/5] END bootstrap=False, class_weight=balanced, criterion=entropy, max_depth=5, max_features=sqrt, warm_start=False;, score=0.640 total time=   0.8s\n",
            "[CV 5/5] END bootstrap=False, class_weight=balanced, criterion=entropy, max_depth=5, max_features=sqrt, warm_start=False;, score=0.625 total time=   0.8s\n"
          ]
        },
        {
          "output_type": "stream",
          "name": "stderr",
          "text": [
            "/usr/local/lib/python3.7/dist-packages/sklearn/ensemble/_forest.py:756: UserWarning: class_weight presets \"balanced\" or \"balanced_subsample\" are not recommended for warm_start if the fitted data differs from the full dataset. In order to use \"balanced\" weights, use compute_class_weight (\"balanced\", classes, y). In place of y you can use a large enough sample of the full training set target to properly estimate the class frequency distributions. Pass the resulting weights as the class_weight parameter.\n",
            "  'class_weight presets \"balanced\" or '\n"
          ]
        },
        {
          "output_type": "stream",
          "name": "stdout",
          "text": [
            "[CV 1/5] END bootstrap=False, class_weight=balanced, criterion=entropy, max_depth=5, max_features=sqrt, warm_start=True;, score=0.705 total time=   0.8s\n"
          ]
        },
        {
          "output_type": "stream",
          "name": "stderr",
          "text": [
            "/usr/local/lib/python3.7/dist-packages/sklearn/ensemble/_forest.py:756: UserWarning: class_weight presets \"balanced\" or \"balanced_subsample\" are not recommended for warm_start if the fitted data differs from the full dataset. In order to use \"balanced\" weights, use compute_class_weight (\"balanced\", classes, y). In place of y you can use a large enough sample of the full training set target to properly estimate the class frequency distributions. Pass the resulting weights as the class_weight parameter.\n",
            "  'class_weight presets \"balanced\" or '\n"
          ]
        },
        {
          "output_type": "stream",
          "name": "stdout",
          "text": [
            "[CV 2/5] END bootstrap=False, class_weight=balanced, criterion=entropy, max_depth=5, max_features=sqrt, warm_start=True;, score=0.650 total time=   0.8s\n"
          ]
        },
        {
          "output_type": "stream",
          "name": "stderr",
          "text": [
            "/usr/local/lib/python3.7/dist-packages/sklearn/ensemble/_forest.py:756: UserWarning: class_weight presets \"balanced\" or \"balanced_subsample\" are not recommended for warm_start if the fitted data differs from the full dataset. In order to use \"balanced\" weights, use compute_class_weight (\"balanced\", classes, y). In place of y you can use a large enough sample of the full training set target to properly estimate the class frequency distributions. Pass the resulting weights as the class_weight parameter.\n",
            "  'class_weight presets \"balanced\" or '\n"
          ]
        },
        {
          "output_type": "stream",
          "name": "stdout",
          "text": [
            "[CV 3/5] END bootstrap=False, class_weight=balanced, criterion=entropy, max_depth=5, max_features=sqrt, warm_start=True;, score=0.610 total time=   0.8s\n"
          ]
        },
        {
          "output_type": "stream",
          "name": "stderr",
          "text": [
            "/usr/local/lib/python3.7/dist-packages/sklearn/ensemble/_forest.py:756: UserWarning: class_weight presets \"balanced\" or \"balanced_subsample\" are not recommended for warm_start if the fitted data differs from the full dataset. In order to use \"balanced\" weights, use compute_class_weight (\"balanced\", classes, y). In place of y you can use a large enough sample of the full training set target to properly estimate the class frequency distributions. Pass the resulting weights as the class_weight parameter.\n",
            "  'class_weight presets \"balanced\" or '\n"
          ]
        },
        {
          "output_type": "stream",
          "name": "stdout",
          "text": [
            "[CV 4/5] END bootstrap=False, class_weight=balanced, criterion=entropy, max_depth=5, max_features=sqrt, warm_start=True;, score=0.635 total time=   0.8s\n"
          ]
        },
        {
          "output_type": "stream",
          "name": "stderr",
          "text": [
            "/usr/local/lib/python3.7/dist-packages/sklearn/ensemble/_forest.py:756: UserWarning: class_weight presets \"balanced\" or \"balanced_subsample\" are not recommended for warm_start if the fitted data differs from the full dataset. In order to use \"balanced\" weights, use compute_class_weight (\"balanced\", classes, y). In place of y you can use a large enough sample of the full training set target to properly estimate the class frequency distributions. Pass the resulting weights as the class_weight parameter.\n",
            "  'class_weight presets \"balanced\" or '\n"
          ]
        },
        {
          "output_type": "stream",
          "name": "stdout",
          "text": [
            "[CV 5/5] END bootstrap=False, class_weight=balanced, criterion=entropy, max_depth=5, max_features=sqrt, warm_start=True;, score=0.615 total time=   0.8s\n",
            "[CV 1/5] END bootstrap=False, class_weight=balanced, criterion=entropy, max_depth=5, max_features=log2, warm_start=False;, score=0.690 total time=   0.8s\n",
            "[CV 2/5] END bootstrap=False, class_weight=balanced, criterion=entropy, max_depth=5, max_features=log2, warm_start=False;, score=0.640 total time=   0.8s\n",
            "[CV 3/5] END bootstrap=False, class_weight=balanced, criterion=entropy, max_depth=5, max_features=log2, warm_start=False;, score=0.595 total time=   0.8s\n",
            "[CV 4/5] END bootstrap=False, class_weight=balanced, criterion=entropy, max_depth=5, max_features=log2, warm_start=False;, score=0.600 total time=   0.8s\n",
            "[CV 5/5] END bootstrap=False, class_weight=balanced, criterion=entropy, max_depth=5, max_features=log2, warm_start=False;, score=0.620 total time=   0.8s\n"
          ]
        },
        {
          "output_type": "stream",
          "name": "stderr",
          "text": [
            "/usr/local/lib/python3.7/dist-packages/sklearn/ensemble/_forest.py:756: UserWarning: class_weight presets \"balanced\" or \"balanced_subsample\" are not recommended for warm_start if the fitted data differs from the full dataset. In order to use \"balanced\" weights, use compute_class_weight (\"balanced\", classes, y). In place of y you can use a large enough sample of the full training set target to properly estimate the class frequency distributions. Pass the resulting weights as the class_weight parameter.\n",
            "  'class_weight presets \"balanced\" or '\n"
          ]
        },
        {
          "output_type": "stream",
          "name": "stdout",
          "text": [
            "[CV 1/5] END bootstrap=False, class_weight=balanced, criterion=entropy, max_depth=5, max_features=log2, warm_start=True;, score=0.670 total time=   0.8s\n"
          ]
        },
        {
          "output_type": "stream",
          "name": "stderr",
          "text": [
            "/usr/local/lib/python3.7/dist-packages/sklearn/ensemble/_forest.py:756: UserWarning: class_weight presets \"balanced\" or \"balanced_subsample\" are not recommended for warm_start if the fitted data differs from the full dataset. In order to use \"balanced\" weights, use compute_class_weight (\"balanced\", classes, y). In place of y you can use a large enough sample of the full training set target to properly estimate the class frequency distributions. Pass the resulting weights as the class_weight parameter.\n",
            "  'class_weight presets \"balanced\" or '\n"
          ]
        },
        {
          "output_type": "stream",
          "name": "stdout",
          "text": [
            "[CV 2/5] END bootstrap=False, class_weight=balanced, criterion=entropy, max_depth=5, max_features=log2, warm_start=True;, score=0.665 total time=   0.8s\n"
          ]
        },
        {
          "output_type": "stream",
          "name": "stderr",
          "text": [
            "/usr/local/lib/python3.7/dist-packages/sklearn/ensemble/_forest.py:756: UserWarning: class_weight presets \"balanced\" or \"balanced_subsample\" are not recommended for warm_start if the fitted data differs from the full dataset. In order to use \"balanced\" weights, use compute_class_weight (\"balanced\", classes, y). In place of y you can use a large enough sample of the full training set target to properly estimate the class frequency distributions. Pass the resulting weights as the class_weight parameter.\n",
            "  'class_weight presets \"balanced\" or '\n"
          ]
        },
        {
          "output_type": "stream",
          "name": "stdout",
          "text": [
            "[CV 3/5] END bootstrap=False, class_weight=balanced, criterion=entropy, max_depth=5, max_features=log2, warm_start=True;, score=0.620 total time=   0.8s\n"
          ]
        },
        {
          "output_type": "stream",
          "name": "stderr",
          "text": [
            "/usr/local/lib/python3.7/dist-packages/sklearn/ensemble/_forest.py:756: UserWarning: class_weight presets \"balanced\" or \"balanced_subsample\" are not recommended for warm_start if the fitted data differs from the full dataset. In order to use \"balanced\" weights, use compute_class_weight (\"balanced\", classes, y). In place of y you can use a large enough sample of the full training set target to properly estimate the class frequency distributions. Pass the resulting weights as the class_weight parameter.\n",
            "  'class_weight presets \"balanced\" or '\n"
          ]
        },
        {
          "output_type": "stream",
          "name": "stdout",
          "text": [
            "[CV 4/5] END bootstrap=False, class_weight=balanced, criterion=entropy, max_depth=5, max_features=log2, warm_start=True;, score=0.610 total time=   0.8s\n"
          ]
        },
        {
          "output_type": "stream",
          "name": "stderr",
          "text": [
            "/usr/local/lib/python3.7/dist-packages/sklearn/ensemble/_forest.py:756: UserWarning: class_weight presets \"balanced\" or \"balanced_subsample\" are not recommended for warm_start if the fitted data differs from the full dataset. In order to use \"balanced\" weights, use compute_class_weight (\"balanced\", classes, y). In place of y you can use a large enough sample of the full training set target to properly estimate the class frequency distributions. Pass the resulting weights as the class_weight parameter.\n",
            "  'class_weight presets \"balanced\" or '\n"
          ]
        },
        {
          "output_type": "stream",
          "name": "stdout",
          "text": [
            "[CV 5/5] END bootstrap=False, class_weight=balanced, criterion=entropy, max_depth=5, max_features=log2, warm_start=True;, score=0.625 total time=   0.8s\n",
            "[CV 1/5] END bootstrap=False, class_weight=balanced_subsample, criterion=gini, max_depth=2, max_features=auto, warm_start=False;, score=0.570 total time=   0.2s\n",
            "[CV 2/5] END bootstrap=False, class_weight=balanced_subsample, criterion=gini, max_depth=2, max_features=auto, warm_start=False;, score=0.520 total time=   0.2s\n",
            "[CV 3/5] END bootstrap=False, class_weight=balanced_subsample, criterion=gini, max_depth=2, max_features=auto, warm_start=False;, score=0.520 total time=   0.2s\n",
            "[CV 4/5] END bootstrap=False, class_weight=balanced_subsample, criterion=gini, max_depth=2, max_features=auto, warm_start=False;, score=0.515 total time=   0.2s\n",
            "[CV 5/5] END bootstrap=False, class_weight=balanced_subsample, criterion=gini, max_depth=2, max_features=auto, warm_start=False;, score=0.515 total time=   0.2s\n"
          ]
        },
        {
          "output_type": "stream",
          "name": "stderr",
          "text": [
            "/usr/local/lib/python3.7/dist-packages/sklearn/ensemble/_forest.py:756: UserWarning: class_weight presets \"balanced\" or \"balanced_subsample\" are not recommended for warm_start if the fitted data differs from the full dataset. In order to use \"balanced\" weights, use compute_class_weight (\"balanced\", classes, y). In place of y you can use a large enough sample of the full training set target to properly estimate the class frequency distributions. Pass the resulting weights as the class_weight parameter.\n",
            "  'class_weight presets \"balanced\" or '\n"
          ]
        },
        {
          "output_type": "stream",
          "name": "stdout",
          "text": [
            "[CV 1/5] END bootstrap=False, class_weight=balanced_subsample, criterion=gini, max_depth=2, max_features=auto, warm_start=True;, score=0.580 total time=   0.2s\n"
          ]
        },
        {
          "output_type": "stream",
          "name": "stderr",
          "text": [
            "/usr/local/lib/python3.7/dist-packages/sklearn/ensemble/_forest.py:756: UserWarning: class_weight presets \"balanced\" or \"balanced_subsample\" are not recommended for warm_start if the fitted data differs from the full dataset. In order to use \"balanced\" weights, use compute_class_weight (\"balanced\", classes, y). In place of y you can use a large enough sample of the full training set target to properly estimate the class frequency distributions. Pass the resulting weights as the class_weight parameter.\n",
            "  'class_weight presets \"balanced\" or '\n"
          ]
        },
        {
          "output_type": "stream",
          "name": "stdout",
          "text": [
            "[CV 2/5] END bootstrap=False, class_weight=balanced_subsample, criterion=gini, max_depth=2, max_features=auto, warm_start=True;, score=0.540 total time=   0.2s\n"
          ]
        },
        {
          "output_type": "stream",
          "name": "stderr",
          "text": [
            "/usr/local/lib/python3.7/dist-packages/sklearn/ensemble/_forest.py:756: UserWarning: class_weight presets \"balanced\" or \"balanced_subsample\" are not recommended for warm_start if the fitted data differs from the full dataset. In order to use \"balanced\" weights, use compute_class_weight (\"balanced\", classes, y). In place of y you can use a large enough sample of the full training set target to properly estimate the class frequency distributions. Pass the resulting weights as the class_weight parameter.\n",
            "  'class_weight presets \"balanced\" or '\n"
          ]
        },
        {
          "output_type": "stream",
          "name": "stdout",
          "text": [
            "[CV 3/5] END bootstrap=False, class_weight=balanced_subsample, criterion=gini, max_depth=2, max_features=auto, warm_start=True;, score=0.560 total time=   0.2s\n"
          ]
        },
        {
          "output_type": "stream",
          "name": "stderr",
          "text": [
            "/usr/local/lib/python3.7/dist-packages/sklearn/ensemble/_forest.py:756: UserWarning: class_weight presets \"balanced\" or \"balanced_subsample\" are not recommended for warm_start if the fitted data differs from the full dataset. In order to use \"balanced\" weights, use compute_class_weight (\"balanced\", classes, y). In place of y you can use a large enough sample of the full training set target to properly estimate the class frequency distributions. Pass the resulting weights as the class_weight parameter.\n",
            "  'class_weight presets \"balanced\" or '\n"
          ]
        },
        {
          "output_type": "stream",
          "name": "stdout",
          "text": [
            "[CV 4/5] END bootstrap=False, class_weight=balanced_subsample, criterion=gini, max_depth=2, max_features=auto, warm_start=True;, score=0.505 total time=   0.2s\n"
          ]
        },
        {
          "output_type": "stream",
          "name": "stderr",
          "text": [
            "/usr/local/lib/python3.7/dist-packages/sklearn/ensemble/_forest.py:756: UserWarning: class_weight presets \"balanced\" or \"balanced_subsample\" are not recommended for warm_start if the fitted data differs from the full dataset. In order to use \"balanced\" weights, use compute_class_weight (\"balanced\", classes, y). In place of y you can use a large enough sample of the full training set target to properly estimate the class frequency distributions. Pass the resulting weights as the class_weight parameter.\n",
            "  'class_weight presets \"balanced\" or '\n"
          ]
        },
        {
          "output_type": "stream",
          "name": "stdout",
          "text": [
            "[CV 5/5] END bootstrap=False, class_weight=balanced_subsample, criterion=gini, max_depth=2, max_features=auto, warm_start=True;, score=0.480 total time=   0.2s\n",
            "[CV 1/5] END bootstrap=False, class_weight=balanced_subsample, criterion=gini, max_depth=2, max_features=sqrt, warm_start=False;, score=0.630 total time=   0.2s\n",
            "[CV 2/5] END bootstrap=False, class_weight=balanced_subsample, criterion=gini, max_depth=2, max_features=sqrt, warm_start=False;, score=0.550 total time=   0.2s\n",
            "[CV 3/5] END bootstrap=False, class_weight=balanced_subsample, criterion=gini, max_depth=2, max_features=sqrt, warm_start=False;, score=0.500 total time=   0.2s\n",
            "[CV 4/5] END bootstrap=False, class_weight=balanced_subsample, criterion=gini, max_depth=2, max_features=sqrt, warm_start=False;, score=0.495 total time=   0.2s\n",
            "[CV 5/5] END bootstrap=False, class_weight=balanced_subsample, criterion=gini, max_depth=2, max_features=sqrt, warm_start=False;, score=0.490 total time=   0.2s\n"
          ]
        },
        {
          "output_type": "stream",
          "name": "stderr",
          "text": [
            "/usr/local/lib/python3.7/dist-packages/sklearn/ensemble/_forest.py:756: UserWarning: class_weight presets \"balanced\" or \"balanced_subsample\" are not recommended for warm_start if the fitted data differs from the full dataset. In order to use \"balanced\" weights, use compute_class_weight (\"balanced\", classes, y). In place of y you can use a large enough sample of the full training set target to properly estimate the class frequency distributions. Pass the resulting weights as the class_weight parameter.\n",
            "  'class_weight presets \"balanced\" or '\n"
          ]
        },
        {
          "output_type": "stream",
          "name": "stdout",
          "text": [
            "[CV 1/5] END bootstrap=False, class_weight=balanced_subsample, criterion=gini, max_depth=2, max_features=sqrt, warm_start=True;, score=0.560 total time=   0.2s\n"
          ]
        },
        {
          "output_type": "stream",
          "name": "stderr",
          "text": [
            "/usr/local/lib/python3.7/dist-packages/sklearn/ensemble/_forest.py:756: UserWarning: class_weight presets \"balanced\" or \"balanced_subsample\" are not recommended for warm_start if the fitted data differs from the full dataset. In order to use \"balanced\" weights, use compute_class_weight (\"balanced\", classes, y). In place of y you can use a large enough sample of the full training set target to properly estimate the class frequency distributions. Pass the resulting weights as the class_weight parameter.\n",
            "  'class_weight presets \"balanced\" or '\n"
          ]
        },
        {
          "output_type": "stream",
          "name": "stdout",
          "text": [
            "[CV 2/5] END bootstrap=False, class_weight=balanced_subsample, criterion=gini, max_depth=2, max_features=sqrt, warm_start=True;, score=0.540 total time=   0.2s\n"
          ]
        },
        {
          "output_type": "stream",
          "name": "stderr",
          "text": [
            "/usr/local/lib/python3.7/dist-packages/sklearn/ensemble/_forest.py:756: UserWarning: class_weight presets \"balanced\" or \"balanced_subsample\" are not recommended for warm_start if the fitted data differs from the full dataset. In order to use \"balanced\" weights, use compute_class_weight (\"balanced\", classes, y). In place of y you can use a large enough sample of the full training set target to properly estimate the class frequency distributions. Pass the resulting weights as the class_weight parameter.\n",
            "  'class_weight presets \"balanced\" or '\n"
          ]
        },
        {
          "output_type": "stream",
          "name": "stdout",
          "text": [
            "[CV 3/5] END bootstrap=False, class_weight=balanced_subsample, criterion=gini, max_depth=2, max_features=sqrt, warm_start=True;, score=0.520 total time=   0.2s\n"
          ]
        },
        {
          "output_type": "stream",
          "name": "stderr",
          "text": [
            "/usr/local/lib/python3.7/dist-packages/sklearn/ensemble/_forest.py:756: UserWarning: class_weight presets \"balanced\" or \"balanced_subsample\" are not recommended for warm_start if the fitted data differs from the full dataset. In order to use \"balanced\" weights, use compute_class_weight (\"balanced\", classes, y). In place of y you can use a large enough sample of the full training set target to properly estimate the class frequency distributions. Pass the resulting weights as the class_weight parameter.\n",
            "  'class_weight presets \"balanced\" or '\n"
          ]
        },
        {
          "output_type": "stream",
          "name": "stdout",
          "text": [
            "[CV 4/5] END bootstrap=False, class_weight=balanced_subsample, criterion=gini, max_depth=2, max_features=sqrt, warm_start=True;, score=0.515 total time=   0.2s\n"
          ]
        },
        {
          "output_type": "stream",
          "name": "stderr",
          "text": [
            "/usr/local/lib/python3.7/dist-packages/sklearn/ensemble/_forest.py:756: UserWarning: class_weight presets \"balanced\" or \"balanced_subsample\" are not recommended for warm_start if the fitted data differs from the full dataset. In order to use \"balanced\" weights, use compute_class_weight (\"balanced\", classes, y). In place of y you can use a large enough sample of the full training set target to properly estimate the class frequency distributions. Pass the resulting weights as the class_weight parameter.\n",
            "  'class_weight presets \"balanced\" or '\n"
          ]
        },
        {
          "output_type": "stream",
          "name": "stdout",
          "text": [
            "[CV 5/5] END bootstrap=False, class_weight=balanced_subsample, criterion=gini, max_depth=2, max_features=sqrt, warm_start=True;, score=0.510 total time=   0.2s\n",
            "[CV 1/5] END bootstrap=False, class_weight=balanced_subsample, criterion=gini, max_depth=2, max_features=log2, warm_start=False;, score=0.580 total time=   0.2s\n",
            "[CV 2/5] END bootstrap=False, class_weight=balanced_subsample, criterion=gini, max_depth=2, max_features=log2, warm_start=False;, score=0.530 total time=   0.2s\n",
            "[CV 3/5] END bootstrap=False, class_weight=balanced_subsample, criterion=gini, max_depth=2, max_features=log2, warm_start=False;, score=0.510 total time=   0.2s\n",
            "[CV 4/5] END bootstrap=False, class_weight=balanced_subsample, criterion=gini, max_depth=2, max_features=log2, warm_start=False;, score=0.495 total time=   0.2s\n",
            "[CV 5/5] END bootstrap=False, class_weight=balanced_subsample, criterion=gini, max_depth=2, max_features=log2, warm_start=False;, score=0.520 total time=   0.2s\n"
          ]
        },
        {
          "output_type": "stream",
          "name": "stderr",
          "text": [
            "/usr/local/lib/python3.7/dist-packages/sklearn/ensemble/_forest.py:756: UserWarning: class_weight presets \"balanced\" or \"balanced_subsample\" are not recommended for warm_start if the fitted data differs from the full dataset. In order to use \"balanced\" weights, use compute_class_weight (\"balanced\", classes, y). In place of y you can use a large enough sample of the full training set target to properly estimate the class frequency distributions. Pass the resulting weights as the class_weight parameter.\n",
            "  'class_weight presets \"balanced\" or '\n"
          ]
        },
        {
          "output_type": "stream",
          "name": "stdout",
          "text": [
            "[CV 1/5] END bootstrap=False, class_weight=balanced_subsample, criterion=gini, max_depth=2, max_features=log2, warm_start=True;, score=0.595 total time=   0.2s\n"
          ]
        },
        {
          "output_type": "stream",
          "name": "stderr",
          "text": [
            "/usr/local/lib/python3.7/dist-packages/sklearn/ensemble/_forest.py:756: UserWarning: class_weight presets \"balanced\" or \"balanced_subsample\" are not recommended for warm_start if the fitted data differs from the full dataset. In order to use \"balanced\" weights, use compute_class_weight (\"balanced\", classes, y). In place of y you can use a large enough sample of the full training set target to properly estimate the class frequency distributions. Pass the resulting weights as the class_weight parameter.\n",
            "  'class_weight presets \"balanced\" or '\n"
          ]
        },
        {
          "output_type": "stream",
          "name": "stdout",
          "text": [
            "[CV 2/5] END bootstrap=False, class_weight=balanced_subsample, criterion=gini, max_depth=2, max_features=log2, warm_start=True;, score=0.520 total time=   0.2s\n"
          ]
        },
        {
          "output_type": "stream",
          "name": "stderr",
          "text": [
            "/usr/local/lib/python3.7/dist-packages/sklearn/ensemble/_forest.py:756: UserWarning: class_weight presets \"balanced\" or \"balanced_subsample\" are not recommended for warm_start if the fitted data differs from the full dataset. In order to use \"balanced\" weights, use compute_class_weight (\"balanced\", classes, y). In place of y you can use a large enough sample of the full training set target to properly estimate the class frequency distributions. Pass the resulting weights as the class_weight parameter.\n",
            "  'class_weight presets \"balanced\" or '\n"
          ]
        },
        {
          "output_type": "stream",
          "name": "stdout",
          "text": [
            "[CV 3/5] END bootstrap=False, class_weight=balanced_subsample, criterion=gini, max_depth=2, max_features=log2, warm_start=True;, score=0.525 total time=   0.2s\n"
          ]
        },
        {
          "output_type": "stream",
          "name": "stderr",
          "text": [
            "/usr/local/lib/python3.7/dist-packages/sklearn/ensemble/_forest.py:756: UserWarning: class_weight presets \"balanced\" or \"balanced_subsample\" are not recommended for warm_start if the fitted data differs from the full dataset. In order to use \"balanced\" weights, use compute_class_weight (\"balanced\", classes, y). In place of y you can use a large enough sample of the full training set target to properly estimate the class frequency distributions. Pass the resulting weights as the class_weight parameter.\n",
            "  'class_weight presets \"balanced\" or '\n"
          ]
        },
        {
          "output_type": "stream",
          "name": "stdout",
          "text": [
            "[CV 4/5] END bootstrap=False, class_weight=balanced_subsample, criterion=gini, max_depth=2, max_features=log2, warm_start=True;, score=0.500 total time=   0.2s\n"
          ]
        },
        {
          "output_type": "stream",
          "name": "stderr",
          "text": [
            "/usr/local/lib/python3.7/dist-packages/sklearn/ensemble/_forest.py:756: UserWarning: class_weight presets \"balanced\" or \"balanced_subsample\" are not recommended for warm_start if the fitted data differs from the full dataset. In order to use \"balanced\" weights, use compute_class_weight (\"balanced\", classes, y). In place of y you can use a large enough sample of the full training set target to properly estimate the class frequency distributions. Pass the resulting weights as the class_weight parameter.\n",
            "  'class_weight presets \"balanced\" or '\n"
          ]
        },
        {
          "output_type": "stream",
          "name": "stdout",
          "text": [
            "[CV 5/5] END bootstrap=False, class_weight=balanced_subsample, criterion=gini, max_depth=2, max_features=log2, warm_start=True;, score=0.520 total time=   0.2s\n",
            "[CV 1/5] END bootstrap=False, class_weight=balanced_subsample, criterion=gini, max_depth=3, max_features=auto, warm_start=False;, score=0.660 total time=   0.3s\n",
            "[CV 2/5] END bootstrap=False, class_weight=balanced_subsample, criterion=gini, max_depth=3, max_features=auto, warm_start=False;, score=0.615 total time=   0.3s\n",
            "[CV 3/5] END bootstrap=False, class_weight=balanced_subsample, criterion=gini, max_depth=3, max_features=auto, warm_start=False;, score=0.560 total time=   0.3s\n",
            "[CV 4/5] END bootstrap=False, class_weight=balanced_subsample, criterion=gini, max_depth=3, max_features=auto, warm_start=False;, score=0.545 total time=   0.3s\n",
            "[CV 5/5] END bootstrap=False, class_weight=balanced_subsample, criterion=gini, max_depth=3, max_features=auto, warm_start=False;, score=0.565 total time=   0.3s\n"
          ]
        },
        {
          "output_type": "stream",
          "name": "stderr",
          "text": [
            "/usr/local/lib/python3.7/dist-packages/sklearn/ensemble/_forest.py:756: UserWarning: class_weight presets \"balanced\" or \"balanced_subsample\" are not recommended for warm_start if the fitted data differs from the full dataset. In order to use \"balanced\" weights, use compute_class_weight (\"balanced\", classes, y). In place of y you can use a large enough sample of the full training set target to properly estimate the class frequency distributions. Pass the resulting weights as the class_weight parameter.\n",
            "  'class_weight presets \"balanced\" or '\n"
          ]
        },
        {
          "output_type": "stream",
          "name": "stdout",
          "text": [
            "[CV 1/5] END bootstrap=False, class_weight=balanced_subsample, criterion=gini, max_depth=3, max_features=auto, warm_start=True;, score=0.650 total time=   0.3s\n"
          ]
        },
        {
          "output_type": "stream",
          "name": "stderr",
          "text": [
            "/usr/local/lib/python3.7/dist-packages/sklearn/ensemble/_forest.py:756: UserWarning: class_weight presets \"balanced\" or \"balanced_subsample\" are not recommended for warm_start if the fitted data differs from the full dataset. In order to use \"balanced\" weights, use compute_class_weight (\"balanced\", classes, y). In place of y you can use a large enough sample of the full training set target to properly estimate the class frequency distributions. Pass the resulting weights as the class_weight parameter.\n",
            "  'class_weight presets \"balanced\" or '\n"
          ]
        },
        {
          "output_type": "stream",
          "name": "stdout",
          "text": [
            "[CV 2/5] END bootstrap=False, class_weight=balanced_subsample, criterion=gini, max_depth=3, max_features=auto, warm_start=True;, score=0.605 total time=   0.3s\n"
          ]
        },
        {
          "output_type": "stream",
          "name": "stderr",
          "text": [
            "/usr/local/lib/python3.7/dist-packages/sklearn/ensemble/_forest.py:756: UserWarning: class_weight presets \"balanced\" or \"balanced_subsample\" are not recommended for warm_start if the fitted data differs from the full dataset. In order to use \"balanced\" weights, use compute_class_weight (\"balanced\", classes, y). In place of y you can use a large enough sample of the full training set target to properly estimate the class frequency distributions. Pass the resulting weights as the class_weight parameter.\n",
            "  'class_weight presets \"balanced\" or '\n"
          ]
        },
        {
          "output_type": "stream",
          "name": "stdout",
          "text": [
            "[CV 3/5] END bootstrap=False, class_weight=balanced_subsample, criterion=gini, max_depth=3, max_features=auto, warm_start=True;, score=0.575 total time=   0.3s\n"
          ]
        },
        {
          "output_type": "stream",
          "name": "stderr",
          "text": [
            "/usr/local/lib/python3.7/dist-packages/sklearn/ensemble/_forest.py:756: UserWarning: class_weight presets \"balanced\" or \"balanced_subsample\" are not recommended for warm_start if the fitted data differs from the full dataset. In order to use \"balanced\" weights, use compute_class_weight (\"balanced\", classes, y). In place of y you can use a large enough sample of the full training set target to properly estimate the class frequency distributions. Pass the resulting weights as the class_weight parameter.\n",
            "  'class_weight presets \"balanced\" or '\n"
          ]
        },
        {
          "output_type": "stream",
          "name": "stdout",
          "text": [
            "[CV 4/5] END bootstrap=False, class_weight=balanced_subsample, criterion=gini, max_depth=3, max_features=auto, warm_start=True;, score=0.565 total time=   0.3s\n"
          ]
        },
        {
          "output_type": "stream",
          "name": "stderr",
          "text": [
            "/usr/local/lib/python3.7/dist-packages/sklearn/ensemble/_forest.py:756: UserWarning: class_weight presets \"balanced\" or \"balanced_subsample\" are not recommended for warm_start if the fitted data differs from the full dataset. In order to use \"balanced\" weights, use compute_class_weight (\"balanced\", classes, y). In place of y you can use a large enough sample of the full training set target to properly estimate the class frequency distributions. Pass the resulting weights as the class_weight parameter.\n",
            "  'class_weight presets \"balanced\" or '\n"
          ]
        },
        {
          "output_type": "stream",
          "name": "stdout",
          "text": [
            "[CV 5/5] END bootstrap=False, class_weight=balanced_subsample, criterion=gini, max_depth=3, max_features=auto, warm_start=True;, score=0.555 total time=   0.3s\n",
            "[CV 1/5] END bootstrap=False, class_weight=balanced_subsample, criterion=gini, max_depth=3, max_features=sqrt, warm_start=False;, score=0.665 total time=   0.3s\n",
            "[CV 2/5] END bootstrap=False, class_weight=balanced_subsample, criterion=gini, max_depth=3, max_features=sqrt, warm_start=False;, score=0.605 total time=   0.3s\n",
            "[CV 3/5] END bootstrap=False, class_weight=balanced_subsample, criterion=gini, max_depth=3, max_features=sqrt, warm_start=False;, score=0.540 total time=   0.3s\n",
            "[CV 4/5] END bootstrap=False, class_weight=balanced_subsample, criterion=gini, max_depth=3, max_features=sqrt, warm_start=False;, score=0.540 total time=   0.3s\n",
            "[CV 5/5] END bootstrap=False, class_weight=balanced_subsample, criterion=gini, max_depth=3, max_features=sqrt, warm_start=False;, score=0.590 total time=   0.3s\n"
          ]
        },
        {
          "output_type": "stream",
          "name": "stderr",
          "text": [
            "/usr/local/lib/python3.7/dist-packages/sklearn/ensemble/_forest.py:756: UserWarning: class_weight presets \"balanced\" or \"balanced_subsample\" are not recommended for warm_start if the fitted data differs from the full dataset. In order to use \"balanced\" weights, use compute_class_weight (\"balanced\", classes, y). In place of y you can use a large enough sample of the full training set target to properly estimate the class frequency distributions. Pass the resulting weights as the class_weight parameter.\n",
            "  'class_weight presets \"balanced\" or '\n"
          ]
        },
        {
          "output_type": "stream",
          "name": "stdout",
          "text": [
            "[CV 1/5] END bootstrap=False, class_weight=balanced_subsample, criterion=gini, max_depth=3, max_features=sqrt, warm_start=True;, score=0.640 total time=   0.3s\n"
          ]
        },
        {
          "output_type": "stream",
          "name": "stderr",
          "text": [
            "/usr/local/lib/python3.7/dist-packages/sklearn/ensemble/_forest.py:756: UserWarning: class_weight presets \"balanced\" or \"balanced_subsample\" are not recommended for warm_start if the fitted data differs from the full dataset. In order to use \"balanced\" weights, use compute_class_weight (\"balanced\", classes, y). In place of y you can use a large enough sample of the full training set target to properly estimate the class frequency distributions. Pass the resulting weights as the class_weight parameter.\n",
            "  'class_weight presets \"balanced\" or '\n"
          ]
        },
        {
          "output_type": "stream",
          "name": "stdout",
          "text": [
            "[CV 2/5] END bootstrap=False, class_weight=balanced_subsample, criterion=gini, max_depth=3, max_features=sqrt, warm_start=True;, score=0.590 total time=   0.3s\n"
          ]
        },
        {
          "output_type": "stream",
          "name": "stderr",
          "text": [
            "/usr/local/lib/python3.7/dist-packages/sklearn/ensemble/_forest.py:756: UserWarning: class_weight presets \"balanced\" or \"balanced_subsample\" are not recommended for warm_start if the fitted data differs from the full dataset. In order to use \"balanced\" weights, use compute_class_weight (\"balanced\", classes, y). In place of y you can use a large enough sample of the full training set target to properly estimate the class frequency distributions. Pass the resulting weights as the class_weight parameter.\n",
            "  'class_weight presets \"balanced\" or '\n"
          ]
        },
        {
          "output_type": "stream",
          "name": "stdout",
          "text": [
            "[CV 3/5] END bootstrap=False, class_weight=balanced_subsample, criterion=gini, max_depth=3, max_features=sqrt, warm_start=True;, score=0.545 total time=   0.3s\n"
          ]
        },
        {
          "output_type": "stream",
          "name": "stderr",
          "text": [
            "/usr/local/lib/python3.7/dist-packages/sklearn/ensemble/_forest.py:756: UserWarning: class_weight presets \"balanced\" or \"balanced_subsample\" are not recommended for warm_start if the fitted data differs from the full dataset. In order to use \"balanced\" weights, use compute_class_weight (\"balanced\", classes, y). In place of y you can use a large enough sample of the full training set target to properly estimate the class frequency distributions. Pass the resulting weights as the class_weight parameter.\n",
            "  'class_weight presets \"balanced\" or '\n"
          ]
        },
        {
          "output_type": "stream",
          "name": "stdout",
          "text": [
            "[CV 4/5] END bootstrap=False, class_weight=balanced_subsample, criterion=gini, max_depth=3, max_features=sqrt, warm_start=True;, score=0.545 total time=   0.3s\n"
          ]
        },
        {
          "output_type": "stream",
          "name": "stderr",
          "text": [
            "/usr/local/lib/python3.7/dist-packages/sklearn/ensemble/_forest.py:756: UserWarning: class_weight presets \"balanced\" or \"balanced_subsample\" are not recommended for warm_start if the fitted data differs from the full dataset. In order to use \"balanced\" weights, use compute_class_weight (\"balanced\", classes, y). In place of y you can use a large enough sample of the full training set target to properly estimate the class frequency distributions. Pass the resulting weights as the class_weight parameter.\n",
            "  'class_weight presets \"balanced\" or '\n"
          ]
        },
        {
          "output_type": "stream",
          "name": "stdout",
          "text": [
            "[CV 5/5] END bootstrap=False, class_weight=balanced_subsample, criterion=gini, max_depth=3, max_features=sqrt, warm_start=True;, score=0.590 total time=   0.3s\n",
            "[CV 1/5] END bootstrap=False, class_weight=balanced_subsample, criterion=gini, max_depth=3, max_features=log2, warm_start=False;, score=0.660 total time=   0.3s\n",
            "[CV 2/5] END bootstrap=False, class_weight=balanced_subsample, criterion=gini, max_depth=3, max_features=log2, warm_start=False;, score=0.615 total time=   0.3s\n",
            "[CV 3/5] END bootstrap=False, class_weight=balanced_subsample, criterion=gini, max_depth=3, max_features=log2, warm_start=False;, score=0.550 total time=   0.3s\n",
            "[CV 4/5] END bootstrap=False, class_weight=balanced_subsample, criterion=gini, max_depth=3, max_features=log2, warm_start=False;, score=0.565 total time=   0.3s\n",
            "[CV 5/5] END bootstrap=False, class_weight=balanced_subsample, criterion=gini, max_depth=3, max_features=log2, warm_start=False;, score=0.565 total time=   0.3s\n"
          ]
        },
        {
          "output_type": "stream",
          "name": "stderr",
          "text": [
            "/usr/local/lib/python3.7/dist-packages/sklearn/ensemble/_forest.py:756: UserWarning: class_weight presets \"balanced\" or \"balanced_subsample\" are not recommended for warm_start if the fitted data differs from the full dataset. In order to use \"balanced\" weights, use compute_class_weight (\"balanced\", classes, y). In place of y you can use a large enough sample of the full training set target to properly estimate the class frequency distributions. Pass the resulting weights as the class_weight parameter.\n",
            "  'class_weight presets \"balanced\" or '\n"
          ]
        },
        {
          "output_type": "stream",
          "name": "stdout",
          "text": [
            "[CV 1/5] END bootstrap=False, class_weight=balanced_subsample, criterion=gini, max_depth=3, max_features=log2, warm_start=True;, score=0.645 total time=   0.3s\n"
          ]
        },
        {
          "output_type": "stream",
          "name": "stderr",
          "text": [
            "/usr/local/lib/python3.7/dist-packages/sklearn/ensemble/_forest.py:756: UserWarning: class_weight presets \"balanced\" or \"balanced_subsample\" are not recommended for warm_start if the fitted data differs from the full dataset. In order to use \"balanced\" weights, use compute_class_weight (\"balanced\", classes, y). In place of y you can use a large enough sample of the full training set target to properly estimate the class frequency distributions. Pass the resulting weights as the class_weight parameter.\n",
            "  'class_weight presets \"balanced\" or '\n"
          ]
        },
        {
          "output_type": "stream",
          "name": "stdout",
          "text": [
            "[CV 2/5] END bootstrap=False, class_weight=balanced_subsample, criterion=gini, max_depth=3, max_features=log2, warm_start=True;, score=0.615 total time=   0.3s\n"
          ]
        },
        {
          "output_type": "stream",
          "name": "stderr",
          "text": [
            "/usr/local/lib/python3.7/dist-packages/sklearn/ensemble/_forest.py:756: UserWarning: class_weight presets \"balanced\" or \"balanced_subsample\" are not recommended for warm_start if the fitted data differs from the full dataset. In order to use \"balanced\" weights, use compute_class_weight (\"balanced\", classes, y). In place of y you can use a large enough sample of the full training set target to properly estimate the class frequency distributions. Pass the resulting weights as the class_weight parameter.\n",
            "  'class_weight presets \"balanced\" or '\n"
          ]
        },
        {
          "output_type": "stream",
          "name": "stdout",
          "text": [
            "[CV 3/5] END bootstrap=False, class_weight=balanced_subsample, criterion=gini, max_depth=3, max_features=log2, warm_start=True;, score=0.560 total time=   0.3s\n"
          ]
        },
        {
          "output_type": "stream",
          "name": "stderr",
          "text": [
            "/usr/local/lib/python3.7/dist-packages/sklearn/ensemble/_forest.py:756: UserWarning: class_weight presets \"balanced\" or \"balanced_subsample\" are not recommended for warm_start if the fitted data differs from the full dataset. In order to use \"balanced\" weights, use compute_class_weight (\"balanced\", classes, y). In place of y you can use a large enough sample of the full training set target to properly estimate the class frequency distributions. Pass the resulting weights as the class_weight parameter.\n",
            "  'class_weight presets \"balanced\" or '\n"
          ]
        },
        {
          "output_type": "stream",
          "name": "stdout",
          "text": [
            "[CV 4/5] END bootstrap=False, class_weight=balanced_subsample, criterion=gini, max_depth=3, max_features=log2, warm_start=True;, score=0.550 total time=   0.3s\n"
          ]
        },
        {
          "output_type": "stream",
          "name": "stderr",
          "text": [
            "/usr/local/lib/python3.7/dist-packages/sklearn/ensemble/_forest.py:756: UserWarning: class_weight presets \"balanced\" or \"balanced_subsample\" are not recommended for warm_start if the fitted data differs from the full dataset. In order to use \"balanced\" weights, use compute_class_weight (\"balanced\", classes, y). In place of y you can use a large enough sample of the full training set target to properly estimate the class frequency distributions. Pass the resulting weights as the class_weight parameter.\n",
            "  'class_weight presets \"balanced\" or '\n"
          ]
        },
        {
          "output_type": "stream",
          "name": "stdout",
          "text": [
            "[CV 5/5] END bootstrap=False, class_weight=balanced_subsample, criterion=gini, max_depth=3, max_features=log2, warm_start=True;, score=0.575 total time=   0.3s\n",
            "[CV 1/5] END bootstrap=False, class_weight=balanced_subsample, criterion=gini, max_depth=5, max_features=auto, warm_start=False;, score=0.655 total time=   0.3s\n",
            "[CV 2/5] END bootstrap=False, class_weight=balanced_subsample, criterion=gini, max_depth=5, max_features=auto, warm_start=False;, score=0.645 total time=   0.3s\n",
            "[CV 3/5] END bootstrap=False, class_weight=balanced_subsample, criterion=gini, max_depth=5, max_features=auto, warm_start=False;, score=0.600 total time=   0.3s\n",
            "[CV 4/5] END bootstrap=False, class_weight=balanced_subsample, criterion=gini, max_depth=5, max_features=auto, warm_start=False;, score=0.645 total time=   0.3s\n",
            "[CV 5/5] END bootstrap=False, class_weight=balanced_subsample, criterion=gini, max_depth=5, max_features=auto, warm_start=False;, score=0.635 total time=   0.3s\n"
          ]
        },
        {
          "output_type": "stream",
          "name": "stderr",
          "text": [
            "/usr/local/lib/python3.7/dist-packages/sklearn/ensemble/_forest.py:756: UserWarning: class_weight presets \"balanced\" or \"balanced_subsample\" are not recommended for warm_start if the fitted data differs from the full dataset. In order to use \"balanced\" weights, use compute_class_weight (\"balanced\", classes, y). In place of y you can use a large enough sample of the full training set target to properly estimate the class frequency distributions. Pass the resulting weights as the class_weight parameter.\n",
            "  'class_weight presets \"balanced\" or '\n"
          ]
        },
        {
          "output_type": "stream",
          "name": "stdout",
          "text": [
            "[CV 1/5] END bootstrap=False, class_weight=balanced_subsample, criterion=gini, max_depth=5, max_features=auto, warm_start=True;, score=0.690 total time=   0.3s\n"
          ]
        },
        {
          "output_type": "stream",
          "name": "stderr",
          "text": [
            "/usr/local/lib/python3.7/dist-packages/sklearn/ensemble/_forest.py:756: UserWarning: class_weight presets \"balanced\" or \"balanced_subsample\" are not recommended for warm_start if the fitted data differs from the full dataset. In order to use \"balanced\" weights, use compute_class_weight (\"balanced\", classes, y). In place of y you can use a large enough sample of the full training set target to properly estimate the class frequency distributions. Pass the resulting weights as the class_weight parameter.\n",
            "  'class_weight presets \"balanced\" or '\n"
          ]
        },
        {
          "output_type": "stream",
          "name": "stdout",
          "text": [
            "[CV 2/5] END bootstrap=False, class_weight=balanced_subsample, criterion=gini, max_depth=5, max_features=auto, warm_start=True;, score=0.660 total time=   0.3s\n"
          ]
        },
        {
          "output_type": "stream",
          "name": "stderr",
          "text": [
            "/usr/local/lib/python3.7/dist-packages/sklearn/ensemble/_forest.py:756: UserWarning: class_weight presets \"balanced\" or \"balanced_subsample\" are not recommended for warm_start if the fitted data differs from the full dataset. In order to use \"balanced\" weights, use compute_class_weight (\"balanced\", classes, y). In place of y you can use a large enough sample of the full training set target to properly estimate the class frequency distributions. Pass the resulting weights as the class_weight parameter.\n",
            "  'class_weight presets \"balanced\" or '\n"
          ]
        },
        {
          "output_type": "stream",
          "name": "stdout",
          "text": [
            "[CV 3/5] END bootstrap=False, class_weight=balanced_subsample, criterion=gini, max_depth=5, max_features=auto, warm_start=True;, score=0.590 total time=   0.3s\n"
          ]
        },
        {
          "output_type": "stream",
          "name": "stderr",
          "text": [
            "/usr/local/lib/python3.7/dist-packages/sklearn/ensemble/_forest.py:756: UserWarning: class_weight presets \"balanced\" or \"balanced_subsample\" are not recommended for warm_start if the fitted data differs from the full dataset. In order to use \"balanced\" weights, use compute_class_weight (\"balanced\", classes, y). In place of y you can use a large enough sample of the full training set target to properly estimate the class frequency distributions. Pass the resulting weights as the class_weight parameter.\n",
            "  'class_weight presets \"balanced\" or '\n"
          ]
        },
        {
          "output_type": "stream",
          "name": "stdout",
          "text": [
            "[CV 4/5] END bootstrap=False, class_weight=balanced_subsample, criterion=gini, max_depth=5, max_features=auto, warm_start=True;, score=0.590 total time=   0.3s\n"
          ]
        },
        {
          "output_type": "stream",
          "name": "stderr",
          "text": [
            "/usr/local/lib/python3.7/dist-packages/sklearn/ensemble/_forest.py:756: UserWarning: class_weight presets \"balanced\" or \"balanced_subsample\" are not recommended for warm_start if the fitted data differs from the full dataset. In order to use \"balanced\" weights, use compute_class_weight (\"balanced\", classes, y). In place of y you can use a large enough sample of the full training set target to properly estimate the class frequency distributions. Pass the resulting weights as the class_weight parameter.\n",
            "  'class_weight presets \"balanced\" or '\n"
          ]
        },
        {
          "output_type": "stream",
          "name": "stdout",
          "text": [
            "[CV 5/5] END bootstrap=False, class_weight=balanced_subsample, criterion=gini, max_depth=5, max_features=auto, warm_start=True;, score=0.625 total time=   0.3s\n",
            "[CV 1/5] END bootstrap=False, class_weight=balanced_subsample, criterion=gini, max_depth=5, max_features=sqrt, warm_start=False;, score=0.700 total time=   0.3s\n",
            "[CV 2/5] END bootstrap=False, class_weight=balanced_subsample, criterion=gini, max_depth=5, max_features=sqrt, warm_start=False;, score=0.630 total time=   0.3s\n",
            "[CV 3/5] END bootstrap=False, class_weight=balanced_subsample, criterion=gini, max_depth=5, max_features=sqrt, warm_start=False;, score=0.600 total time=   0.3s\n",
            "[CV 4/5] END bootstrap=False, class_weight=balanced_subsample, criterion=gini, max_depth=5, max_features=sqrt, warm_start=False;, score=0.600 total time=   0.3s\n",
            "[CV 5/5] END bootstrap=False, class_weight=balanced_subsample, criterion=gini, max_depth=5, max_features=sqrt, warm_start=False;, score=0.625 total time=   0.3s\n"
          ]
        },
        {
          "output_type": "stream",
          "name": "stderr",
          "text": [
            "/usr/local/lib/python3.7/dist-packages/sklearn/ensemble/_forest.py:756: UserWarning: class_weight presets \"balanced\" or \"balanced_subsample\" are not recommended for warm_start if the fitted data differs from the full dataset. In order to use \"balanced\" weights, use compute_class_weight (\"balanced\", classes, y). In place of y you can use a large enough sample of the full training set target to properly estimate the class frequency distributions. Pass the resulting weights as the class_weight parameter.\n",
            "  'class_weight presets \"balanced\" or '\n"
          ]
        },
        {
          "output_type": "stream",
          "name": "stdout",
          "text": [
            "[CV 1/5] END bootstrap=False, class_weight=balanced_subsample, criterion=gini, max_depth=5, max_features=sqrt, warm_start=True;, score=0.690 total time=   0.3s\n"
          ]
        },
        {
          "output_type": "stream",
          "name": "stderr",
          "text": [
            "/usr/local/lib/python3.7/dist-packages/sklearn/ensemble/_forest.py:756: UserWarning: class_weight presets \"balanced\" or \"balanced_subsample\" are not recommended for warm_start if the fitted data differs from the full dataset. In order to use \"balanced\" weights, use compute_class_weight (\"balanced\", classes, y). In place of y you can use a large enough sample of the full training set target to properly estimate the class frequency distributions. Pass the resulting weights as the class_weight parameter.\n",
            "  'class_weight presets \"balanced\" or '\n"
          ]
        },
        {
          "output_type": "stream",
          "name": "stdout",
          "text": [
            "[CV 2/5] END bootstrap=False, class_weight=balanced_subsample, criterion=gini, max_depth=5, max_features=sqrt, warm_start=True;, score=0.650 total time=   0.3s\n"
          ]
        },
        {
          "output_type": "stream",
          "name": "stderr",
          "text": [
            "/usr/local/lib/python3.7/dist-packages/sklearn/ensemble/_forest.py:756: UserWarning: class_weight presets \"balanced\" or \"balanced_subsample\" are not recommended for warm_start if the fitted data differs from the full dataset. In order to use \"balanced\" weights, use compute_class_weight (\"balanced\", classes, y). In place of y you can use a large enough sample of the full training set target to properly estimate the class frequency distributions. Pass the resulting weights as the class_weight parameter.\n",
            "  'class_weight presets \"balanced\" or '\n"
          ]
        },
        {
          "output_type": "stream",
          "name": "stdout",
          "text": [
            "[CV 3/5] END bootstrap=False, class_weight=balanced_subsample, criterion=gini, max_depth=5, max_features=sqrt, warm_start=True;, score=0.580 total time=   0.3s\n"
          ]
        },
        {
          "output_type": "stream",
          "name": "stderr",
          "text": [
            "/usr/local/lib/python3.7/dist-packages/sklearn/ensemble/_forest.py:756: UserWarning: class_weight presets \"balanced\" or \"balanced_subsample\" are not recommended for warm_start if the fitted data differs from the full dataset. In order to use \"balanced\" weights, use compute_class_weight (\"balanced\", classes, y). In place of y you can use a large enough sample of the full training set target to properly estimate the class frequency distributions. Pass the resulting weights as the class_weight parameter.\n",
            "  'class_weight presets \"balanced\" or '\n"
          ]
        },
        {
          "output_type": "stream",
          "name": "stdout",
          "text": [
            "[CV 4/5] END bootstrap=False, class_weight=balanced_subsample, criterion=gini, max_depth=5, max_features=sqrt, warm_start=True;, score=0.620 total time=   0.3s\n"
          ]
        },
        {
          "output_type": "stream",
          "name": "stderr",
          "text": [
            "/usr/local/lib/python3.7/dist-packages/sklearn/ensemble/_forest.py:756: UserWarning: class_weight presets \"balanced\" or \"balanced_subsample\" are not recommended for warm_start if the fitted data differs from the full dataset. In order to use \"balanced\" weights, use compute_class_weight (\"balanced\", classes, y). In place of y you can use a large enough sample of the full training set target to properly estimate the class frequency distributions. Pass the resulting weights as the class_weight parameter.\n",
            "  'class_weight presets \"balanced\" or '\n"
          ]
        },
        {
          "output_type": "stream",
          "name": "stdout",
          "text": [
            "[CV 5/5] END bootstrap=False, class_weight=balanced_subsample, criterion=gini, max_depth=5, max_features=sqrt, warm_start=True;, score=0.625 total time=   0.3s\n",
            "[CV 1/5] END bootstrap=False, class_weight=balanced_subsample, criterion=gini, max_depth=5, max_features=log2, warm_start=False;, score=0.685 total time=   0.3s\n",
            "[CV 2/5] END bootstrap=False, class_weight=balanced_subsample, criterion=gini, max_depth=5, max_features=log2, warm_start=False;, score=0.660 total time=   0.3s\n",
            "[CV 3/5] END bootstrap=False, class_weight=balanced_subsample, criterion=gini, max_depth=5, max_features=log2, warm_start=False;, score=0.580 total time=   0.3s\n",
            "[CV 4/5] END bootstrap=False, class_weight=balanced_subsample, criterion=gini, max_depth=5, max_features=log2, warm_start=False;, score=0.625 total time=   0.3s\n",
            "[CV 5/5] END bootstrap=False, class_weight=balanced_subsample, criterion=gini, max_depth=5, max_features=log2, warm_start=False;, score=0.625 total time=   0.3s\n"
          ]
        },
        {
          "output_type": "stream",
          "name": "stderr",
          "text": [
            "/usr/local/lib/python3.7/dist-packages/sklearn/ensemble/_forest.py:756: UserWarning: class_weight presets \"balanced\" or \"balanced_subsample\" are not recommended for warm_start if the fitted data differs from the full dataset. In order to use \"balanced\" weights, use compute_class_weight (\"balanced\", classes, y). In place of y you can use a large enough sample of the full training set target to properly estimate the class frequency distributions. Pass the resulting weights as the class_weight parameter.\n",
            "  'class_weight presets \"balanced\" or '\n"
          ]
        },
        {
          "output_type": "stream",
          "name": "stdout",
          "text": [
            "[CV 1/5] END bootstrap=False, class_weight=balanced_subsample, criterion=gini, max_depth=5, max_features=log2, warm_start=True;, score=0.680 total time=   0.3s\n"
          ]
        },
        {
          "output_type": "stream",
          "name": "stderr",
          "text": [
            "/usr/local/lib/python3.7/dist-packages/sklearn/ensemble/_forest.py:756: UserWarning: class_weight presets \"balanced\" or \"balanced_subsample\" are not recommended for warm_start if the fitted data differs from the full dataset. In order to use \"balanced\" weights, use compute_class_weight (\"balanced\", classes, y). In place of y you can use a large enough sample of the full training set target to properly estimate the class frequency distributions. Pass the resulting weights as the class_weight parameter.\n",
            "  'class_weight presets \"balanced\" or '\n"
          ]
        },
        {
          "output_type": "stream",
          "name": "stdout",
          "text": [
            "[CV 2/5] END bootstrap=False, class_weight=balanced_subsample, criterion=gini, max_depth=5, max_features=log2, warm_start=True;, score=0.660 total time=   0.3s\n"
          ]
        },
        {
          "output_type": "stream",
          "name": "stderr",
          "text": [
            "/usr/local/lib/python3.7/dist-packages/sklearn/ensemble/_forest.py:756: UserWarning: class_weight presets \"balanced\" or \"balanced_subsample\" are not recommended for warm_start if the fitted data differs from the full dataset. In order to use \"balanced\" weights, use compute_class_weight (\"balanced\", classes, y). In place of y you can use a large enough sample of the full training set target to properly estimate the class frequency distributions. Pass the resulting weights as the class_weight parameter.\n",
            "  'class_weight presets \"balanced\" or '\n"
          ]
        },
        {
          "output_type": "stream",
          "name": "stdout",
          "text": [
            "[CV 3/5] END bootstrap=False, class_weight=balanced_subsample, criterion=gini, max_depth=5, max_features=log2, warm_start=True;, score=0.620 total time=   0.3s\n"
          ]
        },
        {
          "output_type": "stream",
          "name": "stderr",
          "text": [
            "/usr/local/lib/python3.7/dist-packages/sklearn/ensemble/_forest.py:756: UserWarning: class_weight presets \"balanced\" or \"balanced_subsample\" are not recommended for warm_start if the fitted data differs from the full dataset. In order to use \"balanced\" weights, use compute_class_weight (\"balanced\", classes, y). In place of y you can use a large enough sample of the full training set target to properly estimate the class frequency distributions. Pass the resulting weights as the class_weight parameter.\n",
            "  'class_weight presets \"balanced\" or '\n"
          ]
        },
        {
          "output_type": "stream",
          "name": "stdout",
          "text": [
            "[CV 4/5] END bootstrap=False, class_weight=balanced_subsample, criterion=gini, max_depth=5, max_features=log2, warm_start=True;, score=0.640 total time=   0.3s\n"
          ]
        },
        {
          "output_type": "stream",
          "name": "stderr",
          "text": [
            "/usr/local/lib/python3.7/dist-packages/sklearn/ensemble/_forest.py:756: UserWarning: class_weight presets \"balanced\" or \"balanced_subsample\" are not recommended for warm_start if the fitted data differs from the full dataset. In order to use \"balanced\" weights, use compute_class_weight (\"balanced\", classes, y). In place of y you can use a large enough sample of the full training set target to properly estimate the class frequency distributions. Pass the resulting weights as the class_weight parameter.\n",
            "  'class_weight presets \"balanced\" or '\n"
          ]
        },
        {
          "output_type": "stream",
          "name": "stdout",
          "text": [
            "[CV 5/5] END bootstrap=False, class_weight=balanced_subsample, criterion=gini, max_depth=5, max_features=log2, warm_start=True;, score=0.620 total time=   0.4s\n",
            "[CV 1/5] END bootstrap=False, class_weight=balanced_subsample, criterion=entropy, max_depth=2, max_features=auto, warm_start=False;, score=0.620 total time=   0.4s\n",
            "[CV 2/5] END bootstrap=False, class_weight=balanced_subsample, criterion=entropy, max_depth=2, max_features=auto, warm_start=False;, score=0.570 total time=   0.4s\n",
            "[CV 3/5] END bootstrap=False, class_weight=balanced_subsample, criterion=entropy, max_depth=2, max_features=auto, warm_start=False;, score=0.505 total time=   0.4s\n",
            "[CV 4/5] END bootstrap=False, class_weight=balanced_subsample, criterion=entropy, max_depth=2, max_features=auto, warm_start=False;, score=0.500 total time=   0.4s\n",
            "[CV 5/5] END bootstrap=False, class_weight=balanced_subsample, criterion=entropy, max_depth=2, max_features=auto, warm_start=False;, score=0.530 total time=   0.4s\n"
          ]
        },
        {
          "output_type": "stream",
          "name": "stderr",
          "text": [
            "/usr/local/lib/python3.7/dist-packages/sklearn/ensemble/_forest.py:756: UserWarning: class_weight presets \"balanced\" or \"balanced_subsample\" are not recommended for warm_start if the fitted data differs from the full dataset. In order to use \"balanced\" weights, use compute_class_weight (\"balanced\", classes, y). In place of y you can use a large enough sample of the full training set target to properly estimate the class frequency distributions. Pass the resulting weights as the class_weight parameter.\n",
            "  'class_weight presets \"balanced\" or '\n"
          ]
        },
        {
          "output_type": "stream",
          "name": "stdout",
          "text": [
            "[CV 1/5] END bootstrap=False, class_weight=balanced_subsample, criterion=entropy, max_depth=2, max_features=auto, warm_start=True;, score=0.645 total time=   0.4s\n"
          ]
        },
        {
          "output_type": "stream",
          "name": "stderr",
          "text": [
            "/usr/local/lib/python3.7/dist-packages/sklearn/ensemble/_forest.py:756: UserWarning: class_weight presets \"balanced\" or \"balanced_subsample\" are not recommended for warm_start if the fitted data differs from the full dataset. In order to use \"balanced\" weights, use compute_class_weight (\"balanced\", classes, y). In place of y you can use a large enough sample of the full training set target to properly estimate the class frequency distributions. Pass the resulting weights as the class_weight parameter.\n",
            "  'class_weight presets \"balanced\" or '\n"
          ]
        },
        {
          "output_type": "stream",
          "name": "stdout",
          "text": [
            "[CV 2/5] END bootstrap=False, class_weight=balanced_subsample, criterion=entropy, max_depth=2, max_features=auto, warm_start=True;, score=0.480 total time=   0.4s\n"
          ]
        },
        {
          "output_type": "stream",
          "name": "stderr",
          "text": [
            "/usr/local/lib/python3.7/dist-packages/sklearn/ensemble/_forest.py:756: UserWarning: class_weight presets \"balanced\" or \"balanced_subsample\" are not recommended for warm_start if the fitted data differs from the full dataset. In order to use \"balanced\" weights, use compute_class_weight (\"balanced\", classes, y). In place of y you can use a large enough sample of the full training set target to properly estimate the class frequency distributions. Pass the resulting weights as the class_weight parameter.\n",
            "  'class_weight presets \"balanced\" or '\n"
          ]
        },
        {
          "output_type": "stream",
          "name": "stdout",
          "text": [
            "[CV 3/5] END bootstrap=False, class_weight=balanced_subsample, criterion=entropy, max_depth=2, max_features=auto, warm_start=True;, score=0.515 total time=   0.4s\n"
          ]
        },
        {
          "output_type": "stream",
          "name": "stderr",
          "text": [
            "/usr/local/lib/python3.7/dist-packages/sklearn/ensemble/_forest.py:756: UserWarning: class_weight presets \"balanced\" or \"balanced_subsample\" are not recommended for warm_start if the fitted data differs from the full dataset. In order to use \"balanced\" weights, use compute_class_weight (\"balanced\", classes, y). In place of y you can use a large enough sample of the full training set target to properly estimate the class frequency distributions. Pass the resulting weights as the class_weight parameter.\n",
            "  'class_weight presets \"balanced\" or '\n"
          ]
        },
        {
          "output_type": "stream",
          "name": "stdout",
          "text": [
            "[CV 4/5] END bootstrap=False, class_weight=balanced_subsample, criterion=entropy, max_depth=2, max_features=auto, warm_start=True;, score=0.485 total time=   0.4s\n"
          ]
        },
        {
          "output_type": "stream",
          "name": "stderr",
          "text": [
            "/usr/local/lib/python3.7/dist-packages/sklearn/ensemble/_forest.py:756: UserWarning: class_weight presets \"balanced\" or \"balanced_subsample\" are not recommended for warm_start if the fitted data differs from the full dataset. In order to use \"balanced\" weights, use compute_class_weight (\"balanced\", classes, y). In place of y you can use a large enough sample of the full training set target to properly estimate the class frequency distributions. Pass the resulting weights as the class_weight parameter.\n",
            "  'class_weight presets \"balanced\" or '\n"
          ]
        },
        {
          "output_type": "stream",
          "name": "stdout",
          "text": [
            "[CV 5/5] END bootstrap=False, class_weight=balanced_subsample, criterion=entropy, max_depth=2, max_features=auto, warm_start=True;, score=0.490 total time=   0.4s\n",
            "[CV 1/5] END bootstrap=False, class_weight=balanced_subsample, criterion=entropy, max_depth=2, max_features=sqrt, warm_start=False;, score=0.605 total time=   0.4s\n",
            "[CV 2/5] END bootstrap=False, class_weight=balanced_subsample, criterion=entropy, max_depth=2, max_features=sqrt, warm_start=False;, score=0.560 total time=   0.4s\n",
            "[CV 3/5] END bootstrap=False, class_weight=balanced_subsample, criterion=entropy, max_depth=2, max_features=sqrt, warm_start=False;, score=0.535 total time=   0.4s\n",
            "[CV 4/5] END bootstrap=False, class_weight=balanced_subsample, criterion=entropy, max_depth=2, max_features=sqrt, warm_start=False;, score=0.480 total time=   0.4s\n",
            "[CV 5/5] END bootstrap=False, class_weight=balanced_subsample, criterion=entropy, max_depth=2, max_features=sqrt, warm_start=False;, score=0.515 total time=   0.4s\n"
          ]
        },
        {
          "output_type": "stream",
          "name": "stderr",
          "text": [
            "/usr/local/lib/python3.7/dist-packages/sklearn/ensemble/_forest.py:756: UserWarning: class_weight presets \"balanced\" or \"balanced_subsample\" are not recommended for warm_start if the fitted data differs from the full dataset. In order to use \"balanced\" weights, use compute_class_weight (\"balanced\", classes, y). In place of y you can use a large enough sample of the full training set target to properly estimate the class frequency distributions. Pass the resulting weights as the class_weight parameter.\n",
            "  'class_weight presets \"balanced\" or '\n"
          ]
        },
        {
          "output_type": "stream",
          "name": "stdout",
          "text": [
            "[CV 1/5] END bootstrap=False, class_weight=balanced_subsample, criterion=entropy, max_depth=2, max_features=sqrt, warm_start=True;, score=0.610 total time=   0.4s\n"
          ]
        },
        {
          "output_type": "stream",
          "name": "stderr",
          "text": [
            "/usr/local/lib/python3.7/dist-packages/sklearn/ensemble/_forest.py:756: UserWarning: class_weight presets \"balanced\" or \"balanced_subsample\" are not recommended for warm_start if the fitted data differs from the full dataset. In order to use \"balanced\" weights, use compute_class_weight (\"balanced\", classes, y). In place of y you can use a large enough sample of the full training set target to properly estimate the class frequency distributions. Pass the resulting weights as the class_weight parameter.\n",
            "  'class_weight presets \"balanced\" or '\n"
          ]
        },
        {
          "output_type": "stream",
          "name": "stdout",
          "text": [
            "[CV 2/5] END bootstrap=False, class_weight=balanced_subsample, criterion=entropy, max_depth=2, max_features=sqrt, warm_start=True;, score=0.580 total time=   0.4s\n"
          ]
        },
        {
          "output_type": "stream",
          "name": "stderr",
          "text": [
            "/usr/local/lib/python3.7/dist-packages/sklearn/ensemble/_forest.py:756: UserWarning: class_weight presets \"balanced\" or \"balanced_subsample\" are not recommended for warm_start if the fitted data differs from the full dataset. In order to use \"balanced\" weights, use compute_class_weight (\"balanced\", classes, y). In place of y you can use a large enough sample of the full training set target to properly estimate the class frequency distributions. Pass the resulting weights as the class_weight parameter.\n",
            "  'class_weight presets \"balanced\" or '\n"
          ]
        },
        {
          "output_type": "stream",
          "name": "stdout",
          "text": [
            "[CV 3/5] END bootstrap=False, class_weight=balanced_subsample, criterion=entropy, max_depth=2, max_features=sqrt, warm_start=True;, score=0.500 total time=   0.4s\n"
          ]
        },
        {
          "output_type": "stream",
          "name": "stderr",
          "text": [
            "/usr/local/lib/python3.7/dist-packages/sklearn/ensemble/_forest.py:756: UserWarning: class_weight presets \"balanced\" or \"balanced_subsample\" are not recommended for warm_start if the fitted data differs from the full dataset. In order to use \"balanced\" weights, use compute_class_weight (\"balanced\", classes, y). In place of y you can use a large enough sample of the full training set target to properly estimate the class frequency distributions. Pass the resulting weights as the class_weight parameter.\n",
            "  'class_weight presets \"balanced\" or '\n"
          ]
        },
        {
          "output_type": "stream",
          "name": "stdout",
          "text": [
            "[CV 4/5] END bootstrap=False, class_weight=balanced_subsample, criterion=entropy, max_depth=2, max_features=sqrt, warm_start=True;, score=0.530 total time=   0.4s\n"
          ]
        },
        {
          "output_type": "stream",
          "name": "stderr",
          "text": [
            "/usr/local/lib/python3.7/dist-packages/sklearn/ensemble/_forest.py:756: UserWarning: class_weight presets \"balanced\" or \"balanced_subsample\" are not recommended for warm_start if the fitted data differs from the full dataset. In order to use \"balanced\" weights, use compute_class_weight (\"balanced\", classes, y). In place of y you can use a large enough sample of the full training set target to properly estimate the class frequency distributions. Pass the resulting weights as the class_weight parameter.\n",
            "  'class_weight presets \"balanced\" or '\n"
          ]
        },
        {
          "output_type": "stream",
          "name": "stdout",
          "text": [
            "[CV 5/5] END bootstrap=False, class_weight=balanced_subsample, criterion=entropy, max_depth=2, max_features=sqrt, warm_start=True;, score=0.500 total time=   0.4s\n",
            "[CV 1/5] END bootstrap=False, class_weight=balanced_subsample, criterion=entropy, max_depth=2, max_features=log2, warm_start=False;, score=0.585 total time=   0.4s\n",
            "[CV 2/5] END bootstrap=False, class_weight=balanced_subsample, criterion=entropy, max_depth=2, max_features=log2, warm_start=False;, score=0.540 total time=   0.4s\n",
            "[CV 3/5] END bootstrap=False, class_weight=balanced_subsample, criterion=entropy, max_depth=2, max_features=log2, warm_start=False;, score=0.535 total time=   0.4s\n",
            "[CV 4/5] END bootstrap=False, class_weight=balanced_subsample, criterion=entropy, max_depth=2, max_features=log2, warm_start=False;, score=0.505 total time=   0.4s\n",
            "[CV 5/5] END bootstrap=False, class_weight=balanced_subsample, criterion=entropy, max_depth=2, max_features=log2, warm_start=False;, score=0.535 total time=   0.4s\n"
          ]
        },
        {
          "output_type": "stream",
          "name": "stderr",
          "text": [
            "/usr/local/lib/python3.7/dist-packages/sklearn/ensemble/_forest.py:756: UserWarning: class_weight presets \"balanced\" or \"balanced_subsample\" are not recommended for warm_start if the fitted data differs from the full dataset. In order to use \"balanced\" weights, use compute_class_weight (\"balanced\", classes, y). In place of y you can use a large enough sample of the full training set target to properly estimate the class frequency distributions. Pass the resulting weights as the class_weight parameter.\n",
            "  'class_weight presets \"balanced\" or '\n"
          ]
        },
        {
          "output_type": "stream",
          "name": "stdout",
          "text": [
            "[CV 1/5] END bootstrap=False, class_weight=balanced_subsample, criterion=entropy, max_depth=2, max_features=log2, warm_start=True;, score=0.620 total time=   0.4s\n"
          ]
        },
        {
          "output_type": "stream",
          "name": "stderr",
          "text": [
            "/usr/local/lib/python3.7/dist-packages/sklearn/ensemble/_forest.py:756: UserWarning: class_weight presets \"balanced\" or \"balanced_subsample\" are not recommended for warm_start if the fitted data differs from the full dataset. In order to use \"balanced\" weights, use compute_class_weight (\"balanced\", classes, y). In place of y you can use a large enough sample of the full training set target to properly estimate the class frequency distributions. Pass the resulting weights as the class_weight parameter.\n",
            "  'class_weight presets \"balanced\" or '\n"
          ]
        },
        {
          "output_type": "stream",
          "name": "stdout",
          "text": [
            "[CV 2/5] END bootstrap=False, class_weight=balanced_subsample, criterion=entropy, max_depth=2, max_features=log2, warm_start=True;, score=0.575 total time=   0.4s\n"
          ]
        },
        {
          "output_type": "stream",
          "name": "stderr",
          "text": [
            "/usr/local/lib/python3.7/dist-packages/sklearn/ensemble/_forest.py:756: UserWarning: class_weight presets \"balanced\" or \"balanced_subsample\" are not recommended for warm_start if the fitted data differs from the full dataset. In order to use \"balanced\" weights, use compute_class_weight (\"balanced\", classes, y). In place of y you can use a large enough sample of the full training set target to properly estimate the class frequency distributions. Pass the resulting weights as the class_weight parameter.\n",
            "  'class_weight presets \"balanced\" or '\n"
          ]
        },
        {
          "output_type": "stream",
          "name": "stdout",
          "text": [
            "[CV 3/5] END bootstrap=False, class_weight=balanced_subsample, criterion=entropy, max_depth=2, max_features=log2, warm_start=True;, score=0.525 total time=   0.4s\n"
          ]
        },
        {
          "output_type": "stream",
          "name": "stderr",
          "text": [
            "/usr/local/lib/python3.7/dist-packages/sklearn/ensemble/_forest.py:756: UserWarning: class_weight presets \"balanced\" or \"balanced_subsample\" are not recommended for warm_start if the fitted data differs from the full dataset. In order to use \"balanced\" weights, use compute_class_weight (\"balanced\", classes, y). In place of y you can use a large enough sample of the full training set target to properly estimate the class frequency distributions. Pass the resulting weights as the class_weight parameter.\n",
            "  'class_weight presets \"balanced\" or '\n"
          ]
        },
        {
          "output_type": "stream",
          "name": "stdout",
          "text": [
            "[CV 4/5] END bootstrap=False, class_weight=balanced_subsample, criterion=entropy, max_depth=2, max_features=log2, warm_start=True;, score=0.500 total time=   0.4s\n"
          ]
        },
        {
          "output_type": "stream",
          "name": "stderr",
          "text": [
            "/usr/local/lib/python3.7/dist-packages/sklearn/ensemble/_forest.py:756: UserWarning: class_weight presets \"balanced\" or \"balanced_subsample\" are not recommended for warm_start if the fitted data differs from the full dataset. In order to use \"balanced\" weights, use compute_class_weight (\"balanced\", classes, y). In place of y you can use a large enough sample of the full training set target to properly estimate the class frequency distributions. Pass the resulting weights as the class_weight parameter.\n",
            "  'class_weight presets \"balanced\" or '\n"
          ]
        },
        {
          "output_type": "stream",
          "name": "stdout",
          "text": [
            "[CV 5/5] END bootstrap=False, class_weight=balanced_subsample, criterion=entropy, max_depth=2, max_features=log2, warm_start=True;, score=0.490 total time=   0.4s\n",
            "[CV 1/5] END bootstrap=False, class_weight=balanced_subsample, criterion=entropy, max_depth=3, max_features=auto, warm_start=False;, score=0.660 total time=   0.5s\n",
            "[CV 2/5] END bootstrap=False, class_weight=balanced_subsample, criterion=entropy, max_depth=3, max_features=auto, warm_start=False;, score=0.595 total time=   0.5s\n",
            "[CV 3/5] END bootstrap=False, class_weight=balanced_subsample, criterion=entropy, max_depth=3, max_features=auto, warm_start=False;, score=0.545 total time=   0.5s\n",
            "[CV 4/5] END bootstrap=False, class_weight=balanced_subsample, criterion=entropy, max_depth=3, max_features=auto, warm_start=False;, score=0.570 total time=   0.5s\n",
            "[CV 5/5] END bootstrap=False, class_weight=balanced_subsample, criterion=entropy, max_depth=3, max_features=auto, warm_start=False;, score=0.565 total time=   0.5s\n"
          ]
        },
        {
          "output_type": "stream",
          "name": "stderr",
          "text": [
            "/usr/local/lib/python3.7/dist-packages/sklearn/ensemble/_forest.py:756: UserWarning: class_weight presets \"balanced\" or \"balanced_subsample\" are not recommended for warm_start if the fitted data differs from the full dataset. In order to use \"balanced\" weights, use compute_class_weight (\"balanced\", classes, y). In place of y you can use a large enough sample of the full training set target to properly estimate the class frequency distributions. Pass the resulting weights as the class_weight parameter.\n",
            "  'class_weight presets \"balanced\" or '\n"
          ]
        },
        {
          "output_type": "stream",
          "name": "stdout",
          "text": [
            "[CV 1/5] END bootstrap=False, class_weight=balanced_subsample, criterion=entropy, max_depth=3, max_features=auto, warm_start=True;, score=0.650 total time=   0.5s\n"
          ]
        },
        {
          "output_type": "stream",
          "name": "stderr",
          "text": [
            "/usr/local/lib/python3.7/dist-packages/sklearn/ensemble/_forest.py:756: UserWarning: class_weight presets \"balanced\" or \"balanced_subsample\" are not recommended for warm_start if the fitted data differs from the full dataset. In order to use \"balanced\" weights, use compute_class_weight (\"balanced\", classes, y). In place of y you can use a large enough sample of the full training set target to properly estimate the class frequency distributions. Pass the resulting weights as the class_weight parameter.\n",
            "  'class_weight presets \"balanced\" or '\n"
          ]
        },
        {
          "output_type": "stream",
          "name": "stdout",
          "text": [
            "[CV 2/5] END bootstrap=False, class_weight=balanced_subsample, criterion=entropy, max_depth=3, max_features=auto, warm_start=True;, score=0.615 total time=   0.5s\n"
          ]
        },
        {
          "output_type": "stream",
          "name": "stderr",
          "text": [
            "/usr/local/lib/python3.7/dist-packages/sklearn/ensemble/_forest.py:756: UserWarning: class_weight presets \"balanced\" or \"balanced_subsample\" are not recommended for warm_start if the fitted data differs from the full dataset. In order to use \"balanced\" weights, use compute_class_weight (\"balanced\", classes, y). In place of y you can use a large enough sample of the full training set target to properly estimate the class frequency distributions. Pass the resulting weights as the class_weight parameter.\n",
            "  'class_weight presets \"balanced\" or '\n"
          ]
        },
        {
          "output_type": "stream",
          "name": "stdout",
          "text": [
            "[CV 3/5] END bootstrap=False, class_weight=balanced_subsample, criterion=entropy, max_depth=3, max_features=auto, warm_start=True;, score=0.560 total time=   0.5s\n"
          ]
        },
        {
          "output_type": "stream",
          "name": "stderr",
          "text": [
            "/usr/local/lib/python3.7/dist-packages/sklearn/ensemble/_forest.py:756: UserWarning: class_weight presets \"balanced\" or \"balanced_subsample\" are not recommended for warm_start if the fitted data differs from the full dataset. In order to use \"balanced\" weights, use compute_class_weight (\"balanced\", classes, y). In place of y you can use a large enough sample of the full training set target to properly estimate the class frequency distributions. Pass the resulting weights as the class_weight parameter.\n",
            "  'class_weight presets \"balanced\" or '\n"
          ]
        },
        {
          "output_type": "stream",
          "name": "stdout",
          "text": [
            "[CV 4/5] END bootstrap=False, class_weight=balanced_subsample, criterion=entropy, max_depth=3, max_features=auto, warm_start=True;, score=0.520 total time=   0.5s\n"
          ]
        },
        {
          "output_type": "stream",
          "name": "stderr",
          "text": [
            "/usr/local/lib/python3.7/dist-packages/sklearn/ensemble/_forest.py:756: UserWarning: class_weight presets \"balanced\" or \"balanced_subsample\" are not recommended for warm_start if the fitted data differs from the full dataset. In order to use \"balanced\" weights, use compute_class_weight (\"balanced\", classes, y). In place of y you can use a large enough sample of the full training set target to properly estimate the class frequency distributions. Pass the resulting weights as the class_weight parameter.\n",
            "  'class_weight presets \"balanced\" or '\n"
          ]
        },
        {
          "output_type": "stream",
          "name": "stdout",
          "text": [
            "[CV 5/5] END bootstrap=False, class_weight=balanced_subsample, criterion=entropy, max_depth=3, max_features=auto, warm_start=True;, score=0.605 total time=   0.6s\n",
            "[CV 1/5] END bootstrap=False, class_weight=balanced_subsample, criterion=entropy, max_depth=3, max_features=sqrt, warm_start=False;, score=0.670 total time=   0.6s\n",
            "[CV 2/5] END bootstrap=False, class_weight=balanced_subsample, criterion=entropy, max_depth=3, max_features=sqrt, warm_start=False;, score=0.645 total time=   0.5s\n",
            "[CV 3/5] END bootstrap=False, class_weight=balanced_subsample, criterion=entropy, max_depth=3, max_features=sqrt, warm_start=False;, score=0.575 total time=   0.5s\n",
            "[CV 4/5] END bootstrap=False, class_weight=balanced_subsample, criterion=entropy, max_depth=3, max_features=sqrt, warm_start=False;, score=0.555 total time=   0.5s\n",
            "[CV 5/5] END bootstrap=False, class_weight=balanced_subsample, criterion=entropy, max_depth=3, max_features=sqrt, warm_start=False;, score=0.565 total time=   0.6s\n"
          ]
        },
        {
          "output_type": "stream",
          "name": "stderr",
          "text": [
            "/usr/local/lib/python3.7/dist-packages/sklearn/ensemble/_forest.py:756: UserWarning: class_weight presets \"balanced\" or \"balanced_subsample\" are not recommended for warm_start if the fitted data differs from the full dataset. In order to use \"balanced\" weights, use compute_class_weight (\"balanced\", classes, y). In place of y you can use a large enough sample of the full training set target to properly estimate the class frequency distributions. Pass the resulting weights as the class_weight parameter.\n",
            "  'class_weight presets \"balanced\" or '\n"
          ]
        },
        {
          "output_type": "stream",
          "name": "stdout",
          "text": [
            "[CV 1/5] END bootstrap=False, class_weight=balanced_subsample, criterion=entropy, max_depth=3, max_features=sqrt, warm_start=True;, score=0.640 total time=   0.5s\n"
          ]
        },
        {
          "output_type": "stream",
          "name": "stderr",
          "text": [
            "/usr/local/lib/python3.7/dist-packages/sklearn/ensemble/_forest.py:756: UserWarning: class_weight presets \"balanced\" or \"balanced_subsample\" are not recommended for warm_start if the fitted data differs from the full dataset. In order to use \"balanced\" weights, use compute_class_weight (\"balanced\", classes, y). In place of y you can use a large enough sample of the full training set target to properly estimate the class frequency distributions. Pass the resulting weights as the class_weight parameter.\n",
            "  'class_weight presets \"balanced\" or '\n"
          ]
        },
        {
          "output_type": "stream",
          "name": "stdout",
          "text": [
            "[CV 2/5] END bootstrap=False, class_weight=balanced_subsample, criterion=entropy, max_depth=3, max_features=sqrt, warm_start=True;, score=0.630 total time=   0.6s\n"
          ]
        },
        {
          "output_type": "stream",
          "name": "stderr",
          "text": [
            "/usr/local/lib/python3.7/dist-packages/sklearn/ensemble/_forest.py:756: UserWarning: class_weight presets \"balanced\" or \"balanced_subsample\" are not recommended for warm_start if the fitted data differs from the full dataset. In order to use \"balanced\" weights, use compute_class_weight (\"balanced\", classes, y). In place of y you can use a large enough sample of the full training set target to properly estimate the class frequency distributions. Pass the resulting weights as the class_weight parameter.\n",
            "  'class_weight presets \"balanced\" or '\n"
          ]
        },
        {
          "output_type": "stream",
          "name": "stdout",
          "text": [
            "[CV 3/5] END bootstrap=False, class_weight=balanced_subsample, criterion=entropy, max_depth=3, max_features=sqrt, warm_start=True;, score=0.550 total time=   0.6s\n"
          ]
        },
        {
          "output_type": "stream",
          "name": "stderr",
          "text": [
            "/usr/local/lib/python3.7/dist-packages/sklearn/ensemble/_forest.py:756: UserWarning: class_weight presets \"balanced\" or \"balanced_subsample\" are not recommended for warm_start if the fitted data differs from the full dataset. In order to use \"balanced\" weights, use compute_class_weight (\"balanced\", classes, y). In place of y you can use a large enough sample of the full training set target to properly estimate the class frequency distributions. Pass the resulting weights as the class_weight parameter.\n",
            "  'class_weight presets \"balanced\" or '\n"
          ]
        },
        {
          "output_type": "stream",
          "name": "stdout",
          "text": [
            "[CV 4/5] END bootstrap=False, class_weight=balanced_subsample, criterion=entropy, max_depth=3, max_features=sqrt, warm_start=True;, score=0.555 total time=   0.5s\n"
          ]
        },
        {
          "output_type": "stream",
          "name": "stderr",
          "text": [
            "/usr/local/lib/python3.7/dist-packages/sklearn/ensemble/_forest.py:756: UserWarning: class_weight presets \"balanced\" or \"balanced_subsample\" are not recommended for warm_start if the fitted data differs from the full dataset. In order to use \"balanced\" weights, use compute_class_weight (\"balanced\", classes, y). In place of y you can use a large enough sample of the full training set target to properly estimate the class frequency distributions. Pass the resulting weights as the class_weight parameter.\n",
            "  'class_weight presets \"balanced\" or '\n"
          ]
        },
        {
          "output_type": "stream",
          "name": "stdout",
          "text": [
            "[CV 5/5] END bootstrap=False, class_weight=balanced_subsample, criterion=entropy, max_depth=3, max_features=sqrt, warm_start=True;, score=0.575 total time=   0.5s\n",
            "[CV 1/5] END bootstrap=False, class_weight=balanced_subsample, criterion=entropy, max_depth=3, max_features=log2, warm_start=False;, score=0.665 total time=   0.5s\n",
            "[CV 2/5] END bootstrap=False, class_weight=balanced_subsample, criterion=entropy, max_depth=3, max_features=log2, warm_start=False;, score=0.590 total time=   0.5s\n",
            "[CV 3/5] END bootstrap=False, class_weight=balanced_subsample, criterion=entropy, max_depth=3, max_features=log2, warm_start=False;, score=0.550 total time=   0.5s\n",
            "[CV 4/5] END bootstrap=False, class_weight=balanced_subsample, criterion=entropy, max_depth=3, max_features=log2, warm_start=False;, score=0.570 total time=   0.5s\n",
            "[CV 5/5] END bootstrap=False, class_weight=balanced_subsample, criterion=entropy, max_depth=3, max_features=log2, warm_start=False;, score=0.570 total time=   0.5s\n"
          ]
        },
        {
          "output_type": "stream",
          "name": "stderr",
          "text": [
            "/usr/local/lib/python3.7/dist-packages/sklearn/ensemble/_forest.py:756: UserWarning: class_weight presets \"balanced\" or \"balanced_subsample\" are not recommended for warm_start if the fitted data differs from the full dataset. In order to use \"balanced\" weights, use compute_class_weight (\"balanced\", classes, y). In place of y you can use a large enough sample of the full training set target to properly estimate the class frequency distributions. Pass the resulting weights as the class_weight parameter.\n",
            "  'class_weight presets \"balanced\" or '\n"
          ]
        },
        {
          "output_type": "stream",
          "name": "stdout",
          "text": [
            "[CV 1/5] END bootstrap=False, class_weight=balanced_subsample, criterion=entropy, max_depth=3, max_features=log2, warm_start=True;, score=0.660 total time=   0.6s\n"
          ]
        },
        {
          "output_type": "stream",
          "name": "stderr",
          "text": [
            "/usr/local/lib/python3.7/dist-packages/sklearn/ensemble/_forest.py:756: UserWarning: class_weight presets \"balanced\" or \"balanced_subsample\" are not recommended for warm_start if the fitted data differs from the full dataset. In order to use \"balanced\" weights, use compute_class_weight (\"balanced\", classes, y). In place of y you can use a large enough sample of the full training set target to properly estimate the class frequency distributions. Pass the resulting weights as the class_weight parameter.\n",
            "  'class_weight presets \"balanced\" or '\n"
          ]
        },
        {
          "output_type": "stream",
          "name": "stdout",
          "text": [
            "[CV 2/5] END bootstrap=False, class_weight=balanced_subsample, criterion=entropy, max_depth=3, max_features=log2, warm_start=True;, score=0.630 total time=   0.5s\n"
          ]
        },
        {
          "output_type": "stream",
          "name": "stderr",
          "text": [
            "/usr/local/lib/python3.7/dist-packages/sklearn/ensemble/_forest.py:756: UserWarning: class_weight presets \"balanced\" or \"balanced_subsample\" are not recommended for warm_start if the fitted data differs from the full dataset. In order to use \"balanced\" weights, use compute_class_weight (\"balanced\", classes, y). In place of y you can use a large enough sample of the full training set target to properly estimate the class frequency distributions. Pass the resulting weights as the class_weight parameter.\n",
            "  'class_weight presets \"balanced\" or '\n"
          ]
        },
        {
          "output_type": "stream",
          "name": "stdout",
          "text": [
            "[CV 3/5] END bootstrap=False, class_weight=balanced_subsample, criterion=entropy, max_depth=3, max_features=log2, warm_start=True;, score=0.610 total time=   0.5s\n"
          ]
        },
        {
          "output_type": "stream",
          "name": "stderr",
          "text": [
            "/usr/local/lib/python3.7/dist-packages/sklearn/ensemble/_forest.py:756: UserWarning: class_weight presets \"balanced\" or \"balanced_subsample\" are not recommended for warm_start if the fitted data differs from the full dataset. In order to use \"balanced\" weights, use compute_class_weight (\"balanced\", classes, y). In place of y you can use a large enough sample of the full training set target to properly estimate the class frequency distributions. Pass the resulting weights as the class_weight parameter.\n",
            "  'class_weight presets \"balanced\" or '\n"
          ]
        },
        {
          "output_type": "stream",
          "name": "stdout",
          "text": [
            "[CV 4/5] END bootstrap=False, class_weight=balanced_subsample, criterion=entropy, max_depth=3, max_features=log2, warm_start=True;, score=0.575 total time=   0.5s\n"
          ]
        },
        {
          "output_type": "stream",
          "name": "stderr",
          "text": [
            "/usr/local/lib/python3.7/dist-packages/sklearn/ensemble/_forest.py:756: UserWarning: class_weight presets \"balanced\" or \"balanced_subsample\" are not recommended for warm_start if the fitted data differs from the full dataset. In order to use \"balanced\" weights, use compute_class_weight (\"balanced\", classes, y). In place of y you can use a large enough sample of the full training set target to properly estimate the class frequency distributions. Pass the resulting weights as the class_weight parameter.\n",
            "  'class_weight presets \"balanced\" or '\n"
          ]
        },
        {
          "output_type": "stream",
          "name": "stdout",
          "text": [
            "[CV 5/5] END bootstrap=False, class_weight=balanced_subsample, criterion=entropy, max_depth=3, max_features=log2, warm_start=True;, score=0.590 total time=   0.5s\n",
            "[CV 1/5] END bootstrap=False, class_weight=balanced_subsample, criterion=entropy, max_depth=5, max_features=auto, warm_start=False;, score=0.705 total time=   0.8s\n",
            "[CV 2/5] END bootstrap=False, class_weight=balanced_subsample, criterion=entropy, max_depth=5, max_features=auto, warm_start=False;, score=0.655 total time=   0.8s\n",
            "[CV 3/5] END bootstrap=False, class_weight=balanced_subsample, criterion=entropy, max_depth=5, max_features=auto, warm_start=False;, score=0.615 total time=   0.8s\n",
            "[CV 4/5] END bootstrap=False, class_weight=balanced_subsample, criterion=entropy, max_depth=5, max_features=auto, warm_start=False;, score=0.625 total time=   0.8s\n",
            "[CV 5/5] END bootstrap=False, class_weight=balanced_subsample, criterion=entropy, max_depth=5, max_features=auto, warm_start=False;, score=0.625 total time=   0.8s\n"
          ]
        },
        {
          "output_type": "stream",
          "name": "stderr",
          "text": [
            "/usr/local/lib/python3.7/dist-packages/sklearn/ensemble/_forest.py:756: UserWarning: class_weight presets \"balanced\" or \"balanced_subsample\" are not recommended for warm_start if the fitted data differs from the full dataset. In order to use \"balanced\" weights, use compute_class_weight (\"balanced\", classes, y). In place of y you can use a large enough sample of the full training set target to properly estimate the class frequency distributions. Pass the resulting weights as the class_weight parameter.\n",
            "  'class_weight presets \"balanced\" or '\n"
          ]
        },
        {
          "output_type": "stream",
          "name": "stdout",
          "text": [
            "[CV 1/5] END bootstrap=False, class_weight=balanced_subsample, criterion=entropy, max_depth=5, max_features=auto, warm_start=True;, score=0.690 total time=   0.8s\n"
          ]
        },
        {
          "output_type": "stream",
          "name": "stderr",
          "text": [
            "/usr/local/lib/python3.7/dist-packages/sklearn/ensemble/_forest.py:756: UserWarning: class_weight presets \"balanced\" or \"balanced_subsample\" are not recommended for warm_start if the fitted data differs from the full dataset. In order to use \"balanced\" weights, use compute_class_weight (\"balanced\", classes, y). In place of y you can use a large enough sample of the full training set target to properly estimate the class frequency distributions. Pass the resulting weights as the class_weight parameter.\n",
            "  'class_weight presets \"balanced\" or '\n"
          ]
        },
        {
          "output_type": "stream",
          "name": "stdout",
          "text": [
            "[CV 2/5] END bootstrap=False, class_weight=balanced_subsample, criterion=entropy, max_depth=5, max_features=auto, warm_start=True;, score=0.645 total time=   0.8s\n"
          ]
        },
        {
          "output_type": "stream",
          "name": "stderr",
          "text": [
            "/usr/local/lib/python3.7/dist-packages/sklearn/ensemble/_forest.py:756: UserWarning: class_weight presets \"balanced\" or \"balanced_subsample\" are not recommended for warm_start if the fitted data differs from the full dataset. In order to use \"balanced\" weights, use compute_class_weight (\"balanced\", classes, y). In place of y you can use a large enough sample of the full training set target to properly estimate the class frequency distributions. Pass the resulting weights as the class_weight parameter.\n",
            "  'class_weight presets \"balanced\" or '\n"
          ]
        },
        {
          "output_type": "stream",
          "name": "stdout",
          "text": [
            "[CV 3/5] END bootstrap=False, class_weight=balanced_subsample, criterion=entropy, max_depth=5, max_features=auto, warm_start=True;, score=0.605 total time=   0.8s\n"
          ]
        },
        {
          "output_type": "stream",
          "name": "stderr",
          "text": [
            "/usr/local/lib/python3.7/dist-packages/sklearn/ensemble/_forest.py:756: UserWarning: class_weight presets \"balanced\" or \"balanced_subsample\" are not recommended for warm_start if the fitted data differs from the full dataset. In order to use \"balanced\" weights, use compute_class_weight (\"balanced\", classes, y). In place of y you can use a large enough sample of the full training set target to properly estimate the class frequency distributions. Pass the resulting weights as the class_weight parameter.\n",
            "  'class_weight presets \"balanced\" or '\n"
          ]
        },
        {
          "output_type": "stream",
          "name": "stdout",
          "text": [
            "[CV 4/5] END bootstrap=False, class_weight=balanced_subsample, criterion=entropy, max_depth=5, max_features=auto, warm_start=True;, score=0.635 total time=   0.8s\n"
          ]
        },
        {
          "output_type": "stream",
          "name": "stderr",
          "text": [
            "/usr/local/lib/python3.7/dist-packages/sklearn/ensemble/_forest.py:756: UserWarning: class_weight presets \"balanced\" or \"balanced_subsample\" are not recommended for warm_start if the fitted data differs from the full dataset. In order to use \"balanced\" weights, use compute_class_weight (\"balanced\", classes, y). In place of y you can use a large enough sample of the full training set target to properly estimate the class frequency distributions. Pass the resulting weights as the class_weight parameter.\n",
            "  'class_weight presets \"balanced\" or '\n"
          ]
        },
        {
          "output_type": "stream",
          "name": "stdout",
          "text": [
            "[CV 5/5] END bootstrap=False, class_weight=balanced_subsample, criterion=entropy, max_depth=5, max_features=auto, warm_start=True;, score=0.655 total time=   0.8s\n",
            "[CV 1/5] END bootstrap=False, class_weight=balanced_subsample, criterion=entropy, max_depth=5, max_features=sqrt, warm_start=False;, score=0.695 total time=   0.8s\n",
            "[CV 2/5] END bootstrap=False, class_weight=balanced_subsample, criterion=entropy, max_depth=5, max_features=sqrt, warm_start=False;, score=0.640 total time=   0.8s\n",
            "[CV 3/5] END bootstrap=False, class_weight=balanced_subsample, criterion=entropy, max_depth=5, max_features=sqrt, warm_start=False;, score=0.620 total time=   0.8s\n",
            "[CV 4/5] END bootstrap=False, class_weight=balanced_subsample, criterion=entropy, max_depth=5, max_features=sqrt, warm_start=False;, score=0.625 total time=   0.8s\n",
            "[CV 5/5] END bootstrap=False, class_weight=balanced_subsample, criterion=entropy, max_depth=5, max_features=sqrt, warm_start=False;, score=0.630 total time=   0.8s\n"
          ]
        },
        {
          "output_type": "stream",
          "name": "stderr",
          "text": [
            "/usr/local/lib/python3.7/dist-packages/sklearn/ensemble/_forest.py:756: UserWarning: class_weight presets \"balanced\" or \"balanced_subsample\" are not recommended for warm_start if the fitted data differs from the full dataset. In order to use \"balanced\" weights, use compute_class_weight (\"balanced\", classes, y). In place of y you can use a large enough sample of the full training set target to properly estimate the class frequency distributions. Pass the resulting weights as the class_weight parameter.\n",
            "  'class_weight presets \"balanced\" or '\n"
          ]
        },
        {
          "output_type": "stream",
          "name": "stdout",
          "text": [
            "[CV 1/5] END bootstrap=False, class_weight=balanced_subsample, criterion=entropy, max_depth=5, max_features=sqrt, warm_start=True;, score=0.705 total time=   0.8s\n"
          ]
        },
        {
          "output_type": "stream",
          "name": "stderr",
          "text": [
            "/usr/local/lib/python3.7/dist-packages/sklearn/ensemble/_forest.py:756: UserWarning: class_weight presets \"balanced\" or \"balanced_subsample\" are not recommended for warm_start if the fitted data differs from the full dataset. In order to use \"balanced\" weights, use compute_class_weight (\"balanced\", classes, y). In place of y you can use a large enough sample of the full training set target to properly estimate the class frequency distributions. Pass the resulting weights as the class_weight parameter.\n",
            "  'class_weight presets \"balanced\" or '\n"
          ]
        },
        {
          "output_type": "stream",
          "name": "stdout",
          "text": [
            "[CV 2/5] END bootstrap=False, class_weight=balanced_subsample, criterion=entropy, max_depth=5, max_features=sqrt, warm_start=True;, score=0.650 total time=   0.8s\n"
          ]
        },
        {
          "output_type": "stream",
          "name": "stderr",
          "text": [
            "/usr/local/lib/python3.7/dist-packages/sklearn/ensemble/_forest.py:756: UserWarning: class_weight presets \"balanced\" or \"balanced_subsample\" are not recommended for warm_start if the fitted data differs from the full dataset. In order to use \"balanced\" weights, use compute_class_weight (\"balanced\", classes, y). In place of y you can use a large enough sample of the full training set target to properly estimate the class frequency distributions. Pass the resulting weights as the class_weight parameter.\n",
            "  'class_weight presets \"balanced\" or '\n"
          ]
        },
        {
          "output_type": "stream",
          "name": "stdout",
          "text": [
            "[CV 3/5] END bootstrap=False, class_weight=balanced_subsample, criterion=entropy, max_depth=5, max_features=sqrt, warm_start=True;, score=0.620 total time=   0.8s\n"
          ]
        },
        {
          "output_type": "stream",
          "name": "stderr",
          "text": [
            "/usr/local/lib/python3.7/dist-packages/sklearn/ensemble/_forest.py:756: UserWarning: class_weight presets \"balanced\" or \"balanced_subsample\" are not recommended for warm_start if the fitted data differs from the full dataset. In order to use \"balanced\" weights, use compute_class_weight (\"balanced\", classes, y). In place of y you can use a large enough sample of the full training set target to properly estimate the class frequency distributions. Pass the resulting weights as the class_weight parameter.\n",
            "  'class_weight presets \"balanced\" or '\n"
          ]
        },
        {
          "output_type": "stream",
          "name": "stdout",
          "text": [
            "[CV 4/5] END bootstrap=False, class_weight=balanced_subsample, criterion=entropy, max_depth=5, max_features=sqrt, warm_start=True;, score=0.635 total time=   0.8s\n"
          ]
        },
        {
          "output_type": "stream",
          "name": "stderr",
          "text": [
            "/usr/local/lib/python3.7/dist-packages/sklearn/ensemble/_forest.py:756: UserWarning: class_weight presets \"balanced\" or \"balanced_subsample\" are not recommended for warm_start if the fitted data differs from the full dataset. In order to use \"balanced\" weights, use compute_class_weight (\"balanced\", classes, y). In place of y you can use a large enough sample of the full training set target to properly estimate the class frequency distributions. Pass the resulting weights as the class_weight parameter.\n",
            "  'class_weight presets \"balanced\" or '\n"
          ]
        },
        {
          "output_type": "stream",
          "name": "stdout",
          "text": [
            "[CV 5/5] END bootstrap=False, class_weight=balanced_subsample, criterion=entropy, max_depth=5, max_features=sqrt, warm_start=True;, score=0.625 total time=   0.8s\n",
            "[CV 1/5] END bootstrap=False, class_weight=balanced_subsample, criterion=entropy, max_depth=5, max_features=log2, warm_start=False;, score=0.675 total time=   0.8s\n",
            "[CV 2/5] END bootstrap=False, class_weight=balanced_subsample, criterion=entropy, max_depth=5, max_features=log2, warm_start=False;, score=0.660 total time=   0.8s\n",
            "[CV 3/5] END bootstrap=False, class_weight=balanced_subsample, criterion=entropy, max_depth=5, max_features=log2, warm_start=False;, score=0.605 total time=   0.8s\n",
            "[CV 4/5] END bootstrap=False, class_weight=balanced_subsample, criterion=entropy, max_depth=5, max_features=log2, warm_start=False;, score=0.650 total time=   0.8s\n",
            "[CV 5/5] END bootstrap=False, class_weight=balanced_subsample, criterion=entropy, max_depth=5, max_features=log2, warm_start=False;, score=0.640 total time=   0.8s\n"
          ]
        },
        {
          "output_type": "stream",
          "name": "stderr",
          "text": [
            "/usr/local/lib/python3.7/dist-packages/sklearn/ensemble/_forest.py:756: UserWarning: class_weight presets \"balanced\" or \"balanced_subsample\" are not recommended for warm_start if the fitted data differs from the full dataset. In order to use \"balanced\" weights, use compute_class_weight (\"balanced\", classes, y). In place of y you can use a large enough sample of the full training set target to properly estimate the class frequency distributions. Pass the resulting weights as the class_weight parameter.\n",
            "  'class_weight presets \"balanced\" or '\n"
          ]
        },
        {
          "output_type": "stream",
          "name": "stdout",
          "text": [
            "[CV 1/5] END bootstrap=False, class_weight=balanced_subsample, criterion=entropy, max_depth=5, max_features=log2, warm_start=True;, score=0.690 total time=   0.8s\n"
          ]
        },
        {
          "output_type": "stream",
          "name": "stderr",
          "text": [
            "/usr/local/lib/python3.7/dist-packages/sklearn/ensemble/_forest.py:756: UserWarning: class_weight presets \"balanced\" or \"balanced_subsample\" are not recommended for warm_start if the fitted data differs from the full dataset. In order to use \"balanced\" weights, use compute_class_weight (\"balanced\", classes, y). In place of y you can use a large enough sample of the full training set target to properly estimate the class frequency distributions. Pass the resulting weights as the class_weight parameter.\n",
            "  'class_weight presets \"balanced\" or '\n"
          ]
        },
        {
          "output_type": "stream",
          "name": "stdout",
          "text": [
            "[CV 2/5] END bootstrap=False, class_weight=balanced_subsample, criterion=entropy, max_depth=5, max_features=log2, warm_start=True;, score=0.670 total time=   0.8s\n"
          ]
        },
        {
          "output_type": "stream",
          "name": "stderr",
          "text": [
            "/usr/local/lib/python3.7/dist-packages/sklearn/ensemble/_forest.py:756: UserWarning: class_weight presets \"balanced\" or \"balanced_subsample\" are not recommended for warm_start if the fitted data differs from the full dataset. In order to use \"balanced\" weights, use compute_class_weight (\"balanced\", classes, y). In place of y you can use a large enough sample of the full training set target to properly estimate the class frequency distributions. Pass the resulting weights as the class_weight parameter.\n",
            "  'class_weight presets \"balanced\" or '\n"
          ]
        },
        {
          "output_type": "stream",
          "name": "stdout",
          "text": [
            "[CV 3/5] END bootstrap=False, class_weight=balanced_subsample, criterion=entropy, max_depth=5, max_features=log2, warm_start=True;, score=0.600 total time=   0.8s\n"
          ]
        },
        {
          "output_type": "stream",
          "name": "stderr",
          "text": [
            "/usr/local/lib/python3.7/dist-packages/sklearn/ensemble/_forest.py:756: UserWarning: class_weight presets \"balanced\" or \"balanced_subsample\" are not recommended for warm_start if the fitted data differs from the full dataset. In order to use \"balanced\" weights, use compute_class_weight (\"balanced\", classes, y). In place of y you can use a large enough sample of the full training set target to properly estimate the class frequency distributions. Pass the resulting weights as the class_weight parameter.\n",
            "  'class_weight presets \"balanced\" or '\n"
          ]
        },
        {
          "output_type": "stream",
          "name": "stdout",
          "text": [
            "[CV 4/5] END bootstrap=False, class_weight=balanced_subsample, criterion=entropy, max_depth=5, max_features=log2, warm_start=True;, score=0.625 total time=   0.8s\n"
          ]
        },
        {
          "output_type": "stream",
          "name": "stderr",
          "text": [
            "/usr/local/lib/python3.7/dist-packages/sklearn/ensemble/_forest.py:756: UserWarning: class_weight presets \"balanced\" or \"balanced_subsample\" are not recommended for warm_start if the fitted data differs from the full dataset. In order to use \"balanced\" weights, use compute_class_weight (\"balanced\", classes, y). In place of y you can use a large enough sample of the full training set target to properly estimate the class frequency distributions. Pass the resulting weights as the class_weight parameter.\n",
            "  'class_weight presets \"balanced\" or '\n"
          ]
        },
        {
          "output_type": "stream",
          "name": "stdout",
          "text": [
            "[CV 5/5] END bootstrap=False, class_weight=balanced_subsample, criterion=entropy, max_depth=5, max_features=log2, warm_start=True;, score=0.635 total time=   0.8s\n",
            "{'bootstrap': True, 'class_weight': 'balanced_subsample', 'criterion': 'entropy', 'max_depth': 5, 'max_features': 'auto', 'warm_start': False}\n",
            "RandomForestClassifier(class_weight='balanced_subsample', criterion='entropy',\n",
            "                       max_depth=5)\n"
          ]
        }
      ]
    },
    {
      "cell_type": "code",
      "metadata": {
        "colab": {
          "base_uri": "https://localhost:8080/",
          "height": 0
        },
        "id": "_74Ayeua-n8e",
        "outputId": "bd7e746f-1bf2-4e58-d9a5-22bf374f52f1"
      },
      "source": [
        "# HYperParam Tuned Version\n",
        "clf_ = RFC(bootstrap=False, class_weight='balanced',\n",
        "                       criterion='entropy', max_depth=5, max_features='sqrt', warm_start=False)\n",
        "clf_.fit(X,y)\n",
        "print(clf_.score(X,y))"
      ],
      "execution_count": 17,
      "outputs": [
        {
          "output_type": "stream",
          "name": "stdout",
          "text": [
            "0.78\n"
          ]
        }
      ]
    }
  ]
}