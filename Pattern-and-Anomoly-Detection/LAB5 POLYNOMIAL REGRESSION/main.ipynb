{
 "cells": [
  {
   "cell_type": "markdown",
   "source": [
    "## Importing libraries!"
   ],
   "metadata": {}
  },
  {
   "cell_type": "code",
   "execution_count": 1,
   "source": [
    "import pandas as pd \n",
    "import numpy as np\n",
    "import matplotlib.pyplot as plt\n",
    "import seaborn as sns\n",
    "%matplotlib inline"
   ],
   "outputs": [],
   "metadata": {}
  },
  {
   "cell_type": "markdown",
   "source": [
    "# 1) Make the Regression!"
   ],
   "metadata": {}
  },
  {
   "cell_type": "code",
   "execution_count": 16,
   "source": [
    "#create a dataset using sklearn x scalar,y scalar,N = 1000\n",
    "from sklearn.datasets import make_regression\n",
    "x,y = make_regression(n_samples=100,n_features=1,noise=20,random_state=101)"
   ],
   "outputs": [],
   "metadata": {}
  },
  {
   "cell_type": "markdown",
   "source": [
    "# 2) Plot and Analyze data"
   ],
   "metadata": {}
  },
  {
   "cell_type": "code",
   "execution_count": 17,
   "source": [
    "plt.scatter(x[:,0],y)\n",
    "plt.show()"
   ],
   "outputs": [
    {
     "output_type": "display_data",
     "data": {
      "text/plain": [
       "<Figure size 432x288 with 1 Axes>"
      ],
      "image/svg+xml": "<?xml version=\"1.0\" encoding=\"utf-8\" standalone=\"no\"?>\n<!DOCTYPE svg PUBLIC \"-//W3C//DTD SVG 1.1//EN\"\n  \"http://www.w3.org/Graphics/SVG/1.1/DTD/svg11.dtd\">\n<!-- Created with matplotlib (https://matplotlib.org/) -->\n<svg height=\"248.518125pt\" version=\"1.1\" viewBox=\"0 0 377.304688 248.518125\" width=\"377.304688pt\" xmlns=\"http://www.w3.org/2000/svg\" xmlns:xlink=\"http://www.w3.org/1999/xlink\">\n <metadata>\n  <rdf:RDF xmlns:cc=\"http://creativecommons.org/ns#\" xmlns:dc=\"http://purl.org/dc/elements/1.1/\" xmlns:rdf=\"http://www.w3.org/1999/02/22-rdf-syntax-ns#\">\n   <cc:Work>\n    <dc:type rdf:resource=\"http://purl.org/dc/dcmitype/StillImage\"/>\n    <dc:date>2021-09-06T16:07:05.762266</dc:date>\n    <dc:format>image/svg+xml</dc:format>\n    <dc:creator>\n     <cc:Agent>\n      <dc:title>Matplotlib v3.3.4, https://matplotlib.org/</dc:title>\n     </cc:Agent>\n    </dc:creator>\n   </cc:Work>\n  </rdf:RDF>\n </metadata>\n <defs>\n  <style type=\"text/css\">*{stroke-linecap:butt;stroke-linejoin:round;}</style>\n </defs>\n <g id=\"figure_1\">\n  <g id=\"patch_1\">\n   <path d=\"M 0 248.518125 \nL 377.304688 248.518125 \nL 377.304688 0 \nL 0 0 \nz\n\" style=\"fill:none;\"/>\n  </g>\n  <g id=\"axes_1\">\n   <g id=\"patch_2\">\n    <path d=\"M 35.304688 224.64 \nL 370.104688 224.64 \nL 370.104688 7.2 \nL 35.304688 7.2 \nz\n\" style=\"fill:#ffffff;\"/>\n   </g>\n   <g id=\"PathCollection_1\">\n    <defs>\n     <path d=\"M 0 3 \nC 0.795609 3 1.55874 2.683901 2.12132 2.12132 \nC 2.683901 1.55874 3 0.795609 3 0 \nC 3 -0.795609 2.683901 -1.55874 2.12132 -2.12132 \nC 1.55874 -2.683901 0.795609 -3 0 -3 \nC -0.795609 -3 -1.55874 -2.683901 -2.12132 -2.12132 \nC -2.683901 -1.55874 -3 -0.795609 -3 0 \nC -3 0.795609 -2.683901 1.55874 -2.12132 2.12132 \nC -1.55874 2.683901 -0.795609 3 0 3 \nz\n\" id=\"me7751d5f0e\" style=\"stroke:#1f77b4;\"/>\n    </defs>\n    <g clip-path=\"url(#pc7bdb63c1f)\">\n     <use style=\"fill:#1f77b4;stroke:#1f77b4;\" x=\"196.795572\" xlink:href=\"#me7751d5f0e\" y=\"113.528397\"/>\n     <use style=\"fill:#1f77b4;stroke:#1f77b4;\" x=\"227.860202\" xlink:href=\"#me7751d5f0e\" y=\"91.143559\"/>\n     <use style=\"fill:#1f77b4;stroke:#1f77b4;\" x=\"160.392193\" xlink:href=\"#me7751d5f0e\" y=\"160.5008\"/>\n     <use style=\"fill:#1f77b4;stroke:#1f77b4;\" x=\"196.927349\" xlink:href=\"#me7751d5f0e\" y=\"130.276062\"/>\n     <use style=\"fill:#1f77b4;stroke:#1f77b4;\" x=\"77.840308\" xlink:href=\"#me7751d5f0e\" y=\"193.907819\"/>\n     <use style=\"fill:#1f77b4;stroke:#1f77b4;\" x=\"50.522869\" xlink:href=\"#me7751d5f0e\" y=\"202.172675\"/>\n     <use style=\"fill:#1f77b4;stroke:#1f77b4;\" x=\"137.306844\" xlink:href=\"#me7751d5f0e\" y=\"162.823717\"/>\n     <use style=\"fill:#1f77b4;stroke:#1f77b4;\" x=\"225.052542\" xlink:href=\"#me7751d5f0e\" y=\"134.591756\"/>\n     <use style=\"fill:#1f77b4;stroke:#1f77b4;\" x=\"220.028999\" xlink:href=\"#me7751d5f0e\" y=\"113.632807\"/>\n     <use style=\"fill:#1f77b4;stroke:#1f77b4;\" x=\"98.128812\" xlink:href=\"#me7751d5f0e\" y=\"144.832402\"/>\n     <use style=\"fill:#1f77b4;stroke:#1f77b4;\" x=\"320.231471\" xlink:href=\"#me7751d5f0e\" y=\"42.540829\"/>\n     <use style=\"fill:#1f77b4;stroke:#1f77b4;\" x=\"226.781033\" xlink:href=\"#me7751d5f0e\" y=\"99.214868\"/>\n     <use style=\"fill:#1f77b4;stroke:#1f77b4;\" x=\"354.886506\" xlink:href=\"#me7751d5f0e\" y=\"49.151942\"/>\n     <use style=\"fill:#1f77b4;stroke:#1f77b4;\" x=\"130.525738\" xlink:href=\"#me7751d5f0e\" y=\"162.753575\"/>\n     <use style=\"fill:#1f77b4;stroke:#1f77b4;\" x=\"222.991983\" xlink:href=\"#me7751d5f0e\" y=\"122.477992\"/>\n     <use style=\"fill:#1f77b4;stroke:#1f77b4;\" x=\"138.379282\" xlink:href=\"#me7751d5f0e\" y=\"158.764523\"/>\n     <use style=\"fill:#1f77b4;stroke:#1f77b4;\" x=\"112.179125\" xlink:href=\"#me7751d5f0e\" y=\"158.105359\"/>\n     <use style=\"fill:#1f77b4;stroke:#1f77b4;\" x=\"224.38366\" xlink:href=\"#me7751d5f0e\" y=\"77.204384\"/>\n     <use style=\"fill:#1f77b4;stroke:#1f77b4;\" x=\"306.73906\" xlink:href=\"#me7751d5f0e\" y=\"22.09378\"/>\n     <use style=\"fill:#1f77b4;stroke:#1f77b4;\" x=\"218.148353\" xlink:href=\"#me7751d5f0e\" y=\"101.6252\"/>\n     <use style=\"fill:#1f77b4;stroke:#1f77b4;\" x=\"161.31117\" xlink:href=\"#me7751d5f0e\" y=\"175.021639\"/>\n     <use style=\"fill:#1f77b4;stroke:#1f77b4;\" x=\"209.466714\" xlink:href=\"#me7751d5f0e\" y=\"100.998488\"/>\n     <use style=\"fill:#1f77b4;stroke:#1f77b4;\" x=\"151.158566\" xlink:href=\"#me7751d5f0e\" y=\"133.450465\"/>\n     <use style=\"fill:#1f77b4;stroke:#1f77b4;\" x=\"153.92965\" xlink:href=\"#me7751d5f0e\" y=\"120.849696\"/>\n     <use style=\"fill:#1f77b4;stroke:#1f77b4;\" x=\"225.242045\" xlink:href=\"#me7751d5f0e\" y=\"114.265141\"/>\n     <use style=\"fill:#1f77b4;stroke:#1f77b4;\" x=\"291.281918\" xlink:href=\"#me7751d5f0e\" y=\"60.720103\"/>\n     <use style=\"fill:#1f77b4;stroke:#1f77b4;\" x=\"175.1179\" xlink:href=\"#me7751d5f0e\" y=\"147.404936\"/>\n     <use style=\"fill:#1f77b4;stroke:#1f77b4;\" x=\"126.360117\" xlink:href=\"#me7751d5f0e\" y=\"201.240351\"/>\n     <use style=\"fill:#1f77b4;stroke:#1f77b4;\" x=\"196.696957\" xlink:href=\"#me7751d5f0e\" y=\"93.341339\"/>\n     <use style=\"fill:#1f77b4;stroke:#1f77b4;\" x=\"153.740765\" xlink:href=\"#me7751d5f0e\" y=\"131.887999\"/>\n     <use style=\"fill:#1f77b4;stroke:#1f77b4;\" x=\"348.553051\" xlink:href=\"#me7751d5f0e\" y=\"35.616167\"/>\n     <use style=\"fill:#1f77b4;stroke:#1f77b4;\" x=\"121.84308\" xlink:href=\"#me7751d5f0e\" y=\"182.331292\"/>\n     <use style=\"fill:#1f77b4;stroke:#1f77b4;\" x=\"241.951943\" xlink:href=\"#me7751d5f0e\" y=\"116.487851\"/>\n     <use style=\"fill:#1f77b4;stroke:#1f77b4;\" x=\"225.745564\" xlink:href=\"#me7751d5f0e\" y=\"99.817035\"/>\n     <use style=\"fill:#1f77b4;stroke:#1f77b4;\" x=\"205.644542\" xlink:href=\"#me7751d5f0e\" y=\"115.106586\"/>\n     <use style=\"fill:#1f77b4;stroke:#1f77b4;\" x=\"194.179601\" xlink:href=\"#me7751d5f0e\" y=\"93.27108\"/>\n     <use style=\"fill:#1f77b4;stroke:#1f77b4;\" x=\"189.529634\" xlink:href=\"#me7751d5f0e\" y=\"138.390957\"/>\n     <use style=\"fill:#1f77b4;stroke:#1f77b4;\" x=\"310.299967\" xlink:href=\"#me7751d5f0e\" y=\"63.33445\"/>\n     <use style=\"fill:#1f77b4;stroke:#1f77b4;\" x=\"137.529508\" xlink:href=\"#me7751d5f0e\" y=\"195.402371\"/>\n     <use style=\"fill:#1f77b4;stroke:#1f77b4;\" x=\"113.767613\" xlink:href=\"#me7751d5f0e\" y=\"162.246043\"/>\n     <use style=\"fill:#1f77b4;stroke:#1f77b4;\" x=\"108.163521\" xlink:href=\"#me7751d5f0e\" y=\"156.811787\"/>\n     <use style=\"fill:#1f77b4;stroke:#1f77b4;\" x=\"149.253384\" xlink:href=\"#me7751d5f0e\" y=\"122.098469\"/>\n     <use style=\"fill:#1f77b4;stroke:#1f77b4;\" x=\"138.940826\" xlink:href=\"#me7751d5f0e\" y=\"141.221467\"/>\n     <use style=\"fill:#1f77b4;stroke:#1f77b4;\" x=\"230.200578\" xlink:href=\"#me7751d5f0e\" y=\"135.250461\"/>\n     <use style=\"fill:#1f77b4;stroke:#1f77b4;\" x=\"199.898914\" xlink:href=\"#me7751d5f0e\" y=\"100.574868\"/>\n     <use style=\"fill:#1f77b4;stroke:#1f77b4;\" x=\"182.992921\" xlink:href=\"#me7751d5f0e\" y=\"127.498116\"/>\n     <use style=\"fill:#1f77b4;stroke:#1f77b4;\" x=\"137.608338\" xlink:href=\"#me7751d5f0e\" y=\"145.280962\"/>\n     <use style=\"fill:#1f77b4;stroke:#1f77b4;\" x=\"199.409816\" xlink:href=\"#me7751d5f0e\" y=\"130.119929\"/>\n     <use style=\"fill:#1f77b4;stroke:#1f77b4;\" x=\"231.414404\" xlink:href=\"#me7751d5f0e\" y=\"111.683562\"/>\n     <use style=\"fill:#1f77b4;stroke:#1f77b4;\" x=\"119.231876\" xlink:href=\"#me7751d5f0e\" y=\"209.782751\"/>\n     <use style=\"fill:#1f77b4;stroke:#1f77b4;\" x=\"315.784861\" xlink:href=\"#me7751d5f0e\" y=\"40.106697\"/>\n     <use style=\"fill:#1f77b4;stroke:#1f77b4;\" x=\"273.302553\" xlink:href=\"#me7751d5f0e\" y=\"75.771274\"/>\n     <use style=\"fill:#1f77b4;stroke:#1f77b4;\" x=\"235.657351\" xlink:href=\"#me7751d5f0e\" y=\"54.767349\"/>\n     <use style=\"fill:#1f77b4;stroke:#1f77b4;\" x=\"266.109563\" xlink:href=\"#me7751d5f0e\" y=\"113.473515\"/>\n     <use style=\"fill:#1f77b4;stroke:#1f77b4;\" x=\"198.854481\" xlink:href=\"#me7751d5f0e\" y=\"113.325666\"/>\n     <use style=\"fill:#1f77b4;stroke:#1f77b4;\" x=\"259.798623\" xlink:href=\"#me7751d5f0e\" y=\"77.220229\"/>\n     <use style=\"fill:#1f77b4;stroke:#1f77b4;\" x=\"147.971459\" xlink:href=\"#me7751d5f0e\" y=\"137.847023\"/>\n     <use style=\"fill:#1f77b4;stroke:#1f77b4;\" x=\"209.184357\" xlink:href=\"#me7751d5f0e\" y=\"158.766864\"/>\n     <use style=\"fill:#1f77b4;stroke:#1f77b4;\" x=\"176.483827\" xlink:href=\"#me7751d5f0e\" y=\"132.800069\"/>\n     <use style=\"fill:#1f77b4;stroke:#1f77b4;\" x=\"58.247633\" xlink:href=\"#me7751d5f0e\" y=\"200.636296\"/>\n     <use style=\"fill:#1f77b4;stroke:#1f77b4;\" x=\"131.259579\" xlink:href=\"#me7751d5f0e\" y=\"154.765843\"/>\n     <use style=\"fill:#1f77b4;stroke:#1f77b4;\" x=\"197.304357\" xlink:href=\"#me7751d5f0e\" y=\"116.543947\"/>\n     <use style=\"fill:#1f77b4;stroke:#1f77b4;\" x=\"131.706516\" xlink:href=\"#me7751d5f0e\" y=\"156.150761\"/>\n     <use style=\"fill:#1f77b4;stroke:#1f77b4;\" x=\"249.287266\" xlink:href=\"#me7751d5f0e\" y=\"84.555996\"/>\n     <use style=\"fill:#1f77b4;stroke:#1f77b4;\" x=\"216.57961\" xlink:href=\"#me7751d5f0e\" y=\"120.17222\"/>\n     <use style=\"fill:#1f77b4;stroke:#1f77b4;\" x=\"301.900684\" xlink:href=\"#me7751d5f0e\" y=\"17.083636\"/>\n     <use style=\"fill:#1f77b4;stroke:#1f77b4;\" x=\"128.12659\" xlink:href=\"#me7751d5f0e\" y=\"184.05811\"/>\n     <use style=\"fill:#1f77b4;stroke:#1f77b4;\" x=\"184.972199\" xlink:href=\"#me7751d5f0e\" y=\"135.210404\"/>\n     <use style=\"fill:#1f77b4;stroke:#1f77b4;\" x=\"177.618107\" xlink:href=\"#me7751d5f0e\" y=\"148.351681\"/>\n     <use style=\"fill:#1f77b4;stroke:#1f77b4;\" x=\"249.505923\" xlink:href=\"#me7751d5f0e\" y=\"104.566174\"/>\n     <use style=\"fill:#1f77b4;stroke:#1f77b4;\" x=\"247.263422\" xlink:href=\"#me7751d5f0e\" y=\"70.993032\"/>\n     <use style=\"fill:#1f77b4;stroke:#1f77b4;\" x=\"113.590105\" xlink:href=\"#me7751d5f0e\" y=\"195.319404\"/>\n     <use style=\"fill:#1f77b4;stroke:#1f77b4;\" x=\"122.591638\" xlink:href=\"#me7751d5f0e\" y=\"156.442458\"/>\n     <use style=\"fill:#1f77b4;stroke:#1f77b4;\" x=\"244.908091\" xlink:href=\"#me7751d5f0e\" y=\"71.64646\"/>\n     <use style=\"fill:#1f77b4;stroke:#1f77b4;\" x=\"215.382129\" xlink:href=\"#me7751d5f0e\" y=\"96.337437\"/>\n     <use style=\"fill:#1f77b4;stroke:#1f77b4;\" x=\"126.822367\" xlink:href=\"#me7751d5f0e\" y=\"177.128416\"/>\n     <use style=\"fill:#1f77b4;stroke:#1f77b4;\" x=\"92.817966\" xlink:href=\"#me7751d5f0e\" y=\"214.756364\"/>\n     <use style=\"fill:#1f77b4;stroke:#1f77b4;\" x=\"61.108108\" xlink:href=\"#me7751d5f0e\" y=\"214.594535\"/>\n     <use style=\"fill:#1f77b4;stroke:#1f77b4;\" x=\"278.02096\" xlink:href=\"#me7751d5f0e\" y=\"81.981157\"/>\n     <use style=\"fill:#1f77b4;stroke:#1f77b4;\" x=\"154.849216\" xlink:href=\"#me7751d5f0e\" y=\"172.466509\"/>\n     <use style=\"fill:#1f77b4;stroke:#1f77b4;\" x=\"304.342258\" xlink:href=\"#me7751d5f0e\" y=\"52.019983\"/>\n     <use style=\"fill:#1f77b4;stroke:#1f77b4;\" x=\"245.309989\" xlink:href=\"#me7751d5f0e\" y=\"105.709022\"/>\n     <use style=\"fill:#1f77b4;stroke:#1f77b4;\" x=\"146.636851\" xlink:href=\"#me7751d5f0e\" y=\"137.609917\"/>\n     <use style=\"fill:#1f77b4;stroke:#1f77b4;\" x=\"163.200873\" xlink:href=\"#me7751d5f0e\" y=\"151.435355\"/>\n     <use style=\"fill:#1f77b4;stroke:#1f77b4;\" x=\"225.826684\" xlink:href=\"#me7751d5f0e\" y=\"61.816013\"/>\n     <use style=\"fill:#1f77b4;stroke:#1f77b4;\" x=\"249.360962\" xlink:href=\"#me7751d5f0e\" y=\"100.420912\"/>\n     <use style=\"fill:#1f77b4;stroke:#1f77b4;\" x=\"227.715833\" xlink:href=\"#me7751d5f0e\" y=\"96.14022\"/>\n     <use style=\"fill:#1f77b4;stroke:#1f77b4;\" x=\"223.275283\" xlink:href=\"#me7751d5f0e\" y=\"129.044537\"/>\n     <use style=\"fill:#1f77b4;stroke:#1f77b4;\" x=\"309.176513\" xlink:href=\"#me7751d5f0e\" y=\"41.009203\"/>\n     <use style=\"fill:#1f77b4;stroke:#1f77b4;\" x=\"209.589824\" xlink:href=\"#me7751d5f0e\" y=\"138.406007\"/>\n     <use style=\"fill:#1f77b4;stroke:#1f77b4;\" x=\"281.756079\" xlink:href=\"#me7751d5f0e\" y=\"83.915953\"/>\n     <use style=\"fill:#1f77b4;stroke:#1f77b4;\" x=\"203.950671\" xlink:href=\"#me7751d5f0e\" y=\"101.082557\"/>\n     <use style=\"fill:#1f77b4;stroke:#1f77b4;\" x=\"195.427543\" xlink:href=\"#me7751d5f0e\" y=\"106.613121\"/>\n     <use style=\"fill:#1f77b4;stroke:#1f77b4;\" x=\"196.532305\" xlink:href=\"#me7751d5f0e\" y=\"147.477679\"/>\n     <use style=\"fill:#1f77b4;stroke:#1f77b4;\" x=\"215.448494\" xlink:href=\"#me7751d5f0e\" y=\"127.521428\"/>\n     <use style=\"fill:#1f77b4;stroke:#1f77b4;\" x=\"182.966637\" xlink:href=\"#me7751d5f0e\" y=\"127.872031\"/>\n     <use style=\"fill:#1f77b4;stroke:#1f77b4;\" x=\"164.902253\" xlink:href=\"#me7751d5f0e\" y=\"107.972761\"/>\n     <use style=\"fill:#1f77b4;stroke:#1f77b4;\" x=\"125.72169\" xlink:href=\"#me7751d5f0e\" y=\"172.581403\"/>\n     <use style=\"fill:#1f77b4;stroke:#1f77b4;\" x=\"174.745183\" xlink:href=\"#me7751d5f0e\" y=\"166.676465\"/>\n     <use style=\"fill:#1f77b4;stroke:#1f77b4;\" x=\"249.934833\" xlink:href=\"#me7751d5f0e\" y=\"89.968875\"/>\n    </g>\n   </g>\n   <g id=\"matplotlib.axis_1\">\n    <g id=\"xtick_1\">\n     <g id=\"line2d_1\">\n      <defs>\n       <path d=\"M 0 0 \nL 0 3.5 \n\" id=\"meb7f6b8dbc\" style=\"stroke:#000000;stroke-width:0.8;\"/>\n      </defs>\n      <g>\n       <use style=\"stroke:#000000;stroke-width:0.8;\" x=\"59.388244\" xlink:href=\"#meb7f6b8dbc\" y=\"224.64\"/>\n      </g>\n     </g>\n     <g id=\"text_1\">\n      <!-- −2 -->\n      <g transform=\"translate(52.01715 239.238437)scale(0.1 -0.1)\">\n       <defs>\n        <path d=\"M 10.59375 35.5 \nL 73.1875 35.5 \nL 73.1875 27.203125 \nL 10.59375 27.203125 \nz\n\" id=\"DejaVuSans-8722\"/>\n        <path d=\"M 19.1875 8.296875 \nL 53.609375 8.296875 \nL 53.609375 0 \nL 7.328125 0 \nL 7.328125 8.296875 \nQ 12.9375 14.109375 22.625 23.890625 \nQ 32.328125 33.6875 34.8125 36.53125 \nQ 39.546875 41.84375 41.421875 45.53125 \nQ 43.3125 49.21875 43.3125 52.78125 \nQ 43.3125 58.59375 39.234375 62.25 \nQ 35.15625 65.921875 28.609375 65.921875 \nQ 23.96875 65.921875 18.8125 64.3125 \nQ 13.671875 62.703125 7.8125 59.421875 \nL 7.8125 69.390625 \nQ 13.765625 71.78125 18.9375 73 \nQ 24.125 74.21875 28.421875 74.21875 \nQ 39.75 74.21875 46.484375 68.546875 \nQ 53.21875 62.890625 53.21875 53.421875 \nQ 53.21875 48.921875 51.53125 44.890625 \nQ 49.859375 40.875 45.40625 35.40625 \nQ 44.1875 33.984375 37.640625 27.21875 \nQ 31.109375 20.453125 19.1875 8.296875 \nz\n\" id=\"DejaVuSans-50\"/>\n       </defs>\n       <use xlink:href=\"#DejaVuSans-8722\"/>\n       <use x=\"83.789062\" xlink:href=\"#DejaVuSans-50\"/>\n      </g>\n     </g>\n    </g>\n    <g id=\"xtick_2\">\n     <g id=\"line2d_2\">\n      <g>\n       <use style=\"stroke:#000000;stroke-width:0.8;\" x=\"122.168717\" xlink:href=\"#meb7f6b8dbc\" y=\"224.64\"/>\n      </g>\n     </g>\n     <g id=\"text_2\">\n      <!-- −1 -->\n      <g transform=\"translate(114.797624 239.238437)scale(0.1 -0.1)\">\n       <defs>\n        <path d=\"M 12.40625 8.296875 \nL 28.515625 8.296875 \nL 28.515625 63.921875 \nL 10.984375 60.40625 \nL 10.984375 69.390625 \nL 28.421875 72.90625 \nL 38.28125 72.90625 \nL 38.28125 8.296875 \nL 54.390625 8.296875 \nL 54.390625 0 \nL 12.40625 0 \nz\n\" id=\"DejaVuSans-49\"/>\n       </defs>\n       <use xlink:href=\"#DejaVuSans-8722\"/>\n       <use x=\"83.789062\" xlink:href=\"#DejaVuSans-49\"/>\n      </g>\n     </g>\n    </g>\n    <g id=\"xtick_3\">\n     <g id=\"line2d_3\">\n      <g>\n       <use style=\"stroke:#000000;stroke-width:0.8;\" x=\"184.949191\" xlink:href=\"#meb7f6b8dbc\" y=\"224.64\"/>\n      </g>\n     </g>\n     <g id=\"text_3\">\n      <!-- 0 -->\n      <g transform=\"translate(181.767941 239.238437)scale(0.1 -0.1)\">\n       <defs>\n        <path d=\"M 31.78125 66.40625 \nQ 24.171875 66.40625 20.328125 58.90625 \nQ 16.5 51.421875 16.5 36.375 \nQ 16.5 21.390625 20.328125 13.890625 \nQ 24.171875 6.390625 31.78125 6.390625 \nQ 39.453125 6.390625 43.28125 13.890625 \nQ 47.125 21.390625 47.125 36.375 \nQ 47.125 51.421875 43.28125 58.90625 \nQ 39.453125 66.40625 31.78125 66.40625 \nz\nM 31.78125 74.21875 \nQ 44.046875 74.21875 50.515625 64.515625 \nQ 56.984375 54.828125 56.984375 36.375 \nQ 56.984375 17.96875 50.515625 8.265625 \nQ 44.046875 -1.421875 31.78125 -1.421875 \nQ 19.53125 -1.421875 13.0625 8.265625 \nQ 6.59375 17.96875 6.59375 36.375 \nQ 6.59375 54.828125 13.0625 64.515625 \nQ 19.53125 74.21875 31.78125 74.21875 \nz\n\" id=\"DejaVuSans-48\"/>\n       </defs>\n       <use xlink:href=\"#DejaVuSans-48\"/>\n      </g>\n     </g>\n    </g>\n    <g id=\"xtick_4\">\n     <g id=\"line2d_4\">\n      <g>\n       <use style=\"stroke:#000000;stroke-width:0.8;\" x=\"247.729664\" xlink:href=\"#meb7f6b8dbc\" y=\"224.64\"/>\n      </g>\n     </g>\n     <g id=\"text_4\">\n      <!-- 1 -->\n      <g transform=\"translate(244.548414 239.238437)scale(0.1 -0.1)\">\n       <use xlink:href=\"#DejaVuSans-49\"/>\n      </g>\n     </g>\n    </g>\n    <g id=\"xtick_5\">\n     <g id=\"line2d_5\">\n      <g>\n       <use style=\"stroke:#000000;stroke-width:0.8;\" x=\"310.510138\" xlink:href=\"#meb7f6b8dbc\" y=\"224.64\"/>\n      </g>\n     </g>\n     <g id=\"text_5\">\n      <!-- 2 -->\n      <g transform=\"translate(307.328888 239.238437)scale(0.1 -0.1)\">\n       <use xlink:href=\"#DejaVuSans-50\"/>\n      </g>\n     </g>\n    </g>\n   </g>\n   <g id=\"matplotlib.axis_2\">\n    <g id=\"ytick_1\">\n     <g id=\"line2d_6\">\n      <defs>\n       <path d=\"M 0 0 \nL -3.5 0 \n\" id=\"m613b7ef604\" style=\"stroke:#000000;stroke-width:0.8;\"/>\n      </defs>\n      <g>\n       <use style=\"stroke:#000000;stroke-width:0.8;\" x=\"35.304688\" xlink:href=\"#m613b7ef604\" y=\"202.777112\"/>\n      </g>\n     </g>\n     <g id=\"text_6\">\n      <!-- −75 -->\n      <g transform=\"translate(7.2 206.576331)scale(0.1 -0.1)\">\n       <defs>\n        <path d=\"M 8.203125 72.90625 \nL 55.078125 72.90625 \nL 55.078125 68.703125 \nL 28.609375 0 \nL 18.3125 0 \nL 43.21875 64.59375 \nL 8.203125 64.59375 \nz\n\" id=\"DejaVuSans-55\"/>\n        <path d=\"M 10.796875 72.90625 \nL 49.515625 72.90625 \nL 49.515625 64.59375 \nL 19.828125 64.59375 \nL 19.828125 46.734375 \nQ 21.96875 47.46875 24.109375 47.828125 \nQ 26.265625 48.1875 28.421875 48.1875 \nQ 40.625 48.1875 47.75 41.5 \nQ 54.890625 34.8125 54.890625 23.390625 \nQ 54.890625 11.625 47.5625 5.09375 \nQ 40.234375 -1.421875 26.90625 -1.421875 \nQ 22.3125 -1.421875 17.546875 -0.640625 \nQ 12.796875 0.140625 7.71875 1.703125 \nL 7.71875 11.625 \nQ 12.109375 9.234375 16.796875 8.0625 \nQ 21.484375 6.890625 26.703125 6.890625 \nQ 35.15625 6.890625 40.078125 11.328125 \nQ 45.015625 15.765625 45.015625 23.390625 \nQ 45.015625 31 40.078125 35.4375 \nQ 35.15625 39.890625 26.703125 39.890625 \nQ 22.75 39.890625 18.8125 39.015625 \nQ 14.890625 38.140625 10.796875 36.28125 \nz\n\" id=\"DejaVuSans-53\"/>\n       </defs>\n       <use xlink:href=\"#DejaVuSans-8722\"/>\n       <use x=\"83.789062\" xlink:href=\"#DejaVuSans-55\"/>\n       <use x=\"147.412109\" xlink:href=\"#DejaVuSans-53\"/>\n      </g>\n     </g>\n    </g>\n    <g id=\"ytick_2\">\n     <g id=\"line2d_7\">\n      <g>\n       <use style=\"stroke:#000000;stroke-width:0.8;\" x=\"35.304688\" xlink:href=\"#m613b7ef604\" y=\"178.181129\"/>\n      </g>\n     </g>\n     <g id=\"text_7\">\n      <!-- −50 -->\n      <g transform=\"translate(7.2 181.980348)scale(0.1 -0.1)\">\n       <use xlink:href=\"#DejaVuSans-8722\"/>\n       <use x=\"83.789062\" xlink:href=\"#DejaVuSans-53\"/>\n       <use x=\"147.412109\" xlink:href=\"#DejaVuSans-48\"/>\n      </g>\n     </g>\n    </g>\n    <g id=\"ytick_3\">\n     <g id=\"line2d_8\">\n      <g>\n       <use style=\"stroke:#000000;stroke-width:0.8;\" x=\"35.304688\" xlink:href=\"#m613b7ef604\" y=\"153.585146\"/>\n      </g>\n     </g>\n     <g id=\"text_8\">\n      <!-- −25 -->\n      <g transform=\"translate(7.2 157.384364)scale(0.1 -0.1)\">\n       <use xlink:href=\"#DejaVuSans-8722\"/>\n       <use x=\"83.789062\" xlink:href=\"#DejaVuSans-50\"/>\n       <use x=\"147.412109\" xlink:href=\"#DejaVuSans-53\"/>\n      </g>\n     </g>\n    </g>\n    <g id=\"ytick_4\">\n     <g id=\"line2d_9\">\n      <g>\n       <use style=\"stroke:#000000;stroke-width:0.8;\" x=\"35.304688\" xlink:href=\"#m613b7ef604\" y=\"128.989162\"/>\n      </g>\n     </g>\n     <g id=\"text_9\">\n      <!-- 0 -->\n      <g transform=\"translate(21.942188 132.788381)scale(0.1 -0.1)\">\n       <use xlink:href=\"#DejaVuSans-48\"/>\n      </g>\n     </g>\n    </g>\n    <g id=\"ytick_5\">\n     <g id=\"line2d_10\">\n      <g>\n       <use style=\"stroke:#000000;stroke-width:0.8;\" x=\"35.304688\" xlink:href=\"#m613b7ef604\" y=\"104.393179\"/>\n      </g>\n     </g>\n     <g id=\"text_10\">\n      <!-- 25 -->\n      <g transform=\"translate(15.579688 108.192398)scale(0.1 -0.1)\">\n       <use xlink:href=\"#DejaVuSans-50\"/>\n       <use x=\"63.623047\" xlink:href=\"#DejaVuSans-53\"/>\n      </g>\n     </g>\n    </g>\n    <g id=\"ytick_6\">\n     <g id=\"line2d_11\">\n      <g>\n       <use style=\"stroke:#000000;stroke-width:0.8;\" x=\"35.304688\" xlink:href=\"#m613b7ef604\" y=\"79.797196\"/>\n      </g>\n     </g>\n     <g id=\"text_11\">\n      <!-- 50 -->\n      <g transform=\"translate(15.579688 83.596414)scale(0.1 -0.1)\">\n       <use xlink:href=\"#DejaVuSans-53\"/>\n       <use x=\"63.623047\" xlink:href=\"#DejaVuSans-48\"/>\n      </g>\n     </g>\n    </g>\n    <g id=\"ytick_7\">\n     <g id=\"line2d_12\">\n      <g>\n       <use style=\"stroke:#000000;stroke-width:0.8;\" x=\"35.304688\" xlink:href=\"#m613b7ef604\" y=\"55.201212\"/>\n      </g>\n     </g>\n     <g id=\"text_12\">\n      <!-- 75 -->\n      <g transform=\"translate(15.579688 59.000431)scale(0.1 -0.1)\">\n       <use xlink:href=\"#DejaVuSans-55\"/>\n       <use x=\"63.623047\" xlink:href=\"#DejaVuSans-53\"/>\n      </g>\n     </g>\n    </g>\n    <g id=\"ytick_8\">\n     <g id=\"line2d_13\">\n      <g>\n       <use style=\"stroke:#000000;stroke-width:0.8;\" x=\"35.304688\" xlink:href=\"#m613b7ef604\" y=\"30.605229\"/>\n      </g>\n     </g>\n     <g id=\"text_13\">\n      <!-- 100 -->\n      <g transform=\"translate(9.217188 34.404448)scale(0.1 -0.1)\">\n       <use xlink:href=\"#DejaVuSans-49\"/>\n       <use x=\"63.623047\" xlink:href=\"#DejaVuSans-48\"/>\n       <use x=\"127.246094\" xlink:href=\"#DejaVuSans-48\"/>\n      </g>\n     </g>\n    </g>\n   </g>\n   <g id=\"patch_3\">\n    <path d=\"M 35.304688 224.64 \nL 35.304688 7.2 \n\" style=\"fill:none;stroke:#000000;stroke-linecap:square;stroke-linejoin:miter;stroke-width:0.8;\"/>\n   </g>\n   <g id=\"patch_4\">\n    <path d=\"M 370.104688 224.64 \nL 370.104688 7.2 \n\" style=\"fill:none;stroke:#000000;stroke-linecap:square;stroke-linejoin:miter;stroke-width:0.8;\"/>\n   </g>\n   <g id=\"patch_5\">\n    <path d=\"M 35.304688 224.64 \nL 370.104688 224.64 \n\" style=\"fill:none;stroke:#000000;stroke-linecap:square;stroke-linejoin:miter;stroke-width:0.8;\"/>\n   </g>\n   <g id=\"patch_6\">\n    <path d=\"M 35.304688 7.2 \nL 370.104688 7.2 \n\" style=\"fill:none;stroke:#000000;stroke-linecap:square;stroke-linejoin:miter;stroke-width:0.8;\"/>\n   </g>\n  </g>\n </g>\n <defs>\n  <clipPath id=\"pc7bdb63c1f\">\n   <rect height=\"217.44\" width=\"334.8\" x=\"35.304688\" y=\"7.2\"/>\n  </clipPath>\n </defs>\n</svg>\n",
      "image/png": "[encoded data removed]"
     },
     "metadata": {
      "needs_background": "light"
     }
    }
   ],
   "metadata": {}
  },
  {
   "cell_type": "code",
   "execution_count": 11,
   "source": [
    "#print mean, standar deviation, and variance of x\n",
    "print(np.mean(x))\n",
    "print(np.std(x))\n",
    "print(np.var(x))"
   ],
   "outputs": [
    {
     "output_type": "stream",
     "name": "stdout",
     "text": [
      "0.02408500943664585\n",
      "1.0546520360023408\n",
      "1.1122909170438826\n"
     ]
    }
   ],
   "metadata": {}
  },
  {
   "cell_type": "markdown",
   "source": [
    "# 3)Generate polynomial features (terms) remember the equation "
   ],
   "metadata": {}
  },
  {
   "cell_type": "code",
   "execution_count": 13,
   "source": [
    "from sklearn.preprocessing import PolynomialFeatures\n",
    "poly = PolynomialFeatures(degree=5)\n",
    "poly.fit_transform(x)"
   ],
   "outputs": [
    {
     "output_type": "execute_result",
     "data": {
      "text/plain": [
       "array([[ 1.00000000e+00,  6.83508886e-01,  1.97875732e+00, ...,\n",
       "         5.91595857e+00,  2.16812958e+00,  7.94594116e-01],\n",
       "       [ 1.00000000e+00, -1.22308204e+00, -8.66885035e-01, ...,\n",
       "         5.64892038e-01,  8.05888754e-01,  1.14970054e+00],\n",
       "       [ 1.00000000e+00, -2.78396658e+00, -1.26665546e+00, ...,\n",
       "         1.75590809e-03, -2.56919733e-04,  3.75918019e-05],\n",
       "       ...,\n",
       "       [ 1.00000000e+00,  3.14742439e-02, -1.77947042e+00, ...,\n",
       "        -4.35259647e-04, -1.81365383e-02, -7.55719087e-01],\n",
       "       [ 1.00000000e+00,  8.64164878e-01,  3.05631512e-01, ...,\n",
       "         2.29124845e-02,  6.86894846e-02,  2.05924648e-01],\n",
       "       [ 1.00000000e+00,  3.30865620e-01,  1.13001805e+00, ...,\n",
       "        -4.82150172e-02,  2.10029391e-02, -9.14908834e-03]])"
      ]
     },
     "metadata": {},
     "execution_count": 13
    }
   ],
   "metadata": {}
  },
  {
   "cell_type": "markdown",
   "source": [
    "# 4)Choose estimator (regression model)"
   ],
   "metadata": {}
  },
  {
   "cell_type": "markdown",
   "source": [
    "This model solves a regression model where the loss function is the linear least squares function and regularization is given by the l2-norm. Also known as Ridge Regression or Tikhonov regularization. This estimator has built-in support for multi-variate regression (i.e., when y is a 2d-array of shape (n_samples, n_targets))."
   ],
   "metadata": {}
  },
  {
   "cell_type": "code",
   "execution_count": 14,
   "source": [
    "#Linear least squares with l2 regularization (use “Ridge”)\n",
    "from sklearn.linear_model import Ridge\n",
    "ridge = Ridge(alpha=1)\n",
    "ridge.fit(poly.fit_transform(x),y)"
   ],
   "outputs": [
    {
     "output_type": "execute_result",
     "data": {
      "text/plain": [
       "Ridge(alpha=1)"
      ]
     },
     "metadata": {},
     "execution_count": 14
    }
   ],
   "metadata": {}
  },
  {
   "cell_type": "code",
   "execution_count": 18,
   "source": [
    "# perform train test split  \n",
    "from sklearn.model_selection import train_test_split\n",
    "x_train,x_test,y_train,y_test = train_test_split(x,y,test_size=0.2,random_state=101)"
   ],
   "outputs": [],
   "metadata": {}
  },
  {
   "cell_type": "markdown",
   "source": [
    "# 5)Perform cross validation (5-fold)"
   ],
   "metadata": {}
  },
  {
   "cell_type": "code",
   "execution_count": 19,
   "source": [
    "# cross validation 5 folds\n",
    "from sklearn.model_selection import cross_val_score\n",
    "scores = cross_val_score(ridge,poly.fit_transform(x_train),y_train,cv=5)\n",
    "print(scores)"
   ],
   "outputs": [
    {
     "output_type": "stream",
     "name": "stdout",
     "text": [
      "[0.60784404 0.72605701 0.81936639 0.87631943 0.77582317]\n"
     ]
    }
   ],
   "metadata": {}
  },
  {
   "cell_type": "code",
   "execution_count": 22,
   "source": [
    "# print all curves in same plot\n",
    "plt.plot(x,y,'.',label='original data')\n",
    "plt.plot(x_train,y_train,'.',label='training data')\n",
    "plt.plot(x_test,y_test,'.',label='test data')\n",
    "#plt.plot(x,ridge.predict(poly.fit_transform(x)),label='prediction')\n",
    "plt.legend()\n",
    "plt.show()\n"
   ],
   "outputs": [],
   "metadata": {}
  },
  {
   "cell_type": "code",
   "execution_count": null,
   "source": [],
   "outputs": [],
   "metadata": {}
  }
 ],
 "metadata": {
  "orig_nbformat": 4,
  "language_info": {
   "name": "python",
   "version": "3.8.10",
   "mimetype": "text/x-python",
   "codemirror_mode": {
    "name": "ipython",
    "version": 3
   },
   "pygments_lexer": "ipython3",
   "nbconvert_exporter": "python",
   "file_extension": ".py"
  },
  "kernelspec": {
   "name": "python3",
   "display_name": "Python 3.8.10 64-bit ('base': conda)"
  },
  "interpreter": {
   "hash": "c591623d2ecdb9339840be0fbf8d42d377f147dd7921c41681af6db0cadcbc7e"
  }
 },
 "nbformat": 4,
 "nbformat_minor": 2
}