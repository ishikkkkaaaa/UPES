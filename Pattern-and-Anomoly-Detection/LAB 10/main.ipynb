{
 "cells": [
  {
   "cell_type": "code",
   "execution_count": 1,
   "source": [
    "import numpy as np"
   ],
   "outputs": [],
   "metadata": {}
  },
  {
   "cell_type": "code",
   "execution_count": 2,
   "source": [
    "a1 = np. random. random( (100, 1))\n",
    "b= 4 + 3*a1 + np. random. randn(100, 1)"
   ],
   "outputs": [],
   "metadata": {}
  },
  {
   "cell_type": "code",
   "execution_count": 3,
   "source": [
    "a0 = np. ones ( (100, 1))\n",
    "A = np. concatenate( (a0, a1), axis = 1)"
   ],
   "outputs": [],
   "metadata": {}
  },
  {
   "cell_type": "code",
   "execution_count": 4,
   "source": [
    "temp1 = np.linalg.inv(np.dot (A.T, A))\n",
    "temp2 = np.dot(temp1,A.T)\n",
    "w = np. dot(temp2, b)\n",
    "print(\"------------------------------\")\n",
    "print(\"Least squares method(Direct) Single Input\")\n",
    "print(\"------------------------------\")\n",
    "print(\"W0\",w[0])\n",
    "print(\"W1\",w[1])"
   ],
   "outputs": [
    {
     "output_type": "stream",
     "name": "stdout",
     "text": [
      "------------------------------\n",
      "Least squares method(Direct) Single Input\n",
      "------------------------------\n",
      "W0 [4.18949492]\n",
      "W1 [2.9046634]\n"
     ]
    }
   ],
   "metadata": {}
  },
  {
   "cell_type": "code",
   "execution_count": 5,
   "source": [
    "A = np.random.rand (100,1)\n",
    "y = 4 + 3*A + np.random.randn (100,1)\n",
    "AWb = np.c_[np.ones ((100,1)), A]\n",
    "\n",
    "\n",
    "W = AWb.T.dot (AWb)\n",
    "W = np. linalg.inv(W)\n",
    "W= (W.dot (AWb.T)).dot (y)\n",
    "print (W)\n",
    "\n",
    "\n",
    "A_ = np.random.rand (100,3)\n",
    "b1 = 4 + 3*A_ +np.random.randn(100,1)\n",
    "b2 = 2 + 5*A_ +np.random.randn(100,1)\n",
    "b3 = 6 + 7*A_ +np.random.randn(100, 1)\n",
    "b4 = 3 + 6*A_ +np.random.randn(100, 1)\n",
    "AWb_ = np.c_[np.ones((100,1)), A_]\n",
    "\n",
    "\n",
    "W_ = AWb_.T.dot (AWb_)\n",
    "W_ = np.linalg.inv(W_)\n",
    "W_1 = (W_.dot (AWb_.T)).dot (b1)\n",
    "W_2 = (W_.dot (AWb_.T)).dot (b2)\n",
    "W_3 = (W_.dot (AWb_.T)).dot (b3)\n",
    "W_4 = (W_.dot (AWb_.T)).dot (b4)\n",
    "\n",
    "\n",
    "print(\"W1\\n\", W_1)\n",
    "print(\"W2\\n\", W_2)\n",
    "print(\"W3\\n\", W_3)\n",
    "print(\"W4\\n\", W_4)\n",
    "\n",
    "\n",
    "np.concatenate((W_1, W_2, W_3, W_4))"
   ],
   "outputs": [
    {
     "output_type": "stream",
     "name": "stdout",
     "text": [
      "[[3.97481659]\n",
      " [2.92020388]]\n",
      "W1\n",
      " [[3.5589851  3.5589851  3.5589851 ]\n",
      " [3.67060408 0.67060408 0.67060408]\n",
      " [0.12270192 3.12270192 0.12270192]\n",
      " [0.08738517 0.08738517 3.08738517]]\n",
      "W2\n",
      " [[ 1.72433569  1.72433569  1.72433569]\n",
      " [ 5.07241221  0.07241221  0.07241221]\n",
      " [ 0.35179835  5.35179835  0.35179835]\n",
      " [-0.18515694 -0.18515694  4.81484306]]\n",
      "W3\n",
      " [[ 6.34341116  6.34341116  6.34341116]\n",
      " [ 6.12268593 -0.87731407 -0.87731407]\n",
      " [ 0.6141725   7.6141725   0.6141725 ]\n",
      " [-0.33562452 -0.33562452  6.66437548]]\n",
      "W4\n",
      " [[ 2.54284351  2.54284351  2.54284351]\n",
      " [ 6.28114144  0.28114144  0.28114144]\n",
      " [-0.10435375  5.89564625 -0.10435375]\n",
      " [ 0.59046322  0.59046322  6.59046322]]\n"
     ]
    },
    {
     "output_type": "execute_result",
     "data": {
      "text/plain": [
       "array([[ 3.5589851 ,  3.5589851 ,  3.5589851 ],\n",
       "       [ 3.67060408,  0.67060408,  0.67060408],\n",
       "       [ 0.12270192,  3.12270192,  0.12270192],\n",
       "       [ 0.08738517,  0.08738517,  3.08738517],\n",
       "       [ 1.72433569,  1.72433569,  1.72433569],\n",
       "       [ 5.07241221,  0.07241221,  0.07241221],\n",
       "       [ 0.35179835,  5.35179835,  0.35179835],\n",
       "       [-0.18515694, -0.18515694,  4.81484306],\n",
       "       [ 6.34341116,  6.34341116,  6.34341116],\n",
       "       [ 6.12268593, -0.87731407, -0.87731407],\n",
       "       [ 0.6141725 ,  7.6141725 ,  0.6141725 ],\n",
       "       [-0.33562452, -0.33562452,  6.66437548],\n",
       "       [ 2.54284351,  2.54284351,  2.54284351],\n",
       "       [ 6.28114144,  0.28114144,  0.28114144],\n",
       "       [-0.10435375,  5.89564625, -0.10435375],\n",
       "       [ 0.59046322,  0.59046322,  6.59046322]])"
      ]
     },
     "metadata": {},
     "execution_count": 5
    }
   ],
   "metadata": {}
  },
  {
   "cell_type": "code",
   "execution_count": null,
   "source": [],
   "outputs": [],
   "metadata": {}
  }
 ],
 "metadata": {
  "orig_nbformat": 4,
  "language_info": {
   "name": "python",
   "version": "3.8.10",
   "mimetype": "text/x-python",
   "codemirror_mode": {
    "name": "ipython",
    "version": 3
   },
   "pygments_lexer": "ipython3",
   "nbconvert_exporter": "python",
   "file_extension": ".py"
  },
  "kernelspec": {
   "name": "python3",
   "display_name": "Python 3.8.10 64-bit ('base': conda)"
  },
  "interpreter": {
   "hash": "c591623d2ecdb9339840be0fbf8d42d377f147dd7921c41681af6db0cadcbc7e"
  }
 },
 "nbformat": 4,
 "nbformat_minor": 2
}