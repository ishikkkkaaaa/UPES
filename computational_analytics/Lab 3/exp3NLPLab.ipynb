{
 "cells": [
  {
   "cell_type": "code",
   "execution_count": 2,
   "source": [
    "import tweepy"
   ],
   "outputs": [],
   "metadata": {}
  },
  {
   "cell_type": "code",
   "execution_count": 1,
   "source": [
    "consumer_key = \"\"\n",
    "consumer_secret = \"\" \n",
    "access_token = \"\" \n",
    "access_token_secret = \"\""
   ],
   "outputs": [],
   "metadata": {}
  },
  {
   "cell_type": "code",
   "execution_count": 3,
   "source": [
    "#authenticate to use the keys\n",
    "auth = tweepy.OAuthHandler(consumer_key, consumer_secret)\n",
    "auth.set_access_token(access_token, access_token_secret)\n",
    "\n",
    "api = tweepy.API(auth)\n",
    "\n",
    "#fetching all the public tweets from homepage\n",
    "public_tweets = api.home_timeline()\n",
    "for tweet in public_tweets:\n",
    "    print(tweet.text)"
   ],
   "outputs": [
    {
     "output_type": "stream",
     "name": "stdout",
     "text": [
      "महिलाओं को 40 फीसद टिकट देने की घोषणा करने वाली कांग्रेस ने भले ही महिलाओं को टिकट देने में बढ़त बना ली हो, लेकिन अ… https://t.co/KDXPomSDrb\n",
      "आज़ाद समाज पार्टी के अध्यक्ष चंद्रशेखर रावण इस बार सीधे सूबे के मुख्यमंत्री योगी आदित्यनाथ को गोरखपुर से चुनौती दे… https://t.co/y8EcHoda4f\n",
      "RT @fatehgarhpolice: पुलिस अधीक्षक @Ashokips68rr द्वारा विधानसभा निवार्चन– 2022 के दृष्टिगत CAPF व पुलिस बल के ठहरने के लिए बृजनाथ सिंह मे…\n",
      "RT @fatehgarhpolice: विधानसभा चुनाव- 2022 को शांतिपूर्ण माहौल में सकुशल संपन्न कराने हेतु पुलिस अधीक्षक @Ashokips68rr के निर्देशन में समस्त…\n",
      "#DNA : भारत में कारोबार, भारत के ख़िलाफ़ ही दुष्प्रचार\n",
      "\n",
      "@sudhirchaudhary\n",
      "\n",
      "अन्य Videos यहां देखें -… https://t.co/6HvgLa4Xoa\n",
      "देखें बीजेपी और सपा के मैनिफेस्टो का राजनीतिक विश्लेषण\n",
      "#Video \n",
      "https://t.co/XKgF49tHPB\n",
      "बीजेपी के प्रदेश अध्यक्ष स्वतंत्र देव सिंह ने अखिलेश यादव पर हमला बोलते हुए कहा कि ये एक परिवार की पार्टी है. इनके… https://t.co/m1RsbP6tOk\n",
      "Lata Mangeshkar's Legacy Lives On At Superfan's Museum In UP https://t.co/tzZX2sN0sF https://t.co/Uz1GnFBly1\n",
      "दिल्ली में कोरोना के मामलों में गिरावट, पिछले 24 घंटों में मिले 1,114 नए केस \n",
      "\n",
      "#DelhiCorona #CoronaVirus #Covid19 \n",
      "\n",
      "https://t.co/i3rBrjogVj\n",
      "'बेटा, मुझे मां कहकर बुलाओ', शोएब अख्तर ने लता मंगेशकर को लेकर सुनाया दिलचस्प किस्सा\n",
      "\n",
      "#ATDigital #ShoaibAkhtar… https://t.co/7m42uImFrO\n",
      "विश्वनाथ मंदिर में श्रद्धालुओं की बढ़ती तादाद के बीच अब कॉरिडोर को हाईटेक बनाने की दिशा में मंदिर प्रशासन ने एक और… https://t.co/dfYpkImjp3\n",
      "RT @lalitpurpolice: #SPLalitpur के निर्देशन में थाना जाखलौन क्षेत्रांतर्गत पड़ने वाले प्रमुख स्थानों,अंतर्जनपदीय तथा अंतर्प्रांतीय बॉर्डर प…\n",
      "RT @lalitpurpolice: #SPLalitpur के निर्देशन में थाना सौजना क्षेत्रांतर्गत पड़ने वाले प्रमुख स्थानों,अंतर्जनपदीय तथा अंतर्प्रांतीय बॉर्डर पर…\n",
      "RT @lalitpurpolice: #SPLalitpur के निर्देशन में क्षेत्राधिकारी पाली द्वारा थाना नाराहट में चुनाव की तैयारियों का जायजा लिया तथा संबंधित को…\n",
      "RT @lalitpurpolice: #SPLalitpur के निर्देशानुसार थाना प्रभारियों द्वारा बैंक चैकिंग की गयी, संदिग्धों को चेक किया गया। https://t.co/HnfzLYW…\n",
      "RT @lalitpurpolice: #SPLalitpur के निर्देशन में क्षेत्राधिकारी पाली द्वारा थाना नाराहट क्षेत्र के स्कूल में पुलिस बल के रुकने की व्यवस्था…\n",
      "RT @lalitpurpolice: #SPLalitpur के निर्देशन में क्षेत्राधिकारी महरौनी द्वारा थाना मडावरा में पुलिस बल के रुकने की व्यवस्था का जायजा लिया ग…\n",
      "RT @adgzoneagra: सुरक्षित इंटरनेट दिवस 2022\n",
      "\n",
      "#SaferInternetDay #upcm #UPPolice #agrazonepolice @Rajeevkrishna69 https://t.co/1WZ2DJdLsE\n",
      "ऑस्कर 2022 के नॉमिनेशन्स की लिस्ट सामने आ गई है और इस बार भारत से एक डॉक्युमेंट्री मूवी को ऑस्कर में एंट्री मिली है… https://t.co/krYq4ls4wD\n",
      "RT @jalaunpolice: SP जालौन @Ravi_KumarIPS के निर्देशन में #AssemblyElections2022 के दृष्टिगत जनपद के SHO’s/SO’s द्वारा अपने-अपने थाना क्षे…\n"
     ]
    }
   ],
   "metadata": {}
  },
  {
   "cell_type": "code",
   "execution_count": 4,
   "source": [
    "from nltk.tokenize import word_tokenize"
   ],
   "outputs": [],
   "metadata": {}
  },
  {
   "cell_type": "code",
   "execution_count": 5,
   "source": [
    "text1=tweet.text\n",
    "print(text1)"
   ],
   "outputs": [
    {
     "output_type": "stream",
     "name": "stdout",
     "text": [
      "RT @jalaunpolice: SP जालौन @Ravi_KumarIPS के निर्देशन में #AssemblyElections2022 के दृष्टिगत जनपद के SHO’s/SO’s द्वारा अपने-अपने थाना क्षे…\n"
     ]
    }
   ],
   "metadata": {}
  },
  {
   "cell_type": "code",
   "execution_count": 6,
   "source": [
    "import nltk\n",
    "nltk.download('punkt')"
   ],
   "outputs": [
    {
     "output_type": "stream",
     "name": "stderr",
     "text": [
      "[nltk_data] Downloading package punkt to\n",
      "[nltk_data]     /Users/ishikakesarwani/nltk_data...\n",
      "[nltk_data]   Unzipping tokenizers/punkt.zip.\n"
     ]
    },
    {
     "output_type": "execute_result",
     "data": {
      "text/plain": [
       "True"
      ]
     },
     "metadata": {},
     "execution_count": 6
    }
   ],
   "metadata": {}
  },
  {
   "cell_type": "code",
   "execution_count": 7,
   "source": [
    "print(word_tokenize(text1))\n",
    "tokens=word_tokenize(text1)"
   ],
   "outputs": [
    {
     "output_type": "stream",
     "name": "stdout",
     "text": [
      "['RT', '@', 'jalaunpolice', ':', 'SP', 'जालौन', '@', 'Ravi_KumarIPS', 'के', 'निर्देशन', 'में', '#', 'AssemblyElections2022', 'के', 'दृष्टिगत', 'जनपद', 'के', 'SHO', '’', 's/SO', '’', 's', 'द्वारा', 'अपने-अपने', 'थाना', 'क्षे…']\n"
     ]
    }
   ],
   "metadata": {}
  },
  {
   "cell_type": "code",
   "execution_count": 8,
   "source": [
    "import nltk\n",
    "nltk.download('stopwords')"
   ],
   "outputs": [
    {
     "output_type": "stream",
     "name": "stderr",
     "text": [
      "[nltk_data] Downloading package stopwords to\n",
      "[nltk_data]     /Users/ishikakesarwani/nltk_data...\n",
      "[nltk_data]   Unzipping corpora/stopwords.zip.\n"
     ]
    },
    {
     "output_type": "execute_result",
     "data": {
      "text/plain": [
       "True"
      ]
     },
     "metadata": {},
     "execution_count": 8
    }
   ],
   "metadata": {}
  },
  {
   "cell_type": "code",
   "execution_count": 9,
   "source": [
    "import nltk\n",
    "from nltk.corpus import stopwords\n",
    "filtered_sentence = []\n",
    "stop_words = set(stopwords.words('english'))"
   ],
   "outputs": [],
   "metadata": {}
  },
  {
   "cell_type": "code",
   "execution_count": 10,
   "source": [
    "for w in tokens:\n",
    "    if w not in stop_words:\n",
    "        filtered_sentence.append(w)"
   ],
   "outputs": [],
   "metadata": {}
  },
  {
   "cell_type": "code",
   "execution_count": 11,
   "source": [
    "print(filtered_sentence)"
   ],
   "outputs": [
    {
     "output_type": "stream",
     "name": "stdout",
     "text": [
      "['RT', '@', 'jalaunpolice', ':', 'SP', 'जालौन', '@', 'Ravi_KumarIPS', 'के', 'निर्देशन', 'में', '#', 'AssemblyElections2022', 'के', 'दृष्टिगत', 'जनपद', 'के', 'SHO', '’', 's/SO', '’', 'द्वारा', 'अपने-अपने', 'थाना', 'क्षे…']\n"
     ]
    }
   ],
   "metadata": {}
  },
  {
   "cell_type": "code",
   "execution_count": 12,
   "source": [
    "import nltk\n",
    "nltk.download('wordnet')"
   ],
   "outputs": [
    {
     "output_type": "stream",
     "name": "stderr",
     "text": [
      "[nltk_data] Downloading package wordnet to\n",
      "[nltk_data]     /Users/ishikakesarwani/nltk_data...\n",
      "[nltk_data]   Unzipping corpora/wordnet.zip.\n"
     ]
    },
    {
     "output_type": "execute_result",
     "data": {
      "text/plain": [
       "True"
      ]
     },
     "metadata": {},
     "execution_count": 12
    }
   ],
   "metadata": {}
  },
  {
   "cell_type": "code",
   "execution_count": 13,
   "source": [
    "from nltk.stem import WordNetLemmatizer\n",
    " \n",
    "lemmatizer = WordNetLemmatizer()\n",
    "lemitization=[]"
   ],
   "outputs": [],
   "metadata": {}
  },
  {
   "cell_type": "code",
   "execution_count": 14,
   "source": [
    "for w in filtered_sentence:\n",
    "    lemitization.append(lemmatizer.lemmatize(w,pos=\"a\"))\n",
    "print(lemitization)"
   ],
   "outputs": [
    {
     "output_type": "stream",
     "name": "stdout",
     "text": [
      "['RT', '@', 'jalaunpolice', ':', 'SP', 'जालौन', '@', 'Ravi_KumarIPS', 'के', 'निर्देशन', 'में', '#', 'AssemblyElections2022', 'के', 'दृष्टिगत', 'जनपद', 'के', 'SHO', '’', 's/SO', '’', 'द्वारा', 'अपने-अपने', 'थाना', 'क्षे…']\n"
     ]
    }
   ],
   "metadata": {}
  },
  {
   "cell_type": "code",
   "execution_count": 15,
   "source": [
    "lemmatizer.lemmatize(\"better\",pos=\"a\")"
   ],
   "outputs": [
    {
     "output_type": "execute_result",
     "data": {
      "text/plain": [
       "'good'"
      ]
     },
     "metadata": {},
     "execution_count": 15
    }
   ],
   "metadata": {}
  }
 ],
 "metadata": {
  "kernelspec": {
   "name": "python3",
   "display_name": "Python 3.9.7 64-bit ('base': conda)"
  },
  "language_info": {
   "codemirror_mode": {
    "name": "ipython",
    "version": 3
   },
   "file_extension": ".py",
   "mimetype": "text/x-python",
   "name": "python",
   "nbconvert_exporter": "python",
   "pygments_lexer": "ipython3",
   "version": "3.9.7"
  },
  "interpreter": {
   "hash": "dca0ade3e726a953b501b15e8e990130d2b7799f14cfd9f4271676035ebe5511"
  }
 },
 "nbformat": 4,
 "nbformat_minor": 5
}