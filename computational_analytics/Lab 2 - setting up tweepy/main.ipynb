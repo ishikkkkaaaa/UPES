{
 "cells": [
  {
   "cell_type": "code",
   "execution_count": 44,
   "source": [
    "import tweepy\n",
    "consumer_key = \"\"\n",
    "consumer_secret = \"\" \n",
    "access_token = \"\" \n",
    "access_token_secret = \"\""
   ],
   "outputs": [],
   "metadata": {}
  },
  {
   "cell_type": "code",
   "execution_count": 45,
   "source": [
    "#authenticate to use the keys\n",
    "auth = tweepy.OAuthHandler(consumer_key, consumer_secret) \n",
    "auth.set_access_token(access_token, access_token_secret)\n",
    "api = tweepy.API(auth)"
   ],
   "outputs": [],
   "metadata": {}
  },
  {
   "cell_type": "code",
   "execution_count": 46,
   "source": [
    "#Extracting specific tweets from twitter\n",
    "search_words = \"#Greenday -filter:retweets\""
   ],
   "outputs": [],
   "metadata": {}
  },
  {
   "cell_type": "code",
   "execution_count": 47,
   "source": [
    "tweets = tweepy.Cursor(api.search_tweets,q=search_words,lang=\"en\").items(100) \n",
    "tweets"
   ],
   "outputs": [
    {
     "output_type": "execute_result",
     "data": {
      "text/plain": [
       "<tweepy.cursor.ItemIterator at 0x7ff43ca1fbe0>"
      ]
     },
     "metadata": {},
     "execution_count": 47
    }
   ],
   "metadata": {}
  },
  {
   "cell_type": "code",
   "execution_count": 48,
   "source": [
    "tweets_copy=[]\n",
    "for tweet in tweets:\n",
    "    tweets_copy.append(tweet)\n",
    "    print(\"Total Tweets fetched: \",len(tweets_copy))"
   ],
   "outputs": [
    {
     "output_type": "stream",
     "name": "stdout",
     "text": [
      "Total Tweets fetched:  1\n",
      "Total Tweets fetched:  2\n",
      "Total Tweets fetched:  3\n",
      "Total Tweets fetched:  4\n",
      "Total Tweets fetched:  5\n",
      "Total Tweets fetched:  6\n",
      "Total Tweets fetched:  7\n",
      "Total Tweets fetched:  8\n",
      "Total Tweets fetched:  9\n",
      "Total Tweets fetched:  10\n",
      "Total Tweets fetched:  11\n",
      "Total Tweets fetched:  12\n",
      "Total Tweets fetched:  13\n",
      "Total Tweets fetched:  14\n",
      "Total Tweets fetched:  15\n",
      "Total Tweets fetched:  16\n",
      "Total Tweets fetched:  17\n",
      "Total Tweets fetched:  18\n",
      "Total Tweets fetched:  19\n",
      "Total Tweets fetched:  20\n",
      "Total Tweets fetched:  21\n",
      "Total Tweets fetched:  22\n",
      "Total Tweets fetched:  23\n",
      "Total Tweets fetched:  24\n",
      "Total Tweets fetched:  25\n",
      "Total Tweets fetched:  26\n",
      "Total Tweets fetched:  27\n",
      "Total Tweets fetched:  28\n",
      "Total Tweets fetched:  29\n",
      "Total Tweets fetched:  30\n",
      "Total Tweets fetched:  31\n",
      "Total Tweets fetched:  32\n",
      "Total Tweets fetched:  33\n",
      "Total Tweets fetched:  34\n",
      "Total Tweets fetched:  35\n",
      "Total Tweets fetched:  36\n",
      "Total Tweets fetched:  37\n",
      "Total Tweets fetched:  38\n",
      "Total Tweets fetched:  39\n",
      "Total Tweets fetched:  40\n",
      "Total Tweets fetched:  41\n",
      "Total Tweets fetched:  42\n",
      "Total Tweets fetched:  43\n",
      "Total Tweets fetched:  44\n",
      "Total Tweets fetched:  45\n",
      "Total Tweets fetched:  46\n",
      "Total Tweets fetched:  47\n",
      "Total Tweets fetched:  48\n",
      "Total Tweets fetched:  49\n",
      "Total Tweets fetched:  50\n",
      "Total Tweets fetched:  51\n",
      "Total Tweets fetched:  52\n",
      "Total Tweets fetched:  53\n",
      "Total Tweets fetched:  54\n",
      "Total Tweets fetched:  55\n",
      "Total Tweets fetched:  56\n",
      "Total Tweets fetched:  57\n",
      "Total Tweets fetched:  58\n",
      "Total Tweets fetched:  59\n",
      "Total Tweets fetched:  60\n",
      "Total Tweets fetched:  61\n",
      "Total Tweets fetched:  62\n",
      "Total Tweets fetched:  63\n",
      "Total Tweets fetched:  64\n",
      "Total Tweets fetched:  65\n",
      "Total Tweets fetched:  66\n",
      "Total Tweets fetched:  67\n",
      "Total Tweets fetched:  68\n",
      "Total Tweets fetched:  69\n",
      "Total Tweets fetched:  70\n",
      "Total Tweets fetched:  71\n",
      "Total Tweets fetched:  72\n",
      "Total Tweets fetched:  73\n",
      "Total Tweets fetched:  74\n",
      "Total Tweets fetched:  75\n",
      "Total Tweets fetched:  76\n",
      "Total Tweets fetched:  77\n",
      "Total Tweets fetched:  78\n",
      "Total Tweets fetched:  79\n",
      "Total Tweets fetched:  80\n",
      "Total Tweets fetched:  81\n",
      "Total Tweets fetched:  82\n",
      "Total Tweets fetched:  83\n",
      "Total Tweets fetched:  84\n",
      "Total Tweets fetched:  85\n",
      "Total Tweets fetched:  86\n",
      "Total Tweets fetched:  87\n",
      "Total Tweets fetched:  88\n",
      "Total Tweets fetched:  89\n",
      "Total Tweets fetched:  90\n",
      "Total Tweets fetched:  91\n",
      "Total Tweets fetched:  92\n",
      "Total Tweets fetched:  93\n",
      "Total Tweets fetched:  94\n",
      "Total Tweets fetched:  95\n",
      "Total Tweets fetched:  96\n",
      "Total Tweets fetched:  97\n",
      "Total Tweets fetched:  98\n",
      "Total Tweets fetched:  99\n",
      "Total Tweets fetched:  100\n"
     ]
    }
   ],
   "metadata": {}
  },
  {
   "cell_type": "code",
   "execution_count": 49,
   "source": [
    "print(tweets_copy[0])"
   ],
   "outputs": [
    {
     "output_type": "stream",
     "name": "stdout",
     "text": [
      "Status(_api=<tweepy.api.API object at 0x7ff43ca1f070>, _json={'created_at': 'Tue Feb 08 17:39:33 +0000 2022', 'id': 1491104426849103872, 'id_str': '1491104426849103872', 'text': '$PROG \\n@progenity\\n\\n #prog #progenity #StockMarket #stocks #healthcare #biotech #bullish #bulls #prognation… https://t.co/R7A7giBiHl', 'truncated': True, 'entities': {'hashtags': [{'text': 'prog', 'indices': [20, 25]}, {'text': 'progenity', 'indices': [26, 36]}, {'text': 'StockMarket', 'indices': [37, 49]}, {'text': 'stocks', 'indices': [50, 57]}, {'text': 'healthcare', 'indices': [58, 69]}, {'text': 'biotech', 'indices': [70, 78]}, {'text': 'bullish', 'indices': [79, 87]}, {'text': 'bulls', 'indices': [88, 94]}, {'text': 'prognation', 'indices': [95, 106]}], 'symbols': [{'text': 'PROG', 'indices': [0, 5]}], 'user_mentions': [{'screen_name': 'progenity', 'name': 'progenity', 'id': 1210633550, 'id_str': '1210633550', 'indices': [7, 17]}], 'urls': [{'url': 'https://t.co/R7A7giBiHl', 'expanded_url': 'https://twitter.com/i/web/status/1491104426849103872', 'display_url': 'twitter.com/i/web/status/1…', 'indices': [108, 131]}]}, 'metadata': {'iso_language_code': 'en', 'result_type': 'recent'}, 'source': '<a href=\"https://mobile.twitter.com\" rel=\"nofollow\">Twitter Web App</a>', 'in_reply_to_status_id': None, 'in_reply_to_status_id_str': None, 'in_reply_to_user_id': None, 'in_reply_to_user_id_str': None, 'in_reply_to_screen_name': None, 'user': {'id': 443716354, 'id_str': '443716354', 'name': 'Ramsey Spigot', 'screen_name': 'RamseySpigot', 'location': 'Maryland, USA', 'description': '', 'url': None, 'entities': {'description': {'urls': []}}, 'protected': False, 'followers_count': 49, 'friends_count': 137, 'listed_count': 0, 'created_at': 'Thu Dec 22 13:21:54 +0000 2011', 'favourites_count': 133, 'utc_offset': None, 'time_zone': None, 'geo_enabled': False, 'verified': False, 'statuses_count': 1088, 'lang': None, 'contributors_enabled': False, 'is_translator': False, 'is_translation_enabled': False, 'profile_background_color': '000000', 'profile_background_image_url': 'http://abs.twimg.com/images/themes/theme1/bg.png', 'profile_background_image_url_https': 'https://abs.twimg.com/images/themes/theme1/bg.png', 'profile_background_tile': False, 'profile_image_url': 'http://pbs.twimg.com/profile_images/668988015130206208/bT9NI4VS_normal.jpg', 'profile_image_url_https': 'https://pbs.twimg.com/profile_images/668988015130206208/bT9NI4VS_normal.jpg', 'profile_link_color': '4A913C', 'profile_sidebar_border_color': '000000', 'profile_sidebar_fill_color': '000000', 'profile_text_color': '000000', 'profile_use_background_image': False, 'has_extended_profile': False, 'default_profile': False, 'default_profile_image': False, 'following': False, 'follow_request_sent': False, 'notifications': False, 'translator_type': 'none', 'withheld_in_countries': []}, 'geo': None, 'coordinates': None, 'place': None, 'contributors': None, 'is_quote_status': False, 'retweet_count': 0, 'favorite_count': 0, 'favorited': False, 'retweeted': False, 'possibly_sensitive': False, 'lang': 'en'}, created_at=datetime.datetime(2022, 2, 8, 17, 39, 33, tzinfo=datetime.timezone.utc), id=1491104426849103872, id_str='1491104426849103872', text='$PROG \\n@progenity\\n\\n #prog #progenity #StockMarket #stocks #healthcare #biotech #bullish #bulls #prognation… https://t.co/R7A7giBiHl', truncated=True, entities={'hashtags': [{'text': 'prog', 'indices': [20, 25]}, {'text': 'progenity', 'indices': [26, 36]}, {'text': 'StockMarket', 'indices': [37, 49]}, {'text': 'stocks', 'indices': [50, 57]}, {'text': 'healthcare', 'indices': [58, 69]}, {'text': 'biotech', 'indices': [70, 78]}, {'text': 'bullish', 'indices': [79, 87]}, {'text': 'bulls', 'indices': [88, 94]}, {'text': 'prognation', 'indices': [95, 106]}], 'symbols': [{'text': 'PROG', 'indices': [0, 5]}], 'user_mentions': [{'screen_name': 'progenity', 'name': 'progenity', 'id': 1210633550, 'id_str': '1210633550', 'indices': [7, 17]}], 'urls': [{'url': 'https://t.co/R7A7giBiHl', 'expanded_url': 'https://twitter.com/i/web/status/1491104426849103872', 'display_url': 'twitter.com/i/web/status/1…', 'indices': [108, 131]}]}, metadata={'iso_language_code': 'en', 'result_type': 'recent'}, source='Twitter Web App', source_url='https://mobile.twitter.com', in_reply_to_status_id=None, in_reply_to_status_id_str=None, in_reply_to_user_id=None, in_reply_to_user_id_str=None, in_reply_to_screen_name=None, author=User(_api=<tweepy.api.API object at 0x7ff43ca1f070>, _json={'id': 443716354, 'id_str': '443716354', 'name': 'Ramsey Spigot', 'screen_name': 'RamseySpigot', 'location': 'Maryland, USA', 'description': '', 'url': None, 'entities': {'description': {'urls': []}}, 'protected': False, 'followers_count': 49, 'friends_count': 137, 'listed_count': 0, 'created_at': 'Thu Dec 22 13:21:54 +0000 2011', 'favourites_count': 133, 'utc_offset': None, 'time_zone': None, 'geo_enabled': False, 'verified': False, 'statuses_count': 1088, 'lang': None, 'contributors_enabled': False, 'is_translator': False, 'is_translation_enabled': False, 'profile_background_color': '000000', 'profile_background_image_url': 'http://abs.twimg.com/images/themes/theme1/bg.png', 'profile_background_image_url_https': 'https://abs.twimg.com/images/themes/theme1/bg.png', 'profile_background_tile': False, 'profile_image_url': 'http://pbs.twimg.com/profile_images/668988015130206208/bT9NI4VS_normal.jpg', 'profile_image_url_https': 'https://pbs.twimg.com/profile_images/668988015130206208/bT9NI4VS_normal.jpg', 'profile_link_color': '4A913C', 'profile_sidebar_border_color': '000000', 'profile_sidebar_fill_color': '000000', 'profile_text_color': '000000', 'profile_use_background_image': False, 'has_extended_profile': False, 'default_profile': False, 'default_profile_image': False, 'following': False, 'follow_request_sent': False, 'notifications': False, 'translator_type': 'none', 'withheld_in_countries': []}, id=443716354, id_str='443716354', name='Ramsey Spigot', screen_name='RamseySpigot', location='Maryland, USA', description='', url=None, entities={'description': {'urls': []}}, protected=False, followers_count=49, friends_count=137, listed_count=0, created_at=datetime.datetime(2011, 12, 22, 13, 21, 54, tzinfo=datetime.timezone.utc), favourites_count=133, utc_offset=None, time_zone=None, geo_enabled=False, verified=False, statuses_count=1088, lang=None, contributors_enabled=False, is_translator=False, is_translation_enabled=False, profile_background_color='000000', profile_background_image_url='http://abs.twimg.com/images/themes/theme1/bg.png', profile_background_image_url_https='https://abs.twimg.com/images/themes/theme1/bg.png', profile_background_tile=False, profile_image_url='http://pbs.twimg.com/profile_images/668988015130206208/bT9NI4VS_normal.jpg', profile_image_url_https='https://pbs.twimg.com/profile_images/668988015130206208/bT9NI4VS_normal.jpg', profile_link_color='4A913C', profile_sidebar_border_color='000000', profile_sidebar_fill_color='000000', profile_text_color='000000', profile_use_background_image=False, has_extended_profile=False, default_profile=False, default_profile_image=False, following=False, follow_request_sent=False, notifications=False, translator_type='none', withheld_in_countries=[]), user=User(_api=<tweepy.api.API object at 0x7ff43ca1f070>, _json={'id': 443716354, 'id_str': '443716354', 'name': 'Ramsey Spigot', 'screen_name': 'RamseySpigot', 'location': 'Maryland, USA', 'description': '', 'url': None, 'entities': {'description': {'urls': []}}, 'protected': False, 'followers_count': 49, 'friends_count': 137, 'listed_count': 0, 'created_at': 'Thu Dec 22 13:21:54 +0000 2011', 'favourites_count': 133, 'utc_offset': None, 'time_zone': None, 'geo_enabled': False, 'verified': False, 'statuses_count': 1088, 'lang': None, 'contributors_enabled': False, 'is_translator': False, 'is_translation_enabled': False, 'profile_background_color': '000000', 'profile_background_image_url': 'http://abs.twimg.com/images/themes/theme1/bg.png', 'profile_background_image_url_https': 'https://abs.twimg.com/images/themes/theme1/bg.png', 'profile_background_tile': False, 'profile_image_url': 'http://pbs.twimg.com/profile_images/668988015130206208/bT9NI4VS_normal.jpg', 'profile_image_url_https': 'https://pbs.twimg.com/profile_images/668988015130206208/bT9NI4VS_normal.jpg', 'profile_link_color': '4A913C', 'profile_sidebar_border_color': '000000', 'profile_sidebar_fill_color': '000000', 'profile_text_color': '000000', 'profile_use_background_image': False, 'has_extended_profile': False, 'default_profile': False, 'default_profile_image': False, 'following': False, 'follow_request_sent': False, 'notifications': False, 'translator_type': 'none', 'withheld_in_countries': []}, id=443716354, id_str='443716354', name='Ramsey Spigot', screen_name='RamseySpigot', location='Maryland, USA', description='', url=None, entities={'description': {'urls': []}}, protected=False, followers_count=49, friends_count=137, listed_count=0, created_at=datetime.datetime(2011, 12, 22, 13, 21, 54, tzinfo=datetime.timezone.utc), favourites_count=133, utc_offset=None, time_zone=None, geo_enabled=False, verified=False, statuses_count=1088, lang=None, contributors_enabled=False, is_translator=False, is_translation_enabled=False, profile_background_color='000000', profile_background_image_url='http://abs.twimg.com/images/themes/theme1/bg.png', profile_background_image_url_https='https://abs.twimg.com/images/themes/theme1/bg.png', profile_background_tile=False, profile_image_url='http://pbs.twimg.com/profile_images/668988015130206208/bT9NI4VS_normal.jpg', profile_image_url_https='https://pbs.twimg.com/profile_images/668988015130206208/bT9NI4VS_normal.jpg', profile_link_color='4A913C', profile_sidebar_border_color='000000', profile_sidebar_fill_color='000000', profile_text_color='000000', profile_use_background_image=False, has_extended_profile=False, default_profile=False, default_profile_image=False, following=False, follow_request_sent=False, notifications=False, translator_type='none', withheld_in_countries=[]), geo=None, coordinates=None, place=None, contributors=None, is_quote_status=False, retweet_count=0, favorite_count=0, favorited=False, retweeted=False, possibly_sensitive=False, lang='en')\n"
     ]
    }
   ],
   "metadata": {}
  },
  {
   "cell_type": "code",
   "execution_count": null,
   "source": [],
   "outputs": [],
   "metadata": {}
  }
 ],
 "metadata": {
  "orig_nbformat": 4,
  "language_info": {
   "name": "python",
   "version": "3.9.7",
   "mimetype": "text/x-python",
   "codemirror_mode": {
    "name": "ipython",
    "version": 3
   },
   "pygments_lexer": "ipython3",
   "nbconvert_exporter": "python",
   "file_extension": ".py"
  },
  "kernelspec": {
   "name": "python3",
   "display_name": "Python 3.9.7 64-bit ('base': conda)"
  },
  "interpreter": {
   "hash": "dca0ade3e726a953b501b15e8e990130d2b7799f14cfd9f4271676035ebe5511"
  }
 },
 "nbformat": 4,
 "nbformat_minor": 2
}