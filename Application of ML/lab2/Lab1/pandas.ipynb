{
 "cells": [
  {
   "cell_type": "markdown",
   "source": [
    "# PANDAS"
   ],
   "metadata": {}
  },
  {
   "cell_type": "markdown",
   "source": [
    "Fast analysis\n",
    "\n",
    "has Built in visualization"
   ],
   "metadata": {}
  },
  {
   "cell_type": "code",
   "execution_count": 2,
   "source": [
    "import numpy as np\n",
    "import pandas as pd"
   ],
   "outputs": [],
   "metadata": {}
  },
  {
   "cell_type": "code",
   "execution_count": 7,
   "source": [
    "label=['a','b','c']\n",
    "my_data=[10,20,30]\n",
    "arr=np.array(my_data)\n",
    "d={'a':10,'b':20,'c':30}"
   ],
   "outputs": [],
   "metadata": {}
  },
  {
   "cell_type": "code",
   "execution_count": 8,
   "source": [
    "pd.Series(data=my_data)"
   ],
   "outputs": [
    {
     "output_type": "execute_result",
     "data": {
      "text/plain": [
       "0    10\n",
       "1    20\n",
       "2    30\n",
       "dtype: int64"
      ]
     },
     "metadata": {},
     "execution_count": 8
    }
   ],
   "metadata": {}
  },
  {
   "cell_type": "code",
   "execution_count": 9,
   "source": [
    "pd.Series(data=my_data,index=label)"
   ],
   "outputs": [
    {
     "output_type": "execute_result",
     "data": {
      "text/plain": [
       "a    10\n",
       "b    20\n",
       "c    30\n",
       "dtype: int64"
      ]
     },
     "metadata": {},
     "execution_count": 9
    }
   ],
   "metadata": {}
  },
  {
   "cell_type": "code",
   "execution_count": 10,
   "source": [
    "arr"
   ],
   "outputs": [
    {
     "output_type": "execute_result",
     "data": {
      "text/plain": [
       "array([10, 20, 30])"
      ]
     },
     "metadata": {},
     "execution_count": 10
    }
   ],
   "metadata": {}
  },
  {
   "cell_type": "markdown",
   "source": [
    "Unlike Numpy array, here we have Index that are labelled, meaning we can call using the labelled index"
   ],
   "metadata": {}
  },
  {
   "cell_type": "code",
   "execution_count": 13,
   "source": [
    "pd.Series(my_data,label)"
   ],
   "outputs": [
    {
     "output_type": "execute_result",
     "data": {
      "text/plain": [
       "a    10\n",
       "b    20\n",
       "c    30\n",
       "dtype: int64"
      ]
     },
     "metadata": {},
     "execution_count": 13
    }
   ],
   "metadata": {}
  },
  {
   "cell_type": "code",
   "execution_count": 14,
   "source": [
    "ser1= pd.Series([1,2,3,4],['usa','germany','india','japan'])\n",
    "ser1"
   ],
   "outputs": [
    {
     "output_type": "execute_result",
     "data": {
      "text/plain": [
       "usa        1\n",
       "germany    2\n",
       "india      3\n",
       "japan      4\n",
       "dtype: int64"
      ]
     },
     "metadata": {},
     "execution_count": 14
    }
   ],
   "metadata": {}
  },
  {
   "cell_type": "markdown",
   "source": [
    "# DATA FRAMES¶"
   ],
   "metadata": {}
  },
  {
   "cell_type": "code",
   "execution_count": 15,
   "source": [
    "from numpy.random import randn"
   ],
   "outputs": [],
   "metadata": {}
  },
  {
   "cell_type": "code",
   "execution_count": 16,
   "source": [
    "df=pd.DataFrame(randn(5,4),['A','B','C','D','E'],['W','X','Y','Z'])\n",
    "df"
   ],
   "outputs": [
    {
     "output_type": "execute_result",
     "data": {
      "text/plain": [
       "          W         X         Y         Z\n",
       "A -0.086392  0.594214 -0.990826  0.784196\n",
       "B  1.940513  1.585467  3.301833 -0.095371\n",
       "C  0.266096  0.620933  0.335631 -0.208738\n",
       "D  1.730186  0.893721 -0.463259 -1.906899\n",
       "E -1.780593  0.290898  0.870754  0.988878"
      ],
      "text/html": [
       "<div>\n",
       "<style scoped>\n",
       "    .dataframe tbody tr th:only-of-type {\n",
       "        vertical-align: middle;\n",
       "    }\n",
       "\n",
       "    .dataframe tbody tr th {\n",
       "        vertical-align: top;\n",
       "    }\n",
       "\n",
       "    .dataframe thead th {\n",
       "        text-align: right;\n",
       "    }\n",
       "</style>\n",
       "<table border=\"1\" class=\"dataframe\">\n",
       "  <thead>\n",
       "    <tr style=\"text-align: right;\">\n",
       "      <th></th>\n",
       "      <th>W</th>\n",
       "      <th>X</th>\n",
       "      <th>Y</th>\n",
       "      <th>Z</th>\n",
       "    </tr>\n",
       "  </thead>\n",
       "  <tbody>\n",
       "    <tr>\n",
       "      <th>A</th>\n",
       "      <td>-0.086392</td>\n",
       "      <td>0.594214</td>\n",
       "      <td>-0.990826</td>\n",
       "      <td>0.784196</td>\n",
       "    </tr>\n",
       "    <tr>\n",
       "      <th>B</th>\n",
       "      <td>1.940513</td>\n",
       "      <td>1.585467</td>\n",
       "      <td>3.301833</td>\n",
       "      <td>-0.095371</td>\n",
       "    </tr>\n",
       "    <tr>\n",
       "      <th>C</th>\n",
       "      <td>0.266096</td>\n",
       "      <td>0.620933</td>\n",
       "      <td>0.335631</td>\n",
       "      <td>-0.208738</td>\n",
       "    </tr>\n",
       "    <tr>\n",
       "      <th>D</th>\n",
       "      <td>1.730186</td>\n",
       "      <td>0.893721</td>\n",
       "      <td>-0.463259</td>\n",
       "      <td>-1.906899</td>\n",
       "    </tr>\n",
       "    <tr>\n",
       "      <th>E</th>\n",
       "      <td>-1.780593</td>\n",
       "      <td>0.290898</td>\n",
       "      <td>0.870754</td>\n",
       "      <td>0.988878</td>\n",
       "    </tr>\n",
       "  </tbody>\n",
       "</table>\n",
       "</div>"
      ]
     },
     "metadata": {},
     "execution_count": 16
    }
   ],
   "metadata": {}
  },
  {
   "cell_type": "code",
   "execution_count": 17,
   "source": [
    "df['W']"
   ],
   "outputs": [
    {
     "output_type": "execute_result",
     "data": {
      "text/plain": [
       "A   -0.086392\n",
       "B    1.940513\n",
       "C    0.266096\n",
       "D    1.730186\n",
       "E   -1.780593\n",
       "Name: W, dtype: float64"
      ]
     },
     "metadata": {},
     "execution_count": 17
    }
   ],
   "metadata": {}
  },
  {
   "cell_type": "code",
   "execution_count": 18,
   "source": [
    "#alt way of grabbing a col\n",
    "df.W"
   ],
   "outputs": [
    {
     "output_type": "execute_result",
     "data": {
      "text/plain": [
       "A   -0.086392\n",
       "B    1.940513\n",
       "C    0.266096\n",
       "D    1.730186\n",
       "E   -1.780593\n",
       "Name: W, dtype: float64"
      ]
     },
     "metadata": {},
     "execution_count": 18
    }
   ],
   "metadata": {}
  },
  {
   "cell_type": "code",
   "execution_count": 19,
   "source": [
    "#for grabbing multiple col\n",
    "df[['W','Z','X']]"
   ],
   "outputs": [
    {
     "output_type": "execute_result",
     "data": {
      "text/plain": [
       "          W         Z         X\n",
       "A -0.086392  0.784196  0.594214\n",
       "B  1.940513 -0.095371  1.585467\n",
       "C  0.266096 -0.208738  0.620933\n",
       "D  1.730186 -1.906899  0.893721\n",
       "E -1.780593  0.988878  0.290898"
      ],
      "text/html": [
       "<div>\n",
       "<style scoped>\n",
       "    .dataframe tbody tr th:only-of-type {\n",
       "        vertical-align: middle;\n",
       "    }\n",
       "\n",
       "    .dataframe tbody tr th {\n",
       "        vertical-align: top;\n",
       "    }\n",
       "\n",
       "    .dataframe thead th {\n",
       "        text-align: right;\n",
       "    }\n",
       "</style>\n",
       "<table border=\"1\" class=\"dataframe\">\n",
       "  <thead>\n",
       "    <tr style=\"text-align: right;\">\n",
       "      <th></th>\n",
       "      <th>W</th>\n",
       "      <th>Z</th>\n",
       "      <th>X</th>\n",
       "    </tr>\n",
       "  </thead>\n",
       "  <tbody>\n",
       "    <tr>\n",
       "      <th>A</th>\n",
       "      <td>-0.086392</td>\n",
       "      <td>0.784196</td>\n",
       "      <td>0.594214</td>\n",
       "    </tr>\n",
       "    <tr>\n",
       "      <th>B</th>\n",
       "      <td>1.940513</td>\n",
       "      <td>-0.095371</td>\n",
       "      <td>1.585467</td>\n",
       "    </tr>\n",
       "    <tr>\n",
       "      <th>C</th>\n",
       "      <td>0.266096</td>\n",
       "      <td>-0.208738</td>\n",
       "      <td>0.620933</td>\n",
       "    </tr>\n",
       "    <tr>\n",
       "      <th>D</th>\n",
       "      <td>1.730186</td>\n",
       "      <td>-1.906899</td>\n",
       "      <td>0.893721</td>\n",
       "    </tr>\n",
       "    <tr>\n",
       "      <th>E</th>\n",
       "      <td>-1.780593</td>\n",
       "      <td>0.988878</td>\n",
       "      <td>0.290898</td>\n",
       "    </tr>\n",
       "  </tbody>\n",
       "</table>\n",
       "</div>"
      ]
     },
     "metadata": {},
     "execution_count": 19
    }
   ],
   "metadata": {}
  },
  {
   "cell_type": "code",
   "execution_count": 20,
   "source": [
    "#Creating a new col\n",
    "df['new']=df['W']"
   ],
   "outputs": [],
   "metadata": {}
  },
  {
   "cell_type": "code",
   "execution_count": 21,
   "source": [
    "df"
   ],
   "outputs": [
    {
     "output_type": "execute_result",
     "data": {
      "text/plain": [
       "          W         X         Y         Z       new\n",
       "A -0.086392  0.594214 -0.990826  0.784196 -0.086392\n",
       "B  1.940513  1.585467  3.301833 -0.095371  1.940513\n",
       "C  0.266096  0.620933  0.335631 -0.208738  0.266096\n",
       "D  1.730186  0.893721 -0.463259 -1.906899  1.730186\n",
       "E -1.780593  0.290898  0.870754  0.988878 -1.780593"
      ],
      "text/html": [
       "<div>\n",
       "<style scoped>\n",
       "    .dataframe tbody tr th:only-of-type {\n",
       "        vertical-align: middle;\n",
       "    }\n",
       "\n",
       "    .dataframe tbody tr th {\n",
       "        vertical-align: top;\n",
       "    }\n",
       "\n",
       "    .dataframe thead th {\n",
       "        text-align: right;\n",
       "    }\n",
       "</style>\n",
       "<table border=\"1\" class=\"dataframe\">\n",
       "  <thead>\n",
       "    <tr style=\"text-align: right;\">\n",
       "      <th></th>\n",
       "      <th>W</th>\n",
       "      <th>X</th>\n",
       "      <th>Y</th>\n",
       "      <th>Z</th>\n",
       "      <th>new</th>\n",
       "    </tr>\n",
       "  </thead>\n",
       "  <tbody>\n",
       "    <tr>\n",
       "      <th>A</th>\n",
       "      <td>-0.086392</td>\n",
       "      <td>0.594214</td>\n",
       "      <td>-0.990826</td>\n",
       "      <td>0.784196</td>\n",
       "      <td>-0.086392</td>\n",
       "    </tr>\n",
       "    <tr>\n",
       "      <th>B</th>\n",
       "      <td>1.940513</td>\n",
       "      <td>1.585467</td>\n",
       "      <td>3.301833</td>\n",
       "      <td>-0.095371</td>\n",
       "      <td>1.940513</td>\n",
       "    </tr>\n",
       "    <tr>\n",
       "      <th>C</th>\n",
       "      <td>0.266096</td>\n",
       "      <td>0.620933</td>\n",
       "      <td>0.335631</td>\n",
       "      <td>-0.208738</td>\n",
       "      <td>0.266096</td>\n",
       "    </tr>\n",
       "    <tr>\n",
       "      <th>D</th>\n",
       "      <td>1.730186</td>\n",
       "      <td>0.893721</td>\n",
       "      <td>-0.463259</td>\n",
       "      <td>-1.906899</td>\n",
       "      <td>1.730186</td>\n",
       "    </tr>\n",
       "    <tr>\n",
       "      <th>E</th>\n",
       "      <td>-1.780593</td>\n",
       "      <td>0.290898</td>\n",
       "      <td>0.870754</td>\n",
       "      <td>0.988878</td>\n",
       "      <td>-1.780593</td>\n",
       "    </tr>\n",
       "  </tbody>\n",
       "</table>\n",
       "</div>"
      ]
     },
     "metadata": {},
     "execution_count": 21
    }
   ],
   "metadata": {}
  },
  {
   "cell_type": "code",
   "execution_count": 22,
   "source": [
    "#dropping a col!!\n",
    "#we will have to axis it through the row, axis by default is 0, but we will have to keep it 1\n",
    "df.drop('new',axis=1)"
   ],
   "outputs": [
    {
     "output_type": "execute_result",
     "data": {
      "text/plain": [
       "          W         X         Y         Z\n",
       "A -0.086392  0.594214 -0.990826  0.784196\n",
       "B  1.940513  1.585467  3.301833 -0.095371\n",
       "C  0.266096  0.620933  0.335631 -0.208738\n",
       "D  1.730186  0.893721 -0.463259 -1.906899\n",
       "E -1.780593  0.290898  0.870754  0.988878"
      ],
      "text/html": [
       "<div>\n",
       "<style scoped>\n",
       "    .dataframe tbody tr th:only-of-type {\n",
       "        vertical-align: middle;\n",
       "    }\n",
       "\n",
       "    .dataframe tbody tr th {\n",
       "        vertical-align: top;\n",
       "    }\n",
       "\n",
       "    .dataframe thead th {\n",
       "        text-align: right;\n",
       "    }\n",
       "</style>\n",
       "<table border=\"1\" class=\"dataframe\">\n",
       "  <thead>\n",
       "    <tr style=\"text-align: right;\">\n",
       "      <th></th>\n",
       "      <th>W</th>\n",
       "      <th>X</th>\n",
       "      <th>Y</th>\n",
       "      <th>Z</th>\n",
       "    </tr>\n",
       "  </thead>\n",
       "  <tbody>\n",
       "    <tr>\n",
       "      <th>A</th>\n",
       "      <td>-0.086392</td>\n",
       "      <td>0.594214</td>\n",
       "      <td>-0.990826</td>\n",
       "      <td>0.784196</td>\n",
       "    </tr>\n",
       "    <tr>\n",
       "      <th>B</th>\n",
       "      <td>1.940513</td>\n",
       "      <td>1.585467</td>\n",
       "      <td>3.301833</td>\n",
       "      <td>-0.095371</td>\n",
       "    </tr>\n",
       "    <tr>\n",
       "      <th>C</th>\n",
       "      <td>0.266096</td>\n",
       "      <td>0.620933</td>\n",
       "      <td>0.335631</td>\n",
       "      <td>-0.208738</td>\n",
       "    </tr>\n",
       "    <tr>\n",
       "      <th>D</th>\n",
       "      <td>1.730186</td>\n",
       "      <td>0.893721</td>\n",
       "      <td>-0.463259</td>\n",
       "      <td>-1.906899</td>\n",
       "    </tr>\n",
       "    <tr>\n",
       "      <th>E</th>\n",
       "      <td>-1.780593</td>\n",
       "      <td>0.290898</td>\n",
       "      <td>0.870754</td>\n",
       "      <td>0.988878</td>\n",
       "    </tr>\n",
       "  </tbody>\n",
       "</table>\n",
       "</div>"
      ]
     },
     "metadata": {},
     "execution_count": 22
    }
   ],
   "metadata": {}
  },
  {
   "cell_type": "code",
   "execution_count": 23,
   "source": [
    "df\n",
    "#but we will still have this col"
   ],
   "outputs": [
    {
     "output_type": "execute_result",
     "data": {
      "text/plain": [
       "          W         X         Y         Z       new\n",
       "A -0.086392  0.594214 -0.990826  0.784196 -0.086392\n",
       "B  1.940513  1.585467  3.301833 -0.095371  1.940513\n",
       "C  0.266096  0.620933  0.335631 -0.208738  0.266096\n",
       "D  1.730186  0.893721 -0.463259 -1.906899  1.730186\n",
       "E -1.780593  0.290898  0.870754  0.988878 -1.780593"
      ],
      "text/html": [
       "<div>\n",
       "<style scoped>\n",
       "    .dataframe tbody tr th:only-of-type {\n",
       "        vertical-align: middle;\n",
       "    }\n",
       "\n",
       "    .dataframe tbody tr th {\n",
       "        vertical-align: top;\n",
       "    }\n",
       "\n",
       "    .dataframe thead th {\n",
       "        text-align: right;\n",
       "    }\n",
       "</style>\n",
       "<table border=\"1\" class=\"dataframe\">\n",
       "  <thead>\n",
       "    <tr style=\"text-align: right;\">\n",
       "      <th></th>\n",
       "      <th>W</th>\n",
       "      <th>X</th>\n",
       "      <th>Y</th>\n",
       "      <th>Z</th>\n",
       "      <th>new</th>\n",
       "    </tr>\n",
       "  </thead>\n",
       "  <tbody>\n",
       "    <tr>\n",
       "      <th>A</th>\n",
       "      <td>-0.086392</td>\n",
       "      <td>0.594214</td>\n",
       "      <td>-0.990826</td>\n",
       "      <td>0.784196</td>\n",
       "      <td>-0.086392</td>\n",
       "    </tr>\n",
       "    <tr>\n",
       "      <th>B</th>\n",
       "      <td>1.940513</td>\n",
       "      <td>1.585467</td>\n",
       "      <td>3.301833</td>\n",
       "      <td>-0.095371</td>\n",
       "      <td>1.940513</td>\n",
       "    </tr>\n",
       "    <tr>\n",
       "      <th>C</th>\n",
       "      <td>0.266096</td>\n",
       "      <td>0.620933</td>\n",
       "      <td>0.335631</td>\n",
       "      <td>-0.208738</td>\n",
       "      <td>0.266096</td>\n",
       "    </tr>\n",
       "    <tr>\n",
       "      <th>D</th>\n",
       "      <td>1.730186</td>\n",
       "      <td>0.893721</td>\n",
       "      <td>-0.463259</td>\n",
       "      <td>-1.906899</td>\n",
       "      <td>1.730186</td>\n",
       "    </tr>\n",
       "    <tr>\n",
       "      <th>E</th>\n",
       "      <td>-1.780593</td>\n",
       "      <td>0.290898</td>\n",
       "      <td>0.870754</td>\n",
       "      <td>0.988878</td>\n",
       "      <td>-1.780593</td>\n",
       "    </tr>\n",
       "  </tbody>\n",
       "</table>\n",
       "</div>"
      ]
     },
     "metadata": {},
     "execution_count": 23
    }
   ],
   "metadata": {}
  },
  {
   "cell_type": "code",
   "execution_count": 24,
   "source": [
    "#to remove this permenantly, we use Inplace argument, this is done so that we wont accidently lose a data\n",
    "df.drop('new',axis=1,inplace=True)\n",
    "df"
   ],
   "outputs": [
    {
     "output_type": "execute_result",
     "data": {
      "text/plain": [
       "          W         X         Y         Z\n",
       "A -0.086392  0.594214 -0.990826  0.784196\n",
       "B  1.940513  1.585467  3.301833 -0.095371\n",
       "C  0.266096  0.620933  0.335631 -0.208738\n",
       "D  1.730186  0.893721 -0.463259 -1.906899\n",
       "E -1.780593  0.290898  0.870754  0.988878"
      ],
      "text/html": [
       "<div>\n",
       "<style scoped>\n",
       "    .dataframe tbody tr th:only-of-type {\n",
       "        vertical-align: middle;\n",
       "    }\n",
       "\n",
       "    .dataframe tbody tr th {\n",
       "        vertical-align: top;\n",
       "    }\n",
       "\n",
       "    .dataframe thead th {\n",
       "        text-align: right;\n",
       "    }\n",
       "</style>\n",
       "<table border=\"1\" class=\"dataframe\">\n",
       "  <thead>\n",
       "    <tr style=\"text-align: right;\">\n",
       "      <th></th>\n",
       "      <th>W</th>\n",
       "      <th>X</th>\n",
       "      <th>Y</th>\n",
       "      <th>Z</th>\n",
       "    </tr>\n",
       "  </thead>\n",
       "  <tbody>\n",
       "    <tr>\n",
       "      <th>A</th>\n",
       "      <td>-0.086392</td>\n",
       "      <td>0.594214</td>\n",
       "      <td>-0.990826</td>\n",
       "      <td>0.784196</td>\n",
       "    </tr>\n",
       "    <tr>\n",
       "      <th>B</th>\n",
       "      <td>1.940513</td>\n",
       "      <td>1.585467</td>\n",
       "      <td>3.301833</td>\n",
       "      <td>-0.095371</td>\n",
       "    </tr>\n",
       "    <tr>\n",
       "      <th>C</th>\n",
       "      <td>0.266096</td>\n",
       "      <td>0.620933</td>\n",
       "      <td>0.335631</td>\n",
       "      <td>-0.208738</td>\n",
       "    </tr>\n",
       "    <tr>\n",
       "      <th>D</th>\n",
       "      <td>1.730186</td>\n",
       "      <td>0.893721</td>\n",
       "      <td>-0.463259</td>\n",
       "      <td>-1.906899</td>\n",
       "    </tr>\n",
       "    <tr>\n",
       "      <th>E</th>\n",
       "      <td>-1.780593</td>\n",
       "      <td>0.290898</td>\n",
       "      <td>0.870754</td>\n",
       "      <td>0.988878</td>\n",
       "    </tr>\n",
       "  </tbody>\n",
       "</table>\n",
       "</div>"
      ]
     },
     "metadata": {},
     "execution_count": 24
    }
   ],
   "metadata": {}
  },
  {
   "cell_type": "code",
   "execution_count": 25,
   "source": [
    "#for dropping a row!!\n",
    "df.drop('E',inplace=True)\n",
    "df"
   ],
   "outputs": [
    {
     "output_type": "execute_result",
     "data": {
      "text/plain": [
       "          W         X         Y         Z\n",
       "A -0.086392  0.594214 -0.990826  0.784196\n",
       "B  1.940513  1.585467  3.301833 -0.095371\n",
       "C  0.266096  0.620933  0.335631 -0.208738\n",
       "D  1.730186  0.893721 -0.463259 -1.906899"
      ],
      "text/html": [
       "<div>\n",
       "<style scoped>\n",
       "    .dataframe tbody tr th:only-of-type {\n",
       "        vertical-align: middle;\n",
       "    }\n",
       "\n",
       "    .dataframe tbody tr th {\n",
       "        vertical-align: top;\n",
       "    }\n",
       "\n",
       "    .dataframe thead th {\n",
       "        text-align: right;\n",
       "    }\n",
       "</style>\n",
       "<table border=\"1\" class=\"dataframe\">\n",
       "  <thead>\n",
       "    <tr style=\"text-align: right;\">\n",
       "      <th></th>\n",
       "      <th>W</th>\n",
       "      <th>X</th>\n",
       "      <th>Y</th>\n",
       "      <th>Z</th>\n",
       "    </tr>\n",
       "  </thead>\n",
       "  <tbody>\n",
       "    <tr>\n",
       "      <th>A</th>\n",
       "      <td>-0.086392</td>\n",
       "      <td>0.594214</td>\n",
       "      <td>-0.990826</td>\n",
       "      <td>0.784196</td>\n",
       "    </tr>\n",
       "    <tr>\n",
       "      <th>B</th>\n",
       "      <td>1.940513</td>\n",
       "      <td>1.585467</td>\n",
       "      <td>3.301833</td>\n",
       "      <td>-0.095371</td>\n",
       "    </tr>\n",
       "    <tr>\n",
       "      <th>C</th>\n",
       "      <td>0.266096</td>\n",
       "      <td>0.620933</td>\n",
       "      <td>0.335631</td>\n",
       "      <td>-0.208738</td>\n",
       "    </tr>\n",
       "    <tr>\n",
       "      <th>D</th>\n",
       "      <td>1.730186</td>\n",
       "      <td>0.893721</td>\n",
       "      <td>-0.463259</td>\n",
       "      <td>-1.906899</td>\n",
       "    </tr>\n",
       "  </tbody>\n",
       "</table>\n",
       "</div>"
      ]
     },
     "metadata": {},
     "execution_count": 25
    }
   ],
   "metadata": {}
  },
  {
   "cell_type": "code",
   "execution_count": 26,
   "source": [
    "df.shape"
   ],
   "outputs": [
    {
     "output_type": "execute_result",
     "data": {
      "text/plain": [
       "(4, 4)"
      ]
     },
     "metadata": {},
     "execution_count": 26
    }
   ],
   "metadata": {}
  },
  {
   "cell_type": "code",
   "execution_count": null,
   "source": [],
   "outputs": [],
   "metadata": {}
  }
 ],
 "metadata": {
  "orig_nbformat": 4,
  "language_info": {
   "name": "python",
   "version": "3.8.10",
   "mimetype": "text/x-python",
   "codemirror_mode": {
    "name": "ipython",
    "version": 3
   },
   "pygments_lexer": "ipython3",
   "nbconvert_exporter": "python",
   "file_extension": ".py"
  },
  "kernelspec": {
   "name": "python3",
   "display_name": "Python 3.8.10 64-bit ('base': conda)"
  },
  "interpreter": {
   "hash": "c591623d2ecdb9339840be0fbf8d42d377f147dd7921c41681af6db0cadcbc7e"
  }
 },
 "nbformat": 4,
 "nbformat_minor": 2
}